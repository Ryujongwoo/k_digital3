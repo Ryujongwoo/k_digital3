{
 "cells": [
  {
   "cell_type": "code",
   "execution_count": 35,
   "id": "29e7d4dd",
   "metadata": {},
   "outputs": [],
   "source": [
    "import random\n",
    "# 1 ~ 9 사이의 숫자가 채워진 리스트를 만든다.\n",
    "baseball = [i for i in range(1, 10)]\n",
    "# print(baseball)\n",
    "from datetime import datetime as dt"
   ]
  },
  {
   "cell_type": "code",
   "execution_count": 39,
   "id": "8bf2e2ef",
   "metadata": {},
   "outputs": [
    {
     "name": "stdout",
     "output_type": "stream",
     "text": [
      "레벨을 입력하세요(1 ~ 9): 3\n",
      "[3, 5, 1]\n",
      "맞춰봐: 351\n",
      "1번 만에 5.513419초 걸려서 맞췄다.\n"
     ]
    }
   ],
   "source": [
    "# 레벨을 입력받는다.\n",
    "level = int(input('레벨을 입력하세요(1 ~ 9): '))\n",
    "# 입력받은 레벨만큼 baseball 리스트에 저장된 숫자를 섞어서 뽑아낸다.\n",
    "# random.shuffle(baseball)\n",
    "# print(baseball)\n",
    "# cpu = baseball[:level]\n",
    "cpu = random.sample(baseball, level)\n",
    "print(cpu)\n",
    "\n",
    "# 몇 번만에 맞췄나 기억할 변수를 선언하고 0으로 초기화 한다.\n",
    "count = 0\n",
    "# baseball 게임 시작 시간을 저장한다.\n",
    "start = dt.now()\n",
    "# print(start)\n",
    "\n",
    "# ============================================================================================\n",
    "\n",
    "# 몇 번 만에 맞출지 모르기 때문에 무한 루프를 돌려서 처리한다.\n",
    "while True:\n",
    "    # 새 반복이 시작될 때 마다 스트라이크 개수와 볼의 개수를 세는 변수를 0으로 초기화 한다.\n",
    "    # 초기화 시키지 않으면 이전 반복의 스트라이크 개수와 볼의 개수가 현재 반복의 스트라이크, 볼의 개수에 누적된다.\n",
    "    s = 0 # 스트라이크 개수\n",
    "    b = 0 # 볼의 개수\n",
    "    # 컴퓨터가 랜덤하게 발생시킨 숨겨놓은 숫자를 맞추기 위해 유저에게 입력을 요구한다.\n",
    "    user = input('맞춰봐: ')\n",
    "    # 입력받을 때 마다 몇 번만에 맞췄나 기억하는 변수를 1증가 시킨다.\n",
    "    count += 1\n",
    "    \n",
    "    # 레벨만큼 반복하며 스트라이크와 볼의 개수를 센다.\n",
    "    for i in range(level):\n",
    "        # 스트라이크 => cpu와 user의 같은 인덱스의 데이터가 같은 경우\n",
    "        # cpu와 user의 데이터 타입이 다르기 때문에 str() 또는 int() 함수로 데이터 타입을 일치시켜 비교한다.\n",
    "        # str() 함수는 인수로 지정된 숫자를 문자열로 변환한다.\n",
    "        # chr() 함수는 인수로 지정된 코드값에 해당되는 문자를 리턴한다.\n",
    "        # int() 함수는 인수로 지정된 문자열을 숫자로 변환한다.\n",
    "        if cpu[i] == int(user[i]): # if str(cpu[i]) == user[i]와 같이 조건을 비교해도 된다.\n",
    "            s += 1\n",
    "        # 볼 => user[i] 값이 cpu 리스트에 포함되어 있는 경우\n",
    "        elif int(user[i]) in cpu:\n",
    "            b += 1\n",
    "        # ===== if\n",
    "    # ===== for\n",
    "    \n",
    "    # 스트라이크의 개수와 레벨이 같으면 맞춘것이므로 무한 루프를 탈출한다.\n",
    "    if s == level:\n",
    "        break\n",
    "    # ===== if\n",
    "    # 맞추지 못했으므로 힌트를 출력한다.\n",
    "    print(f'{s} 스트라이크, {b} 볼')\n",
    "# ===== while\n",
    "\n",
    "# baseball 게임 종료 시간을 저장한다.\n",
    "end = dt.now()\n",
    "# print(end)\n",
    "# 맞추는데 걸린 시간을 계산한다.\n",
    "time = end - start\n",
    "print(f'{count}번 만에 {time.total_seconds()}초 걸려서 맞췄다.')"
   ]
  },
  {
   "cell_type": "code",
   "execution_count": 26,
   "id": "a69c2cac",
   "metadata": {},
   "outputs": [
    {
     "name": "stdout",
     "output_type": "stream",
     "text": [
      "5\n",
      "<class 'str'>\n",
      "A\n",
      "5\n",
      "<class 'int'>\n"
     ]
    }
   ],
   "source": [
    "print(str(5))\n",
    "print(type(str(5)))\n",
    "print(chr(65))\n",
    "print(int('5'))\n",
    "print(type(int('5')))"
   ]
  },
  {
   "cell_type": "code",
   "execution_count": 39,
   "id": "6a284f73",
   "metadata": {},
   "outputs": [
    {
     "name": "stdout",
     "output_type": "stream",
     "text": [
      "레벨을 입력하세요(1 ~ 9): 3\n",
      "[3, 5, 1]\n",
      "맞춰봐: 351\n",
      "1번 만에 5.513419초 걸려서 맞췄다.\n"
     ]
    }
   ],
   "source": [
    "level = int(input('레벨을 입력하세요(1 ~ 9): '))\n",
    "cpu = random.sample(baseball, level)\n",
    "print(cpu)\n",
    "\n",
    "count = 0\n",
    "start = dt.now()\n",
    "while True:\n",
    "    s = 0; b = 0\n",
    "    user = input('맞춰봐: ')\n",
    "    count += 1\n",
    "    for i in range(level):\n",
    "        if cpu[i] == int(user[i]):\n",
    "            s += 1\n",
    "        elif int(user[i]) in cpu:\n",
    "            b += 1\n",
    "    # ======\n",
    "    if s == level:\n",
    "        break\n",
    "    print(f'{s} 스트라이크, {b} 볼')\n",
    "# =====\n",
    "\n",
    "end = dt.now()\n",
    "time = end - start\n",
    "print(f'{count}번 만에 {time.total_seconds()}초 걸려서 맞췄다.')"
   ]
  },
  {
   "cell_type": "code",
   "execution_count": null,
   "id": "ee61e766",
   "metadata": {},
   "outputs": [],
   "source": []
  },
  {
   "cell_type": "code",
   "execution_count": null,
   "id": "07bca85d",
   "metadata": {},
   "outputs": [],
   "source": []
  }
 ],
 "metadata": {
  "kernelspec": {
   "display_name": "Python 3",
   "language": "python",
   "name": "python3"
  },
  "language_info": {
   "codemirror_mode": {
    "name": "ipython",
    "version": 3
   },
   "file_extension": ".py",
   "mimetype": "text/x-python",
   "name": "python",
   "nbconvert_exporter": "python",
   "pygments_lexer": "ipython3",
   "version": "3.6.8"
  }
 },
 "nbformat": 4,
 "nbformat_minor": 5
}
