{
 "cells": [
  {
   "cell_type": "code",
   "execution_count": 1,
   "id": "383c0a64",
   "metadata": {},
   "outputs": [],
   "source": [
    "import random"
   ]
  },
  {
   "cell_type": "code",
   "execution_count": 2,
   "id": "4efea0f6",
   "metadata": {},
   "outputs": [],
   "source": [
    "# 카드 출력에 사용할 숫자와 무늬를 기억하는 리스트 또는 튜플을 만든다.\n",
    "number = ['A', '2', '3', '4', '5', '6', '7', '8', '9', '10', 'J', 'Q', 'K']\n",
    "symbol = '♠', '◇', '♥', '♧'"
   ]
  },
  {
   "cell_type": "code",
   "execution_count": 32,
   "id": "764fc641",
   "metadata": {},
   "outputs": [
    {
     "name": "stdout",
     "output_type": "stream",
     "text": [
      "♠A  ♠2  ♠3  ♠4  ♠5  ♠6  ♠7  ♠8  ♠9  ♠10 ♠J  ♠Q  ♠K  \n",
      "◇A  ◇2  ◇3  ◇4  ◇5  ◇6  ◇7  ◇8  ◇9  ◇10 ◇J  ◇Q  ◇K  \n",
      "♥A  ♥2  ♥3  ♥4  ♥5  ♥6  ♥7  ♥8  ♥9  ♥10 ♥J  ♥Q  ♥K  \n",
      "♧A  ♧2  ♧3  ♧4  ♧5  ♧6  ♧7  ♧8  ♧9  ♧10 ♧J  ♧Q  ♧K  \n",
      "============================================================ 섞기전\n",
      "♠10 ♧5  ♧A  ◇Q  ♠A  ◇6  ♥2  ♧J  ♧Q  ◇2  ♥9  ◇5  ♧4  \n",
      "♠6  ♥5  ♠2  ◇7  ♥Q  ♧7  ♠J  ◇9  ◇K  ♥10 ♠Q  ◇8  ◇4  \n",
      "♧3  ♧6  ♥3  ♥6  ♠3  ♧K  ♧10 ♠8  ♠9  ♥J  ♥A  ◇3  ♧9  \n",
      "◇A  ♠5  ◇J  ♥7  ♠K  ♠7  ◇10 ♥K  ♧8  ♠4  ♥4  ♥8  ♧2  \n",
      "============================================================ 섞은후\n"
     ]
    }
   ],
   "source": [
    "# 0 ~ 51 사이의 숫자가 채워진 리스트를 만든다.\n",
    "cards = [i for i in range(52)]\n",
    "# print(cards)\n",
    "\n",
    "# 섞기전 상태를 출력한다. => 1줄에 숫자 13개씩 출력한다.\n",
    "for i in range(len(cards)):\n",
    "    # print('{:2d}'.format(cards[i]), end=' ')\n",
    "    # print('{:2s}'.format(number[cards[i] % 13]), end=' ') # 숫자만\n",
    "    # print('{:s}'.format(symbol[cards[i] // 13]), end=' ') # 무늬만\n",
    "    print('{:s}{:2s}'.format(symbol[cards[i] // 13], number[cards[i] % 13]), end=' ')\n",
    "    if (i + 1) % 13 == 0:\n",
    "        print()\n",
    "    # ===== if\n",
    "# ===== for\n",
    "print('=' * 60 + ' 섞기전')\n",
    "\n",
    "random.shuffle(cards)\n",
    "\n",
    "# 섞은후 상태를 출력한다. => 1줄에 숫자 13개씩 출력한다.\n",
    "for i in range(len(cards)):\n",
    "    print('{:s}{:2s}'.format(symbol[cards[i] // 13], number[cards[i] % 13]), end=' ')\n",
    "    if (i + 1) % 13 == 0:\n",
    "        print()\n",
    "    # ===== if\n",
    "# ===== for\n",
    "print('=' * 60 + ' 섞은후')"
   ]
  },
  {
   "cell_type": "code",
   "execution_count": null,
   "id": "146ca243",
   "metadata": {},
   "outputs": [],
   "source": []
  },
  {
   "cell_type": "code",
   "execution_count": null,
   "id": "eedd2479",
   "metadata": {},
   "outputs": [],
   "source": []
  }
 ],
 "metadata": {
  "kernelspec": {
   "display_name": "Python 3",
   "language": "python",
   "name": "python3"
  },
  "language_info": {
   "codemirror_mode": {
    "name": "ipython",
    "version": 3
   },
   "file_extension": ".py",
   "mimetype": "text/x-python",
   "name": "python",
   "nbconvert_exporter": "python",
   "pygments_lexer": "ipython3",
   "version": "3.6.8"
  }
 },
 "nbformat": 4,
 "nbformat_minor": 5
}
