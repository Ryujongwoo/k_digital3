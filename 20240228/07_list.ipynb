{
 "cells": [
  {
   "cell_type": "markdown",
   "id": "fb978510",
   "metadata": {},
   "source": [
    "리스트 만들기\n",
    "\n",
    "리스트는 데이터를 []로 감싸주고 데이터와 데이터는 ','로 구분한다."
   ]
  },
  {
   "cell_type": "code",
   "execution_count": 4,
   "id": "9d01d574",
   "metadata": {},
   "outputs": [
    {
     "name": "stdout",
     "output_type": "stream",
     "text": [
      "<class 'list'>\n",
      "[]\n",
      "================================================================================\n",
      "<class 'list'>\n",
      "[]\n"
     ]
    }
   ],
   "source": [
    "# 빈 리스트 만들기\n",
    "a = []\n",
    "print(type(a))\n",
    "print(a)\n",
    "print('=' * 80)\n",
    "\n",
    "# 빈 리스트는 생성자 함수를 사용해서도 만들 수 있다.\n",
    "b = list()\n",
    "print(type(b))\n",
    "print(b)"
   ]
  },
  {
   "cell_type": "code",
   "execution_count": 8,
   "id": "2eccfd78",
   "metadata": {},
   "outputs": [
    {
     "name": "stdout",
     "output_type": "stream",
     "text": [
      "<class 'list'>\n",
      "[1, 2, 3]\n",
      "================================================================================\n",
      "<class 'list'>\n",
      "['a', 'b', 'c']\n",
      "================================================================================\n",
      "<class 'list'>\n",
      "[100, 'aaa', 200, 'bbb']\n",
      "================================================================================\n",
      "<class 'list'>\n",
      "[[100, 'aaa'], [200, 'bbb']]\n",
      "================================================================================\n"
     ]
    }
   ],
   "source": [
    "# 초기치를 가지는 리스트\n",
    "a = [1, 2, 3]\n",
    "print(type(a))\n",
    "print(a)\n",
    "print('=' * 80)\n",
    "\n",
    "b = ['a', 'b', 'c']\n",
    "print(type(b))\n",
    "print(b)\n",
    "print('=' * 80)\n",
    "\n",
    "\n",
    "c = [100, 'aaa', 200, 'bbb']\n",
    "print(type(c))\n",
    "print(c)\n",
    "print('=' * 80)\n",
    "\n",
    "\n",
    "d = [[100, 'aaa'], [200, 'bbb']]\n",
    "print(type(d))\n",
    "print(d)\n",
    "print('=' * 80)"
   ]
  },
  {
   "cell_type": "markdown",
   "id": "edc3bc88",
   "metadata": {},
   "source": [
    "외부 라이브러리를 설치하려면 커맨드(까만) 창을 사용하는 방법과 jupyter notebook을 사용하는 방법이 있다.  \n",
    "커맨드 창 => pip install 라이브러리이름  \n",
    "jupyter notebook => !pip install 라이브러리이름"
   ]
  },
  {
   "cell_type": "code",
   "execution_count": 9,
   "id": "a2542194",
   "metadata": {},
   "outputs": [
    {
     "name": "stdout",
     "output_type": "stream",
     "text": [
      "Requirement already satisfied: numpy in c:\\python\\lib\\site-packages (1.19.5)\n"
     ]
    }
   ],
   "source": [
    "!pip install numpy"
   ]
  },
  {
   "cell_type": "code",
   "execution_count": 10,
   "id": "294eede9",
   "metadata": {},
   "outputs": [],
   "source": [
    "import numpy as np"
   ]
  },
  {
   "cell_type": "code",
   "execution_count": 12,
   "id": "9779b19a",
   "metadata": {},
   "outputs": [
    {
     "name": "stdout",
     "output_type": "stream",
     "text": [
      "<class 'numpy.ndarray'>\n",
      "[['100' 'aaa']\n",
      " ['200' 'bbb']]\n"
     ]
    }
   ],
   "source": [
    "array = np.array(d)\n",
    "print(type(array))\n",
    "print(array)"
   ]
  },
  {
   "cell_type": "markdown",
   "id": "28e95f4e",
   "metadata": {},
   "source": [
    "리스트 인덱싱"
   ]
  },
  {
   "cell_type": "code",
   "execution_count": 17,
   "id": "69713d3f",
   "metadata": {},
   "outputs": [
    {
     "name": "stdout",
     "output_type": "stream",
     "text": [
      "[1, 2, 3]\n",
      "1\n",
      "<class 'int'>\n",
      "3\n",
      "3\n"
     ]
    }
   ],
   "source": [
    "a = [1, 2, 3]\n",
    "print(a) # 리스트 이름은 리스트 전체를 의미한다.\n",
    "print(a[0])\n",
    "print(type(a[0]))\n",
    "print(a[2])\n",
    "print(a[-1])"
   ]
  },
  {
   "cell_type": "code",
   "execution_count": 23,
   "id": "3a04fd01",
   "metadata": {},
   "outputs": [
    {
     "name": "stdout",
     "output_type": "stream",
     "text": [
      "[1, 2, 3, ['a', 'b', 'c']]\n",
      "4\n",
      "['a', 'b', 'c']\n",
      "3\n",
      "b\n"
     ]
    }
   ],
   "source": [
    "a = [1, 2, 3, ['a', 'b', 'c']]\n",
    "print(a)\n",
    "print(len(a)) # 리스트에 저장된 데이터의 개수\n",
    "print(a[-1])\n",
    "print(len(a[-1]))\n",
    "print(a[-1][1]) # 2차원 인덱싱"
   ]
  },
  {
   "cell_type": "code",
   "execution_count": 28,
   "id": "0530d4fc",
   "metadata": {},
   "outputs": [
    {
     "name": "stdout",
     "output_type": "stream",
     "text": [
      "[1, 2, ['a', 'b', [3.14, True]]]\n",
      "3\n",
      "3\n",
      "2\n",
      "3.14\n"
     ]
    }
   ],
   "source": [
    "a = [1, 2, ['a', 'b', [3.14, True]]]\n",
    "print(a)\n",
    "print(len(a))\n",
    "print(len(a[-1]))\n",
    "print(len(a[-1][-1]))\n",
    "print(a[-1][-1][0]) # 3차원 인덱싱"
   ]
  },
  {
   "cell_type": "markdown",
   "id": "b2d82b48",
   "metadata": {},
   "source": [
    "리스트 슬라이싱"
   ]
  },
  {
   "cell_type": "code",
   "execution_count": 38,
   "id": "ba9d2ad4",
   "metadata": {},
   "outputs": [
    {
     "name": "stdout",
     "output_type": "stream",
     "text": [
      "[1, 2, 3, 4, 5]\n",
      "1 [1]\n",
      "<class 'int'>\n",
      "<class 'list'>\n",
      "[1, 2, 3]\n",
      "[1, 2, 3]\n",
      "[3, 4, 5]\n",
      "[3, 4, 5]\n",
      "[1, 2, 3, 4, 5]\n",
      "[1, 3, 5]\n",
      "[5, 4, 3, 2, 1]\n"
     ]
    }
   ],
   "source": [
    "a = [1, 2, 3, 4, 5]\n",
    "print(a)\n",
    "print(a[0], a[0:1])\n",
    "print(type(a[0])) # 인덱싱 되는 요소는 데이터 자체가 인덱싱 된다.\n",
    "print(type(a[0:1])) # 슬라이싱 되는 요소는 리스트로 슬라이싱 된다.\n",
    "print(a[0:3])\n",
    "print(a[:3])\n",
    "print(a[2:5])\n",
    "print(a[2:])\n",
    "print(a[:])\n",
    "print(a[::2])\n",
    "print(a[::-1])"
   ]
  },
  {
   "cell_type": "markdown",
   "id": "b1097258",
   "metadata": {},
   "source": [
    "리스트에 사용되는 연산자\n",
    "\n",
    "'+'는 2개의 리스트를 연결하고 '*'는 리스트를 지정된 횟수만큼 반복한다."
   ]
  },
  {
   "cell_type": "code",
   "execution_count": 40,
   "id": "da39ca80",
   "metadata": {},
   "outputs": [
    {
     "name": "stdout",
     "output_type": "stream",
     "text": [
      "[1, 2, 3, 4, 5, 6, 7]\n",
      "[1, 2, 3, 1, 2, 3, 1, 2, 3]\n"
     ]
    }
   ],
   "source": [
    "a = [1, 2, 3]\n",
    "b = [4, 5, 6, 7]\n",
    "print(a + b)\n",
    "print(a * 3)"
   ]
  },
  {
   "cell_type": "markdown",
   "id": "b993ef01",
   "metadata": {},
   "source": [
    "리스트에 저장된 데이터의 수정 및 삭제"
   ]
  },
  {
   "cell_type": "code",
   "execution_count": 49,
   "id": "98905e52",
   "metadata": {},
   "outputs": [
    {
     "name": "stdout",
     "output_type": "stream",
     "text": [
      "abcde\n",
      "<class 'str'>\n",
      "c\n",
      "bcd\n",
      "abCde\n",
      "abde\n"
     ]
    }
   ],
   "source": [
    "string = 'abcde'\n",
    "print(string)\n",
    "print(type(string))\n",
    "print(string[2])\n",
    "print(string[1:4])\n",
    "\n",
    "# 문자열 데이터의 일부분을 수정하려하면 에러가 발생된다.\n",
    "# string[2] = 'C' # 에러\n",
    "string = string[:2] + 'C' + string[3:]\n",
    "print(string)\n",
    "\n",
    "# 문자열 데이터의 일부분을 삭제하려하면 에러가 발생된다.\n",
    "# del string[2] # 에러\n",
    "string = string[:2] + string[3:]\n",
    "print(string)"
   ]
  },
  {
   "cell_type": "code",
   "execution_count": 56,
   "id": "880e8426",
   "metadata": {},
   "outputs": [
    {
     "name": "stdout",
     "output_type": "stream",
     "text": [
      "[1, 2, 3]\n",
      "[1, 4, 3]\n",
      "[[100, 200, 300], 4, 3]\n",
      "[[100, 200, 300], 4, 999]\n",
      "[[100, 200, 300], 'a', 'b', 'c', 999]\n"
     ]
    }
   ],
   "source": [
    "a = [1, 2, 3]\n",
    "print(a)\n",
    "\n",
    "# 인덱싱을 이용한 데이터 수정\n",
    "a[1] = 4 # 수정할 리스트의 인데스 번째 요소에 수정할 값을 대입하면 된다.\n",
    "print(a)\n",
    "\n",
    "a[0] = [100, 200, 300]\n",
    "print(a)\n",
    "\n",
    "# 슬라이싱을 이용한 데이터 수정\n",
    "# 슬라이싱한 범위(리스트)에 상수를 대입하면 TypeError가 발생된다.\n",
    "# a[2:3] = 999 # 에러\n",
    "\n",
    "a[2:3] = [999] # 슬라이싱한 범위에 리스트를 대입하면 대입되는 리스트의 데이터만 입력된다.\n",
    "print(a)\n",
    "a[1:2] = ['a', 'b', 'c']\n",
    "print(a)"
   ]
  },
  {
   "cell_type": "code",
   "execution_count": 61,
   "id": "b08f94a2",
   "metadata": {},
   "outputs": [
    {
     "name": "stdout",
     "output_type": "stream",
     "text": [
      "[1, 2, 3, 4, 5]\n",
      "[1, 3, 4, 5]\n",
      "[1, 5]\n",
      "[]\n"
     ]
    },
    {
     "ename": "NameError",
     "evalue": "name 'a' is not defined",
     "output_type": "error",
     "traceback": [
      "\u001b[1;31m---------------------------------------------------------------------------\u001b[0m",
      "\u001b[1;31mNameError\u001b[0m                                 Traceback (most recent call last)",
      "\u001b[1;32m<ipython-input-61-dc04c07ac926>\u001b[0m in \u001b[0;36m<module>\u001b[1;34m\u001b[0m\n\u001b[0;32m     16\u001b[0m \u001b[1;31m# del 명령으로 리스트 자체를 삭제할 수 있다.\u001b[0m\u001b[1;33m\u001b[0m\u001b[1;33m\u001b[0m\u001b[1;33m\u001b[0m\u001b[0m\n\u001b[0;32m     17\u001b[0m \u001b[1;32mdel\u001b[0m \u001b[0ma\u001b[0m\u001b[1;33m\u001b[0m\u001b[1;33m\u001b[0m\u001b[0m\n\u001b[1;32m---> 18\u001b[1;33m \u001b[0mprint\u001b[0m\u001b[1;33m(\u001b[0m\u001b[0ma\u001b[0m\u001b[1;33m)\u001b[0m\u001b[1;33m\u001b[0m\u001b[1;33m\u001b[0m\u001b[0m\n\u001b[0m",
      "\u001b[1;31mNameError\u001b[0m: name 'a' is not defined"
     ]
    }
   ],
   "source": [
    "a = [1, 2, 3, 4, 5]\n",
    "print(a)\n",
    "\n",
    "# del 명령으로 인덱싱된 리스트의 데이터를 삭제할 수 있다.\n",
    "del a[1]\n",
    "print(a)\n",
    "\n",
    "# del 명령으로 슬라이싱된 리스트의 데이터를 삭제할 수 있다.\n",
    "del a[1:3]\n",
    "print(a)\n",
    "\n",
    "# clear() 메소드로 리스트에 저장된 모든 데이터를 삭제할 수 있다.\n",
    "a.clear()\n",
    "print(a)\n",
    "\n",
    "# del 명령으로 리스트 자체를 삭제할 수 있다.\n",
    "del a\n",
    "print(a)"
   ]
  },
  {
   "cell_type": "code",
   "execution_count": null,
   "id": "66ddd865",
   "metadata": {},
   "outputs": [],
   "source": []
  },
  {
   "cell_type": "code",
   "execution_count": null,
   "id": "e5a626a7",
   "metadata": {},
   "outputs": [],
   "source": []
  }
 ],
 "metadata": {
  "kernelspec": {
   "display_name": "Python 3",
   "language": "python",
   "name": "python3"
  },
  "language_info": {
   "codemirror_mode": {
    "name": "ipython",
    "version": 3
   },
   "file_extension": ".py",
   "mimetype": "text/x-python",
   "name": "python",
   "nbconvert_exporter": "python",
   "pygments_lexer": "ipython3",
   "version": "3.6.8"
  }
 },
 "nbformat": 4,
 "nbformat_minor": 5
}
