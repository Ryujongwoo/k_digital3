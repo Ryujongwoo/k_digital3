{
 "cells": [
  {
   "cell_type": "code",
   "execution_count": 1,
   "id": "7d445525",
   "metadata": {},
   "outputs": [],
   "source": [
    "import warnings\n",
    "warnings.filterwarnings(action='ignore')\n",
    "import requests\n",
    "# conda install pymongo\n",
    "import pymongo # mongodb를 사용하기 위해 import 한다."
   ]
  },
  {
   "cell_type": "markdown",
   "id": "939665d5",
   "metadata": {},
   "source": [
    "mongodb에 연결하고 데이터베이스 목록을 얻어온다."
   ]
  },
  {
   "cell_type": "code",
   "execution_count": 2,
   "id": "fc78a805",
   "metadata": {},
   "outputs": [
    {
     "name": "stdout",
     "output_type": "stream",
     "text": [
      "<class 'list'>\n",
      "['admin', 'config', 'firstdb', 'local']\n"
     ]
    }
   ],
   "source": [
    "# MongoClient 객체로 mongodb의 url을 넘겨서 mongodb와 연결한다.\n",
    "mongoConnection = pymongo.MongoClient('mongodb://localhost:27017')\n",
    "# list_database_names() 메소드로 mongodb의 데이터베이스 목록을 리스트로 얻어온다.\n",
    "databaseList = mongoConnection.list_database_names()\n",
    "print(type(databaseList))\n",
    "print(databaseList)"
   ]
  },
  {
   "cell_type": "markdown",
   "id": "c6da3713",
   "metadata": {},
   "source": [
    "데이터베이스가 존재하나 확인한다."
   ]
  },
  {
   "cell_type": "code",
   "execution_count": 3,
   "id": "a252ce3f",
   "metadata": {},
   "outputs": [
    {
     "name": "stdout",
     "output_type": "stream",
     "text": [
      "starbucks 데이터베이스가 존재하지 않습니다.\n"
     ]
    }
   ],
   "source": [
    "if 'starbucks' in databaseList:\n",
    "    print('starbucks 데이터베이스가 존재합니다.')\n",
    "else:\n",
    "    print('starbucks 데이터베이스가 존재하지 않습니다.')"
   ]
  },
  {
   "cell_type": "markdown",
   "id": "036e82ca",
   "metadata": {},
   "source": [
    "데이터베이스와 컬렉션을 만든다."
   ]
  },
  {
   "cell_type": "code",
   "execution_count": 4,
   "id": "8b7f79bc",
   "metadata": {},
   "outputs": [
    {
     "data": {
      "text/plain": [
       "<pymongo.results.DeleteResult at 0x19d627a2648>"
      ]
     },
     "execution_count": 4,
     "metadata": {},
     "output_type": "execute_result"
    }
   ],
   "source": [
    "# starbucks 데이터베이스가 존재하지 않으면 데이터베이스를 만들고 사용할 준비를 하고 존재하면 사용할 준비를 한다.\n",
    "starbucks = mongoConnection['starbucks'] # test> use starbucks\n",
    "# sido 컬렉션이 존재하지 않으면 컬렉션을 만들고 사용할 준비를 하고 존재하면 사용할 준비를 한다.\n",
    "sido = starbucks['sido'] # starbucks> db.createCollection('sido')\n",
    "# sido 컬렉션에 저장된 모든 데이터를 제거한다. 삭제 조건이 없더라도 {}를 생략하면 안된다.\n",
    "sido.delete_many({}) # starbucks> db.sido.deleteMany({})"
   ]
  },
  {
   "cell_type": "markdown",
   "id": "5c2cd063",
   "metadata": {},
   "source": [
    "mongodb에 저장할 도큐먼트를 만든다."
   ]
  },
  {
   "cell_type": "code",
   "execution_count": 5,
   "id": "01a9d10b",
   "metadata": {},
   "outputs": [
    {
     "data": {
      "text/plain": [
       "[{'sido_cd': '01', 'sido_nm': '서울'},\n",
       " {'sido_cd': '08', 'sido_nm': '경기'},\n",
       " {'sido_cd': '02', 'sido_nm': '광주'},\n",
       " {'sido_cd': '03', 'sido_nm': '대구'},\n",
       " {'sido_cd': '04', 'sido_nm': '대전'},\n",
       " {'sido_cd': '05', 'sido_nm': '부산'},\n",
       " {'sido_cd': '06', 'sido_nm': '울산'},\n",
       " {'sido_cd': '07', 'sido_nm': '인천'},\n",
       " {'sido_cd': '09', 'sido_nm': '강원'},\n",
       " {'sido_cd': '10', 'sido_nm': '경남'},\n",
       " {'sido_cd': '11', 'sido_nm': '경북'},\n",
       " {'sido_cd': '12', 'sido_nm': '전남'},\n",
       " {'sido_cd': '13', 'sido_nm': '전북'},\n",
       " {'sido_cd': '14', 'sido_nm': '충남'},\n",
       " {'sido_cd': '15', 'sido_nm': '충북'},\n",
       " {'sido_cd': '16', 'sido_nm': '제주'},\n",
       " {'sido_cd': '17', 'sido_nm': '세종'}]"
      ]
     },
     "execution_count": 5,
     "metadata": {},
     "output_type": "execute_result"
    }
   ],
   "source": [
    "# mongodb에 저장할 starbucks 사이트를 크롤링해서 {시도코드: 시도이름} 형태의 딕셔너리를 저장하는 리스트를 만든다.\n",
    "request = requests.post('https://www.starbucks.co.kr/store/getSidoList.do').json()\n",
    "# print(type(request))\n",
    "# print(request)\n",
    "sidoList = []\n",
    "for req in request['list']:\n",
    "    # print(req)\n",
    "    dic = {'sido_cd': req['sido_cd'].strip(), 'sido_nm': req['sido_nm'].strip()}\n",
    "    # print(dic)\n",
    "    sidoList.append(dic)\n",
    "sidoList"
   ]
  },
  {
   "cell_type": "markdown",
   "id": "53cb7b54",
   "metadata": {},
   "source": [
    "컬렉션에 도큐먼트를 저장한다."
   ]
  },
  {
   "cell_type": "code",
   "execution_count": 6,
   "id": "200e8215",
   "metadata": {},
   "outputs": [],
   "source": [
    "for s in sidoList:\n",
    "    sido.insert_one(s) # starbucks> db.sido.insertOne({'sido_cd': '01', 'sido_nm': '서울'})"
   ]
  },
  {
   "cell_type": "markdown",
   "id": "87319290",
   "metadata": {},
   "source": [
    "mongodb에 저장된 데이터를 얻어온다."
   ]
  },
  {
   "cell_type": "code",
   "execution_count": 7,
   "id": "537cf68b",
   "metadata": {},
   "outputs": [
    {
     "name": "stdout",
     "output_type": "stream",
     "text": [
      "{'sido_cd': '01', 'sido_nm': '서울'}\n",
      "{'sido_cd': '08', 'sido_nm': '경기'}\n",
      "{'sido_cd': '02', 'sido_nm': '광주'}\n",
      "{'sido_cd': '03', 'sido_nm': '대구'}\n",
      "{'sido_cd': '04', 'sido_nm': '대전'}\n",
      "{'sido_cd': '05', 'sido_nm': '부산'}\n",
      "{'sido_cd': '06', 'sido_nm': '울산'}\n",
      "{'sido_cd': '07', 'sido_nm': '인천'}\n",
      "{'sido_cd': '09', 'sido_nm': '강원'}\n",
      "{'sido_cd': '10', 'sido_nm': '경남'}\n",
      "{'sido_cd': '11', 'sido_nm': '경북'}\n",
      "{'sido_cd': '12', 'sido_nm': '전남'}\n",
      "{'sido_cd': '13', 'sido_nm': '전북'}\n",
      "{'sido_cd': '14', 'sido_nm': '충남'}\n",
      "{'sido_cd': '15', 'sido_nm': '충북'}\n",
      "{'sido_cd': '16', 'sido_nm': '제주'}\n",
      "{'sido_cd': '17', 'sido_nm': '세종'}\n"
     ]
    }
   ],
   "source": [
    "mongoConnection = pymongo.MongoClient('mongodb://localhost:27017')\n",
    "starbucks = mongoConnection['starbucks']\n",
    "sido = starbucks['sido']\n",
    "\n",
    "sidoList = sido.find({}, {'_id': 0}) # starbucks> db.sido.find({}, {'_id': 0})\n",
    "\n",
    "# for s in sidoList:\n",
    "    # print(s)\n",
    "    \n",
    "while sidoList:\n",
    "    try:\n",
    "        print(sidoList.next())\n",
    "    except:\n",
    "        break"
   ]
  },
  {
   "cell_type": "code",
   "execution_count": null,
   "id": "1ee07920",
   "metadata": {},
   "outputs": [],
   "source": []
  },
  {
   "cell_type": "code",
   "execution_count": null,
   "id": "35b97020",
   "metadata": {},
   "outputs": [],
   "source": []
  }
 ],
 "metadata": {
  "kernelspec": {
   "display_name": "python37",
   "language": "python",
   "name": "python37"
  },
  "language_info": {
   "codemirror_mode": {
    "name": "ipython",
    "version": 3
   },
   "file_extension": ".py",
   "mimetype": "text/x-python",
   "name": "python",
   "nbconvert_exporter": "python",
   "pygments_lexer": "ipython3",
   "version": "3.7.1"
  }
 },
 "nbformat": 4,
 "nbformat_minor": 5
}
