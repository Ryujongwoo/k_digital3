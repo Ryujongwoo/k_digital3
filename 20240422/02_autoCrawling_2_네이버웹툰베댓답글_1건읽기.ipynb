{
 "cells": [
  {
   "cell_type": "code",
   "execution_count": 1,
   "id": "cba03879",
   "metadata": {},
   "outputs": [],
   "source": [
    "import warnings\n",
    "warnings.filterwarnings(action='ignore')\n",
    "%config Completer.use_jedi = False"
   ]
  },
  {
   "cell_type": "code",
   "execution_count": 2,
   "id": "725d7538",
   "metadata": {},
   "outputs": [],
   "source": [
    "from bs4 import BeautifulSoup\n",
    "from selenium import webdriver\n",
    "from selenium.webdriver.chrome.options import Options\n",
    "import time"
   ]
  },
  {
   "cell_type": "code",
   "execution_count": 3,
   "id": "d6d63cd7",
   "metadata": {
    "scrolled": false
   },
   "outputs": [
    {
     "name": "stdout",
     "output_type": "stream",
     "text": [
      "15\n",
      " 3. 어쨌든 앞자리 바뀌었네요\n",
      "================================================================================\n",
      "30\n",
      "['ㅋㅋㅋㅋㅋㅋㅋㅋㅋㅋㅋㅋㅋㅋ']\n",
      "['너어는 진짜 나쁜사람 ㅜㅜ']\n",
      "['천재닷😌😌😌😌']\n",
      "['이 사악한ㅋㅋㅋㅋㅋㅋㅋ']\n",
      "['이 악마ㅋㅋㅋㅋㅋㅋㅋㅋ']\n",
      "['리버스 다이어트 ㅋㅋㅋㅋㅋㅋㅋㅋㅋㅋㅋㅋㅋㅋㅋㅋ']\n",
      "['엌ㅋㅋㅋㅋㅋㅋㅋㅋㅋ']\n",
      "['야이앀ㅋㅋㅋㅋ']\n",
      "['나빠요!ㅋㅋㅋㅋㅋ']\n",
      "['와 ㅋㅋㅋㅋㅋㅋㅋㅋ나빠 ㅋㅋㅋ']\n",
      "['ㅋㅋㅋㅋㅋㅋㅋ개욱기넼ㅋㅋㅋㅋ']\n",
      "['이 악마야ㅋㅋㅋㅋ']\n",
      "['사탄좌ㅋㅋㅋㅋㅋㅋㅋㅋㅋㅋㅋ']\n",
      "['ㅋㅋㅋㅋ 😆 ']\n",
      "['야 너어는 진짜 ㅋㅋㅋㅋㅋㅋㅋㅋㅋ 사탄도 울고갈 ㅋㅋㅋㅋㅋ ']\n",
      "['난 진짜 살이 안쪄서 고민인데']\n",
      "['아 현웃 ㅋㅋㅋㅋㅋ 빵터짐ㅋㅋㅋㅋ']\n",
      "['아니 너무햌ㅋㅋㅋㅋㅋㅋㅋㅋㅋㅋㅋㅋㅋ ㅜㅜㅜㅜㅜ']\n",
      "['못됐다 진짜ㅋㅋㅋㅋㅋㅋㅋㅋ']\n",
      "['앗ㅋㅋ. 너무해']\n",
      "['???: \"하지만 바뀌었죠?\"']\n",
      "['👍 ']\n",
      "['ㅋㅋㅋㅋ']\n",
      "['ㅋㅋㅋㅋㅋㅋㅋㅋㅋㅋㅋ개냉정햌ㅋㅋㅋㅋㅋㅋㅋㅋ']\n",
      "['너어는 진짜ㅜ']\n",
      "['아쨌든 거짓말은 안했다 ㅋㅋㅋㅋ']\n",
      "['이런나쁜사람ㅜㅋㅋㅋㅋㅋㅋ']\n",
      "['다이어트 말고 트어이다 했네']\n",
      "['리버스 다이어트 미쳤나ㅋㅋㅋㅋㅋㅋㅋㅋㅋㅋㅋㅋㅋㅋㅋㅋㅋㅋㅋㅋㅋㅋㅋㅋㅋㅋㅋㅋ']\n",
      "['하지만 바꼈죠']\n"
     ]
    }
   ],
   "source": [
    "option = Options()\n",
    "option.add_argument('--window-size=1800,1000')\n",
    "driver = webdriver.Chrome('./chromedriver.exe', options=option)\n",
    "driver.implicitly_wait(5)\n",
    "\n",
    "driver.get('https://comic.naver.com/webtoon/detail?titleId=812354&no=22&week=finish')\n",
    "html = driver.page_source\n",
    "soup = BeautifulSoup(html, 'html.parser')\n",
    "reviews = soup.select('span.u_cbox_contents')\n",
    "print(len(reviews))\n",
    "print('{:2d}. {}'.format(3, reviews[2].text))\n",
    "print('=' * 80)\n",
    "\n",
    "# 답글 하이퍼링크를 선택한 후 클릭해서 답글을 연다.\n",
    "driver.find_element_by_xpath(\n",
    "    # '//*[@id=\"cbox_module_wai_u_cbox_content_wrap_tabpanel\"]/ul/li[1]/div[1]/div/div[4]/a' # 1번째 베댓의 댓글 하이퍼링크\n",
    "    # '//*[@id=\"cbox_module_wai_u_cbox_content_wrap_tabpanel\"]/ul/li[2]/div[1]/div/div[4]/a' # 2번째 베댓의 댓글 하이퍼링크\n",
    "    '//*[@id=\"cbox_module_wai_u_cbox_content_wrap_tabpanel\"]/ul/li[3]/div[1]/div/div[4]/a' # 3번째 베댓의 댓글 하이퍼링크\n",
    "    # ...\n",
    "    # '//*[@id=\"cbox_module_wai_u_cbox_content_wrap_tabpanel\"]/ul/li[15]/div[1]/div/div[4]/a' # 15번째 베댓의 댓글 하이퍼링크\n",
    ").click()\n",
    "time.sleep(0.5)\n",
    "\n",
    "# 더보기 하이퍼링크가 더이상 나오지 않을때 까지 반복하며 답글의 더보기 하이퍼링크를 클릭해서 답글을 표시한다.\n",
    "while True:\n",
    "    try:\n",
    "        driver.find_element_by_xpath(\n",
    "            # '//*[@id=\"cbox_module_wai_u_cbox_content_wrap_tabpanel\"]/ul/li[1]/div[2]/div[2]/a' # 1번째 베댓의 더보기 하이퍼링크\n",
    "            '//*[@id=\"cbox_module_wai_u_cbox_content_wrap_tabpanel\"]/ul/li[3]/div[2]/div[2]/a' # 3번째 베댓의 더보기 하이퍼링크\n",
    "        ).click()\n",
    "        time.sleep(0.5)\n",
    "    except:\n",
    "        break\n",
    "\n",
    "# 페이지의 내용이 변경되면 다시 읽어와야 한다.\n",
    "html = driver.page_source\n",
    "soup = BeautifulSoup(html, 'html.parser')\n",
    "\n",
    "# 답글을 읽는다.\n",
    "replys = soup.select('#cbox_module_wai_u_cbox_content_wrap_tabpanel div.u_cbox_reply_area span.u_cbox_contents')\n",
    "print(len(replys))\n",
    "for reply in replys:\n",
    "    print(reply.text.split('\\n'))\n",
    "\n",
    "# 답글접기 하이퍼링크를 클릭해서 읽은 베댓의 답글을 닫는다.\n",
    "driver.find_element_by_xpath(\n",
    "    # '//*[@id=\"cbox_module_wai_u_cbox_content_wrap_tabpanel\"]/ul/li[1]/div[2]/a' # 1번째 베댓의 답글접기 하이퍼링크\n",
    "    # '//*[@id=\"cbox_module_wai_u_cbox_content_wrap_tabpanel\"]/ul/li[2]/div[2]/a' # 2번째 베뎃의 답글접기 하이퍼링크\n",
    "    '//*[@id=\"cbox_module_wai_u_cbox_content_wrap_tabpanel\"]/ul/li[3]/div[2]/a' # 3번째 베뎃의 답글접기 하이퍼링크\n",
    "    # ...\n",
    "    # '//*[@id=\"cbox_module_wai_u_cbox_content_wrap_tabpanel\"]/ul/li[15]/div[2]/a' # 15번째 베댓의 댓글 하이퍼링크\n",
    ").click()\n",
    "time.sleep(0.5)"
   ]
  },
  {
   "cell_type": "code",
   "execution_count": null,
   "id": "de5b897d",
   "metadata": {},
   "outputs": [],
   "source": []
  },
  {
   "cell_type": "code",
   "execution_count": null,
   "id": "6a6c7580",
   "metadata": {},
   "outputs": [],
   "source": []
  }
 ],
 "metadata": {
  "kernelspec": {
   "display_name": "python36",
   "language": "python",
   "name": "python36"
  },
  "language_info": {
   "codemirror_mode": {
    "name": "ipython",
    "version": 3
   },
   "file_extension": ".py",
   "mimetype": "text/x-python",
   "name": "python",
   "nbconvert_exporter": "python",
   "pygments_lexer": "ipython3",
   "version": "3.6.13"
  }
 },
 "nbformat": 4,
 "nbformat_minor": 5
}
