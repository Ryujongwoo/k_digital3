{
 "cells": [
  {
   "cell_type": "code",
   "execution_count": 1,
   "id": "c7fa7238",
   "metadata": {},
   "outputs": [],
   "source": [
    "import warnings\n",
    "warnings.filterwarnings(action='ignore')\n",
    "%config Completer.use_jedi = False"
   ]
  },
  {
   "cell_type": "code",
   "execution_count": 2,
   "id": "1dfc941c",
   "metadata": {},
   "outputs": [],
   "source": [
    "from bs4 import BeautifulSoup\n",
    "from selenium import webdriver\n",
    "from selenium.webdriver.chrome.options import Options\n",
    "import time"
   ]
  },
  {
   "cell_type": "code",
   "execution_count": 3,
   "id": "50d7fe80",
   "metadata": {
    "scrolled": false
   },
   "outputs": [
    {
     "name": "stdout",
     "output_type": "stream",
     "text": [
      "1547\n",
      "review.txt 파일로 저장완료\n"
     ]
    }
   ],
   "source": [
    "option = Options()\n",
    "option.add_argument('--window-size=1800,1000')\n",
    "driver = webdriver.Chrome('./chromedriver.exe', options=option)\n",
    "driver.implicitly_wait(5)\n",
    "\n",
    "driver.get('https://comic.naver.com/webtoon/detail?titleId=812354&no=22&week=finish')\n",
    "html = driver.page_source\n",
    "soup = BeautifulSoup(html, 'html.parser')\n",
    "\n",
    "# 전체 댓글을 연다.\n",
    "# driver.find_element_by_xpath('//*[@id=\"cbox_module_wai_u_cbox_sort_option_tab2\"]').click()\n",
    "driver.find_element_by_css_selector('#cbox_module_wai_u_cbox_sort_option_tab2').click()\n",
    "time.sleep(0.5)\n",
    "\n",
    "# 더보기 하이퍼링크가 더이상 나오지 않을때 까지 반복하며 더보기 하이퍼링크를 클릭해서 댓글을 표시한다.\n",
    "while True:\n",
    "    try:\n",
    "        driver.find_element_by_xpath('//*[@id=\"cbox_module\"]/div/div[7]/a').click()\n",
    "        time.sleep(0.5)\n",
    "    except:\n",
    "        break\n",
    "        \n",
    "html = driver.page_source\n",
    "soup = BeautifulSoup(html, 'html.parser')\n",
    "replys = soup.select('#cbox_module_wai_u_cbox_content_wrap_tabpanel div.u_cbox_comment_box span.u_cbox_contents')\n",
    "print(len(replys))\n",
    "\n",
    "# 텍스트 파일을 쓰기용으로 open하고 크롤링 결과를 파일로 저장한다.\n",
    "file = open('review.txt', 'w', -1, 'utf-8')\n",
    "for reply in replys:\n",
    "    # print(reply.text.split('\\n'))\n",
    "    file.write(reply.text + '\\n')\n",
    "file.close()\n",
    "print('review.txt 파일로 저장완료')"
   ]
  },
  {
   "cell_type": "code",
   "execution_count": null,
   "id": "06cde453",
   "metadata": {},
   "outputs": [],
   "source": []
  },
  {
   "cell_type": "code",
   "execution_count": null,
   "id": "0b908cd8",
   "metadata": {},
   "outputs": [],
   "source": []
  }
 ],
 "metadata": {
  "kernelspec": {
   "display_name": "python36",
   "language": "python",
   "name": "python36"
  },
  "language_info": {
   "codemirror_mode": {
    "name": "ipython",
    "version": 3
   },
   "file_extension": ".py",
   "mimetype": "text/x-python",
   "name": "python",
   "nbconvert_exporter": "python",
   "pygments_lexer": "ipython3",
   "version": "3.6.13"
  }
 },
 "nbformat": 4,
 "nbformat_minor": 5
}
