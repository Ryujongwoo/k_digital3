{
 "cells": [
  {
   "cell_type": "code",
   "execution_count": 1,
   "id": "8252d24a",
   "metadata": {},
   "outputs": [],
   "source": [
    "import warnings\n",
    "warnings.filterwarnings(action='ignore')\n",
    "%config Completer.use_jedi = False"
   ]
  },
  {
   "cell_type": "code",
   "execution_count": 2,
   "id": "21fab2cd",
   "metadata": {},
   "outputs": [],
   "source": [
    "from bs4 import BeautifulSoup\n",
    "from selenium import webdriver\n",
    "from selenium.webdriver.chrome.options import Options"
   ]
  },
  {
   "cell_type": "markdown",
   "id": "f4b8246d",
   "metadata": {},
   "source": [
    "셀레니움 옵션"
   ]
  },
  {
   "cell_type": "code",
   "execution_count": 3,
   "id": "79a1c875",
   "metadata": {},
   "outputs": [
    {
     "name": "stdout",
     "output_type": "stream",
     "text": [
      "한번도 힘든 앞자리 바꾸기를 두번이나\n",
      "================================================================================\n",
      "15\n",
      " 1. 냥군 어떻게 한거야 제발 알려줘\n",
      " 2. 한번도 힘든 앞자리 바꾸기를 두번이나\n",
      " 3. 어쨌든 앞자리 바뀌었네요\n",
      " 4. 대장내시경 미친\n",
      " 5. 이와중에 냥군 체중이 우와라고 써 있음ㅋㅋㅋ\n",
      " 6. 아파요...\n",
      " 7. 헬스장 수익의 9할은 기부금이라는 소문이 있다\n",
      " 8. 뭐야 다이어트 하던 기억을 잃은 환자한테 사진 보여주는 주치의야 뭐야\n",
      " 9. 대장 내시경 ㅋㅋㅋㅋㅋㅋㅋㅋㅋㅋㅋㅋ 획기적인 방법이네요...\n",
      "10. ???: 어떻게 하면 수능 만점을 받을 수 있죠????: 교과서 위주로 공부했어요\n",
      "11. 사람 현실몸은 포샵 못 하고 사람 눈엔 필터 못 끼워요\n",
      "12. 미국 미신중에 신부의 드레스차림을 예식 전에 보면 부정탄다는 게 있어서 본식때나 그 모습을 볼 수 있다던데... 신부 입장 하자마자 냅다 우는 남편들 영상 귀여워\n",
      "13. 팩폭다발구역입니다\n",
      "14. 먹는데 돈을 얼마나 들였는데, 이걸 다 빼라고요?\n",
      "15. 무리하면 이제 다음날부터 운동 거들떠도 보기 싫어짐....\n"
     ]
    }
   ],
   "source": [
    "option = Options()\n",
    "option.add_argument('--window-size=1800,1000') # 가상 크롬의 창 크기를 지정한다.\n",
    "driver = webdriver.Chrome('./chromedriver.exe', options=option) # 가상 크롬을 실행한다.\n",
    "# 지정된 시간 동안 가상 크롬창에 크롤링할 페이지가 로딩되기를 기다리며 대기한다.\n",
    "driver.implicitly_wait(5) # 로딩이 완료되면 즉시 다음 단계로 진행한다.\n",
    "\n",
    "# 네이버 웹툰 신혼일기 22화 다이어트 편을 보여주는 페이지\n",
    "# https://comic.naver.com/webtoon/detail?titleId=812354&no=22&week=finish\n",
    "# get() 메소드로 크롤링할 페이지를 지정해서 가상 크롬 창에 띄운다.\n",
    "driver.get('https://comic.naver.com/webtoon/detail?titleId=812354&no=22&week=finish')\n",
    "\n",
    "# 특정 베댓 1건을 읽는다.\n",
    "html = driver.page_source # 가상 크롬에 실행된 페이지의 html 정보를 읽어온다.\n",
    "# print(html)\n",
    "soup = BeautifulSoup(html, 'html.parser') # 읽어들인 html 문서를 파싱할 수 있도록 준비한다.\n",
    "# review = soup.select_one('#cbox_module_wai_u_cbox_content_wrap_tabpanel > ul > li.u_cbox_comment.cbox_module__comment_458371111._user_id_no_e0RsP > div.u_cbox_comment_box > div > div.u_cbox_text_wrap > span.u_cbox_contents')\n",
    "review = soup.select_one('#cbox_module_wai_u_cbox_content_wrap_tabpanel > ul > li.u_cbox_comment.cbox_module__comment_458371000._user_id_no_3LAMI > div.u_cbox_comment_box > div > div.u_cbox_text_wrap > span.u_cbox_contents')\n",
    "print(review.text)\n",
    "print('=' * 80)\n",
    "\n",
    "# 전체 베댓을 읽는다.\n",
    "html = driver.page_source\n",
    "soup = BeautifulSoup(html, 'html.parser')\n",
    "reviews = soup.select('span.u_cbox_contents')\n",
    "print(len(reviews))\n",
    "for i in range(len(reviews)):\n",
    "    print('{:2d}. {}'.format(i + 1, reviews[i].text))"
   ]
  },
  {
   "cell_type": "code",
   "execution_count": null,
   "id": "39b01b87",
   "metadata": {},
   "outputs": [],
   "source": []
  },
  {
   "cell_type": "code",
   "execution_count": null,
   "id": "05b46738",
   "metadata": {},
   "outputs": [],
   "source": []
  }
 ],
 "metadata": {
  "kernelspec": {
   "display_name": "Python 3",
   "language": "python",
   "name": "python3"
  },
  "language_info": {
   "codemirror_mode": {
    "name": "ipython",
    "version": 3
   },
   "file_extension": ".py",
   "mimetype": "text/x-python",
   "name": "python",
   "nbconvert_exporter": "python",
   "pygments_lexer": "ipython3",
   "version": "3.6.13"
  }
 },
 "nbformat": 4,
 "nbformat_minor": 5
}
