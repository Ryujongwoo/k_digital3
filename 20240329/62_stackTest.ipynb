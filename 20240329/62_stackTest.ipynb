{
 "cells": [
  {
   "cell_type": "code",
   "execution_count": 1,
   "id": "7c2e7318",
   "metadata": {},
   "outputs": [
    {
     "name": "stdout",
     "output_type": "stream",
     "text": [
      "스택에 저장된 데이터 => 없음\n"
     ]
    }
   ],
   "source": [
    "# stackModule 전체를 import 시켰기 때문에 Stack 클래스를 사용하려면 앞에 '모듈이름.'을 붙여서 사용해야 한다.\n",
    "import stackModule\n",
    "stack = stackModule.Stack()\n",
    "stack.view()"
   ]
  },
  {
   "cell_type": "code",
   "execution_count": 2,
   "id": "0d6dcc04",
   "metadata": {},
   "outputs": [
    {
     "name": "stdout",
     "output_type": "stream",
     "text": [
      "스택에 저장된 데이터 => 없음\n"
     ]
    }
   ],
   "source": [
    "# stackModule 전체를 import 시키지 않고 Stack만 import 시켜서 사용한다.\n",
    "from stackModule import Stack\n",
    "# Stack 클래스만 import 시켰으므로 위의 경우처럼 '모듈이름.'을 붙일 필요없이 바로 사용하면 된다.\n",
    "stack = Stack()\n",
    "stack.view()"
   ]
  },
  {
   "cell_type": "code",
   "execution_count": 4,
   "id": "331e4354",
   "metadata": {
    "scrolled": false
   },
   "outputs": [
    {
     "name": "stdout",
     "output_type": "stream",
     "text": [
      "===============================\n",
      " 1.push  2.pop  3.view  4.종료 \n",
      "===============================\n",
      "원하는 메뉴를 입력하고 Enter 키를 누르세요: 1\n",
      "스택에 저장할 데이터를 입력하세요: 111\n",
      "스택에 저장된 데이터 => 111 \n",
      "===============================\n",
      " 1.push  2.pop  3.view  4.종료 \n",
      "===============================\n",
      "원하는 메뉴를 입력하고 Enter 키를 누르세요: 1\n",
      "스택에 저장할 데이터를 입력하세요: 333\n",
      "스택에 저장된 데이터 => 111 333 \n",
      "===============================\n",
      " 1.push  2.pop  3.view  4.종료 \n",
      "===============================\n",
      "원하는 메뉴를 입력하고 Enter 키를 누르세요: 1\n",
      "스택에 저장할 데이터를 입력하세요: 999\n",
      "스택에 저장된 데이터 => 111 333 999 \n",
      "===============================\n",
      " 1.push  2.pop  3.view  4.종료 \n",
      "===============================\n",
      "원하는 메뉴를 입력하고 Enter 키를 누르세요: 1\n",
      "스택에 저장할 데이터를 입력하세요: 111\n",
      "111는(은) 중복된 데이터 입니다.\n",
      "스택에 저장된 데이터 => 111 333 999 \n",
      "===============================\n",
      " 1.push  2.pop  3.view  4.종료 \n",
      "===============================\n",
      "원하는 메뉴를 입력하고 Enter 키를 누르세요: 1\n",
      "스택에 저장할 데이터를 입력하세요: 777\n",
      "스택에 저장된 데이터 => 111 333 999 777 \n",
      "===============================\n",
      " 1.push  2.pop  3.view  4.종료 \n",
      "===============================\n",
      "원하는 메뉴를 입력하고 Enter 키를 누르세요: 1\n",
      "스택에 저장할 데이터를 입력하세요: 888\n",
      "스택에 저장된 데이터 => 111 333 999 777 888 \n",
      "===============================\n",
      " 1.push  2.pop  3.view  4.종료 \n",
      "===============================\n",
      "원하는 메뉴를 입력하고 Enter 키를 누르세요: 1\n",
      "스택에 저장할 데이터를 입력하세요: 555\n",
      "overflow 발생... 스택이 가득차서 555를(을) 저장할 수 없습니다.\n",
      "스택에 저장된 데이터 => 111 333 999 777 888 \n",
      "===============================\n",
      " 1.push  2.pop  3.view  4.종료 \n",
      "===============================\n",
      "원하는 메뉴를 입력하고 Enter 키를 누르세요: 3\n",
      "스택에 저장된 데이터 => 111 333 999 777 888 \n",
      "===============================\n",
      " 1.push  2.pop  3.view  4.종료 \n",
      "===============================\n",
      "원하는 메뉴를 입력하고 Enter 키를 누르세요: 2\n",
      "pop 데이터: 888\n",
      "스택에 저장된 데이터 => 111 333 999 777 \n",
      "===============================\n",
      " 1.push  2.pop  3.view  4.종료 \n",
      "===============================\n",
      "원하는 메뉴를 입력하고 Enter 키를 누르세요: 2\n",
      "pop 데이터: 777\n",
      "스택에 저장된 데이터 => 111 333 999 \n",
      "===============================\n",
      " 1.push  2.pop  3.view  4.종료 \n",
      "===============================\n",
      "원하는 메뉴를 입력하고 Enter 키를 누르세요: 2\n",
      "pop 데이터: 999\n",
      "스택에 저장된 데이터 => 111 333 \n",
      "===============================\n",
      " 1.push  2.pop  3.view  4.종료 \n",
      "===============================\n",
      "원하는 메뉴를 입력하고 Enter 키를 누르세요: 2\n",
      "pop 데이터: 333\n",
      "스택에 저장된 데이터 => 111 \n",
      "===============================\n",
      " 1.push  2.pop  3.view  4.종료 \n",
      "===============================\n",
      "원하는 메뉴를 입력하고 Enter 키를 누르세요: 2\n",
      "pop 데이터: 111\n",
      "스택에 저장된 데이터 => 없음\n",
      "===============================\n",
      " 1.push  2.pop  3.view  4.종료 \n",
      "===============================\n",
      "원하는 메뉴를 입력하고 Enter 키를 누르세요: 2\n",
      "스택에 저장된 데이터가 없습니다.\n",
      "===============================\n",
      " 1.push  2.pop  3.view  4.종료 \n",
      "===============================\n",
      "원하는 메뉴를 입력하고 Enter 키를 누르세요: 3\n",
      "스택에 저장된 데이터 => 없음\n",
      "===============================\n",
      " 1.push  2.pop  3.view  4.종료 \n",
      "===============================\n",
      "원하는 메뉴를 입력하고 Enter 키를 누르세요: 4\n",
      "===============================\n",
      " 1.push  2.pop  3.view  4.종료 \n",
      "===============================\n"
     ]
    },
    {
     "ename": "KeyboardInterrupt",
     "evalue": "Interrupted by user",
     "output_type": "error",
     "traceback": [
      "\u001b[1;31m---------------------------------------------------------------------------\u001b[0m",
      "\u001b[1;31mKeyboardInterrupt\u001b[0m                         Traceback (most recent call last)",
      "\u001b[1;32m<ipython-input-4-ae96937be7f2>\u001b[0m in \u001b[0;36m<module>\u001b[1;34m\u001b[0m\n\u001b[0;32m      5\u001b[0m         \u001b[0mprint\u001b[0m\u001b[1;33m(\u001b[0m\u001b[1;34m' 1.push  2.pop  3.view  4.종료 '\u001b[0m\u001b[1;33m)\u001b[0m\u001b[1;33m\u001b[0m\u001b[1;33m\u001b[0m\u001b[0m\n\u001b[0;32m      6\u001b[0m         \u001b[0mprint\u001b[0m\u001b[1;33m(\u001b[0m\u001b[1;34m'='\u001b[0m \u001b[1;33m*\u001b[0m \u001b[1;36m31\u001b[0m\u001b[1;33m)\u001b[0m\u001b[1;33m\u001b[0m\u001b[1;33m\u001b[0m\u001b[0m\n\u001b[1;32m----> 7\u001b[1;33m         \u001b[0mmenu\u001b[0m \u001b[1;33m=\u001b[0m \u001b[0mint\u001b[0m\u001b[1;33m(\u001b[0m\u001b[0minput\u001b[0m\u001b[1;33m(\u001b[0m\u001b[1;34m'원하는 메뉴를 입력하고 Enter 키를 누르세요: '\u001b[0m\u001b[1;33m)\u001b[0m\u001b[1;33m)\u001b[0m\u001b[1;33m\u001b[0m\u001b[1;33m\u001b[0m\u001b[0m\n\u001b[0m\u001b[0;32m      8\u001b[0m         \u001b[1;32mif\u001b[0m \u001b[0mmenu\u001b[0m \u001b[1;32min\u001b[0m \u001b[1;33m[\u001b[0m\u001b[1;36m1\u001b[0m\u001b[1;33m,\u001b[0m \u001b[1;36m2\u001b[0m\u001b[1;33m,\u001b[0m \u001b[1;36m3\u001b[0m\u001b[1;33m,\u001b[0m \u001b[1;36m4\u001b[0m\u001b[1;33m]\u001b[0m\u001b[1;33m:\u001b[0m\u001b[1;33m\u001b[0m\u001b[1;33m\u001b[0m\u001b[0m\n\u001b[0;32m      9\u001b[0m             \u001b[1;32mbreak\u001b[0m\u001b[1;33m\u001b[0m\u001b[1;33m\u001b[0m\u001b[0m\n",
      "\u001b[1;32mc:\\python\\lib\\site-packages\\ipykernel\\kernelbase.py\u001b[0m in \u001b[0;36mraw_input\u001b[1;34m(self, prompt)\u001b[0m\n\u001b[0;32m    852\u001b[0m             \u001b[0mself\u001b[0m\u001b[1;33m.\u001b[0m\u001b[0m_parent_ident\u001b[0m\u001b[1;33m,\u001b[0m\u001b[1;33m\u001b[0m\u001b[1;33m\u001b[0m\u001b[0m\n\u001b[0;32m    853\u001b[0m             \u001b[0mself\u001b[0m\u001b[1;33m.\u001b[0m\u001b[0m_parent_header\u001b[0m\u001b[1;33m,\u001b[0m\u001b[1;33m\u001b[0m\u001b[1;33m\u001b[0m\u001b[0m\n\u001b[1;32m--> 854\u001b[1;33m             \u001b[0mpassword\u001b[0m\u001b[1;33m=\u001b[0m\u001b[1;32mFalse\u001b[0m\u001b[1;33m,\u001b[0m\u001b[1;33m\u001b[0m\u001b[1;33m\u001b[0m\u001b[0m\n\u001b[0m\u001b[0;32m    855\u001b[0m         )\n\u001b[0;32m    856\u001b[0m \u001b[1;33m\u001b[0m\u001b[0m\n",
      "\u001b[1;32mc:\\python\\lib\\site-packages\\ipykernel\\kernelbase.py\u001b[0m in \u001b[0;36m_input_request\u001b[1;34m(self, prompt, ident, parent, password)\u001b[0m\n\u001b[0;32m    893\u001b[0m             \u001b[1;32mexcept\u001b[0m \u001b[0mKeyboardInterrupt\u001b[0m\u001b[1;33m:\u001b[0m\u001b[1;33m\u001b[0m\u001b[1;33m\u001b[0m\u001b[0m\n\u001b[0;32m    894\u001b[0m                 \u001b[1;31m# re-raise KeyboardInterrupt, to truncate traceback\u001b[0m\u001b[1;33m\u001b[0m\u001b[1;33m\u001b[0m\u001b[1;33m\u001b[0m\u001b[0m\n\u001b[1;32m--> 895\u001b[1;33m                 \u001b[1;32mraise\u001b[0m \u001b[0mKeyboardInterrupt\u001b[0m\u001b[1;33m(\u001b[0m\u001b[1;34m\"Interrupted by user\"\u001b[0m\u001b[1;33m)\u001b[0m \u001b[1;32mfrom\u001b[0m \u001b[1;32mNone\u001b[0m\u001b[1;33m\u001b[0m\u001b[1;33m\u001b[0m\u001b[0m\n\u001b[0m\u001b[0;32m    896\u001b[0m             \u001b[1;32mexcept\u001b[0m \u001b[0mException\u001b[0m \u001b[1;32mas\u001b[0m \u001b[0me\u001b[0m\u001b[1;33m:\u001b[0m\u001b[1;33m\u001b[0m\u001b[1;33m\u001b[0m\u001b[0m\n\u001b[0;32m    897\u001b[0m                 \u001b[0mself\u001b[0m\u001b[1;33m.\u001b[0m\u001b[0mlog\u001b[0m\u001b[1;33m.\u001b[0m\u001b[0mwarning\u001b[0m\u001b[1;33m(\u001b[0m\u001b[1;34m\"Invalid Message:\"\u001b[0m\u001b[1;33m,\u001b[0m \u001b[0mexc_info\u001b[0m\u001b[1;33m=\u001b[0m\u001b[1;32mTrue\u001b[0m\u001b[1;33m)\u001b[0m\u001b[1;33m\u001b[0m\u001b[1;33m\u001b[0m\u001b[0m\n",
      "\u001b[1;31mKeyboardInterrupt\u001b[0m: Interrupted by user"
     ]
    }
   ],
   "source": [
    "menu = 0\n",
    "while menu != 4:\n",
    "    while True:\n",
    "        print('=' * 31)\n",
    "        print(' 1.push  2.pop  3.view  4.종료 ')\n",
    "        print('=' * 31)\n",
    "        menu = int(input('원하는 메뉴를 입력하고 Enter 키를 누르세요: '))\n",
    "        if menu in [1, 2, 3, 4]:\n",
    "            break\n",
    "        else:\n",
    "            print('메뉴는 1 ~ 4 사이의 값만 입력해야 합니다.')\n",
    "        # ===== if\n",
    "    # ===== while True\n",
    "\n",
    "    if menu == 1:\n",
    "        data = input('스택에 저장할 데이터를 입력하세요: ')\n",
    "        stack.push(data)\n",
    "    elif menu == 2:\n",
    "        stack.pop()\n",
    "    elif menu == 3:\n",
    "        stack.view()\n",
    "    # ===== if\n",
    "# ===== while menu != 5\n",
    "print('프로그램을 종료합니다. 바이바이~~~~~')"
   ]
  },
  {
   "cell_type": "code",
   "execution_count": null,
   "id": "afa4b1b6",
   "metadata": {},
   "outputs": [],
   "source": []
  },
  {
   "cell_type": "code",
   "execution_count": null,
   "id": "134451ec",
   "metadata": {},
   "outputs": [],
   "source": []
  }
 ],
 "metadata": {
  "kernelspec": {
   "display_name": "Python 3",
   "language": "python",
   "name": "python3"
  },
  "language_info": {
   "codemirror_mode": {
    "name": "ipython",
    "version": 3
   },
   "file_extension": ".py",
   "mimetype": "text/x-python",
   "name": "python",
   "nbconvert_exporter": "python",
   "pygments_lexer": "ipython3",
   "version": "3.6.8"
  }
 },
 "nbformat": 4,
 "nbformat_minor": 5
}
