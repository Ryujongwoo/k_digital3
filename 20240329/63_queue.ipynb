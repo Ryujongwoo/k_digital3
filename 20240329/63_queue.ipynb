{
 "cells": [
  {
   "cell_type": "code",
   "execution_count": 10,
   "id": "f4c9d6e2",
   "metadata": {},
   "outputs": [],
   "source": [
    "class Queue:\n",
    "    def __init__(self, size=5):\n",
    "        self.queue = [] # 큐 역할을 할 빈 리스트\n",
    "        self.size = size # 큐의 크기\n",
    "        self.rear = 0 # 큐의 뒤쪽 포인터 => 큐에 데이터가 입력될 때 마다 1씩 증가한다.\n",
    "        self.front = 0 # 큐의 앞쪽 포인터 => 큐에 데이터가 제거될 때 마다 1씩 증가한다.\n",
    "    \n",
    "    def __str__(self):\n",
    "        return '큐의 크기: {}'.format(self.size)\n",
    "\n",
    "    # add => 입력\n",
    "    def add(self, data):\n",
    "        if data not in self.queue: # 중복 검사\n",
    "            if self.size > self.rear: # overflow 검사\n",
    "                # 큐에 데이터를 저장하고 rear를 1증가 시킨다.\n",
    "                self.queue.append(data)\n",
    "                self.rear += 1\n",
    "                print('큐에 {}을(를) 저장합니다. rear = {}, front = {}'.format(data, self.rear, self.front))\n",
    "            else:\n",
    "                print('overflow 발생... 큐가 가득차서 {}를(을) 저장할 수 없습니다.'.format(data))\n",
    "            # ===== if\n",
    "        else:\n",
    "            print('{}는(은) 중복된 데이터 입니다.'.format(data))\n",
    "        # ===== if\n",
    "    \n",
    "    # view => 보기\n",
    "    \n",
    "    \n",
    "    # remove => 출력 \n",
    "    "
   ]
  },
  {
   "cell_type": "code",
   "execution_count": 18,
   "id": "4874dccd",
   "metadata": {},
   "outputs": [
    {
     "name": "stdout",
     "output_type": "stream",
     "text": [
      "큐의 크기: 5\n",
      "================================================================================\n",
      "큐에 111을(를) 저장합니다. rear = 1, front = 0\n",
      "111는(은) 중복된 데이터 입니다.\n",
      "큐에 333을(를) 저장합니다. rear = 2, front = 0\n",
      "큐에 999을(를) 저장합니다. rear = 3, front = 0\n",
      "큐에 555을(를) 저장합니다. rear = 4, front = 0\n",
      "큐에 777을(를) 저장합니다. rear = 5, front = 0\n",
      "overflow 발생... 큐가 가득차서 888를(을) 저장할 수 없습니다.\n"
     ]
    }
   ],
   "source": [
    "if __name__ == '__main__':\n",
    "    queue = Queue()\n",
    "    print(queue)\n",
    "    print('=' * 80)\n",
    "    queue.add(111)\n",
    "    queue.add(111)\n",
    "    queue.add(333)\n",
    "    queue.add(999)\n",
    "    queue.add(555)\n",
    "    queue.add(777)\n",
    "    queue.add(888)"
   ]
  },
  {
   "cell_type": "code",
   "execution_count": null,
   "id": "5d031118",
   "metadata": {},
   "outputs": [],
   "source": []
  },
  {
   "cell_type": "code",
   "execution_count": null,
   "id": "da3921b1",
   "metadata": {},
   "outputs": [],
   "source": []
  }
 ],
 "metadata": {
  "kernelspec": {
   "display_name": "Python 3",
   "language": "python",
   "name": "python3"
  },
  "language_info": {
   "codemirror_mode": {
    "name": "ipython",
    "version": 3
   },
   "file_extension": ".py",
   "mimetype": "text/x-python",
   "name": "python",
   "nbconvert_exporter": "python",
   "pygments_lexer": "ipython3",
   "version": "3.6.8"
  }
 },
 "nbformat": 4,
 "nbformat_minor": 5
}
