{
 "cells": [
  {
   "cell_type": "code",
   "execution_count": 1,
   "id": "f2a02454",
   "metadata": {},
   "outputs": [],
   "source": [
    "import warnings\n",
    "warnings.filterwarnings(action='ignore')\n",
    "%config Completer.use_jedi = False\n",
    "import numpy as np\n",
    "import pandas as pd\n",
    "import matplotlib.pyplot as plt\n",
    "import matplotlib as mpl\n",
    "mpl.rcParams['axes.unicode_minus'] = False\n",
    "plt.rcParams['font.family'] = 'NanumGothicCoding'\n",
    "plt.rcParams['font.size'] = 10\n",
    "import seaborn as sns\n",
    "\n",
    "from sklearn import datasets\n",
    "from sklearn.model_selection import train_test_split\n",
    "from sklearn.preprocessing import StandardScaler\n",
    "from sklearn.metrics import accuracy_score\n",
    "from sklearn.metrics import precision_score\n",
    "from sklearn.metrics import recall_score\n",
    "from sklearn.metrics import f1_score\n",
    "from sklearn.metrics import confusion_matrix\n",
    "from sklearn.metrics import classification_report\n",
    "from sklearn.metrics import mean_absolute_error\n",
    "from sklearn.metrics import mean_squared_error\n",
    "from sklearn.metrics import r2_score"
   ]
  },
  {
   "cell_type": "markdown",
   "id": "94864b33",
   "metadata": {},
   "source": [
    "서포트 벡터 머신(Support Vector Machine)은 벡터를 기준으로 클래스를 판별하는 방식으로 클래스를 구분하는 여러 방법 중 중심선과 경계선을 이용해 데이터를 구분한다. 경계선을 서포트 벡터라고 하며, 이것이 서포트 벡터 머신이라는 이름의 유래이다.\n",
    "\n",
    "중심선을 그리기 위해서는 중심선에 수직인 벡터 w를 구하는 것이 중요하다. 중심선에 수직인 벡터 w와 데이터 포인트 x를 내적했을 때 내적값 c가 되는 지점이 중심선이 되고 $w^T = c$라고 표현한다.\n",
    "\n",
    "내적값 c가 되는 지점인 중심선을 기준으로 영역을 나눌 수 있다. 데이데 공간을 내적없이 c보다 큰 영역과 c보다 작은 영역으로 각각 나누면 중심선의 윗부분과 아랫부분을 나눌 수 있다는 것을 알 수 있다.\n",
    "\n",
    "서포트 벡터 머신은 마진(Margin)을 최대화 하는 것이 목표이다. 마진이란 서포트 벡터간 너비를 의미한다.\n",
    "\n",
    "소프트 마진(Soft Magine)  \n",
    "서포트 벡터 머신은 데이터가 잘못 분류되는 경우를 고려하지 않는다. 하지만 잘못 분류된 데이터가 하나도 없다는 조건은 현실적으로 너무 엄격한 기준이므로 성립되기 어럽다. 소프트 마진은 기존 서포트 벡터 머신의 기준을 완화해서 잘못 분류된 데이터를 어느 정도 허용하는 방법이다.\n",
    "\n",
    "커널 소프트 벡터 머신(Kernel Support Vector Machine)  \n",
    "커널 소프트 벡터 머신이란 피쳐 공간을 변형한 후 서포트 벡터 머신을 적용하는 것을 의미한다.  \n",
    "좌표 평면을 빳빳한 종이라 생각하고 종이 위에 데이터가 퍼져있다고 가정하면 종이를 구부렸을 때 기존 좌표 공간과 구부러진 공간의 데이터 좌표가 서로 다를 것이다. 구부러진 공간에 서포트 벡터 머신을 적용한 후 종이를 펴면 데이터가 잘 분리된 것을 볼 수 있다.\n",
    "\n",
    "와인 데이터를 사용해 와인 종류를 분류하는 모델을 생성하고 학습시킨다."
   ]
  },
  {
   "cell_type": "code",
   "execution_count": 2,
   "id": "f0f3223c",
   "metadata": {},
   "outputs": [
    {
     "name": "stdout",
     "output_type": "stream",
     "text": [
      "(178, 13) (178,)\n",
      "(133, 13) (45, 13) (133,) (45,)\n"
     ]
    },
    {
     "data": {
      "text/plain": [
       "SVC()"
      ]
     },
     "execution_count": 2,
     "metadata": {},
     "output_type": "execute_result"
    }
   ],
   "source": [
    "# 데이터 불러오기\n",
    "raw_data = datasets.load_wine() # 사이킷런이 제공하는 와인 데이터를 불러온다.\n",
    "\n",
    "# 피쳐, 레이블 데이터 저장\n",
    "xData = raw_data.data # 피쳐 데이터를 저장한다.\n",
    "yData = raw_data.target # 피쳐 데이터에 따른 레이블을 저장한다.\n",
    "print(xData.shape, yData.shape)\n",
    "\n",
    "# 학습 데이터와 테스트 데이터로 분할\n",
    "x_train, x_test, y_train, y_test = train_test_split(xData, yData, random_state=0)\n",
    "print(x_train.shape, x_test.shape, y_train.shape, y_test.shape)\n",
    "\n",
    "# 데이터 표준화\n",
    "std_scale = StandardScaler() # 표준화 스케일러 객체를 만든다.\n",
    "x_train = std_scale.fit_transform(x_train) # 학습 데이터를 스케일러로 표준화 하고 적용한다.\n",
    "x_test = std_scale.transform(x_test) # 테스트 데이터를 학습 데이터로 표준화 스케일러에 적용한다.\n",
    "\n",
    "# 모델 생성 후 데이터 학습\n",
    "from sklearn.svm import SVC # 서포트 벡터 머신 알고리즘을 사용하기 위해 import 한다.\n",
    "# 서포트 벡터 머신 모델의 kernel 속성으로 커널 함수 종류를 지정해서 모델을 만든다.\n",
    "# kernel 속성의 기본값은 'rbf'(방사 기저 함수)이고 'linear'(선형), 'poly'(다항식), 'sigmoid' 중에서 지정 가능하다.\n",
    "# 학습된 모델로 테스트 데이터를 예측할 때 predict() 메소드일 경우는 아무런 문제가 없지만 예측 결과를 비율로\n",
    "# 얻어오는 predict_proba() 메소드를 실행하려 한다면 probability 속성을 True로 설정해야 한다.\n",
    "clf = SVC(kernel='rbf')\n",
    "# 표준화된 학습 데이터와 학습 데이터에 따른 레이블 데이터로 서포트 벡터 머신 모델을 학습시킨다.\n",
    "clf.fit(x_train, y_train)"
   ]
  },
  {
   "cell_type": "markdown",
   "id": "d0da5357",
   "metadata": {},
   "source": [
    "학습된 모델로 테스트 데이터를 예측한다."
   ]
  },
  {
   "cell_type": "code",
   "execution_count": 3,
   "id": "26215333",
   "metadata": {},
   "outputs": [
    {
     "name": "stdout",
     "output_type": "stream",
     "text": [
      "[0 2 1 0 1 1 0 2 1 1 2 2 0 1 2 1 0 0 1 0 1 0 0 1 1 1 1 1 1 2 0 0 1 0 0 0 2\n",
      " 1 1 2 0 0 1 1 1]\n"
     ]
    }
   ],
   "source": [
    "# predict() 메소드의 인수로 표준화된 테스트 데이터를 넘겨서 예측한다.\n",
    "predict = clf.predict(x_test)\n",
    "# predict_proba() 메소드를 사용하려면 서포트 벡터 머신 모델 생성시 probability=True 속성을\n",
    "# 반드시 지정해야 한다.\n",
    "# predict = clf.predict_proba(x_test)\n",
    "print(predict)"
   ]
  },
  {
   "cell_type": "markdown",
   "id": "94daef72",
   "metadata": {},
   "source": [
    "학습된 모델을 평가한다."
   ]
  },
  {
   "cell_type": "code",
   "execution_count": 4,
   "id": "f2ff3841",
   "metadata": {},
   "outputs": [
    {
     "name": "stdout",
     "output_type": "stream",
     "text": [
      "[[16  0  0]\n",
      " [ 0 21  0]\n",
      " [ 0  0  8]]\n"
     ]
    }
   ],
   "source": [
    "# 혼동 행렬\n",
    "# confusion_matrix() 메소드의 인수를 테스트 데이터의 실제값, 예측값 순서로 넘겨서 혼동 행렬를 만든다.\n",
    "conf_matrix = confusion_matrix(y_test, predict)\n",
    "print(conf_matrix)"
   ]
  },
  {
   "cell_type": "code",
   "execution_count": 5,
   "id": "ffe3ee02",
   "metadata": {},
   "outputs": [
    {
     "name": "stdout",
     "output_type": "stream",
     "text": [
      "              precision    recall  f1-score   support\n",
      "\n",
      "           A       1.00      1.00      1.00        16\n",
      "           B       1.00      1.00      1.00        21\n",
      "           C       1.00      1.00      1.00         8\n",
      "\n",
      "    accuracy                           1.00        45\n",
      "   macro avg       1.00      1.00      1.00        45\n",
      "weighted avg       1.00      1.00      1.00        45\n",
      "\n"
     ]
    }
   ],
   "source": [
    "# 분류 리포트\n",
    "# classification_report() 메소드의 인수를 테스트 데이터의 실제값, 예측값 순서로 넘겨서 분류 리포트를 만든다.\n",
    "# target_names 속성으로 분류 리포트에 레이블의 실제값을 출력할 수 있다.\n",
    "# class_report = classification_report(y_test, predict, target_names=raw_data.target_names) \n",
    "class_report = classification_report(y_test, predict, target_names=['A', 'B', 'C']) \n",
    "print(class_report)"
   ]
  },
  {
   "cell_type": "code",
   "execution_count": null,
   "id": "ba853262",
   "metadata": {},
   "outputs": [],
   "source": []
  },
  {
   "cell_type": "code",
   "execution_count": null,
   "id": "c5698218",
   "metadata": {},
   "outputs": [],
   "source": []
  }
 ],
 "metadata": {
  "kernelspec": {
   "display_name": "python37",
   "language": "python",
   "name": "python37"
  },
  "language_info": {
   "codemirror_mode": {
    "name": "ipython",
    "version": 3
   },
   "file_extension": ".py",
   "mimetype": "text/x-python",
   "name": "python",
   "nbconvert_exporter": "python",
   "pygments_lexer": "ipython3",
   "version": "3.7.1"
  }
 },
 "nbformat": 4,
 "nbformat_minor": 5
}
