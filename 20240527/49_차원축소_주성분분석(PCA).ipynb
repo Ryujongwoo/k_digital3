{
 "cells": [
  {
   "cell_type": "code",
   "execution_count": 1,
   "id": "d4197aa7",
   "metadata": {},
   "outputs": [],
   "source": [
    "import warnings\n",
    "warnings.filterwarnings(action='ignore')\n",
    "%config Completer.use_jedi = False\n",
    "import numpy as np\n",
    "import pandas as pd\n",
    "import matplotlib.pyplot as plt\n",
    "import matplotlib as mpl\n",
    "mpl.rcParams['axes.unicode_minus'] = False\n",
    "plt.rcParams['font.family'] = 'NanumGothicCoding'\n",
    "plt.rcParams['font.size'] = 10\n",
    "import seaborn as sns\n",
    "\n",
    "from sklearn import datasets\n",
    "from sklearn.model_selection import train_test_split\n",
    "from sklearn.preprocessing import StandardScaler\n",
    "from sklearn.metrics import accuracy_score\n",
    "from sklearn.metrics import precision_score\n",
    "from sklearn.metrics import recall_score\n",
    "from sklearn.metrics import f1_score\n",
    "from sklearn.metrics import confusion_matrix\n",
    "from sklearn.metrics import classification_report\n",
    "from sklearn.metrics import mean_absolute_error\n",
    "from sklearn.metrics import mean_squared_error\n",
    "from sklearn.metrics import r2_score"
   ]
  },
  {
   "cell_type": "markdown",
   "id": "ee952039",
   "metadata": {},
   "source": [
    "차원 축소(Dimension Reduction)\n",
    "\n",
    "데이터에는 중요한 부분과 중요하기 않은 부분이 존재한다.  \n",
    "중요하기 않은 부분을 노이즈(Noise)라 하며 노이즈는 데이터에서 정보를 얻을 때 방해가 되는 부분을 의미한다. 머신러닝 과정에서 불필요한 노이즈를 제거하는 것이 중요하고 노이즈를 제거할 때 사용하는 방법이 차원 축소이다. 차원 축소를 통해 데이터의 중요하지 않은 부분인 노이즈를 제거할 수 있기에 널리 사용되고 있다.\n",
    "\n",
    "차원 축소는 주어진 데이터의 정보 손실을 최소화하면서 차원을 줄이는 것이 핵심이다. 차원 축소는 특징을 추출한다는 것과 밀접한 관련이 있고 특징을 추출한다는 것은 데이터엣 두드러진 면을 찾는 것과 같다.\n",
    "\n",
    "차원 축소는 비지도 학습, 지도 학습과 마찬가지로 비지도 학습 차원 축소로 접근할 수 있고, 지도 학습 차원 축소로 접근할 수로 있다. 비지도 학습적인 접근 방법에는 대표적으로 주성분 분석(Principal Component Analysis)과 같은 방법이 있고, 지도 학습적인 접근 방법에는 선형 판별 분석(Linear Discriminame Analysis)과 같은 방법이 있다.\n",
    "\n",
    "차원의 저주(curse of dimensionality)\n",
    "\n",
    "차원 축소를 하는 이유 중 하나는 차원의 저주 문제를 해결할 수 있기 때문이다. 차원의 저주란 데이터의 차원(피쳐의 개수)이 커질수록 해당 차원을 표현하기 위해 필요한 데이터가 기하급수적으로 많아짐을 의미한다. 학습 데이터 셋의 차원이 클 수록 차원의 저주 때문에 해당 공간을 적절히 표현하지 못하여 과대 적합될 확률이 높아진다.\n",
    "\n",
    "주성분 분석은 차원 축소 방법의 하나로 여러 피쳐가 통계적으로 서로 상관 관계가 없도록 변환시키는 방법이다.\n",
    "\n",
    "주성분 분석은 피쳐 간 상관 관계를 기반으로 데이터의 특성을 파악한다.  \n",
    "먼저 데이터 셋의 공분산 행렬의 고유값과 고유 벡터를 구한다. 이때, 고유값은 고유 벡터의 크기를 나타내며 분산의 크기를 의미한다. 또한 고유 벡터는 분산의 방향을 의미한다. 분산이 큰 고유 벡터에 기존 데이터를 투영해서 새로운 벡터를 구할 수 있는데, 이렇게 구한 벡터를 주성분 벡터라 부른다.\n",
    "\n",
    "공분산을 안다는 것은 상관 계수도 알 수 있다는 뜻이다. 고유 벡터를 통해 알 수 있는 사실은 각 피쳐의 분산 방향을 알 수 있고 고유값을 통해서는 분산의 크기를 알 수 있다. 즉, 데이터가 여러 방향으로 흩어져 있을때, 고유 벡터를 사용하면 각 흩어짐에 대한 방향을 파악할 수 있으며, 고유값을 이용하면 어느 정도 흩어져 있는지 그 크기를 확인할 수 있다는 뜻이다.\n",
    "\n",
    "공분산의 행렬이 p차원이라면 고유값도 p개를 구할 수 있다. 고유값은 데이터의 흩어진 정도의 크기라고 했으므로 p개를 모두 더하면 데이터 셋 전체의 변동성이 된다. 전체 변동성 대비 i번째 주성분이 설명하는 비율을 수식으로 나타내면 아래와 같다.\n",
    "\n",
    "$$\\frac{\\lambda_i}{\\lambda_1 + \\lambda_2 + \\lambda_3 + \\dots + \\lambda_p}$$\n",
    "\n",
    "위 식을 이용하면 해당 고유값이 전체 변동성의 크기 중 어느 정도를 설명하는 지 알 수 있다. 이를 설명된 분산(Explained Variance)이라고 한다. 예를들면, p차원의 데이터를 2차원으로 줄이기로 한다면, 가장 큰 고유값 2개를 $\\lambda_1, \\lambda_2$라고 하고 이를 설명된 분산을 구하기 위해 아래 처럼 구했다 가정하면\n",
    "\n",
    "$$\\frac{\\lambda_1 + \\lambda_2}{\\lambda_1 + \\lambda_2 + \\lambda_3 + \\dots + \\lambda_p} = 0.94$$\n",
    "\n",
    "위 결과를 통해 전체 변동성 $\\lambda_1, \\lambda_2$로 설명되는 변동성이 94%라는 것을 알 수 있다. 즉, 전체 p차원의 데이터를 2차원으로 줄였을 때, 전체 변동성의 94%가 설명 가능하다는 뜻이다.\n",
    "\n",
    "와인 데이터를 이용해 주성분 분석을 통해 차원을 축소해 본 후 차원을 축소하기 전과 차원을 축소한 후 정확도가 어떻게 달라지는지 알아본다."
   ]
  },
  {
   "cell_type": "code",
   "execution_count": 2,
   "id": "daa184fb",
   "metadata": {},
   "outputs": [
    {
     "name": "stdout",
     "output_type": "stream",
     "text": [
      "(178, 13) (178,)\n",
      "(133, 13) (45, 13) (133,) (45,)\n"
     ]
    }
   ],
   "source": [
    "# 데이터 불러오기\n",
    "raw_data = datasets.load_wine() # 사이킷런이 제공하는 와인 데이터를 불러온다.\n",
    "\n",
    "# 피쳐, 레이블 데이터 저장\n",
    "xData = raw_data.data # 피쳐 데이터를 저장한다.\n",
    "yData = raw_data.target # 피쳐 데이터에 따른 레이블을 저장한다.\n",
    "print(xData.shape, yData.shape)\n",
    "\n",
    "# 학습 데이터와 테스트 데이터로 분할\n",
    "x_train, x_test, y_train, y_test = train_test_split(xData, yData, random_state=1)\n",
    "print(x_train.shape, x_test.shape, y_train.shape, y_test.shape)\n",
    "\n",
    "# 데이터 표준화\n",
    "std_scale = StandardScaler() # 표준화 스케일러 객체를 만든다.\n",
    "x_train = std_scale.fit_transform(x_train) # 학습 데이터를 스케일러로 표준화 하고 적용한다.\n",
    "x_test = std_scale.transform(x_test) # 테스트 데이터를 학습 데이터로 표준화 스케일러에 적용한다."
   ]
  },
  {
   "cell_type": "markdown",
   "id": "12acd01d",
   "metadata": {},
   "source": [
    "주성분 분석을 통한 차원 축소"
   ]
  },
  {
   "cell_type": "code",
   "execution_count": 3,
   "id": "9c0f01d0",
   "metadata": {},
   "outputs": [
    {
     "name": "stdout",
     "output_type": "stream",
     "text": [
      "(133, 2) (45, 2)\n"
     ]
    }
   ],
   "source": [
    "from sklearn.decomposition import PCA # 주성분 분석 알고리즘을 사용하기 위해 import 한다.\n",
    "# n_components 속성에 축소할 차원의 크기를 지정하고 주성분 분석 모델을 만든다.\n",
    "pca = PCA(n_components=2)\n",
    "\n",
    "# pca.fit(x_train) # 학습 데이터로 주성분 분석 모델을 학습시킨다.\n",
    "# x_train = pca.transform(x_train) # 학습된 주성분 분석 모델에 학습 데이터를 적용시킨다.\n",
    "x_train_pca = pca.fit_transform(x_train) # 주성분 분석 모델을 학습하고 학습 데이터를 적용시킨다.\n",
    "# 학습은 학습 데이터로만 해야하고 테스트 데이터는 학습 데이터로 학습된 결과에 적용만 시킨다.\n",
    "x_test_pca = pca.transform(x_test)\n",
    "\n",
    "# 차원 축소 이전 데이터의 차원을 확인하면 차원 축소전의 피쳐 데이터는 13차원의 데이터 133개로 구성되어 있음을\n",
    "# 알 수 있고 주성분 분석을 이용해 차원 축소한 데이터는 2차원 데이터 133개로 구성되어 있음을 알 수 있다.\n",
    "print(x_train_pca.shape, x_test_pca.shape)"
   ]
  },
  {
   "cell_type": "code",
   "execution_count": 4,
   "id": "91f97628",
   "metadata": {
    "scrolled": true
   },
   "outputs": [
    {
     "name": "stdout",
     "output_type": "stream",
     "text": [
      "[[ 1.06244198  0.05588975  0.29643474 -0.14674317  0.38769443  0.25079577\n",
      "   0.19779094 -0.10070718  0.17126277  0.44742545 -0.12013532  0.02879752\n",
      "   0.50505224]\n",
      " [ 0.05588975  0.86510155  0.11906446  0.23837434  0.00721146 -0.39785163\n",
      "  -0.4503856   0.31716671 -0.30728109  0.30100181 -0.42357315 -0.45825394\n",
      "  -0.14345856]\n",
      " [ 0.29643474  0.11906446  0.72597065 -0.01380654  0.20891722  0.02618151\n",
      "  -0.01633577  0.03209892  0.00824227  0.32033554 -0.17879769 -0.10868048\n",
      "   0.2307792 ]\n",
      " [-0.14674317  0.23837434 -0.01380654  0.77557799 -0.13456582 -0.4028355\n",
      "  -0.42487887  0.28525095 -0.30301432  0.07431753 -0.28885443 -0.36992936\n",
      "  -0.2952175 ]\n",
      " [ 0.38769443  0.00721146  0.20891722 -0.13456582  0.82428285  0.22898335\n",
      "   0.19490044 -0.10843832  0.16009666  0.30262412 -0.0453494   0.06951315\n",
      "   0.39222323]\n",
      " [ 0.25079577 -0.39785163  0.02618151 -0.4028355   0.22898335  1.21144743\n",
      "   0.7122459  -0.47784458  0.50827447 -0.11953458  0.48155509  0.61862946\n",
      "   0.49873766]\n",
      " [ 0.19779094 -0.4503856  -0.01633577 -0.42487887  0.19490044  0.7122459\n",
      "   1.29615797 -0.51523054  0.53821522 -0.20128733  0.55318211  0.68259141\n",
      "   0.476491  ]\n",
      " [-0.10070718  0.31716671  0.03209892  0.28525095 -0.10843832 -0.47784458\n",
      "  -0.51523054  0.88680515 -0.36236459  0.17130085 -0.39315908 -0.47274872\n",
      "  -0.29608349]\n",
      " [ 0.17126277 -0.30728109  0.00824227 -0.30301432  0.16009666  0.50827447\n",
      "   0.53821522 -0.36236459  0.91837171 -0.10951144  0.37402456  0.4731808\n",
      "   0.36224473]\n",
      " [ 0.44742545  0.30100181  0.32033554  0.07431753  0.30262412 -0.11953458\n",
      "  -0.20128733  0.17130085 -0.10951144  1.11400146 -0.42381722 -0.3369003\n",
      "   0.27449782]\n",
      " [-0.12013532 -0.42357315 -0.17879769 -0.28885443 -0.0453494   0.48155509\n",
      "   0.55318211 -0.39315908  0.37402456 -0.42381722  1.0843246   0.57894667\n",
      "   0.13493049]\n",
      " [ 0.02879752 -0.45825394 -0.10868048 -0.36992936  0.06951315  0.61862946\n",
      "   0.68259141 -0.47274872  0.4731808  -0.3369003   0.57894667  1.19451641\n",
      "   0.30839956]\n",
      " [ 0.50505224 -0.14345856  0.2307792  -0.2952175   0.39222323  0.49873766\n",
      "   0.476491   -0.29608349  0.36224473  0.27449782  0.13493049  0.30839956\n",
      "   1.13948511]]\n"
     ]
    }
   ],
   "source": [
    "# 공분산 행렬을 확인한다.\n",
    "# get_covariance() 메소드로 차원 축소에 사용된 공분산 행렬을 얻어올 수 있다.\n",
    "print(pca.get_covariance())"
   ]
  },
  {
   "cell_type": "code",
   "execution_count": 5,
   "id": "1a40cb1c",
   "metadata": {},
   "outputs": [
    {
     "name": "stdout",
     "output_type": "stream",
     "text": [
      "[24.81797394 18.31760391]\n"
     ]
    }
   ],
   "source": [
    "# 고유값을 확인한다.\n",
    "# singular_values_ 속성으로 고유값을 확인할 수 있다.\n",
    "# 13차원의 학습 데이터를 2차원으로 차원을 축소했으므로 2개의 고유값을 확인할 수 있다.\n",
    "print(pca.singular_values_)"
   ]
  },
  {
   "cell_type": "code",
   "execution_count": 6,
   "id": "bf01dd5a",
   "metadata": {},
   "outputs": [
    {
     "name": "stdout",
     "output_type": "stream",
     "text": [
      "[[-0.10418545  0.25670612  0.01387486  0.23907587 -0.10470229 -0.4007005\n",
      "  -0.42902734  0.29111343 -0.30307602  0.12127653 -0.31609521 -0.38729685\n",
      "  -0.26283936]\n",
      " [-0.49018724 -0.1691503  -0.30746987  0.04459018 -0.34837302 -0.07966456\n",
      "  -0.0133774  -0.02498633 -0.0415164  -0.50798383  0.26045807  0.14018631\n",
      "  -0.39850143]]\n"
     ]
    }
   ],
   "source": [
    "# 고유 벡터를 확인한다.\n",
    "# components_ 속성으로 고유 벡터를 확인할 수 있다.\n",
    "# 고유 벡터는 각 고유값에 대응되는 벡터로, 이 고유 벡터가 주성분 벡터이다.\n",
    "print(pca.components_)"
   ]
  },
  {
   "cell_type": "code",
   "execution_count": 7,
   "id": "a6a65be8",
   "metadata": {},
   "outputs": [
    {
     "name": "stdout",
     "output_type": "stream",
     "text": [
      "[4.66615023 2.54192889]\n",
      "[0.35623588 0.19406282]\n",
      "0.5502986949470537\n"
     ]
    }
   ],
   "source": [
    "# 차원 축소를 통해 얻어진 주성분 벡터가 전체 분산 대비 설명하는 정도를 살펴본다.\n",
    "# explained_variance_ 속성으로 설명되는 분산을 확인할 수 있다.\n",
    "print(pca.explained_variance_)\n",
    "# explained_variance_ratio_ 속성으로 전체 분산대비 설명되는 분산을 확인할 수 있다.\n",
    "# 첫 번째 주성분은 전체 분산의 37.3%를 두 번째 주성분은 전체 분산의 18.7% 정도를 설명한다는 것을 알 수 있다.\n",
    "print(pca.explained_variance_ratio_)\n",
    "# 첫 번째, 두 번째 주성분으로 전체 분산의 56% 정도를 설명한다.\n",
    "print(sum(pca.explained_variance_ratio_))"
   ]
  },
  {
   "cell_type": "markdown",
   "id": "ce492780",
   "metadata": {},
   "source": [
    "주성분 분석을 통해 차원 축소된 데이터 시각화"
   ]
  },
  {
   "cell_type": "code",
   "execution_count": 8,
   "id": "197259ce",
   "metadata": {},
   "outputs": [
    {
     "data": {
      "text/html": [
       "<div>\n",
       "<style scoped>\n",
       "    .dataframe tbody tr th:only-of-type {\n",
       "        vertical-align: middle;\n",
       "    }\n",
       "\n",
       "    .dataframe tbody tr th {\n",
       "        vertical-align: top;\n",
       "    }\n",
       "\n",
       "    .dataframe thead th {\n",
       "        text-align: right;\n",
       "    }\n",
       "</style>\n",
       "<table border=\"1\" class=\"dataframe\">\n",
       "  <thead>\n",
       "    <tr style=\"text-align: right;\">\n",
       "      <th></th>\n",
       "      <th>pca_comp1</th>\n",
       "      <th>pca_comp2</th>\n",
       "      <th>label</th>\n",
       "    </tr>\n",
       "  </thead>\n",
       "  <tbody>\n",
       "    <tr>\n",
       "      <th>0</th>\n",
       "      <td>-2.231848</td>\n",
       "      <td>-0.148603</td>\n",
       "      <td>0</td>\n",
       "    </tr>\n",
       "    <tr>\n",
       "      <th>1</th>\n",
       "      <td>-1.364444</td>\n",
       "      <td>0.422617</td>\n",
       "      <td>1</td>\n",
       "    </tr>\n",
       "    <tr>\n",
       "      <th>2</th>\n",
       "      <td>-1.918072</td>\n",
       "      <td>-2.014682</td>\n",
       "      <td>0</td>\n",
       "    </tr>\n",
       "    <tr>\n",
       "      <th>3</th>\n",
       "      <td>-3.539272</td>\n",
       "      <td>-2.878394</td>\n",
       "      <td>0</td>\n",
       "    </tr>\n",
       "    <tr>\n",
       "      <th>4</th>\n",
       "      <td>-3.182320</td>\n",
       "      <td>-2.020041</td>\n",
       "      <td>0</td>\n",
       "    </tr>\n",
       "    <tr>\n",
       "      <th>...</th>\n",
       "      <td>...</td>\n",
       "      <td>...</td>\n",
       "      <td>...</td>\n",
       "    </tr>\n",
       "    <tr>\n",
       "      <th>128</th>\n",
       "      <td>1.995535</td>\n",
       "      <td>-0.227742</td>\n",
       "      <td>2</td>\n",
       "    </tr>\n",
       "    <tr>\n",
       "      <th>129</th>\n",
       "      <td>3.785334</td>\n",
       "      <td>-0.303041</td>\n",
       "      <td>2</td>\n",
       "    </tr>\n",
       "    <tr>\n",
       "      <th>130</th>\n",
       "      <td>0.530538</td>\n",
       "      <td>1.093638</td>\n",
       "      <td>1</td>\n",
       "    </tr>\n",
       "    <tr>\n",
       "      <th>131</th>\n",
       "      <td>2.625701</td>\n",
       "      <td>-0.163952</td>\n",
       "      <td>2</td>\n",
       "    </tr>\n",
       "    <tr>\n",
       "      <th>132</th>\n",
       "      <td>-1.269989</td>\n",
       "      <td>-0.298493</td>\n",
       "      <td>0</td>\n",
       "    </tr>\n",
       "  </tbody>\n",
       "</table>\n",
       "<p>133 rows × 3 columns</p>\n",
       "</div>"
      ],
      "text/plain": [
       "     pca_comp1  pca_comp2  label\n",
       "0    -2.231848  -0.148603      0\n",
       "1    -1.364444   0.422617      1\n",
       "2    -1.918072  -2.014682      0\n",
       "3    -3.539272  -2.878394      0\n",
       "4    -3.182320  -2.020041      0\n",
       "..         ...        ...    ...\n",
       "128   1.995535  -0.227742      2\n",
       "129   3.785334  -0.303041      2\n",
       "130   0.530538   1.093638      1\n",
       "131   2.625701  -0.163952      2\n",
       "132  -1.269989  -0.298493      0\n",
       "\n",
       "[133 rows x 3 columns]"
      ]
     },
     "execution_count": 8,
     "metadata": {},
     "output_type": "execute_result"
    }
   ],
   "source": [
    "# 차원 축소된 데이터 시각화를 위해 데이터프레임을 만든다.\n",
    "x_train_df = pd.DataFrame(x_train_pca, columns=['pca_comp1', 'pca_comp2'])\n",
    "x_train_df['label'] = y_train\n",
    "x_train_df"
   ]
  },
  {
   "cell_type": "code",
   "execution_count": 9,
   "id": "552a1b00",
   "metadata": {},
   "outputs": [
    {
     "data": {
      "image/png": "[encoded data removed]",
      "text/plain": [
       "<Figure size 800x600 with 1 Axes>"
      ]
     },
     "metadata": {},
     "output_type": "display_data"
    }
   ],
   "source": [
    "plt.figure(figsize=(8, 6))\n",
    "# 레이블이 적용되지 않은 경우에는 각 데이터가 어떤 와인 클래스를 나타내는지 알 수 없다.\n",
    "plt.scatter(x=x_train_df.pca_comp1, y=x_train_df.pca_comp2, marker='o')\n",
    "plt.title('레이블 미적용 주성분 분석 데이터 시각화')\n",
    "plt.xlabel('pca_comp1')\n",
    "plt.ylabel('pca_comp2')\n",
    "plt.show()"
   ]
  },
  {
   "cell_type": "code",
   "execution_count": 10,
   "id": "b24037f8",
   "metadata": {},
   "outputs": [
    {
     "data": {
      "image/png": "[encoded data removed]",
      "text/plain": [
       "<Figure size 800x600 with 1 Axes>"
      ]
     },
     "metadata": {},
     "output_type": "display_data"
    }
   ],
   "source": [
    "plt.figure(figsize=(8, 6))\n",
    "# 레이블이 적용되면 각 데이터가 어떤 와인 클래스를 나타내는지 알 수 있다.\n",
    "\n",
    "# 레이블 별로 데이터를 분할한다.\n",
    "df_0 = x_train_df[x_train_df.label == 0]\n",
    "df_1 = x_train_df[x_train_df.label == 1]\n",
    "df_2 = x_train_df[x_train_df.label == 2]\n",
    "\n",
    "# 레이블 별로 분할된 데이터의 첫 번째 주성분 벡터를 추출한다.\n",
    "pca_x0 = df_0.pca_comp1\n",
    "pca_x1 = df_1.pca_comp1\n",
    "pca_x2 = df_2.pca_comp1\n",
    "\n",
    "# 레이블 별로 분할된 데이터의 두 번째 주성분 벡터를 추출한다.\n",
    "pca_y0 = df_0.pca_comp2\n",
    "pca_y1 = df_1.pca_comp2\n",
    "pca_y2 = df_2.pca_comp2\n",
    "\n",
    "# 레이블 이름을 지정한다.\n",
    "label0 = raw_data.target_names[0]\n",
    "label1 = raw_data.target_names[1]\n",
    "label2 = raw_data.target_names[2]\n",
    "\n",
    "# 산포도를 그린다.\n",
    "plt.scatter(x=pca_x0, y=pca_y0, marker='o', label=label0)\n",
    "plt.scatter(x=pca_x1, y=pca_y1, marker='*', label=label1)\n",
    "plt.scatter(x=pca_x2, y=pca_y2, marker='^', label=label2)\n",
    "\n",
    "plt.title('레이블이 적용된 주성분 분석 데이터 시각화')\n",
    "plt.xlabel('pca_comp1')\n",
    "plt.ylabel('pca_comp2')\n",
    "plt.legend()\n",
    "plt.show()"
   ]
  },
  {
   "cell_type": "code",
   "execution_count": 11,
   "id": "b2abb7c7",
   "metadata": {},
   "outputs": [
    {
     "data": {
      "image/png": "[encoded data removed]",
      "text/plain": [
       "<Figure size 800x600 with 1 Axes>"
      ]
     },
     "metadata": {},
     "output_type": "display_data"
    }
   ],
   "source": [
    "# 위 셀의 시각화 코드를 반복문을 사용해서 만든다.\n",
    "plt.figure(figsize=(8, 6))\n",
    "markers = ['o', '*', '^']\n",
    "\n",
    "for index, marker in enumerate(markers):\n",
    "    df_index = x_train_df[x_train_df.label == index] # 레이블 별로 데이터를 분할한다.\n",
    "    x = df_index.pca_comp1 # 레이블 별로 분할된 데이터의 첫 번째 주성분 벡터를 추출한다.\n",
    "    y = df_index.pca_comp2 # 레이블 별로 분할된 데이터의 두 번째 주성분 벡터를 추출한다.\n",
    "    label = raw_data.target_names[0] # 레이블 이름을 지정한다.\n",
    "    plt.scatter(x=x, y=y, marker=marker, label=label) # 산포도를 그린다.\n",
    "\n",
    "plt.title('레이블이 적용된 주성분 분석 데이터 시각화')\n",
    "plt.xlabel('pca_comp1')\n",
    "plt.ylabel('pca_comp2')\n",
    "plt.legend()\n",
    "plt.show()"
   ]
  },
  {
   "cell_type": "markdown",
   "id": "8a91744a",
   "metadata": {},
   "source": [
    "주성분 분석 적용 전 데이터 학습"
   ]
  },
  {
   "cell_type": "code",
   "execution_count": 12,
   "id": "74bb10e9",
   "metadata": {},
   "outputs": [
    {
     "data": {
      "text/plain": [
       "RandomForestClassifier(max_depth=2, random_state=0)"
      ]
     },
     "execution_count": 12,
     "metadata": {},
     "output_type": "execute_result"
    }
   ],
   "source": [
    "# 모델 생성 후 데이터 학습\n",
    "from sklearn.ensemble import RandomForestClassifier # 앙상블 랜덤 포레스트 알고리즘을 사용하기 위해 import 한다.\n",
    "# 앙상블의 랜덤 포레스트도 모델을 만든다.\n",
    "clf = RandomForestClassifier(max_depth=2, random_state=0)\n",
    "# 표준화된 학습 데이터와 학습 데이터에 따른 레이블 데이터로 앙상블 랜덤 포레스트 모델을 학습시킨다.\n",
    "clf.fit(x_train, y_train)"
   ]
  },
  {
   "cell_type": "code",
   "execution_count": 13,
   "id": "57b91326",
   "metadata": {},
   "outputs": [
    {
     "name": "stdout",
     "output_type": "stream",
     "text": [
      "[2 1 0 1 0 2 1 0 2 1 0 0 1 0 1 1 2 0 1 0 0 1 2 0 0 2 0 0 0 2 1 2 2 0 1 1 1\n",
      " 1 1 0 0 1 2 0 0]\n"
     ]
    }
   ],
   "source": [
    "# predict() 메소드의 인수로 표준화된 테스트 데이터를 넘겨서 예측한다.\n",
    "predict = clf.predict(x_test)\n",
    "print(predict)"
   ]
  },
  {
   "cell_type": "code",
   "execution_count": 14,
   "id": "086a559c",
   "metadata": {},
   "outputs": [
    {
     "name": "stdout",
     "output_type": "stream",
     "text": [
      "[[18  0  0]\n",
      " [ 1 16  0]\n",
      " [ 0  0 10]]\n"
     ]
    }
   ],
   "source": [
    "# 혼동 행렬\n",
    "# confusion_matrix() 메소드의 인수를 테스트 데이터의 실제값, 예측값 순서로 넘겨서 혼동 행렬를 만든다.\n",
    "conf_matrix = confusion_matrix(y_test, predict)\n",
    "print(conf_matrix)"
   ]
  },
  {
   "cell_type": "code",
   "execution_count": 15,
   "id": "602c8c39",
   "metadata": {},
   "outputs": [
    {
     "name": "stdout",
     "output_type": "stream",
     "text": [
      "              precision    recall  f1-score   support\n",
      "\n",
      "           A       0.95      1.00      0.97        18\n",
      "           B       1.00      0.94      0.97        17\n",
      "           C       1.00      1.00      1.00        10\n",
      "\n",
      "    accuracy                           0.98        45\n",
      "   macro avg       0.98      0.98      0.98        45\n",
      "weighted avg       0.98      0.98      0.98        45\n",
      "\n"
     ]
    }
   ],
   "source": [
    "# 분류 리포트\n",
    "# classification_report() 메소드의 인수를 테스트 데이터의 실제값, 예측값 순서로 넘겨서 분류 리포트를 만든다.\n",
    "# target_names 속성으로 분류 리포트에 레이블의 실제값을 출력할 수 있다.\n",
    "# class_report = classification_report(y_test, predict, target_names=raw_data.target_names) \n",
    "class_report = classification_report(y_test, predict, target_names=['A', 'B', 'C']) \n",
    "print(class_report)"
   ]
  },
  {
   "cell_type": "markdown",
   "id": "3d6739fe",
   "metadata": {},
   "source": [
    "주성분 분석 적용 후 데이터 학습"
   ]
  },
  {
   "cell_type": "code",
   "execution_count": 16,
   "id": "6a5da533",
   "metadata": {},
   "outputs": [
    {
     "data": {
      "text/plain": [
       "RandomForestClassifier(max_depth=2, random_state=0)"
      ]
     },
     "execution_count": 16,
     "metadata": {},
     "output_type": "execute_result"
    }
   ],
   "source": [
    "# 표준화된 학습 데이터를 주성분 분석을 적용한 데이터와 학습 데이터에 따른 레이블 데이터를 앙상블 랜덤 포레스트 모델을 학습시킨다.\n",
    "clf.fit(x_train_pca, y_train)"
   ]
  },
  {
   "cell_type": "code",
   "execution_count": 17,
   "id": "7c2cb119",
   "metadata": {},
   "outputs": [
    {
     "name": "stdout",
     "output_type": "stream",
     "text": [
      "[2 1 0 1 0 2 1 0 2 1 0 0 1 0 1 1 2 0 1 0 0 1 0 0 0 2 0 0 0 2 1 2 2 0 1 1 1\n",
      " 1 1 0 0 1 2 0 0]\n"
     ]
    }
   ],
   "source": [
    "# predict() 메소드의 인수로 표준화된 테스트 데이터를 넘겨서 예측한다.\n",
    "predict = clf.predict(x_test_pca)\n",
    "print(predict)"
   ]
  },
  {
   "cell_type": "code",
   "execution_count": 18,
   "id": "304b7ab4",
   "metadata": {},
   "outputs": [
    {
     "name": "stdout",
     "output_type": "stream",
     "text": [
      "[[18  0  0]\n",
      " [ 1 16  0]\n",
      " [ 1  0  9]]\n"
     ]
    }
   ],
   "source": [
    "# 혼동 행렬\n",
    "# confusion_matrix() 메소드의 인수를 테스트 데이터의 실제값, 예측값 순서로 넘겨서 혼동 행렬를 만든다.\n",
    "conf_matrix = confusion_matrix(y_test, predict)\n",
    "print(conf_matrix)"
   ]
  },
  {
   "cell_type": "code",
   "execution_count": 19,
   "id": "701092d5",
   "metadata": {},
   "outputs": [
    {
     "name": "stdout",
     "output_type": "stream",
     "text": [
      "              precision    recall  f1-score   support\n",
      "\n",
      "           A       0.90      1.00      0.95        18\n",
      "           B       1.00      0.94      0.97        17\n",
      "           C       1.00      0.90      0.95        10\n",
      "\n",
      "    accuracy                           0.96        45\n",
      "   macro avg       0.97      0.95      0.95        45\n",
      "weighted avg       0.96      0.96      0.96        45\n",
      "\n"
     ]
    }
   ],
   "source": [
    "# 분류 리포트\n",
    "# classification_report() 메소드의 인수를 테스트 데이터의 실제값, 예측값 순서로 넘겨서 분류 리포트를 만든다.\n",
    "# target_names 속성으로 분류 리포트에 레이블의 실제값을 출력할 수 있다.\n",
    "# class_report = classification_report(y_test, predict, target_names=raw_data.target_names) \n",
    "class_report = classification_report(y_test, predict, target_names=['A', 'B', 'C']) \n",
    "print(class_report)"
   ]
  },
  {
   "cell_type": "markdown",
   "id": "dc30291c",
   "metadata": {},
   "source": [
    "PCA를 적용한 데이터의 정확도가 96%로 나타나는데, 이는 PCA 적용 이전보다 2%정도 줄어든 정확도를 보여준다.  \n",
    "PCA 적용 이전에는 13차원 데이터였는데, 이를 무려 11차원이나 줄여 2차원 데이터로 줄였는데도 정확도는 약 2% 정도의 감소로밖에 이어지지 않았다. 학습 비용을 고려할 때, 차원 축소를 이용하면 학습 비용 대비 정확도 감소는 적어서 효율적이라 볼 수 있다.\n",
    "\n",
    "실제로 고차원 데이터의 경우, 시스템의 리소스가 부족해 학습이 어려운 경우 경우가 있는데 차원 축소는 이러한 문제를 해결해 준다."
   ]
  },
  {
   "cell_type": "code",
   "execution_count": null,
   "id": "bebddf13",
   "metadata": {},
   "outputs": [],
   "source": []
  },
  {
   "cell_type": "code",
   "execution_count": null,
   "id": "ce8580aa",
   "metadata": {},
   "outputs": [],
   "source": []
  }
 ],
 "metadata": {
  "kernelspec": {
   "display_name": "python37",
   "language": "python",
   "name": "python37"
  },
  "language_info": {
   "codemirror_mode": {
    "name": "ipython",
    "version": 3
   },
   "file_extension": ".py",
   "mimetype": "text/x-python",
   "name": "python",
   "nbconvert_exporter": "python",
   "pygments_lexer": "ipython3",
   "version": "3.7.1"
  }
 },
 "nbformat": 4,
 "nbformat_minor": 5
}
