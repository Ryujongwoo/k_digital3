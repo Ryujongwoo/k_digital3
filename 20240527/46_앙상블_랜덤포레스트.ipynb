{
 "cells": [
  {
   "cell_type": "code",
   "execution_count": 1,
   "id": "02e5e482",
   "metadata": {},
   "outputs": [],
   "source": [
    "import warnings\n",
    "warnings.filterwarnings(action='ignore')\n",
    "%config Completer.use_jedi = False\n",
    "import numpy as np\n",
    "import pandas as pd\n",
    "import matplotlib.pyplot as plt\n",
    "import matplotlib as mpl\n",
    "mpl.rcParams['axes.unicode_minus'] = False\n",
    "plt.rcParams['font.family'] = 'NanumGothicCoding'\n",
    "plt.rcParams['font.size'] = 10\n",
    "import seaborn as sns\n",
    "\n",
    "from sklearn import datasets\n",
    "from sklearn.model_selection import train_test_split\n",
    "from sklearn.preprocessing import StandardScaler\n",
    "from sklearn.metrics import accuracy_score\n",
    "from sklearn.metrics import precision_score\n",
    "from sklearn.metrics import recall_score\n",
    "from sklearn.metrics import f1_score\n",
    "from sklearn.metrics import confusion_matrix\n",
    "from sklearn.metrics import classification_report\n",
    "from sklearn.metrics import mean_absolute_error\n",
    "from sklearn.metrics import mean_squared_error\n",
    "from sklearn.metrics import r2_score"
   ]
  },
  {
   "cell_type": "markdown",
   "id": "ebc840ff",
   "metadata": {},
   "source": [
    "앙상블 학습은 크게 독립적 앙상블과 의존적 앙상블로 나눌 수 있다.\n",
    "\n",
    "독립적 앙상블(Indenpendent Ensemble)  \n",
    "독립적 앙상블 방법에서 사용하는 개별 분류기들은 서로 독립적인 알고리즘이므로 각 분류기는 서로 다른 머신러닝 알고리즘을 사용할 수 있다. 각 분류기가 독립적이므로 효과적으로 병렬화 할 수 있다는 장점이 있다.\n",
    "\n",
    "의존적 앙상블(Denpendent Ensemble)  \n",
    "의존적 앙상블 방법은 독립적 앙상블 방법과는 달리 개별 학습기들이 서로 독립이 아닌 경우를 의미하며 의존적 앙상블 방법 중 가장 유명한 방법은 부스팅이다.\n",
    "\n",
    "배깅(Bagging, Bootstrap AGGrevatING)과 랜덤 포레스트(Random Forest)\n",
    "\n",
    "배깅은 개별 분류기들의 결과를 종합하여 최종 분류기의 성능을 향상시키는 방법이다.  \n",
    "개별 분류기들이 동일한 학습 데이터로 학습하는 보팅과는 달리 배깅은 오리지널 학습 데이터 셋에서 샘플(Bootstrap)을 뽑아 학습한다. 부트스트랩이란 중복을 허용한 랜덤 샘플링 방식을 의미하고 개별 분류 모델의 결과값을 모아서 다수결 투표를 통해 최종 예측하게 된다.  \n",
    "랜덤 포레스트는 여러 개의 개별 분류기인 의사결정 트리를 토대로 예측한 결과를 종합해 전체 예측 정확도를 높이는 방법이다.\n",
    "\n",
    "와인 데이터를 사용해 와인 종류를 분류하는 모델을 생성하고 학습시킨다."
   ]
  },
  {
   "cell_type": "code",
   "execution_count": 2,
   "id": "8ae10615",
   "metadata": {},
   "outputs": [
    {
     "name": "stdout",
     "output_type": "stream",
     "text": [
      "(178, 13) (178,)\n",
      "(133, 13) (45, 13) (133,) (45,)\n"
     ]
    },
    {
     "data": {
      "text/plain": [
       "RandomForestClassifier(max_depth=2, random_state=0)"
      ]
     },
     "execution_count": 2,
     "metadata": {},
     "output_type": "execute_result"
    }
   ],
   "source": [
    "# 데이터 불러오기\n",
    "raw_data = datasets.load_wine() # 사이킷런이 제공하는 와인 데이터를 불러온다.\n",
    "\n",
    "# 피쳐, 레이블 데이터 저장\n",
    "xData = raw_data.data # 피쳐 데이터를 저장한다.\n",
    "yData = raw_data.target # 피쳐 데이터에 따른 레이블을 저장한다.\n",
    "print(xData.shape, yData.shape)\n",
    "\n",
    "# 학습 데이터와 테스트 데이터로 분할\n",
    "x_train, x_test, y_train, y_test = train_test_split(xData, yData, random_state=0)\n",
    "print(x_train.shape, x_test.shape, y_train.shape, y_test.shape)\n",
    "\n",
    "# 데이터 표준화\n",
    "std_scale = StandardScaler() # 표준화 스케일러 객체를 만든다.\n",
    "x_train = std_scale.fit_transform(x_train) # 학습 데이터를 스케일러로 표준화 하고 적용한다.\n",
    "x_test = std_scale.transform(x_test) # 테스트 데이터를 학습 데이터로 표준화 스케일러에 적용한다.\n",
    "\n",
    "# 모델 생성 후 데이터 학습\n",
    "from sklearn.ensemble import RandomForestClassifier # 앙상블 랜덤 포레스트 알고리즘을 사용하기 위해 import 한다.\n",
    "# 앙상블의 랜덤 포레스트도 의사결정 트리를 내부적으로 사용하는 방법이므로 과적합을 방지하기 위해서 max_depth\n",
    "# 속성과 동일한 트리를 만들 수 있도록 random_state 속성을 지정해서 모델을 만든다.\n",
    "clf = RandomForestClassifier(max_depth=2, random_state=0)\n",
    "# 표준화된 학습 데이터와 학습 데이터에 따른 레이블 데이터로 앙상블 랜덤 포레스트 모델을 학습시킨다.\n",
    "clf.fit(x_train, y_train)"
   ]
  },
  {
   "cell_type": "markdown",
   "id": "23f871f4",
   "metadata": {},
   "source": [
    "학습된 모델로 테스트 데이터를 예측한다."
   ]
  },
  {
   "cell_type": "code",
   "execution_count": 3,
   "id": "4a17ace5",
   "metadata": {},
   "outputs": [
    {
     "name": "stdout",
     "output_type": "stream",
     "text": [
      "[0 2 1 0 1 1 0 2 1 1 2 2 0 1 2 1 0 0 2 0 0 0 0 1 1 1 1 1 1 2 0 0 1 0 0 0 2\n",
      " 1 1 2 0 0 1 1 1]\n"
     ]
    }
   ],
   "source": [
    "# predict() 메소드의 인수로 표준화된 테스트 데이터를 넘겨서 예측한다.\n",
    "predict = clf.predict(x_test)\n",
    "print(predict)"
   ]
  },
  {
   "cell_type": "markdown",
   "id": "6afff49c",
   "metadata": {},
   "source": [
    "학습된 모델을 평가한다."
   ]
  },
  {
   "cell_type": "code",
   "execution_count": 4,
   "id": "5e441644",
   "metadata": {},
   "outputs": [
    {
     "name": "stdout",
     "output_type": "stream",
     "text": [
      "[[16  0  0]\n",
      " [ 1 19  1]\n",
      " [ 0  0  8]]\n"
     ]
    }
   ],
   "source": [
    "# 혼동 행렬\n",
    "# confusion_matrix() 메소드의 인수를 테스트 데이터의 실제값, 예측값 순서로 넘겨서 혼동 행렬를 만든다.\n",
    "conf_matrix = confusion_matrix(y_test, predict)\n",
    "print(conf_matrix)"
   ]
  },
  {
   "cell_type": "code",
   "execution_count": 5,
   "id": "844bcb1f",
   "metadata": {},
   "outputs": [
    {
     "name": "stdout",
     "output_type": "stream",
     "text": [
      "              precision    recall  f1-score   support\n",
      "\n",
      "           A       0.94      1.00      0.97        16\n",
      "           B       1.00      0.90      0.95        21\n",
      "           C       0.89      1.00      0.94         8\n",
      "\n",
      "    accuracy                           0.96        45\n",
      "   macro avg       0.94      0.97      0.95        45\n",
      "weighted avg       0.96      0.96      0.96        45\n",
      "\n"
     ]
    }
   ],
   "source": [
    "# 분류 리포트\n",
    "# classification_report() 메소드의 인수를 테스트 데이터의 실제값, 예측값 순서로 넘겨서 분류 리포트를 만든다.\n",
    "# target_names 속성으로 분류 리포트에 레이블의 실제값을 출력할 수 있다.\n",
    "# class_report = classification_report(y_test, predict, target_names=raw_data.target_names) \n",
    "class_report = classification_report(y_test, predict, target_names=['A', 'B', 'C']) \n",
    "print(class_report)"
   ]
  },
  {
   "cell_type": "code",
   "execution_count": null,
   "id": "3e1ff7ea",
   "metadata": {},
   "outputs": [],
   "source": []
  },
  {
   "cell_type": "code",
   "execution_count": null,
   "id": "cfe74b0c",
   "metadata": {},
   "outputs": [],
   "source": []
  }
 ],
 "metadata": {
  "kernelspec": {
   "display_name": "python37",
   "language": "python",
   "name": "python37"
  },
  "language_info": {
   "codemirror_mode": {
    "name": "ipython",
    "version": 3
   },
   "file_extension": ".py",
   "mimetype": "text/x-python",
   "name": "python",
   "nbconvert_exporter": "python",
   "pygments_lexer": "ipython3",
   "version": "3.7.1"
  }
 },
 "nbformat": 4,
 "nbformat_minor": 5
}
