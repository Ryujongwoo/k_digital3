{
 "cells": [
  {
   "cell_type": "code",
   "execution_count": 1,
   "id": "d075977b",
   "metadata": {},
   "outputs": [
    {
     "name": "stdout",
     "output_type": "stream",
     "text": [
      "WARNING:tensorflow:From C:\\anaconda3\\envs\\python37\\lib\\site-packages\\tensorflow\\python\\compat\\v2_compat.py:107: disable_resource_variables (from tensorflow.python.ops.variable_scope) is deprecated and will be removed in a future version.\n",
      "Instructions for updating:\n",
      "non-resource variables are not supported in the long term\n"
     ]
    }
   ],
   "source": [
    "import warnings\n",
    "warnings.filterwarnings(action='ignore')\n",
    "%config Completer.use_jedi = False\n",
    "import tensorflow.compat.v1 as tf\n",
    "tf.disable_v2_behavior()\n",
    "import numpy as np\n",
    "import pandas as pd"
   ]
  },
  {
   "cell_type": "code",
   "execution_count": 2,
   "id": "7108f532",
   "metadata": {},
   "outputs": [],
   "source": [
    "X = tf.placeholder(dtype=tf.float32, shape=[None, 4])\n",
    "a = tf.Variable(tf.random_uniform([4, 1]), dtype=tf.float32)\n",
    "b = tf.Variable(tf.random_uniform([1]), dtype=tf.float32)\n",
    "y = tf.matmul(X, a) + b"
   ]
  },
  {
   "cell_type": "code",
   "execution_count": 3,
   "id": "7624ac62",
   "metadata": {},
   "outputs": [
    {
     "name": "stdout",
     "output_type": "stream",
     "text": [
      "평균 온도: 3.2\n",
      "최저 온도: -2.5\n",
      "최고 온도: 7.1\n",
      "강수량: 15.0\n"
     ]
    }
   ],
   "source": [
    "# 배추 가격을 결정하는 4가지 변화 요인을 키보드로 입력받는다.\n",
    "# 3.2, -2.5, 7.1, 15.0\n",
    "avgTemp = float(input('평균 온도: '))\n",
    "minTemp = float(input('최저 온도: '))\n",
    "maxTemp = float(input('최고 온도: '))\n",
    "rainFall = float(input('강수량: '))"
   ]
  },
  {
   "cell_type": "code",
   "execution_count": 7,
   "id": "ce654576",
   "metadata": {},
   "outputs": [
    {
     "name": "stdout",
     "output_type": "stream",
     "text": [
      "INFO:tensorflow:Restoring parameters from ./model/baechu.ckpt\n",
      "평균 온도: 3.2, 최저 온도: -2.5, 최고 온도: 7.1, 강수량: 15.0일 때 배추 가격은 2,969.62원 입니다.\n"
     ]
    }
   ],
   "source": [
    "sess = tf.Session()\n",
    "sess.run(tf.global_variables_initializer())\n",
    "\n",
    "# 디스크에 저장된 학습 모델을 불러와서 적용시킨다.\n",
    "saver = tf.train.Saver()\n",
    "saver.restore(sess, './model/baechu.ckpt')\n",
    "\n",
    "# 키보드로 입력받은 데이터를 불러온 학습 모델에서 사용하기 위해 2차원 리스트 형태로 만든다.\n",
    "data = [[avgTemp, minTemp, maxTemp, rainFall]]\n",
    "\n",
    "# 불러온 학습 모델에 키보드로 입력한 데이터를 적용시켜 배추 가격을 예측한다.\n",
    "result = sess.run(y, feed_dict={X: data})\n",
    "print('평균 온도: {:.1f}, 최저 온도: {:.1f}, 최고 온도: {:.1f}, 강수량: {:.1f}일 때 '\\\n",
    "      '배추 가격은 {:,.2f}원 입니다.'.format(avgTemp, minTemp, maxTemp, rainFall, result[0][0]))"
   ]
  },
  {
   "cell_type": "code",
   "execution_count": null,
   "id": "dfaafc1b",
   "metadata": {},
   "outputs": [],
   "source": []
  }
 ],
 "metadata": {
  "kernelspec": {
   "display_name": "python37",
   "language": "python",
   "name": "python37"
  },
  "language_info": {
   "codemirror_mode": {
    "name": "ipython",
    "version": 3
   },
   "file_extension": ".py",
   "mimetype": "text/x-python",
   "name": "python",
   "nbconvert_exporter": "python",
   "pygments_lexer": "ipython3",
   "version": "3.7.1"
  }
 },
 "nbformat": 4,
 "nbformat_minor": 5
}
