{
 "cells": [
  {
   "cell_type": "code",
   "execution_count": 1,
   "id": "5993a6ba",
   "metadata": {},
   "outputs": [
    {
     "name": "stdout",
     "output_type": "stream",
     "text": [
      "WARNING:tensorflow:From C:\\anaconda3\\envs\\python37\\lib\\site-packages\\tensorflow\\python\\compat\\v2_compat.py:107: disable_resource_variables (from tensorflow.python.ops.variable_scope) is deprecated and will be removed in a future version.\n",
      "Instructions for updating:\n",
      "non-resource variables are not supported in the long term\n"
     ]
    }
   ],
   "source": [
    "import warnings\n",
    "warnings.filterwarnings(action='ignore')\n",
    "%config Completer.use_jedi = False\n",
    "import tensorflow.compat.v1 as tf\n",
    "tf.disable_v2_behavior()\n",
    "import numpy as np\n",
    "import pandas as pd"
   ]
  },
  {
   "cell_type": "markdown",
   "id": "1f5183c8",
   "metadata": {},
   "source": [
    "Word2Vec는 Word To Vector의 줄임말이다.  \n",
    "딥러닝 모델은 입력으로 수치값을 받기 때문에 자연어 처리 분야에서 단어(word)를 어떻게 수치(vector)로 변환하느냐가 딥러닝 모델의 성능을 결정하는 중요한 요소이다.\n",
    "\n",
    "Word2Vec의 장점은 의미가 비슷한 단어는 벡터 공간에서도 서로 가까운 위치에 존재하게 되는 비지도 학습으로 말뭉치 데이터만 있으면 손쉽게 Word2Vec를 구현할 수 있다.\n",
    "\n",
    "데이터 획득"
   ]
  },
  {
   "cell_type": "code",
   "execution_count": 2,
   "id": "c7b50709",
   "metadata": {},
   "outputs": [
    {
     "name": "stdout",
     "output_type": "stream",
     "text": [
      "['king is a strong man', 'queen is a wise woman', 'boy is a young man', 'girl is a young woman', 'prince is a young king', 'princess is a young queen', 'man is strong', 'woman is pretty', 'prince is a boy will be king', 'princess is a girl will be queen']\n"
     ]
    }
   ],
   "source": [
    "corpus = ['king is a strong man', \n",
    "    'queen is a wise woman', \n",
    "    'boy is a young man', \n",
    "    'girl is a young woman',\n",
    "    'prince is a young king', \n",
    "    'princess is a young queen', \n",
    "    'man is strong', \n",
    "    'woman is pretty',\n",
    "    'prince is a boy will be king', \n",
    "    'princess is a girl will be queen'\n",
    "]\n",
    "print(corpus)"
   ]
  },
  {
   "cell_type": "markdown",
   "id": "b4df1fd7",
   "metadata": {},
   "source": [
    "데이터 전처리  \n",
    "불용어(stop words) 제거하기  \n",
    "불용어란 학습에 도움이 되지도 않으면서 빈번하게 발생되는 단어를 의미하며 효율적인 학습을 위해서 불용어를 데이터에서 제거한다."
   ]
  },
  {
   "cell_type": "code",
   "execution_count": 3,
   "id": "3fe3c4f5",
   "metadata": {},
   "outputs": [],
   "source": [
    "# 불용어 제거 함수\n",
    "def remove_stop_words(corpus):\n",
    "    stop_words = ['is', 'a', 'will', 'be'] # 불용어 정의\n",
    "    results = [] # 불용어를 제거한 결과를 저장해서 리턴시킬 빈 리스틀 선언한다.\n",
    "    # 불용어를 제거할 문장을 한 줄씩 읽어가며 반복한다.\n",
    "    for text in corpus:\n",
    "        # print(text)\n",
    "        # 불용어를 제거하기 위해서 공백을 경계로 문장을 단어 단위로 나눈다.\n",
    "        temp = text.split()\n",
    "        # print(temp)\n",
    "        # 불용어 개수만큼 반복하며 문장에서 불용어를 제거한다.\n",
    "        for stop_word in stop_words:\n",
    "            # 불용어를 제거할 문장에 불용어가 없을때까지 반복한다.\n",
    "            while stop_word in temp:\n",
    "                temp.remove(stop_word)\n",
    "            # ===== while\n",
    "        # ===== for stop_word\n",
    "        # print(temp)\n",
    "        # 불용어가 제거된 단어 사이에 공백을 넣어서 불용어가 제거된 문장을 만든다.\n",
    "        # print(' '.join(temp))\n",
    "        results.append(' '.join(temp))\n",
    "    # ===== for text\n",
    "    return results"
   ]
  },
  {
   "cell_type": "code",
   "execution_count": 4,
   "id": "17ec579d",
   "metadata": {},
   "outputs": [
    {
     "name": "stdout",
     "output_type": "stream",
     "text": [
      "['king strong man', 'queen wise woman', 'boy young man', 'girl young woman', 'prince young king', 'princess young queen', 'man strong', 'woman pretty', 'prince boy king', 'princess girl queen']\n"
     ]
    }
   ],
   "source": [
    "# print(remove_stop_words(corpus))\n",
    "corpus = remove_stop_words(corpus)\n",
    "print(corpus)"
   ]
  },
  {
   "cell_type": "markdown",
   "id": "923a20a5",
   "metadata": {},
   "source": [
    "데이터 전처리  \n",
    "불용어를 제거한 단어의 중복을 제거한다."
   ]
  },
  {
   "cell_type": "code",
   "execution_count": 5,
   "id": "f33568af",
   "metadata": {},
   "outputs": [
    {
     "name": "stdout",
     "output_type": "stream",
     "text": [
      "['king', 'strong', 'man', 'queen', 'wise', 'woman', 'boy', 'young', 'man', 'girl', 'young', 'woman', 'prince', 'young', 'king', 'princess', 'young', 'queen', 'man', 'strong', 'woman', 'pretty', 'prince', 'boy', 'king', 'princess', 'girl', 'queen']\n"
     ]
    }
   ],
   "source": [
    "# 불용어를 제거한 후 데이터에 존재하는 단어들은 다음과 같다.\n",
    "words = []\n",
    "for text in corpus:\n",
    "    for word in text.split():\n",
    "        words.append(word)\n",
    "print(words) # 중복되는 단어가 존재한다."
   ]
  },
  {
   "cell_type": "code",
   "execution_count": 6,
   "id": "27ad5525",
   "metadata": {},
   "outputs": [
    {
     "name": "stdout",
     "output_type": "stream",
     "text": [
      "{'strong', 'king', 'queen', 'woman', 'wise', 'prince', 'pretty', 'boy', 'girl', 'young', 'princess', 'man'}\n"
     ]
    }
   ],
   "source": [
    "words = set(words)\n",
    "print(words) # 중복되는 단어가 존재하지 않는다."
   ]
  },
  {
   "cell_type": "markdown",
   "id": "20299cb4",
   "metadata": {},
   "source": [
    "데이터 전처리  \n",
    "단어별 인덱스 매핑"
   ]
  },
  {
   "cell_type": "code",
   "execution_count": 7,
   "id": "0033997e",
   "metadata": {},
   "outputs": [
    {
     "name": "stdout",
     "output_type": "stream",
     "text": [
      "0 strong\n",
      "1 king\n",
      "2 queen\n",
      "3 woman\n",
      "4 wise\n",
      "5 prince\n",
      "6 pretty\n",
      "7 boy\n",
      "8 girl\n",
      "9 young\n",
      "10 princess\n",
      "11 man\n"
     ]
    }
   ],
   "source": [
    "for index, word in enumerate(words):\n",
    "    print(index, word)"
   ]
  },
  {
   "cell_type": "code",
   "execution_count": 8,
   "id": "3b586f24",
   "metadata": {},
   "outputs": [
    {
     "name": "stdout",
     "output_type": "stream",
     "text": [
      "{'strong': 0, 'king': 1, 'queen': 2, 'woman': 3, 'wise': 4, 'prince': 5, 'pretty': 6, 'boy': 7, 'girl': 8, 'young': 9, 'princess': 10, 'man': 11}\n"
     ]
    }
   ],
   "source": [
    "# word를 key로 하고 index를 value로 하는 딕셔너리를 만든다.\n",
    "word2int = {}\n",
    "for index, word in enumerate(words):\n",
    "    word2int[word] = index\n",
    "print(word2int)"
   ]
  },
  {
   "cell_type": "markdown",
   "id": "defc24ba",
   "metadata": {},
   "source": [
    "<img src=\"./skipgram1.png\" align=\"left\" width=\"1400\"/>"
   ]
  },
  {
   "cell_type": "markdown",
   "id": "38ebd11e",
   "metadata": {},
   "source": [
    "<img src=\"./skipgram2.png\" align=\"left\" width=\"1400\"/>"
   ]
  },
  {
   "cell_type": "markdown",
   "id": "a3ad7435",
   "metadata": {},
   "source": [
    "<img src=\"./skipgram3.png\" align=\"left\" width=\"1400\"/>"
   ]
  },
  {
   "cell_type": "markdown",
   "id": "964ef384",
   "metadata": {},
   "source": [
    "<img src=\"./skipgram4.png\" align=\"left\" width=\"1400\"/>"
   ]
  },
  {
   "cell_type": "markdown",
   "id": "92f2aace",
   "metadata": {},
   "source": [
    "<img src=\"./skipgram5.png\" align=\"left\" width=\"1400\"/>"
   ]
  },
  {
   "cell_type": "markdown",
   "id": "3f88016c",
   "metadata": {},
   "source": [
    "<img src=\"./skipgram6.png\" align=\"left\" width=\"1400\"/>"
   ]
  },
  {
   "cell_type": "markdown",
   "id": "8d081f33",
   "metadata": {},
   "source": [
    "skip gram 방식으로 각 단어별 레이블을 데이터프레임으로 생성한다."
   ]
  },
  {
   "cell_type": "code",
   "execution_count": 9,
   "id": "9200fd61",
   "metadata": {},
   "outputs": [
    {
     "name": "stdout",
     "output_type": "stream",
     "text": [
      "[['king', 'strong', 'man'], ['queen', 'wise', 'woman'], ['boy', 'young', 'man'], ['girl', 'young', 'woman'], ['prince', 'young', 'king'], ['princess', 'young', 'queen'], ['man', 'strong'], ['woman', 'pretty'], ['prince', 'boy', 'king'], ['princess', 'girl', 'queen']]\n"
     ]
    }
   ],
   "source": [
    "sentences = []\n",
    "for sentence in corpus:\n",
    "    sentences.append(sentence.split())\n",
    "print(sentences)"
   ]
  },
  {
   "cell_type": "code",
   "execution_count": 10,
   "id": "fcbbab0e",
   "metadata": {
    "scrolled": false
   },
   "outputs": [],
   "source": [
    "WINDOW_SIZE = 2\n",
    "data = []\n",
    "# 단어별 레이블을 생성할 문장의 개수만큼 반복하며 레이블을 생성한다.\n",
    "for sentence in sentences:\n",
    "    # print('sentence: {}'.format(sentence))\n",
    "    for index, word in enumerate(sentence):\n",
    "        # print('index: {}, word: {}'.format(index, word))\n",
    "        for neighbor in sentence[max(index - WINDOW_SIZE, 0):min(index + WINDOW_SIZE, len(sentence)) + 1]:\n",
    "            if word != neighbor:\n",
    "                # print('word: {}, neighbor: {}'.format(word, neighbor))\n",
    "                data.append([word, neighbor])\n",
    "            # ===== if\n",
    "        # ===== for neighbor\n",
    "    # ===== for index, word\n",
    "    # print('=' * 80)\n",
    "# ===== for sentence"
   ]
  },
  {
   "cell_type": "code",
   "execution_count": 11,
   "id": "07988ec0",
   "metadata": {
    "scrolled": true
   },
   "outputs": [
    {
     "data": {
      "text/html": [
       "<div>\n",
       "<style scoped>\n",
       "    .dataframe tbody tr th:only-of-type {\n",
       "        vertical-align: middle;\n",
       "    }\n",
       "\n",
       "    .dataframe tbody tr th {\n",
       "        vertical-align: top;\n",
       "    }\n",
       "\n",
       "    .dataframe thead th {\n",
       "        text-align: right;\n",
       "    }\n",
       "</style>\n",
       "<table border=\"1\" class=\"dataframe\">\n",
       "  <thead>\n",
       "    <tr style=\"text-align: right;\">\n",
       "      <th></th>\n",
       "      <th>input</th>\n",
       "      <th>lable</th>\n",
       "    </tr>\n",
       "  </thead>\n",
       "  <tbody>\n",
       "    <tr>\n",
       "      <th>0</th>\n",
       "      <td>king</td>\n",
       "      <td>strong</td>\n",
       "    </tr>\n",
       "    <tr>\n",
       "      <th>1</th>\n",
       "      <td>king</td>\n",
       "      <td>man</td>\n",
       "    </tr>\n",
       "    <tr>\n",
       "      <th>2</th>\n",
       "      <td>strong</td>\n",
       "      <td>king</td>\n",
       "    </tr>\n",
       "    <tr>\n",
       "      <th>3</th>\n",
       "      <td>strong</td>\n",
       "      <td>man</td>\n",
       "    </tr>\n",
       "    <tr>\n",
       "      <th>4</th>\n",
       "      <td>man</td>\n",
       "      <td>king</td>\n",
       "    </tr>\n",
       "    <tr>\n",
       "      <th>5</th>\n",
       "      <td>man</td>\n",
       "      <td>strong</td>\n",
       "    </tr>\n",
       "    <tr>\n",
       "      <th>6</th>\n",
       "      <td>queen</td>\n",
       "      <td>wise</td>\n",
       "    </tr>\n",
       "    <tr>\n",
       "      <th>7</th>\n",
       "      <td>queen</td>\n",
       "      <td>woman</td>\n",
       "    </tr>\n",
       "    <tr>\n",
       "      <th>8</th>\n",
       "      <td>wise</td>\n",
       "      <td>queen</td>\n",
       "    </tr>\n",
       "    <tr>\n",
       "      <th>9</th>\n",
       "      <td>wise</td>\n",
       "      <td>woman</td>\n",
       "    </tr>\n",
       "    <tr>\n",
       "      <th>10</th>\n",
       "      <td>woman</td>\n",
       "      <td>queen</td>\n",
       "    </tr>\n",
       "    <tr>\n",
       "      <th>11</th>\n",
       "      <td>woman</td>\n",
       "      <td>wise</td>\n",
       "    </tr>\n",
       "    <tr>\n",
       "      <th>12</th>\n",
       "      <td>boy</td>\n",
       "      <td>young</td>\n",
       "    </tr>\n",
       "    <tr>\n",
       "      <th>13</th>\n",
       "      <td>boy</td>\n",
       "      <td>man</td>\n",
       "    </tr>\n",
       "    <tr>\n",
       "      <th>14</th>\n",
       "      <td>young</td>\n",
       "      <td>boy</td>\n",
       "    </tr>\n",
       "    <tr>\n",
       "      <th>15</th>\n",
       "      <td>young</td>\n",
       "      <td>man</td>\n",
       "    </tr>\n",
       "    <tr>\n",
       "      <th>16</th>\n",
       "      <td>man</td>\n",
       "      <td>boy</td>\n",
       "    </tr>\n",
       "    <tr>\n",
       "      <th>17</th>\n",
       "      <td>man</td>\n",
       "      <td>young</td>\n",
       "    </tr>\n",
       "    <tr>\n",
       "      <th>18</th>\n",
       "      <td>girl</td>\n",
       "      <td>young</td>\n",
       "    </tr>\n",
       "    <tr>\n",
       "      <th>19</th>\n",
       "      <td>girl</td>\n",
       "      <td>woman</td>\n",
       "    </tr>\n",
       "    <tr>\n",
       "      <th>20</th>\n",
       "      <td>young</td>\n",
       "      <td>girl</td>\n",
       "    </tr>\n",
       "    <tr>\n",
       "      <th>21</th>\n",
       "      <td>young</td>\n",
       "      <td>woman</td>\n",
       "    </tr>\n",
       "    <tr>\n",
       "      <th>22</th>\n",
       "      <td>woman</td>\n",
       "      <td>girl</td>\n",
       "    </tr>\n",
       "    <tr>\n",
       "      <th>23</th>\n",
       "      <td>woman</td>\n",
       "      <td>young</td>\n",
       "    </tr>\n",
       "    <tr>\n",
       "      <th>24</th>\n",
       "      <td>prince</td>\n",
       "      <td>young</td>\n",
       "    </tr>\n",
       "    <tr>\n",
       "      <th>25</th>\n",
       "      <td>prince</td>\n",
       "      <td>king</td>\n",
       "    </tr>\n",
       "    <tr>\n",
       "      <th>26</th>\n",
       "      <td>young</td>\n",
       "      <td>prince</td>\n",
       "    </tr>\n",
       "    <tr>\n",
       "      <th>27</th>\n",
       "      <td>young</td>\n",
       "      <td>king</td>\n",
       "    </tr>\n",
       "    <tr>\n",
       "      <th>28</th>\n",
       "      <td>king</td>\n",
       "      <td>prince</td>\n",
       "    </tr>\n",
       "    <tr>\n",
       "      <th>29</th>\n",
       "      <td>king</td>\n",
       "      <td>young</td>\n",
       "    </tr>\n",
       "    <tr>\n",
       "      <th>30</th>\n",
       "      <td>princess</td>\n",
       "      <td>young</td>\n",
       "    </tr>\n",
       "    <tr>\n",
       "      <th>31</th>\n",
       "      <td>princess</td>\n",
       "      <td>queen</td>\n",
       "    </tr>\n",
       "    <tr>\n",
       "      <th>32</th>\n",
       "      <td>young</td>\n",
       "      <td>princess</td>\n",
       "    </tr>\n",
       "    <tr>\n",
       "      <th>33</th>\n",
       "      <td>young</td>\n",
       "      <td>queen</td>\n",
       "    </tr>\n",
       "    <tr>\n",
       "      <th>34</th>\n",
       "      <td>queen</td>\n",
       "      <td>princess</td>\n",
       "    </tr>\n",
       "    <tr>\n",
       "      <th>35</th>\n",
       "      <td>queen</td>\n",
       "      <td>young</td>\n",
       "    </tr>\n",
       "    <tr>\n",
       "      <th>36</th>\n",
       "      <td>man</td>\n",
       "      <td>strong</td>\n",
       "    </tr>\n",
       "    <tr>\n",
       "      <th>37</th>\n",
       "      <td>strong</td>\n",
       "      <td>man</td>\n",
       "    </tr>\n",
       "    <tr>\n",
       "      <th>38</th>\n",
       "      <td>woman</td>\n",
       "      <td>pretty</td>\n",
       "    </tr>\n",
       "    <tr>\n",
       "      <th>39</th>\n",
       "      <td>pretty</td>\n",
       "      <td>woman</td>\n",
       "    </tr>\n",
       "    <tr>\n",
       "      <th>40</th>\n",
       "      <td>prince</td>\n",
       "      <td>boy</td>\n",
       "    </tr>\n",
       "    <tr>\n",
       "      <th>41</th>\n",
       "      <td>prince</td>\n",
       "      <td>king</td>\n",
       "    </tr>\n",
       "    <tr>\n",
       "      <th>42</th>\n",
       "      <td>boy</td>\n",
       "      <td>prince</td>\n",
       "    </tr>\n",
       "    <tr>\n",
       "      <th>43</th>\n",
       "      <td>boy</td>\n",
       "      <td>king</td>\n",
       "    </tr>\n",
       "    <tr>\n",
       "      <th>44</th>\n",
       "      <td>king</td>\n",
       "      <td>prince</td>\n",
       "    </tr>\n",
       "    <tr>\n",
       "      <th>45</th>\n",
       "      <td>king</td>\n",
       "      <td>boy</td>\n",
       "    </tr>\n",
       "    <tr>\n",
       "      <th>46</th>\n",
       "      <td>princess</td>\n",
       "      <td>girl</td>\n",
       "    </tr>\n",
       "    <tr>\n",
       "      <th>47</th>\n",
       "      <td>princess</td>\n",
       "      <td>queen</td>\n",
       "    </tr>\n",
       "    <tr>\n",
       "      <th>48</th>\n",
       "      <td>girl</td>\n",
       "      <td>princess</td>\n",
       "    </tr>\n",
       "    <tr>\n",
       "      <th>49</th>\n",
       "      <td>girl</td>\n",
       "      <td>queen</td>\n",
       "    </tr>\n",
       "    <tr>\n",
       "      <th>50</th>\n",
       "      <td>queen</td>\n",
       "      <td>princess</td>\n",
       "    </tr>\n",
       "    <tr>\n",
       "      <th>51</th>\n",
       "      <td>queen</td>\n",
       "      <td>girl</td>\n",
       "    </tr>\n",
       "  </tbody>\n",
       "</table>\n",
       "</div>"
      ],
      "text/plain": [
       "       input     lable\n",
       "0       king    strong\n",
       "1       king       man\n",
       "2     strong      king\n",
       "3     strong       man\n",
       "4        man      king\n",
       "5        man    strong\n",
       "6      queen      wise\n",
       "7      queen     woman\n",
       "8       wise     queen\n",
       "9       wise     woman\n",
       "10     woman     queen\n",
       "11     woman      wise\n",
       "12       boy     young\n",
       "13       boy       man\n",
       "14     young       boy\n",
       "15     young       man\n",
       "16       man       boy\n",
       "17       man     young\n",
       "18      girl     young\n",
       "19      girl     woman\n",
       "20     young      girl\n",
       "21     young     woman\n",
       "22     woman      girl\n",
       "23     woman     young\n",
       "24    prince     young\n",
       "25    prince      king\n",
       "26     young    prince\n",
       "27     young      king\n",
       "28      king    prince\n",
       "29      king     young\n",
       "30  princess     young\n",
       "31  princess     queen\n",
       "32     young  princess\n",
       "33     young     queen\n",
       "34     queen  princess\n",
       "35     queen     young\n",
       "36       man    strong\n",
       "37    strong       man\n",
       "38     woman    pretty\n",
       "39    pretty     woman\n",
       "40    prince       boy\n",
       "41    prince      king\n",
       "42       boy    prince\n",
       "43       boy      king\n",
       "44      king    prince\n",
       "45      king       boy\n",
       "46  princess      girl\n",
       "47  princess     queen\n",
       "48      girl  princess\n",
       "49      girl     queen\n",
       "50     queen  princess\n",
       "51     queen      girl"
      ]
     },
     "execution_count": 11,
     "metadata": {},
     "output_type": "execute_result"
    }
   ],
   "source": [
    "df = pd.DataFrame(data, columns=['input', 'lable'])\n",
    "df"
   ]
  },
  {
   "cell_type": "markdown",
   "id": "de620f9d",
   "metadata": {},
   "source": [
    "Word2Vec 모델 구현\n",
    "\n",
    "<img src=\"./word2vec.png\" align=\"left\" width=\"800\"/>"
   ]
  },
  {
   "cell_type": "code",
   "execution_count": 12,
   "id": "0aa31b7f",
   "metadata": {},
   "outputs": [],
   "source": [
    "ONE_HOT_DIM = len(words)\n",
    "\n",
    "# word를 key로 하고 index를 value로 하는 딕셔너리를 원-핫 인코딩으로 전환하는 함수를 만든다.\n",
    "def one_hot_encoding(index):\n",
    "    # print(index)\n",
    "    one_hot = np.zeros(ONE_HOT_DIM)\n",
    "    one_hot[index] = 1\n",
    "    # print(one_hot)\n",
    "    return one_hot"
   ]
  },
  {
   "cell_type": "code",
   "execution_count": 13,
   "id": "98149137",
   "metadata": {},
   "outputs": [
    {
     "name": "stdout",
     "output_type": "stream",
     "text": [
      "[1. 0. 0. 0. 0. 0. 0. 0. 0. 0. 0. 0.]\n",
      "[0. 1. 0. 0. 0. 0. 0. 0. 0. 0. 0. 0.]\n",
      "[0. 0. 1. 0. 0. 0. 0. 0. 0. 0. 0. 0.]\n",
      "[0. 0. 0. 1. 0. 0. 0. 0. 0. 0. 0. 0.]\n",
      "[0. 0. 0. 0. 1. 0. 0. 0. 0. 0. 0. 0.]\n",
      "[0. 0. 0. 0. 0. 1. 0. 0. 0. 0. 0. 0.]\n",
      "[0. 0. 0. 0. 0. 0. 1. 0. 0. 0. 0. 0.]\n",
      "[0. 0. 0. 0. 0. 0. 0. 1. 0. 0. 0. 0.]\n",
      "[0. 0. 0. 0. 0. 0. 0. 0. 1. 0. 0. 0.]\n",
      "[0. 0. 0. 0. 0. 0. 0. 0. 0. 1. 0. 0.]\n",
      "[0. 0. 0. 0. 0. 0. 0. 0. 0. 0. 1. 0.]\n",
      "[0. 0. 0. 0. 0. 0. 0. 0. 0. 0. 0. 1.]\n"
     ]
    }
   ],
   "source": [
    "# for key in word2int:\n",
    "    # print(key, word2int[key])\n",
    "    # result = one_hot_encoding(word2int[key])\n",
    "# =================================================================\n",
    "# for value in word2int.values():\n",
    "    # print(value)\n",
    "    # result = one_hot_encoding(value)\n",
    "# =================================================================\n",
    "for key, value in word2int.items():\n",
    "    # print(key, value)\n",
    "    result = one_hot_encoding(value)\n",
    "# =================================================================\n",
    "    print(result)"
   ]
  },
  {
   "cell_type": "code",
   "execution_count": 14,
   "id": "2cbc2be8",
   "metadata": {
    "scrolled": false
   },
   "outputs": [
    {
     "name": "stdout",
     "output_type": "stream",
     "text": [
      "king    [0. 1. 0. 0. 0. 0. 0. 0. 0. 0. 0. 0.] - strong  [1. 0. 0. 0. 0. 0. 0. 0. 0. 0. 0. 0.]\n",
      "king    [0. 1. 0. 0. 0. 0. 0. 0. 0. 0. 0. 0.] - man     [0. 0. 0. 0. 0. 0. 0. 0. 0. 0. 0. 1.]\n",
      "strong  [1. 0. 0. 0. 0. 0. 0. 0. 0. 0. 0. 0.] - king    [0. 1. 0. 0. 0. 0. 0. 0. 0. 0. 0. 0.]\n",
      "strong  [1. 0. 0. 0. 0. 0. 0. 0. 0. 0. 0. 0.] - man     [0. 0. 0. 0. 0. 0. 0. 0. 0. 0. 0. 1.]\n",
      "man     [0. 0. 0. 0. 0. 0. 0. 0. 0. 0. 0. 1.] - king    [0. 1. 0. 0. 0. 0. 0. 0. 0. 0. 0. 0.]\n",
      "man     [0. 0. 0. 0. 0. 0. 0. 0. 0. 0. 0. 1.] - strong  [1. 0. 0. 0. 0. 0. 0. 0. 0. 0. 0. 0.]\n",
      "queen   [0. 0. 1. 0. 0. 0. 0. 0. 0. 0. 0. 0.] - wise    [0. 0. 0. 0. 1. 0. 0. 0. 0. 0. 0. 0.]\n",
      "queen   [0. 0. 1. 0. 0. 0. 0. 0. 0. 0. 0. 0.] - woman   [0. 0. 0. 1. 0. 0. 0. 0. 0. 0. 0. 0.]\n",
      "wise    [0. 0. 0. 0. 1. 0. 0. 0. 0. 0. 0. 0.] - queen   [0. 0. 1. 0. 0. 0. 0. 0. 0. 0. 0. 0.]\n",
      "wise    [0. 0. 0. 0. 1. 0. 0. 0. 0. 0. 0. 0.] - woman   [0. 0. 0. 1. 0. 0. 0. 0. 0. 0. 0. 0.]\n",
      "woman   [0. 0. 0. 1. 0. 0. 0. 0. 0. 0. 0. 0.] - queen   [0. 0. 1. 0. 0. 0. 0. 0. 0. 0. 0. 0.]\n",
      "woman   [0. 0. 0. 1. 0. 0. 0. 0. 0. 0. 0. 0.] - wise    [0. 0. 0. 0. 1. 0. 0. 0. 0. 0. 0. 0.]\n"
     ]
    }
   ],
   "source": [
    "X = [] # 입력 단어가 원-핫 인코딩으로 변환된 결과를 기억할 빈 리스트를 선언한다.\n",
    "Y = [] # 입력 단어에 따른 레이블이 원-핫 인코딩으로 변환된 결과를 기억할 빈 리스트를 선언한다.\n",
    "\n",
    "# 데이터프레임에 저장된 입력 단어와 입력 단어에 따른 레이블을 원-핫 인코딩으로 변환해서 X, Y 리스트에 저장한다.\n",
    "for x, y in zip(df.input, df.lable):\n",
    "    # print(x, y)\n",
    "    X.append(one_hot_encoding(word2int[x]))\n",
    "    Y.append(one_hot_encoding(word2int[y]))\n",
    "\n",
    "for i in range(len(words)):\n",
    "    print('{:7s} {} - {:7s} {}'.format(df.input[i], X[i], df.lable[i], Y[i]))"
   ]
  },
  {
   "cell_type": "code",
   "execution_count": 15,
   "id": "67e2e0ec",
   "metadata": {},
   "outputs": [],
   "source": [
    "# Word2Vec 모델을 만든다.\n",
    "# 넘파이의 array() 메소드는 파이썬의 리스트나 튜플을 넘파이 배열로 만든다.\n",
    "# 넘파이의 asarray() 메소드는 인수로 지정한 데이터가 이미 넘파이 배열 형태라면 복사만 한다.\n",
    "x_train = np.asarray(X) # 입력 데이터\n",
    "y_train = np.asarray(Y) # 입력 데이터에 따른 레이블\n",
    "# print(x_train[0], y_train[0])\n",
    "\n",
    "# 입력 데이터와 입력 데이터에 따른 레이블을 저장할 placeholder를 선언한다.\n",
    "x = tf.placeholder(dtype=tf.float32, shape=[None, ONE_HOT_DIM]) # 입력 데이터를 저장할 placeholder\n",
    "y = tf.placeholder(dtype=tf.float32, shape=[None, ONE_HOT_DIM]) # 입력 데이터에 다른 레이블을 저장할 placeholder\n",
    "\n",
    "# 히든 레이어\n",
    "W1 = tf.Variable(tf.truncated_normal([ONE_HOT_DIM, 2], stddev=0.1))\n",
    "hidden_layer = tf.matmul(x, W1)\n",
    "\n",
    "# 출력 레이어\n",
    "W2 = tf.Variable(tf.truncated_normal([2, ONE_HOT_DIM], stddev=0.1))\n",
    "b2 = tf.Variable(tf.truncated_normal([1], stddev=0.1))\n",
    "\n",
    "# 예측\n",
    "predict = tf.nn.softmax(tf.add(tf.matmul(hidden_layer, W2), b2))\n",
    "\n",
    "# 손실 함수 - 크로스 엔크로피\n",
    "loss = tf.reduce_mean(-tf.reduce_sum(y * tf.log(predict), axis=1))\n",
    "\n",
    "# 최적화 - 경사 하강법\n",
    "train = tf.train.GradientDescentOptimizer(0.01).minimize(loss)"
   ]
  },
  {
   "cell_type": "markdown",
   "id": "22527dd3",
   "metadata": {},
   "source": [
    "학습 시킨다."
   ]
  },
  {
   "cell_type": "code",
   "execution_count": 16,
   "id": "35b2e8c6",
   "metadata": {
    "scrolled": false
   },
   "outputs": [
    {
     "name": "stdout",
     "output_type": "stream",
     "text": [
      "epoch:     0, loss: 2.48515\n",
      "epoch:  2500, loss: 2.47223\n",
      "epoch:  5000, loss: 2.38652\n",
      "epoch:  7500, loss: 2.16277\n",
      "epoch: 10000, loss: 2.05123\n",
      "epoch: 12500, loss: 1.99061\n",
      "epoch: 15000, loss: 1.94104\n",
      "epoch: 17500, loss: 1.90045\n",
      "epoch: 20000, loss: 1.87466\n",
      "epoch: 22500, loss: 1.85798\n",
      "epoch: 25000, loss: 1.84542\n",
      "epoch: 27500, loss: 1.83510\n",
      "epoch: 30000, loss: 1.82634\n",
      "epoch: 32500, loss: 1.81883\n",
      "epoch: 35000, loss: 1.81234\n",
      "epoch: 37500, loss: 1.80671\n",
      "epoch: 40000, loss: 1.80178\n",
      "epoch: 42500, loss: 1.79744\n",
      "epoch: 45000, loss: 1.79357\n",
      "epoch: 47500, loss: 1.79010\n",
      "epoch: 50000, loss: 1.78697\n"
     ]
    }
   ],
   "source": [
    "sess = tf.Session()\n",
    "sess.run(tf.global_variables_initializer())\n",
    "for epoch in range(50001):\n",
    "    _, loss_ = sess.run([train, loss], feed_dict={x: x_train, y: y_train})\n",
    "    if epoch % 2500 == 0:\n",
    "        print('epoch: {:5d}, loss: {:7.5f}'.format(epoch, loss_))"
   ]
  },
  {
   "cell_type": "markdown",
   "id": "be54c165",
   "metadata": {},
   "source": [
    "히든 레이어의 값(Word2Vec) 추출하기"
   ]
  },
  {
   "cell_type": "code",
   "execution_count": 17,
   "id": "79341ed1",
   "metadata": {},
   "outputs": [
    {
     "name": "stdout",
     "output_type": "stream",
     "text": [
      "strong   [4.459051  1.1383444]\n",
      "king     [ 0.9186223  -0.17773663]\n",
      "queen    [-0.30981433  1.2108411 ]\n",
      "woman    [-0.71716785  0.47279075]\n",
      "wise     [-0.998188   3.0717313]\n",
      "prince   [1.8264877  0.05937288]\n",
      "pretty   [-0.03134853  2.2822556 ]\n",
      "boy      [2.1284046  0.71618474]\n",
      "girl     [-0.4868542  3.1150627]\n",
      "young    [0.18989101 0.21893698]\n",
      "princess [-1.1921594  2.7558503]\n",
      "man      [ 0.8179477 -0.4435426]\n"
     ]
    }
   ],
   "source": [
    "vectors = sess.run(W1)\n",
    "for key, value in word2int.items():\n",
    "    print('{:8s} {}'.format(key, vectors[value]))"
   ]
  },
  {
   "cell_type": "markdown",
   "id": "d689766e",
   "metadata": {},
   "source": [
    "Word2Vec를 2차원 공간에 시각화 한다."
   ]
  },
  {
   "cell_type": "code",
   "execution_count": 18,
   "id": "87d67756",
   "metadata": {},
   "outputs": [
    {
     "data": {
      "text/html": [
       "<div>\n",
       "<style scoped>\n",
       "    .dataframe tbody tr th:only-of-type {\n",
       "        vertical-align: middle;\n",
       "    }\n",
       "\n",
       "    .dataframe tbody tr th {\n",
       "        vertical-align: top;\n",
       "    }\n",
       "\n",
       "    .dataframe thead th {\n",
       "        text-align: right;\n",
       "    }\n",
       "</style>\n",
       "<table border=\"1\" class=\"dataframe\">\n",
       "  <thead>\n",
       "    <tr style=\"text-align: right;\">\n",
       "      <th></th>\n",
       "      <th>word</th>\n",
       "      <th>x1</th>\n",
       "      <th>x2</th>\n",
       "    </tr>\n",
       "  </thead>\n",
       "  <tbody>\n",
       "    <tr>\n",
       "      <th>0</th>\n",
       "      <td>strong</td>\n",
       "      <td>4.459051</td>\n",
       "      <td>1.138344</td>\n",
       "    </tr>\n",
       "    <tr>\n",
       "      <th>1</th>\n",
       "      <td>king</td>\n",
       "      <td>0.918622</td>\n",
       "      <td>-0.177737</td>\n",
       "    </tr>\n",
       "    <tr>\n",
       "      <th>2</th>\n",
       "      <td>queen</td>\n",
       "      <td>-0.309814</td>\n",
       "      <td>1.210841</td>\n",
       "    </tr>\n",
       "    <tr>\n",
       "      <th>3</th>\n",
       "      <td>woman</td>\n",
       "      <td>-0.717168</td>\n",
       "      <td>0.472791</td>\n",
       "    </tr>\n",
       "    <tr>\n",
       "      <th>4</th>\n",
       "      <td>wise</td>\n",
       "      <td>-0.998188</td>\n",
       "      <td>3.071731</td>\n",
       "    </tr>\n",
       "    <tr>\n",
       "      <th>5</th>\n",
       "      <td>prince</td>\n",
       "      <td>1.826488</td>\n",
       "      <td>0.059373</td>\n",
       "    </tr>\n",
       "    <tr>\n",
       "      <th>6</th>\n",
       "      <td>pretty</td>\n",
       "      <td>-0.031349</td>\n",
       "      <td>2.282256</td>\n",
       "    </tr>\n",
       "    <tr>\n",
       "      <th>7</th>\n",
       "      <td>boy</td>\n",
       "      <td>2.128405</td>\n",
       "      <td>0.716185</td>\n",
       "    </tr>\n",
       "    <tr>\n",
       "      <th>8</th>\n",
       "      <td>girl</td>\n",
       "      <td>-0.486854</td>\n",
       "      <td>3.115063</td>\n",
       "    </tr>\n",
       "    <tr>\n",
       "      <th>9</th>\n",
       "      <td>young</td>\n",
       "      <td>0.189891</td>\n",
       "      <td>0.218937</td>\n",
       "    </tr>\n",
       "    <tr>\n",
       "      <th>10</th>\n",
       "      <td>princess</td>\n",
       "      <td>-1.192159</td>\n",
       "      <td>2.755850</td>\n",
       "    </tr>\n",
       "    <tr>\n",
       "      <th>11</th>\n",
       "      <td>man</td>\n",
       "      <td>0.817948</td>\n",
       "      <td>-0.443543</td>\n",
       "    </tr>\n",
       "  </tbody>\n",
       "</table>\n",
       "</div>"
      ],
      "text/plain": [
       "        word        x1        x2\n",
       "0     strong  4.459051  1.138344\n",
       "1       king  0.918622 -0.177737\n",
       "2      queen -0.309814  1.210841\n",
       "3      woman -0.717168  0.472791\n",
       "4       wise -0.998188  3.071731\n",
       "5     prince  1.826488  0.059373\n",
       "6     pretty -0.031349  2.282256\n",
       "7        boy  2.128405  0.716185\n",
       "8       girl -0.486854  3.115063\n",
       "9      young  0.189891  0.218937\n",
       "10  princess -1.192159  2.755850\n",
       "11       man  0.817948 -0.443543"
      ]
     },
     "execution_count": 18,
     "metadata": {},
     "output_type": "execute_result"
    }
   ],
   "source": [
    "# Word2Vec의 단어에 따른 히든 레이어 값을 데이터프레임으로 저장한다.\n",
    "w2v_df = pd.DataFrame(vectors, columns=['x1', 'x2'])\n",
    "# words는 set이고 set은 순서가 없으므로 에러가 발생된다. => 3.6 버전은 에러가 발생하지 않았다.\n",
    "# set이 순서가 없다는 에러가 발생되면 list() 생성자 함수로 리스트로 만들어서 추가한다.\n",
    "w2v_df['word'] = list(words)\n",
    "w2v_df = w2v_df[['word', 'x1', 'x2']]\n",
    "w2v_df"
   ]
  },
  {
   "cell_type": "code",
   "execution_count": 19,
   "id": "401ad11d",
   "metadata": {},
   "outputs": [],
   "source": [
    "import matplotlib.pyplot as plt"
   ]
  },
  {
   "cell_type": "code",
   "execution_count": 21,
   "id": "de5808be",
   "metadata": {},
   "outputs": [
    {
     "data": {
      "text/plain": [
       "<Figure size 800x600 with 0 Axes>"
      ]
     },
     "metadata": {},
     "output_type": "display_data"
    },
    {
     "data": {
      "image/png": "[encoded data removed]",
      "text/plain": [
       "<Figure size 640x480 with 1 Axes>"
      ]
     },
     "metadata": {},
     "output_type": "display_data"
    }
   ],
   "source": [
    "plt.figure(figsize=(8, 6))\n",
    "fig, ax = plt.subplots()\n",
    "for word, x1, x2 in zip(w2v_df.word, w2v_df.x1, w2v_df.x2):\n",
    "    ax.annotate(word, (x1, x2))\n",
    "    \n",
    "x_axis_min = np.amin(vectors, axis=0)[0] - 1.0\n",
    "x_axis_max = np.amax(vectors, axis=0)[0] + 1.0\n",
    "y_axis_min = np.amin(vectors, axis=0)[1] - 1.0\n",
    "y_axis_max = np.amax(vectors, axis=0)[1] + 1.0\n",
    "    \n",
    "plt.xlim(x_axis_min, x_axis_max)\n",
    "plt.ylim(y_axis_min, y_axis_max)\n",
    "plt.show()"
   ]
  },
  {
   "cell_type": "code",
   "execution_count": null,
   "id": "e617c545",
   "metadata": {},
   "outputs": [],
   "source": []
  },
  {
   "cell_type": "code",
   "execution_count": null,
   "id": "0bc4b38f",
   "metadata": {},
   "outputs": [],
   "source": []
  }
 ],
 "metadata": {
  "kernelspec": {
   "display_name": "python37",
   "language": "python",
   "name": "python37"
  },
  "language_info": {
   "codemirror_mode": {
    "name": "ipython",
    "version": 3
   },
   "file_extension": ".py",
   "mimetype": "text/x-python",
   "name": "python",
   "nbconvert_exporter": "python",
   "pygments_lexer": "ipython3",
   "version": "3.7.1"
  }
 },
 "nbformat": 4,
 "nbformat_minor": 5
}
