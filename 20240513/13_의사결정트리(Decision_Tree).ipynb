{
 "cells": [
  {
   "cell_type": "code",
   "execution_count": 1,
   "id": "51f12e32",
   "metadata": {},
   "outputs": [],
   "source": [
    "import warnings\n",
    "warnings.filterwarnings(action='ignore')\n",
    "%config Completer.use_jedi = False\n",
    "import numpy as np\n",
    "import pandas as pd\n",
    "import matplotlib.pyplot as plt\n",
    "import matplotlib as mpl\n",
    "mpl.rcParams['axes.unicode_minus'] = False\n",
    "plt.rcParams['font.family'] = 'NanumGothicCoding'\n",
    "plt.rcParams['font.size'] = 10\n",
    "import seaborn as sns\n",
    "from sklearn.model_selection import train_test_split\n",
    "from sklearn.metrics import accuracy_score"
   ]
  },
  {
   "cell_type": "markdown",
   "id": "e5e3c181",
   "metadata": {},
   "source": [
    "의사결정 트리(Decision Tree)\n",
    "\n",
    "의사결정 트리는 데이터 분류나 회귀에 사용되는 지도학습 알고리즘으로 결과값이 어떻게 나왔는지 이해하기가 가장 쉽고 정확도가 높은 장점이 있지만 과대 적합되기 쉬운 알고리즘이라는 단점도 있다.\n",
    "\n",
    "의사결정 트리 알고리즘은 스므고개와 상당히 비슷한다. 데이터의 특징을 바탕으로 데이터를 연속적으로 분리하다 보면 결국 하나의 정답으로 데이터를 분류할 수 있는데 스므고개에서 적은 질문으로 정답을 맞추기 위해서는 의미있는 질문을 먼저 하는 것이 중요하듯이 의사결정 트리에서도 의미있는 질문을 먼저 하는 것이 상당히 중요하다. 데이터의 특징속에서 분류에 큰 영향을 끼치는 특성을 발견하고 상위 노드를 선택하는 것이 의사결정 트리 알고리즘의 핵심이다.\n",
    "\n",
    "스므고개를 할 때 질문자는 질문을 하나 던질때마다 약간씩의 정보를 획득한다. 약간씩의 정보를 획득하는 과정은 정답에 대한 불확실성이 조금씩 줄어든다는 것과 같은 개념이다. 정보 이론(Information Theory)에서는 이 불확실성을 수치적으로 표현한 값을 엔트로피(Entropy)라고 표현하며 정보 이득(Information Gain)은 질문 이전의 엔트로피에서 질문 후의 엔트로피를 뺀 값이 된다. 즉, 불확실성이 줄어든 정도를 정보 이득이라고 한다.\n",
    "\n",
    "지니 계수(Gini Index)\n",
    "\n",
    "P ** 2 + Q ** 2 으로 계산하며 불순도를 측정하는 지표로 데이터의 통계적 분석 정도를 정량화해서 표현한 것을 의미한다.  \n",
    "사이킷런의 의사결정 트리는 CART(Classification And Pregression Tree) 타입의 의사결정 트리이며 CART는 트리의 노드마다 특징을 이진 분류하는 특징이 있기에 사이킷런은 의사결정 트리를 구성할 때 지니 계수를 사용한다.\n",
    "\n",
    "<img src=\"./giniIndex.png\" align=\"left\" width=\"1200\"/>"
   ]
  },
  {
   "cell_type": "markdown",
   "id": "9859b46b",
   "metadata": {},
   "source": [
    "문제 정의\n",
    "\n",
    "서울 지역(구)의 위도와 경도 정보를 학습해서 임의로 입력된 지역(동)을 강동, 강서, 강남, 강북으로 분류하는 모델을 구현한다.  \n",
    "즉, 특정 지역이 강동인지 강서인지 강남인지 강북인지 알아내는 모델을 구현한다.\n",
    "\n",
    "데이터 획득  \n",
    "district: 구, dong: 동, latitude: 위도, longitude: 경도, label: 강동, 강서, 강남, 강북으로 구분한 지역"
   ]
  },
  {
   "cell_type": "code",
   "execution_count": 2,
   "id": "6d58fb2b",
   "metadata": {},
   "outputs": [],
   "source": [
    "# 구 데이터 => 학습 데이터\n",
    "district_dict_list = [\n",
    "    {'district': 'Gangseo-gu', 'latitude': 37.551000, 'longitude': 126.849500, 'label':'Gangseo'},\n",
    "    {'district': 'Yangcheon-gu', 'latitude': 37.52424, 'longitude': 126.855396, 'label':'Gangseo'},\n",
    "    {'district': 'Guro-gu', 'latitude': 37.4954, 'longitude': 126.8874, 'label':'Gangseo'},\n",
    "    {'district': 'Geumcheon-gu', 'latitude': 37.4519, 'longitude': 126.9020, 'label':'Gangseo'},\n",
    "    {'district': 'Mapo-gu', 'latitude': 37.560229, 'longitude': 126.908728, 'label':'Gangseo'},\n",
    "\n",
    "    {'district': 'Gwanak-gu', 'latitude': 37.487517, 'longitude': 126.915065, 'label':'Gangnam'},\n",
    "    {'district': 'Dongjak-gu', 'latitude': 37.5124, 'longitude': 126.9393, 'label':'Gangnam'},\n",
    "    {'district': 'Seocho-gu', 'latitude': 37.4837, 'longitude': 127.0324, 'label':'Gangnam'},\n",
    "    {'district': 'Gangnam-gu', 'latitude': 37.5172, 'longitude': 127.0473, 'label':'Gangnam'},\n",
    "    {'district': 'Songpa-gu', 'latitude': 37.503510, 'longitude': 127.117898, 'label':'Gangnam'},\n",
    "\n",
    "    {'district': 'Yongsan-gu', 'latitude': 37.532561, 'longitude': 127.008605, 'label':'Gangbuk'},\n",
    "    {'district': 'Jongro-gu', 'latitude': 37.5730, 'longitude': 126.9794, 'label':'Gangbuk'},\n",
    "    {'district': 'Seongbuk-gu', 'latitude': 37.603979, 'longitude': 127.056344, 'label':'Gangbuk'},\n",
    "    {'district': 'Nowon-gu', 'latitude': 37.6542, 'longitude': 127.0568, 'label':'Gangbuk'},\n",
    "    {'district': 'Dobong-gu', 'latitude': 37.6688, 'longitude': 127.0471, 'label':'Gangbuk'},\n",
    "\n",
    "    {'district': 'Seongdong-gu', 'latitude': 37.557340, 'longitude': 127.041667, 'label':'Gangdong'},\n",
    "    {'district': 'Dongdaemun-gu', 'latitude': 37.575759, 'longitude': 127.025288, 'label':'Gangdong'},\n",
    "    {'district': 'Gwangjin-gu', 'latitude': 37.557562, 'longitude': 127.083467, 'label':'Gangdong'},\n",
    "    {'district': 'Gangdong-gu', 'latitude': 37.554194, 'longitude': 127.151405, 'label':'Gangdong'},\n",
    "    {'district': 'Jungrang-gu', 'latitude': 37.593684, 'longitude': 127.090384, 'label':'Gangdong'}\n",
    " ]\n",
    "\n",
    "# 동 데이터 => 테스트 데이터\n",
    "dong_dict_list = [\n",
    "    {'dong': 'Gaebong-dong', 'latitude': 37.489853, 'longitude': 126.854547, 'label':'Gangseo'},\n",
    "    {'dong': 'Gochuk-dong', 'latitude': 37.501394, 'longitude': 126.859245, 'label':'Gangseo'},\n",
    "    {'dong': 'Hwagok-dong', 'latitude': 37.537759, 'longitude': 126.847951, 'label':'Gangseo'},\n",
    "    {'dong': 'Banghwa-dong', 'latitude': 37.575817, 'longitude': 126.815719, 'label':'Gangseo'},\n",
    "    {'dong': 'Sangam-dong', 'latitude': 37.577039, 'longitude': 126.891620, 'label':'Gangseo'},\n",
    "\n",
    "    {'dong': 'Nonhyun-dong', 'latitude': 37.508838, 'longitude': 127.030720, 'label':'Gangnam'},\n",
    "    {'dong': 'Daechi-dong', 'latitude': 37.501163, 'longitude': 127.057193, 'label':'Gangnam'},\n",
    "    {'dong': 'Seocho-dong', 'latitude': 37.486401, 'longitude': 127.018281, 'label':'Gangnam'},\n",
    "    {'dong': 'Bangbae-dong', 'latitude': 37.483279, 'longitude': 126.988194, 'label':'Gangnam'},\n",
    "    {'dong': 'Dogok-dong', 'latitude': 37.492896, 'longitude': 127.043159, 'label':'Gangnam'},\n",
    "\n",
    "    {'dong': 'Pyoungchang-dong', 'latitude': 37.612129, 'longitude': 126.975724, 'label':'Gangbuk'},\n",
    "    {'dong': 'Sungbuk-dong', 'latitude': 37.597916, 'longitude': 126.998067, 'label':'Gangbuk'},\n",
    "    {'dong': 'Ssangmoon-dong', 'latitude': 37.648094, 'longitude': 127.030421, 'label':'Gangbuk'},\n",
    "    {'dong': 'Ui-dong', 'latitude': 37.648446, 'longitude': 127.011396, 'label':'Gangbuk'},\n",
    "    {'dong': 'Samcheong-dong', 'latitude': 37.591109, 'longitude': 126.980488, 'label':'Gangbuk'},\n",
    "\n",
    "    {'dong': 'Hwayang-dong', 'latitude': 37.544234, 'longitude': 127.071648, 'label':'Gangdong'},\n",
    "    {'dong': 'Gui-dong', 'latitude': 37.543757, 'longitude': 127.086803, 'label':'Gangdong'},\n",
    "    {'dong': 'Neung-dong', 'latitude': 37.553102, 'longitude': 127.080248, 'label':'Gangdong'},\n",
    "    {'dong': 'Amsa-dong', 'latitude': 37.552370, 'longitude': 127.127124, 'label':'Gangdong'},\n",
    "    {'dong': 'Chunho-dong', 'latitude': 37.547436, 'longitude': 127.137382, 'label':'Gangdong'}\n",
    " ]"
   ]
  },
  {
   "cell_type": "code",
   "execution_count": 3,
   "id": "28b8e296",
   "metadata": {},
   "outputs": [
    {
     "data": {
      "text/html": [
       "<div>\n",
       "<style scoped>\n",
       "    .dataframe tbody tr th:only-of-type {\n",
       "        vertical-align: middle;\n",
       "    }\n",
       "\n",
       "    .dataframe tbody tr th {\n",
       "        vertical-align: top;\n",
       "    }\n",
       "\n",
       "    .dataframe thead th {\n",
       "        text-align: right;\n",
       "    }\n",
       "</style>\n",
       "<table border=\"1\" class=\"dataframe\">\n",
       "  <thead>\n",
       "    <tr style=\"text-align: right;\">\n",
       "      <th></th>\n",
       "      <th>district</th>\n",
       "      <th>latitude</th>\n",
       "      <th>longitude</th>\n",
       "      <th>label</th>\n",
       "    </tr>\n",
       "  </thead>\n",
       "  <tbody>\n",
       "    <tr>\n",
       "      <th>0</th>\n",
       "      <td>Gangseo-gu</td>\n",
       "      <td>37.551000</td>\n",
       "      <td>126.849500</td>\n",
       "      <td>Gangseo</td>\n",
       "    </tr>\n",
       "    <tr>\n",
       "      <th>1</th>\n",
       "      <td>Yangcheon-gu</td>\n",
       "      <td>37.524240</td>\n",
       "      <td>126.855396</td>\n",
       "      <td>Gangseo</td>\n",
       "    </tr>\n",
       "    <tr>\n",
       "      <th>2</th>\n",
       "      <td>Guro-gu</td>\n",
       "      <td>37.495400</td>\n",
       "      <td>126.887400</td>\n",
       "      <td>Gangseo</td>\n",
       "    </tr>\n",
       "    <tr>\n",
       "      <th>3</th>\n",
       "      <td>Geumcheon-gu</td>\n",
       "      <td>37.451900</td>\n",
       "      <td>126.902000</td>\n",
       "      <td>Gangseo</td>\n",
       "    </tr>\n",
       "    <tr>\n",
       "      <th>4</th>\n",
       "      <td>Mapo-gu</td>\n",
       "      <td>37.560229</td>\n",
       "      <td>126.908728</td>\n",
       "      <td>Gangseo</td>\n",
       "    </tr>\n",
       "  </tbody>\n",
       "</table>\n",
       "</div>"
      ],
      "text/plain": [
       "       district   latitude   longitude    label\n",
       "0    Gangseo-gu  37.551000  126.849500  Gangseo\n",
       "1  Yangcheon-gu  37.524240  126.855396  Gangseo\n",
       "2       Guro-gu  37.495400  126.887400  Gangseo\n",
       "3  Geumcheon-gu  37.451900  126.902000  Gangseo\n",
       "4       Mapo-gu  37.560229  126.908728  Gangseo"
      ]
     },
     "execution_count": 3,
     "metadata": {},
     "output_type": "execute_result"
    }
   ],
   "source": [
    "train_df = pd.DataFrame(district_dict_list)\n",
    "train_df.head()"
   ]
  },
  {
   "cell_type": "code",
   "execution_count": 4,
   "id": "499f1a12",
   "metadata": {},
   "outputs": [
    {
     "data": {
      "text/html": [
       "<div>\n",
       "<style scoped>\n",
       "    .dataframe tbody tr th:only-of-type {\n",
       "        vertical-align: middle;\n",
       "    }\n",
       "\n",
       "    .dataframe tbody tr th {\n",
       "        vertical-align: top;\n",
       "    }\n",
       "\n",
       "    .dataframe thead th {\n",
       "        text-align: right;\n",
       "    }\n",
       "</style>\n",
       "<table border=\"1\" class=\"dataframe\">\n",
       "  <thead>\n",
       "    <tr style=\"text-align: right;\">\n",
       "      <th></th>\n",
       "      <th>dong</th>\n",
       "      <th>latitude</th>\n",
       "      <th>longitude</th>\n",
       "      <th>label</th>\n",
       "    </tr>\n",
       "  </thead>\n",
       "  <tbody>\n",
       "    <tr>\n",
       "      <th>0</th>\n",
       "      <td>Gaebong-dong</td>\n",
       "      <td>37.489853</td>\n",
       "      <td>126.854547</td>\n",
       "      <td>Gangseo</td>\n",
       "    </tr>\n",
       "    <tr>\n",
       "      <th>1</th>\n",
       "      <td>Gochuk-dong</td>\n",
       "      <td>37.501394</td>\n",
       "      <td>126.859245</td>\n",
       "      <td>Gangseo</td>\n",
       "    </tr>\n",
       "    <tr>\n",
       "      <th>2</th>\n",
       "      <td>Hwagok-dong</td>\n",
       "      <td>37.537759</td>\n",
       "      <td>126.847951</td>\n",
       "      <td>Gangseo</td>\n",
       "    </tr>\n",
       "    <tr>\n",
       "      <th>3</th>\n",
       "      <td>Banghwa-dong</td>\n",
       "      <td>37.575817</td>\n",
       "      <td>126.815719</td>\n",
       "      <td>Gangseo</td>\n",
       "    </tr>\n",
       "    <tr>\n",
       "      <th>4</th>\n",
       "      <td>Sangam-dong</td>\n",
       "      <td>37.577039</td>\n",
       "      <td>126.891620</td>\n",
       "      <td>Gangseo</td>\n",
       "    </tr>\n",
       "  </tbody>\n",
       "</table>\n",
       "</div>"
      ],
      "text/plain": [
       "           dong   latitude   longitude    label\n",
       "0  Gaebong-dong  37.489853  126.854547  Gangseo\n",
       "1   Gochuk-dong  37.501394  126.859245  Gangseo\n",
       "2   Hwagok-dong  37.537759  126.847951  Gangseo\n",
       "3  Banghwa-dong  37.575817  126.815719  Gangseo\n",
       "4   Sangam-dong  37.577039  126.891620  Gangseo"
      ]
     },
     "execution_count": 4,
     "metadata": {},
     "output_type": "execute_result"
    }
   ],
   "source": [
    "test_df = pd.DataFrame(dong_dict_list)\n",
    "test_df.head()"
   ]
  },
  {
   "cell_type": "markdown",
   "id": "dceaae84",
   "metadata": {},
   "source": [
    "학습 데이터와 테스트 데이터의 분포를 확인한다."
   ]
  },
  {
   "cell_type": "code",
   "execution_count": 5,
   "id": "897c0d09",
   "metadata": {},
   "outputs": [
    {
     "name": "stdout",
     "output_type": "stream",
     "text": [
      "train_df.label\n",
      "Gangseo     5\n",
      "Gangnam     5\n",
      "Gangbuk     5\n",
      "Gangdong    5\n",
      "Name: label, dtype: int64\n",
      "test_df.label\n",
      "Gangseo     5\n",
      "Gangnam     5\n",
      "Gangbuk     5\n",
      "Gangdong    5\n",
      "Name: label, dtype: int64\n"
     ]
    }
   ],
   "source": [
    "print('train_df.label')\n",
    "print(train_df.label.value_counts())\n",
    "print('test_df.label')\n",
    "print(test_df.label.value_counts())"
   ]
  },
  {
   "cell_type": "markdown",
   "id": "060c05c3",
   "metadata": {},
   "source": [
    "학습 데이터 시각화"
   ]
  },
  {
   "cell_type": "code",
   "execution_count": 6,
   "id": "255d3083",
   "metadata": {},
   "outputs": [
    {
     "data": {
      "text/plain": [
       "<Figure size 800x600 with 0 Axes>"
      ]
     },
     "metadata": {},
     "output_type": "display_data"
    },
    {
     "data": {
      "image/png": "[encoded data removed]",
      "text/plain": [
       "<Figure size 606x500 with 1 Axes>"
      ]
     },
     "metadata": {},
     "output_type": "display_data"
    },
    {
     "data": {
      "image/png": "[encoded data removed]",
      "text/plain": [
       "<Figure size 606x500 with 1 Axes>"
      ]
     },
     "metadata": {},
     "output_type": "display_data"
    }
   ],
   "source": [
    "plt.figure(figsize=(8, 6))\n",
    "sns.lmplot(data=train_df, x='longitude', y='latitude', fit_reg=False, hue='label', \n",
    "           scatter_kws={'s': 50}, markers=['o', 'v', '*', '^'])\n",
    "plt.title('서울 구별 위/경도 분포도')\n",
    "plt.xlabel('경도')\n",
    "plt.ylabel('위도')\n",
    "# ==============================================================================\n",
    "sns.lmplot(data=test_df, x='longitude', y='latitude', fit_reg=False, hue='label', \n",
    "           scatter_kws={'s': 50}, markers=['o', 'v', '*', '^'])\n",
    "plt.title('서울 동별 위/경도 분포도')\n",
    "plt.xlabel('경도')\n",
    "plt.ylabel('위도')\n",
    "plt.show()"
   ]
  },
  {
   "cell_type": "markdown",
   "id": "96955bf7",
   "metadata": {},
   "source": [
    "데이터 전처리\n",
    "\n",
    "위의 시각화를 통해 구 이름과 동 이름이 학습이나 테스트에 별 영향을 미치지 않는다는 점을 알았으므로 학습 및 테스트 데이터에서 필요없는 피쳐를 제거한다."
   ]
  },
  {
   "cell_type": "code",
   "execution_count": 7,
   "id": "e5a55fa0",
   "metadata": {},
   "outputs": [
    {
     "data": {
      "text/html": [
       "<div>\n",
       "<style scoped>\n",
       "    .dataframe tbody tr th:only-of-type {\n",
       "        vertical-align: middle;\n",
       "    }\n",
       "\n",
       "    .dataframe tbody tr th {\n",
       "        vertical-align: top;\n",
       "    }\n",
       "\n",
       "    .dataframe thead th {\n",
       "        text-align: right;\n",
       "    }\n",
       "</style>\n",
       "<table border=\"1\" class=\"dataframe\">\n",
       "  <thead>\n",
       "    <tr style=\"text-align: right;\">\n",
       "      <th></th>\n",
       "      <th>latitude</th>\n",
       "      <th>longitude</th>\n",
       "      <th>label</th>\n",
       "    </tr>\n",
       "  </thead>\n",
       "  <tbody>\n",
       "    <tr>\n",
       "      <th>0</th>\n",
       "      <td>37.551000</td>\n",
       "      <td>126.849500</td>\n",
       "      <td>Gangseo</td>\n",
       "    </tr>\n",
       "    <tr>\n",
       "      <th>1</th>\n",
       "      <td>37.524240</td>\n",
       "      <td>126.855396</td>\n",
       "      <td>Gangseo</td>\n",
       "    </tr>\n",
       "    <tr>\n",
       "      <th>2</th>\n",
       "      <td>37.495400</td>\n",
       "      <td>126.887400</td>\n",
       "      <td>Gangseo</td>\n",
       "    </tr>\n",
       "    <tr>\n",
       "      <th>3</th>\n",
       "      <td>37.451900</td>\n",
       "      <td>126.902000</td>\n",
       "      <td>Gangseo</td>\n",
       "    </tr>\n",
       "    <tr>\n",
       "      <th>4</th>\n",
       "      <td>37.560229</td>\n",
       "      <td>126.908728</td>\n",
       "      <td>Gangseo</td>\n",
       "    </tr>\n",
       "  </tbody>\n",
       "</table>\n",
       "</div>"
      ],
      "text/plain": [
       "    latitude   longitude    label\n",
       "0  37.551000  126.849500  Gangseo\n",
       "1  37.524240  126.855396  Gangseo\n",
       "2  37.495400  126.887400  Gangseo\n",
       "3  37.451900  126.902000  Gangseo\n",
       "4  37.560229  126.908728  Gangseo"
      ]
     },
     "execution_count": 7,
     "metadata": {},
     "output_type": "execute_result"
    }
   ],
   "source": [
    "# 학습 데이터에서 구 제거\n",
    "train_df = train_df.drop(['district'], axis=1)\n",
    "train_df.head()"
   ]
  },
  {
   "cell_type": "code",
   "execution_count": 8,
   "id": "cf624643",
   "metadata": {},
   "outputs": [
    {
     "data": {
      "text/html": [
       "<div>\n",
       "<style scoped>\n",
       "    .dataframe tbody tr th:only-of-type {\n",
       "        vertical-align: middle;\n",
       "    }\n",
       "\n",
       "    .dataframe tbody tr th {\n",
       "        vertical-align: top;\n",
       "    }\n",
       "\n",
       "    .dataframe thead th {\n",
       "        text-align: right;\n",
       "    }\n",
       "</style>\n",
       "<table border=\"1\" class=\"dataframe\">\n",
       "  <thead>\n",
       "    <tr style=\"text-align: right;\">\n",
       "      <th></th>\n",
       "      <th>latitude</th>\n",
       "      <th>longitude</th>\n",
       "      <th>label</th>\n",
       "    </tr>\n",
       "  </thead>\n",
       "  <tbody>\n",
       "    <tr>\n",
       "      <th>0</th>\n",
       "      <td>37.489853</td>\n",
       "      <td>126.854547</td>\n",
       "      <td>Gangseo</td>\n",
       "    </tr>\n",
       "    <tr>\n",
       "      <th>1</th>\n",
       "      <td>37.501394</td>\n",
       "      <td>126.859245</td>\n",
       "      <td>Gangseo</td>\n",
       "    </tr>\n",
       "    <tr>\n",
       "      <th>2</th>\n",
       "      <td>37.537759</td>\n",
       "      <td>126.847951</td>\n",
       "      <td>Gangseo</td>\n",
       "    </tr>\n",
       "    <tr>\n",
       "      <th>3</th>\n",
       "      <td>37.575817</td>\n",
       "      <td>126.815719</td>\n",
       "      <td>Gangseo</td>\n",
       "    </tr>\n",
       "    <tr>\n",
       "      <th>4</th>\n",
       "      <td>37.577039</td>\n",
       "      <td>126.891620</td>\n",
       "      <td>Gangseo</td>\n",
       "    </tr>\n",
       "  </tbody>\n",
       "</table>\n",
       "</div>"
      ],
      "text/plain": [
       "    latitude   longitude    label\n",
       "0  37.489853  126.854547  Gangseo\n",
       "1  37.501394  126.859245  Gangseo\n",
       "2  37.537759  126.847951  Gangseo\n",
       "3  37.575817  126.815719  Gangseo\n",
       "4  37.577039  126.891620  Gangseo"
      ]
     },
     "execution_count": 8,
     "metadata": {},
     "output_type": "execute_result"
    }
   ],
   "source": [
    "# 테스트 데이터에서 동 제거\n",
    "test_df.drop(['dong'], axis=1, inplace=True)\n",
    "test_df.head()"
   ]
  },
  {
   "cell_type": "markdown",
   "id": "87df388e",
   "metadata": {},
   "source": [
    "의사결정 트리 모델 학습"
   ]
  },
  {
   "cell_type": "code",
   "execution_count": 9,
   "id": "ad8c65b4",
   "metadata": {},
   "outputs": [],
   "source": [
    "x_train = train_df[['longitude', 'latitude']]\n",
    "y_train = train_df[['label']]\n",
    "x_test = test_df[['longitude', 'latitude']]\n",
    "y_test = test_df[['label']]"
   ]
  },
  {
   "cell_type": "code",
   "execution_count": 10,
   "id": "df3760de",
   "metadata": {},
   "outputs": [],
   "source": [
    "# 데이터를 모델화시키고 학습을 위해 숫자로 만들기 위해서 import 한다.\n",
    "from sklearn.preprocessing import LabelEncoder\n",
    "# 사이킷런의 의사결정 트리를 사용하기 위해 import 한다.\n",
    "from sklearn.tree import DecisionTreeClassifier"
   ]
  },
  {
   "cell_type": "code",
   "execution_count": 11,
   "id": "4075b56c",
   "metadata": {},
   "outputs": [
    {
     "name": "stdout",
     "output_type": "stream",
     "text": [
      "[3 3 3 3 3 2 2 2 2 2 0 0 0 0 0 1 1 1 1 1]\n",
      "['Gangbuk' 'Gangdong' 'Gangnam' 'Gangseo']\n"
     ]
    }
   ],
   "source": [
    "# Gangbuk => 0,  Gangdong => 1, Gangnam => 2, Gangseo => 3\n",
    "le = LabelEncoder() # LabelEncoder 객체를 만든다.\n",
    "# y_encoded = le.fit(y_train) # 학습시킨다.\n",
    "# y_encoded = y_encoded.transform(y_train) # 학습 결과를 반영한다. => 문자로 되어있는 레이블을 숫자로 만든다.\n",
    "# fit_transform() 메소드는 학습된 결과를 바로 반영시킨다.\n",
    "y_encoded = le.fit_transform(y_train)\n",
    "print(y_encoded)\n",
    "# classes_ 속성은 LabelEncoder 객체를 사용해 숫자로 변환한 원래 레이블 데이터를 얻어온다.\n",
    "print(le.classes_)"
   ]
  },
  {
   "cell_type": "code",
   "execution_count": 17,
   "id": "5927ced8",
   "metadata": {},
   "outputs": [],
   "source": [
    "# DecisionTreeClassifier 객체로 의사결정 트리를 학습시킨다.\n",
    "# 사이킷런의 의사결정 트리 알고리즘 구동시 random 하게 특성들과 데이터 건수를 선택하는 로직이 포함되어 있기 때문에\n",
    "# random_state 속성에 특정 값을 지정하여 수행시 마다 동일한 트리를 만들수 있도록 한다.\n",
    "# clf = DecisionTreeClassifier()\n",
    "# clf.fit(x_train, y_encoded)\n",
    "clf = DecisionTreeClassifier(random_state=35).fit(x_train, y_encoded)"
   ]
  },
  {
   "cell_type": "markdown",
   "id": "47a24500",
   "metadata": {},
   "source": [
    "학습된 의사결정 트리 시각화"
   ]
  },
  {
   "cell_type": "code",
   "execution_count": null,
   "id": "97039578",
   "metadata": {},
   "outputs": [],
   "source": []
  },
  {
   "cell_type": "code",
   "execution_count": null,
   "id": "b3057267",
   "metadata": {},
   "outputs": [],
   "source": []
  },
  {
   "cell_type": "code",
   "execution_count": null,
   "id": "a7bfa697",
   "metadata": {},
   "outputs": [],
   "source": []
  },
  {
   "cell_type": "code",
   "execution_count": null,
   "id": "ca1e63ac",
   "metadata": {},
   "outputs": [],
   "source": []
  },
  {
   "cell_type": "code",
   "execution_count": null,
   "id": "78a44ff6",
   "metadata": {},
   "outputs": [],
   "source": []
  },
  {
   "cell_type": "code",
   "execution_count": null,
   "id": "46f0c910",
   "metadata": {},
   "outputs": [],
   "source": []
  }
 ],
 "metadata": {
  "kernelspec": {
   "display_name": "python37",
   "language": "python",
   "name": "python37"
  },
  "language_info": {
   "codemirror_mode": {
    "name": "ipython",
    "version": 3
   },
   "file_extension": ".py",
   "mimetype": "text/x-python",
   "name": "python",
   "nbconvert_exporter": "python",
   "pygments_lexer": "ipython3",
   "version": "3.7.1"
  }
 },
 "nbformat": 4,
 "nbformat_minor": 5
}
