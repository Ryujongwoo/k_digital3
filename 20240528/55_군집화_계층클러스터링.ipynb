{
 "cells": [
  {
   "cell_type": "code",
   "execution_count": 1,
   "id": "8c67cd04",
   "metadata": {},
   "outputs": [],
   "source": [
    "import warnings\n",
    "warnings.filterwarnings(action='ignore')\n",
    "%config Completer.use_jedi = False\n",
    "import numpy as np\n",
    "import pandas as pd\n",
    "import matplotlib.pyplot as plt\n",
    "import matplotlib as mpl\n",
    "mpl.rcParams['axes.unicode_minus'] = False\n",
    "plt.rcParams['font.family'] = 'NanumGothicCoding'\n",
    "plt.rcParams['font.size'] = 10\n",
    "import seaborn as sns\n",
    "\n",
    "from sklearn import datasets\n",
    "from sklearn.model_selection import train_test_split\n",
    "from sklearn.preprocessing import StandardScaler\n",
    "from sklearn.metrics import accuracy_score\n",
    "from sklearn.metrics import precision_score\n",
    "from sklearn.metrics import recall_score\n",
    "from sklearn.metrics import f1_score\n",
    "from sklearn.metrics import confusion_matrix\n",
    "from sklearn.metrics import classification_report\n",
    "from sklearn.metrics import mean_absolute_error\n",
    "from sklearn.metrics import mean_squared_error\n",
    "from sklearn.metrics import r2_score\n",
    "from sklearn.metrics import silhouette_score"
   ]
  },
  {
   "cell_type": "markdown",
   "id": "7a36a37f",
   "metadata": {},
   "source": [
    "계층 클러스터링(Hierarchical Clustering) 알고리즘은 데이터 간 계층을 기반으로 데이터 간 병합 또는 분할을 통해서 해당 데이터 포인트가 속할 그룹을 결정한다. 계층 클러스터링은 크게 병합 계층 클러스터링(Agglomerative Hierarchical Clustering)과 분할 계층 클러스터링(Division Hierarchical Clustering)으로 나눌 수 있다.\n",
    "\n",
    "병합 계층 클러스터링은 개별 데이터 포인트를 하나의 클러스터로 설정하고 시작하는 방법으로 데이터 포인트가 100개가 있다면 100개의 클러스터가 존재한다고 설정하는 것이다. 그리고 각 클러스터를 비교해서 클러스터간 유사도가 높을 경우 두 개의 클러스터를 하나의 클러스터로 합치는 방법이다. 처음에는 다수의 클러스터로 시작하지만 결국에는 데이터 셋 전체가 하나의 클러스터로 묶이는 방법이다.\n",
    "\n",
    "분할 계층 클러스터링은 병합 계층 클러스터링과는 반대로 전체 데이터 셋을 하나의 클러스터로 설정하고 시작하는 방법으로 데이터 포인트가 100개가 있다면 이 데이터 셋 전체를 1개의 클러스터라고 설정하는 것이다. 그리고 클러스터 내부에서 가장 멀리 떨어진 데이터 포인트를 다른 클러스트로 분리하는 방법이다. 처음에는 하나의 클러스트로 시작하지만 결국에는 클러스터가 데이터 포인트의 개수만큼 분리되는 방법이다.\n",
    "\n",
    "계층 클러스터링 알고리즘을 활용해서 주어진 데이터를 클러스터링 해본다.\n",
    "\n",
    "데이터 불러오기"
   ]
  },
  {
   "cell_type": "code",
   "execution_count": 2,
   "id": "80bd05be",
   "metadata": {},
   "outputs": [
    {
     "name": "stdout",
     "output_type": "stream",
     "text": [
      "(100, 2) (100,)\n"
     ]
    }
   ],
   "source": [
    "# 클러스터링용 가상 데이터를 불러온다.\n",
    "x_train, y_train = datasets.make_blobs(n_samples=100, n_features=2, random_state=10, centers=6)\n",
    "print(x_train.shape, y_train.shape)"
   ]
  },
  {
   "cell_type": "markdown",
   "id": "fe9e0008",
   "metadata": {},
   "source": [
    "클러스터링 되지 않은 데이터 시각화"
   ]
  },
  {
   "cell_type": "code",
   "execution_count": 3,
   "id": "a8a34578",
   "metadata": {},
   "outputs": [
    {
     "data": {
      "image/png": "[encoded data removed]",
      "text/plain": [
       "<Figure size 800x600 with 1 Axes>"
      ]
     },
     "metadata": {},
     "output_type": "display_data"
    }
   ],
   "source": [
    "plt.figure(figsize=[8, 6])\n",
    "plt.scatter(x_train[:, 0], x_train[:, 1], c='gray', edgecolors='black', marker='o')\n",
    "plt.show()"
   ]
  },
  {
   "cell_type": "markdown",
   "id": "8143787a",
   "metadata": {},
   "source": [
    "병합 계층 클러스터링 모델 생성 후 데이터 학습"
   ]
  },
  {
   "cell_type": "code",
   "execution_count": 4,
   "id": "7338e215",
   "metadata": {},
   "outputs": [
    {
     "data": {
      "text/plain": [
       "AgglomerativeClustering(distance_threshold=0, linkage='complete',\n",
       "                        n_clusters=None)"
      ]
     },
     "execution_count": 4,
     "metadata": {},
     "output_type": "execute_result"
    }
   ],
   "source": [
    "from sklearn.cluster import AgglomerativeClustering # 병합 계층 클러스터링 알고리즘을 사용하기 위해 import 한다.\n",
    "# n_clusters 속성에 클러스터링 개수를 지정해서 병합 계층 클러스터링 모델을 만든다. 기본값은 2이다.\n",
    "# 모든 데이터 포인트가 각각 하나의 클러스터를 구성하는 것을 보고싶으면 n_clusters 속성값을 None으로 지정하면 \n",
    "# 되는데, 이 때 distance_threshold 속성값을 반드시 0으로 지정하지 않으면 에러가 발생된다.\n",
    "# linkage 속성으로 거리를 측정하는 방법을 지정한다. 기본값은 'word'이고 'complete', 'average', 'single'를\n",
    "# 지정할 수 있다.\n",
    "# word: 병합되는 클러스터들의 분산을 최소화 한다. 최소 분산 방법\n",
    "# complete: 모든 데이터 조합에 대한 거리를 측정해서 가장 큰 값을 구한다. 최장 거리 방법\n",
    "# average: 모든 데이터 조합에 대한 거리를 측정해서 평균 값을 구한다. 평균 거리 방법\n",
    "# single: 모든 데이터 조합에 대한 거리를 측정해서 가장 작은 값을 구한다. 최소 거리 방법\n",
    "cluster = AgglomerativeClustering(n_clusters=None, distance_threshold=0, linkage='complete')\n",
    "# 학습 데이터로 병합 계층 클러스터링 모델을 학습시킨다.\n",
    "cluster.fit(x_train)"
   ]
  },
  {
   "cell_type": "code",
   "execution_count": 5,
   "id": "d26a460e",
   "metadata": {},
   "outputs": [
    {
     "name": "stdout",
     "output_type": "stream",
     "text": [
      "[88 57 75 93 80 92 69 59 76 77 72 99 91 63 82 71 37 66 55 94 81 60 67 35\n",
      " 87 61 46 83 73 98 54 84 41 62 65 56 43 68 78 64 97 27 49 58 33 52 48 53\n",
      " 28 38 50 74 79 90 29 95 85 13 96 70 45 34 22 16 40 32 47 86 36 18 30 23\n",
      " 31 42 26 17 51 39 89 24 25 44 19 21 10 12  8 15 20 11 14  7  9  5  6  3\n",
      "  4  2  1  0]\n",
      "[88 57 75 93 80 92 69 59 76 77 72 99 91 63 82 71 37 66 55 94 81 60 67 35\n",
      " 87 61 46 83 73 98 54 84 41 62 65 56 43 68 78 64 97 27 49 58 33 52 48 53\n",
      " 28 38 50 74 79 90 29 95 85 13 96 70 45 34 22 16 40 32 47 86 36 18 30 23\n",
      " 31 42 26 17 51 39 89 24 25 44 19 21 10 12  8 15 20 11 14  7  9  5  6  3\n",
      "  4  2  1  0]\n"
     ]
    }
   ],
   "source": [
    "# 클러스터링 결과(레이블)를 확인한다.\n",
    "# labels_ 속성으로 클러스터링 결과를 확인할 수 있다.\n",
    "print(cluster.labels_)\n",
    "# fit_predict() 메소드에 피쳐 데이터를 넘겨서 클러스터링 결과를 확인할 수 있다.\n",
    "print(cluster.fit_predict(x_train))"
   ]
  },
  {
   "cell_type": "code",
   "execution_count": 6,
   "id": "0603bb77",
   "metadata": {},
   "outputs": [
    {
     "name": "stdout",
     "output_type": "stream",
     "text": [
      "[3 5 2 2 0 2 1 1 0 3 4 2 0 3 0 2 5 1 0 1 1 2 3 2 2 2 3 4 0 1 1 3 3 0 3 3 5\n",
      " 4 3 4 1 1 4 1 0 4 4 3 0 5 0 5 0 3 4 0 0 3 5 1 2 5 5 1 3 2 5 5 5 0 4 4 2 1\n",
      " 0 2 3 3 4 1 3 2 2 0 0 4 1 5 4 1 4 1 4 5 4 2 5 5 5 4]\n",
      "[3 5 2 2 0 2 1 1 0 3 4 2 0 3 0 2 5 1 0 1 1 2 3 2 2 2 3 4 0 1 1 3 3 0 3 3 5\n",
      " 4 3 4 1 1 4 1 0 4 4 3 0 5 0 5 0 3 4 0 0 3 5 1 2 5 5 1 3 2 5 5 5 0 4 4 2 1\n",
      " 0 2 3 3 4 1 3 2 2 0 0 4 1 5 4 1 4 1 4 5 4 2 5 5 5 4]\n"
     ]
    }
   ],
   "source": [
    "# n_clusters 속성값을 None이 아닌 값으로 지정하려면 distance_threshold 속성을 지정하지 않는다.\n",
    "cluster = AgglomerativeClustering(n_clusters=6, linkage='complete')\n",
    "cluster.fit(x_train)\n",
    "print(cluster.labels_)\n",
    "print(cluster.fit_predict(x_train))"
   ]
  },
  {
   "cell_type": "markdown",
   "id": "af4be3f4",
   "metadata": {},
   "source": [
    "병합 계층 클러스터링 알고리즘으로 클러스터링된 데이터 시각화"
   ]
  },
  {
   "cell_type": "code",
   "execution_count": 7,
   "id": "058461f1",
   "metadata": {},
   "outputs": [
    {
     "data": {
      "text/html": [
       "<div>\n",
       "<style scoped>\n",
       "    .dataframe tbody tr th:only-of-type {\n",
       "        vertical-align: middle;\n",
       "    }\n",
       "\n",
       "    .dataframe tbody tr th {\n",
       "        vertical-align: top;\n",
       "    }\n",
       "\n",
       "    .dataframe thead th {\n",
       "        text-align: right;\n",
       "    }\n",
       "</style>\n",
       "<table border=\"1\" class=\"dataframe\">\n",
       "  <thead>\n",
       "    <tr style=\"text-align: right;\">\n",
       "      <th></th>\n",
       "      <th>x</th>\n",
       "      <th>y</th>\n",
       "      <th>label</th>\n",
       "      <th>cluster</th>\n",
       "    </tr>\n",
       "  </thead>\n",
       "  <tbody>\n",
       "    <tr>\n",
       "      <th>0</th>\n",
       "      <td>-6.086784</td>\n",
       "      <td>4.729827</td>\n",
       "      <td>3</td>\n",
       "      <td>3</td>\n",
       "    </tr>\n",
       "    <tr>\n",
       "      <th>1</th>\n",
       "      <td>3.801750</td>\n",
       "      <td>4.278268</td>\n",
       "      <td>1</td>\n",
       "      <td>5</td>\n",
       "    </tr>\n",
       "    <tr>\n",
       "      <th>2</th>\n",
       "      <td>-7.330583</td>\n",
       "      <td>-8.494063</td>\n",
       "      <td>4</td>\n",
       "      <td>2</td>\n",
       "    </tr>\n",
       "    <tr>\n",
       "      <th>3</th>\n",
       "      <td>-6.107069</td>\n",
       "      <td>-7.818906</td>\n",
       "      <td>4</td>\n",
       "      <td>2</td>\n",
       "    </tr>\n",
       "    <tr>\n",
       "      <th>4</th>\n",
       "      <td>5.525562</td>\n",
       "      <td>-8.186965</td>\n",
       "      <td>0</td>\n",
       "      <td>0</td>\n",
       "    </tr>\n",
       "    <tr>\n",
       "      <th>...</th>\n",
       "      <td>...</td>\n",
       "      <td>...</td>\n",
       "      <td>...</td>\n",
       "      <td>...</td>\n",
       "    </tr>\n",
       "    <tr>\n",
       "      <th>95</th>\n",
       "      <td>-6.950884</td>\n",
       "      <td>-9.024594</td>\n",
       "      <td>4</td>\n",
       "      <td>2</td>\n",
       "    </tr>\n",
       "    <tr>\n",
       "      <th>96</th>\n",
       "      <td>2.591843</td>\n",
       "      <td>4.446782</td>\n",
       "      <td>1</td>\n",
       "      <td>5</td>\n",
       "    </tr>\n",
       "    <tr>\n",
       "      <th>97</th>\n",
       "      <td>2.992321</td>\n",
       "      <td>5.436981</td>\n",
       "      <td>1</td>\n",
       "      <td>5</td>\n",
       "    </tr>\n",
       "    <tr>\n",
       "      <th>98</th>\n",
       "      <td>2.310466</td>\n",
       "      <td>4.854172</td>\n",
       "      <td>1</td>\n",
       "      <td>5</td>\n",
       "    </tr>\n",
       "    <tr>\n",
       "      <th>99</th>\n",
       "      <td>3.316214</td>\n",
       "      <td>10.323041</td>\n",
       "      <td>5</td>\n",
       "      <td>4</td>\n",
       "    </tr>\n",
       "  </tbody>\n",
       "</table>\n",
       "<p>100 rows × 4 columns</p>\n",
       "</div>"
      ],
      "text/plain": [
       "           x          y  label  cluster\n",
       "0  -6.086784   4.729827      3        3\n",
       "1   3.801750   4.278268      1        5\n",
       "2  -7.330583  -8.494063      4        2\n",
       "3  -6.107069  -7.818906      4        2\n",
       "4   5.525562  -8.186965      0        0\n",
       "..       ...        ...    ...      ...\n",
       "95 -6.950884  -9.024594      4        2\n",
       "96  2.591843   4.446782      1        5\n",
       "97  2.992321   5.436981      1        5\n",
       "98  2.310466   4.854172      1        5\n",
       "99  3.316214  10.323041      5        4\n",
       "\n",
       "[100 rows x 4 columns]"
      ]
     },
     "execution_count": 7,
     "metadata": {},
     "output_type": "execute_result"
    }
   ],
   "source": [
    "# 클러스터링된 데이터 시각화를 위해 데이터프레임을 만든다.\n",
    "x_train_df = pd.DataFrame(x_train, columns=['x', 'y'])\n",
    "x_train_df['label'] = y_train\n",
    "x_train_df['cluster'] = cluster.labels_ # 데이터프레임에 클러스터링된 레이블을 넣어준다.\n",
    "x_train_df"
   ]
  },
  {
   "cell_type": "code",
   "execution_count": 8,
   "id": "c71a62da",
   "metadata": {},
   "outputs": [
    {
     "name": "stdout",
     "output_type": "stream",
     "text": [
      "{0, 1, 2, 3, 4, 5} {0, 1, 2, 3, 4, 5}\n"
     ]
    }
   ],
   "source": [
    "# 레이블과 클러스터링된 레이블의 종류 확인\n",
    "print(set(x_train_df.label), set(x_train_df.cluster))"
   ]
  },
  {
   "cell_type": "markdown",
   "id": "79de420f",
   "metadata": {},
   "source": [
    "실제 데이터 레이블 시각화"
   ]
  },
  {
   "cell_type": "code",
   "execution_count": 9,
   "id": "f53fd169",
   "metadata": {},
   "outputs": [
    {
     "data": {
      "image/png": "[encoded data removed]",
      "text/plain": [
       "<Figure size 800x600 with 1 Axes>"
      ]
     },
     "metadata": {},
     "output_type": "display_data"
    }
   ],
   "source": [
    "plt.figure(figsize=(8, 6))\n",
    "markers = ['o', '*', '^', 'x', 's', 'v']\n",
    "\n",
    "for i in set(x_train_df.label):\n",
    "    df_index = x_train_df[x_train_df.label == i] # 데이터의 레이블 별로 데이터를 분할한다.\n",
    "    x = df_index.x # 학습 데이터의 첫 번째 성분 벡터를 추출한다.\n",
    "    y = df_index.y # 학습 데이터의 두 번째 성분 벡터를 추출한다.\n",
    "    plt.scatter(x=x, y=y, marker=markers[i], label=i) # 산포도를 그린다.\n",
    "\n",
    "plt.title('레이블 시각화')\n",
    "plt.xlabel('x')\n",
    "plt.ylabel('y')\n",
    "plt.legend()\n",
    "plt.show()"
   ]
  },
  {
   "cell_type": "markdown",
   "id": "9da222c3",
   "metadata": {},
   "source": [
    "병합 계층 클러스터링 결과 시각화"
   ]
  },
  {
   "cell_type": "code",
   "execution_count": 10,
   "id": "0a576666",
   "metadata": {},
   "outputs": [
    {
     "data": {
      "image/png": "[encoded data removed]",
      "text/plain": [
       "<Figure size 800x600 with 1 Axes>"
      ]
     },
     "metadata": {},
     "output_type": "display_data"
    }
   ],
   "source": [
    "plt.figure(figsize=(8, 6))\n",
    "markers = ['o', '*', '^', 'x', 's', 'v']\n",
    "\n",
    "for i in set(x_train_df.cluster):\n",
    "    df_index = x_train_df[x_train_df.cluster == i] # 클러스터링 결과 별로 데이터를 분할한다.\n",
    "    x = df_index.x # 학습 데이터의 첫 번째 성분 벡터를 추출한다.\n",
    "    y = df_index.y # 학습 데이터의 두 번째 성분 벡터를 추출한다.\n",
    "    plt.scatter(x=x, y=y, marker=markers[i], label=i) # 산포도를 그린다.\n",
    "\n",
    "plt.title('병합 계층 클러스터링 결과 시각화')\n",
    "plt.xlabel('x')\n",
    "plt.ylabel('y')\n",
    "plt.legend()\n",
    "plt.show()"
   ]
  },
  {
   "cell_type": "markdown",
   "id": "c9977a24",
   "metadata": {},
   "source": [
    "학습된 모델을 평가한다."
   ]
  },
  {
   "cell_type": "code",
   "execution_count": 11,
   "id": "0ce65f8f",
   "metadata": {},
   "outputs": [
    {
     "name": "stdout",
     "output_type": "stream",
     "text": [
      "0.7000819727948289\n"
     ]
    }
   ],
   "source": [
    "# silhouette_score() 메소드에 피쳐 데이터와 군집화 결과로 얻은 클러스터를 넘겨 실루엣 스코어를 평가한다.\n",
    "sil_score = silhouette_score(x_train, cluster.labels_)\n",
    "print(sil_score)"
   ]
  },
  {
   "cell_type": "markdown",
   "id": "63f0419c",
   "metadata": {},
   "source": [
    "덴드로그램(Dendrogram) 시각화\n",
    "\n",
    "계층적 클러스터링 결과를 트리 구조로 나타낸 그림을 덴드로그램이라 한다."
   ]
  },
  {
   "cell_type": "code",
   "execution_count": 12,
   "id": "fcc1a972",
   "metadata": {},
   "outputs": [
    {
     "name": "stdout",
     "output_type": "stream",
     "text": [
      "(20, 2) (20,)\n",
      "[19 17 15 14 13 11 18 16  9 10  7 12  6  5  8  3  4  1  2  0]\n"
     ]
    }
   ],
   "source": [
    "x_train, y_train = datasets.make_blobs(n_samples=20, n_features=2, random_state=10)\n",
    "print(x_train.shape, y_train.shape)\n",
    "cluster = AgglomerativeClustering(n_clusters=None, distance_threshold=0, linkage='complete')\n",
    "cluster.fit(x_train)\n",
    "print(cluster.labels_)"
   ]
  },
  {
   "cell_type": "code",
   "execution_count": 13,
   "id": "cba8f6f8",
   "metadata": {},
   "outputs": [
    {
     "data": {
      "image/png": "[encoded data removed]",
      "text/plain": [
       "<Figure size 800x600 with 1 Axes>"
      ]
     },
     "metadata": {},
     "output_type": "display_data"
    }
   ],
   "source": [
    "from scipy.cluster.hierarchy import dendrogram, linkage\n",
    "\n",
    "plt.figure(figsize=(8, 6))\n",
    "linked = linkage(x_train, 'complete')\n",
    "dendrogram(linked, orientation='top', labels=cluster.labels_)\n",
    "plt.show()"
   ]
  },
  {
   "cell_type": "code",
   "execution_count": null,
   "id": "45b5b180",
   "metadata": {},
   "outputs": [],
   "source": []
  },
  {
   "cell_type": "code",
   "execution_count": null,
   "id": "0a00a5fe",
   "metadata": {},
   "outputs": [],
   "source": []
  }
 ],
 "metadata": {
  "kernelspec": {
   "display_name": "python37",
   "language": "python",
   "name": "python37"
  },
  "language_info": {
   "codemirror_mode": {
    "name": "ipython",
    "version": 3
   },
   "file_extension": ".py",
   "mimetype": "text/x-python",
   "name": "python",
   "nbconvert_exporter": "python",
   "pygments_lexer": "ipython3",
   "version": "3.7.1"
  }
 },
 "nbformat": 4,
 "nbformat_minor": 5
}
