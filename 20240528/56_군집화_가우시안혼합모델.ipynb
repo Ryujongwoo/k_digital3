{
 "cells": [
  {
   "cell_type": "code",
   "execution_count": 1,
   "id": "40e49a09",
   "metadata": {},
   "outputs": [],
   "source": [
    "import warnings\n",
    "warnings.filterwarnings(action='ignore')\n",
    "%config Completer.use_jedi = False\n",
    "import numpy as np\n",
    "import pandas as pd\n",
    "import matplotlib.pyplot as plt\n",
    "import matplotlib as mpl\n",
    "mpl.rcParams['axes.unicode_minus'] = False\n",
    "plt.rcParams['font.family'] = 'NanumGothicCoding'\n",
    "plt.rcParams['font.size'] = 10\n",
    "import seaborn as sns\n",
    "\n",
    "from sklearn import datasets\n",
    "from sklearn.model_selection import train_test_split\n",
    "from sklearn.preprocessing import StandardScaler\n",
    "from sklearn.metrics import accuracy_score\n",
    "from sklearn.metrics import precision_score\n",
    "from sklearn.metrics import recall_score\n",
    "from sklearn.metrics import f1_score\n",
    "from sklearn.metrics import confusion_matrix\n",
    "from sklearn.metrics import classification_report\n",
    "from sklearn.metrics import mean_absolute_error\n",
    "from sklearn.metrics import mean_squared_error\n",
    "from sklearn.metrics import r2_score\n",
    "from sklearn.metrics import silhouette_score"
   ]
  },
  {
   "cell_type": "markdown",
   "id": "13f883a6",
   "metadata": {},
   "source": [
    "가우시안 혼합 모델(Gaussian Minture Model)\n",
    "\n",
    "전체 집단 내부에 속한 하위 집단의 존재를 가정한 확률 모델이다.  \n",
    "전체 집단의 확률 분포가 가우시안 분포를 따르는 경우 흔히 정규 분포를 가우시안 분포라 부른다. 또한 가우시한 혼합 모델은 비지도 학습의 한 종류로 클러스터링에 사용된다.\n",
    "\n",
    "가우시안 혼합 클러스터링 알고리즘을 활용해서 주어진 데이터를 클러스터링 해본다.\n",
    "\n",
    "데이터 불러오기"
   ]
  },
  {
   "cell_type": "code",
   "execution_count": 2,
   "id": "ce66e70a",
   "metadata": {},
   "outputs": [
    {
     "name": "stdout",
     "output_type": "stream",
     "text": [
      "(100, 2) (100,)\n"
     ]
    }
   ],
   "source": [
    "# 클러스터링용 가상 데이터를 불러온다.\n",
    "x_train, y_train = datasets.make_blobs(n_samples=100, n_features=2, random_state=10, centers=6)\n",
    "print(x_train.shape, y_train.shape)"
   ]
  },
  {
   "cell_type": "markdown",
   "id": "b64c5dd7",
   "metadata": {},
   "source": [
    "클러스터링 되지 않은 데이터 시각화"
   ]
  },
  {
   "cell_type": "code",
   "execution_count": 3,
   "id": "bd9eaaac",
   "metadata": {},
   "outputs": [
    {
     "data": {
      "image/png": "[encoded data removed]",
      "text/plain": [
       "<Figure size 800x600 with 1 Axes>"
      ]
     },
     "metadata": {},
     "output_type": "display_data"
    }
   ],
   "source": [
    "plt.figure(figsize=[8, 6])\n",
    "plt.scatter(x_train[:, 0], x_train[:, 1], c='gray', edgecolors='black', marker='o')\n",
    "plt.show()"
   ]
  },
  {
   "cell_type": "markdown",
   "id": "5ad96d80",
   "metadata": {},
   "source": [
    "가우시안 혼합 클러스터링 모델 생성 후 데이터 학습"
   ]
  },
  {
   "cell_type": "code",
   "execution_count": 4,
   "id": "c96d369c",
   "metadata": {},
   "outputs": [
    {
     "data": {
      "text/plain": [
       "GaussianMixture(n_components=6, random_state=0)"
      ]
     },
     "execution_count": 4,
     "metadata": {},
     "output_type": "execute_result"
    }
   ],
   "source": [
    "from sklearn.mixture import GaussianMixture # 가우시안 혼합 클러스터링 알고리즘을 사용하기 위해 import 한다.\n",
    "# n_components 속성에 클러스터링 개수를 지정해서 가우시안 혼합 클러스터링 모델을 만든다. 기본값은 1이다.\n",
    "cluster = GaussianMixture(n_components=6, random_state=0)\n",
    "# 학습 데이터로 병합 계층 클러스터링 모델을 학습시킨다.\n",
    "cluster.fit(x_train)"
   ]
  },
  {
   "cell_type": "code",
   "execution_count": 5,
   "id": "afa242b2",
   "metadata": {},
   "outputs": [
    {
     "name": "stdout",
     "output_type": "stream",
     "text": [
      "[4 1 2 2 0 2 3 3 0 4 5 2 0 4 0 2 1 3 0 3 3 2 4 2 2 2 4 5 0 3 3 4 4 0 4 4 1\n",
      " 5 4 5 3 3 5 3 0 5 5 4 0 1 0 1 0 4 5 0 0 4 1 3 2 1 1 3 4 2 1 1 1 0 5 5 2 3\n",
      " 0 2 4 4 5 3 4 2 2 0 0 5 3 1 5 3 5 3 5 1 5 2 1 1 1 5]\n"
     ]
    }
   ],
   "source": [
    "# 클러스터링 결과(레이블)를 확인한다.\n",
    "# fit_predict() 메소드에 피쳐 데이터를 넘겨서 클러스터링 결과를 확인할 수 있다.\n",
    "print(cluster.fit_predict(x_train))"
   ]
  },
  {
   "cell_type": "markdown",
   "id": "526e549a",
   "metadata": {},
   "source": [
    "가우시안 혼합 클러스터링 알고리즘으로 클러스터링된 데이터 시각화"
   ]
  },
  {
   "cell_type": "code",
   "execution_count": 6,
   "id": "5b0d4c26",
   "metadata": {},
   "outputs": [
    {
     "data": {
      "text/html": [
       "<div>\n",
       "<style scoped>\n",
       "    .dataframe tbody tr th:only-of-type {\n",
       "        vertical-align: middle;\n",
       "    }\n",
       "\n",
       "    .dataframe tbody tr th {\n",
       "        vertical-align: top;\n",
       "    }\n",
       "\n",
       "    .dataframe thead th {\n",
       "        text-align: right;\n",
       "    }\n",
       "</style>\n",
       "<table border=\"1\" class=\"dataframe\">\n",
       "  <thead>\n",
       "    <tr style=\"text-align: right;\">\n",
       "      <th></th>\n",
       "      <th>x</th>\n",
       "      <th>y</th>\n",
       "      <th>label</th>\n",
       "      <th>cluster</th>\n",
       "    </tr>\n",
       "  </thead>\n",
       "  <tbody>\n",
       "    <tr>\n",
       "      <th>0</th>\n",
       "      <td>-6.086784</td>\n",
       "      <td>4.729827</td>\n",
       "      <td>3</td>\n",
       "      <td>4</td>\n",
       "    </tr>\n",
       "    <tr>\n",
       "      <th>1</th>\n",
       "      <td>3.801750</td>\n",
       "      <td>4.278268</td>\n",
       "      <td>1</td>\n",
       "      <td>1</td>\n",
       "    </tr>\n",
       "    <tr>\n",
       "      <th>2</th>\n",
       "      <td>-7.330583</td>\n",
       "      <td>-8.494063</td>\n",
       "      <td>4</td>\n",
       "      <td>2</td>\n",
       "    </tr>\n",
       "    <tr>\n",
       "      <th>3</th>\n",
       "      <td>-6.107069</td>\n",
       "      <td>-7.818906</td>\n",
       "      <td>4</td>\n",
       "      <td>2</td>\n",
       "    </tr>\n",
       "    <tr>\n",
       "      <th>4</th>\n",
       "      <td>5.525562</td>\n",
       "      <td>-8.186965</td>\n",
       "      <td>0</td>\n",
       "      <td>0</td>\n",
       "    </tr>\n",
       "    <tr>\n",
       "      <th>...</th>\n",
       "      <td>...</td>\n",
       "      <td>...</td>\n",
       "      <td>...</td>\n",
       "      <td>...</td>\n",
       "    </tr>\n",
       "    <tr>\n",
       "      <th>95</th>\n",
       "      <td>-6.950884</td>\n",
       "      <td>-9.024594</td>\n",
       "      <td>4</td>\n",
       "      <td>2</td>\n",
       "    </tr>\n",
       "    <tr>\n",
       "      <th>96</th>\n",
       "      <td>2.591843</td>\n",
       "      <td>4.446782</td>\n",
       "      <td>1</td>\n",
       "      <td>1</td>\n",
       "    </tr>\n",
       "    <tr>\n",
       "      <th>97</th>\n",
       "      <td>2.992321</td>\n",
       "      <td>5.436981</td>\n",
       "      <td>1</td>\n",
       "      <td>1</td>\n",
       "    </tr>\n",
       "    <tr>\n",
       "      <th>98</th>\n",
       "      <td>2.310466</td>\n",
       "      <td>4.854172</td>\n",
       "      <td>1</td>\n",
       "      <td>1</td>\n",
       "    </tr>\n",
       "    <tr>\n",
       "      <th>99</th>\n",
       "      <td>3.316214</td>\n",
       "      <td>10.323041</td>\n",
       "      <td>5</td>\n",
       "      <td>5</td>\n",
       "    </tr>\n",
       "  </tbody>\n",
       "</table>\n",
       "<p>100 rows × 4 columns</p>\n",
       "</div>"
      ],
      "text/plain": [
       "           x          y  label  cluster\n",
       "0  -6.086784   4.729827      3        4\n",
       "1   3.801750   4.278268      1        1\n",
       "2  -7.330583  -8.494063      4        2\n",
       "3  -6.107069  -7.818906      4        2\n",
       "4   5.525562  -8.186965      0        0\n",
       "..       ...        ...    ...      ...\n",
       "95 -6.950884  -9.024594      4        2\n",
       "96  2.591843   4.446782      1        1\n",
       "97  2.992321   5.436981      1        1\n",
       "98  2.310466   4.854172      1        1\n",
       "99  3.316214  10.323041      5        5\n",
       "\n",
       "[100 rows x 4 columns]"
      ]
     },
     "execution_count": 6,
     "metadata": {},
     "output_type": "execute_result"
    }
   ],
   "source": [
    "# 클러스터링된 데이터 시각화를 위해 데이터프레임을 만든다.\n",
    "x_train_df = pd.DataFrame(x_train, columns=['x', 'y'])\n",
    "x_train_df['label'] = y_train\n",
    "x_train_df['cluster'] = cluster.fit_predict(x_train) # 데이터프레임에 클러스터링된 레이블을 넣어준다.\n",
    "x_train_df"
   ]
  },
  {
   "cell_type": "code",
   "execution_count": 7,
   "id": "cbebd4e5",
   "metadata": {},
   "outputs": [
    {
     "name": "stdout",
     "output_type": "stream",
     "text": [
      "{0, 1, 2, 3, 4, 5} {0, 1, 2, 3, 4, 5}\n"
     ]
    }
   ],
   "source": [
    "# 레이블과 클러스터링된 레이블의 종류 확인\n",
    "print(set(x_train_df.label), set(x_train_df.cluster))"
   ]
  },
  {
   "cell_type": "markdown",
   "id": "0c4ba36b",
   "metadata": {},
   "source": [
    "실제 데이터 레이블 시각화"
   ]
  },
  {
   "cell_type": "code",
   "execution_count": 8,
   "id": "2cf0643a",
   "metadata": {},
   "outputs": [
    {
     "data": {
      "image/png": "[encoded data removed]",
      "text/plain": [
       "<Figure size 800x600 with 1 Axes>"
      ]
     },
     "metadata": {},
     "output_type": "display_data"
    }
   ],
   "source": [
    "plt.figure(figsize=(8, 6))\n",
    "markers = ['o', '*', '^', 'x', 's', 'v']\n",
    "\n",
    "for i in set(x_train_df.label):\n",
    "    df_index = x_train_df[x_train_df.label == i] # 데이터의 레이블 별로 데이터를 분할한다.\n",
    "    x = df_index.x # 학습 데이터의 첫 번째 성분 벡터를 추출한다.\n",
    "    y = df_index.y # 학습 데이터의 두 번째 성분 벡터를 추출한다.\n",
    "    plt.scatter(x=x, y=y, marker=markers[i], label=i) # 산포도를 그린다.\n",
    "\n",
    "plt.title('레이블 시각화')\n",
    "plt.xlabel('x')\n",
    "plt.ylabel('y')\n",
    "plt.legend()\n",
    "plt.show()"
   ]
  },
  {
   "cell_type": "markdown",
   "id": "2ea20446",
   "metadata": {},
   "source": [
    "가우시안 혼합 클러스터링 결과 시각화"
   ]
  },
  {
   "cell_type": "code",
   "execution_count": 9,
   "id": "eb11a665",
   "metadata": {},
   "outputs": [
    {
     "data": {
      "image/png": "[encoded data removed]",
      "text/plain": [
       "<Figure size 800x600 with 1 Axes>"
      ]
     },
     "metadata": {},
     "output_type": "display_data"
    }
   ],
   "source": [
    "plt.figure(figsize=(8, 6))\n",
    "markers = ['o', '*', '^', 'x', 's', 'v']\n",
    "\n",
    "for i in set(x_train_df.cluster):\n",
    "    df_index = x_train_df[x_train_df.cluster == i] # 클러스터링 결과 별로 데이터를 분할한다.\n",
    "    x = df_index.x # 학습 데이터의 첫 번째 성분 벡터를 추출한다.\n",
    "    y = df_index.y # 학습 데이터의 두 번째 성분 벡터를 추출한다.\n",
    "    plt.scatter(x=x, y=y, marker=markers[i], label=i) # 산포도를 그린다.\n",
    "\n",
    "plt.title('가우시안 혼합 클러스터링 결과 시각화')\n",
    "plt.xlabel('x')\n",
    "plt.ylabel('y')\n",
    "plt.legend()\n",
    "plt.show()"
   ]
  },
  {
   "cell_type": "markdown",
   "id": "6b4f6301",
   "metadata": {},
   "source": [
    "학습된 모델을 평가한다."
   ]
  },
  {
   "cell_type": "code",
   "execution_count": 10,
   "id": "991314f8",
   "metadata": {},
   "outputs": [
    {
     "name": "stdout",
     "output_type": "stream",
     "text": [
      "0.7000819727948289\n"
     ]
    }
   ],
   "source": [
    "# silhouette_score() 메소드에 피쳐 데이터와 군집화 결과로 얻은 클러스터를 넘겨 실루엣 스코어를 평가한다.\n",
    "sil_score = silhouette_score(x_train, cluster.fit_predict(x_train))\n",
    "print(sil_score)"
   ]
  },
  {
   "cell_type": "code",
   "execution_count": null,
   "id": "426b1edc",
   "metadata": {},
   "outputs": [],
   "source": []
  },
  {
   "cell_type": "code",
   "execution_count": null,
   "id": "8f476214",
   "metadata": {},
   "outputs": [],
   "source": []
  }
 ],
 "metadata": {
  "kernelspec": {
   "display_name": "python37",
   "language": "python",
   "name": "python37"
  },
  "language_info": {
   "codemirror_mode": {
    "name": "ipython",
    "version": 3
   },
   "file_extension": ".py",
   "mimetype": "text/x-python",
   "name": "python",
   "nbconvert_exporter": "python",
   "pygments_lexer": "ipython3",
   "version": "3.7.1"
  }
 },
 "nbformat": 4,
 "nbformat_minor": 5
}
