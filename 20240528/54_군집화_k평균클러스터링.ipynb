{
 "cells": [
  {
   "cell_type": "code",
   "execution_count": 1,
   "id": "a5d3e9cb",
   "metadata": {},
   "outputs": [],
   "source": [
    "import warnings\n",
    "warnings.filterwarnings(action='ignore')\n",
    "%config Completer.use_jedi = False\n",
    "import numpy as np\n",
    "import pandas as pd\n",
    "import matplotlib.pyplot as plt\n",
    "import matplotlib as mpl\n",
    "mpl.rcParams['axes.unicode_minus'] = False\n",
    "plt.rcParams['font.family'] = 'NanumGothicCoding'\n",
    "plt.rcParams['font.size'] = 10\n",
    "import seaborn as sns\n",
    "\n",
    "from sklearn import datasets\n",
    "from sklearn.model_selection import train_test_split\n",
    "from sklearn.preprocessing import StandardScaler\n",
    "# 분류 문제 성능 평가 라이브러리\n",
    "from sklearn.metrics import accuracy_score\n",
    "from sklearn.metrics import precision_score\n",
    "from sklearn.metrics import recall_score\n",
    "from sklearn.metrics import f1_score\n",
    "from sklearn.metrics import confusion_matrix\n",
    "from sklearn.metrics import classification_report\n",
    "# 회귀 문제 성능 평가 라이브러리\n",
    "from sklearn.metrics import mean_absolute_error\n",
    "from sklearn.metrics import mean_squared_error\n",
    "from sklearn.metrics import r2_score\n",
    "# 군집 문제 성능 평가 라이브러리\n",
    "from sklearn.metrics import silhouette_score"
   ]
  },
  {
   "cell_type": "markdown",
   "id": "deff1cfe",
   "metadata": {},
   "source": [
    "지도 학습(Supervised Learning)에서는 라벨링된 데이터를 이용해서 모델을 생성한다. 주어진 데이터 셋에 라벨링이 되어있다면 학습 및 분류를 시키기 좋지만 실제 데이터를 다루다 보면 라벨링이 되어있지 않은 경우도 많이 접한다. 비지도 학습(Unsupervised Learning)은 라벨링이 되어있지 않은 데이터를 이용하는 학습 방법이다.\n",
    "\n",
    "비지도 학습에 사용하는 데이터는 라벨링이 되어있지 않으므로 레이블 없이 피쳐 데이터만 활용해서 데이터를 학습시킨다. 지도 학습에서는 데이터를 분류하는 것을 Classification라고 했지만, 비지도 학습에서는 데이터를 분류하는 것을 Clustering이라고 한다.\n",
    "\n",
    "k평균 클러스터링(KMeans Clustering)\n",
    "\n",
    "k평균 클러스터링은 n개의 데이터를 k개의 클러스터로 나누는 클러스터링 기법이다. k평균 클러스터링은 각 데이터 포인트와 각 그룹의 평균(중심)간의 거리를 구한 후 가장 가까운 클러스터로 배정하는 방법이다.\n",
    "\n",
    "k평균 클러스터링에서는 거리라는 개념이 사용되고 여기서는 유클리드 거리(Euclidean Distance)를 사용한다. 데이터 포인트 x와 데이터 포인트 y 사이의 유클리드 거리는 아래와 같은 공식을 사용한다.\n",
    "\n",
    "$$d(x, y) = \\sqrt{\\sum_{i=1}^n (x_i - y_i)^2}$$\n",
    "\n",
    "k평균 클러스터링 알고리즘  \n",
    "① 그룹 평균 초기화: k평균 클러스터링 알고리즘의 첫 과정은 각 그룹의 평균을 초기화하는 것인데, 이때 사용하는 가장 기본적인 방법은 랜덤으로 평균을 설정하는 것이다.  \n",
    "② 그룹 할당: 각 데이터 포인트와 가장 가까운 그룹 평균에 해당되는 그룹에 할당한다. 즉, 각 데이터 포인트와 각 그룹의 평균까지의 거리를 계산해서 가장 가까운 그룹으로 속하게 만드는 것이다.  \n",
    "③ 평균 업데이트: 위 ② 단계를 거치면 모든 데이터 포인트가 어떤 그룹에 속하는지 알 수 있다. 그 후 각 그룹에 대한 새로운 평균값을 구한다.  \n",
    "④ 반복: ② 단계에서 바뀌는 값이 없을 때 까지 ② ~ ③ 단계를 반복한다.\n",
    "\n",
    "k평균 클러스터링은 사용하기 쉽다는 장점이 있지만 k평균 클러스터링에서는 가중를 주지않아 클러스터간 데이터의 밀도 차이가 있을 경우 클러스터링이 잘되지 않는 단점이 있다. 그리고 k평균 클러스터링은 모양을 고려하지 않으며, 초기 k값을 사용자가 정해야 한다는 단점이 존재한다.\n",
    "\n",
    "k평균 클러스터링 알고리즘을 활용해서 주어진 데이터를 클러스터링 해본다.\n",
    "\n",
    "데이터 불러오기"
   ]
  },
  {
   "cell_type": "code",
   "execution_count": 2,
   "id": "5a091ca3",
   "metadata": {},
   "outputs": [
    {
     "name": "stdout",
     "output_type": "stream",
     "text": [
      "(100, 2) (100,)\n",
      "[-6.08678403  4.7298269 ] 3\n",
      "[3.80174985 4.27826762] 1\n",
      "[-7.33058271 -8.4940632 ] 4\n",
      "[-6.10706886 -7.81890608] 4\n",
      "[ 5.52556208 -8.18696464] 0\n"
     ]
    }
   ],
   "source": [
    "# make_blobs() 메소드로 사이킷런이 제공하는 모든 방향을 같은 성질을 가지는 등방성 가우시안 정규 분포를\n",
    "# 따르는 데이터를 랜덤으로 불러온다.\n",
    "# n_samples 속성의 기본값은 100이고 랜덤으로 불러올 데이터의 개수를 지정한다.\n",
    "# n_features 속성의 기본값은 2이고 데이터당 피쳐의 개수를 지정한다.\n",
    "# random_state 속성값을 지정하면 매번 같은 배열의 데이터를 불러온다.\n",
    "# centers 속성의 기본값은 3이고 클러스터의 개수를 설정해서 클러스터링용 가상 데이터를 만든다.\n",
    "x_train, y_train = datasets.make_blobs(n_samples=100, n_features=2, random_state=10, centers=6)\n",
    "print(x_train.shape, y_train.shape)\n",
    "for i in range(len(x_train))[:5]:\n",
    "    print(x_train[i], y_train[i])"
   ]
  },
  {
   "cell_type": "markdown",
   "id": "af354b8c",
   "metadata": {},
   "source": [
    "클러스터링 되지 않은 데이터 시각화"
   ]
  },
  {
   "cell_type": "code",
   "execution_count": 3,
   "id": "147997b8",
   "metadata": {},
   "outputs": [
    {
     "data": {
      "image/png": "[encoded data removed]",
      "text/plain": [
       "<Figure size 800x600 with 1 Axes>"
      ]
     },
     "metadata": {},
     "output_type": "display_data"
    }
   ],
   "source": [
    "plt.figure(figsize=[8, 6])\n",
    "plt.scatter(x_train[:, 0], x_train[:, 1], c='gray', edgecolors='black', marker='o')\n",
    "plt.show()"
   ]
  },
  {
   "cell_type": "markdown",
   "id": "4dbd70d2",
   "metadata": {},
   "source": [
    "k평균 클러스터링 모델 생성 후 데이터 학습"
   ]
  },
  {
   "cell_type": "code",
   "execution_count": 4,
   "id": "5f2df43e",
   "metadata": {},
   "outputs": [
    {
     "data": {
      "text/plain": [
       "KMeans(init='random', max_iter=100, n_clusters=6, random_state=0)"
      ]
     },
     "execution_count": 4,
     "metadata": {},
     "output_type": "execute_result"
    }
   ],
   "source": [
    "from sklearn.cluster import KMeans # k평균 클러스터링 알고리즘을 사용하기 위해 import 한다.\n",
    "# n_clusters 속성에 클러스터링 개수를 지정해서 k평균 클러스터링 모델을 만든다. 기본값은 8이다.\n",
    "# init 속성은 첫 번째 중심값을 선정하는 방법을 지정한다. 기본값은 'k-means++'이다.\n",
    "# 'k-means++'은 샘플링 단계에서 여러 번 시도하고 그 중에서 가장 좋은 중심을 선택하고 'random'은\n",
    "# 랜덤하게 중심을 선택한다.\n",
    "# max_iter 속성은 클러스터링을 실행하는 최대 반복 횟수를 지정한다. 기본 300이다.\n",
    "cluster = KMeans(n_clusters=6, init='random', max_iter=100, random_state=0)\n",
    "# 학습 데이터로 k평균 클러스터링 모델을 학습시킨다.\n",
    "cluster.fit(x_train)"
   ]
  },
  {
   "cell_type": "code",
   "execution_count": 5,
   "id": "1ae1b0ed",
   "metadata": {},
   "outputs": [
    {
     "name": "stdout",
     "output_type": "stream",
     "text": [
      "[2 5 4 4 0 4 1 1 0 2 3 4 0 2 0 4 5 1 0 1 1 4 2 4 4 4 2 3 0 1 1 2 2 0 2 2 5\n",
      " 5 2 3 1 1 3 1 0 3 3 2 0 5 0 5 0 2 3 0 0 2 5 1 4 5 5 1 2 4 5 5 5 0 3 3 4 1\n",
      " 0 4 2 2 3 1 2 4 4 0 0 3 1 5 3 1 3 1 3 5 3 4 5 5 5 3]\n",
      "[2 5 4 4 0 4 1 1 0 2 3 4 0 2 0 4 5 1 0 1 1 4 2 4 4 4 2 3 0 1 1 2 2 0 2 2 5\n",
      " 5 2 3 1 1 3 1 0 3 3 2 0 5 0 5 0 2 3 0 0 2 5 1 4 5 5 1 2 4 5 5 5 0 3 3 4 1\n",
      " 0 4 2 2 3 1 2 4 4 0 0 3 1 5 3 1 3 1 3 5 3 4 5 5 5 3]\n"
     ]
    }
   ],
   "source": [
    "# 클러스터링 결과(레이블)를 확인한다.\n",
    "# labels_ 속성으로 클러스터링 결과를 확인할 수 있다.\n",
    "print(cluster.labels_)\n",
    "# predict() 메소드에 피쳐 데이터를 넘겨서 클러스터링 결과를 확인할 수 있다.\n",
    "print(cluster.predict(x_train))"
   ]
  },
  {
   "cell_type": "markdown",
   "id": "2b617b43",
   "metadata": {},
   "source": [
    "k평균 클러스터링 알고리즘으로 클러스터링된 데이터 시각화"
   ]
  },
  {
   "cell_type": "code",
   "execution_count": 6,
   "id": "aae3acda",
   "metadata": {},
   "outputs": [
    {
     "data": {
      "text/html": [
       "<div>\n",
       "<style scoped>\n",
       "    .dataframe tbody tr th:only-of-type {\n",
       "        vertical-align: middle;\n",
       "    }\n",
       "\n",
       "    .dataframe tbody tr th {\n",
       "        vertical-align: top;\n",
       "    }\n",
       "\n",
       "    .dataframe thead th {\n",
       "        text-align: right;\n",
       "    }\n",
       "</style>\n",
       "<table border=\"1\" class=\"dataframe\">\n",
       "  <thead>\n",
       "    <tr style=\"text-align: right;\">\n",
       "      <th></th>\n",
       "      <th>x</th>\n",
       "      <th>y</th>\n",
       "      <th>label</th>\n",
       "      <th>cluster</th>\n",
       "    </tr>\n",
       "  </thead>\n",
       "  <tbody>\n",
       "    <tr>\n",
       "      <th>0</th>\n",
       "      <td>-6.086784</td>\n",
       "      <td>4.729827</td>\n",
       "      <td>3</td>\n",
       "      <td>2</td>\n",
       "    </tr>\n",
       "    <tr>\n",
       "      <th>1</th>\n",
       "      <td>3.801750</td>\n",
       "      <td>4.278268</td>\n",
       "      <td>1</td>\n",
       "      <td>5</td>\n",
       "    </tr>\n",
       "    <tr>\n",
       "      <th>2</th>\n",
       "      <td>-7.330583</td>\n",
       "      <td>-8.494063</td>\n",
       "      <td>4</td>\n",
       "      <td>4</td>\n",
       "    </tr>\n",
       "    <tr>\n",
       "      <th>3</th>\n",
       "      <td>-6.107069</td>\n",
       "      <td>-7.818906</td>\n",
       "      <td>4</td>\n",
       "      <td>4</td>\n",
       "    </tr>\n",
       "    <tr>\n",
       "      <th>4</th>\n",
       "      <td>5.525562</td>\n",
       "      <td>-8.186965</td>\n",
       "      <td>0</td>\n",
       "      <td>0</td>\n",
       "    </tr>\n",
       "    <tr>\n",
       "      <th>...</th>\n",
       "      <td>...</td>\n",
       "      <td>...</td>\n",
       "      <td>...</td>\n",
       "      <td>...</td>\n",
       "    </tr>\n",
       "    <tr>\n",
       "      <th>95</th>\n",
       "      <td>-6.950884</td>\n",
       "      <td>-9.024594</td>\n",
       "      <td>4</td>\n",
       "      <td>4</td>\n",
       "    </tr>\n",
       "    <tr>\n",
       "      <th>96</th>\n",
       "      <td>2.591843</td>\n",
       "      <td>4.446782</td>\n",
       "      <td>1</td>\n",
       "      <td>5</td>\n",
       "    </tr>\n",
       "    <tr>\n",
       "      <th>97</th>\n",
       "      <td>2.992321</td>\n",
       "      <td>5.436981</td>\n",
       "      <td>1</td>\n",
       "      <td>5</td>\n",
       "    </tr>\n",
       "    <tr>\n",
       "      <th>98</th>\n",
       "      <td>2.310466</td>\n",
       "      <td>4.854172</td>\n",
       "      <td>1</td>\n",
       "      <td>5</td>\n",
       "    </tr>\n",
       "    <tr>\n",
       "      <th>99</th>\n",
       "      <td>3.316214</td>\n",
       "      <td>10.323041</td>\n",
       "      <td>5</td>\n",
       "      <td>3</td>\n",
       "    </tr>\n",
       "  </tbody>\n",
       "</table>\n",
       "<p>100 rows × 4 columns</p>\n",
       "</div>"
      ],
      "text/plain": [
       "           x          y  label  cluster\n",
       "0  -6.086784   4.729827      3        2\n",
       "1   3.801750   4.278268      1        5\n",
       "2  -7.330583  -8.494063      4        4\n",
       "3  -6.107069  -7.818906      4        4\n",
       "4   5.525562  -8.186965      0        0\n",
       "..       ...        ...    ...      ...\n",
       "95 -6.950884  -9.024594      4        4\n",
       "96  2.591843   4.446782      1        5\n",
       "97  2.992321   5.436981      1        5\n",
       "98  2.310466   4.854172      1        5\n",
       "99  3.316214  10.323041      5        3\n",
       "\n",
       "[100 rows x 4 columns]"
      ]
     },
     "execution_count": 6,
     "metadata": {},
     "output_type": "execute_result"
    }
   ],
   "source": [
    "# 클러스터링된 데이터 시각화를 위해 데이터프레임을 만든다.\n",
    "x_train_df = pd.DataFrame(x_train, columns=['x', 'y'])\n",
    "x_train_df['label'] = y_train\n",
    "x_train_df['cluster'] = cluster.labels_ # 데이터프레임에 클러스터링된 레이블을 넣어준다.\n",
    "x_train_df"
   ]
  },
  {
   "cell_type": "code",
   "execution_count": 7,
   "id": "96678068",
   "metadata": {
    "scrolled": true
   },
   "outputs": [
    {
     "name": "stdout",
     "output_type": "stream",
     "text": [
      "{0, 1, 2, 3, 4, 5} {0, 1, 2, 3, 4, 5}\n"
     ]
    }
   ],
   "source": [
    "# 레이블과 클러스터링된 레이블의 종류 확인\n",
    "print(set(x_train_df.label), set(x_train_df.cluster))"
   ]
  },
  {
   "cell_type": "markdown",
   "id": "41e22463",
   "metadata": {},
   "source": [
    "실제 데이터 레이블 시각화"
   ]
  },
  {
   "cell_type": "code",
   "execution_count": 8,
   "id": "8fecc07d",
   "metadata": {},
   "outputs": [
    {
     "data": {
      "image/png": "[encoded data removed]",
      "text/plain": [
       "<Figure size 800x600 with 1 Axes>"
      ]
     },
     "metadata": {},
     "output_type": "display_data"
    }
   ],
   "source": [
    "plt.figure(figsize=(8, 6))\n",
    "markers = ['o', '*', '^', 'x', 's', 'v']\n",
    "\n",
    "for i in set(x_train_df.label):\n",
    "    df_index = x_train_df[x_train_df.label == i] # 데이터의 레이블 별로 데이터를 분할한다.\n",
    "    x = df_index.x # 학습 데이터의 첫 번째 성분 벡터를 추출한다.\n",
    "    y = df_index.y # 학습 데이터의 두 번째 성분 벡터를 추출한다.\n",
    "    plt.scatter(x=x, y=y, marker=markers[i], label=i) # 산포도를 그린다.\n",
    "\n",
    "plt.title('레이블 시각화')\n",
    "plt.xlabel('x')\n",
    "plt.ylabel('y')\n",
    "plt.legend()\n",
    "plt.show()"
   ]
  },
  {
   "cell_type": "markdown",
   "id": "559d73f2",
   "metadata": {},
   "source": [
    "k평균 클러스터링 결과 시각화"
   ]
  },
  {
   "cell_type": "code",
   "execution_count": 9,
   "id": "dc38a8a0",
   "metadata": {},
   "outputs": [
    {
     "data": {
      "image/png": "[encoded data removed]",
      "text/plain": [
       "<Figure size 800x600 with 1 Axes>"
      ]
     },
     "metadata": {},
     "output_type": "display_data"
    }
   ],
   "source": [
    "plt.figure(figsize=(8, 6))\n",
    "markers = ['o', '*', '^', 'x', 's', 'v']\n",
    "\n",
    "for i in set(x_train_df.cluster):\n",
    "    df_index = x_train_df[x_train_df.cluster == i] # 클러스터링 결과 별로 데이터를 분할한다.\n",
    "    x = df_index.x # 학습 데이터의 첫 번째 성분 벡터를 추출한다.\n",
    "    y = df_index.y # 학습 데이터의 두 번째 성분 벡터를 추출한다.\n",
    "    plt.scatter(x=x, y=y, marker=markers[i], label=i) # 산포도를 그린다.\n",
    "\n",
    "plt.title('k평균 클러스터링 결과 시각화')\n",
    "plt.xlabel('x')\n",
    "plt.ylabel('y')\n",
    "plt.legend()\n",
    "plt.show()"
   ]
  },
  {
   "cell_type": "markdown",
   "id": "f93a27ad",
   "metadata": {},
   "source": [
    "학습된 모델을 평가한다."
   ]
  },
  {
   "cell_type": "code",
   "execution_count": 10,
   "id": "14e2259e",
   "metadata": {},
   "outputs": [
    {
     "name": "stdout",
     "output_type": "stream",
     "text": [
      "0.7004453149145585\n"
     ]
    }
   ],
   "source": [
    "# 실루엣 스코어(Silhouette Score)는 서로 다른 군집이 얼마나 잘 분리되어 있는지를 나타내는\n",
    "# 지표로 군집 문제에서의 모델 성능을 평가한다.\n",
    "# 실루엣 스코어는 -1부터 1 사이의 값을 가지며 점수가 높을수록 좋은 성능을 의미한다.\n",
    "# silhouette_score() 메소드에 피쳐 데이터와 군집화 결과로 얻은 클러스터를 넘겨 실루엣 스코어를 평가한다.\n",
    "sil_score = silhouette_score(x_train, cluster.labels_)\n",
    "print(sil_score)"
   ]
  },
  {
   "cell_type": "code",
   "execution_count": null,
   "id": "68270ee1",
   "metadata": {},
   "outputs": [],
   "source": []
  },
  {
   "cell_type": "code",
   "execution_count": null,
   "id": "8aca8d17",
   "metadata": {},
   "outputs": [],
   "source": []
  }
 ],
 "metadata": {
  "kernelspec": {
   "display_name": "python37",
   "language": "python",
   "name": "python37"
  },
  "language_info": {
   "codemirror_mode": {
    "name": "ipython",
    "version": 3
   },
   "file_extension": ".py",
   "mimetype": "text/x-python",
   "name": "python",
   "nbconvert_exporter": "python",
   "pygments_lexer": "ipython3",
   "version": "3.7.1"
  }
 },
 "nbformat": 4,
 "nbformat_minor": 5
}
