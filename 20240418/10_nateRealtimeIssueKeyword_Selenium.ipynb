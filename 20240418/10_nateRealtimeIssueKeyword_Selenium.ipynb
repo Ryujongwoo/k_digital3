{
 "cells": [
  {
   "cell_type": "code",
   "execution_count": 1,
   "id": "081efb81",
   "metadata": {},
   "outputs": [],
   "source": [
    "import warnings\n",
    "warnings.filterwarnings(action='ignore')\n",
    "%config Completer.use_jedi = False"
   ]
  },
  {
   "cell_type": "code",
   "execution_count": 2,
   "id": "b420bea0",
   "metadata": {},
   "outputs": [],
   "source": [
    "# requests 모듈을 사용하지 않고 selenium 모듈을 사용할 것이므로 import 하지 않는다.\n",
    "# import requests\n",
    "from bs4 import BeautifulSoup"
   ]
  },
  {
   "cell_type": "code",
   "execution_count": 3,
   "id": "f2e4bb4d",
   "metadata": {},
   "outputs": [],
   "source": [
    "# selenium 모듈을 사용하기 위해 selenium 모듈을 설치하고 import 한다.\n",
    "# !pip install selenium\n",
    "from selenium import webdriver"
   ]
  },
  {
   "cell_type": "code",
   "execution_count": 4,
   "id": "6707d58e",
   "metadata": {},
   "outputs": [
    {
     "name": "stdout",
     "output_type": "stream",
     "text": [
      " 6위: 넷플릭스 캐셔로 확정[new]\n",
      " 7위: 실종 여중생 제공한[new]\n",
      " 8위: 그알 소속사에 고소당했다[new]\n",
      " 9위: 박영선 협치[new]\n",
      "10위: 수출 500호[new]\n"
     ]
    }
   ],
   "source": [
    "# 현재 사용중인 크롬 버전(124.0.6367.61)과 같은 버전의 드라이버를 os에 맞게 다운받는다.\n",
    "# https://chromedriver.chromium.org/downloads => 공식 사이트에는 114 버전이 최상위 버전\n",
    "# https://googlechromelabs.github.io/chrome-for-testing/ 페이지에서 아래의 링크를 복사해서 다운받아 사용한다.\n",
    "# https://storage.googleapis.com/chrome-for-testing-public/123.0.6312.122/win64/chromedriver-win64.zip\n",
    "# 다운받은 크롬 드라이버를 워크스페이스에 복사해 넣고 사용한다.\n",
    "\n",
    "# selenium을 사용해서 가상 크롬을 실행한다.\n",
    "driver = webdriver.Chrome('./chromedriver.exe')\n",
    "# get() 메소드로 가상 크롬에 크롤링할 타겟 사이트를 띄운다.\n",
    "driver.get('https://www.nate.com/')\n",
    "# 가상 크롬에 실행된 사이트의 html 정보를 얻어온다.\n",
    "html = driver.page_source\n",
    "# print(html)\n",
    "soup = BeautifulSoup(html, 'html.parser')\n",
    "# print(soup)\n",
    "\n",
    "ranks = soup.select('#olLiveIssueKeyword .num_rank')\n",
    "issues = soup.findAll('a', {'class': 'ik'})\n",
    "\n",
    "for i in range(5):\n",
    "    rank = ranks[i].text\n",
    "    issue = issues[i].text.strip().split('\\n')[0]\n",
    "    upDown = issues[i].text.strip().split('\\n')[1]\n",
    "    print('{:>2s}위: {}'.format(rank, issue), end='')\n",
    "    if upDown[:2] == '상승':\n",
    "        print('[{}{}]'.format('↑', upDown[-1]))\n",
    "    elif upDown[:2] == '하락':\n",
    "        print('[{}{}]'.format('↓', upDown[-1]))\n",
    "    elif upDown[:2] == '동일':\n",
    "        print('[-]')\n",
    "    else:\n",
    "        print('[new]')"
   ]
  },
  {
   "cell_type": "code",
   "execution_count": null,
   "id": "cea33cf9",
   "metadata": {},
   "outputs": [],
   "source": []
  },
  {
   "cell_type": "code",
   "execution_count": null,
   "id": "d5863136",
   "metadata": {},
   "outputs": [],
   "source": []
  },
  {
   "cell_type": "code",
   "execution_count": null,
   "id": "9c889c0f",
   "metadata": {},
   "outputs": [],
   "source": []
  },
  {
   "cell_type": "code",
   "execution_count": null,
   "id": "27514a2b",
   "metadata": {},
   "outputs": [],
   "source": []
  },
  {
   "cell_type": "code",
   "execution_count": null,
   "id": "8b679419",
   "metadata": {},
   "outputs": [],
   "source": []
  },
  {
   "cell_type": "code",
   "execution_count": null,
   "id": "bab2dfc1",
   "metadata": {},
   "outputs": [],
   "source": []
  },
  {
   "cell_type": "code",
   "execution_count": null,
   "id": "550847c9",
   "metadata": {},
   "outputs": [],
   "source": []
  },
  {
   "cell_type": "code",
   "execution_count": null,
   "id": "325baec8",
   "metadata": {},
   "outputs": [],
   "source": []
  }
 ],
 "metadata": {
  "kernelspec": {
   "display_name": "Python 3",
   "language": "python",
   "name": "python3"
  },
  "language_info": {
   "codemirror_mode": {
    "name": "ipython",
    "version": 3
   },
   "file_extension": ".py",
   "mimetype": "text/x-python",
   "name": "python",
   "nbconvert_exporter": "python",
   "pygments_lexer": "ipython3",
   "version": "3.6.8"
  }
 },
 "nbformat": 4,
 "nbformat_minor": 5
}
