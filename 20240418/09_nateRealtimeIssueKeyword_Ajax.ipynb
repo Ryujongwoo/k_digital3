{
 "cells": [
  {
   "cell_type": "code",
   "execution_count": 1,
   "id": "7d3c351e",
   "metadata": {},
   "outputs": [],
   "source": [
    "import warnings\n",
    "warnings.filterwarnings(action='ignore')\n",
    "%config Completer.use_jedi = False"
   ]
  },
  {
   "cell_type": "code",
   "execution_count": 2,
   "id": "c12dcff5",
   "metadata": {},
   "outputs": [],
   "source": [
    "import requests\n",
    "# BeautifulSoup은 html 문서를 파싱할 때 사용하므로 json 형태로 넘어오는 데이터에는 사용하지 않는다.\n",
    "# from bs4 import BeautifulSoup\n",
    "# json 형태의 문자열을 파이썬에서 처리할 수 있도록 리스트나 딕셔너리로 변경하기 위해 import 한다.\n",
    "import json"
   ]
  },
  {
   "cell_type": "markdown",
   "id": "3d7abdb7",
   "metadata": {},
   "source": [
    "<img src=\"nateAjax_1.png\" align=\"left\" width=\"800\"/>"
   ]
  },
  {
   "cell_type": "markdown",
   "id": "4fd18dd9",
   "metadata": {},
   "source": [
    "<img src=\"nateAjax_2.png\" align=\"left\" width=\"800\"/>"
   ]
  },
  {
   "cell_type": "code",
   "execution_count": 3,
   "id": "633f3e85",
   "metadata": {},
   "outputs": [
    {
     "name": "stdout",
     "output_type": "stream",
     "text": [
      "<Response [200]>\n"
     ]
    }
   ],
   "source": [
    "# 실시간 이슈 키워드가 웹 페이지에 전부 혹은 일부가 포함되어있지 않고 Ajax를 이용해서 실시간으로 \n",
    "# 받아오는 방식이 사용된다.\n",
    "targetSite = 'https://www.nate.com/js/data/jsonLiveKeywordDataV1.js?v=202404181005'\n",
    "request = requests.get(targetSite)\n",
    "print(request)\n",
    "# 파이썬은 한글 인코딩이 유니코드(utf-8)로 되어있기 때문에 'euc-kr'로 인코딩된 사이트를 크롤링할 때 한글이\n",
    "# 깨지면 아래와 같이 한글 인코딩 방식을 지정하면 된다.\n",
    "# request.encoding = 'euc-kr'"
   ]
  },
  {
   "cell_type": "code",
   "execution_count": 4,
   "id": "43091efa",
   "metadata": {},
   "outputs": [
    {
     "name": "stdout",
     "output_type": "stream",
     "text": [
      "[[\"1\",  \"민주당 양곡법 직회부\",  \"+\",  \"1\",  \"민주당 본회의 직회부\"], [\"2\",  \"카카오엔터 美 K팝\",  \"n\",  \"0\",  \"카카오엔터 美 K팝\"], [\"3\",  \"기아 2024 어워드\",  \"+\",  \"1\",  \"기아 2024 어워드\"], [\"4\",  \"간보기 전 의협\",  \"n\",  \"0\",  \"간보기 전 의협 대통령\"], [\"5\",  \"가해자 누나\",  \"+\",  \"1\",  \"가해자 누나\"], [\"6\",  \"김슬기 끝까지 잡는다\",  \"n\",  \"0\",  \"김슬기 끝까지 잡는다\"], [\"7\",  \"어트랙트 그알 고소\",  \"n\",  \"0\",  \"어트랙트 그알 고소\"], [\"8\",  \"김만배와 언론사 압수수색\",  \"n\",  \"0\",  \"김만배와 언론사 압수수색\"], [\"9\",  \"처음 머리 맞댄\",  \"n\",  \"0\",  \"처음 머리 맞댄 절하\"], [\"10\",  \"3월 외국인 1위\",  \"n\",  \"0\",  \"3월 외국인 1위\"]]\n",
      "<class 'str'>\n"
     ]
    }
   ],
   "source": [
    "issues = request.text\n",
    "print(issues)\n",
    "print(type(issues))"
   ]
  },
  {
   "cell_type": "markdown",
   "id": "0e18cce9",
   "metadata": {},
   "source": [
    "json 형태의 문자열로 얻어온 실시간 이슈 데이터를 파이썬이 처리할 수 있는 데이터 타입으로 변환해서 처리한다."
   ]
  },
  {
   "cell_type": "code",
   "execution_count": 5,
   "id": "4e035dd9",
   "metadata": {},
   "outputs": [
    {
     "name": "stdout",
     "output_type": "stream",
     "text": [
      "[['1', '민주당 양곡법 직회부', '+', '1', '민주당 본회의 직회부'], ['2', '카카오엔터 美 K팝', 'n', '0', '카카오엔터 美 K팝'], ['3', '기아 2024 어워드', '+', '1', '기아 2024 어워드'], ['4', '간보기 전 의협', 'n', '0', '간보기 전 의협 대통령'], ['5', '가해자 누나', '+', '1', '가해자 누나'], ['6', '김슬기 끝까지 잡는다', 'n', '0', '김슬기 끝까지 잡는다'], ['7', '어트랙트 그알 고소', 'n', '0', '어트랙트 그알 고소'], ['8', '김만배와 언론사 압수수색', 'n', '0', '김만배와 언론사 압수수색'], ['9', '처음 머리 맞댄', 'n', '0', '처음 머리 맞댄 절하'], ['10', '3월 외국인 1위', 'n', '0', '3월 외국인 1위']]\n",
      "<class 'list'>\n"
     ]
    }
   ],
   "source": [
    "# json 모듈의 loads() 메소드는 json 형태의 문자열이 {}를 포함하면 딕셔너리로 {}를 포함하지 않으면\n",
    "# 리스트로 변환한다.\n",
    "ranks = json.loads(issues)\n",
    "print(ranks)\n",
    "print(type(ranks))"
   ]
  },
  {
   "cell_type": "code",
   "execution_count": 6,
   "id": "22417cb6",
   "metadata": {},
   "outputs": [
    {
     "name": "stdout",
     "output_type": "stream",
     "text": [
      "[['1', '민주당 양곡법 직회부', '+', '1', '민주당 본회의 직회부'], ['2', '카카오엔터 美 K팝', 'n', '0', '카카오엔터 美 K팝'], ['3', '기아 2024 어워드', '+', '1', '기아 2024 어워드'], ['4', '간보기 전 의협', 'n', '0', '간보기 전 의협 대통령'], ['5', '가해자 누나', '+', '1', '가해자 누나'], ['6', '김슬기 끝까지 잡는다', 'n', '0', '김슬기 끝까지 잡는다'], ['7', '어트랙트 그알 고소', 'n', '0', '어트랙트 그알 고소'], ['8', '김만배와 언론사 압수수색', 'n', '0', '김만배와 언론사 압수수색'], ['9', '처음 머리 맞댄', 'n', '0', '처음 머리 맞댄 절하'], ['10', '3월 외국인 1위', 'n', '0', '3월 외국인 1위']]\n",
      "<class 'list'>\n"
     ]
    }
   ],
   "source": [
    "# requests 모듈의 json() 메소드는 json 형태의 문자열이 {}를 포함하면 딕셔너리로 {}를 포함하지 않으면\n",
    "# 리스트로 변환한다.\n",
    "ranks = request.json()\n",
    "print(ranks)\n",
    "print(type(ranks))"
   ]
  },
  {
   "cell_type": "code",
   "execution_count": 7,
   "id": "c12779f5",
   "metadata": {},
   "outputs": [
    {
     "name": "stdout",
     "output_type": "stream",
     "text": [
      " 1위: 민주당 양곡법 직회부[↑1]\n",
      " 2위: 카카오엔터 美 K팝[new]\n",
      " 3위: 기아 2024 어워드[↑1]\n",
      " 4위: 간보기 전 의협[new]\n",
      " 5위: 가해자 누나[↑1]\n",
      " 6위: 김슬기 끝까지 잡는다[new]\n",
      " 7위: 어트랙트 그알 고소[new]\n",
      " 8위: 김만배와 언론사 압수수색[new]\n",
      " 9위: 처음 머리 맞댄[new]\n",
      "10위: 3월 외국인 1위[new]\n"
     ]
    }
   ],
   "source": [
    "for rank in ranks:\n",
    "    print('{:>2s}위: {}'.format(rank[0], rank[1]), end='')\n",
    "    if rank[2] == '+':\n",
    "        print('[{}{}]'.format('↑', rank[3]))\n",
    "    elif rank[2] == '-':\n",
    "        print('[{}{}]'.format('↓', rank[3]))\n",
    "    elif rank[2] == 'n':\n",
    "        print('[new]')\n",
    "    else:\n",
    "        print('[-]')"
   ]
  },
  {
   "cell_type": "code",
   "execution_count": null,
   "id": "d528ace5",
   "metadata": {},
   "outputs": [],
   "source": []
  },
  {
   "cell_type": "code",
   "execution_count": null,
   "id": "3494c1de",
   "metadata": {},
   "outputs": [],
   "source": []
  }
 ],
 "metadata": {
  "kernelspec": {
   "display_name": "Python 3",
   "language": "python",
   "name": "python3"
  },
  "language_info": {
   "codemirror_mode": {
    "name": "ipython",
    "version": 3
   },
   "file_extension": ".py",
   "mimetype": "text/x-python",
   "name": "python",
   "nbconvert_exporter": "python",
   "pygments_lexer": "ipython3",
   "version": "3.6.8"
  }
 },
 "nbformat": 4,
 "nbformat_minor": 5
}
