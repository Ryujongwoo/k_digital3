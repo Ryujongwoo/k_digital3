{
 "cells": [
  {
   "cell_type": "code",
   "execution_count": 1,
   "id": "7bb36add",
   "metadata": {},
   "outputs": [],
   "source": [
    "import warnings\n",
    "warnings.filterwarnings(action='ignore')\n",
    "%config Completer.use_jedi = False"
   ]
  },
  {
   "cell_type": "code",
   "execution_count": 2,
   "id": "eeb07f49",
   "metadata": {},
   "outputs": [],
   "source": [
    "import requests\n",
    "from bs4 import BeautifulSoup"
   ]
  },
  {
   "cell_type": "code",
   "execution_count": 3,
   "id": "511c816a",
   "metadata": {},
   "outputs": [
    {
     "name": "stdout",
     "output_type": "stream",
     "text": [
      " 1위: 주선옥[-]\n",
      " 2위: 민주당 양곡법 직회부[-]\n",
      " 3위: 카카오엔터 美 K팝[new]\n",
      " 4위: 선재 업고 튀어[↑4]\n",
      " 5위: 기아 2024 어워드[↓1]\n"
     ]
    }
   ],
   "source": [
    "targetSite = 'https://www.nate.com/'\n",
    "h = {'User-agent': 'Mozilla/5.0 (Windows NT 6.3; Win64; x64; Trident/7.0; MSAppHost/2.0; rv:11.0) like Gecko'}\n",
    "request = requests.get(targetSite, headers=h)\n",
    "html = request.text\n",
    "soup = BeautifulSoup(html, 'html.parser')\n",
    "# print(soup)\n",
    "\n",
    "# 순위\n",
    "# ranks = soup.findAll('span', {'class': 'num_rank'})\n",
    "# ranks = soup.select('#olLiveIssueKeyword > li > span')\n",
    "ranks = soup.select('#olLiveIssueKeyword .num_rank')\n",
    "# print(len(ranks))\n",
    "# print(ranks[:5])\n",
    "# for rank in ranks[:5]:\n",
    "    # print(rank.text)\n",
    "    \n",
    "# 실시간 이슈 키워드\n",
    "# issues = soup.findAll('span', {'class': 'txt_rank'})\n",
    "# print(len(issues))\n",
    "# print(issues)\n",
    "# for issue in issues[:5]:\n",
    "    # print(issue.text)\n",
    "    \n",
    "# 실시간 이슈 키워드와 상승/하락 폭\n",
    "issues = soup.findAll('a', {'class': 'ik'})\n",
    "# print(len(issues))\n",
    "# print(issues)\n",
    "# for issue in issues[:5]:\n",
    "    # print(issue.text.strip().split('\\n'))\n",
    "    # print(issue.text.strip().split('\\n')[0], issue.text.strip().split('\\n')[1])\n",
    "    \n",
    "for i in range(5):\n",
    "    rank = ranks[i].text\n",
    "    issue = issues[i].text.strip().split('\\n')[0]\n",
    "    upDown = issues[i].text.strip().split('\\n')[1]\n",
    "    # print('%2s위: %s' % (rank, issue))\n",
    "    print('{:>2s}위: {}'.format(rank, issue), end='')\n",
    "    if upDown[:2] == '상승':\n",
    "        print('[{}{}]'.format('↑', upDown[-1]))\n",
    "    elif upDown[:2] == '하락':\n",
    "        print('[{}{}]'.format('↓', upDown[-1]))\n",
    "    elif upDown[:2] == '동일':\n",
    "        print('[-]')\n",
    "    else:\n",
    "        print('[new]')"
   ]
  },
  {
   "cell_type": "code",
   "execution_count": null,
   "id": "52ff13fa",
   "metadata": {},
   "outputs": [],
   "source": []
  },
  {
   "cell_type": "code",
   "execution_count": null,
   "id": "ce8421ce",
   "metadata": {},
   "outputs": [],
   "source": []
  }
 ],
 "metadata": {
  "kernelspec": {
   "display_name": "Python 3",
   "language": "python",
   "name": "python3"
  },
  "language_info": {
   "codemirror_mode": {
    "name": "ipython",
    "version": 3
   },
   "file_extension": ".py",
   "mimetype": "text/x-python",
   "name": "python",
   "nbconvert_exporter": "python",
   "pygments_lexer": "ipython3",
   "version": "3.6.8"
  }
 },
 "nbformat": 4,
 "nbformat_minor": 5
}
