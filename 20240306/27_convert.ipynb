{
 "cells": [
  {
   "cell_type": "markdown",
   "id": "7daeb398",
   "metadata": {},
   "source": [
    "진법 변환\n",
    "\n",
    "<img src='./convert.png' align='left' width='800' title='소인수 분해'/>"
   ]
  },
  {
   "cell_type": "markdown",
   "id": "286bac28",
   "metadata": {},
   "source": [
    "10진수를 2진수로: 26<sub>(10)</sub> => 11010<sub>(2)</sub>"
   ]
  },
  {
   "cell_type": "code",
   "execution_count": 5,
   "id": "93bba9d1",
   "metadata": {},
   "outputs": [
    {
     "name": "stdout",
     "output_type": "stream",
     "text": [
      "10진수를 입력하세요: 26\n",
      "[0, 1, 0, 1, 1]\n",
      "11010"
     ]
    }
   ],
   "source": [
    "dec = int(input('10진수를 입력하세요: '))\n",
    "b = [] # 10진수가 2진수로 변환된 결과를 기억할 빈 리스트를 선언한다.\n",
    "# 입력되는 10진수 크기에 따라 반복 횟수가 달라지므로 무한 루프를 돌려서 처리한다.\n",
    "while True:\n",
    "    m = dec // 2 # 10진수를 2로 나눈 몫을 계산한다.\n",
    "    r = dec % 2 # 10진수를 2로 나눈 나머지를 계산한다.\n",
    "    b.append(r) # 나머지를 2진수로 변환된 결과를 기억할 리스트에 저장한다.\n",
    "    # 몫이 0이되면 진법 변환이 완료된것이므로 무한 루프를 탈출한다.\n",
    "    if m == 0:\n",
    "        break\n",
    "    # ===== if\n",
    "    # 다음 계산을 위해서 dec를 몫으로 수정한다.\n",
    "    dec = m\n",
    "# ===== while\n",
    "print(b)\n",
    "# print(b[::-1])\n",
    "# b.reverse()\n",
    "# print(b)\n",
    "for i in range(len(b) - 1, -1, -1):\n",
    "    print(b[i], end='')"
   ]
  },
  {
   "cell_type": "markdown",
   "id": "9030acb9",
   "metadata": {},
   "source": [
    "10진수를 8진수로: 26<sub>(10)</sub> => 32<sub>(8)</sub>"
   ]
  },
  {
   "cell_type": "code",
   "execution_count": 6,
   "id": "33000856",
   "metadata": {},
   "outputs": [
    {
     "name": "stdout",
     "output_type": "stream",
     "text": [
      "10진수를 입력하세요: 26\n",
      "[2, 3]\n",
      "32"
     ]
    }
   ],
   "source": [
    "dec = int(input('10진수를 입력하세요: '))\n",
    "o = [] # 10진수가 8진수로 변환된 결과를 기억할 빈 리스트를 선언한다.\n",
    "while True:\n",
    "    m = dec // 8 # 10진수를 8로 나눈 몫을 계산한다.\n",
    "    r = dec % 8 # 10진수를 8로 나눈 나머지를 계산한다.\n",
    "    o.append(r) # 나머지를 8진수로 변환된 결과를 기억할 리스트에 저장한다.\n",
    "    if m == 0:\n",
    "        break\n",
    "    # ===== if\n",
    "    dec = m\n",
    "# ===== while\n",
    "print(o)\n",
    "for i in range(len(o) - 1, -1, -1):\n",
    "    print(o[i], end='')"
   ]
  },
  {
   "cell_type": "markdown",
   "id": "ebb98478",
   "metadata": {},
   "source": [
    "10진수를 16진수로: 26<sub>(10)</sub> => 1A<sub>(16)</sub>"
   ]
  },
  {
   "cell_type": "code",
   "execution_count": 11,
   "id": "62c47088",
   "metadata": {},
   "outputs": [
    {
     "name": "stdout",
     "output_type": "stream",
     "text": [
      "10진수를 입력하세요: 2147483647\n",
      "[15, 15, 15, 15, 15, 15, 15, 7]\n",
      "7FFFFFFF"
     ]
    }
   ],
   "source": [
    "dec = int(input('10진수를 입력하세요: '))\n",
    "h = [] # 10진수가 16진수로 변환된 결과를 기억할 빈 리스트를 선언한다.\n",
    "# 16진수를 기억하는 리스트 또는 튜플을 만든다.\n",
    "hex16 = '0', '1', '2', '3', '4', '5', '6', '7', '8', '9', 'A', 'B', 'C', 'D', 'E', 'F'\n",
    "while True:\n",
    "    m = dec // 16 # 10진수를 16로 나눈 몫을 계산한다.\n",
    "    r = dec % 16 # 10진수를 16로 나눈 나머지를 계산한다.\n",
    "    h.append(r) # 나머지를 16진수로 변환된 결과를 기억할 리스트에 저장한다.\n",
    "    if m == 0:\n",
    "        break\n",
    "    # ===== if\n",
    "    dec = m\n",
    "# ===== while\n",
    "print(h)\n",
    "for i in range(len(h) - 1, -1, -1):\n",
    "    # print(h[i], end='') # 110\n",
    "    print(hex16[h[i]], end='') # 1A"
   ]
  },
  {
   "cell_type": "markdown",
   "id": "77b47115",
   "metadata": {},
   "source": [
    "10진수를 n진수로"
   ]
  },
  {
   "cell_type": "code",
   "execution_count": 14,
   "id": "cda1de8d",
   "metadata": {},
   "outputs": [
    {
     "name": "stdout",
     "output_type": "stream",
     "text": [
      "A\n",
      "A B C D E F\n"
     ]
    }
   ],
   "source": [
    "print(chr(65))\n",
    "print(chr(10 + 55), chr(11 + 55), chr(12 + 55), chr(13 + 55), chr(14 + 55), chr(15 + 55))"
   ]
  },
  {
   "cell_type": "code",
   "execution_count": 31,
   "id": "34fd8baa",
   "metadata": {},
   "outputs": [
    {
     "name": "stdout",
     "output_type": "stream",
     "text": [
      "10진수와 변환할 진법을 입력하세요: 35 36\n",
      "[35]\n",
      "Z"
     ]
    }
   ],
   "source": [
    "dec, n = map(int, input('10진수와 변환할 진법을 입력하세요: ').split())\n",
    "c = [] # 10진수가 n진수로 변환된 결과를 기억할 빈 리스트를 선언한다.\n",
    "while True:\n",
    "    m = dec // n # 10진수를 n로 나눈 몫을 계산한다.\n",
    "    r = dec % n # 10진수를 n로 나눈 나머지를 계산한다.\n",
    "    c.append(r) # 나머지를 n진수로 변환된 결과를 기억할 리스트에 저장한다.\n",
    "    if m == 0:\n",
    "        break\n",
    "    # ===== if\n",
    "    dec = m\n",
    "# ===== while\n",
    "print(c)\n",
    "for i in range(len(c) - 1, -1, -1):\n",
    "    # chr() 함수는 인수로 지정된 코드값에 해당되는 문자를 리턴한다.\n",
    "    print(c[i] if c[i] < 10 else chr(c[i] + 55), end='')"
   ]
  },
  {
   "cell_type": "code",
   "execution_count": 29,
   "id": "08c78993",
   "metadata": {},
   "outputs": [
    {
     "name": "stdout",
     "output_type": "stream",
     "text": [
      "['0', '1', '2', '3', '4', '5', '6', '7', '8', '9']\n",
      "['A', 'B', 'C', 'D', 'E', 'F', 'G', 'H', 'I', 'J', 'K', 'L', 'M', 'N', 'O', 'P', 'Q', 'R', 'S', 'T', 'U', 'V', 'W', 'X', 'Y', 'Z']\n",
      "['0', '1', '2', '3', '4', '5', '6', '7', '8', '9', 'A', 'B', 'C', 'D', 'E', 'F', 'G', 'H', 'I', 'J', 'K', 'L', 'M', 'N', 'O', 'P', 'Q', 'R', 'S', 'T', 'U', 'V', 'W', 'X', 'Y', 'Z']\n"
     ]
    }
   ],
   "source": [
    "a = [chr(i) for i in range(48, 58)]\n",
    "print(a)\n",
    "b = [chr(i) for i in range(65, 91)]\n",
    "print(b)\n",
    "c = a + b\n",
    "print(c)"
   ]
  },
  {
   "cell_type": "code",
   "execution_count": null,
   "id": "33dce152",
   "metadata": {},
   "outputs": [],
   "source": []
  },
  {
   "cell_type": "code",
   "execution_count": null,
   "id": "8ce13e0b",
   "metadata": {},
   "outputs": [],
   "source": []
  },
  {
   "cell_type": "code",
   "execution_count": null,
   "id": "821aeb0f",
   "metadata": {},
   "outputs": [],
   "source": []
  },
  {
   "cell_type": "code",
   "execution_count": null,
   "id": "290ad8c5",
   "metadata": {},
   "outputs": [],
   "source": []
  }
 ],
 "metadata": {
  "kernelspec": {
   "display_name": "Python 3",
   "language": "python",
   "name": "python3"
  },
  "language_info": {
   "codemirror_mode": {
    "name": "ipython",
    "version": 3
   },
   "file_extension": ".py",
   "mimetype": "text/x-python",
   "name": "python",
   "nbconvert_exporter": "python",
   "pygments_lexer": "ipython3",
   "version": "3.6.8"
  }
 },
 "nbformat": 4,
 "nbformat_minor": 5
}
