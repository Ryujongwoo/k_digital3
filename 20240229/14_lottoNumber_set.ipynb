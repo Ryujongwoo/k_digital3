{
 "cells": [
  {
   "cell_type": "code",
   "execution_count": 1,
   "id": "47aae156",
   "metadata": {},
   "outputs": [],
   "source": [
    "import random"
   ]
  },
  {
   "cell_type": "code",
   "execution_count": 18,
   "id": "fbf74313",
   "metadata": {},
   "outputs": [
    {
     "name": "stdout",
     "output_type": "stream",
     "text": [
      "1등 번호: {5, 8, 9, 27, 29, 30}\n",
      "1등 번호: {5, 8, 9, 27, 29, 30}, 보너스 번호: 31\n"
     ]
    }
   ],
   "source": [
    "# 로또 1등 번호를 기억할 빈 set을 만든다.\n",
    "lotto = set()\n",
    "\n",
    "# 1등 번호\n",
    "# 중복되는 번호가 나올수 있기 때문에 난수 발생 시키는 작업을 몇 번 반복해야 하는지 알 수 없으므로\n",
    "# while 반복을 무한 루프를 돌려서 처리한다.\n",
    "while True:\n",
    "    # 1 ~ 45 사이의 난수를 정수로 발생시킨다.\n",
    "    number = random.randrange(1, 46)\n",
    "    # print(number)\n",
    "    '''\n",
    "    # 리스트에 중복되는 번호가 없다면 발생된 난수를 리스트에 추가한다.\n",
    "    if number not in lotto:\n",
    "        lotto.append(number)\n",
    "    # ===== if\n",
    "    '''\n",
    "    # 리스트는 중복을 확인하는 if가 필요했지만 set은 중복 데이터를 허용하지 않기 때문에 중복을\n",
    "    # 확인하는 if가 필요없다.\n",
    "    lotto.add(number)\n",
    "    # 리스트에 중복되지 않은 숫자가 6개 저장되면 무한 루프를 탈출시킨다.\n",
    "    if len(lotto) == 6:\n",
    "        break\n",
    "    # ===== if\n",
    "# ===== while\n",
    "\n",
    "# set은 입력 순서와 저장 순서가 다르기 때문에 sort() 메소드를 지원하지 않는다.\n",
    "# lotto.sort()\n",
    "print('1등 번호: {}'.format(lotto))\n",
    "\n",
    "# 보너스 번호\n",
    "while True:\n",
    "    bonus = random.randrange(1, 46)\n",
    "    # print(bonus)\n",
    "    if bonus not in lotto:\n",
    "        break\n",
    "    # =====\n",
    "# =====\n",
    "print('1등 번호: {}, 보너스 번호: {}'.format(lotto, bonus))"
   ]
  },
  {
   "cell_type": "code",
   "execution_count": null,
   "id": "310dac9e",
   "metadata": {},
   "outputs": [],
   "source": []
  },
  {
   "cell_type": "code",
   "execution_count": null,
   "id": "df8c26b3",
   "metadata": {},
   "outputs": [],
   "source": []
  }
 ],
 "metadata": {
  "kernelspec": {
   "display_name": "Python 3",
   "language": "python",
   "name": "python3"
  },
  "language_info": {
   "codemirror_mode": {
    "name": "ipython",
    "version": 3
   },
   "file_extension": ".py",
   "mimetype": "text/x-python",
   "name": "python",
   "nbconvert_exporter": "python",
   "pygments_lexer": "ipython3",
   "version": "3.6.8"
  }
 },
 "nbformat": 4,
 "nbformat_minor": 5
}
