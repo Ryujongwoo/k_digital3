{
 "cells": [
  {
   "cell_type": "code",
   "execution_count": 1,
   "id": "0d8ee2e5",
   "metadata": {},
   "outputs": [],
   "source": [
    "import warnings\n",
    "warnings.filterwarnings(action='ignore')\n",
    "%config Completer.use_jedi = False\n",
    "import numpy as np"
   ]
  },
  {
   "cell_type": "markdown",
   "id": "a5b70d5c",
   "metadata": {},
   "source": [
    "딥러닝(Deep Learning)\n",
    "\n",
    "인간의 뇌는 뉴런이라는 세포로 이루어져 있고, 약 1,000억 개의 뉴런이 존재한다. 그리고 각 뉴런과 뉴런은 시냅스로 연결되는데, 자극의 크기가 특정값 이상이면 다음 뉴런으로 전달되고, 특정값 이하라면 다음 뉴런에 전달하지 않는다. 이때, 자극을 전달하는 기준인 특정값을 임계치라고 한다. 그래서 우리는 임계치를 넘긴 자극 신호를 전달받고 그에 해당하는 반응을 하게 되는 것이다.\n",
    "\n",
    "이와 같은 생명 과학 분야의 아이디어를 머신러닝에 도입한 것을 인공 신경 망(Artifical Neural Network, ANN)이라고 하며 줄여서 신경망이라고 한다. 그리고 신경망을 기반으로 하는 학습하는 방법을 딥러닝이라고 부른다. 수많은 뉴런이 서로 연결되어 신호를 전달하는 것 처럼 딥러닝에서는 수많은 퍼셉트론이 연결되어 있어 연산 결과를 주고 받는다.\n",
    "\n",
    "AND 연산이나 OR 연산의 경우 적한 선 하나를 생성해 출력값 0과 1을 정확히 구분해 낼 수 있었다. 그러나 XOR 연산은 직선 하나로는 0과 1을 구분할 수 없다. 초기 딥러닝은 XOR 문제를 해결하는 방법으로 등장했고 신경망을 이용해서 기존 방법으로는 풀 수 없었던 XOR 문제를 풀 수 있었다. XOR 문제와 같은 간단한 문제를 해결하는 것으로 시작한 딥러닝 점차 발전해 더욱 복잡한 문제를 푸는데 사용되었다.\n",
    "\n",
    "퍼셉트론(Perceptron)\n",
    "\n",
    "퍼셉트론은 신경망의 최소 단위로 입력값(input)과 출력값(output)이 존재한다. n개의 입력을 합쳐서 벡터 x로 표현하고, n개의 가중치 값을 가중치 벡터 w라고 한다. 그리고 입력값 벡터와 가중치 벡터의 내적값은 출력값 z가 된다.\n",
    "\n",
    "<img src=\"./perceptron.png\" width=\"600\"/>\n",
    "\n",
    "동그라미는 노드를 의미하는데, 노드는 뉴런에 해당된다. 입력 데이터에 가중치를 곱한 후 더한(내적한) 값을 가중합(weighted sum)이라고 하고 이 가중합은 출력값을 결정하는 활성화 함수(activation function)를 거치면서 최종 출력값을 반환한다.\n",
    "\n",
    "활성화 함수에는 계단(step) 함수를 비롯해 시그모이드(sigmoid), 렐루(ReLu), 리키 렐루(Leaky ReLu) 등이 있다. b는 편향(bias)으로 가중값에 더해진 상수로 기존 가중합에 편향을 더함으로써 최종 출력값에 영향을 줄 수 있다.\n",
    "\n",
    "퍼셉트론 실습"
   ]
  },
  {
   "cell_type": "code",
   "execution_count": 2,
   "id": "415aec70",
   "metadata": {},
   "outputs": [
    {
     "name": "stdout",
     "output_type": "stream",
     "text": [
      "[[2 3]\n",
      " [5 1]]\n",
      "[2 3 5 1]\n",
      "[2 3 5 1]\n",
      "[2 3 5 1]\n",
      "[2 3 5 1]\n"
     ]
    }
   ],
   "source": [
    "# 입력 데이터\n",
    "input_data = np.array([[2, 3], [5, 1]]) # 2차원 행렬\n",
    "print(input_data)\n",
    "# 2차원 행렬을 퍼셉트론에 입력하려면 1차원 형태로 변환시켜야 한다.\n",
    "x = input_data.ravel() # ravel() 메소드는 무조건 1차원 배열로 만든다.\n",
    "print(x)\n",
    "# reshape() 메소드는 인수로 행과 열을 지정해서 배열을 변환한다.\n",
    "x = input_data.reshape(1, 4) # 2행 2열인 2차원 배열이 1행 4열인 2차원 배열로 변환된다.\n",
    "print(x[0])\n",
    "x = input_data.reshape(4) # 2행 2열인 2차원 배열이 1차원 배열로 변환된다.\n",
    "print(x)\n",
    "# 행렬을 벡터로 변환하기 위해 reshape() 메소드를 사용하려면 인수로 -1을 지정하면 된다.\n",
    "x = input_data.reshape(-1) # 2행 2열인 2차원 배열이 1차원 배열로 변환된다.\n",
    "print(x)"
   ]
  },
  {
   "cell_type": "code",
   "execution_count": 3,
   "id": "44164508",
   "metadata": {},
   "outputs": [
    {
     "name": "stdout",
     "output_type": "stream",
     "text": [
      "[ 2  1 -3  3] [ 1 -3  1  3]\n",
      "3 3\n"
     ]
    }
   ],
   "source": [
    "# 가중치 및 편향\n",
    "w1 = np.array([2, 1, -3, 3]) # 가중치 벡터 w1\n",
    "w2 = np.array([1, -3, 1, 3]) # 가중치 벡터 w2\n",
    "print(w1, w2)\n",
    "b1 = 3 # 편향 b1\n",
    "b2 = 3 # 편향 b2\n",
    "print(b1, b2)"
   ]
  },
  {
   "cell_type": "code",
   "execution_count": 4,
   "id": "34946d24",
   "metadata": {},
   "outputs": [
    {
     "name": "stdout",
     "output_type": "stream",
     "text": [
      "[[ 2  1 -3  3]\n",
      " [ 1 -3  1  3]]\n",
      "[3 3]\n",
      "[-2  4] [-2  4] [-2  4]\n"
     ]
    }
   ],
   "source": [
    "# 가중합\n",
    "w = np.array([w1, w2]) # 가중치 벡터를 합쳐서 가중치 행렬을 만든다.\n",
    "print(w)\n",
    "b = np.array([b1, b2]) # 편향을 합쳐서 편향 벡터를 만든다.\n",
    "print(b)\n",
    "\n",
    "# 내적\n",
    "weigth_sum1 = np.dot(w, x) + b\n",
    "weigth_sum2 = np.matmul(w, x) + b\n",
    "weigth_sum3 = w @ x + b\n",
    "print(weigth_sum1, weigth_sum2, weigth_sum3)"
   ]
  },
  {
   "cell_type": "code",
   "execution_count": 5,
   "id": "fdd65fa0",
   "metadata": {},
   "outputs": [
    {
     "name": "stdout",
     "output_type": "stream",
     "text": [
      "[0.11920292 0.98201379] [0.11920292 0.98201379] [0.11920292 0.98201379]\n"
     ]
    }
   ],
   "source": [
    "# 출력층\n",
    "# 시그모이드 함수를 활성화 함수로 사용해 가중합의 최종 점수를 확인한다.\n",
    "result1 = 1 / (1 + np.exp(-weigth_sum1))\n",
    "result2 = 1 / (1 + np.exp(-weigth_sum2))\n",
    "result3 = 1 / (1 + np.exp(-weigth_sum3))\n",
    "print(result1, result2, result3)"
   ]
  },
  {
   "cell_type": "code",
   "execution_count": null,
   "id": "f0d3ddc6",
   "metadata": {},
   "outputs": [],
   "source": []
  },
  {
   "cell_type": "code",
   "execution_count": null,
   "id": "cd67bb98",
   "metadata": {},
   "outputs": [],
   "source": []
  }
 ],
 "metadata": {
  "kernelspec": {
   "display_name": "python37",
   "language": "python",
   "name": "python37"
  },
  "language_info": {
   "codemirror_mode": {
    "name": "ipython",
    "version": 3
   },
   "file_extension": ".py",
   "mimetype": "text/x-python",
   "name": "python",
   "nbconvert_exporter": "python",
   "pygments_lexer": "ipython3",
   "version": "3.7.1"
  }
 },
 "nbformat": 4,
 "nbformat_minor": 5
}
