{
 "cells": [
  {
   "cell_type": "code",
   "execution_count": 1,
   "id": "be56c28c",
   "metadata": {},
   "outputs": [],
   "source": [
    "import warnings\n",
    "warnings.filterwarnings(action='ignore')\n",
    "%config Completer.use_jedi = False\n",
    "import numpy as np\n",
    "import pandas as pd\n",
    "import matplotlib.pyplot as plt\n",
    "import matplotlib as mpl\n",
    "mpl.rcParams['axes.unicode_minus'] = False\n",
    "plt.rcParams['font.family'] = 'NanumGothicCoding'\n",
    "plt.rcParams['font.size'] = 10\n",
    "import seaborn as sns\n",
    "\n",
    "from sklearn import datasets\n",
    "from sklearn.model_selection import train_test_split\n",
    "\n",
    "import tensorflow as tf\n",
    "from tensorflow.keras.utils import to_categorical\n",
    "from tensorflow.keras.models import Sequential\n",
    "from tensorflow.keras.layers import Dense\n",
    "from tensorflow.keras.layers import BatchNormalization\n",
    "from tensorflow.keras.layers import Activation"
   ]
  },
  {
   "cell_type": "markdown",
   "id": "83e861ee",
   "metadata": {},
   "source": [
    "회귀 신경망을 이용해 보스턴 집값을 예측하는 모델을 만들어 본다."
   ]
  },
  {
   "cell_type": "code",
   "execution_count": 2,
   "id": "40a74b7d",
   "metadata": {},
   "outputs": [],
   "source": [
    "# 일관된 결과값이 나오도록 numpy와 tensorflow의 seed를 설정한다.\n",
    "np.random.seed(0)\n",
    "tf.random.set_seed(0)"
   ]
  },
  {
   "cell_type": "markdown",
   "id": "a5d08b7e",
   "metadata": {},
   "source": [
    "회귀 신경망에 사용할 데이터 준비"
   ]
  },
  {
   "cell_type": "code",
   "execution_count": 3,
   "id": "48888847",
   "metadata": {},
   "outputs": [
    {
     "name": "stdout",
     "output_type": "stream",
     "text": [
      "(506, 13) (506,)\n",
      "{5.0, 6.3, 7.2, 8.8, 7.4, 10.2, 11.8, 12.7, 13.6, 14.5, 15.0, 16.5, 17.5, 18.9, 18.2, 20.4, 21.6, 22.9, 21.7, 24.0, 19.9, 26.6, 26.5, 27.5, 23.1, 27.1, 28.7, 24.7, 30.8, 33.4, 34.7, 34.9, 36.2, 35.4, 31.6, 33.0, 38.7, 33.2, 43.8, 41.3, 37.2, 39.8, 42.3, 48.5, 44.8, 50.0, 46.7, 48.3, 44.0, 48.8, 46.0, 10.5, 11.5, 11.0, 12.5, 12.0, 13.5, 13.0, 14.0, 16.6, 16.0, 16.1, 16.4, 17.4, 17.1, 17.0, 17.6, 17.9, 18.4, 18.6, 18.5, 18.0, 18.1, 19.6, 19.4, 19.5, 19.1, 19.0, 20.0, 20.5, 20.9, 20.6, 20.1, 21.0, 21.4, 21.5, 21.9, 21.1, 22.0, 22.5, 22.6, 22.4, 22.1, 23.4, 23.5, 23.9, 23.6, 23.0, 24.1, 24.6, 24.4, 24.5, 25.0, 25.1, 26.4, 27.0, 27.9, 28.0, 28.4, 28.1, 28.5, 28.6, 29.4, 29.9, 29.6, 29.1, 29.0, 30.5, 30.1, 31.1, 31.5, 31.0, 32.5, 32.0, 32.9, 32.4, 32.2, 33.3, 33.8, 33.1, 32.7, 8.4, 34.6, 35.2, 35.1, 10.4, 10.9, 7.0, 36.4, 36.0, 36.5, 36.1, 11.9, 37.9, 37.0, 37.6, 37.3, 13.9, 13.4, 14.4, 14.9, 15.4, 8.5, 41.7, 42.8, 43.1, 43.5, 45.4, 9.5, 8.3, 8.7, 9.7, 10.8, 11.3, 11.7, 12.3, 12.8, 13.2, 13.3, 13.8, 14.8, 14.3, 14.2, 15.2, 15.7, 15.3, 16.2, 16.8, 16.3, 16.7, 17.3, 17.8, 17.2, 17.7, 18.7, 18.8, 18.3, 19.3, 19.7, 19.8, 19.2, 20.2, 20.8, 20.3, 20.7, 21.2, 21.8, 22.2, 22.8, 22.7, 22.3, 23.3, 23.8, 23.2, 23.7, 24.8, 24.2, 24.3, 25.3, 25.2, 26.7, 26.2, 7.5, 28.2, 29.8, 30.3, 30.7, 5.6, 31.7, 31.2, 8.1, 9.6, 12.1, 12.6, 13.1, 14.6, 14.1, 15.6, 15.1}\n",
      "(379, 13) (127, 13) (379,) (127,)\n"
     ]
    }
   ],
   "source": [
    "# 데이터 불러오기\n",
    "raw_data = datasets.load_boston() # 사이킷런이 제공하는 보스턴 집값 데이터를 불러온다.\n",
    "\n",
    "# 피쳐, 레이블 데이터 저장\n",
    "xData = raw_data.data # 피쳐 데이터를 저장한다.\n",
    "yData = raw_data.target # 피쳐 데이터에 따른 레이블을 저장한다.\n",
    "print(xData.shape, yData.shape)\n",
    "# 총 13개의 피쳐가 있고, 이는 신경망을 생성할 때 사용된다.\n",
    "\n",
    "# 레이블 종류 확인\n",
    "# 레이블의 종류를 확인함으로써 분류 문제인지 아니면 회귀 문제인지 파악할 수 있고, \n",
    "# 분류 문제라면 몇 가지 클래스로 구분되는 지 알 수 있다.\n",
    "print(set(yData))\n",
    "\n",
    "# 레이블 데이터 원-핫 인코딩은 분류 문제일 사용하고 회귀 문제일 경우 사용하지 않는다.\n",
    "# 학습 데이터와 테스트 데이터로 분할\n",
    "x_train, x_test, y_train, y_test = train_test_split(xData, yData, random_state=0)\n",
    "print(x_train.shape, x_test.shape, y_train.shape, y_test.shape)"
   ]
  },
  {
   "cell_type": "markdown",
   "id": "5e3bc1d7",
   "metadata": {},
   "source": [
    "시퀀스를 사용하는 회귀 신경망 생성"
   ]
  },
  {
   "cell_type": "code",
   "execution_count": 4,
   "id": "e67cbb2e",
   "metadata": {},
   "outputs": [
    {
     "name": "stdout",
     "output_type": "stream",
     "text": [
      "입력 데이터 1건(피쳐)의 차원: 13\n"
     ]
    }
   ],
   "source": [
    "# 회귀 신경망 모델 학습에 사용되는 피쳐 개수(n)를 저장한다.\n",
    "# 회귀 신경망은 클래스 개수를 별도로 저장할 필요 없다.\n",
    "n = x_train.shape[1]\n",
    "print(f'입력 데이터 1건(피쳐)의 차원: {n}')\n",
    "epochs = 50"
   ]
  },
  {
   "cell_type": "code",
   "execution_count": 5,
   "id": "051579d1",
   "metadata": {},
   "outputs": [
    {
     "name": "stdout",
     "output_type": "stream",
     "text": [
      "Model: \"sequential\"\n",
      "_________________________________________________________________\n",
      " Layer (type)                Output Shape              Param #   \n",
      "=================================================================\n",
      " dense (Dense)               (None, 20)                280       \n",
      "                                                                 \n",
      " dense_1 (Dense)             (None, 1)                 21        \n",
      "                                                                 \n",
      "=================================================================\n",
      "Total params: 301\n",
      "Trainable params: 301\n",
      "Non-trainable params: 0\n",
      "_________________________________________________________________\n"
     ]
    }
   ],
   "source": [
    "# Sequential 객체 선언 후 Sequential 모델에 add() 메소드로 레이어를 추가해서 신경망을 만든다.\n",
    "model = Sequential() # 시퀀스를 사용하는 신경망 모델을 만든다.\n",
    "\n",
    "# 입력 레이어를 만든다.\n",
    "# input_dim 속성으로 입력 데이터 1건(피쳐)의 차원, units 속성으로 레이어의 출력 차원,\n",
    "# activation 속성으로 활성화 함수를 지정한다.\n",
    "model.add(Dense(input_dim=n, units=20, activation='relu'))\n",
    "\n",
    "# 출력 레이어를 만든다.\n",
    "# 분류 신경망은 구분해야 할 클래스 개수만큼 units 속성을 지정해야 했지만 회귀 신경망은 1건을\n",
    "# 예측만 하기 때문에 units 속성값을 1로 지정하면 된다.\n",
    "# 분류 문제를 풀 때는 최종 활성화 함수로 'softmax'를 사용했지만 회귀 문제를 풀때는 최종 활성화\n",
    "# 함수로 항등(선형) 함수를 사용해야 하는데 코드 상에서 최종 활성화 함수를 지정하지 않으면\n",
    "# 항등 함수가 기본값으로 적용된다.\n",
    "model.add(Dense(units=1))\n",
    "model.summary() # 신경망 모델의 구조를 확인한다."
   ]
  },
  {
   "cell_type": "markdown",
   "id": "8096f303",
   "metadata": {},
   "source": [
    "회귀 신경망 모델 컴파일"
   ]
  },
  {
   "cell_type": "code",
   "execution_count": 6,
   "id": "8db0c123",
   "metadata": {},
   "outputs": [],
   "source": [
    "# compile() 메소드로 생성한 신경망 모델을 컴파일 한다.\n",
    "# 회귀 신경망은 loss 속성에 손실(비용, 오차) 함수를 지정할 때 'mean_squared_error'를 지정한다.\n",
    "# optimizer 속성에 최적화 함수(일반적으로 adam)를 지정한다.\n",
    "# metrics 속성에 평가 기준을 지정한다.\n",
    "model.compile(loss='mean_squared_error', optimizer='adam', metrics=['mean_squared_error'])"
   ]
  },
  {
   "cell_type": "markdown",
   "id": "a768b5f9",
   "metadata": {},
   "source": [
    "회귀 신경망 모델 학습"
   ]
  },
  {
   "cell_type": "code",
   "execution_count": 7,
   "id": "474fb00d",
   "metadata": {},
   "outputs": [
    {
     "name": "stdout",
     "output_type": "stream",
     "text": [
      "Epoch 1/50\n",
      "76/76 [==============================] - 0s 840us/step - loss: 21655.9883 - mean_squared_error: 21655.9883\n",
      "Epoch 2/50\n",
      "76/76 [==============================] - 0s 880us/step - loss: 1620.0365 - mean_squared_error: 1620.0365\n",
      "Epoch 3/50\n",
      "76/76 [==============================] - 0s 813us/step - loss: 397.4615 - mean_squared_error: 397.4615\n",
      "Epoch 4/50\n",
      "76/76 [==============================] - 0s 880us/step - loss: 205.5918 - mean_squared_error: 205.5918\n",
      "Epoch 5/50\n",
      "76/76 [==============================] - 0s 842us/step - loss: 142.3159 - mean_squared_error: 142.3159\n",
      "Epoch 6/50\n",
      "76/76 [==============================] - 0s 828us/step - loss: 119.3864 - mean_squared_error: 119.3864\n",
      "Epoch 7/50\n",
      "76/76 [==============================] - 0s 878us/step - loss: 105.8624 - mean_squared_error: 105.8623\n",
      "Epoch 8/50\n",
      "76/76 [==============================] - 0s 923us/step - loss: 97.2276 - mean_squared_error: 97.2276\n",
      "Epoch 9/50\n",
      "76/76 [==============================] - 0s 867us/step - loss: 87.0372 - mean_squared_error: 87.0372\n",
      "Epoch 10/50\n",
      "76/76 [==============================] - 0s 845us/step - loss: 79.8387 - mean_squared_error: 79.8387\n",
      "Epoch 11/50\n",
      "76/76 [==============================] - 0s 847us/step - loss: 72.9740 - mean_squared_error: 72.9740\n",
      "Epoch 12/50\n",
      "76/76 [==============================] - 0s 947us/step - loss: 66.7304 - mean_squared_error: 66.7304\n",
      "Epoch 13/50\n",
      "76/76 [==============================] - 0s 828us/step - loss: 62.6622 - mean_squared_error: 62.6622\n",
      "Epoch 14/50\n",
      "76/76 [==============================] - 0s 868us/step - loss: 57.7330 - mean_squared_error: 57.7330\n",
      "Epoch 15/50\n",
      "76/76 [==============================] - 0s 880us/step - loss: 53.6751 - mean_squared_error: 53.6751\n",
      "Epoch 16/50\n",
      "76/76 [==============================] - 0s 868us/step - loss: 51.0416 - mean_squared_error: 51.0416\n",
      "Epoch 17/50\n",
      "76/76 [==============================] - 0s 1ms/step - loss: 48.7758 - mean_squared_error: 48.7758\n",
      "Epoch 18/50\n",
      "76/76 [==============================] - 0s 815us/step - loss: 46.6738 - mean_squared_error: 46.6738\n",
      "Epoch 19/50\n",
      "76/76 [==============================] - 0s 890us/step - loss: 45.3228 - mean_squared_error: 45.3228\n",
      "Epoch 20/50\n",
      "76/76 [==============================] - 0s 854us/step - loss: 43.8627 - mean_squared_error: 43.8627\n",
      "Epoch 21/50\n",
      "76/76 [==============================] - 0s 808us/step - loss: 43.2615 - mean_squared_error: 43.2615\n",
      "Epoch 22/50\n",
      "76/76 [==============================] - 0s 854us/step - loss: 41.3626 - mean_squared_error: 41.3626\n",
      "Epoch 23/50\n",
      "76/76 [==============================] - 0s 934us/step - loss: 41.2398 - mean_squared_error: 41.2398\n",
      "Epoch 24/50\n",
      "76/76 [==============================] - 0s 858us/step - loss: 40.0043 - mean_squared_error: 40.0043\n",
      "Epoch 25/50\n",
      "76/76 [==============================] - 0s 825us/step - loss: 40.0481 - mean_squared_error: 40.0481\n",
      "Epoch 26/50\n",
      "76/76 [==============================] - 0s 894us/step - loss: 40.1111 - mean_squared_error: 40.1111\n",
      "Epoch 27/50\n",
      "76/76 [==============================] - 0s 853us/step - loss: 38.5586 - mean_squared_error: 38.5586\n",
      "Epoch 28/50\n",
      "76/76 [==============================] - 0s 827us/step - loss: 38.5356 - mean_squared_error: 38.5356\n",
      "Epoch 29/50\n",
      "76/76 [==============================] - 0s 800us/step - loss: 38.6289 - mean_squared_error: 38.6289\n",
      "Epoch 30/50\n",
      "76/76 [==============================] - 0s 811us/step - loss: 37.9884 - mean_squared_error: 37.9884\n",
      "Epoch 31/50\n",
      "76/76 [==============================] - 0s 920us/step - loss: 39.5411 - mean_squared_error: 39.5411\n",
      "Epoch 32/50\n",
      "76/76 [==============================] - 0s 827us/step - loss: 37.1719 - mean_squared_error: 37.1719\n",
      "Epoch 33/50\n",
      "76/76 [==============================] - 0s 814us/step - loss: 38.1473 - mean_squared_error: 38.1473\n",
      "Epoch 34/50\n",
      "76/76 [==============================] - 0s 854us/step - loss: 37.1812 - mean_squared_error: 37.1812\n",
      "Epoch 35/50\n",
      "76/76 [==============================] - 0s 832us/step - loss: 38.3430 - mean_squared_error: 38.3430\n",
      "Epoch 36/50\n",
      "76/76 [==============================] - 0s 873us/step - loss: 36.9302 - mean_squared_error: 36.9302\n",
      "Epoch 37/50\n",
      "76/76 [==============================] - 0s 814us/step - loss: 36.4189 - mean_squared_error: 36.4189\n",
      "Epoch 38/50\n",
      "76/76 [==============================] - 0s 827us/step - loss: 36.7784 - mean_squared_error: 36.7784\n",
      "Epoch 39/50\n",
      "76/76 [==============================] - 0s 826us/step - loss: 35.6853 - mean_squared_error: 35.6853\n",
      "Epoch 40/50\n",
      "76/76 [==============================] - 0s 854us/step - loss: 35.4798 - mean_squared_error: 35.4798\n",
      "Epoch 41/50\n",
      "76/76 [==============================] - 0s 881us/step - loss: 35.5633 - mean_squared_error: 35.5633\n",
      "Epoch 42/50\n",
      "76/76 [==============================] - 0s 854us/step - loss: 34.9308 - mean_squared_error: 34.9308\n",
      "Epoch 43/50\n",
      "76/76 [==============================] - 0s 827us/step - loss: 35.5190 - mean_squared_error: 35.5190\n",
      "Epoch 44/50\n",
      "76/76 [==============================] - 0s 825us/step - loss: 35.1384 - mean_squared_error: 35.1384\n",
      "Epoch 45/50\n",
      "76/76 [==============================] - 0s 839us/step - loss: 34.0534 - mean_squared_error: 34.0534\n",
      "Epoch 46/50\n",
      "76/76 [==============================] - 0s 800us/step - loss: 35.0412 - mean_squared_error: 35.0412\n",
      "Epoch 47/50\n",
      "76/76 [==============================] - 0s 774us/step - loss: 34.1781 - mean_squared_error: 34.1781\n",
      "Epoch 48/50\n",
      "76/76 [==============================] - 0s 1ms/step - loss: 35.7931 - mean_squared_error: 35.7931\n",
      "Epoch 49/50\n",
      "76/76 [==============================] - 0s 969us/step - loss: 33.0602 - mean_squared_error: 33.0602\n",
      "Epoch 50/50\n",
      "76/76 [==============================] - 0s 827us/step - loss: 34.2369 - mean_squared_error: 34.2369\n"
     ]
    }
   ],
   "source": [
    "# fit() 메소드의 인수로 학습 데이터와 원-핫 인코딩된 학습 데이터에 따른 레이블 및 epochs 속성에 학습 횟수,\n",
    "# batch_size 속성에 미니 배치 크기를 넘겨서 컴파일된 신경망 모델을 학습시킨다.\n",
    "history = model.fit(x_train, y_train, epochs=epochs, batch_size=5)"
   ]
  },
  {
   "cell_type": "code",
   "execution_count": 8,
   "id": "9bcaa1d7",
   "metadata": {},
   "outputs": [
    {
     "name": "stdout",
     "output_type": "stream",
     "text": [
      "34.23689270019531\n",
      "34.23689270019531\n"
     ]
    }
   ],
   "source": [
    "# 모델 epoch 단계별로 정확도와 오차 확인\n",
    "print(history.history['loss'][-1]) # 모델 실행 결과에서 오차만 얻어온다.\n",
    "print(history.history['mean_squared_error'][-1]) # 모델 실행 결과에서 평균 제곱 오차만 얻어온다."
   ]
  },
  {
   "cell_type": "code",
   "execution_count": 9,
   "id": "0c00ba00",
   "metadata": {},
   "outputs": [
    {
     "name": "stdout",
     "output_type": "stream",
     "text": [
      "4/4 [==============================] - 0s 1ms/step - loss: 45.8330 - mean_squared_error: 45.8330\n",
      "[45.83304214477539, 45.83304214477539]\n"
     ]
    }
   ],
   "source": [
    "# evaluate() 메소드로 테스트 데이터와 원-핫 인코딩된 테스트 데이터에 따른 레이블을 넘겨서\n",
    "# 학습된 신경망을 평가한다.\n",
    "print(model.evaluate(x_test, y_test))"
   ]
  },
  {
   "cell_type": "markdown",
   "id": "5abd8d2b",
   "metadata": {},
   "source": [
    "학습 결과 시각화"
   ]
  },
  {
   "cell_type": "code",
   "execution_count": 10,
   "id": "35f02a7f",
   "metadata": {},
   "outputs": [
    {
     "data": {
      "image/png": "[encoded data removed]",
      "text/plain": [
       "<Figure size 800x600 with 1 Axes>"
      ]
     },
     "metadata": {},
     "output_type": "display_data"
    }
   ],
   "source": [
    "# 평균 제곱 오차 시각화\n",
    "epoch = np.arange(1, epochs + 1)\n",
    "mse = history.history['mean_squared_error']\n",
    "\n",
    "plt.figure(figsize=(8, 6))\n",
    "plt.plot(epoch, mse, 'ro-', label='mean squared error')\n",
    "plt.title('평균 제곱 오차')\n",
    "plt.xlabel('epoch')\n",
    "plt.ylabel('mean squared error')\n",
    "plt.legend()\n",
    "plt.show()\n",
    "# 평균 제곱 오차 시각화 결과 에포크 진행 단계별로 전반적인 오차가 하락하는 것을 볼 수 있다."
   ]
  },
  {
   "cell_type": "code",
   "execution_count": 11,
   "id": "248a8816",
   "metadata": {},
   "outputs": [
    {
     "data": {
      "text/html": [
       "<div>\n",
       "<style scoped>\n",
       "    .dataframe tbody tr th:only-of-type {\n",
       "        vertical-align: middle;\n",
       "    }\n",
       "\n",
       "    .dataframe tbody tr th {\n",
       "        vertical-align: top;\n",
       "    }\n",
       "\n",
       "    .dataframe thead th {\n",
       "        text-align: right;\n",
       "    }\n",
       "</style>\n",
       "<table border=\"1\" class=\"dataframe\">\n",
       "  <thead>\n",
       "    <tr style=\"text-align: right;\">\n",
       "      <th></th>\n",
       "      <th>real_value</th>\n",
       "    </tr>\n",
       "  </thead>\n",
       "  <tbody>\n",
       "    <tr>\n",
       "      <th>0</th>\n",
       "      <td>22.6</td>\n",
       "    </tr>\n",
       "    <tr>\n",
       "      <th>1</th>\n",
       "      <td>50.0</td>\n",
       "    </tr>\n",
       "    <tr>\n",
       "      <th>2</th>\n",
       "      <td>23.0</td>\n",
       "    </tr>\n",
       "    <tr>\n",
       "      <th>3</th>\n",
       "      <td>8.3</td>\n",
       "    </tr>\n",
       "    <tr>\n",
       "      <th>4</th>\n",
       "      <td>21.2</td>\n",
       "    </tr>\n",
       "    <tr>\n",
       "      <th>...</th>\n",
       "      <td>...</td>\n",
       "    </tr>\n",
       "    <tr>\n",
       "      <th>122</th>\n",
       "      <td>19.4</td>\n",
       "    </tr>\n",
       "    <tr>\n",
       "      <th>123</th>\n",
       "      <td>21.2</td>\n",
       "    </tr>\n",
       "    <tr>\n",
       "      <th>124</th>\n",
       "      <td>20.3</td>\n",
       "    </tr>\n",
       "    <tr>\n",
       "      <th>125</th>\n",
       "      <td>18.8</td>\n",
       "    </tr>\n",
       "    <tr>\n",
       "      <th>126</th>\n",
       "      <td>33.4</td>\n",
       "    </tr>\n",
       "  </tbody>\n",
       "</table>\n",
       "<p>127 rows × 1 columns</p>\n",
       "</div>"
      ],
      "text/plain": [
       "     real_value\n",
       "0          22.6\n",
       "1          50.0\n",
       "2          23.0\n",
       "3           8.3\n",
       "4          21.2\n",
       "..          ...\n",
       "122        19.4\n",
       "123        21.2\n",
       "124        20.3\n",
       "125        18.8\n",
       "126        33.4\n",
       "\n",
       "[127 rows x 1 columns]"
      ]
     },
     "execution_count": 11,
     "metadata": {},
     "output_type": "execute_result"
    }
   ],
   "source": [
    "# 테스트 데이터의 실제값(레이블)을 기억하는 데이터프레임 만든다.\n",
    "result_df = pd.DataFrame(y_test, columns=['real_value'])\n",
    "result_df"
   ]
  },
  {
   "cell_type": "code",
   "execution_count": 17,
   "id": "2a22f1fe",
   "metadata": {
    "scrolled": true
   },
   "outputs": [
    {
     "name": "stdout",
     "output_type": "stream",
     "text": [
      "4/4 [==============================] - 0s 1ms/step\n",
      "<class 'numpy.ndarray'> (127, 1)\n",
      "[[21.609253 ]\n",
      " [23.672058 ]\n",
      " [26.726156 ]\n",
      " [14.3790865]\n",
      " [18.38813  ]\n",
      " [21.78362  ]\n",
      " [20.629395 ]\n",
      " [25.111088 ]\n",
      " [14.0025625]\n",
      " [ 7.578227 ]\n",
      " [ 5.3750505]\n",
      " [13.763146 ]\n",
      " [17.488579 ]\n",
      " [ 8.8386545]\n",
      " [34.162556 ]\n",
      " [25.26889  ]\n",
      " [21.241306 ]\n",
      " [35.475315 ]\n",
      " [28.594057 ]\n",
      " [26.034658 ]\n",
      " [24.4838   ]\n",
      " [22.117638 ]\n",
      " [23.575653 ]\n",
      " [29.96887  ]\n",
      " [26.652775 ]\n",
      " [19.208908 ]\n",
      " [22.707457 ]\n",
      " [12.8455515]\n",
      " [31.252882 ]\n",
      " [24.745024 ]\n",
      " [17.135902 ]\n",
      " [19.316437 ]\n",
      " [24.12698  ]\n",
      " [24.487976 ]\n",
      " [29.414703 ]\n",
      " [20.970573 ]\n",
      " [ 9.639241 ]\n",
      " [24.818504 ]\n",
      " [16.822617 ]\n",
      " [13.03325  ]\n",
      " [24.493748 ]\n",
      " [24.117409 ]\n",
      " [20.00877  ]\n",
      " [17.088558 ]\n",
      " [26.746647 ]\n",
      " [26.20974  ]\n",
      " [16.043997 ]\n",
      " [19.09986  ]\n",
      " [14.269336 ]\n",
      " [26.308067 ]\n",
      " [ 5.036481 ]\n",
      " [14.769908 ]\n",
      " [22.163227 ]\n",
      " [25.13512  ]\n",
      " [ 8.633405 ]\n",
      " [16.918139 ]\n",
      " [23.176908 ]\n",
      " [17.113873 ]\n",
      " [ 9.72598  ]\n",
      " [21.887177 ]\n",
      " [23.109394 ]\n",
      " [19.922852 ]\n",
      " [25.982027 ]\n",
      " [26.375217 ]\n",
      " [17.596416 ]\n",
      " [28.560802 ]\n",
      " [17.738598 ]\n",
      " [21.255898 ]\n",
      " [14.696523 ]\n",
      " [25.39272  ]\n",
      " [21.180357 ]\n",
      " [19.44935  ]\n",
      " [32.566895 ]\n",
      " [27.135956 ]\n",
      " [23.634617 ]\n",
      " [ 6.132104 ]\n",
      " [28.083317 ]\n",
      " [21.77295  ]\n",
      " [27.448278 ]\n",
      " [22.041939 ]\n",
      " [24.799225 ]\n",
      " [21.92043  ]\n",
      " [21.314144 ]\n",
      " [29.94282  ]\n",
      " [30.014025 ]\n",
      " [27.141617 ]\n",
      " [24.79528  ]\n",
      " [13.483808 ]\n",
      " [27.588074 ]\n",
      " [16.827312 ]\n",
      " [24.640339 ]\n",
      " [11.826089 ]\n",
      " [30.526558 ]\n",
      " [31.188726 ]\n",
      " [25.680164 ]\n",
      " [19.441566 ]\n",
      " [ 3.1181917]\n",
      " [32.436337 ]\n",
      " [17.304462 ]\n",
      " [21.49845  ]\n",
      " [23.260538 ]\n",
      " [26.997925 ]\n",
      " [29.075047 ]\n",
      " [19.223276 ]\n",
      " [23.413202 ]\n",
      " [23.549511 ]\n",
      " [ 7.8343935]\n",
      " [20.550491 ]\n",
      " [24.907286 ]\n",
      " [21.762285 ]\n",
      " [29.143513 ]\n",
      " [11.80552  ]\n",
      " [22.97516  ]\n",
      " [17.794731 ]\n",
      " [15.079915 ]\n",
      " [17.882107 ]\n",
      " [ 5.9741488]\n",
      " [23.26139  ]\n",
      " [12.276292 ]\n",
      " [39.90489  ]\n",
      " [28.273453 ]\n",
      " [14.477536 ]\n",
      " [19.805744 ]\n",
      " [22.366568 ]\n",
      " [24.93715  ]\n",
      " [21.831276 ]\n",
      " [32.153927 ]]\n"
     ]
    }
   ],
   "source": [
    "# predict() 메소드에 테스트 데이터의 피쳐값을 넘겨 예측값을 계산한다.\n",
    "predict = model.predict(x_test)\n",
    "print(type(predict), predict.shape)\n",
    "# flatten() 메소드는 배열을 무조건 1차원 배열로 변환한다.\n",
    "# predict = model.predict(x_test).flatten()\n",
    "# print(type(predict), predict.shape)\n",
    "print(predict)"
   ]
  },
  {
   "cell_type": "code",
   "execution_count": 18,
   "id": "f48f1102",
   "metadata": {},
   "outputs": [
    {
     "data": {
      "text/html": [
       "<div>\n",
       "<style scoped>\n",
       "    .dataframe tbody tr th:only-of-type {\n",
       "        vertical-align: middle;\n",
       "    }\n",
       "\n",
       "    .dataframe tbody tr th {\n",
       "        vertical-align: top;\n",
       "    }\n",
       "\n",
       "    .dataframe thead th {\n",
       "        text-align: right;\n",
       "    }\n",
       "</style>\n",
       "<table border=\"1\" class=\"dataframe\">\n",
       "  <thead>\n",
       "    <tr style=\"text-align: right;\">\n",
       "      <th></th>\n",
       "      <th>real_value</th>\n",
       "      <th>predict_value</th>\n",
       "    </tr>\n",
       "  </thead>\n",
       "  <tbody>\n",
       "    <tr>\n",
       "      <th>0</th>\n",
       "      <td>22.6</td>\n",
       "      <td>21.609253</td>\n",
       "    </tr>\n",
       "    <tr>\n",
       "      <th>1</th>\n",
       "      <td>50.0</td>\n",
       "      <td>23.672058</td>\n",
       "    </tr>\n",
       "    <tr>\n",
       "      <th>2</th>\n",
       "      <td>23.0</td>\n",
       "      <td>26.726156</td>\n",
       "    </tr>\n",
       "    <tr>\n",
       "      <th>3</th>\n",
       "      <td>8.3</td>\n",
       "      <td>14.379086</td>\n",
       "    </tr>\n",
       "    <tr>\n",
       "      <th>4</th>\n",
       "      <td>21.2</td>\n",
       "      <td>18.388130</td>\n",
       "    </tr>\n",
       "    <tr>\n",
       "      <th>...</th>\n",
       "      <td>...</td>\n",
       "      <td>...</td>\n",
       "    </tr>\n",
       "    <tr>\n",
       "      <th>122</th>\n",
       "      <td>19.4</td>\n",
       "      <td>19.805744</td>\n",
       "    </tr>\n",
       "    <tr>\n",
       "      <th>123</th>\n",
       "      <td>21.2</td>\n",
       "      <td>22.366568</td>\n",
       "    </tr>\n",
       "    <tr>\n",
       "      <th>124</th>\n",
       "      <td>20.3</td>\n",
       "      <td>24.937149</td>\n",
       "    </tr>\n",
       "    <tr>\n",
       "      <th>125</th>\n",
       "      <td>18.8</td>\n",
       "      <td>21.831276</td>\n",
       "    </tr>\n",
       "    <tr>\n",
       "      <th>126</th>\n",
       "      <td>33.4</td>\n",
       "      <td>32.153927</td>\n",
       "    </tr>\n",
       "  </tbody>\n",
       "</table>\n",
       "<p>127 rows × 2 columns</p>\n",
       "</div>"
      ],
      "text/plain": [
       "     real_value  predict_value\n",
       "0          22.6      21.609253\n",
       "1          50.0      23.672058\n",
       "2          23.0      26.726156\n",
       "3           8.3      14.379086\n",
       "4          21.2      18.388130\n",
       "..          ...            ...\n",
       "122        19.4      19.805744\n",
       "123        21.2      22.366568\n",
       "124        20.3      24.937149\n",
       "125        18.8      21.831276\n",
       "126        33.4      32.153927\n",
       "\n",
       "[127 rows x 2 columns]"
      ]
     },
     "execution_count": 18,
     "metadata": {},
     "output_type": "execute_result"
    }
   ],
   "source": [
    "# 데이터프레임에 예측값을 파생 변수로 추가한다.\n",
    "result_df['predict_value'] = predict\n",
    "result_df"
   ]
  },
  {
   "cell_type": "code",
   "execution_count": 22,
   "id": "46816a75",
   "metadata": {},
   "outputs": [
    {
     "data": {
      "image/png": "[encoded data removed]",
      "text/plain": [
       "<Figure size 800x600 with 1 Axes>"
      ]
     },
     "metadata": {},
     "output_type": "display_data"
    }
   ],
   "source": [
    "# 테스트 데이터의 레이블(실제값)과 예측값 시각화\n",
    "plt.figure(figsize=(8, 6))\n",
    "idx = np.arange(1, len(result_df) + 1)\n",
    "plt.plot(idx, result_df.real_value, 'bo', label='실제값')\n",
    "plt.plot(idx, result_df.predict_value, 'r-', label='예측값')\n",
    "plt.title('실제값과 예측값 시각화')\n",
    "plt.xlabel('index')\n",
    "plt.ylabel('value')\n",
    "plt.legend()\n",
    "plt.show()"
   ]
  },
  {
   "cell_type": "code",
   "execution_count": 23,
   "id": "0965e5b0",
   "metadata": {},
   "outputs": [
    {
     "data": {
      "text/html": [
       "<div>\n",
       "<style scoped>\n",
       "    .dataframe tbody tr th:only-of-type {\n",
       "        vertical-align: middle;\n",
       "    }\n",
       "\n",
       "    .dataframe tbody tr th {\n",
       "        vertical-align: top;\n",
       "    }\n",
       "\n",
       "    .dataframe thead th {\n",
       "        text-align: right;\n",
       "    }\n",
       "</style>\n",
       "<table border=\"1\" class=\"dataframe\">\n",
       "  <thead>\n",
       "    <tr style=\"text-align: right;\">\n",
       "      <th></th>\n",
       "      <th>real_value</th>\n",
       "      <th>predict_value</th>\n",
       "    </tr>\n",
       "  </thead>\n",
       "  <tbody>\n",
       "    <tr>\n",
       "      <th>96</th>\n",
       "      <td>13.8</td>\n",
       "      <td>3.118192</td>\n",
       "    </tr>\n",
       "    <tr>\n",
       "      <th>50</th>\n",
       "      <td>15.6</td>\n",
       "      <td>5.036481</td>\n",
       "    </tr>\n",
       "    <tr>\n",
       "      <th>10</th>\n",
       "      <td>8.8</td>\n",
       "      <td>5.375051</td>\n",
       "    </tr>\n",
       "    <tr>\n",
       "      <th>116</th>\n",
       "      <td>8.4</td>\n",
       "      <td>5.974149</td>\n",
       "    </tr>\n",
       "    <tr>\n",
       "      <th>75</th>\n",
       "      <td>7.4</td>\n",
       "      <td>6.132104</td>\n",
       "    </tr>\n",
       "    <tr>\n",
       "      <th>...</th>\n",
       "      <td>...</td>\n",
       "      <td>...</td>\n",
       "    </tr>\n",
       "    <tr>\n",
       "      <th>97</th>\n",
       "      <td>24.7</td>\n",
       "      <td>32.436337</td>\n",
       "    </tr>\n",
       "    <tr>\n",
       "      <th>72</th>\n",
       "      <td>23.5</td>\n",
       "      <td>32.566895</td>\n",
       "    </tr>\n",
       "    <tr>\n",
       "      <th>14</th>\n",
       "      <td>50.0</td>\n",
       "      <td>34.162556</td>\n",
       "    </tr>\n",
       "    <tr>\n",
       "      <th>17</th>\n",
       "      <td>33.3</td>\n",
       "      <td>35.475315</td>\n",
       "    </tr>\n",
       "    <tr>\n",
       "      <th>119</th>\n",
       "      <td>50.0</td>\n",
       "      <td>39.904888</td>\n",
       "    </tr>\n",
       "  </tbody>\n",
       "</table>\n",
       "<p>127 rows × 2 columns</p>\n",
       "</div>"
      ],
      "text/plain": [
       "     real_value  predict_value\n",
       "96         13.8       3.118192\n",
       "50         15.6       5.036481\n",
       "10          8.8       5.375051\n",
       "116         8.4       5.974149\n",
       "75          7.4       6.132104\n",
       "..          ...            ...\n",
       "97         24.7      32.436337\n",
       "72         23.5      32.566895\n",
       "14         50.0      34.162556\n",
       "17         33.3      35.475315\n",
       "119        50.0      39.904888\n",
       "\n",
       "[127 rows x 2 columns]"
      ]
     },
     "execution_count": 23,
     "metadata": {},
     "output_type": "execute_result"
    }
   ],
   "source": [
    "# 예측값을 기준으로 데이터프레임을 오름차순 정렬한다.\n",
    "df_sort = result_df.sort_values(['predict_value'], ascending=True)\n",
    "df_sort"
   ]
  },
  {
   "cell_type": "code",
   "execution_count": 28,
   "id": "6d4152c9",
   "metadata": {},
   "outputs": [
    {
     "data": {
      "image/png": "[encoded data removed]",
      "text/plain": [
       "<Figure size 800x600 with 1 Axes>"
      ]
     },
     "metadata": {},
     "output_type": "display_data"
    }
   ],
   "source": [
    "plt.figure(figsize=(8, 6))\n",
    "idx = np.arange(1, len(df_sort) + 1)\n",
    "plt.plot(idx, df_sort.real_value, 'bo', label='실제값')\n",
    "plt.plot(idx, df_sort.predict_value, 'r-', label='예측값')\n",
    "plt.title('실제값과 예측값 시각화')\n",
    "plt.xlabel('index')\n",
    "plt.ylabel('value')\n",
    "plt.legend()\n",
    "plt.show()"
   ]
  },
  {
   "cell_type": "code",
   "execution_count": null,
   "id": "813bdfff",
   "metadata": {},
   "outputs": [],
   "source": []
  },
  {
   "cell_type": "code",
   "execution_count": null,
   "id": "a55cd28d",
   "metadata": {},
   "outputs": [],
   "source": []
  }
 ],
 "metadata": {
  "kernelspec": {
   "display_name": "python37",
   "language": "python",
   "name": "python37"
  },
  "language_info": {
   "codemirror_mode": {
    "name": "ipython",
    "version": 3
   },
   "file_extension": ".py",
   "mimetype": "text/x-python",
   "name": "python",
   "nbconvert_exporter": "python",
   "pygments_lexer": "ipython3",
   "version": "3.7.1"
  }
 },
 "nbformat": 4,
 "nbformat_minor": 5
}
