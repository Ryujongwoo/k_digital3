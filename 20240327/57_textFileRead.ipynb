{
 "cells": [
  {
   "cell_type": "code",
   "execution_count": 17,
   "id": "fb88a852",
   "metadata": {
    "scrolled": false
   },
   "outputs": [
    {
     "name": "stdout",
     "output_type": "stream",
     "text": [
      "jklfdjklfdjkldfs\n",
      "fdsjklfsdjkllfds\n",
      "fsdjklfsdjkljkldfs\n",
      "]ewrjfdjkjkdfs\n",
      "ㅓㄴㅇ러ㅏㅣㄹㄴ어ㅏㅓㅏㅣㄹㅇㄴ\n",
      "ㄹ너ㅏㅣㄹㄴ어ㅏㅣㅓㅣㅏㄹㅇㄴ\n",
      "]ㄹ어ㅏㅣㄹㄴ어ㅏㅣㅓㅏㄹㄴㅇ\n",
      "ㄹㄴ어ㅣㅏㄹ어ㅏㅣㅓㅏㅣㄹㄴㅇㄴㅇ\n",
      "\n",
      "data5.txt 파일에 읽기 완료\n"
     ]
    }
   ],
   "source": [
    "# 텍스트 파일을 읽기용으로 open 할 때는 디스크에 파일이 없을 수 있으므로 try ~ except를 사용해서 오류 처리를 한다.\n",
    "try:\n",
    "    file = open('./data/data5.txt', 'r')\n",
    "    # 텍스트 파일에 저장된 데이터가 몇 줄인지 알 수 없으므로 무한 루프를 돌려서 읽는다.\n",
    "    while True:\n",
    "        char = file.read() # 텍스트 파일에 저장된 데이터를 문자 단위로 읽어온다.\n",
    "        if char == '': # 텍스트 파일에서 읽어들인 문자가 없으면\n",
    "            break\n",
    "        print(char)\n",
    "    # ===== while\n",
    "    # file.close() # 'r' 모드로 open 한 경우 close() 메소드를 실행하지 않아도 상관없다.\n",
    "    print('data5.txt 파일에 읽기 완료')\n",
    "except FileNotFoundError:\n",
    "    print('디스크에 파일이 없습니다.')"
   ]
  },
  {
   "cell_type": "code",
   "execution_count": 27,
   "id": "1875acea",
   "metadata": {},
   "outputs": [
    {
     "name": "stdout",
     "output_type": "stream",
     "text": [
      "data5.txt 파일에 읽기 완료\n",
      "['jklfdjklfdjkldfs', 'fdsjklfsdjkllfds', 'fsdjklfsdjkljkldfs', ']ewrjfdjkjkdfs', 'ㅓㄴㅇ러ㅏㅣㄹㄴ어ㅏㅓㅏㅣㄹㅇㄴ', 'ㄹ너ㅏㅣㄹㄴ어ㅏㅣㅓㅣㅏㄹㅇㄴ', ']ㄹ어ㅏㅣㄹㄴ어ㅏㅣㅓㅏㄹㄴㅇ', 'ㄹㄴ어ㅣㅏㄹ어ㅏㅣㅓㅏㅣㄹㄴㅇㄴㅇ']\n"
     ]
    }
   ],
   "source": [
    "try:\n",
    "    file = open('./data/data5.txt', 'r')\n",
    "    lines = [] # 텍스트 파일을 데이터를 읽어 저장할 빈 리스트를 선언한다.\n",
    "    while True:\n",
    "        line = file.readline() # 텍스트 파일에 저장된 데이터를 줄 단위로 읽어온다.\n",
    "        if not line: # 텍스트 파일에서 읽어들인 데이터가 없으면\n",
    "            break\n",
    "        # print(line, end='')\n",
    "        # print(line.strip())\n",
    "        # readline() 메소드로 데이터를 읽어들인 후 strip() 메소드로 문자열 앞, 뒤의 불필요한 공백을 제거하는 것이 좋다.\n",
    "        line = line.strip()\n",
    "        # readline() 메소드로 읽어들인 데이터가 모두 공백이면 저장할 필요가 없다.\n",
    "        if len(line) != 0:\n",
    "            lines.append(line)\n",
    "    # ===== while\n",
    "    print('data5.txt 파일에 읽기 완료')\n",
    "except FileNotFoundError:\n",
    "    print('디스크에 파일이 없습니다.')\n",
    "print(lines)"
   ]
  },
  {
   "cell_type": "code",
   "execution_count": 34,
   "id": "924bd4dd",
   "metadata": {},
   "outputs": [
    {
     "name": "stdout",
     "output_type": "stream",
     "text": [
      "data5.txt 파일에 읽기 완료\n",
      "['jklfdjklfdjkldfs', 'fdsjklfsdjkllfds', 'fsdjklfsdjkljkldfs', ']ewrjfdjkjkdfs', 'ㅓㄴㅇ러ㅏㅣㄹㄴ어ㅏㅓㅏㅣㄹㅇㄴ', 'ㄹ너ㅏㅣㄹㄴ어ㅏㅣㅓㅣㅏㄹㅇㄴ', ']ㄹ어ㅏㅣㄹㄴ어ㅏㅣㅓㅏㄹㄴㅇ', 'ㄹㄴ어ㅣㅏㄹ어ㅏㅣㅓㅏㅣㄹㄴㅇㄴㅇ']\n"
     ]
    }
   ],
   "source": [
    "try:\n",
    "    with open('./data/data5.txt', 'r') as file:\n",
    "        lines = []\n",
    "        while True:\n",
    "            line = file.readline()\n",
    "            if not line:\n",
    "                break\n",
    "            line = line.strip()\n",
    "            if len(line) != 0:\n",
    "                lines.append(line)\n",
    "        print('data5.txt 파일에 읽기 완료')\n",
    "except FileNotFoundError:\n",
    "    print('디스크에 파일이 없습니다.')\n",
    "print(lines)"
   ]
  },
  {
   "cell_type": "code",
   "execution_count": 57,
   "id": "dbe12378",
   "metadata": {},
   "outputs": [
    {
     "name": "stdout",
     "output_type": "stream",
     "text": [
      "<class 'list'>\n",
      "data5.txt 파일에 읽기 완료\n",
      "['jklfdjklfdjkldfs\\n', 'fdsjklfsdjkllfds\\n', 'fsdjklfsdjkljkldfs\\n', ']ewrjfdjkjkdfs\\n', 'ㅓㄴㅇ러ㅏㅣㄹㄴ어ㅏㅓㅏㅣㄹㅇㄴ\\n', 'ㄹ너ㅏㅣㄹㄴ어ㅏㅣㅓㅣㅏㄹㅇㄴ\\n', ']ㄹ어ㅏㅣㄹㄴ어ㅏㅣㅓㅏㄹㄴㅇ\\n', 'ㄹㄴ어ㅣㅏㄹ어ㅏㅣㅓㅏㅣㄹㄴㅇㄴㅇ\\n']\n"
     ]
    }
   ],
   "source": [
    "try:\n",
    "    file = open('./data/data5.txt', 'r')\n",
    "    # readlines() 메소드는 텍스트 파일 전체 데이터를 한꺼번에 읽어서 리스트로 리턴한다.\n",
    "    lines = file.readlines()\n",
    "    print(type(lines)) # <class 'list'>\n",
    "    print('data5.txt 파일에 읽기 완료')\n",
    "except FileNotFoundError:\n",
    "    print('디스크에 파일이 없습니다.')\n",
    "print(lines)    "
   ]
  },
  {
   "cell_type": "code",
   "execution_count": 61,
   "id": "36e50ef0",
   "metadata": {},
   "outputs": [
    {
     "ename": "UnicodeDecodeError",
     "evalue": "'utf-8' codec can't decode byte 0xa4 in position 72: invalid start byte",
     "output_type": "error",
     "traceback": [
      "\u001b[1;31m---------------------------------------------------------------------------\u001b[0m",
      "\u001b[1;31mUnicodeDecodeError\u001b[0m                        Traceback (most recent call last)",
      "\u001b[1;32m<ipython-input-61-af230a74f5cc>\u001b[0m in \u001b[0;36m<module>\u001b[1;34m\u001b[0m\n\u001b[0;32m      1\u001b[0m \u001b[1;32mtry\u001b[0m\u001b[1;33m:\u001b[0m\u001b[1;33m\u001b[0m\u001b[1;33m\u001b[0m\u001b[0m\n\u001b[0;32m      2\u001b[0m     \u001b[0mfile\u001b[0m \u001b[1;33m=\u001b[0m \u001b[0mopen\u001b[0m\u001b[1;33m(\u001b[0m\u001b[1;34m'./data/data5.txt'\u001b[0m\u001b[1;33m,\u001b[0m \u001b[1;34m'r'\u001b[0m\u001b[1;33m,\u001b[0m \u001b[1;32mTrue\u001b[0m\u001b[1;33m,\u001b[0m \u001b[1;34m'utf-8'\u001b[0m\u001b[1;33m)\u001b[0m\u001b[1;33m\u001b[0m\u001b[1;33m\u001b[0m\u001b[0m\n\u001b[1;32m----> 3\u001b[1;33m     \u001b[0mlines\u001b[0m \u001b[1;33m=\u001b[0m \u001b[0mfile\u001b[0m\u001b[1;33m.\u001b[0m\u001b[0mreadlines\u001b[0m\u001b[1;33m(\u001b[0m\u001b[1;33m)\u001b[0m\u001b[1;33m\u001b[0m\u001b[1;33m\u001b[0m\u001b[0m\n\u001b[0m\u001b[0;32m      4\u001b[0m     \u001b[0mprint\u001b[0m\u001b[1;33m(\u001b[0m\u001b[0mtype\u001b[0m\u001b[1;33m(\u001b[0m\u001b[0mlines\u001b[0m\u001b[1;33m)\u001b[0m\u001b[1;33m)\u001b[0m \u001b[1;31m# <class 'list'>\u001b[0m\u001b[1;33m\u001b[0m\u001b[1;33m\u001b[0m\u001b[0m\n\u001b[0;32m      5\u001b[0m     \u001b[0mprint\u001b[0m\u001b[1;33m(\u001b[0m\u001b[1;34m'data5.txt 파일에 읽기 완료'\u001b[0m\u001b[1;33m)\u001b[0m\u001b[1;33m\u001b[0m\u001b[1;33m\u001b[0m\u001b[0m\n",
      "\u001b[1;32mc:\\python\\lib\\codecs.py\u001b[0m in \u001b[0;36mdecode\u001b[1;34m(self, input, final)\u001b[0m\n\u001b[0;32m    319\u001b[0m         \u001b[1;31m# decode input (taking the buffer into account)\u001b[0m\u001b[1;33m\u001b[0m\u001b[1;33m\u001b[0m\u001b[1;33m\u001b[0m\u001b[0m\n\u001b[0;32m    320\u001b[0m         \u001b[0mdata\u001b[0m \u001b[1;33m=\u001b[0m \u001b[0mself\u001b[0m\u001b[1;33m.\u001b[0m\u001b[0mbuffer\u001b[0m \u001b[1;33m+\u001b[0m \u001b[0minput\u001b[0m\u001b[1;33m\u001b[0m\u001b[1;33m\u001b[0m\u001b[0m\n\u001b[1;32m--> 321\u001b[1;33m         \u001b[1;33m(\u001b[0m\u001b[0mresult\u001b[0m\u001b[1;33m,\u001b[0m \u001b[0mconsumed\u001b[0m\u001b[1;33m)\u001b[0m \u001b[1;33m=\u001b[0m \u001b[0mself\u001b[0m\u001b[1;33m.\u001b[0m\u001b[0m_buffer_decode\u001b[0m\u001b[1;33m(\u001b[0m\u001b[0mdata\u001b[0m\u001b[1;33m,\u001b[0m \u001b[0mself\u001b[0m\u001b[1;33m.\u001b[0m\u001b[0merrors\u001b[0m\u001b[1;33m,\u001b[0m \u001b[0mfinal\u001b[0m\u001b[1;33m)\u001b[0m\u001b[1;33m\u001b[0m\u001b[1;33m\u001b[0m\u001b[0m\n\u001b[0m\u001b[0;32m    322\u001b[0m         \u001b[1;31m# keep undecoded input until the next call\u001b[0m\u001b[1;33m\u001b[0m\u001b[1;33m\u001b[0m\u001b[1;33m\u001b[0m\u001b[0m\n\u001b[0;32m    323\u001b[0m         \u001b[0mself\u001b[0m\u001b[1;33m.\u001b[0m\u001b[0mbuffer\u001b[0m \u001b[1;33m=\u001b[0m \u001b[0mdata\u001b[0m\u001b[1;33m[\u001b[0m\u001b[0mconsumed\u001b[0m\u001b[1;33m:\u001b[0m\u001b[1;33m]\u001b[0m\u001b[1;33m\u001b[0m\u001b[1;33m\u001b[0m\u001b[0m\n",
      "\u001b[1;31mUnicodeDecodeError\u001b[0m: 'utf-8' codec can't decode byte 0xa4 in position 72: invalid start byte"
     ]
    }
   ],
   "source": [
    "try:\n",
    "    file = open('./data/data5.txt', 'r', True, 'utf-8')\n",
    "    lines = file.readlines()\n",
    "    print(type(lines)) # <class 'list'>\n",
    "    print('data5.txt 파일에 읽기 완료')\n",
    "except FileNotFoundError:\n",
    "    print('디스크에 파일이 없습니다.')\n",
    "print(lines)  "
   ]
  },
  {
   "cell_type": "code",
   "execution_count": null,
   "id": "a128146a",
   "metadata": {},
   "outputs": [],
   "source": []
  }
 ],
 "metadata": {
  "kernelspec": {
   "display_name": "Python 3",
   "language": "python",
   "name": "python3"
  },
  "language_info": {
   "codemirror_mode": {
    "name": "ipython",
    "version": 3
   },
   "file_extension": ".py",
   "mimetype": "text/x-python",
   "name": "python",
   "nbconvert_exporter": "python",
   "pygments_lexer": "ipython3",
   "version": "3.6.8"
  }
 },
 "nbformat": 4,
 "nbformat_minor": 5
}
