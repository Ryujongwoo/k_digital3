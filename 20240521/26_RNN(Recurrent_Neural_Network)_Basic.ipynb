{
 "cells": [
  {
   "cell_type": "code",
   "execution_count": 1,
   "id": "03973bd6",
   "metadata": {},
   "outputs": [
    {
     "name": "stdout",
     "output_type": "stream",
     "text": [
      "WARNING:tensorflow:From C:\\anaconda3\\envs\\python37\\lib\\site-packages\\tensorflow\\python\\compat\\v2_compat.py:107: disable_resource_variables (from tensorflow.python.ops.variable_scope) is deprecated and will be removed in a future version.\n",
      "Instructions for updating:\n",
      "non-resource variables are not supported in the long term\n"
     ]
    }
   ],
   "source": [
    "import warnings\n",
    "warnings.filterwarnings(action='ignore')\n",
    "%config Completer.use_jedi = False\n",
    "import tensorflow.compat.v1 as tf\n",
    "tf.disable_v2_behavior()\n",
    "import numpy as np"
   ]
  },
  {
   "cell_type": "markdown",
   "id": "4b232da6",
   "metadata": {},
   "source": [
    "RNN(Recurrent_Neural_Network) - 순환 신경망\n",
    "\n",
    "RNN은 순차적인 데이터를 입력받아 결과값을 도출하는데 사용하는 딥러닝 모델로 자연어 처리에 상당히 많이 사용되고 이전에 입력된 값들을 고려해서 현재 입력값의 출력값을 결정하는 딥러닝 모델이다.\n",
    "\n",
    "x는 입력값, y는 출력값, 활성화 함수(tanh)를 거친 값은 상태(출력)을 의미한다. 네모 박스는 셀이라 하며 셀 안에서 현재 셀의 입력값과 과거 셀의 상태값을 사용해 현재 셀의 상태(출력)값을 계산한다.  \n",
    "현재 셀의 상태값은 현재 셀의 출력값과 동일하며 다음 셀의 이전 상태값으로 사용된다.\n",
    "\n",
    "상태값을 결정하기 위해서는 다음 그림과 같이 두 가지의 가중치가 존재한다. 현재 셀의 상태값은 tanh(입력값 * W<sub>xh</sub> + 이전 셀의 상태값 * W<sub>hh</sub> + 편향값)으로 결정된다. 가중치와 편향값은 최초 무작위로 부여하고 학습 과정을 통해 가중치 및 편향값은 목적에 맞게 최적화 된다.\n",
    "\n",
    "<img src=\"./RNN.png\" align=\"left\" width=\"900\"/>"
   ]
  },
  {
   "cell_type": "markdown",
   "id": "b8657bab",
   "metadata": {},
   "source": [
    "tensorflow RNN 코드 구현"
   ]
  },
  {
   "cell_type": "code",
   "execution_count": 2,
   "id": "fbad76bf",
   "metadata": {},
   "outputs": [
    {
     "name": "stdout",
     "output_type": "stream",
     "text": [
      "입력 데이터: [[[1. 2.]]]\n",
      "RNN 셀의 개수: 4\n",
      "WARNING:tensorflow:From C:\\Users\\TJ\\AppData\\Local\\Temp\\ipykernel_8784\\459852790.py:18: dynamic_rnn (from tensorflow.python.ops.rnn) is deprecated and will be removed in a future version.\n",
      "Instructions for updating:\n",
      "Please use `keras.layers.RNN(cell)`, which is equivalent to this API\n",
      "WARNING:tensorflow:From C:\\anaconda3\\envs\\python37\\lib\\site-packages\\keras\\layers\\rnn\\legacy_cells.py:467: calling Zeros.__init__ (from tensorflow.python.ops.init_ops) with dtype is deprecated and will be removed in a future version.\n",
      "Instructions for updating:\n",
      "Call initializer instance with the dtype argument instead of passing it to the constructor\n",
      "================================================================================\n",
      "출력값: Tensor(\"rnn/transpose_1:0\", shape=(1, 1, 4), dtype=float32)\n",
      "최종 상태값: Tensor(\"rnn/while/Exit_3:0\", shape=(1, 4), dtype=float32)\n",
      "================================================================================\n",
      "가중치 개수와 편향값의 개수\n",
      "<tf.Variable 'rnn/basic_rnn_cell/kernel:0' shape=(6, 4) dtype=float32_ref>\n",
      "<tf.Variable 'rnn/basic_rnn_cell/bias:0' shape=(4,) dtype=float32_ref>\n"
     ]
    }
   ],
   "source": [
    "inputs = np.array([[[1, 2]]]) # 입력 데이터\n",
    "# print(inputs) # [[[1 2]]]\n",
    "# print(inputs.shape) # (1, 1, 2)\n",
    "# print(inputs.shape[0]) # 1\n",
    "tf.set_random_seed(35)\n",
    "\n",
    "tf_inputs = tf.constant(inputs, dtype=tf.float32)\n",
    "sess = tf.Session()\n",
    "print('입력 데이터: {}'.format(sess.run(tf_inputs)))\n",
    "\n",
    "# BasicRNNCell() 객체를 생성할 때 생성자의 인수 num_units로 RNN 셀의 개수를 지정해서 객체를 생성한다.\n",
    "rnn_cell = tf.nn.rnn_cell.BasicRNNCell(num_units=4)\n",
    "print('RNN 셀의 개수: {}'.format(rnn_cell.state_size))\n",
    "\n",
    "# dynamic_rnn() 메소드는 입력값과 RNN 셀을 받아서 실행 결과(출력값, 상태값)를 리턴한다.\n",
    "# dynamic_rnn(cell, dtype, inputs)\n",
    "# cell: 실행할 RNN 객체, dtype: 데이터 타입, inputs: RNN 셀에 입력되는 데이터\n",
    "outputs, state = tf.nn.dynamic_rnn(cell=rnn_cell, dtype=tf.float32, inputs=tf_inputs)\n",
    "print('=' * 80)\n",
    "print('출력값: {}'.format(outputs))\n",
    "print('최종 상태값: {}'.format(state))\n",
    "print('=' * 80)\n",
    "\n",
    "print('가중치 개수와 편향값의 개수')\n",
    "for v in tf.get_collection(tf.GraphKeys.TRAINABLE_VARIABLES):\n",
    "    print(v)"
   ]
  },
  {
   "cell_type": "code",
   "execution_count": 3,
   "id": "f69ce8bd",
   "metadata": {},
   "outputs": [
    {
     "name": "stdout",
     "output_type": "stream",
     "text": [
      "['rnn/basic_rnn_cell/kernel:0', 'rnn/basic_rnn_cell/bias:0']\n",
      "출력값: [[[-0.7551901  -0.10510498 -0.40611452  0.17652836]]]\n",
      "상태값: [[-0.7551901  -0.10510498 -0.40611452  0.17652836]]\n",
      "가중치: rnn/basic_rnn_cell/kernel:0\n",
      "[[ 0.39129794  0.27990448 -0.03417063 -0.13734835]\n",
      " [-0.6881115  -0.19269955 -0.19838947  0.15787274]\n",
      " [-0.3503854  -0.74573535  0.42230952  0.06174737]\n",
      " [-0.07638937  0.737661   -0.0250259   0.22168279]\n",
      " [ 0.6998607   0.48419607  0.55390215  0.55799115]\n",
      " [ 0.26617455  0.20661819 -0.65159154 -0.75656563]]\n",
      "편향값: rnn/basic_rnn_cell/bias:0\n",
      "[0. 0. 0. 0.]\n"
     ]
    }
   ],
   "source": [
    "variable_name = [vari.name for vari in tf.trainable_variables()]\n",
    "print(variable_name)\n",
    "with tf.Session() as sess:\n",
    "    sess.run(tf.global_variables_initializer())\n",
    "    outputs_, state_ = sess.run([outputs, state])\n",
    "    # 출력값과 상태값은 같은 값이고 상태값이 다음 RNN 셀로 전달된다.\n",
    "    print('출력값: {}'.format(outputs_))\n",
    "    print('상태값: {}'.format(state_))\n",
    "    \n",
    "    values = sess.run(variable_name)\n",
    "    print('가중치: ', variable_name[0], '\\n', values[0], sep='')\n",
    "    print('편향값: ', variable_name[1], '\\n', values[1], sep='')"
   ]
  },
  {
   "cell_type": "code",
   "execution_count": null,
   "id": "1edaaf80",
   "metadata": {},
   "outputs": [],
   "source": []
  },
  {
   "cell_type": "code",
   "execution_count": null,
   "id": "dba8f81b",
   "metadata": {},
   "outputs": [],
   "source": []
  }
 ],
 "metadata": {
  "kernelspec": {
   "display_name": "python37",
   "language": "python",
   "name": "python37"
  },
  "language_info": {
   "codemirror_mode": {
    "name": "ipython",
    "version": 3
   },
   "file_extension": ".py",
   "mimetype": "text/x-python",
   "name": "python",
   "nbconvert_exporter": "python",
   "pygments_lexer": "ipython3",
   "version": "3.7.1"
  }
 },
 "nbformat": 4,
 "nbformat_minor": 5
}
