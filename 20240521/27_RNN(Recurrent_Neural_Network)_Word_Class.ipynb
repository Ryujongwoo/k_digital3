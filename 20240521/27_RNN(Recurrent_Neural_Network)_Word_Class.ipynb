{
 "cells": [
  {
   "cell_type": "code",
   "execution_count": 1,
   "id": "e020bfa1",
   "metadata": {},
   "outputs": [
    {
     "name": "stdout",
     "output_type": "stream",
     "text": [
      "WARNING:tensorflow:From C:\\anaconda3\\envs\\python37\\lib\\site-packages\\tensorflow\\python\\compat\\v2_compat.py:107: disable_resource_variables (from tensorflow.python.ops.variable_scope) is deprecated and will be removed in a future version.\n",
      "Instructions for updating:\n",
      "non-resource variables are not supported in the long term\n"
     ]
    }
   ],
   "source": [
    "import warnings\n",
    "warnings.filterwarnings(action='ignore')\n",
    "%config Completer.use_jedi = False\n",
    "import tensorflow.compat.v1 as tf\n",
    "tf.disable_v2_behavior()\n",
    "import numpy as np"
   ]
  },
  {
   "cell_type": "markdown",
   "id": "2e9c15c0",
   "metadata": {},
   "source": [
    "단어 품사 구분하기\n",
    "\n",
    "'I work at google', 'I google at work'의 단어 품사를 구분하는 RNN 코드를 만든다.  \n",
    "\n",
    "각 단어는 원-핫 인코딩으로 표현한다.  \n",
    "I&nbsp;&nbsp;&nbsp;&nbsp;&nbsp;&nbsp;=> [1, 0, 0, 0] # 대명사  \n",
    "work&nbsp;&nbsp;&nbsp;=> [0, 1, 0, 0] # 동사  \n",
    "at&nbsp;&nbsp;&nbsp;&nbsp;&nbsp;=> [0, 0, 1, 0] # 전치사  \n",
    "google => [0, 0, 0, 1] # 명사\n",
    "\n",
    "I work at google => [[1, 0, 0, 0], [0, 1, 0, 0], [0, 0, 1, 0], [0, 0, 0, 1]]  \n",
    "I google at work => [[1, 0, 0, 0], [0, 0, 0, 1], [0, 0, 1, 0], [0, 1, 0, 0]]  "
   ]
  },
  {
   "cell_type": "code",
   "execution_count": 2,
   "id": "54ccb114",
   "metadata": {},
   "outputs": [
    {
     "data": {
      "text/plain": [
       "array([[[1, 0, 0, 0],\n",
       "        [0, 1, 0, 0],\n",
       "        [0, 0, 1, 0],\n",
       "        [0, 0, 0, 1]],\n",
       "\n",
       "       [[1, 0, 0, 0],\n",
       "        [0, 0, 0, 1],\n",
       "        [0, 0, 1, 0],\n",
       "        [0, 1, 0, 0]]])"
      ]
     },
     "execution_count": 2,
     "metadata": {},
     "output_type": "execute_result"
    }
   ],
   "source": [
    "inputs = np.array([\n",
    "    [[1, 0, 0, 0], [0, 1, 0, 0], [0, 0, 1, 0], [0, 0, 0, 1]], # I work at google\n",
    "    [[1, 0, 0, 0], [0, 0, 0, 1], [0, 0, 1, 0], [0, 1, 0, 0]]  # I google at work\n",
    "])\n",
    "inputs"
   ]
  },
  {
   "cell_type": "code",
   "execution_count": 3,
   "id": "07b605e0",
   "metadata": {},
   "outputs": [
    {
     "name": "stdout",
     "output_type": "stream",
     "text": [
      "WARNING:tensorflow:From C:\\Users\\TJ\\AppData\\Local\\Temp\\ipykernel_8672\\1696249191.py:4: dynamic_rnn (from tensorflow.python.ops.rnn) is deprecated and will be removed in a future version.\n",
      "Instructions for updating:\n",
      "Please use `keras.layers.RNN(cell)`, which is equivalent to this API\n",
      "WARNING:tensorflow:From C:\\anaconda3\\envs\\python37\\lib\\site-packages\\keras\\layers\\rnn\\legacy_cells.py:467: calling Zeros.__init__ (from tensorflow.python.ops.init_ops) with dtype is deprecated and will be removed in a future version.\n",
      "Instructions for updating:\n",
      "Call initializer instance with the dtype argument instead of passing it to the constructor\n",
      "================================================================================\n",
      "출력값: Tensor(\"rnn/transpose_1:0\", shape=(2, 4, 3), dtype=float32)\n",
      "상태값: Tensor(\"rnn/while/Exit_3:0\", shape=(2, 3), dtype=float32)\n",
      "================================================================================\n",
      "가중치 개수와 편향값의 개수\n",
      "<tf.Variable 'rnn/basic_rnn_cell/kernel:0' shape=(7, 3) dtype=float32_ref>\n",
      "<tf.Variable 'rnn/basic_rnn_cell/bias:0' shape=(3,) dtype=float32_ref>\n"
     ]
    }
   ],
   "source": [
    "tf.set_random_seed(35)\n",
    "tf_inputs = tf.constant(inputs, dtype=tf.float32)\n",
    "rnn_cell = tf.nn.rnn_cell.BasicRNNCell(num_units=3)\n",
    "outputs, state = tf.nn.dynamic_rnn(cell=rnn_cell, dtype=tf.float32, inputs=tf_inputs)\n",
    "print('=' * 80)\n",
    "\n",
    "print('출력값: {}'.format(outputs))\n",
    "print('상태값: {}'.format(state))\n",
    "print('=' * 80)\n",
    "\n",
    "print('가중치 개수와 편향값의 개수')\n",
    "for v in tf.get_collection(tf.GraphKeys.TRAINABLE_VARIABLES):\n",
    "    print(v)"
   ]
  },
  {
   "cell_type": "code",
   "execution_count": 4,
   "id": "a420f280",
   "metadata": {},
   "outputs": [
    {
     "name": "stdout",
     "output_type": "stream",
     "text": [
      "출력값\n",
      "[[[ 0.37247857  0.27281666 -0.03415733]\n",
      "  [-0.12360744 -0.23688789 -0.07885218]\n",
      "  [-0.27765325 -0.14212623 -0.44862753]\n",
      "  [-0.7634894  -0.13153659 -0.1189682 ]]\n",
      "\n",
      " [[ 0.37247857  0.27281666 -0.03415733]\n",
      "  [-0.62467164  0.70083857  0.17365289]\n",
      "  [ 0.10053852  0.2770306   0.05076913]\n",
      "  [-0.05543748 -0.37285638 -0.04752919]]]\n",
      "================================================================================\n",
      "최종 상태값\n",
      "[[-0.7634894  -0.13153659 -0.1189682 ]\n",
      " [-0.05543748 -0.37285638 -0.04752919]]\n",
      "================================================================================\n",
      "가중치: rnn/basic_rnn_cell/kernel:0\n",
      "[[ 0.39129794  0.27990448 -0.03417063]\n",
      " [-0.13734835 -0.6881115  -0.19269955]\n",
      " [-0.19838947  0.15787274 -0.3503854 ]\n",
      " [-0.74573535  0.42230952  0.06174737]\n",
      " [-0.07638937  0.737661   -0.0250259 ]\n",
      " [ 0.22168279  0.6998607   0.48419607]\n",
      " [ 0.55390215  0.55799115  0.26617455]]\n",
      "편향값: rnn/basic_rnn_cell/bias:0\n",
      "[0. 0. 0.]\n"
     ]
    }
   ],
   "source": [
    "variable_name = [vari.name for vari in tf.trainable_variables()]\n",
    "with tf.Session() as sess:\n",
    "    sess.run(tf.global_variables_initializer())\n",
    "    outputs_, state_ = sess.run([outputs, state])\n",
    "    print('출력값\\n', outputs_, sep='')\n",
    "    print('=' * 80)\n",
    "    # 첫 번째 문장 각 셀의 첫 번째 단어의 출력값\n",
    "    # [ 0.37247857  0.27281666 -0.03415733] # 이전 단어가 없기 때문에 같은 값이 출력된다.\n",
    "    # [-0.12360744 -0.23688789 -0.07885218]\n",
    "    # [-0.27765325 -0.14212623 -0.44862753]\n",
    "    # [-0.7634894  -0.13153659 -0.1189682 ] # 첫 번째 문장 마지막 출력값\n",
    "    # 두 번째 문장 각 셀의 두 번째 단어의 출력값\n",
    "    # [ 0.37247857  0.27281666 -0.03415733] # 이전 단어가 없기 때문에 같은 값이 출력된다.\n",
    "    # [-0.62467164  0.70083857  0.17365289]\n",
    "    # [ 0.10053852  0.2770306   0.05076913]\n",
    "    # [-0.05543748 -0.37285638 -0.04752919] # 두 번째 문장 마지막 출력값\n",
    "    # 두 문장의 각 셀의 첫 단어의 출력값이 [ 0.37247857  0.27281666 -0.03415733]로 같다.\n",
    "    # 첫 단어의 출력값이 같은 이유는 이전 단어가 존재하지 않기 때문에 이전 상태값이 존재하지 않기 때문이다.\n",
    "    # 두 번째 단어 부터는 출력값이 [-0.12360744 -0.23688789 -0.07885218], [-0.62467164  0.70083857  0.17365289] 처럼\n",
    "    # 다르게 나타나게 된다. => 상태값이 같더라도 입력값이 다를 수 있고 입력값이 같더라도 상태값이 다를 수 있기 때문이다.\n",
    "    # 두 번째 단어부터 출력값이 다르게 나오는 이유는 이전 상태값이 현재 출력에 영향을 주기 때문이다.\n",
    "    \n",
    "    print('최종 상태값\\n', state_, sep='')\n",
    "    print('=' * 80)\n",
    "    # 첫 번째 문장 마지막 상태값\n",
    "    # [-0.7634894  -0.13153659 -0.1189682 ] # 첫 번째 문장 마지막 상태값은 첫 번째 문장 마지막 출력값과 같다.\n",
    "    # 두 번째 문장 마지막 상태값\n",
    "    # [-0.05543748 -0.37285638 -0.04752919] # 두 번째 문장 마지막 상태값은 두 번째 문장 마지막 출력값과 같다.\n",
    "    # 최종 상태값은 최종 출력값과 같다.\n",
    "    \n",
    "    values = sess.run(variable_name)\n",
    "    print('가중치: ', variable_name[0], '\\n', values[0], sep='')\n",
    "    print('편향값: ', variable_name[1], '\\n', values[1], sep='')"
   ]
  },
  {
   "cell_type": "code",
   "execution_count": null,
   "id": "c6e58bad",
   "metadata": {},
   "outputs": [],
   "source": []
  },
  {
   "cell_type": "code",
   "execution_count": null,
   "id": "afea7f02",
   "metadata": {},
   "outputs": [],
   "source": []
  }
 ],
 "metadata": {
  "kernelspec": {
   "display_name": "python37",
   "language": "python",
   "name": "python37"
  },
  "language_info": {
   "codemirror_mode": {
    "name": "ipython",
    "version": 3
   },
   "file_extension": ".py",
   "mimetype": "text/x-python",
   "name": "python",
   "nbconvert_exporter": "python",
   "pygments_lexer": "ipython3",
   "version": "3.7.1"
  }
 },
 "nbformat": 4,
 "nbformat_minor": 5
}
