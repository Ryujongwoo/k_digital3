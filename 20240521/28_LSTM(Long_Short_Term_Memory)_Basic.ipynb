{
 "cells": [
  {
   "cell_type": "code",
   "execution_count": 1,
   "id": "0635cbd7",
   "metadata": {},
   "outputs": [
    {
     "name": "stdout",
     "output_type": "stream",
     "text": [
      "WARNING:tensorflow:From C:\\anaconda3\\envs\\python37\\lib\\site-packages\\tensorflow\\python\\compat\\v2_compat.py:107: disable_resource_variables (from tensorflow.python.ops.variable_scope) is deprecated and will be removed in a future version.\n",
      "Instructions for updating:\n",
      "non-resource variables are not supported in the long term\n"
     ]
    }
   ],
   "source": [
    "import warnings\n",
    "warnings.filterwarnings(action='ignore')\n",
    "%config Completer.use_jedi = False\n",
    "import tensorflow.compat.v1 as tf\n",
    "tf.disable_v2_behavior()\n",
    "import numpy as np"
   ]
  },
  {
   "cell_type": "markdown",
   "id": "5a4afa57",
   "metadata": {},
   "source": [
    "LSTM(Long Short Term Memory)\n",
    "\n",
    "LSTM은 RNN에서 발생되는 단점 기울기 소실(gradient vanishing) 또는 기울기 폭주(gradient exploding)와 같은 RNN의 단점을 극복하고자 만들어진 좀 더 진화된 RNN으로  LSTM 셀 내부를 살펴보면 기존 RNN의 단점을 극복하기 위해 이전의 정보를 지우거나 기억하기 위한 로직과 현재 정보를 기억하기 위한 로직이 추가로 구현되어 있다. 아래 그림을 살펴보면 RNN 셀에서 보지못했던 주황색 선과 조금 더 많아진 활성화 함수와 수학 기호들을 볼 수 있다.\n",
    "\n",
    "<img src=\"./LSTM.png\" align=\"left\" width=\"900\"/>"
   ]
  },
  {
   "cell_type": "markdown",
   "id": "889a53bf",
   "metadata": {},
   "source": [
    "주황색 선은 메모리 셀이라 부른다.  \n",
    "주황색 선의 곱하기 기호에서 시그모이드 출력값이 곱해지게 되어 메모리 셀의 기존 정보를 어느 정도까지 기억할지 결정하게 된다.  \n",
    "주황색 선의 더하기 기호에서 새로운 정보와 시그모이드 출력값이 곱해지게 되어 새로운 정보를 어느 정도까지 메모리 셀의 기존 정보에 더할지 결정하는 로직이다.  \n",
    "h<sub>t</sub> 선상의 곱하기 기호에서 메모리 셀의 정보와 새로운 정보가 계산되서 출력(상태)값을 출력한다.\n",
    "\n",
    "tensorflow에는 이미 LSTM이 구현되어 있기 때문에 위 그림을 직접 구현할 필요는 없고 아래 그림만 이해해도 사용하는데 큰 무리는 없다.\n",
    "\n",
    "<img src=\"./LSTM2.png\" align=\"left\" width=\"700\"/>"
   ]
  },
  {
   "cell_type": "markdown",
   "id": "542eea15",
   "metadata": {},
   "source": [
    "LSTM의 출력값 및 상태값 메모리 셀 값을 확인해본다."
   ]
  },
  {
   "cell_type": "code",
   "execution_count": 2,
   "id": "51d408c0",
   "metadata": {},
   "outputs": [],
   "source": [
    "inputs = np.array([[[1, 2]]])\n",
    "# print(inputs) # [[[1 2]]]\n",
    "# print(inputs.shape) # (1, 1, 2)"
   ]
  },
  {
   "cell_type": "code",
   "execution_count": 3,
   "id": "825fc3dd",
   "metadata": {},
   "outputs": [
    {
     "name": "stdout",
     "output_type": "stream",
     "text": [
      "입력 데이터: [[[1. 2.]]]\n"
     ]
    }
   ],
   "source": [
    "tf.set_random_seed(35)\n",
    "tf_inputs = tf.constant(inputs, dtype=tf.float32)\n",
    "sess = tf.Session()\n",
    "print('입력 데이터: {}'.format(sess.run(tf_inputs)))"
   ]
  },
  {
   "cell_type": "markdown",
   "id": "29fbfd7f",
   "metadata": {},
   "source": [
    "LSTM 셀을 만든다."
   ]
  },
  {
   "cell_type": "code",
   "execution_count": 4,
   "id": "13b70a7d",
   "metadata": {},
   "outputs": [
    {
     "name": "stdout",
     "output_type": "stream",
     "text": [
      "WARNING:tensorflow:From C:\\Users\\TJ\\AppData\\Local\\Temp\\ipykernel_17572\\538713520.py:3: dynamic_rnn (from tensorflow.python.ops.rnn) is deprecated and will be removed in a future version.\n",
      "Instructions for updating:\n",
      "Please use `keras.layers.RNN(cell)`, which is equivalent to this API\n",
      "WARNING:tensorflow:From C:\\anaconda3\\envs\\python37\\lib\\site-packages\\keras\\layers\\rnn\\legacy_cells.py:1048: calling Zeros.__init__ (from tensorflow.python.ops.init_ops) with dtype is deprecated and will be removed in a future version.\n",
      "Instructions for updating:\n",
      "Call initializer instance with the dtype argument instead of passing it to the constructor\n"
     ]
    }
   ],
   "source": [
    "# LSTMCell() 객체를 생성할 때 생성자의 인수 num_units로 RNN 셀의 개수를 지정해서 객체를 생성한다.\n",
    "lstm_cell = tf.nn.rnn_cell.LSTMCell(num_units=1)\n",
    "outputs, state = tf.nn.dynamic_rnn(cell=lstm_cell, dtype=tf.float32, inputs=tf_inputs)"
   ]
  },
  {
   "cell_type": "code",
   "execution_count": 5,
   "id": "fe3004c7",
   "metadata": {},
   "outputs": [
    {
     "name": "stdout",
     "output_type": "stream",
     "text": [
      "LSTM 출력값: [[[-0.01633656]]]\n",
      "LSTM 최종 상태값: [[-0.01633656]]\n",
      "LSTM 메모리 셀값: [[-0.02954468]]\n"
     ]
    }
   ],
   "source": [
    "with tf.Session() as sess:\n",
    "    sess.run(tf.global_variables_initializer())\n",
    "    outputs_, state_ = sess.run([outputs, state])\n",
    "    print('LSTM 출력값: {}'.format(outputs_))\n",
    "    print('LSTM 최종 상태값: {}'.format(state_.h))\n",
    "    print('LSTM 메모리 셀값: {}'.format(state_.c))"
   ]
  },
  {
   "cell_type": "code",
   "execution_count": null,
   "id": "fb26e105",
   "metadata": {},
   "outputs": [],
   "source": []
  },
  {
   "cell_type": "code",
   "execution_count": null,
   "id": "416d9625",
   "metadata": {},
   "outputs": [],
   "source": []
  }
 ],
 "metadata": {
  "kernelspec": {
   "display_name": "python37",
   "language": "python",
   "name": "python37"
  },
  "language_info": {
   "codemirror_mode": {
    "name": "ipython",
    "version": 3
   },
   "file_extension": ".py",
   "mimetype": "text/x-python",
   "name": "python",
   "nbconvert_exporter": "python",
   "pygments_lexer": "ipython3",
   "version": "3.7.1"
  }
 },
 "nbformat": 4,
 "nbformat_minor": 5
}
