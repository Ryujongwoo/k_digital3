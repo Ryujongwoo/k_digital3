{
 "cells": [
  {
   "cell_type": "markdown",
   "id": "a7b0e32c",
   "metadata": {},
   "source": [
    "출장비로 지급할 화폐 매수 계산하기\n",
    "\n",
    "<img src=\"./money_1.png\" align=\"left\" width=\"900\"/>"
   ]
  },
  {
   "cell_type": "markdown",
   "id": "a28b0b7e",
   "metadata": {},
   "source": [
    "<img src=\"./money_2.png\" align=\"left\" width=\"900\"/>"
   ]
  },
  {
   "cell_type": "markdown",
   "id": "b169c25e",
   "metadata": {},
   "source": [
    "<img src=\"./money_3.png\" align=\"left\" width=\"900\"/>"
   ]
  },
  {
   "cell_type": "markdown",
   "id": "f9b47cce",
   "metadata": {},
   "source": [
    "pm => 개인별 화폐 매수  \n",
    "tm => 전체 화폐 매수  \n",
    "n => 이름  \n",
    "p => 출장비  \n",
    "sw => 화폐 단위 변환에 사용되는 스위치 변수  \n",
    "m => 화폐 단위  \n",
    "t => 출장비에서 계산된 화폐 매수에 해당되는 금액을 제외한 나머지 금액"
   ]
  },
  {
   "cell_type": "code",
   "execution_count": 6,
   "id": "e39fadab",
   "metadata": {},
   "outputs": [
    {
     "name": "stdout",
     "output_type": "stream",
     "text": [
      "이름과 출장비를 입력하세요: 강감찬 537620\n",
      "강감찬 537620 10 3 1 2 1 1 0 2 0 0 \n",
      "이름과 출장비를 입력하세요: 김유신 538973\n",
      "김유신 538973 10 3 1 3 1 4 1 2 0 3 \n",
      "이름과 출장비를 입력하세요: 홍길동 173105\n",
      "홍길동 173105 3 2 0 3 0 1 0 0 1 0 \n",
      "이름과 출장비를 입력하세요: quit 0\n",
      "[23, 8, 2, 8, 2, 6, 1, 4, 1, 3]\n"
     ]
    }
   ],
   "source": [
    "pm = [0] * 10 # 개인별 화폐 매수를 기억할 리스트를 만든다.\n",
    "tm = [0 for _ in range(10)] # 전체 화폐 매수를 기억할 리스트를 만든다.\n",
    "# print(pm, tm)\n",
    "\n",
    "# 이름에 'quit'가 입력될 때 까지 반복하며 화폐 매수를 계산한다.\n",
    "while True:\n",
    "    n, p = input('이름과 출장비를 입력하세요: ').split()\n",
    "    if n.lower() == 'quit':\n",
    "        break\n",
    "        \n",
    "    t = int(p) # 나중에 입력받은 출장비를 출력하기 위해 출장비의 복사본을 만든다.\n",
    "    m = 50000 # 화폐 매수를 계산할 화폐 권종을 초기화 시킨다.\n",
    "    sw = 1 # 화폐 권종 변경에 사용할 스위치(toggle) 변수\n",
    "    \n",
    "    # 화폐 권종의 개수만큼 반복하며 개인별 출장비의 화폐 매수를 계산한다.\n",
    "    for k in range(10):\n",
    "        pm[k] = t // m # 권종별 화폐 매수를 계산한다.\n",
    "        t %= m # 다음 화폐 권종의 매수를 계산하기 위해 권종별 화폐 매수를 계산하고 남은 나머지 금액을 계산한다.\n",
    "        # 다음 화폐 권종을 계산한다.\n",
    "        if sw == 1:\n",
    "            m //= 5; sw = 0\n",
    "        else:\n",
    "            m //= 2; sw = 1\n",
    "        # ===== if\n",
    "    # ===== for\n",
    "    \n",
    "    # 이름과 출장비 및 개인별 화폐 권종 매수를 출력하고 전체 화폐 매수를 계산한다.\n",
    "    print(n, p, end=' ')\n",
    "    for k in range(10):\n",
    "        print(pm[k], end=' ')\n",
    "        tm[k] += pm[k] # 전체 화폐 매수를 계산한다.\n",
    "    # ===== for\n",
    "    print()\n",
    "# ===== while\n",
    "\n",
    "# 전체 화폐 매수를 출력한다.\n",
    "print(tm)"
   ]
  },
  {
   "cell_type": "code",
   "execution_count": null,
   "id": "b0788fba",
   "metadata": {},
   "outputs": [],
   "source": [
    "     t        m   pm ... 나머지\n",
    "537620 // 50000 = 10 ... 37620\n",
    " 37620 // 10000 =  3 ...  7620\n",
    " 7620  //  5000 =  1 ...  2620\n",
    " 2620  //  1000 =  2 ...   620\n",
    "  620  //   500 =  1 ...   120\n",
    "  120  //   100 =  1 ...    20\n",
    "   20  //    50 =  0 ...    20\n",
    "   20  //    10 =  2 ...     0\n",
    "    0  //     5 =  0 ...     0\n",
    "    0  //     1 =  0 ...     0"
   ]
  },
  {
   "cell_type": "code",
   "execution_count": 8,
   "id": "c83393d2",
   "metadata": {},
   "outputs": [],
   "source": [
    "# 이름과 출장비를 넘겨받아 초기화하고 개인별 화폐 권종 매수를 계산해 기억하는 클래스\n",
    "class Money:\n",
    "    def __init__(self, name, money):\n",
    "        self.name = name\n",
    "        self.money = money\n",
    "        # 개인별 화폐 매수를 계산한다.\n",
    "        self.pm = [0 for _ in range(10)]\n",
    "        t = money\n",
    "        m = 50000\n",
    "        sw = 1\n",
    "        for k in range(10):\n",
    "            self.pm[k] = t // m\n",
    "            t %= m\n",
    "            if sw == 1:\n",
    "                m //= 5; sw = 0\n",
    "            else:\n",
    "                m //= 2; sw = 1\n",
    "            # ===== if\n",
    "        # ===== for\n",
    "    # ===== __init__()\n",
    "    \n",
    "    def __str__(self):\n",
    "        return '{} {} {}'.format(self.name, self.money, self.pm)"
   ]
  },
  {
   "cell_type": "code",
   "execution_count": 11,
   "id": "d731da4b",
   "metadata": {},
   "outputs": [
    {
     "name": "stdout",
     "output_type": "stream",
     "text": [
      "강감찬\n",
      "537620\n",
      "[10, 3, 1, 2, 1, 1, 0, 2, 0, 0]\n"
     ]
    }
   ],
   "source": [
    "money = Money('강감찬', 537620)\n",
    "print(money.name)\n",
    "print(money.money)\n",
    "print(money.pm)"
   ]
  },
  {
   "cell_type": "code",
   "execution_count": 14,
   "id": "c34787b2",
   "metadata": {},
   "outputs": [
    {
     "name": "stdout",
     "output_type": "stream",
     "text": [
      "이름과 출장비를 입력하세요: 강감찬 537620\n",
      "이름과 출장비를 입력하세요: 김유신 538973\n",
      "이름과 출장비를 입력하세요: 홍길동 173105\n",
      "이름과 출장비를 입력하세요: quit 0\n",
      "[<__main__.Money object at 0x000001FDBD5D5E10>, <__main__.Money object at 0x000001FDBD1D7E80>, <__main__.Money object at 0x000001FDBD1E9208>]\n"
     ]
    }
   ],
   "source": [
    "m = []\n",
    "while True:\n",
    "    n, p = input('이름과 출장비를 입력하세요: ').split()\n",
    "    if n.lower() == 'quit':\n",
    "        break\n",
    "    money = Money(n, int(p))\n",
    "    m.append(money)\n",
    "# ===== while\n",
    "print(m)"
   ]
  },
  {
   "cell_type": "code",
   "execution_count": 15,
   "id": "ce36779b",
   "metadata": {},
   "outputs": [
    {
     "name": "stdout",
     "output_type": "stream",
     "text": [
      "강감찬 537620 [10, 3, 1, 2, 1, 1, 0, 2, 0, 0]\n",
      "김유신 538973 [10, 3, 1, 3, 1, 4, 1, 2, 0, 3]\n",
      "홍길동 173105 [3, 2, 0, 3, 0, 1, 0, 0, 1, 0]\n"
     ]
    }
   ],
   "source": [
    "for i in m:\n",
    "    print(i)"
   ]
  },
  {
   "cell_type": "code",
   "execution_count": 55,
   "id": "9febc6e1",
   "metadata": {},
   "outputs": [
    {
     "name": "stdout",
     "output_type": "stream",
     "text": [
      "                                        출장비 지급 일람표                                        \n",
      "==================================================================================================\n",
      "이름       출장비  오만원    만원  오천원    천원  오백원    백원  오십원    십원    오원    일원 \n",
      "==================================================================================================\n",
      "강감찬    537,620      10       3       1       2       1       1       0       2       0       0\n",
      "김유신    538,973      10       3       1       3       1       4       1       2       0       3\n",
      "홍길동    173,105       3       2       0       3       0       1       0       0       1       0\n",
      "==================================================================================================\n",
      "합계                   23       8       2       8       2       6       1       4       1       3\n",
      "==================================================================================================\n"
     ]
    }
   ],
   "source": [
    "tm = [0 for _ in range(10)]\n",
    "print('{:^90s}'.format('출장비 지급 일람표'))\n",
    "print('=' * 98)\n",
    "print('이름       출장비  오만원    만원  오천원    천원  오백원    백원  오십원    십원    오원    일원 ')\n",
    "print('=' * 98)\n",
    "for i in m:\n",
    "    print('{:5s} {:8,d}'.format(i.name, i.money), end='')\n",
    "    for j in range(10):\n",
    "        print('{:8d}'.format(i.pm[j]), end='')\n",
    "        tm[j] += i.pm[j]\n",
    "    # ===== for\n",
    "    print()\n",
    "# ===== for\n",
    "print('=' * 98)\n",
    "print('{:15s}'.format('합계'), end='')\n",
    "for i in range(10):\n",
    "    print('{:8d}'.format(tm[i]), end='')\n",
    "print('\\n' + '=' * 98)"
   ]
  },
  {
   "cell_type": "code",
   "execution_count": null,
   "id": "50426338",
   "metadata": {},
   "outputs": [],
   "source": []
  },
  {
   "cell_type": "code",
   "execution_count": null,
   "id": "541edaf8",
   "metadata": {},
   "outputs": [],
   "source": []
  }
 ],
 "metadata": {
  "kernelspec": {
   "display_name": "Python 3",
   "language": "python",
   "name": "python3"
  },
  "language_info": {
   "codemirror_mode": {
    "name": "ipython",
    "version": 3
   },
   "file_extension": ".py",
   "mimetype": "text/x-python",
   "name": "python",
   "nbconvert_exporter": "python",
   "pygments_lexer": "ipython3",
   "version": "3.6.8"
  }
 },
 "nbformat": 4,
 "nbformat_minor": 5
}
