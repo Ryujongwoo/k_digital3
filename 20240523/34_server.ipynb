{
 "cells": [
  {
   "cell_type": "code",
   "execution_count": null,
   "id": "ad008eb9",
   "metadata": {},
   "outputs": [],
   "source": [
    "# flask web server를 사용할 수 있게해주는 모듈을 import 한다.\n",
    "# conda install flask\n",
    "from flask import Flask, render_template, request"
   ]
  },
  {
   "cell_type": "code",
   "execution_count": null,
   "id": "1892f3af",
   "metadata": {},
   "outputs": [],
   "source": [
    "# Flask 객체를 선언한다.\n",
    "app = Flask(__name__)"
   ]
  },
  {
   "cell_type": "code",
   "execution_count": null,
   "id": "2c1ec521",
   "metadata": {},
   "outputs": [],
   "source": [
    "# Flask의 기본 포트인 5000번 포트의 기본 경로('/')에 사용자가 GET, POST 방식으로 요청을 받는다.\n",
    "@app.route('/', methods=['GET', 'POST'])\n",
    "def index():\n",
    "    # render_template() 함수를 이용해서 특정 페이지(index.html)를 브라우저에 표시할 수 있도록 한다.\n",
    "    return render_template('index.html')"
   ]
  },
  {
   "cell_type": "code",
   "execution_count": null,
   "id": "81d64dc3",
   "metadata": {},
   "outputs": [],
   "source": [
    "if __name__ == '__main__':\n",
    "    # Flask web server를 실행한다.\n",
    "    app.run(debug=True)"
   ]
  },
  {
   "cell_type": "code",
   "execution_count": null,
   "id": "9b825cc2",
   "metadata": {},
   "outputs": [],
   "source": []
  },
  {
   "cell_type": "code",
   "execution_count": null,
   "id": "02f5f418",
   "metadata": {},
   "outputs": [],
   "source": []
  }
 ],
 "metadata": {
  "kernelspec": {
   "display_name": "python37",
   "language": "python",
   "name": "python37"
  },
  "language_info": {
   "codemirror_mode": {
    "name": "ipython",
    "version": 3
   },
   "file_extension": ".py",
   "mimetype": "text/x-python",
   "name": "python",
   "nbconvert_exporter": "python",
   "pygments_lexer": "ipython3",
   "version": "3.7.1"
  }
 },
 "nbformat": 4,
 "nbformat_minor": 5
}
