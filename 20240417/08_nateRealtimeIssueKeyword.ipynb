{
 "cells": [
  {
   "cell_type": "code",
   "execution_count": 1,
   "id": "7bb36add",
   "metadata": {},
   "outputs": [],
   "source": [
    "import warnings\n",
    "warnings.filterwarnings(action='ignore')\n",
    "%config Completer.use_jedi = False"
   ]
  },
  {
   "cell_type": "code",
   "execution_count": 2,
   "id": "eeb07f49",
   "metadata": {},
   "outputs": [],
   "source": [
    "import requests\n",
    "from bs4 import BeautifulSoup"
   ]
  },
  {
   "cell_type": "code",
   "execution_count": 81,
   "id": "511c816a",
   "metadata": {},
   "outputs": [
    {
     "name": "stdout",
     "output_type": "stream",
     "text": [
      "6\n",
      "7\n",
      "8\n",
      "9\n",
      "10\n",
      "류현진과 강인권 감독\n",
      "이루 음주운전 최종\n",
      "75억 54억 매입\n",
      "한국 금메달 5개\n",
      "낙상환자 사망 무죄\n"
     ]
    }
   ],
   "source": [
    "targetSite = 'https://www.nate.com/'\n",
    "h = {'User-agent': 'Mozilla/5.0 (Windows NT 6.3; Win64; x64; Trident/7.0; MSAppHost/2.0; rv:11.0) like Gecko'}\n",
    "request = requests.get(targetSite, headers=h)\n",
    "html = request.text\n",
    "soup = BeautifulSoup(html, 'html.parser')\n",
    "# print(soup)\n",
    "\n",
    "# 순위\n",
    "# ranks = soup.findAll('span', {'class': 'num_rank'})\n",
    "# ranks = soup.select('#olLiveIssueKeyword > li > span')\n",
    "ranks = soup.select('#olLiveIssueKeyword .num_rank')\n",
    "# print(len(ranks))\n",
    "# print(ranks[:5])\n",
    "for rank in ranks[:5]:\n",
    "    print(rank.text)\n",
    "    \n",
    "# 실시간 이슈 키워드\n",
    "issues = soup.findAll('span', {'class': 'txt_rank'})\n",
    "# print(len(issues))\n",
    "# print(issues)\n",
    "for issue in issues[:5]:\n",
    "    print(issue.text)"
   ]
  },
  {
   "cell_type": "code",
   "execution_count": null,
   "id": "aa2f142b",
   "metadata": {},
   "outputs": [],
   "source": []
  },
  {
   "cell_type": "code",
   "execution_count": null,
   "id": "15963fa9",
   "metadata": {},
   "outputs": [],
   "source": []
  },
  {
   "cell_type": "code",
   "execution_count": null,
   "id": "d71d09b8",
   "metadata": {},
   "outputs": [],
   "source": []
  },
  {
   "cell_type": "code",
   "execution_count": null,
   "id": "62ef9044",
   "metadata": {},
   "outputs": [],
   "source": []
  },
  {
   "cell_type": "code",
   "execution_count": null,
   "id": "ebcbaee5",
   "metadata": {},
   "outputs": [],
   "source": []
  },
  {
   "cell_type": "code",
   "execution_count": null,
   "id": "52ff13fa",
   "metadata": {},
   "outputs": [],
   "source": []
  },
  {
   "cell_type": "code",
   "execution_count": null,
   "id": "ce8421ce",
   "metadata": {},
   "outputs": [],
   "source": []
  }
 ],
 "metadata": {
  "kernelspec": {
   "display_name": "Python 3",
   "language": "python",
   "name": "python3"
  },
  "language_info": {
   "codemirror_mode": {
    "name": "ipython",
    "version": 3
   },
   "file_extension": ".py",
   "mimetype": "text/x-python",
   "name": "python",
   "nbconvert_exporter": "python",
   "pygments_lexer": "ipython3",
   "version": "3.6.8"
  }
 },
 "nbformat": 4,
 "nbformat_minor": 5
}
