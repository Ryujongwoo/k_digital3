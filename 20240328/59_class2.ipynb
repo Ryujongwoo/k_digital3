{
 "cells": [
  {
   "cell_type": "code",
   "execution_count": 1,
   "id": "0577c828",
   "metadata": {},
   "outputs": [],
   "source": [
    "import math"
   ]
  },
  {
   "cell_type": "code",
   "execution_count": 2,
   "id": "6015ca5a",
   "metadata": {},
   "outputs": [
    {
     "name": "stdout",
     "output_type": "stream",
     "text": [
      "3.141592653589793\n"
     ]
    }
   ],
   "source": [
    "print(math.pi)"
   ]
  },
  {
   "cell_type": "code",
   "execution_count": 16,
   "id": "4c0cd2b8",
   "metadata": {},
   "outputs": [],
   "source": [
    "# 원의 반지름을 인수로 넘겨받아 초기화하고 원의 둘레와 너비를 계산하는 함수를 포함하는 클래스\n",
    "class Circle:\n",
    "    def __init__(self, radius=1):\n",
    "        self.radius = radius\n",
    "        \n",
    "    def __str__(self):\n",
    "        return '반지름: {}'.format(self.radius)\n",
    "    \n",
    "    # 원의 둘레를 계산해서 출력하는 함수\n",
    "    def roundCircle(self):\n",
    "        print('반지름이 {}인 원의 둘레는 {} 입니다.'.format(self.radius, 2 * math.pi * self.radius))\n",
    "    \n",
    "    # 원의 너비를 계산해서 출력하는 함수\n",
    "    def areaCircle(self):\n",
    "        print('반지름이 {}인 원의 너비는 {} 입니다.'.format(self.radius, math.pi * self.radius ** 2))\n",
    "        print('반지름이 {}인 원의 너비는 {} 입니다.'.format(self.radius, math.pi * math.pow(self.radius, 2)))"
   ]
  },
  {
   "cell_type": "code",
   "execution_count": 17,
   "id": "0e31c41a",
   "metadata": {},
   "outputs": [
    {
     "name": "stdout",
     "output_type": "stream",
     "text": [
      "반지름: 5\n",
      "반지름이 5인 원의 둘레는 31.41592653589793 입니다.\n",
      "반지름이 5인 원의 너비는 78.53981633974483 입니다.\n",
      "반지름이 5인 원의 너비는 78.53981633974483 입니다.\n"
     ]
    }
   ],
   "source": [
    "circle1 = Circle(5)\n",
    "print(circle1)\n",
    "circle1.roundCircle()\n",
    "circle1.areaCircle()"
   ]
  },
  {
   "cell_type": "code",
   "execution_count": 18,
   "id": "4a548702",
   "metadata": {},
   "outputs": [
    {
     "name": "stdout",
     "output_type": "stream",
     "text": [
      "반지름: 10\n",
      "반지름이 10인 원의 둘레는 62.83185307179586 입니다.\n",
      "반지름이 10인 원의 너비는 314.1592653589793 입니다.\n",
      "반지름이 10인 원의 너비는 314.1592653589793 입니다.\n"
     ]
    }
   ],
   "source": [
    "circle2 = Circle(10)\n",
    "print(circle2)\n",
    "circle2.roundCircle()\n",
    "circle2.areaCircle()"
   ]
  },
  {
   "cell_type": "code",
   "execution_count": 19,
   "id": "5fbfe32d",
   "metadata": {},
   "outputs": [
    {
     "name": "stdout",
     "output_type": "stream",
     "text": [
      "반지름: 1\n",
      "반지름이 1인 원의 둘레는 6.283185307179586 입니다.\n",
      "반지름이 1인 원의 너비는 3.141592653589793 입니다.\n",
      "반지름이 1인 원의 너비는 3.141592653589793 입니다.\n"
     ]
    }
   ],
   "source": [
    "circle3 = Circle()\n",
    "print(circle3)\n",
    "circle3.roundCircle()\n",
    "circle3.areaCircle()"
   ]
  },
  {
   "cell_type": "code",
   "execution_count": null,
   "id": "f5b25fbd",
   "metadata": {},
   "outputs": [],
   "source": []
  },
  {
   "cell_type": "code",
   "execution_count": null,
   "id": "8c952f84",
   "metadata": {},
   "outputs": [],
   "source": []
  }
 ],
 "metadata": {
  "kernelspec": {
   "display_name": "Python 3",
   "language": "python",
   "name": "python3"
  },
  "language_info": {
   "codemirror_mode": {
    "name": "ipython",
    "version": 3
   },
   "file_extension": ".py",
   "mimetype": "text/x-python",
   "name": "python",
   "nbconvert_exporter": "python",
   "pygments_lexer": "ipython3",
   "version": "3.6.8"
  }
 },
 "nbformat": 4,
 "nbformat_minor": 5
}
