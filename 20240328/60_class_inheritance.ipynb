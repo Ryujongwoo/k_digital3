{
 "cells": [
  {
   "cell_type": "code",
   "execution_count": 3,
   "id": "cb05b024",
   "metadata": {},
   "outputs": [],
   "source": [
    "# 부모(상위, 슈퍼, 기반) 클래스\n",
    "class Parent:\n",
    "    def __init__(self, name='무명씨', gender=False):\n",
    "        print('부모 클래스의 생성자 실행')\n",
    "        self.name = name\n",
    "        self.gender = gender\n",
    "        \n",
    "    def __str__(self):\n",
    "        return '{}({})'.format(self.name, '남' if self.gender else '여')"
   ]
  },
  {
   "cell_type": "code",
   "execution_count": 6,
   "id": "9fe7e871",
   "metadata": {},
   "outputs": [
    {
     "name": "stdout",
     "output_type": "stream",
     "text": [
      "부모 클래스의 생성자 실행\n",
      "무명씨(여)\n",
      "부모 클래스의 생성자 실행\n",
      "이몽룡(남)\n",
      "부모 클래스의 생성자 실행\n",
      "성춘향(여)\n"
     ]
    }
   ],
   "source": [
    "# 부모 클래스가 잘 생성되었나 확인한다.\n",
    "parent1 = Parent()\n",
    "print(parent1)\n",
    "parent2 = Parent('이몽룡', True)\n",
    "print(parent2)\n",
    "parent3 = Parent('성춘향', False)\n",
    "print(parent3)"
   ]
  },
  {
   "cell_type": "markdown",
   "id": "70d9ba8a",
   "metadata": {},
   "source": [
    "클래스 상속\n",
    "\n",
    "상속이란 부모 클래스에서 정의한 멤버 변수와 함수를 자식 클래스에서 별도로 정의하지 않고도 정의한 것 처럼 사용할 수 있게 해주는 기능을 말한다.\n",
    "***\n",
    "상속의 형식\n",
    "\n",
    "class 자식클래스이름(부모클래스이름)"
   ]
  },
  {
   "cell_type": "code",
   "execution_count": 29,
   "id": "863ec0a7",
   "metadata": {},
   "outputs": [],
   "source": [
    "# 자식(하위, 서브, 파생) 클래스\n",
    "# 부모(Parent) 클래스를 상속받아 자식(Child) 클래스를 만든다.\n",
    "class Child(Parent):\n",
    "    # Parent 클래스로 부터 __init__(self, name='무명씨', gender=False), __str__(self), self.name, self.gender를\n",
    "    # 상속받았으므로 별도의 선언 과정없이 사용할 수 있다.\n",
    "    # 부모 클래스로 부터 상속받은 함수의 기능만으로는 자식 클래스에서 사용하기에 불충분하기 때문에 자식 클래스에서\n",
    "    # 다시 만들어 사용한다. => 함수 재정의 => Override\n",
    "    def __init__(self, name='무명씨', gender=False, age=0, nickname='없음'):\n",
    "        # 부모 클래스로 부터 상속받은 멤버 변수는 부모 클래스의 생성자를 호출해서 초기화시킨다.\n",
    "        # super()는 부모 클래스를 의미한다.\n",
    "        super().__init__(name, gender) # 부모 클래스의 생성자를 호출한다.\n",
    "        print('자식 클래스의 생성자 실행')\n",
    "        # 자식 클래스에서 사용할 멤버 변수를 초기화시킨다.\n",
    "        self.age = age\n",
    "        self.nickname = nickname\n",
    "        \n",
    "    def __str__(self):\n",
    "        return '{}({}) - {}, {}'.format(self.name, '남' if self.gender else '여', self.age, self.nickname)    "
   ]
  },
  {
   "cell_type": "code",
   "execution_count": 30,
   "id": "dc2290c4",
   "metadata": {},
   "outputs": [
    {
     "name": "stdout",
     "output_type": "stream",
     "text": [
      "부모 클래스의 생성자 실행\n",
      "자식 클래스의 생성자 실행\n",
      "홍길동(남) - 20, 도적넘\n",
      "홍길동\n",
      "True\n",
      "20\n",
      "도적넘\n"
     ]
    }
   ],
   "source": [
    "child = Child('홍길동', True, 20, '도적넘')\n",
    "print(child)\n",
    "print(child.name)\n",
    "print(child.gender)\n",
    "print(child.age)\n",
    "print(child.nickname)"
   ]
  },
  {
   "cell_type": "code",
   "execution_count": null,
   "id": "91979d52",
   "metadata": {},
   "outputs": [],
   "source": []
  },
  {
   "cell_type": "code",
   "execution_count": null,
   "id": "fc6ab82b",
   "metadata": {},
   "outputs": [],
   "source": []
  },
  {
   "cell_type": "code",
   "execution_count": null,
   "id": "089dd5f2",
   "metadata": {},
   "outputs": [],
   "source": []
  },
  {
   "cell_type": "code",
   "execution_count": null,
   "id": "2dad2b3c",
   "metadata": {},
   "outputs": [],
   "source": []
  },
  {
   "cell_type": "code",
   "execution_count": null,
   "id": "b651a1f9",
   "metadata": {},
   "outputs": [],
   "source": []
  }
 ],
 "metadata": {
  "kernelspec": {
   "display_name": "Python 3",
   "language": "python",
   "name": "python3"
  },
  "language_info": {
   "codemirror_mode": {
    "name": "ipython",
    "version": 3
   },
   "file_extension": ".py",
   "mimetype": "text/x-python",
   "name": "python",
   "nbconvert_exporter": "python",
   "pygments_lexer": "ipython3",
   "version": "3.6.8"
  }
 },
 "nbformat": 4,
 "nbformat_minor": 5
}
