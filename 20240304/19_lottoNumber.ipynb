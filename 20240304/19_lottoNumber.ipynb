{
 "cells": [
  {
   "cell_type": "code",
   "execution_count": 1,
   "id": "42695c55",
   "metadata": {},
   "outputs": [],
   "source": [
    "import random\n",
    "lotto = [i for i in range(1, 46)]"
   ]
  },
  {
   "cell_type": "code",
   "execution_count": 7,
   "id": "ff51b5c9",
   "metadata": {},
   "outputs": [
    {
     "name": "stdout",
     "output_type": "stream",
     "text": [
      "로또 복권 구매 금액을 입력하세요: 5000\n",
      "  1 game: 02  10  21  28  39  44  \n",
      "  2 game: 07  26  30  38  41  44  \n",
      "  3 game: 10  13  15  26  33  35  \n",
      "  4 game: 04  21  27  28  33  38  \n",
      "  5 game: 04  06  26  27  31  35  \n"
     ]
    }
   ],
   "source": [
    "# 로또 복권 구매 금액을 입력받아 입력받은 금액만큼 로또 번호를 생성하는 프로그램\n",
    "# 로또 복권 구매 금액을 입력받는다.\n",
    "money = int(input('로또 복권 구매 금액을 입력하세요: '))\n",
    "# 로또 번호 구매 금액만큼 반복하며 로또 번호를 생성한다.\n",
    "for i in range(money // 1000):\n",
    "    random.shuffle(lotto)\n",
    "    print('{:3d} game: '.format(i + 1), end='')\n",
    "    result = lotto[:6]\n",
    "    result.sort()\n",
    "    for j in range(6):\n",
    "        print('{:02d} '.format(result[j]), end=' ')\n",
    "    # ===== for j\n",
    "    print()\n",
    "# ===== for i"
   ]
  },
  {
   "cell_type": "code",
   "execution_count": 8,
   "id": "bc4565fc",
   "metadata": {},
   "outputs": [
    {
     "name": "stdout",
     "output_type": "stream",
     "text": [
      "로또 복권 구매 금액을 입력하세요: 5000\n",
      "  1 game: 03  09  10  12  25  34  \n",
      "  2 game: 01  02  25  28  31  42  \n",
      "  3 game: 02  17  22  38  40  44  \n",
      "  4 game: 06  12  17  19  28  43  \n",
      "  5 game: 03  07  08  21  39  45  \n"
     ]
    }
   ],
   "source": [
    "money = int(input('로또 복권 구매 금액을 입력하세요: '))\n",
    "for i in range(money // 1000):\n",
    "    # random.shuffle(lotto)\n",
    "    print('{:3d} game: '.format(i + 1), end='')\n",
    "    # result = lotto[:6]\n",
    "    result = random.sample(lotto, 6)\n",
    "    result.sort()\n",
    "    for j in range(6):\n",
    "        print('{:02d} '.format(result[j]), end=' ')\n",
    "    # ===== for j\n",
    "    print()\n",
    "# ===== for i"
   ]
  },
  {
   "cell_type": "code",
   "execution_count": null,
   "id": "49a478e4",
   "metadata": {},
   "outputs": [],
   "source": []
  },
  {
   "cell_type": "code",
   "execution_count": null,
   "id": "4e7bf408",
   "metadata": {},
   "outputs": [],
   "source": []
  },
  {
   "cell_type": "code",
   "execution_count": null,
   "id": "4848acfd",
   "metadata": {},
   "outputs": [],
   "source": []
  },
  {
   "cell_type": "code",
   "execution_count": null,
   "id": "9dfb6eeb",
   "metadata": {},
   "outputs": [],
   "source": []
  },
  {
   "cell_type": "code",
   "execution_count": null,
   "id": "26629d46",
   "metadata": {},
   "outputs": [],
   "source": []
  }
 ],
 "metadata": {
  "kernelspec": {
   "display_name": "Python 3",
   "language": "python",
   "name": "python3"
  },
  "language_info": {
   "codemirror_mode": {
    "name": "ipython",
    "version": 3
   },
   "file_extension": ".py",
   "mimetype": "text/x-python",
   "name": "python",
   "nbconvert_exporter": "python",
   "pygments_lexer": "ipython3",
   "version": "3.6.8"
  }
 },
 "nbformat": 4,
 "nbformat_minor": 5
}
