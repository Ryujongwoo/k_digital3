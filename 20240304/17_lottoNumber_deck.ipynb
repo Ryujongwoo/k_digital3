{
 "cells": [
  {
   "cell_type": "code",
   "execution_count": 1,
   "id": "0bc95195",
   "metadata": {},
   "outputs": [],
   "source": [
    "import random\n",
    "import time"
   ]
  },
  {
   "cell_type": "code",
   "execution_count": 35,
   "id": "92af5a71",
   "metadata": {},
   "outputs": [
    {
     "name": "stdout",
     "output_type": "stream",
     "text": [
      " 1  2  3  4  5  6  7  8  9 10 \n",
      "11 12 13 14 15 16 17 18 19 20 \n",
      "21 22 23 24 25 26 27 28 29 30 \n",
      "31 32 33 34 35 36 37 38 39 40 \n",
      "41 42 43 44 45 \n",
      "============================== 섞기전\n",
      " 3 24  5 12 16 26 28  2  4 37 \n",
      "19 31 23 39  8 27 20 29 15  6 \n",
      " 7 14 45  9 17 25 30  1 10 36 \n",
      "22 43 35 11 34 42 21 41 32 38 \n",
      "18 44 33 13 40 \n",
      "============================== 섞은후\n",
      "1등 번호:  3, 24,  5, 12, 16, 26, 보너스 번호: 28\n",
      "Wall time: 7.04 s\n"
     ]
    }
   ],
   "source": [
    "%%time\n",
    "# %%time 매직 명령은 쥬피터 노트북 한 셀이 실행되는 시간을 출력한다.\n",
    "\n",
    "# 로또 추첨기로 사용할 리스트를 만들고 1 ~ 45로 초기화 시킨다.\n",
    "# lotto = []\n",
    "# for i in range(45):\n",
    "    # lotto.append(i + 1)\n",
    "# lotto = [i + 1 for i in range(45)]\n",
    "lotto = [i for i in range(1, 46)]\n",
    "# print(lotto)\n",
    "\n",
    "# 섞기전 상태를 출력한다. => 1줄에 숫자 10개씩 출력한다.\n",
    "for i in range(len(lotto)):\n",
    "    print('{:2d}'.format(lotto[i]), end=' ')\n",
    "    if (i + 1) % 10 == 0:\n",
    "        print()\n",
    "    # ===== if\n",
    "# ===== for\n",
    "print('\\n' + '=' * 30 + ' 섞기전')\n",
    "\n",
    "# 섞는다.\n",
    "'''\n",
    "# lotto[0]와(고정) lotto[1] ~ lotto[44] 중에서 랜덤한 위치의 값을 선택해서 두 기억장소의 값을 교환한다.\n",
    "for i in range(1000000):\n",
    "    # 1 ~ 44 중에서 랜덤한 값을 발생시킨다.\n",
    "    r = random.randint(1, 44)\n",
    "    # lotto[0]와 lotto[r]에 저장된 값을 교환한다.\n",
    "    # temp = lotto[0]\n",
    "    # lotto[0] = lotto[r]\n",
    "    # lotto[r] = temp\n",
    "    lotto[0], lotto[r] = lotto[r], lotto[0]\n",
    "# ===== for\n",
    "'''\n",
    "# shuffle() 메소드로 데이터를 섞을 수 있다. => 반복 처리보다 속도가 월등히 빠르다.\n",
    "random.shuffle(lotto)\n",
    "\n",
    "# 섞은후 상태를 출력한다. => 1줄에 숫자 10개씩 출력한다.\n",
    "for i in range(len(lotto)):\n",
    "    print('{:2d}'.format(lotto[i]), end=' ')\n",
    "    if (i + 1) % 10 == 0:\n",
    "        print()\n",
    "    # ===== if\n",
    "# ===== for\n",
    "print('\\n' + '=' * 30 + ' 섞은후')\n",
    "\n",
    "# 1등 번호와 보너스 번호를 출력한다.\n",
    "print('1등 번호: ', end='')\n",
    "for i in range(6):\n",
    "    time.sleep(1)\n",
    "    print('{:2d}'.format(lotto[i]), end=', ')\n",
    "# ===== for\n",
    "time.sleep(1)\n",
    "print('보너스 번호: {:2d}'.format(lotto[6]))"
   ]
  },
  {
   "cell_type": "code",
   "execution_count": 37,
   "id": "20277cee",
   "metadata": {},
   "outputs": [
    {
     "name": "stdout",
     "output_type": "stream",
     "text": [
      "1등 번호: 42, 17,  5, 38, 24, 15, 보너스 번호:  2\n",
      "Wall time: 7.04 s\n"
     ]
    }
   ],
   "source": [
    "%%time\n",
    "lotto = [i for i in range(1, 46)]\n",
    "# sample(데이터, 개수) 메소드는 데이터 중에서 무작위로 지정한 개수만큼 샘플링한다.\n",
    "lotto = random.sample(lotto, 7)\n",
    "print('1등 번호: ', end='')\n",
    "for i in range(6):\n",
    "    time.sleep(1)\n",
    "    print('{:2d}'.format(lotto[i]), end=', ')\n",
    "# ===== for\n",
    "time.sleep(1)\n",
    "print('보너스 번호: {:2d}'.format(lotto[6]))"
   ]
  },
  {
   "cell_type": "code",
   "execution_count": 67,
   "id": "d8c2974f",
   "metadata": {},
   "outputs": [
    {
     "name": "stdout",
     "output_type": "stream",
     "text": [
      "[4, 6, 44, 24, 11, 20]\n"
     ]
    }
   ],
   "source": [
    "# seed() 메소드를 이용하면 모두 같은 난수 배열을 얻을 수 있다. => 테스트 시 사용한다.\n",
    "random.seed(2)\n",
    "lotto = [i for i in range(1, 46)]\n",
    "print(random.sample(lotto, 6))"
   ]
  },
  {
   "cell_type": "code",
   "execution_count": null,
   "id": "badc23f5",
   "metadata": {},
   "outputs": [],
   "source": []
  },
  {
   "cell_type": "code",
   "execution_count": null,
   "id": "9ff781cc",
   "metadata": {},
   "outputs": [],
   "source": []
  }
 ],
 "metadata": {
  "kernelspec": {
   "display_name": "Python 3",
   "language": "python",
   "name": "python3"
  },
  "language_info": {
   "codemirror_mode": {
    "name": "ipython",
    "version": 3
   },
   "file_extension": ".py",
   "mimetype": "text/x-python",
   "name": "python",
   "nbconvert_exporter": "python",
   "pygments_lexer": "ipython3",
   "version": "3.6.8"
  }
 },
 "nbformat": 4,
 "nbformat_minor": 5
}
