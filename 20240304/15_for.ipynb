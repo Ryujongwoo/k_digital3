{
 "cells": [
  {
   "cell_type": "markdown",
   "id": "725df4ed",
   "metadata": {},
   "source": [
    "for\n",
    "\n",
    "반복에 사용되는 변수에 리스트, 튜플, 딕셔너리, set에 저장된 데이터가 처음부터 마지막까지 차례대로 대입되며 반복한다.\n",
    "***\n",
    "for 변수 in 리스트 or 튜플 or 딕셔너리 or set:  \n",
    "&nbsp;&nbsp;&nbsp;&nbsp;반복할 문장  \n",
    "&nbsp;&nbsp;&nbsp;&nbsp;..."
   ]
  },
  {
   "cell_type": "markdown",
   "id": "66c83519",
   "metadata": {},
   "source": [
    "range() 함수\n",
    "\n",
    "range() 함수는 지정한 초기치, 최종치, 증가치에 따른 숫자 리스트를 만들어 리턴한다.  \n",
    "range() 함수는 초기치 부터 증가치 만큼씩 증가하며 최종치를 넘어가지 않는 숫자 리스트를 만든다.\n",
    "***\n",
    "range([초기치, ]최종치[, 증가치])  \n",
    "초기치와 증가치는 생략할 수 있고 초기치는 생략시 0을 증가치는 생략시 1을 기본값으로 사용한다.  \n",
    "즉, range(0, 10, 1)과 range(10)은 같은 표현이다."
   ]
  },
  {
   "cell_type": "code",
   "execution_count": 7,
   "id": "ff70136f",
   "metadata": {},
   "outputs": [
    {
     "name": "stdout",
     "output_type": "stream",
     "text": [
      "range(0, 10)\n",
      "[0, 1, 2, 3, 4, 5, 6, 7, 8, 9]\n",
      "[0, 1, 2, 3, 4, 5, 6, 7, 8, 9]\n",
      "[0, 2, 4, 6, 8]\n",
      "[1, 3, 5, 7, 9]\n",
      "[9, 8, 7, 6, 5, 4, 3, 2, 1, 0]\n"
     ]
    }
   ],
   "source": [
    "print(range(0, 10, 1))\n",
    "# range() 함수가 실행된 결과(리스트)는 list() 생성자 함수를 사용해서 확인해야 한다.\n",
    "print(list(range(0, 10, 1)))\n",
    "print(list(range(10)))\n",
    "print(list(range(0, 10, 2)))\n",
    "print(list(range(1, 10, 2)))\n",
    "print(list(range(9, -1, -1)))"
   ]
  },
  {
   "cell_type": "code",
   "execution_count": 16,
   "id": "c84daa08",
   "metadata": {},
   "outputs": [
    {
     "name": "stdout",
     "output_type": "stream",
     "text": [
      "[0, 1, 2, 3, 4]\n",
      "0\n",
      "1\n",
      "2\n",
      "3\n",
      "4\n"
     ]
    }
   ],
   "source": [
    "print(list(range(5)))\n",
    "for i in range(5):\n",
    "    print(i)"
   ]
  },
  {
   "cell_type": "code",
   "execution_count": 17,
   "id": "a5233a98",
   "metadata": {},
   "outputs": [
    {
     "name": "stdout",
     "output_type": "stream",
     "text": [
      "55\n"
     ]
    }
   ],
   "source": [
    "# 1 ~ 10의 합계 => while 사용\n",
    "i = 0\n",
    "total = 0\n",
    "while i < 10:\n",
    "    i += 1\n",
    "    total += i\n",
    "# ===== while\n",
    "print(total)"
   ]
  },
  {
   "cell_type": "code",
   "execution_count": 18,
   "id": "a7f563ab",
   "metadata": {},
   "outputs": [
    {
     "name": "stdout",
     "output_type": "stream",
     "text": [
      "55\n"
     ]
    }
   ],
   "source": [
    "# 1 ~ 10의 합계 => for 사용\n",
    "total = 0\n",
    "for i in range(1, 11, 1):\n",
    "    total += i\n",
    "# ===== for\n",
    "print(total)"
   ]
  },
  {
   "cell_type": "markdown",
   "id": "61eded63",
   "metadata": {},
   "source": [
    "주사위를 10번 굴려서 출현한 눈의 개수를 센다. => 변수 사용"
   ]
  },
  {
   "cell_type": "code",
   "execution_count": 19,
   "id": "90e27678",
   "metadata": {},
   "outputs": [],
   "source": [
    "import random"
   ]
  },
  {
   "cell_type": "code",
   "execution_count": 33,
   "id": "b61a5e1f",
   "metadata": {},
   "outputs": [
    {
     "name": "stdout",
     "output_type": "stream",
     "text": [
      "6 1 4 1 4 3 5 3 3 1 \n",
      "1의 개수: 3\n",
      "2의 개수: 0\n",
      "3의 개수: 3\n",
      "4의 개수: 2\n",
      "5의 개수: 1\n",
      "6의 개수: 1\n"
     ]
    }
   ],
   "source": [
    "# 1부터 6사이의 주사위 눈의 개수를 기억할 변수 6개를 선언하고 각각 0으로 초기화시킨다.\n",
    "number1 = 0; number2 = 0; number3 = 0; number4 = 0; number5 = 0; number6 = 0\n",
    "# 주사위를 10번 굴린다.\n",
    "for i in range(10):\n",
    "    dice = random.randint(1, 6) # 주사위를 굴린다.\n",
    "    print(dice, end=' ')\n",
    "    # 주사위를 굴려서 발생한 눈의 개수를 증가시킨다.\n",
    "    if dice == 1:\n",
    "        number1 += 1\n",
    "    elif dice == 2:\n",
    "        number2 += 1\n",
    "    elif dice == 3:\n",
    "        number3 += 1\n",
    "    elif dice == 4:\n",
    "        number4 += 1\n",
    "    elif dice == 5:\n",
    "        number5 += 1\n",
    "    else:\n",
    "        number6 += 1\n",
    "    # ===== if\n",
    "# ===== for\n",
    "print()\n",
    "# 주사위 눈의 개수를 출력한다.\n",
    "print('1의 개수: {}'.format(number1))\n",
    "print('2의 개수: {}'.format(number2))\n",
    "print('3의 개수: {}'.format(number3))\n",
    "print('4의 개수: {}'.format(number4))\n",
    "print('5의 개수: {}'.format(number5))\n",
    "print('6의 개수: {}'.format(number6))"
   ]
  },
  {
   "cell_type": "markdown",
   "id": "3da88bd2",
   "metadata": {},
   "source": [
    "주사위를 10번 굴려서 출현한 눈의 개수를 센다. => 리스트 사용"
   ]
  },
  {
   "cell_type": "code",
   "execution_count": 45,
   "id": "c887d365",
   "metadata": {},
   "outputs": [
    {
     "name": "stdout",
     "output_type": "stream",
     "text": [
      "[0, 0, 0, 0, 0, 0]\n",
      "1 5 3 1 4 6 4 3 3 2 \n",
      "1의 개수: 2\n",
      "2의 개수: 1\n",
      "3의 개수: 3\n",
      "4의 개수: 2\n",
      "5의 개수: 1\n",
      "6의 개수: 1\n"
     ]
    }
   ],
   "source": [
    "# 1. 주사위 눈의 개수를 기억할 크기가 6인 0으로 초기화된 리스트를 만든다.\n",
    "# number = [0, 0, 0, 0, 0, 0]\n",
    "# number = [0] * 6\n",
    "# 2. 빈 리스트를 선언하고 append() 메소드로 0을 넣어준다.\n",
    "# number = []\n",
    "# for i in range(6):\n",
    "    # number.append(0)\n",
    "# 3. 컴프리핸션 사용해서 리스트를 만든다.\n",
    "number = [0 for i in range(6)]\n",
    "print(number)\n",
    "for i in range(10):\n",
    "    dice = random.randint(1, 6)\n",
    "    print(dice, end=' ')\n",
    "    # 주사위를 굴려서 발생한 눈의 개수를 증가시킨다.\n",
    "    if dice == 1:\n",
    "        number[0] += 1\n",
    "    elif dice == 2:\n",
    "        number[1] += 1\n",
    "    elif dice == 3:\n",
    "        number[2] += 1\n",
    "    elif dice == 4:\n",
    "        number[3] += 1\n",
    "    elif dice == 5:\n",
    "        number[4] += 1\n",
    "    else:\n",
    "        number[5] += 1\n",
    "    # ===== if\n",
    "# ===== for\n",
    "print()\n",
    "print('1의 개수: {}'.format(number[0]))\n",
    "print('2의 개수: {}'.format(number[1]))\n",
    "print('3의 개수: {}'.format(number[2]))\n",
    "print('4의 개수: {}'.format(number[3]))\n",
    "print('5의 개수: {}'.format(number[4]))\n",
    "print('6의 개수: {}'.format(number[5]))"
   ]
  },
  {
   "cell_type": "code",
   "execution_count": 51,
   "id": "28c6bc3a",
   "metadata": {},
   "outputs": [
    {
     "name": "stdout",
     "output_type": "stream",
     "text": [
      "[0, 0, 0, 0, 0, 0]\n",
      "2 1 4 6 6 2 2 1 6 6 \n",
      "1의 개수: 2\n",
      "2의 개수: 3\n",
      "3의 개수: 0\n",
      "4의 개수: 1\n",
      "5의 개수: 0\n",
      "6의 개수: 4\n"
     ]
    }
   ],
   "source": [
    "number = [0 for i in range(6)]\n",
    "print(number)\n",
    "for i in range(10):\n",
    "    dice = random.randint(1, 6)\n",
    "    print(dice, end=' ')\n",
    "    # 주사위를 굴려서 발생한 눈의 개수를 증가시킨다.\n",
    "    number[dice - 1] += 1\n",
    "# ===== for\n",
    "print()\n",
    "for i in range(6):\n",
    "    print('{}의 개수: {}'.format(i + 1, number[i]))"
   ]
  },
  {
   "cell_type": "code",
   "execution_count": null,
   "id": "83ad2f45",
   "metadata": {},
   "outputs": [],
   "source": []
  },
  {
   "cell_type": "code",
   "execution_count": null,
   "id": "c9425bad",
   "metadata": {},
   "outputs": [],
   "source": []
  }
 ],
 "metadata": {
  "kernelspec": {
   "display_name": "Python 3",
   "language": "python",
   "name": "python3"
  },
  "language_info": {
   "codemirror_mode": {
    "name": "ipython",
    "version": 3
   },
   "file_extension": ".py",
   "mimetype": "text/x-python",
   "name": "python",
   "nbconvert_exporter": "python",
   "pygments_lexer": "ipython3",
   "version": "3.6.8"
  }
 },
 "nbformat": 4,
 "nbformat_minor": 5
}
