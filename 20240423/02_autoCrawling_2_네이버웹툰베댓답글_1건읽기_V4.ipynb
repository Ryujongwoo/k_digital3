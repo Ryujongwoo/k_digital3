{
 "cells": [
  {
   "cell_type": "code",
   "execution_count": 1,
   "id": "cba03879",
   "metadata": {},
   "outputs": [],
   "source": [
    "import warnings\n",
    "warnings.filterwarnings(action='ignore')\n",
    "%config Completer.use_jedi = False"
   ]
  },
  {
   "cell_type": "code",
   "execution_count": 2,
   "id": "725d7538",
   "metadata": {},
   "outputs": [],
   "source": [
    "from bs4 import BeautifulSoup\n",
    "from selenium import webdriver\n",
    "from selenium.webdriver.chrome.options import Options\n",
    "from selenium.webdriver.common.by import By # selenium 4 버전의 'By'를 사용하기 위해 import 한다.\n",
    "import time"
   ]
  },
  {
   "cell_type": "markdown",
   "id": "a69933ff",
   "metadata": {},
   "source": [
    "from selenium.webdriver.common.by import By를 실행하고 사용한다.  \n",
    "selenium 3 버전 => selenium 4 버전  \n",
    "find_element_by_class_name('') => find_element(By.CLASS_NAME, '')  \n",
    "find_element_by_id('') => find_element(By.ID, '')  \n",
    "find_element_by_name('') => find_element(By.NAME, '')  \n",
    "find_element_by_link_text('') => find_element(By.LINK_TEXT, '')  \n",
    "find_element_by_partial_link_text('') => find_element(By.PARTIAL_LINK_TEXT, '')  \n",
    "find_element_by_tag_name('') => find_element(By.TAG_NAME, '')  \n",
    "find_element_by_css_selector('') => find_element(By.CSS_SELECTOR, '')  \n",
    "find_element_by_xpath('') => find_element(By.XPATH, '')  "
   ]
  },
  {
   "cell_type": "code",
   "execution_count": 3,
   "id": "d6d63cd7",
   "metadata": {
    "scrolled": false
   },
   "outputs": [
    {
     "name": "stdout",
     "output_type": "stream",
     "text": [
      "15\n",
      " 3. 어쨌든 앞자리 바뀌었네요\n",
      "================================================================================\n",
      "30\n",
      "['ㅋㅋㅋㅋㅋㅋㅋㅋㅋㅋㅋㅋㅋㅋ']\n",
      "['너어는 진짜 나쁜사람 ㅜㅜ']\n",
      "['천재닷😌😌😌😌']\n",
      "['이 사악한ㅋㅋㅋㅋㅋㅋㅋ']\n",
      "['이 악마ㅋㅋㅋㅋㅋㅋㅋㅋ']\n",
      "['리버스 다이어트 ㅋㅋㅋㅋㅋㅋㅋㅋㅋㅋㅋㅋㅋㅋㅋㅋ']\n",
      "['엌ㅋㅋㅋㅋㅋㅋㅋㅋㅋ']\n",
      "['야이앀ㅋㅋㅋㅋ']\n",
      "['나빠요!ㅋㅋㅋㅋㅋ']\n",
      "['와 ㅋㅋㅋㅋㅋㅋㅋㅋ나빠 ㅋㅋㅋ']\n",
      "['ㅋㅋㅋㅋㅋㅋㅋ개욱기넼ㅋㅋㅋㅋ']\n",
      "['이 악마야ㅋㅋㅋㅋ']\n",
      "['사탄좌ㅋㅋㅋㅋㅋㅋㅋㅋㅋㅋㅋ']\n",
      "['ㅋㅋㅋㅋ 😆 ']\n",
      "['야 너어는 진짜 ㅋㅋㅋㅋㅋㅋㅋㅋㅋ 사탄도 울고갈 ㅋㅋㅋㅋㅋ ']\n",
      "['난 진짜 살이 안쪄서 고민인데']\n",
      "['아 현웃 ㅋㅋㅋㅋㅋ 빵터짐ㅋㅋㅋㅋ']\n",
      "['아니 너무햌ㅋㅋㅋㅋㅋㅋㅋㅋㅋㅋㅋㅋㅋ ㅜㅜㅜㅜㅜ']\n",
      "['못됐다 진짜ㅋㅋㅋㅋㅋㅋㅋㅋ']\n",
      "['앗ㅋㅋ. 너무해']\n",
      "['???: \"하지만 바뀌었죠?\"']\n",
      "['👍 ']\n",
      "['ㅋㅋㅋㅋ']\n",
      "['ㅋㅋㅋㅋㅋㅋㅋㅋㅋㅋㅋ개냉정햌ㅋㅋㅋㅋㅋㅋㅋㅋ']\n",
      "['너어는 진짜ㅜ']\n",
      "['아쨌든 거짓말은 안했다 ㅋㅋㅋㅋ']\n",
      "['이런나쁜사람ㅜㅋㅋㅋㅋㅋㅋ']\n",
      "['다이어트 말고 트어이다 했네']\n",
      "['리버스 다이어트 미쳤나ㅋㅋㅋㅋㅋㅋㅋㅋㅋㅋㅋㅋㅋㅋㅋㅋㅋㅋㅋㅋㅋㅋㅋㅋㅋㅋㅋㅋ']\n",
      "['하지만 바꼈죠']\n"
     ]
    }
   ],
   "source": [
    "option = Options()\n",
    "option.add_argument('--window-size=1800,1000')\n",
    "driver = webdriver.Chrome(options=option)\n",
    "driver.implicitly_wait(5)\n",
    "\n",
    "driver.get('https://comic.naver.com/webtoon/detail?titleId=812354&no=22&week=finish')\n",
    "html = driver.page_source\n",
    "soup = BeautifulSoup(html, 'html.parser')\n",
    "reviews = soup.select('span.u_cbox_contents')\n",
    "print(len(reviews))\n",
    "print('{:2d}. {}'.format(3, reviews[2].text))\n",
    "print('=' * 80)\n",
    "\n",
    "# find_element_by_xpath('element_xpath') => find_element(By_XPATH, 'element_xpath')\n",
    "# driver.find_element_by_xpath( # selenium 3 버전\n",
    "    # '//*[@id=\"cbox_module_wai_u_cbox_content_wrap_tabpanel\"]/ul/li[3]/div[1]/div/div[4]/a'\n",
    "# ).click()\n",
    "driver.find_element(By.XPATH, # selenium 4 버전\n",
    "      '//*[@id=\"cbox_module_wai_u_cbox_content_wrap_tabpanel\"]/ul/li[3]/div[1]/div/div[4]/a'\n",
    ").click()\n",
    "time.sleep(0.5)\n",
    "\n",
    "while True:\n",
    "    try:\n",
    "        # driver.find_element_by_xpath( # selenium 3 버전\n",
    "            # '//*[@id=\"cbox_module_wai_u_cbox_content_wrap_tabpanel\"]/ul/li[3]/div[2]/div[2]/a'\n",
    "        # ).click()\n",
    "        driver.find_element(By.XPATH, # selenium 4 버전\n",
    "            '//*[@id=\"cbox_module_wai_u_cbox_content_wrap_tabpanel\"]/ul/li[3]/div[2]/div[2]/a'\n",
    "        ).click()\n",
    "        time.sleep(0.5)\n",
    "    except:\n",
    "        break\n",
    "\n",
    "html = driver.page_source\n",
    "soup = BeautifulSoup(html, 'html.parser')\n",
    "\n",
    "replys = soup.select('#cbox_module_wai_u_cbox_content_wrap_tabpanel div.u_cbox_reply_area span.u_cbox_contents')\n",
    "print(len(replys))\n",
    "for reply in replys:\n",
    "    print(reply.text.split('\\n'))\n",
    "\n",
    "# driver.find_element_by_xpath( # selenium 3 버전\n",
    "    # '//*[@id=\"cbox_module_wai_u_cbox_content_wrap_tabpanel\"]/ul/li[3]/div[2]/a'\n",
    "# ).click()\n",
    "driver.find_element(By.XPATH, # selenium 4 버전\n",
    "    '//*[@id=\"cbox_module_wai_u_cbox_content_wrap_tabpanel\"]/ul/li[3]/div[2]/a'\n",
    ").click()\n",
    "time.sleep(0.5)"
   ]
  },
  {
   "cell_type": "code",
   "execution_count": null,
   "id": "de5b897d",
   "metadata": {},
   "outputs": [],
   "source": []
  },
  {
   "cell_type": "code",
   "execution_count": null,
   "id": "6a6c7580",
   "metadata": {},
   "outputs": [],
   "source": []
  }
 ],
 "metadata": {
  "kernelspec": {
   "display_name": "python37",
   "language": "python",
   "name": "python37"
  },
  "language_info": {
   "codemirror_mode": {
    "name": "ipython",
    "version": 3
   },
   "file_extension": ".py",
   "mimetype": "text/x-python",
   "name": "python",
   "nbconvert_exporter": "python",
   "pygments_lexer": "ipython3",
   "version": "3.7.16"
  }
 },
 "nbformat": 4,
 "nbformat_minor": 5
}
