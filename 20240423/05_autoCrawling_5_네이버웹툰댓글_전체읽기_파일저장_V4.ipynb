{
 "cells": [
  {
   "cell_type": "code",
   "execution_count": 1,
   "id": "c7fa7238",
   "metadata": {},
   "outputs": [],
   "source": [
    "import warnings\n",
    "warnings.filterwarnings(action='ignore')\n",
    "%config Completer.use_jedi = False"
   ]
  },
  {
   "cell_type": "code",
   "execution_count": 2,
   "id": "1dfc941c",
   "metadata": {},
   "outputs": [],
   "source": [
    "from bs4 import BeautifulSoup\n",
    "from selenium import webdriver\n",
    "from selenium.webdriver.chrome.options import Options\n",
    "from selenium.webdriver.common.by import By\n",
    "import time"
   ]
  },
  {
   "cell_type": "code",
   "execution_count": 3,
   "id": "50d7fe80",
   "metadata": {
    "scrolled": false
   },
   "outputs": [
    {
     "name": "stdout",
     "output_type": "stream",
     "text": [
      "1547\n",
      "review.txt 파일로 저장완료\n"
     ]
    }
   ],
   "source": [
    "option = Options()\n",
    "option.add_argument('--window-size=1800,1000')\n",
    "driver = webdriver.Chrome(options=option)\n",
    "driver.implicitly_wait(5)\n",
    "\n",
    "driver.get('https://comic.naver.com/webtoon/detail?titleId=812354&no=22&week=finish')\n",
    "html = driver.page_source\n",
    "soup = BeautifulSoup(html, 'html.parser')\n",
    "\n",
    "# driver.find_element_by_css_selector(\n",
    "driver.find_element(By.CSS_SELECTOR, \n",
    "    '#cbox_module_wai_u_cbox_sort_option_tab2'\n",
    ").click()\n",
    "time.sleep(0.5)\n",
    "\n",
    "while True:\n",
    "    try:\n",
    "        # driver.find_element_by_xpath(\n",
    "        driver.find_element(By.XPATH, \n",
    "            '//*[@id=\"cbox_module\"]/div/div[7]/a'\n",
    "        ).click()\n",
    "        time.sleep(0.5)\n",
    "    except:\n",
    "        break\n",
    "        \n",
    "html = driver.page_source\n",
    "soup = BeautifulSoup(html, 'html.parser')\n",
    "replys = soup.select('#cbox_module_wai_u_cbox_content_wrap_tabpanel div.u_cbox_comment_box span.u_cbox_contents')\n",
    "print(len(replys))\n",
    "\n",
    "file = open('review.txt', 'w', -1, 'utf-8')\n",
    "for reply in replys:\n",
    "    file.write(reply.text + '\\n')\n",
    "file.close()\n",
    "print('review.txt 파일로 저장완료')"
   ]
  },
  {
   "cell_type": "code",
   "execution_count": null,
   "id": "06cde453",
   "metadata": {},
   "outputs": [],
   "source": []
  },
  {
   "cell_type": "code",
   "execution_count": null,
   "id": "0b908cd8",
   "metadata": {},
   "outputs": [],
   "source": []
  }
 ],
 "metadata": {
  "kernelspec": {
   "display_name": "python37",
   "language": "python",
   "name": "python37"
  },
  "language_info": {
   "codemirror_mode": {
    "name": "ipython",
    "version": 3
   },
   "file_extension": ".py",
   "mimetype": "text/x-python",
   "name": "python",
   "nbconvert_exporter": "python",
   "pygments_lexer": "ipython3",
   "version": "3.7.16"
  }
 },
 "nbformat": 4,
 "nbformat_minor": 5
}
