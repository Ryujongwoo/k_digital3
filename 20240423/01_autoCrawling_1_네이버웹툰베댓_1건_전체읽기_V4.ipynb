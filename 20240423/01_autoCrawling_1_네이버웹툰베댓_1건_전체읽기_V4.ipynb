{
 "cells": [
  {
   "cell_type": "code",
   "execution_count": 1,
   "id": "8252d24a",
   "metadata": {},
   "outputs": [],
   "source": [
    "import warnings\n",
    "warnings.filterwarnings(action='ignore')\n",
    "%config Completer.use_jedi = False"
   ]
  },
  {
   "cell_type": "code",
   "execution_count": 2,
   "id": "21fab2cd",
   "metadata": {},
   "outputs": [],
   "source": [
    "from bs4 import BeautifulSoup\n",
    "from selenium import webdriver\n",
    "from selenium.webdriver.chrome.options import Options"
   ]
  },
  {
   "cell_type": "markdown",
   "id": "f4b8246d",
   "metadata": {},
   "source": [
    "셀레니움 옵션"
   ]
  },
  {
   "cell_type": "code",
   "execution_count": 3,
   "id": "79a1c875",
   "metadata": {},
   "outputs": [
    {
     "name": "stdout",
     "output_type": "stream",
     "text": [
      "한번도 힘든 앞자리 바꾸기를 두번이나\n",
      "================================================================================\n",
      "15\n",
      " 1. 냥군 어떻게 한거야 제발 알려줘\n",
      " 2. 한번도 힘든 앞자리 바꾸기를 두번이나\n",
      " 3. 어쨌든 앞자리 바뀌었네요\n",
      " 4. 대장내시경 미친\n",
      " 5. 이와중에 냥군 체중이 우와라고 써 있음ㅋㅋㅋ\n",
      " 6. 아파요...\n",
      " 7. 헬스장 수익의 9할은 기부금이라는 소문이 있다\n",
      " 8. 뭐야 다이어트 하던 기억을 잃은 환자한테 사진 보여주는 주치의야 뭐야\n",
      " 9. 대장 내시경 ㅋㅋㅋㅋㅋㅋㅋㅋㅋㅋㅋㅋ 획기적인 방법이네요...\n",
      "10. ???: 어떻게 하면 수능 만점을 받을 수 있죠????: 교과서 위주로 공부했어요\n",
      "11. 사람 현실몸은 포샵 못 하고 사람 눈엔 필터 못 끼워요\n",
      "12. 미국 미신중에 신부의 드레스차림을 예식 전에 보면 부정탄다는 게 있어서 본식때나 그 모습을 볼 수 있다던데... 신부 입장 하자마자 냅다 우는 남편들 영상 귀여워\n",
      "13. 팩폭다발구역입니다\n",
      "14. 먹는데 돈을 얼마나 들였는데, 이걸 다 빼라고요?\n",
      "15. 무리하면 이제 다음날부터 운동 거들떠도 보기 싫어짐....\n"
     ]
    }
   ],
   "source": [
    "option = Options()\n",
    "option.add_argument('--window-size=1800,1000')\n",
    "# selenium 3 버전은 Chrome()의 인수로 './chromedriver.exe'와 같이 가상 크롬 드라이버를 지정했지만\n",
    "# selenium 4 버전은 가상 크롬 드라이버를 지정하지 않는다.\n",
    "# 가상 크롬 드라이버를 지정하지 않더라도 소스 프로그램이 있는 경로에 가상 크롬 드라이버를 복사해 넣어야 한다.\n",
    "# pip install selenium webdriver_manager를 실행해서 webdriver_manager를 설치하면 현재 사용중인 크롬의 버전과\n",
    "# 가상 크롬 드라이버의 버전이 다르더라도 자동으로 다운받아 실행해주고 소스 프로그램이 있는 경로에 가상 크롬\n",
    "# 드라이버를 복사해 넣지 않아도 실행된다.\n",
    "driver = webdriver.Chrome(options=option)\n",
    "driver.implicitly_wait(5)\n",
    "driver.get('https://comic.naver.com/webtoon/detail?titleId=812354&no=22&week=finish')\n",
    "\n",
    "html = driver.page_source\n",
    "soup = BeautifulSoup(html, 'html.parser')\n",
    "review = soup.select_one('#cbox_module_wai_u_cbox_content_wrap_tabpanel > ul > li.u_cbox_comment.cbox_module__comment_458371000._user_id_no_3LAMI > div.u_cbox_comment_box > div > div.u_cbox_text_wrap > span.u_cbox_contents')\n",
    "print(review.text)\n",
    "print('=' * 80)\n",
    "\n",
    "html = driver.page_source\n",
    "soup = BeautifulSoup(html, 'html.parser')\n",
    "reviews = soup.select('span.u_cbox_contents')\n",
    "print(len(reviews))\n",
    "for i in range(len(reviews)):\n",
    "    print('{:2d}. {}'.format(i + 1, reviews[i].text))"
   ]
  },
  {
   "cell_type": "code",
   "execution_count": null,
   "id": "39b01b87",
   "metadata": {},
   "outputs": [],
   "source": []
  },
  {
   "cell_type": "code",
   "execution_count": null,
   "id": "05b46738",
   "metadata": {},
   "outputs": [],
   "source": []
  }
 ],
 "metadata": {
  "kernelspec": {
   "display_name": "python37",
   "language": "python",
   "name": "python37"
  },
  "language_info": {
   "codemirror_mode": {
    "name": "ipython",
    "version": 3
   },
   "file_extension": ".py",
   "mimetype": "text/x-python",
   "name": "python",
   "nbconvert_exporter": "python",
   "pygments_lexer": "ipython3",
   "version": "3.7.16"
  }
 },
 "nbformat": 4,
 "nbformat_minor": 5
}
