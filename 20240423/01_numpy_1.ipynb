{
 "cells": [
  {
   "cell_type": "code",
   "execution_count": 1,
   "id": "db59c61c",
   "metadata": {},
   "outputs": [],
   "source": [
    "import warnings\n",
    "warnings.filterwarnings(action='ignore')\n",
    "%config Completer.use_jedi = False"
   ]
  },
  {
   "cell_type": "markdown",
   "id": "62a4bdda",
   "metadata": {},
   "source": [
    "numpy의 특징\n",
    "\n",
    "파이썬 기반 데이터 분석 환경에서 numpy는 행렬 연산을 위한 핵심 라이브러리 이다.  \n",
    "numpy는 대규모, 다차원 배열과 행렬 연산에 필요한 다양한 함수 및 메소드를 제공하고 메모리 버퍼에 데이터를 저장하고 처리하는 효율적인 인터페이스를 제공한다.  \n",
    "파이썬의 리스트 객체를 개선한 numpy의 ndarray 객체를 사용하면 더 많은 데이터를 더 빠르게 처리할 수 있다.\n",
    "\n",
    "&nbsp;1. 강력한 n차원 배열 객체  \n",
    "&nbsp;2. 정교한 브로드캐스팅(다대일 연산) 기능  \n",
    "&nbsp;3. c/c++ 및 fortran 코드 통합 도구  \n",
    "&nbsp;4. 유연한 선형 대수, 푸리에 변환 및 난수 기능  \n",
    "&nbsp;5. 범용적 처리에 사용 가능한 다차원 컨테이너"
   ]
  },
  {
   "cell_type": "code",
   "execution_count": 2,
   "id": "dc1b0369",
   "metadata": {},
   "outputs": [
    {
     "name": "stdout",
     "output_type": "stream",
     "text": [
      "1.21.5\n"
     ]
    }
   ],
   "source": [
    "import numpy as np\n",
    "print(np.__version__) # __version__: 설치된 라이브러리의 버전을 얻어온다."
   ]
  },
  {
   "cell_type": "markdown",
   "id": "fd2e7260",
   "metadata": {},
   "source": [
    "numpy 데이터 타입\n",
    "\n",
    "numpy는 다음과 같은 데이터 타입을 지원한다. => numpy 배열을 만들때 dtype 속성으로 데이터 타입을 지정할 수 있다.  \n",
    "np.int: 정수(고정 소숫점) 타입  \n",
    "np.float: 실수(부동 소수점) 타입  \n",
    "np.bool: 불린(논리값) 타입  \n",
    "np.complex: 복소수 타입  \n",
    "no.object: 파이썬 객체 타입  \n",
    "np.string_: 스트링 타입  \n",
    "np.unicode: 유니코드 타입"
   ]
  },
  {
   "cell_type": "markdown",
   "id": "1f66d40b",
   "metadata": {},
   "source": [
    "numpy는 다차원 배열을 지원하고 numpy 배열 구조는 shape으로 표현한다.  \n",
    "shape은 배열의 구조를 튜플 자료형을 사용해서 정의한다. 예를 들면, 28 * 28 컬러 사진은 폭이 28 픽셀 높이가 28 픽셀, 각 픽셀은 3개의 채널(RGB)로 구성된 구조를 가진다. 따라서 컬러 사진의 데이터 구조는 shape(28, 28, 3)인 3차원 배열이 된다.  \n",
    "다차원 배열은 입체적인 구조를 가지며 데이터 차원은 여러 갈래의 데이터 방향(axis)을 가진다.  \n",
    "3차원 배열의 데이터 방향은 면은 axis=0, 행은 axis=1, 열은 axis=2로 지정한다.\n",
    "\n",
    "<img src=\"./numpyImage01.jpg\" align=\"left\" width=\"800\"/>"
   ]
  },
  {
   "cell_type": "code",
   "execution_count": 3,
   "id": "d29569b8",
   "metadata": {},
   "outputs": [],
   "source": [
    "# numpy 배열 객체 정보 출력용으로 사용할 함수 선언\n",
    "def pprint(arr):\n",
    "    print('type: {}'.format(type(arr)))\n",
    "    print('shape: {}, dimension: {}, dtype: {}'.format(arr.shape, arr.ndim, arr.dtype))\n",
    "    print('numpy 배열의 데이터\\n', arr, sep='')"
   ]
  },
  {
   "cell_type": "markdown",
   "id": "2bfaa631",
   "metadata": {},
   "source": [
    "파이썬 리스트 객체로 numpy 배열을 생성할 수 있다."
   ]
  },
  {
   "cell_type": "code",
   "execution_count": 4,
   "id": "8cf463cc",
   "metadata": {},
   "outputs": [
    {
     "name": "stdout",
     "output_type": "stream",
     "text": [
      "[1, 2, 3]\n",
      "<class 'list'>\n",
      "================================================================================\n",
      "type: <class 'numpy.ndarray'>\n",
      "shape: (3,), dimension: 1, dtype: int32\n",
      "numpy 배열의 데이터\n",
      "[1 2 3]\n",
      "================================================================================\n",
      "type: <class 'numpy.ndarray'>\n",
      "shape: (3,), dimension: 1, dtype: int32\n",
      "numpy 배열의 데이터\n",
      "[1 2 3]\n",
      "================================================================================\n",
      "type: <class 'numpy.ndarray'>\n",
      "shape: (3,), dimension: 1, dtype: int32\n",
      "numpy 배열의 데이터\n",
      "[1 2 3]\n",
      "================================================================================\n",
      "type: <class 'numpy.ndarray'>\n",
      "shape: (3,), dimension: 1, dtype: int64\n",
      "numpy 배열의 데이터\n",
      "[1 2 3]\n"
     ]
    }
   ],
   "source": [
    "# 파이썬 1차원 리스트로 numpy 배열 만들기\n",
    "arr = [1, 2, 3]\n",
    "print(arr)\n",
    "print(type(arr))\n",
    "print('=' * 80)\n",
    "\n",
    "# numpy의 array() 메소드는 인수로 리스트 객체와 데이터 타입을 넘겨받아 numpy 배열을 만든다.\n",
    "# 데이터 타입은 생략 가능하고 기본값은 정수는 np.int(np.int32), 실수는 np.float(np.float64) 이다.\n",
    "a = np.array(arr)\n",
    "pprint(a)\n",
    "print('=' * 80)\n",
    "b = np.array(arr, dtype=np.int)\n",
    "pprint(b)\n",
    "print('=' * 80)\n",
    "c = np.array(arr, dtype=np.int32)\n",
    "pprint(c)\n",
    "print('=' * 80)\n",
    "# 정수형 데이터의 dtype은 np.int8, np.int16, np.int32(np.int), np.int64를 사용할 수 있다.\n",
    "d = np.array(arr, dtype=np.int64)\n",
    "pprint(d)"
   ]
  },
  {
   "cell_type": "code",
   "execution_count": 5,
   "id": "2b6b6d6d",
   "metadata": {},
   "outputs": [
    {
     "name": "stdout",
     "output_type": "stream",
     "text": [
      "[1, 2.0, 3]\n",
      "<class 'list'>\n",
      "================================================================================\n",
      "type: <class 'numpy.ndarray'>\n",
      "shape: (3,), dimension: 1, dtype: float64\n",
      "numpy 배열의 데이터\n",
      "[1. 2. 3.]\n",
      "================================================================================\n",
      "type: <class 'numpy.ndarray'>\n",
      "shape: (3,), dimension: 1, dtype: float64\n",
      "numpy 배열의 데이터\n",
      "[1. 2. 3.]\n",
      "================================================================================\n",
      "type: <class 'numpy.ndarray'>\n",
      "shape: (3,), dimension: 1, dtype: float64\n",
      "numpy 배열의 데이터\n",
      "[1. 2. 3.]\n",
      "================================================================================\n",
      "type: <class 'numpy.ndarray'>\n",
      "shape: (3,), dimension: 1, dtype: float32\n",
      "numpy 배열의 데이터\n",
      "[1. 2. 3.]\n"
     ]
    }
   ],
   "source": [
    "arr = [1, 2., 3]\n",
    "print(arr)\n",
    "print(type(arr))\n",
    "print('=' * 80)\n",
    "a = np.array(arr)\n",
    "pprint(a)\n",
    "print('=' * 80)\n",
    "b = np.array(arr, dtype=np.float)\n",
    "pprint(b)\n",
    "print('=' * 80)\n",
    "c = np.array(arr, dtype=np.float64)\n",
    "pprint(c)\n",
    "print('=' * 80)\n",
    "# 실수형 데이터의 dtype은 np.float16, np.float32, np.float64(np.float)를 사용할 수 있다.\n",
    "d = np.array(arr, dtype=np.float32)\n",
    "pprint(d)"
   ]
  },
  {
   "cell_type": "code",
   "execution_count": 6,
   "id": "b62a9717",
   "metadata": {},
   "outputs": [
    {
     "name": "stdout",
     "output_type": "stream",
     "text": [
      "[[1, 2, 3], [4, 5, 6]]\n",
      "<class 'list'>\n",
      "================================================================================\n",
      "type: <class 'numpy.ndarray'>\n",
      "shape: (2, 3), dimension: 2, dtype: float64\n",
      "numpy 배열의 데이터\n",
      "[[1. 2. 3.]\n",
      " [4. 5. 6.]]\n"
     ]
    }
   ],
   "source": [
    "# 파이썬 2차원 리스트로 numpy 배열 만들기\n",
    "arr = [[1, 2, 3], [4, 5, 6]]\n",
    "print(arr)\n",
    "print(type(arr))\n",
    "print('=' * 80)\n",
    "a = np.array(arr, dtype=np.float)\n",
    "pprint(a)"
   ]
  },
  {
   "cell_type": "code",
   "execution_count": 7,
   "id": "d9033d4e",
   "metadata": {},
   "outputs": [
    {
     "name": "stdout",
     "output_type": "stream",
     "text": [
      "[[[1, 2, 3], [4, 5, 6]], [[11, 22, 33], [44, 55, 66]]]\n",
      "<class 'list'>\n",
      "================================================================================\n",
      "type: <class 'numpy.ndarray'>\n",
      "shape: (2, 2, 3), dimension: 3, dtype: int32\n",
      "numpy 배열의 데이터\n",
      "[[[ 1  2  3]\n",
      "  [ 4  5  6]]\n",
      "\n",
      " [[11 22 33]\n",
      "  [44 55 66]]]\n"
     ]
    }
   ],
   "source": [
    "# 파이썬 3차원 리스트로 numpy 배열 만들기\n",
    "arr = [[[1, 2, 3], [4, 5, 6]], [[11, 22, 33], [44, 55, 66]]]\n",
    "print(arr)\n",
    "print(type(arr))\n",
    "print('=' * 80)\n",
    "a = np.array(arr)\n",
    "pprint(a)"
   ]
  },
  {
   "cell_type": "markdown",
   "id": "dc50afc4",
   "metadata": {},
   "source": [
    "numpy는 원하는 shape으로 배열을 생성하고 각 요소들을 특정 값으로 초기화시키는 메소드를 제공한다."
   ]
  },
  {
   "cell_type": "code",
   "execution_count": 8,
   "id": "8031652e",
   "metadata": {},
   "outputs": [
    {
     "name": "stdout",
     "output_type": "stream",
     "text": [
      "type: <class 'numpy.ndarray'>\n",
      "shape: (3, 4), dimension: 2, dtype: float64\n",
      "numpy 배열의 데이터\n",
      "[[0. 0. 0. 0.]\n",
      " [0. 0. 0. 0.]\n",
      " [0. 0. 0. 0.]]\n",
      "================================================================================\n",
      "type: <class 'numpy.ndarray'>\n",
      "shape: (3, 4), dimension: 2, dtype: int32\n",
      "numpy 배열의 데이터\n",
      "[[0 0 0 0]\n",
      " [0 0 0 0]\n",
      " [0 0 0 0]]\n",
      "================================================================================\n",
      "type: <class 'numpy.ndarray'>\n",
      "shape: (3, 4), dimension: 2, dtype: float64\n",
      "numpy 배열의 데이터\n",
      "[[0. 0. 0. 0.]\n",
      " [0. 0. 0. 0.]\n",
      " [0. 0. 0. 0.]]\n"
     ]
    }
   ],
   "source": [
    "# zeros() 메소드는 지정된 shape 만큼의 배열을 생성하고 모든 요소를 0으로 초기화시킨다. => 영행렬\n",
    "# zeros(shape[, dtype, order]) # dtype, order는 생략이 가능하다.\n",
    "# order => 2차원 이상의 배열에서 데이터가 채워지는 방식을 지정한다.\n",
    "# 행 우선 방식 => 대부분의 프로그래밍 언어에서 채택, c, c++, java, c#, python, 열 우선 방식 => fortran\n",
    "a = np.zeros(shape=(3, 4)) # dtype 생략시 np.float가 기본값으로 사용된다.\n",
    "pprint(a)\n",
    "print('=' * 80)\n",
    "b = np.zeros(shape=(3, 4), dtype=np.int) # order를 생략하면 행 우선 방식을 사용한다.\n",
    "pprint(b)\n",
    "print('=' * 80)\n",
    "c = np.zeros(shape=(3, 4), order='f') # order='f' 속성을 지정하면 열 우선 방식이 사용된다.\n",
    "pprint(c)"
   ]
  },
  {
   "cell_type": "code",
   "execution_count": 9,
   "id": "c2893acf",
   "metadata": {},
   "outputs": [
    {
     "name": "stdout",
     "output_type": "stream",
     "text": [
      "type: <class 'numpy.ndarray'>\n",
      "shape: (3, 4), dimension: 2, dtype: float64\n",
      "numpy 배열의 데이터\n",
      "[[1. 1. 1. 1.]\n",
      " [1. 1. 1. 1.]\n",
      " [1. 1. 1. 1.]]\n"
     ]
    }
   ],
   "source": [
    "# ones() 메소드는 지정된 shape 만큼의 배열을 생성하고 모든 요소를 1으로 초기화시킨다.\n",
    "# ones(shape[, dtype, order])\n",
    "a = np.ones(shape=(3, 4))\n",
    "pprint(a)"
   ]
  },
  {
   "cell_type": "code",
   "execution_count": 10,
   "id": "fac6e575",
   "metadata": {},
   "outputs": [
    {
     "name": "stdout",
     "output_type": "stream",
     "text": [
      "type: <class 'numpy.ndarray'>\n",
      "shape: (3, 4), dimension: 2, dtype: int32\n",
      "numpy 배열의 데이터\n",
      "[[7 7 7 7]\n",
      " [7 7 7 7]\n",
      " [7 7 7 7]]\n"
     ]
    }
   ],
   "source": [
    "# full() 메소드는 지정된 shape 만큼의 배열을 생성하고 모든 요소를 특정값으로 초기화시킨다.\n",
    "# full(shape, fill_value[, dtype, order])\n",
    "a = np.full(shape=(3, 4), fill_value=7)\n",
    "pprint(a)"
   ]
  },
  {
   "cell_type": "code",
   "execution_count": 11,
   "id": "b6560626",
   "metadata": {},
   "outputs": [
    {
     "name": "stdout",
     "output_type": "stream",
     "text": [
      "type: <class 'numpy.ndarray'>\n",
      "shape: (5, 5), dimension: 2, dtype: float64\n",
      "numpy 배열의 데이터\n",
      "[[1. 0. 0. 0. 0.]\n",
      " [0. 1. 0. 0. 0.]\n",
      " [0. 0. 1. 0. 0.]\n",
      " [0. 0. 0. 1. 0.]\n",
      " [0. 0. 0. 0. 1.]]\n"
     ]
    }
   ],
   "source": [
    "# eye() 메소드는 지정된 shape 만큼의 크기를 가지는 단위행렬(주 대각 요소만 1이고 나머지 요소는 0인 행렬)을 만든다.\n",
    "# eye(n[, dtype])\n",
    "a = np.eye(5)\n",
    "pprint(a)"
   ]
  },
  {
   "cell_type": "code",
   "execution_count": 12,
   "id": "debee44f",
   "metadata": {},
   "outputs": [
    {
     "name": "stdout",
     "output_type": "stream",
     "text": [
      "type: <class 'numpy.ndarray'>\n",
      "shape: (3, 4), dimension: 2, dtype: float64\n",
      "numpy 배열의 데이터\n",
      "[[1. 1. 1. 1.]\n",
      " [1. 1. 1. 1.]\n",
      " [1. 1. 1. 1.]]\n"
     ]
    }
   ],
   "source": [
    "# empty() 메소드는 지정된 shape 만큼의 배열을 생성하고 초기화시키지 않는다. => 쓰레기가 저장된다.\n",
    "# empty(shape[, dtype, order])\n",
    "a = np.empty(shape=(3, 4))\n",
    "pprint(a)"
   ]
  },
  {
   "cell_type": "markdown",
   "id": "48a68b3c",
   "metadata": {},
   "source": [
    "numpy는 인수로 지정한 배열과 shape이 같은 배열을 만드는 *_like() 메소드를 제공한다.  \n",
    "zeros_like(), ones_like(), full_like(), empty_link()"
   ]
  },
  {
   "cell_type": "code",
   "execution_count": 13,
   "id": "eec5411f",
   "metadata": {},
   "outputs": [
    {
     "name": "stdout",
     "output_type": "stream",
     "text": [
      "[[1 2 3]\n",
      " [4 5 6]]\n",
      "================================================================================\n",
      "[[0 0 0]\n",
      " [0 0 0]]\n",
      "================================================================================\n",
      "[[1 1 1]\n",
      " [1 1 1]]\n",
      "================================================================================\n",
      "[[9 9 9]\n",
      " [9 9 9]]\n",
      "================================================================================\n",
      "[[         0 1072693248          0]\n",
      " [1073741824          0 1074266112]]\n"
     ]
    }
   ],
   "source": [
    "a = np.array([[1, 2, 3], [4, 5, 6]])\n",
    "print(a)\n",
    "print('=' * 80)\n",
    "b = np.zeros_like(a)\n",
    "print(b)\n",
    "print('=' * 80)\n",
    "c = np.ones_like(a)\n",
    "print(c)\n",
    "print('=' * 80)\n",
    "d = np.full_like(a, fill_value=9)\n",
    "print(d)\n",
    "print('=' * 80)\n",
    "e = np.empty_like(a)\n",
    "print(e)"
   ]
  },
  {
   "cell_type": "markdown",
   "id": "c75563cf",
   "metadata": {},
   "source": [
    "시각화 라이브러리 import"
   ]
  },
  {
   "cell_type": "code",
   "execution_count": 14,
   "id": "9bb15038",
   "metadata": {},
   "outputs": [],
   "source": [
    "import matplotlib.pyplot as plt"
   ]
  },
  {
   "cell_type": "markdown",
   "id": "80348dc9",
   "metadata": {},
   "source": [
    "데이터 생성 메소드"
   ]
  },
  {
   "cell_type": "code",
   "execution_count": 35,
   "id": "e0f1d101",
   "metadata": {},
   "outputs": [
    {
     "name": "stdout",
     "output_type": "stream",
     "text": [
      "type: <class 'numpy.ndarray'>\n",
      "shape: (5,), dimension: 1, dtype: float64\n",
      "numpy 배열의 데이터\n",
      "[0.   0.25 0.5  0.75 1.  ]\n"
     ]
    },
    {
     "data": {
      "image/png": "[encoded data removed]",
      "text/plain": [
       "<Figure size 400x300 with 1 Axes>"
      ]
     },
     "metadata": {},
     "output_type": "display_data"
    }
   ],
   "source": [
    "# linespace() 메소드는 start 부터 stop 사이의 범위에서 num개를 균일한 간격으로 데이터를 생성하고 배열을 만든다.\n",
    "# linespace(start, stop, num)\n",
    "a = np.linspace(0, 1, 5)\n",
    "pprint(a)\n",
    "\n",
    "plt.figure(figsize=(4, 3))\n",
    "plt.plot(a, '*r')\n",
    "plt.show()"
   ]
  },
  {
   "cell_type": "code",
   "execution_count": 36,
   "id": "9e8230d5",
   "metadata": {},
   "outputs": [
    {
     "name": "stdout",
     "output_type": "stream",
     "text": [
      "type: <class 'numpy.ndarray'>\n",
      "shape: (5,), dimension: 1, dtype: int32\n",
      "numpy 배열의 데이터\n",
      "[0 2 4 6 8]\n"
     ]
    },
    {
     "data": {
      "image/png": "[encoded data removed]",
      "text/plain": [
       "<Figure size 400x300 with 1 Axes>"
      ]
     },
     "metadata": {},
     "output_type": "display_data"
    }
   ],
   "source": [
    "# arange() 메소드는 start 부터 stop이 되기 전까지 step 간격으로 데이터를 생성하고 배열을 만든다.\n",
    "# arange([start, ]stop[, step, dtype])\n",
    "# linespace() 메소드는 요소의 개수를 지정해서 배열을 만들지만 arange() 메소드는 요소의 개수가 아닌\n",
    "# 데이터의 간격을 기준으로 배열을 만든다.\n",
    "# start를 생략하면 0, step을 생략하면 1이 기본값으로 사용된다.\n",
    "# arange(10), arange(0, 10), arange(0, 10, 1)은 모두 같은 기능이 실행된다.\n",
    "a = np.arange(0, 10, 2)\n",
    "pprint(a)\n",
    "\n",
    "plt.figure(figsize=(4, 3))\n",
    "plt.plot(a, '*r')\n",
    "plt.show()"
   ]
  },
  {
   "cell_type": "code",
   "execution_count": 41,
   "id": "a463da8b",
   "metadata": {},
   "outputs": [
    {
     "name": "stdout",
     "output_type": "stream",
     "text": [
      "type: <class 'numpy.ndarray'>\n",
      "shape: (100,), dimension: 1, dtype: float64\n",
      "numpy 배열의 데이터\n",
      "[   2.            2.13008218    2.26862504    2.41617889    2.5733298\n",
      "    2.74070197    2.91896021    3.10881256    3.31101312    3.52636502\n",
      "    3.75572364    4.            4.26016436    4.53725009    4.83235778\n",
      "    5.14665959    5.48140394    5.83792042    6.21762513    6.62202624\n",
      "    7.05273004    7.51144729    8.            8.52032872    9.07450018\n",
      "    9.66471556   10.29331918   10.96280788   11.67584085   12.43525025\n",
      "   13.24405248   14.10546008   15.02289457   16.           17.04065743\n",
      "   18.14900036   19.32943111   20.58663837   21.92561576   23.35168169\n",
      "   24.87050051   26.48810496   28.21092016   30.04578914   32.\n",
      "   34.08131486   36.29800071   38.65886222   41.17327674   43.85123151\n",
      "   46.70336338   49.74100102   52.97620991   56.42184032   60.09157828\n",
      "   64.           68.16262972   72.59600142   77.31772444   82.34655347\n",
      "   87.70246302   93.40672676   99.48200203  105.95241983  112.84368064\n",
      "  120.18315656  128.          136.32525945  145.19200284  154.63544888\n",
      "  164.69310695  175.40492604  186.81345353  198.96400407  211.90483965\n",
      "  225.68736128  240.36631313  256.          272.6505189   290.38400568\n",
      "  309.27089777  329.38621389  350.80985209  373.62690705  397.92800813\n",
      "  423.8096793   451.37472256  480.73262626  512.          545.30103779\n",
      "  580.76801136  618.54179554  658.77242778  701.61970418  747.25381411\n",
      "  795.85601627  847.6193586   902.74944512  961.46525252 1024.        ]\n"
     ]
    },
    {
     "data": {
      "image/png": "[encoded data removed]",
      "text/plain": [
       "<Figure size 400x300 with 1 Axes>"
      ]
     },
     "metadata": {},
     "output_type": "display_data"
    }
   ],
   "source": [
    "# logspace() 메소드는 로그 스케일로 start 부터 end 사이의 범위에서 num개를 균일한 간격으로 데이터를 \n",
    "# 생성하고 배열을 만든다.\n",
    "# logspace(start, end, num[, base]) # base를 생략하면 10이 기본값으로 사용된다.\n",
    "a = np.logspace(1, 10, 100, base=2)\n",
    "pprint(a)\n",
    "\n",
    "plt.figure(figsize=(4, 3))\n",
    "plt.plot(a, 'r')\n",
    "plt.show()"
   ]
  },
  {
   "cell_type": "markdown",
   "id": "4b6143ed",
   "metadata": {},
   "source": [
    "난수 기반 배열 생성\n",
    "\n",
    "numpy는 난수 발생 및 배열을 생성하는 random이라는 모듈을 제공한다."
   ]
  },
  {
   "cell_type": "code",
   "execution_count": 59,
   "id": "87311be0",
   "metadata": {},
   "outputs": [
    {
     "name": "stdout",
     "output_type": "stream",
     "text": [
      "type: <class 'numpy.ndarray'>\n",
      "shape: (10,), dimension: 1, dtype: float64\n",
      "numpy 배열의 데이터\n",
      "[-1.33182268 -2.43799582 -0.58072714 -0.09895857 -0.51451188 -0.69481496\n",
      " -0.38825359  0.78778005  0.42117773 -0.35260518]\n"
     ]
    },
    {
     "data": {
      "image/png": "[encoded data removed]",
      "text/plain": [
       "<Figure size 400x300 with 1 Axes>"
      ]
     },
     "metadata": {},
     "output_type": "display_data"
    }
   ],
   "source": [
    "# normal() 메소드는 정규 분포를 따르는 난수 데이터를 생성하고 배열을 만든다.\n",
    "# normal(평균, 표준편차, 난수의 개수)\n",
    "# 평균이 0이고 표준편차가 1인(표준 정규 분포) 정규 분포를 따르는 난수를 발생시킨다. \n",
    "a = np.random.normal(0, 1, 10)\n",
    "pprint(a)\n",
    "\n",
    "plt.figure(figsize=(4, 3))\n",
    "plt.hist(a)\n",
    "plt.show()"
   ]
  },
  {
   "cell_type": "code",
   "execution_count": 68,
   "id": "5300e540",
   "metadata": {},
   "outputs": [
    {
     "name": "stdout",
     "output_type": "stream",
     "text": [
      "type: <class 'numpy.ndarray'>\n",
      "shape: (1000000,), dimension: 1, dtype: float64\n",
      "numpy 배열의 데이터\n",
      "[ 0.83896527  1.57398433  4.69987241 ... -1.46589371  4.82828969\n",
      "  2.1770289 ]\n"
     ]
    },
    {
     "data": {
      "image/png": "[encoded data removed]",
      "text/plain": [
       "<Figure size 1000x300 with 1 Axes>"
      ]
     },
     "metadata": {},
     "output_type": "display_data"
    }
   ],
   "source": [
    "# 평균이 0이고 표준편차가 1인(표준 정규 분포) 정규 분포를 따르는 난수를 발생시킨다. \n",
    "a = np.random.normal(3, 2.5, 1000000)\n",
    "pprint(a)\n",
    "\n",
    "plt.figure(figsize=(10, 3))\n",
    "plt.hist(a, bins=400) # bins 옵션으로 히스토그램 막대(구간)의 개수를 지정할 수 있다.\n",
    "plt.show()"
   ]
  },
  {
   "cell_type": "code",
   "execution_count": 74,
   "id": "e2001e04",
   "metadata": {},
   "outputs": [
    {
     "name": "stdout",
     "output_type": "stream",
     "text": [
      "type: <class 'numpy.ndarray'>\n",
      "shape: (10,), dimension: 1, dtype: float64\n",
      "numpy 배열의 데이터\n",
      "[-0.90546526 -0.47280385  1.16322125  0.72463682  0.00787636  1.0404273\n",
      "  0.70603083  0.12598308 -0.49588331  1.06438003]\n"
     ]
    },
    {
     "data": {
      "image/png": "[encoded data removed]",
      "text/plain": [
       "<Figure size 400x300 with 1 Axes>"
      ]
     },
     "metadata": {},
     "output_type": "display_data"
    }
   ],
   "source": [
    "# randn() 메소드는 표준 정규 분포(평균이 0이고 표준편차가 1)를 따르는 난수 데이터를 생성하고 배열을 만든다.\n",
    "# randn(난수의 개수)\n",
    "a = np.random.randn(10)\n",
    "pprint(a)\n",
    "\n",
    "plt.figure(figsize=(4, 3))\n",
    "plt.hist(a)\n",
    "plt.show()"
   ]
  },
  {
   "cell_type": "code",
   "execution_count": 110,
   "id": "402cf915",
   "metadata": {},
   "outputs": [
    {
     "name": "stdout",
     "output_type": "stream",
     "text": [
      "type: <class 'numpy.ndarray'>\n",
      "shape: (1000000,), dimension: 1, dtype: float64\n",
      "numpy 배열의 데이터\n",
      "[-1.50419575 -2.53539467 -0.8718944  ...  0.07604116  0.45907884\n",
      "  1.6011908 ]\n"
     ]
    },
    {
     "data": {
      "image/png": "[encoded data removed]",
      "text/plain": [
       "<Figure size 1000x300 with 1 Axes>"
      ]
     },
     "metadata": {},
     "output_type": "display_data"
    }
   ],
   "source": [
    "a = np.random.randn(1000000)\n",
    "pprint(a)\n",
    "\n",
    "plt.figure(figsize=(10, 3))\n",
    "plt.hist(a, bins=400)\n",
    "plt.show()"
   ]
  },
  {
   "cell_type": "code",
   "execution_count": 81,
   "id": "d52efab3",
   "metadata": {},
   "outputs": [
    {
     "name": "stdout",
     "output_type": "stream",
     "text": [
      "type: <class 'numpy.ndarray'>\n",
      "shape: (10,), dimension: 1, dtype: float64\n",
      "numpy 배열의 데이터\n",
      "[0.84863209 0.60052114 0.58082901 0.26447841 0.1155408  0.209808\n",
      " 0.67567076 0.47383482 0.1190455  0.07124396]\n"
     ]
    },
    {
     "data": {
      "image/png": "[encoded data removed]",
      "text/plain": [
       "<Figure size 400x300 with 1 Axes>"
      ]
     },
     "metadata": {},
     "output_type": "display_data"
    }
   ],
   "source": [
    "# rand() 메소드는 0 ~ 1 사이의 균등 분포를 따르는 난수 데이터(실수)를 생성하고 배열을 만든다.\n",
    "# rand(난수의 개수)\n",
    "a = np.random.rand(10)\n",
    "pprint(a)\n",
    "\n",
    "plt.figure(figsize=(4, 3))\n",
    "plt.hist(a)\n",
    "plt.show()"
   ]
  },
  {
   "cell_type": "code",
   "execution_count": 90,
   "id": "127582eb",
   "metadata": {},
   "outputs": [
    {
     "name": "stdout",
     "output_type": "stream",
     "text": [
      "type: <class 'numpy.ndarray'>\n",
      "shape: (100000,), dimension: 1, dtype: float64\n",
      "numpy 배열의 데이터\n",
      "[0.03492301 0.87939354 0.24742757 ... 0.67286936 0.29755041 0.31886278]\n"
     ]
    },
    {
     "data": {
      "image/png": "[encoded data removed]",
      "text/plain": [
       "<Figure size 400x300 with 1 Axes>"
      ]
     },
     "metadata": {},
     "output_type": "display_data"
    }
   ],
   "source": [
    "a = np.random.rand(100000)\n",
    "pprint(a)\n",
    "\n",
    "plt.figure(figsize=(4, 3))\n",
    "plt.hist(a, bins=100)\n",
    "plt.show()"
   ]
  },
  {
   "cell_type": "code",
   "execution_count": 98,
   "id": "3260e59e",
   "metadata": {},
   "outputs": [
    {
     "name": "stdout",
     "output_type": "stream",
     "text": [
      "type: <class 'numpy.ndarray'>\n",
      "shape: (6,), dimension: 1, dtype: int32\n",
      "numpy 배열의 데이터\n",
      "[27 42 24 26  3 26]\n"
     ]
    }
   ],
   "source": [
    "# randint() 메소드는 low ~ high 사이의 균등 분포를 따르는 난수 데이터(정수)를 생성하고 배열을 만든다.\n",
    "# randint(low, high, 난수의 개수)\n",
    "a = np.random.randint(1, 46, 6)\n",
    "pprint(a)"
   ]
  },
  {
   "cell_type": "code",
   "execution_count": 109,
   "id": "fc26f213",
   "metadata": {},
   "outputs": [
    {
     "name": "stdout",
     "output_type": "stream",
     "text": [
      "type: <class 'numpy.ndarray'>\n",
      "shape: (1000000,), dimension: 1, dtype: int32\n",
      "numpy 배열의 데이터\n",
      "[-61 -90  58 ...  -2  40  47]\n"
     ]
    },
    {
     "data": {
      "image/png": "[encoded data removed]",
      "text/plain": [
       "<Figure size 400x300 with 1 Axes>"
      ]
     },
     "metadata": {},
     "output_type": "display_data"
    }
   ],
   "source": [
    "a = np.random.randint(-100, 100, 1000000)\n",
    "pprint(a)\n",
    "\n",
    "plt.figure(figsize=(4, 3))\n",
    "plt.hist(a, bins=100)\n",
    "plt.show()"
   ]
  },
  {
   "cell_type": "code",
   "execution_count": 105,
   "id": "f43b64ac",
   "metadata": {},
   "outputs": [
    {
     "name": "stdout",
     "output_type": "stream",
     "text": [
      "type: <class 'numpy.ndarray'>\n",
      "shape: (10,), dimension: 1, dtype: float64\n",
      "numpy 배열의 데이터\n",
      "[0.96870427 0.56201451 0.15845525 0.33884018 0.60245118 0.88686802\n",
      " 0.85226437 0.51203753 0.15661508 0.61804353]\n"
     ]
    },
    {
     "data": {
      "image/png": "[encoded data removed]",
      "text/plain": [
       "<Figure size 400x300 with 1 Axes>"
      ]
     },
     "metadata": {},
     "output_type": "display_data"
    }
   ],
   "source": [
    "# random() 메소드는 0 ~ 1 사이의 균등 분포를 따르는 난수 데이터(실수)를 생성하고 배열을 만든다.\n",
    "# random(난수의 개수)\n",
    "a = np.random.random(10)\n",
    "pprint(a)\n",
    "\n",
    "plt.figure(figsize=(4, 3))\n",
    "plt.hist(a)\n",
    "plt.show()"
   ]
  },
  {
   "cell_type": "code",
   "execution_count": 108,
   "id": "a8eb1cdf",
   "metadata": {},
   "outputs": [
    {
     "name": "stdout",
     "output_type": "stream",
     "text": [
      "type: <class 'numpy.ndarray'>\n",
      "shape: (1000000,), dimension: 1, dtype: float64\n",
      "numpy 배열의 데이터\n",
      "[0.03917841 0.28718383 0.40360974 ... 0.33317278 0.03827607 0.09399983]\n"
     ]
    },
    {
     "data": {
      "image/png": "[encoded data removed]",
      "text/plain": [
       "<Figure size 400x300 with 1 Axes>"
      ]
     },
     "metadata": {},
     "output_type": "display_data"
    }
   ],
   "source": [
    "a = np.random.random(1000000)\n",
    "pprint(a)\n",
    "\n",
    "plt.figure(figsize=(4, 3))\n",
    "plt.hist(a, bins=400)\n",
    "plt.show()"
   ]
  },
  {
   "cell_type": "code",
   "execution_count": null,
   "id": "056442ad",
   "metadata": {},
   "outputs": [],
   "source": []
  },
  {
   "cell_type": "code",
   "execution_count": null,
   "id": "c37f7c3c",
   "metadata": {},
   "outputs": [],
   "source": []
  }
 ],
 "metadata": {
  "kernelspec": {
   "display_name": "python37",
   "language": "python",
   "name": "python37"
  },
  "language_info": {
   "codemirror_mode": {
    "name": "ipython",
    "version": 3
   },
   "file_extension": ".py",
   "mimetype": "text/x-python",
   "name": "python",
   "nbconvert_exporter": "python",
   "pygments_lexer": "ipython3",
   "version": "3.7.16"
  }
 },
 "nbformat": 4,
 "nbformat_minor": 5
}
