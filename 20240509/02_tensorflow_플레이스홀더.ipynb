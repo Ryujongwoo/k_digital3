{
 "cells": [
  {
   "cell_type": "code",
   "execution_count": 1,
   "id": "60022f01",
   "metadata": {},
   "outputs": [
    {
     "name": "stdout",
     "output_type": "stream",
     "text": [
      "WARNING:tensorflow:From C:\\anaconda3\\envs\\python37\\lib\\site-packages\\tensorflow\\python\\compat\\v2_compat.py:107: disable_resource_variables (from tensorflow.python.ops.variable_scope) is deprecated and will be removed in a future version.\n",
      "Instructions for updating:\n",
      "non-resource variables are not supported in the long term\n"
     ]
    }
   ],
   "source": [
    "import warnings\n",
    "warnings.filterwarnings(action='ignore')\n",
    "%config Completer.use_jedi = False\n",
    "import tensorflow.compat.v1 as tf\n",
    "tf.disable_v2_behavior()"
   ]
  },
  {
   "cell_type": "markdown",
   "id": "8c8915eb",
   "metadata": {},
   "source": [
    "placeholder는 tensorflow에서 사용할 여러건의 데이터를 저장하는 배열의 일종이다.\n",
    "\n",
    "placeholder(dtype[, shape, name])  \n",
    "dtype: placeholder에 저장되는 데이터의 자료형  \n",
    "shape: placeholder에 저장되는 데이터의 차원, 생략가능  \n",
    "name: placeholder의 이름, 생략가능"
   ]
  },
  {
   "cell_type": "code",
   "execution_count": 2,
   "id": "113fb7c0",
   "metadata": {},
   "outputs": [
    {
     "name": "stdout",
     "output_type": "stream",
     "text": [
      "x = Tensor(\"Placeholder:0\", dtype=float64)\n",
      "y = Tensor(\"Placeholder_1:0\", dtype=float64)\n",
      "z = Tensor(\"add:0\", dtype=float64)\n",
      "[6. 6. 6. 6. 6.]\n"
     ]
    }
   ],
   "source": [
    "# placeholder에 저장할 데이터를 선언한다.\n",
    "xData = [1, 2, 3, 4, 5]\n",
    "yData = [5, 4, 3, 2, 1]\n",
    "\n",
    "# placeholder() 메소드로 tensorflow에서 사용할 placeholder를 선언한다.\n",
    "x = tf.placeholder(dtype=tf.float64) # xData의 데이터를 기억할 placeholder를 선언한다.\n",
    "y = tf.placeholder(dtype=tf.float64) # yData의 데이터를 기억할 placeholder를 선언한다.\n",
    "print('x = {}'.format(x))\n",
    "print('y = {}'.format(y))\n",
    "\n",
    "# placeholder를 사용하는 수식을 만든다.\n",
    "z = x + y\n",
    "print('z = {}'.format(z))\n",
    "\n",
    "sess = tf.Session()\n",
    "# 아래와 같이 수식을 실행하면 x, y placeholder에 데이터가 채워지지 않아서 에러가 발생된다.\n",
    "# result = sess.run(z) # 에러\n",
    "\n",
    "# 반드시 수식에 사용할 데이터를 placeholder에 대입하고 실행한다.\n",
    "# feed_dict 속성에 딕셔너리 형태로 placeholder에서 사용할 데이터를 대입한다.\n",
    "# feed_dict 속성에 넣어주는 딕셔너리는 {placeholder 이름: 데이터, placeholder 이름: 데이터, ...}와 같은\n",
    "# 형식으로 사용하며 데이터에는 리스트 또는 튜플 타입의 데이터를 넣어준다.\n",
    "result = sess.run(z, feed_dict={x: xData, y: yData})\n",
    "print(result)"
   ]
  },
  {
   "cell_type": "code",
   "execution_count": null,
   "id": "ff0933ea",
   "metadata": {},
   "outputs": [],
   "source": []
  },
  {
   "cell_type": "code",
   "execution_count": null,
   "id": "cd93a945",
   "metadata": {},
   "outputs": [],
   "source": []
  }
 ],
 "metadata": {
  "kernelspec": {
   "display_name": "python37",
   "language": "python",
   "name": "python37"
  },
  "language_info": {
   "codemirror_mode": {
    "name": "ipython",
    "version": 3
   },
   "file_extension": ".py",
   "mimetype": "text/x-python",
   "name": "python",
   "nbconvert_exporter": "python",
   "pygments_lexer": "ipython3",
   "version": "3.7.1"
  }
 },
 "nbformat": 4,
 "nbformat_minor": 5
}
