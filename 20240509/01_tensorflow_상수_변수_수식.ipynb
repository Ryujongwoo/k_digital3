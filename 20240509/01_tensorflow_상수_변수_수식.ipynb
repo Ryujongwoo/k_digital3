{
 "cells": [
  {
   "cell_type": "code",
   "execution_count": 1,
   "id": "6f93d32e",
   "metadata": {},
   "outputs": [],
   "source": [
    "import warnings\n",
    "warnings.filterwarnings(action='ignore')\n",
    "%config Completer.use_jedi = False"
   ]
  },
  {
   "cell_type": "code",
   "execution_count": 2,
   "id": "9408a135",
   "metadata": {},
   "outputs": [
    {
     "name": "stdout",
     "output_type": "stream",
     "text": [
      "WARNING:tensorflow:From C:\\anaconda3\\envs\\python37\\lib\\site-packages\\tensorflow\\python\\compat\\v2_compat.py:107: disable_resource_variables (from tensorflow.python.ops.variable_scope) is deprecated and will be removed in a future version.\n",
      "Instructions for updating:\n",
      "non-resource variables are not supported in the long term\n",
      "2.10.0\n"
     ]
    }
   ],
   "source": [
    "# conda install tensorflow\n",
    "# import tensorflow as tf # tensorflow 2.x 버전을 사용한다.\n",
    "# tensorflow 1.x 버전을 사용하려면 아래와 같이 한다.\n",
    "import tensorflow.compat.v1 as tf # tensorflow 1.x 버전을 사용한다.\n",
    "tf.disable_v2_behavior() # tensorflow 2.x 버전의 문법을 사용하지 않겠다고 선언한다.\n",
    "print(tf.__version__)"
   ]
  },
  {
   "cell_type": "markdown",
   "id": "667ca975",
   "metadata": {},
   "source": [
    "상수, 변수, 수식을 만든다. => 세션에 넣는다.(변수는 반드시 초기화 시킨다.) => 실행한다.\n",
    "\n",
    "tensorflow 상수"
   ]
  },
  {
   "cell_type": "code",
   "execution_count": 3,
   "id": "2ff7ce28",
   "metadata": {},
   "outputs": [
    {
     "name": "stdout",
     "output_type": "stream",
     "text": [
      "a = Tensor(\"Const:0\", shape=(), dtype=int32)\n",
      "b = Tensor(\"Const_1:0\", shape=(), dtype=int32)\n",
      "a = 100\n",
      "b = 200\n"
     ]
    }
   ],
   "source": [
    "# constant() 메소드로 tensorflow에서 사용할 상수를 정의한다.\n",
    "a = tf.constant(100) # 상수 정의\n",
    "print('a = {}'.format(a))\n",
    "b = tf.constant(200)\n",
    "print('b = {}'.format(b))\n",
    "\n",
    "# tensorflow 1.x 버전은 반드시 세션이라는 작업 영역을 만든 후 상수, 변수, 수식을 대입한 후 실행한다.\n",
    "# Session() 클래스로 tensorflow에서 사용할 세션을 정의한다.\n",
    "sess = tf.Session() # tensorflow 세션을 만든다.\n",
    "# run() 메소드로 tensorflow 세션의 내용을 실행한다.\n",
    "print('a = {}'.format(sess.run(a)))\n",
    "print('b = {}'.format(sess.run(b)))"
   ]
  },
  {
   "cell_type": "markdown",
   "id": "53e3652b",
   "metadata": {},
   "source": [
    "tensorflow 변수"
   ]
  },
  {
   "cell_type": "code",
   "execution_count": 4,
   "id": "9349b158",
   "metadata": {
    "scrolled": false
   },
   "outputs": [
    {
     "name": "stdout",
     "output_type": "stream",
     "text": [
      "a = <tf.Variable 'Variable:0' shape=() dtype=int32_ref>\n",
      "b = <tf.Variable 'Variable_1:0' shape=() dtype=int32_ref>\n",
      "a = 300\n",
      "b = 400\n",
      "c = 500\n"
     ]
    }
   ],
   "source": [
    "# Variable() 클래스로 tensorflow에서 사용할 변수를 정의한다.\n",
    "a = tf.Variable(300) # 변수 정의\n",
    "print('a = {}'.format(a))\n",
    "b = tf.Variable(400)\n",
    "print('b = {}'.format(b))\n",
    "\n",
    "sess = tf.Session()\n",
    "\n",
    "# tensorflow 변수 초기화\n",
    "# Variable() 클래스로 생성한 tensorflow 변수는 사용하기 전에 반드시 초기화시켜야 한다.\n",
    "# tensorflow 변수 초기화는 tensorflow 변수를 사용하기기 전에만 하면된다.\n",
    "# tf.global_variables_initializer() 메소드로 tensorflow 변수를 초기화 한다.\n",
    "\n",
    "# init = tf.global_variables_initializer()\n",
    "# sess.run(init)\n",
    "# 위의 2줄로 사용한 tensorflow 변수 초기화는 아래와 같이 1줄로 줄여서 사용할 수 있다.\n",
    "sess.run(tf.global_variables_initializer())\n",
    "\n",
    "print('a = {}'.format(sess.run(a)))\n",
    "print('b = {}'.format(sess.run(b)))\n",
    "\n",
    "c = tf.Variable(500)\n",
    "# tensorflow 변수 초기화를 실행한 이후에 다시 변수를 만들었으면 다시 초기화시켜야 한다.\n",
    "sess.run(tf.global_variables_initializer())\n",
    "print('c = {}'.format(sess.run(c)))"
   ]
  },
  {
   "cell_type": "markdown",
   "id": "25241655",
   "metadata": {},
   "source": [
    "tensorflow 수식"
   ]
  },
  {
   "cell_type": "code",
   "execution_count": 5,
   "id": "ab41d582",
   "metadata": {},
   "outputs": [
    {
     "name": "stdout",
     "output_type": "stream",
     "text": [
      "e = Tensor(\"add:0\", shape=(), dtype=int32)\n",
      "f = Tensor(\"Add_1:0\", shape=(), dtype=int32)\n",
      "g = Tensor(\"mul:0\", shape=(), dtype=int32)\n",
      "h = Tensor(\"Mul_1:0\", shape=(), dtype=int32)\n",
      "e = 300\n",
      "f = 300\n",
      "g = 120000\n",
      "h = 120000\n"
     ]
    }
   ],
   "source": [
    "a = tf.constant(100)\n",
    "b = tf.constant(200)\n",
    "c = tf.Variable(300)\n",
    "d = tf.Variable(400)\n",
    "\n",
    "e = a + b\n",
    "print('e = {}'.format(e))\n",
    "f = tf.add(a, b)\n",
    "print('f = {}'.format(f))\n",
    "\n",
    "g = c * d\n",
    "print('g = {}'.format(g))\n",
    "h = tf.multiply(c, d)\n",
    "print('h = {}'.format(h))\n",
    "\n",
    "sess = tf.Session()\n",
    "sess.run(tf.global_variables_initializer())\n",
    "print('e = {}'.format(sess.run(e)))\n",
    "print('f = {}'.format(sess.run(f)))\n",
    "print('g = {}'.format(sess.run(g)))\n",
    "print('h = {}'.format(sess.run(h)))"
   ]
  },
  {
   "cell_type": "code",
   "execution_count": null,
   "id": "c0e4e1cc",
   "metadata": {},
   "outputs": [],
   "source": []
  },
  {
   "cell_type": "code",
   "execution_count": null,
   "id": "825a4a2b",
   "metadata": {},
   "outputs": [],
   "source": []
  }
 ],
 "metadata": {
  "kernelspec": {
   "display_name": "python37",
   "language": "python",
   "name": "python37"
  },
  "language_info": {
   "codemirror_mode": {
    "name": "ipython",
    "version": 3
   },
   "file_extension": ".py",
   "mimetype": "text/x-python",
   "name": "python",
   "nbconvert_exporter": "python",
   "pygments_lexer": "ipython3",
   "version": "3.7.1"
  }
 },
 "nbformat": 4,
 "nbformat_minor": 5
}
