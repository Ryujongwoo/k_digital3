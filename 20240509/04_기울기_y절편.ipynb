{
 "cells": [
  {
   "cell_type": "code",
   "execution_count": 1,
   "id": "924efe70",
   "metadata": {},
   "outputs": [],
   "source": [
    "import warnings\n",
    "warnings.filterwarnings(action='ignore')\n",
    "%config Completer.use_jedi = False\n",
    "import numpy as np\n",
    "import pandas as pd\n",
    "import matplotlib.pyplot as plt\n",
    "import matplotlib as mpl\n",
    "mpl.rcParams['axes.unicode_minus'] = False\n",
    "plt.rcParams['font.family'] = 'NanumGothicCoding'\n",
    "plt.rcParams['font.size'] = 12\n",
    "import seaborn as sns"
   ]
  },
  {
   "cell_type": "markdown",
   "id": "6c0825c8",
   "metadata": {},
   "source": [
    "기울기와 y절편을 계산할 데이터를 만든다."
   ]
  },
  {
   "cell_type": "code",
   "execution_count": 2,
   "id": "a0411a9e",
   "metadata": {},
   "outputs": [],
   "source": [
    "xData = [2, 4, 6, 8] # 공부 시간\n",
    "yData = [81, 93, 91, 97] # 공부 시간에 따른 시험 점수 => 실제값"
   ]
  },
  {
   "cell_type": "markdown",
   "id": "f426f224",
   "metadata": {},
   "source": [
    "공부 시간과 공부 시간에 따른 시험 점수 데이터를 데이터프레임으로 만든다."
   ]
  },
  {
   "cell_type": "code",
   "execution_count": 3,
   "id": "36c2ffac",
   "metadata": {},
   "outputs": [
    {
     "data": {
      "text/html": [
       "<div>\n",
       "<style scoped>\n",
       "    .dataframe tbody tr th:only-of-type {\n",
       "        vertical-align: middle;\n",
       "    }\n",
       "\n",
       "    .dataframe tbody tr th {\n",
       "        vertical-align: top;\n",
       "    }\n",
       "\n",
       "    .dataframe thead th {\n",
       "        text-align: right;\n",
       "    }\n",
       "</style>\n",
       "<table border=\"1\" class=\"dataframe\">\n",
       "  <thead>\n",
       "    <tr style=\"text-align: right;\">\n",
       "      <th></th>\n",
       "      <th>x</th>\n",
       "      <th>y</th>\n",
       "    </tr>\n",
       "  </thead>\n",
       "  <tbody>\n",
       "    <tr>\n",
       "      <th>0</th>\n",
       "      <td>2</td>\n",
       "      <td>81</td>\n",
       "    </tr>\n",
       "    <tr>\n",
       "      <th>1</th>\n",
       "      <td>4</td>\n",
       "      <td>93</td>\n",
       "    </tr>\n",
       "    <tr>\n",
       "      <th>2</th>\n",
       "      <td>6</td>\n",
       "      <td>91</td>\n",
       "    </tr>\n",
       "    <tr>\n",
       "      <th>3</th>\n",
       "      <td>8</td>\n",
       "      <td>97</td>\n",
       "    </tr>\n",
       "  </tbody>\n",
       "</table>\n",
       "</div>"
      ],
      "text/plain": [
       "   x   y\n",
       "0  2  81\n",
       "1  4  93\n",
       "2  6  91\n",
       "3  8  97"
      ]
     },
     "execution_count": 3,
     "metadata": {},
     "output_type": "execute_result"
    }
   ],
   "source": [
    "df = pd.DataFrame(columns=['x', 'y']) # 빈 데이터프레임을 만든다.\n",
    "# 빈 데이터프레임에 데이터를 넣을 때는 loc[index]를 사용해서 리스트 형태의 데이터를 넣어주면 된다.\n",
    "df.loc[0] = [2, 81]\n",
    "df.loc[1] = [4, 93]\n",
    "df.loc[2] = [6, 91]\n",
    "df.loc[3] = [8, 97]\n",
    "df"
   ]
  },
  {
   "cell_type": "markdown",
   "id": "3c0fc93a",
   "metadata": {},
   "source": [
    "공부 시간과 공부 시간에 따른 시험 점수 시각화"
   ]
  },
  {
   "cell_type": "code",
   "execution_count": 4,
   "id": "71d60089",
   "metadata": {},
   "outputs": [
    {
     "data": {
      "image/png": "[encoded data removed]",
      "text/plain": [
       "<Figure size 800x600 with 1 Axes>"
      ]
     },
     "metadata": {},
     "output_type": "display_data"
    }
   ],
   "source": [
    "plt.figure(figsize=(8, 6))\n",
    "sns.scatterplot(data=df, x='x', y='y', s=50)\n",
    "plt.title('공부 시간에 따른 시험 점수')\n",
    "plt.xlabel('공부 시간')\n",
    "plt.ylabel('시험 점수')\n",
    "plt.show()"
   ]
  },
  {
   "cell_type": "markdown",
   "id": "d31b0ca3",
   "metadata": {},
   "source": [
    "기울기 공식\n",
    "\n",
    "$$\\frac{\\sum_{i = 0}^{n - 1}(x_i - \\bar x)(y_i - \\bar y)}{\\sum_{i = 0}^{n - 1}(x_i - \\bar x)^2}$$"
   ]
  },
  {
   "cell_type": "code",
   "execution_count": 5,
   "id": "3d9959cf",
   "metadata": {},
   "outputs": [
    {
     "name": "stdout",
     "output_type": "stream",
     "text": [
      "공부 시간의 평균: 5.0, 공부 시간에 따른 시험 점수의 평균: 90.5\n"
     ]
    }
   ],
   "source": [
    "# 공부 시간과 공부 시간에 따른 시험 점수의 평균을 계산한다.\n",
    "mean_x = np.mean(xData) # 공부 시간의 평균\n",
    "mean_y = np.mean(yData) # 공부 시간에 따른 시험 점수의 평균\n",
    "print('공부 시간의 평균: {}, 공부 시간에 따른 시험 점수의 평균: {}'.format(mean_x, mean_y))"
   ]
  },
  {
   "cell_type": "code",
   "execution_count": 6,
   "id": "3e3fb702",
   "metadata": {},
   "outputs": [
    {
     "name": "stdout",
     "output_type": "stream",
     "text": [
      "46.0\n"
     ]
    }
   ],
   "source": [
    "# 기울기 공식에서 분자를 계산하는 함수\n",
    "def top(xData, mean_x, yData, mean_y):\n",
    "    total = 0.0\n",
    "    for i in range(len(xData)):\n",
    "        total += (xData[i] - mean_x) * (yData[i] - mean_y)\n",
    "    return total\n",
    "    \n",
    "numerator = top(xData, mean_x, yData, mean_y)\n",
    "print(numerator)"
   ]
  },
  {
   "cell_type": "code",
   "execution_count": 7,
   "id": "f2b045ba",
   "metadata": {},
   "outputs": [
    {
     "name": "stdout",
     "output_type": "stream",
     "text": [
      "20.0\n"
     ]
    }
   ],
   "source": [
    "# 기울기 공식에서 분모를 계산하는 함수\n",
    "def bottom(xData, mean_x):\n",
    "    total = 0.0\n",
    "    for i in range(len(xData)):\n",
    "        total += (xData[i] - mean_x) ** 2\n",
    "    return total\n",
    "    \n",
    "denominator = bottom(xData, mean_x)\n",
    "print(denominator)"
   ]
  },
  {
   "cell_type": "code",
   "execution_count": 8,
   "id": "6513b458",
   "metadata": {},
   "outputs": [
    {
     "name": "stdout",
     "output_type": "stream",
     "text": [
      "기울기 공식의 분자: 46.0, 기울기 공식의 분모: 20.0\n",
      "기울기: 2.3\n"
     ]
    }
   ],
   "source": [
    "print('기울기 공식의 분자: {}, 기울기 공식의 분모: {}'.format(numerator, denominator))\n",
    "a = numerator / denominator\n",
    "print('기울기: {}'.format(a))"
   ]
  },
  {
   "cell_type": "markdown",
   "id": "42b3385b",
   "metadata": {},
   "source": [
    "y절편 공식\n",
    "\n",
    "$$\\bar y - a\\bar x$$"
   ]
  },
  {
   "cell_type": "code",
   "execution_count": 9,
   "id": "877916c9",
   "metadata": {},
   "outputs": [
    {
     "name": "stdout",
     "output_type": "stream",
     "text": [
      "y절편: 79.0\n"
     ]
    }
   ],
   "source": [
    "b = mean_y - a * mean_x\n",
    "print('y절편: {}'.format(b))"
   ]
  },
  {
   "cell_type": "code",
   "execution_count": null,
   "id": "5ad6ce1a",
   "metadata": {},
   "outputs": [],
   "source": []
  },
  {
   "cell_type": "code",
   "execution_count": null,
   "id": "30a2744b",
   "metadata": {},
   "outputs": [],
   "source": []
  }
 ],
 "metadata": {
  "kernelspec": {
   "display_name": "python37",
   "language": "python",
   "name": "python37"
  },
  "language_info": {
   "codemirror_mode": {
    "name": "ipython",
    "version": 3
   },
   "file_extension": ".py",
   "mimetype": "text/x-python",
   "name": "python",
   "nbconvert_exporter": "python",
   "pygments_lexer": "ipython3",
   "version": "3.7.1"
  }
 },
 "nbformat": 4,
 "nbformat_minor": 5
}
