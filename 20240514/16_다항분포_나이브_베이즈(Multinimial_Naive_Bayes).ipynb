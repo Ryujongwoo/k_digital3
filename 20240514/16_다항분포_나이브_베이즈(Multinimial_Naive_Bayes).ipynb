{
 "cells": [
  {
   "cell_type": "code",
   "execution_count": 1,
   "id": "d942262f",
   "metadata": {},
   "outputs": [],
   "source": [
    "import warnings\n",
    "warnings.filterwarnings(action='ignore')\n",
    "%config Completer.use_jedi = False\n",
    "import numpy as np\n",
    "import pandas as pd\n",
    "import matplotlib.pyplot as plt\n",
    "import matplotlib as mpl\n",
    "mpl.rcParams['axes.unicode_minus'] = False\n",
    "plt.rcParams['font.family'] = 'NanumGothicCoding'\n",
    "plt.rcParams['font.size'] = 10\n",
    "import seaborn as sns\n",
    "from sklearn.model_selection import train_test_split\n",
    "from sklearn.metrics import accuracy_score, confusion_matrix, classification_report"
   ]
  },
  {
   "cell_type": "markdown",
   "id": "92c4e06e",
   "metadata": {},
   "source": [
    "다항분포 나이브 베이즈(Multinimial Naive Bayes)  \n",
    "분류 데이터의 특징이 출현 횟수로 표현되었을 때 데이터의 출현 횟수에 따라 값을 달리하는 데이터에 사용한다.\n",
    "\n",
    "영화 리뷰와 레이블(긍정/부정)를 활용해 다항분포 나이브 베이즈 분류로 영화 리뷰가 긍정적인지 부정적인지 분류한다.\n",
    "\n",
    "데이터 획득  \n",
    "movie_review: 영화 리뷰, type: 리뷰가 긍정적(positive)인지 부정적(negative)인지 나타낸다."
   ]
  },
  {
   "cell_type": "code",
   "execution_count": 2,
   "id": "4c9cc744",
   "metadata": {},
   "outputs": [],
   "source": [
    "# 학습 데이터\n",
    "review_list = [\n",
    "    {'movie_review' : 'this is great great movie. I will watch again', 'type' : 'positive'},\n",
    "    {'movie_review' : 'I like this movie', 'type' : 'positive'},\n",
    "    {'movie_review' : 'amazing movie in this year', 'type' : 'positive'},\n",
    "    {'movie_review' : 'cool my boyfriend also said the movie is cool', 'type' : 'positive'},\n",
    "    {'movie_review' : 'awesome of the awesome movie ever', 'type' : 'positive'},\n",
    "    {'movie_review' : 'shame I wasted money and time', 'type' : 'negative'},\n",
    "    {'movie_review' : 'regret on this move. I will never never what movie from this director', 'type' : 'negative'},\n",
    "    {'movie_review' : 'I do not like this movie', 'type' : 'negative'},\n",
    "    {'movie_review' : 'I do not like actors in this movie', 'type' : 'negative'},\n",
    "    {'movie_review' : 'boring boring sleeping movie', 'type' : 'negative'}\n",
    "]\n",
    "\n",
    "# 테스트 데이터\n",
    "test_feedback_list = [\n",
    "    {'movie_review': 'great great great movie ever', 'type': 'positive'},\n",
    "    {'movie_review': 'I like this amazing movie', 'type': 'positive'},\n",
    "    {'movie_review': 'my boyfriend said great movie ever', 'type': 'positive'},\n",
    "    {'movie_review': 'cool cool cool', 'type': 'positive'},\n",
    "    {'movie_review': 'awesome boyfriend said cool movie ever', 'type': 'positive'},\n",
    "    {'movie_review': 'shame shame shame', 'type': 'negative'},\n",
    "    {'movie_review': 'awesome director shame movie boring movie', 'type': 'negative'},\n",
    "    {'movie_review': 'do not like this movie', 'type': 'negative'},\n",
    "    {'movie_review': 'I do not like this boring movie', 'type': 'negative'},\n",
    "    {'movie_review': 'aweful terrible boring movie', 'type': 'negative'}\n",
    "]"
   ]
  },
  {
   "cell_type": "code",
   "execution_count": 3,
   "id": "8b2d65b1",
   "metadata": {},
   "outputs": [
    {
     "data": {
      "text/html": [
       "<div>\n",
       "<style scoped>\n",
       "    .dataframe tbody tr th:only-of-type {\n",
       "        vertical-align: middle;\n",
       "    }\n",
       "\n",
       "    .dataframe tbody tr th {\n",
       "        vertical-align: top;\n",
       "    }\n",
       "\n",
       "    .dataframe thead th {\n",
       "        text-align: right;\n",
       "    }\n",
       "</style>\n",
       "<table border=\"1\" class=\"dataframe\">\n",
       "  <thead>\n",
       "    <tr style=\"text-align: right;\">\n",
       "      <th></th>\n",
       "      <th>movie_review</th>\n",
       "      <th>type</th>\n",
       "    </tr>\n",
       "  </thead>\n",
       "  <tbody>\n",
       "    <tr>\n",
       "      <th>0</th>\n",
       "      <td>this is great great movie. I will watch again</td>\n",
       "      <td>positive</td>\n",
       "    </tr>\n",
       "    <tr>\n",
       "      <th>1</th>\n",
       "      <td>I like this movie</td>\n",
       "      <td>positive</td>\n",
       "    </tr>\n",
       "    <tr>\n",
       "      <th>2</th>\n",
       "      <td>amazing movie in this year</td>\n",
       "      <td>positive</td>\n",
       "    </tr>\n",
       "    <tr>\n",
       "      <th>3</th>\n",
       "      <td>cool my boyfriend also said the movie is cool</td>\n",
       "      <td>positive</td>\n",
       "    </tr>\n",
       "    <tr>\n",
       "      <th>4</th>\n",
       "      <td>awesome of the awesome movie ever</td>\n",
       "      <td>positive</td>\n",
       "    </tr>\n",
       "    <tr>\n",
       "      <th>5</th>\n",
       "      <td>shame I wasted money and time</td>\n",
       "      <td>negative</td>\n",
       "    </tr>\n",
       "    <tr>\n",
       "      <th>6</th>\n",
       "      <td>regret on this move. I will never never what m...</td>\n",
       "      <td>negative</td>\n",
       "    </tr>\n",
       "    <tr>\n",
       "      <th>7</th>\n",
       "      <td>I do not like this movie</td>\n",
       "      <td>negative</td>\n",
       "    </tr>\n",
       "    <tr>\n",
       "      <th>8</th>\n",
       "      <td>I do not like actors in this movie</td>\n",
       "      <td>negative</td>\n",
       "    </tr>\n",
       "    <tr>\n",
       "      <th>9</th>\n",
       "      <td>boring boring sleeping movie</td>\n",
       "      <td>negative</td>\n",
       "    </tr>\n",
       "  </tbody>\n",
       "</table>\n",
       "</div>"
      ],
      "text/plain": [
       "                                        movie_review      type\n",
       "0      this is great great movie. I will watch again  positive\n",
       "1                                  I like this movie  positive\n",
       "2                         amazing movie in this year  positive\n",
       "3      cool my boyfriend also said the movie is cool  positive\n",
       "4                  awesome of the awesome movie ever  positive\n",
       "5                      shame I wasted money and time  negative\n",
       "6  regret on this move. I will never never what m...  negative\n",
       "7                           I do not like this movie  negative\n",
       "8                 I do not like actors in this movie  negative\n",
       "9                       boring boring sleeping movie  negative"
      ]
     },
     "execution_count": 3,
     "metadata": {},
     "output_type": "execute_result"
    }
   ],
   "source": [
    "# 학습 데이터 준비\n",
    "df = pd.DataFrame(review_list)\n",
    "df"
   ]
  },
  {
   "cell_type": "code",
   "execution_count": 4,
   "id": "979bfae5",
   "metadata": {},
   "outputs": [
    {
     "data": {
      "text/html": [
       "<div>\n",
       "<style scoped>\n",
       "    .dataframe tbody tr th:only-of-type {\n",
       "        vertical-align: middle;\n",
       "    }\n",
       "\n",
       "    .dataframe tbody tr th {\n",
       "        vertical-align: top;\n",
       "    }\n",
       "\n",
       "    .dataframe thead th {\n",
       "        text-align: right;\n",
       "    }\n",
       "</style>\n",
       "<table border=\"1\" class=\"dataframe\">\n",
       "  <thead>\n",
       "    <tr style=\"text-align: right;\">\n",
       "      <th></th>\n",
       "      <th>movie_review</th>\n",
       "      <th>type</th>\n",
       "      <th>label</th>\n",
       "    </tr>\n",
       "  </thead>\n",
       "  <tbody>\n",
       "    <tr>\n",
       "      <th>0</th>\n",
       "      <td>this is great great movie. I will watch again</td>\n",
       "      <td>positive</td>\n",
       "      <td>1</td>\n",
       "    </tr>\n",
       "    <tr>\n",
       "      <th>1</th>\n",
       "      <td>I like this movie</td>\n",
       "      <td>positive</td>\n",
       "      <td>1</td>\n",
       "    </tr>\n",
       "    <tr>\n",
       "      <th>2</th>\n",
       "      <td>amazing movie in this year</td>\n",
       "      <td>positive</td>\n",
       "      <td>1</td>\n",
       "    </tr>\n",
       "    <tr>\n",
       "      <th>3</th>\n",
       "      <td>cool my boyfriend also said the movie is cool</td>\n",
       "      <td>positive</td>\n",
       "      <td>1</td>\n",
       "    </tr>\n",
       "    <tr>\n",
       "      <th>4</th>\n",
       "      <td>awesome of the awesome movie ever</td>\n",
       "      <td>positive</td>\n",
       "      <td>1</td>\n",
       "    </tr>\n",
       "    <tr>\n",
       "      <th>5</th>\n",
       "      <td>shame I wasted money and time</td>\n",
       "      <td>negative</td>\n",
       "      <td>0</td>\n",
       "    </tr>\n",
       "    <tr>\n",
       "      <th>6</th>\n",
       "      <td>regret on this move. I will never never what m...</td>\n",
       "      <td>negative</td>\n",
       "      <td>0</td>\n",
       "    </tr>\n",
       "    <tr>\n",
       "      <th>7</th>\n",
       "      <td>I do not like this movie</td>\n",
       "      <td>negative</td>\n",
       "      <td>0</td>\n",
       "    </tr>\n",
       "    <tr>\n",
       "      <th>8</th>\n",
       "      <td>I do not like actors in this movie</td>\n",
       "      <td>negative</td>\n",
       "      <td>0</td>\n",
       "    </tr>\n",
       "    <tr>\n",
       "      <th>9</th>\n",
       "      <td>boring boring sleeping movie</td>\n",
       "      <td>negative</td>\n",
       "      <td>0</td>\n",
       "    </tr>\n",
       "  </tbody>\n",
       "</table>\n",
       "</div>"
      ],
      "text/plain": [
       "                                        movie_review      type  label\n",
       "0      this is great great movie. I will watch again  positive      1\n",
       "1                                  I like this movie  positive      1\n",
       "2                         amazing movie in this year  positive      1\n",
       "3      cool my boyfriend also said the movie is cool  positive      1\n",
       "4                  awesome of the awesome movie ever  positive      1\n",
       "5                      shame I wasted money and time  negative      0\n",
       "6  regret on this move. I will never never what m...  negative      0\n",
       "7                           I do not like this movie  negative      0\n",
       "8                 I do not like actors in this movie  negative      0\n",
       "9                       boring boring sleeping movie  negative      0"
      ]
     },
     "execution_count": 4,
     "metadata": {},
     "output_type": "execute_result"
    }
   ],
   "source": [
    "# 학습 데이터 다듬기\n",
    "# 사이킷런의 다항분포 나이브 베이즈 분류기는 숫자 데이터만 다루기 때문에 positive를 1, negative를 0으로 \n",
    "# 치환한 'label' 파생 변수를 추가한다.\n",
    "df['label'] = df.type.map({'positive': 1, 'negative': 0})\n",
    "df"
   ]
  },
  {
   "cell_type": "markdown",
   "id": "32dd9642",
   "metadata": {},
   "source": [
    "학습에 사용할 데이터(피처)와 레이블로 분리한다."
   ]
  },
  {
   "cell_type": "code",
   "execution_count": 5,
   "id": "a15a9974",
   "metadata": {},
   "outputs": [
    {
     "data": {
      "text/plain": [
       "0        this is great great movie. I will watch again\n",
       "1                                    I like this movie\n",
       "2                           amazing movie in this year\n",
       "3        cool my boyfriend also said the movie is cool\n",
       "4                    awesome of the awesome movie ever\n",
       "5                        shame I wasted money and time\n",
       "6    regret on this move. I will never never what m...\n",
       "7                             I do not like this movie\n",
       "8                   I do not like actors in this movie\n",
       "9                         boring boring sleeping movie\n",
       "Name: movie_review, dtype: object"
      ]
     },
     "execution_count": 5,
     "metadata": {},
     "output_type": "execute_result"
    }
   ],
   "source": [
    "x = df['movie_review'] # 피쳐\n",
    "x"
   ]
  },
  {
   "cell_type": "code",
   "execution_count": 6,
   "id": "f62d3808",
   "metadata": {},
   "outputs": [
    {
     "data": {
      "text/plain": [
       "0    1\n",
       "1    1\n",
       "2    1\n",
       "3    1\n",
       "4    1\n",
       "5    0\n",
       "6    0\n",
       "7    0\n",
       "8    0\n",
       "9    0\n",
       "Name: label, dtype: int64"
      ]
     },
     "execution_count": 6,
     "metadata": {},
     "output_type": "execute_result"
    }
   ],
   "source": [
    "y = df['label'] # 레이블\n",
    "y"
   ]
  },
  {
   "cell_type": "markdown",
   "id": "f1100fb1",
   "metadata": {},
   "source": [
    "영화 리뷰로 학습을 진행하고 레이블을 사용해서 긍정적, 부정적 여부를 판단한다.\n",
    "\n",
    "다항분포 나이브 베이즈의 입력 데이터는 고정된(동일한) 크기의 벡터이어야 한다."
   ]
  },
  {
   "cell_type": "code",
   "execution_count": 7,
   "id": "8af2e401",
   "metadata": {},
   "outputs": [],
   "source": [
    "# 모든 데이터에 출현한 단어 개수 만큼의 크기를 가지는 벡터를 만들고 고정된 벡터로 표현하기 위해 import 한다.\n",
    "from sklearn.feature_extraction.text import CountVectorizer"
   ]
  },
  {
   "cell_type": "code",
   "execution_count": 9,
   "id": "b6c33832",
   "metadata": {},
   "outputs": [
    {
     "name": "stdout",
     "output_type": "stream",
     "text": [
      "<class 'numpy.ndarray'>\n",
      "[[0 1 0 0 0 0 0 0 0 0 0 0 0 2 0 1 0 0 0 1 0 0 0 0 0 0 0 0 0 0 1 0 0 1 0 1\n",
      "  0]\n",
      " [0 0 0 0 0 0 0 0 0 0 0 0 0 0 0 0 1 0 0 1 0 0 0 0 0 0 0 0 0 0 1 0 0 0 0 0\n",
      "  0]\n",
      " [0 0 0 1 0 0 0 0 0 0 0 0 0 0 1 0 0 0 0 1 0 0 0 0 0 0 0 0 0 0 1 0 0 0 0 0\n",
      "  1]\n",
      " [0 0 1 0 0 0 0 1 2 0 0 0 0 0 0 1 0 0 0 1 1 0 0 0 0 0 1 0 0 1 0 0 0 0 0 0\n",
      "  0]\n",
      " [0 0 0 0 0 2 0 0 0 0 0 1 0 0 0 0 0 0 0 1 0 0 0 1 0 0 0 0 0 1 0 0 0 0 0 0\n",
      "  0]\n",
      " [0 0 0 0 1 0 0 0 0 0 0 0 0 0 0 0 0 1 0 0 0 0 0 0 0 0 0 1 0 0 0 1 1 0 0 0\n",
      "  0]\n",
      " [0 0 0 0 0 0 0 0 0 1 0 0 1 0 0 0 0 0 1 1 0 2 0 0 1 1 0 0 0 0 2 0 0 0 1 1\n",
      "  0]\n",
      " [0 0 0 0 0 0 0 0 0 0 1 0 0 0 0 0 1 0 0 1 0 0 1 0 0 0 0 0 0 0 1 0 0 0 0 0\n",
      "  0]\n",
      " [1 0 0 0 0 0 0 0 0 0 1 0 0 0 1 0 1 0 0 1 0 0 1 0 0 0 0 0 0 0 1 0 0 0 0 0\n",
      "  0]\n",
      " [0 0 0 0 0 0 2 0 0 0 0 0 0 0 0 0 0 0 0 1 0 0 0 0 0 0 0 0 1 0 0 0 0 0 0 0\n",
      "  0]]\n"
     ]
    }
   ],
   "source": [
    "# CountVectorizer 객체는 문자열에 출현한 모든 단어를 오름차순으로 정렬해 단어의 위치로 행렬을 만든다.\n",
    "# 특정 단어가 출현할 경우 출현한 단어의 개수를 리턴하고 출현하지 않으면 0을 리턴한다.\n",
    "# binary 옵션의 기본값은 None으로 출현한 단어의 개수를 리턴하고 True로 변경하면 같은 단어가 여러번 출현하더라도\n",
    "# 무조건 1로 리턴한다.\n",
    "# cv = CountVectorizer(binary=True) # CountVectorizer 객체를 만든다. 베르누이 나이브 베이즈\n",
    "cv = CountVectorizer() # 다항분포 나이브 베이즈\n",
    "# x_train = cv.fit(x) # CountVectorizer 객체를 학습시킨다.\n",
    "# x_train = cv.transform(x) # CountVectorizer 객체의 학습 결과를 적용한다.\n",
    "x_train = cv.fit_transform(x) # CountVectorizer 객체를 학습하고 학습 결과를 적용한다.\n",
    "encoding = x_train.toarray() # CountVectorizer 객체의 학습 결과를 넘파이 배열로 변환한다.\n",
    "print(type(encoding))\n",
    "print(encoding)"
   ]
  },
  {
   "cell_type": "markdown",
   "id": "1fc24b33",
   "metadata": {},
   "source": [
    "위의 넘파이 배열에서 볼 수 있듯이 영화 리뷰에서 총 37개의 단어가 발견되어 각 영화 리뷰가 37개 크기의 벡터로 표현(인코딩)된 것을 확인할 수 있다.  \n",
    "binary=True 옵션을 생략해서 다항분포 나이브 베이즈에서 사용하기 위해 영화 리뷰에 중복되서 출현한 단어가 있으면 출현한 횟수로 표현된 것도 알 수 있다."
   ]
  },
  {
   "cell_type": "code",
   "execution_count": 10,
   "id": "30f7ea83",
   "metadata": {},
   "outputs": [
    {
     "name": "stdout",
     "output_type": "stream",
     "text": [
      "['this' 'is' 'great' 'movie' 'will' 'watch' 'again']\n",
      "['this' 'movie' 'like']\n",
      "['this' 'movie' 'amazing' 'in' 'year']\n",
      "['is' 'movie' 'cool' 'my' 'boyfriend' 'also' 'said' 'the']\n",
      "['movie' 'the' 'awesome' 'of' 'ever']\n",
      "['shame' 'wasted' 'money' 'and' 'time']\n",
      "['this' 'movie' 'will' 'regret' 'on' 'move' 'never' 'what' 'from'\n",
      " 'director']\n",
      "['this' 'movie' 'like' 'do' 'not']\n",
      "['this' 'movie' 'like' 'in' 'do' 'not' 'actors']\n",
      "['movie' 'boring' 'sleeping']\n"
     ]
    }
   ],
   "source": [
    "# inverse_transform() 메소드로 고정된 크기의 벡터에 포함된 단어를 확인할 수 있다.\n",
    "for string in cv.inverse_transform(x_train):\n",
    "    print(string)"
   ]
  },
  {
   "cell_type": "code",
   "execution_count": 11,
   "id": "e1ca664b",
   "metadata": {},
   "outputs": [
    {
     "name": "stdout",
     "output_type": "stream",
     "text": [
      "['actors', 'again', 'also', 'amazing', 'and', 'awesome', 'boring', 'boyfriend', 'cool', 'director', 'do', 'ever', 'from', 'great', 'in', 'is', 'like', 'money', 'move', 'movie', 'my', 'never', 'not', 'of', 'on', 'regret', 'said', 'shame', 'sleeping', 'the', 'this', 'time', 'wasted', 'watch', 'what', 'will', 'year']\n"
     ]
    }
   ],
   "source": [
    "# get_feature_names() 메소드로 고정된 벡터의 각 열(피처)이 어떤 단어를 의미하는지 확인할 수 있다.\n",
    "print(cv.get_feature_names())"
   ]
  },
  {
   "cell_type": "markdown",
   "id": "a40d47db",
   "metadata": {},
   "source": [
    "다항분포 나이브 베이즈 모델 학습하기\n",
    "\n",
    "사이킷런의 다항분포 나이브 베이즈도 베르누이 나이브 베이즈와 같이 라플라스 스무딩을 지원한다."
   ]
  },
  {
   "cell_type": "code",
   "execution_count": 12,
   "id": "f2394477",
   "metadata": {},
   "outputs": [],
   "source": [
    "# 다항분포 나이브 베이즈 모델을 사용하기 위해 import 한다.\n",
    "from sklearn.naive_bayes import MultinomialNB"
   ]
  },
  {
   "cell_type": "code",
   "execution_count": 13,
   "id": "7a21a938",
   "metadata": {},
   "outputs": [],
   "source": [
    "# 다항분포 나이브 베이즈 모델을 만들고 학습시킨다.\n",
    "mnb = MultinomialNB().fit(x_train, y)"
   ]
  },
  {
   "cell_type": "markdown",
   "id": "2728b517",
   "metadata": {},
   "source": [
    "테스트 데이터 준비하고 다듬기"
   ]
  },
  {
   "cell_type": "code",
   "execution_count": 14,
   "id": "365b8b75",
   "metadata": {},
   "outputs": [
    {
     "data": {
      "text/html": [
       "<div>\n",
       "<style scoped>\n",
       "    .dataframe tbody tr th:only-of-type {\n",
       "        vertical-align: middle;\n",
       "    }\n",
       "\n",
       "    .dataframe tbody tr th {\n",
       "        vertical-align: top;\n",
       "    }\n",
       "\n",
       "    .dataframe thead th {\n",
       "        text-align: right;\n",
       "    }\n",
       "</style>\n",
       "<table border=\"1\" class=\"dataframe\">\n",
       "  <thead>\n",
       "    <tr style=\"text-align: right;\">\n",
       "      <th></th>\n",
       "      <th>movie_review</th>\n",
       "      <th>type</th>\n",
       "      <th>label</th>\n",
       "    </tr>\n",
       "  </thead>\n",
       "  <tbody>\n",
       "    <tr>\n",
       "      <th>0</th>\n",
       "      <td>great great great movie ever</td>\n",
       "      <td>positive</td>\n",
       "      <td>1</td>\n",
       "    </tr>\n",
       "    <tr>\n",
       "      <th>1</th>\n",
       "      <td>I like this amazing movie</td>\n",
       "      <td>positive</td>\n",
       "      <td>1</td>\n",
       "    </tr>\n",
       "    <tr>\n",
       "      <th>2</th>\n",
       "      <td>my boyfriend said great movie ever</td>\n",
       "      <td>positive</td>\n",
       "      <td>1</td>\n",
       "    </tr>\n",
       "    <tr>\n",
       "      <th>3</th>\n",
       "      <td>cool cool cool</td>\n",
       "      <td>positive</td>\n",
       "      <td>1</td>\n",
       "    </tr>\n",
       "    <tr>\n",
       "      <th>4</th>\n",
       "      <td>awesome boyfriend said cool movie ever</td>\n",
       "      <td>positive</td>\n",
       "      <td>1</td>\n",
       "    </tr>\n",
       "    <tr>\n",
       "      <th>5</th>\n",
       "      <td>shame shame shame</td>\n",
       "      <td>negative</td>\n",
       "      <td>0</td>\n",
       "    </tr>\n",
       "    <tr>\n",
       "      <th>6</th>\n",
       "      <td>awesome director shame movie boring movie</td>\n",
       "      <td>negative</td>\n",
       "      <td>0</td>\n",
       "    </tr>\n",
       "    <tr>\n",
       "      <th>7</th>\n",
       "      <td>do not like this movie</td>\n",
       "      <td>negative</td>\n",
       "      <td>0</td>\n",
       "    </tr>\n",
       "    <tr>\n",
       "      <th>8</th>\n",
       "      <td>I do not like this boring movie</td>\n",
       "      <td>negative</td>\n",
       "      <td>0</td>\n",
       "    </tr>\n",
       "    <tr>\n",
       "      <th>9</th>\n",
       "      <td>aweful terrible boring movie</td>\n",
       "      <td>negative</td>\n",
       "      <td>0</td>\n",
       "    </tr>\n",
       "  </tbody>\n",
       "</table>\n",
       "</div>"
      ],
      "text/plain": [
       "                                movie_review      type  label\n",
       "0               great great great movie ever  positive      1\n",
       "1                  I like this amazing movie  positive      1\n",
       "2         my boyfriend said great movie ever  positive      1\n",
       "3                             cool cool cool  positive      1\n",
       "4     awesome boyfriend said cool movie ever  positive      1\n",
       "5                          shame shame shame  negative      0\n",
       "6  awesome director shame movie boring movie  negative      0\n",
       "7                     do not like this movie  negative      0\n",
       "8            I do not like this boring movie  negative      0\n",
       "9               aweful terrible boring movie  negative      0"
      ]
     },
     "execution_count": 14,
     "metadata": {},
     "output_type": "execute_result"
    }
   ],
   "source": [
    "# 사이킷런의 다항분포 나이브 베이즈 분류기는 숫자 데이터만 다루기 때문에 positive를 1, negative를 0으로 \n",
    "# 치환한 'label' 파생 변수를 추가한다.\n",
    "test_df = pd.DataFrame(test_feedback_list)\n",
    "test_df['label'] = df.type.map({'positive': 1, 'negative': 0})\n",
    "test_df"
   ]
  },
  {
   "cell_type": "markdown",
   "id": "0a82597a",
   "metadata": {},
   "source": [
    "테스트에 사용할 데이터(피처)와 레이블로 분리한다."
   ]
  },
  {
   "cell_type": "code",
   "execution_count": 15,
   "id": "1b9670ef",
   "metadata": {},
   "outputs": [
    {
     "data": {
      "text/plain": [
       "0                 great great great movie ever\n",
       "1                    I like this amazing movie\n",
       "2           my boyfriend said great movie ever\n",
       "3                               cool cool cool\n",
       "4       awesome boyfriend said cool movie ever\n",
       "5                            shame shame shame\n",
       "6    awesome director shame movie boring movie\n",
       "7                       do not like this movie\n",
       "8              I do not like this boring movie\n",
       "9                 aweful terrible boring movie\n",
       "Name: movie_review, dtype: object"
      ]
     },
     "execution_count": 15,
     "metadata": {},
     "output_type": "execute_result"
    }
   ],
   "source": [
    "x = test_df['movie_review'] # 피쳐\n",
    "x"
   ]
  },
  {
   "cell_type": "code",
   "execution_count": 16,
   "id": "d1bce21f",
   "metadata": {},
   "outputs": [
    {
     "data": {
      "text/plain": [
       "0    1\n",
       "1    1\n",
       "2    1\n",
       "3    1\n",
       "4    1\n",
       "5    0\n",
       "6    0\n",
       "7    0\n",
       "8    0\n",
       "9    0\n",
       "Name: label, dtype: int64"
      ]
     },
     "execution_count": 16,
     "metadata": {},
     "output_type": "execute_result"
    }
   ],
   "source": [
    "y = test_df['label'] # 레이블\n",
    "y"
   ]
  },
  {
   "cell_type": "markdown",
   "id": "1bd657f7",
   "metadata": {},
   "source": [
    "모델 테스트"
   ]
  },
  {
   "cell_type": "code",
   "execution_count": 17,
   "id": "c92e1c8f",
   "metadata": {},
   "outputs": [],
   "source": [
    "# CountVectorizer 객체는 학습 데이터를 다듬을 때 이미 학습을 시켰으므로 테스트 시에는 적용만 시키면 된다.\n",
    "x_test = cv.transform(x)"
   ]
  },
  {
   "cell_type": "code",
   "execution_count": 19,
   "id": "7e893674",
   "metadata": {},
   "outputs": [
    {
     "name": "stdout",
     "output_type": "stream",
     "text": [
      "[1 1 1 1 1 0 0 0 0 0]\n",
      "정확도: 100.00%\n"
     ]
    }
   ],
   "source": [
    "# predict() 메소드의 인수로 테스트 데이터의 피쳐를 넘겨서 예측값을 계산한다.\n",
    "predict = mnb.predict(x_test)\n",
    "print(predict)\n",
    "# accuracy_score() 메소드의 인수로 테스트 데이터의 레이블(실제값)과 예측값을 넘겨서 정확도를 계산한다.\n",
    "accuracy = accuracy_score(y, predict)\n",
    "print('정확도: {:6.2%}'.format(accuracy))"
   ]
  },
  {
   "cell_type": "code",
   "execution_count": 20,
   "id": "05cfd131",
   "metadata": {},
   "outputs": [
    {
     "name": "stdout",
     "output_type": "stream",
     "text": [
      "[[5 0]\n",
      " [0 5]]\n"
     ]
    }
   ],
   "source": [
    "# confusion_matrix() 메소드의 인수로 테스트 데이터의 레이블(실제값)과 예측값을 넘겨서 혼동 행렬을 출력한다.\n",
    "print(confusion_matrix(y, predict))"
   ]
  },
  {
   "cell_type": "code",
   "execution_count": 21,
   "id": "c360641c",
   "metadata": {},
   "outputs": [
    {
     "name": "stdout",
     "output_type": "stream",
     "text": [
      "              precision    recall  f1-score   support\n",
      "\n",
      "           0       1.00      1.00      1.00         5\n",
      "           1       1.00      1.00      1.00         5\n",
      "\n",
      "    accuracy                           1.00        10\n",
      "   macro avg       1.00      1.00      1.00        10\n",
      "weighted avg       1.00      1.00      1.00        10\n",
      "\n"
     ]
    }
   ],
   "source": [
    "# classification_report() 메소드의 인수로 테스트 데이터의 레이블(실제값)과 예측값을 넘겨서 분류 리포트를 출력한다.\n",
    "print(classification_report(y, predict))"
   ]
  },
  {
   "cell_type": "code",
   "execution_count": 22,
   "id": "8340754c",
   "metadata": {},
   "outputs": [
    {
     "data": {
      "text/html": [
       "<div>\n",
       "<style scoped>\n",
       "    .dataframe tbody tr th:only-of-type {\n",
       "        vertical-align: middle;\n",
       "    }\n",
       "\n",
       "    .dataframe tbody tr th {\n",
       "        vertical-align: top;\n",
       "    }\n",
       "\n",
       "    .dataframe thead th {\n",
       "        text-align: right;\n",
       "    }\n",
       "</style>\n",
       "<table border=\"1\" class=\"dataframe\">\n",
       "  <thead>\n",
       "    <tr style=\"text-align: right;\">\n",
       "      <th></th>\n",
       "      <th>실제값</th>\n",
       "      <th>예측값</th>\n",
       "    </tr>\n",
       "  </thead>\n",
       "  <tbody>\n",
       "    <tr>\n",
       "      <th>0</th>\n",
       "      <td>1</td>\n",
       "      <td>1</td>\n",
       "    </tr>\n",
       "    <tr>\n",
       "      <th>1</th>\n",
       "      <td>1</td>\n",
       "      <td>1</td>\n",
       "    </tr>\n",
       "    <tr>\n",
       "      <th>2</th>\n",
       "      <td>1</td>\n",
       "      <td>1</td>\n",
       "    </tr>\n",
       "    <tr>\n",
       "      <th>3</th>\n",
       "      <td>1</td>\n",
       "      <td>1</td>\n",
       "    </tr>\n",
       "    <tr>\n",
       "      <th>4</th>\n",
       "      <td>1</td>\n",
       "      <td>1</td>\n",
       "    </tr>\n",
       "    <tr>\n",
       "      <th>5</th>\n",
       "      <td>0</td>\n",
       "      <td>0</td>\n",
       "    </tr>\n",
       "    <tr>\n",
       "      <th>6</th>\n",
       "      <td>0</td>\n",
       "      <td>0</td>\n",
       "    </tr>\n",
       "    <tr>\n",
       "      <th>7</th>\n",
       "      <td>0</td>\n",
       "      <td>0</td>\n",
       "    </tr>\n",
       "    <tr>\n",
       "      <th>8</th>\n",
       "      <td>0</td>\n",
       "      <td>0</td>\n",
       "    </tr>\n",
       "    <tr>\n",
       "      <th>9</th>\n",
       "      <td>0</td>\n",
       "      <td>0</td>\n",
       "    </tr>\n",
       "  </tbody>\n",
       "</table>\n",
       "</div>"
      ],
      "text/plain": [
       "   실제값  예측값\n",
       "0    1    1\n",
       "1    1    1\n",
       "2    1    1\n",
       "3    1    1\n",
       "4    1    1\n",
       "5    0    0\n",
       "6    0    0\n",
       "7    0    0\n",
       "8    0    0\n",
       "9    0    0"
      ]
     },
     "execution_count": 22,
     "metadata": {},
     "output_type": "execute_result"
    }
   ],
   "source": [
    "pd.DataFrame({'실제값': y, '예측값': predict})"
   ]
  },
  {
   "cell_type": "code",
   "execution_count": null,
   "id": "c3cba1d8",
   "metadata": {},
   "outputs": [],
   "source": []
  }
 ],
 "metadata": {
  "kernelspec": {
   "display_name": "python37",
   "language": "python",
   "name": "python37"
  },
  "language_info": {
   "codemirror_mode": {
    "name": "ipython",
    "version": 3
   },
   "file_extension": ".py",
   "mimetype": "text/x-python",
   "name": "python",
   "nbconvert_exporter": "python",
   "pygments_lexer": "ipython3",
   "version": "3.7.1"
  }
 },
 "nbformat": 4,
 "nbformat_minor": 5
}
