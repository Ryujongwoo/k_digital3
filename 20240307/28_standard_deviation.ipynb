{
 "cells": [
  {
   "cell_type": "markdown",
   "id": "6b7eeed7",
   "metadata": {},
   "source": [
    "분산, 표준편차  \n",
    "\n",
    "n개의 데이터(999가 입력되기 전 까지)를 입력받아 최대값과 최소값을 제외한 나머지 데이터의 표준편차를 계산하는 프로그램\n",
    "***\n",
    "표준편차 공식\n",
    "\n",
    "$$\\sqrt{\\frac{\\sum_{i=1}^{n-2}(x_i - \\bar{x})^2}{N-2}}$$"
   ]
  },
  {
   "cell_type": "markdown",
   "id": "f1fa28ec",
   "metadata": {},
   "source": [
    "<img src='./stdDev.png' align='left' width='800' title='표준편차 계산'/>"
   ]
  },
  {
   "cell_type": "markdown",
   "id": "5d27711d",
   "metadata": {},
   "source": [
    "999가 입력되기 전 까지 데이터 입력받기"
   ]
  },
  {
   "cell_type": "code",
   "execution_count": 1,
   "id": "f5f56702",
   "metadata": {},
   "outputs": [
    {
     "name": "stdout",
     "output_type": "stream",
     "text": [
      "n: 1\n",
      "n: 2\n",
      "n: 3\n",
      "n: 999\n",
      "[1, 2, 3]\n"
     ]
    }
   ],
   "source": [
    "data = []\n",
    "while True:\n",
    "    n = int(input('n: '))\n",
    "    if n == 999:\n",
    "        break\n",
    "    data.append(n)\n",
    "print(data)"
   ]
  },
  {
   "cell_type": "markdown",
   "id": "cd40d589",
   "metadata": {},
   "source": [
    "최대값, 최소값 판단하기 => 최대값을 기억할 변수는 아주 작은 값을, 최소값을 기억할 변수는 아주 큰 값을 초기치로 넣어주고 비교한다."
   ]
  },
  {
   "cell_type": "code",
   "execution_count": 5,
   "id": "86accdd5",
   "metadata": {},
   "outputs": [
    {
     "name": "stdout",
     "output_type": "stream",
     "text": [
      "최대값: 91, 최소값: 35\n"
     ]
    }
   ],
   "source": [
    "# data = [35, 91, 75, 62, 84]\n",
    "data = [35, 62, 75, 84, 91]\n",
    "big = 0\n",
    "small = 100\n",
    "for i in range(len(data)):\n",
    "    if big < data[i]:\n",
    "        big = data[i]\n",
    "    if small > data[i]:\n",
    "        small = data[i]\n",
    "print(f'최대값: {big}, 최소값: {small}')"
   ]
  },
  {
   "cell_type": "code",
   "execution_count": 6,
   "id": "1b2aac6e",
   "metadata": {},
   "outputs": [
    {
     "name": "stdout",
     "output_type": "stream",
     "text": [
      "최대값: 91, 최소값: 35\n"
     ]
    }
   ],
   "source": [
    "data = [35, 62, 75, 84, 91]\n",
    "big = 0\n",
    "small = 100\n",
    "for score in data:\n",
    "    if big < score:\n",
    "        big = score\n",
    "    if small > score:\n",
    "        small = score\n",
    "print(f'최대값: {big}, 최소값: {small}')"
   ]
  },
  {
   "cell_type": "markdown",
   "id": "43faec6e",
   "metadata": {},
   "source": [
    "최대값, 최소값 판단하기 => 최대값과 최소값을 기억할 변수는 각각 리스트의 0번째 인덱스의 값을 초기치로 넣어주고 비교한다."
   ]
  },
  {
   "cell_type": "code",
   "execution_count": 8,
   "id": "aba2985a",
   "metadata": {},
   "outputs": [
    {
     "name": "stdout",
     "output_type": "stream",
     "text": [
      "최대값: 91, 최소값: 35\n"
     ]
    }
   ],
   "source": [
    "# data = [35, 91, 75, 62, 84]\n",
    "data = [35, 62, 75, 84, 91]\n",
    "big = data[0]\n",
    "small = data[0]\n",
    "for i in range(1, len(data)):\n",
    "    if big < data[i]:\n",
    "        big = data[i]\n",
    "    if small > data[i]:\n",
    "        small = data[i]\n",
    "print(f'최대값: {big}, 최소값: {small}')"
   ]
  },
  {
   "cell_type": "code",
   "execution_count": 9,
   "id": "d781b5ac",
   "metadata": {},
   "outputs": [
    {
     "name": "stdout",
     "output_type": "stream",
     "text": [
      "최대값: 91, 최소값: 35\n"
     ]
    }
   ],
   "source": [
    "data = [35, 62, 75, 84, 91]\n",
    "big = data[0]\n",
    "small = data[0]\n",
    "for score in data[1:]:\n",
    "    if big < score:\n",
    "        big = score\n",
    "    if small > score:\n",
    "        small = score\n",
    "print(f'최대값: {big}, 최소값: {small}')"
   ]
  },
  {
   "cell_type": "markdown",
   "id": "c3b4a812",
   "metadata": {},
   "source": [
    "max(), min() 함수로 최대값, 최소값 판단하기"
   ]
  },
  {
   "cell_type": "code",
   "execution_count": 10,
   "id": "d2b79489",
   "metadata": {},
   "outputs": [
    {
     "name": "stdout",
     "output_type": "stream",
     "text": [
      "최대값: 91, 최소값: 35\n"
     ]
    }
   ],
   "source": [
    "data = [35, 62, 75, 84, 91]\n",
    "print(f'최대값: {max(data)}, 최소값: {min(data)}')"
   ]
  },
  {
   "cell_type": "markdown",
   "id": "30d8d6f9",
   "metadata": {},
   "source": [
    "데이터를 정렬시켜 최대값, 최소값 판단하기"
   ]
  },
  {
   "cell_type": "code",
   "execution_count": 14,
   "id": "b976ee78",
   "metadata": {},
   "outputs": [
    {
     "name": "stdout",
     "output_type": "stream",
     "text": [
      "[35, 62, 75, 84, 91]\n",
      "최대값: 91, 최소값: 35\n",
      "[91, 84, 75, 62, 35]\n",
      "최대값: 91, 최소값: 35\n"
     ]
    }
   ],
   "source": [
    "data = [35, 91, 75, 62, 84]\n",
    "data.sort() # 오름차순 정렬\n",
    "print(data)\n",
    "print(f'최대값: {data[-1]}, 최소값: {data[0]}')\n",
    "data.sort(reverse=True) # 내림차순 정렬\n",
    "print(data)\n",
    "print(f'최대값: {data[0]}, 최소값: {data[-1]}')"
   ]
  },
  {
   "cell_type": "markdown",
   "id": "61474e85",
   "metadata": {},
   "source": [
    "표준편차를 계산할 데이터를 입력받는다."
   ]
  },
  {
   "cell_type": "code",
   "execution_count": 17,
   "id": "86cfdfc3",
   "metadata": {},
   "outputs": [
    {
     "name": "stdout",
     "output_type": "stream",
     "text": [
      "1번째 표준편차를 계산할 데이터를 입력하세요: 1\n",
      "2번째 표준편차를 계산할 데이터를 입력하세요: 2\n",
      "3번째 표준편차를 계산할 데이터를 입력하세요: 3\n",
      "4번째 표준편차를 계산할 데이터를 입력하세요: 4\n",
      "5번째 표준편차를 계산할 데이터를 입력하세요: 5\n",
      "6번째 표준편차를 계산할 데이터를 입력하세요: 999\n",
      "입력받은 데이터는 5개 이고 데이터는 [1, 2, 3, 4, 5] 입니다.\n"
     ]
    }
   ],
   "source": [
    "# 표준편차를 계산할 데이터를 999가 입력될 때 까지 입력받는다.\n",
    "score = []\n",
    "# 999가 몇 번째 데이터로 입력될지 모르기 때문에 무한 루프를 돌린다.\n",
    "while True:\n",
    "    data = int(input('{}번째 표준편차를 계산할 데이터를 입력하세요: '.format(len(score) + 1)))\n",
    "    # 입력받은 데이터가 999면 더 이상 데이터를 입력받을 필요 없으므로 무한 루프를 탈출한다.\n",
    "    if data == 999:\n",
    "        break\n",
    "    # ===== if\n",
    "    # 999가 입력되지 않았으므로 리스트에 입력받은 데이터를 추가한다.\n",
    "    score.append(data)\n",
    "# ===== while\n",
    "print(f'입력받은 데이터는 {len(score)}개 이고 데이터는 {score} 입니다.')"
   ]
  },
  {
   "cell_type": "markdown",
   "id": "8c4e0aec",
   "metadata": {},
   "source": [
    "최대값과 최소값을 제외한 나머지 데이터의 평균을 계산한다."
   ]
  },
  {
   "cell_type": "code",
   "execution_count": 25,
   "id": "650f6590",
   "metadata": {},
   "outputs": [
    {
     "name": "stdout",
     "output_type": "stream",
     "text": [
      "최대값과 최소값을 제외한 나머지 데이터의 합계: 9\n",
      "최대값과 최소값을 제외한 나머지 데이터의 평균: 3.0\n"
     ]
    }
   ],
   "source": [
    "big = max(score)\n",
    "small = min(score)\n",
    "'''\n",
    "total = 0\n",
    "for s in score:\n",
    "    total += s\n",
    "# total = total - big - small\n",
    "total -= big + small\n",
    "'''\n",
    "total = sum(score) - big - small\n",
    "print(f'최대값과 최소값을 제외한 나머지 데이터의 합계: {total}')\n",
    "mean = total / (len(score) - 2)\n",
    "print(f'최대값과 최소값을 제외한 나머지 데이터의 평균: {mean}')"
   ]
  },
  {
   "cell_type": "code",
   "execution_count": 30,
   "id": "b0b0a8f2",
   "metadata": {},
   "outputs": [
    {
     "name": "stdout",
     "output_type": "stream",
     "text": [
      "최대값과 최소값을 제외한 나머지 데이터의 합계: 9\n",
      "최대값과 최소값을 제외한 나머지 데이터의 평균: 3.0\n"
     ]
    }
   ],
   "source": [
    "score.sort()\n",
    "'''\n",
    "total = 0\n",
    "# for s in score[1:len(score) - 1]:\n",
    "for s in score[1:-1]:\n",
    "    total += s\n",
    "'''\n",
    "total = sum(score[1:-1])\n",
    "print(f'최대값과 최소값을 제외한 나머지 데이터의 합계: {total}')\n",
    "mean = total / (len(score) - 2)\n",
    "print(f'최대값과 최소값을 제외한 나머지 데이터의 평균: {mean}')"
   ]
  },
  {
   "cell_type": "markdown",
   "id": "55a86c86",
   "metadata": {},
   "source": [
    "최대값과 최소값을 제외한 나머지 데이터와 산술평균의 편차의 제곱의 합계를 계산한다."
   ]
  },
  {
   "cell_type": "code",
   "execution_count": 34,
   "id": "d800d687",
   "metadata": {},
   "outputs": [],
   "source": [
    "import math"
   ]
  },
  {
   "cell_type": "code",
   "execution_count": 35,
   "id": "0ad587b2",
   "metadata": {},
   "outputs": [
    {
     "name": "stdout",
     "output_type": "stream",
     "text": [
      "최대값과 최소값을 제외한 나머지 데이터와 산술평균의 편차의 제곱의 합계: 2.0\n"
     ]
    }
   ],
   "source": [
    "total = 0\n",
    "for s in score[1:-1]:\n",
    "    # total += (s - mean) * (s - mean)\n",
    "    # total += (s - mean) ** 2\n",
    "    total += math.pow(s - mean, 2)\n",
    "print(f'최대값과 최소값을 제외한 나머지 데이터와 산술평균의 편차의 제곱의 합계: {total}')"
   ]
  },
  {
   "cell_type": "markdown",
   "id": "4de4521c",
   "metadata": {},
   "source": [
    "최대값과 최소값을 제외한 나머지 데이터의 분산과 표준편차를 계산한다."
   ]
  },
  {
   "cell_type": "code",
   "execution_count": 38,
   "id": "9ce56285",
   "metadata": {},
   "outputs": [
    {
     "name": "stdout",
     "output_type": "stream",
     "text": [
      "최대값과 최소값을 제외한 나머지 데이터의 분산: 0.6666666666666666\n",
      "최대값과 최소값을 제외한 나머지 데이터의 표준편차: 0.816496580927726\n"
     ]
    }
   ],
   "source": [
    "var = total / (len(score) - 2)\n",
    "print(f'최대값과 최소값을 제외한 나머지 데이터의 분산: {var}')\n",
    "# std = var ** 0.5\n",
    "std = math.sqrt(var)\n",
    "print(f'최대값과 최소값을 제외한 나머지 데이터의 표준편차: {std}')"
   ]
  },
  {
   "cell_type": "markdown",
   "id": "200ecc9b",
   "metadata": {},
   "source": [
    "numpy 라이브러리를 이용해서 분산과 표준편차 계산하기  \n",
    "\n",
    "numpy는 파이썬을 설치할 때 같이 설치되는 라이브러리가 아니기 때문에 별도로 설치하는 과정이 필요하다.  \n",
    "콘솔창에서는 pip install numpy와 같이 입력해서 설치하면 되고 쥬피터 노트북에서 외부 라이브러리를 설치하려면 !pip install numpy와 같이 pip 앞에 '!'를 붙여서 실행하면 된다."
   ]
  },
  {
   "cell_type": "code",
   "execution_count": 39,
   "id": "3775e8fe",
   "metadata": {},
   "outputs": [
    {
     "name": "stdout",
     "output_type": "stream",
     "text": [
      "Requirement already satisfied: numpy in c:\\python\\lib\\site-packages (1.19.5)\n"
     ]
    }
   ],
   "source": [
    "!pip install numpy"
   ]
  },
  {
   "cell_type": "code",
   "execution_count": 40,
   "id": "574b30f1",
   "metadata": {},
   "outputs": [],
   "source": [
    "import numpy as np"
   ]
  },
  {
   "cell_type": "code",
   "execution_count": 41,
   "id": "afa22a61",
   "metadata": {},
   "outputs": [
    {
     "name": "stdout",
     "output_type": "stream",
     "text": [
      "최대값과 최소값을 제외한 나머지 데이터의 분산: 0.6666666666666666\n",
      "최대값과 최소값을 제외한 나머지 데이터의 표준편차: 0.816496580927726\n"
     ]
    }
   ],
   "source": [
    "print(f'최대값과 최소값을 제외한 나머지 데이터의 분산: {np.var(score[1:-1])}')\n",
    "print(f'최대값과 최소값을 제외한 나머지 데이터의 표준편차: {np.std(score[1:-1])}')"
   ]
  },
  {
   "cell_type": "code",
   "execution_count": null,
   "id": "86bd0645",
   "metadata": {},
   "outputs": [],
   "source": []
  },
  {
   "cell_type": "code",
   "execution_count": null,
   "id": "7c96a8e1",
   "metadata": {},
   "outputs": [],
   "source": []
  }
 ],
 "metadata": {
  "kernelspec": {
   "display_name": "Python 3",
   "language": "python",
   "name": "python3"
  },
  "language_info": {
   "codemirror_mode": {
    "name": "ipython",
    "version": 3
   },
   "file_extension": ".py",
   "mimetype": "text/x-python",
   "name": "python",
   "nbconvert_exporter": "python",
   "pygments_lexer": "ipython3",
   "version": "3.6.8"
  }
 },
 "nbformat": 4,
 "nbformat_minor": 5
}
