{
 "cells": [
  {
   "cell_type": "markdown",
   "id": "4f428f64",
   "metadata": {},
   "source": [
    "jupyter notebook 화면 설정  \n",
    "C:\\사용자\\<사용자ID>\\.jupyter 폴더에 jupyter notebook 설정 파일이 있다.  \n",
    ".jupyter 폴더가 보이지 않는다면 까만창에서 jupyter notebook --generate-config를 실행한다.  \n",
    ".jupyter 폴더 아래에 custom 이라는 폴더를 만들고 custom.css 라는 파일에서 화면 설정을 한다."
   ]
  },
  {
   "cell_type": "markdown",
   "id": "c21e8b07",
   "metadata": {},
   "source": [
    "유용한 단축키\n",
    "\n",
    "자동 완성: tab 키  \n",
    "코드 실행: ctrl + enter => 한 셀 실행, shift + enter => 한 셀 실행, 셀 실행 후 다음 셀로 이동, 다음 셀이 없으면 빈 셀 추가  \n",
    "현재 셀 위에 빈 셀 삽입: a  \n",
    "현재 셀 아래에 빈 셀 삽입: b  \n",
    "현재 셀 삭제: dd  \n",
    "현재 셀 복사: c  \n",
    "현재 셀 자르기: x  \n",
    "현재 셀 아래에 복사 또는 잘라낸 셀 붙이기: v  \n",
    "코드 셀을 마크다운 셀로 바꾸기: m  \n",
    "마크다운 셀을 코드 셀로 바꾸기: y"
   ]
  },
  {
   "cell_type": "code",
   "execution_count": 5,
   "id": "1a8997ac",
   "metadata": {},
   "outputs": [],
   "source": [
    "# '#'으로 시작하면 1줄 주석 => 컴파일러(번역)나 인터프리터(통역)가 번역하지 않는다. => 코드 설명\n",
    "# ''' 부터 ''' 사이에 코딩하면 범위 주석을 지정할 수 있다."
   ]
  },
  {
   "cell_type": "code",
   "execution_count": 9,
   "id": "381c57b3",
   "metadata": {},
   "outputs": [
    {
     "data": {
      "image/png": "[encoded data removed]",
      "text/plain": [
       "<IPython.core.display.Image object>"
      ]
     },
     "execution_count": 9,
     "metadata": {
      "image/png": {
       "width": "500"
      }
     },
     "output_type": "execute_result"
    }
   ],
   "source": [
    "# jupyter notebook에 코드로 image 넣기\n",
    "from IPython.display import Image\n",
    "Image('./python.png', width='500')"
   ]
  },
  {
   "cell_type": "markdown",
   "id": "2a399946",
   "metadata": {},
   "source": [
    "markdown으로 image 넣기\n",
    "\n",
    "<img src='./python.png' align='left' width='500' title='파이썬 로고 이미지'/>"
   ]
  },
  {
   "cell_type": "code",
   "execution_count": 5,
   "id": "3f20bc09",
   "metadata": {},
   "outputs": [
    {
     "name": "stdout",
     "output_type": "stream",
     "text": [
      "Hello Python\n",
      "안녕 파이썬\n",
      "제2외국어를 배운 호랑이가 \"야옹\" 했습니다.\n",
      "제2외국어를 배운 고양이가 '어흥' 했습니다.\n",
      "제2외국어를 배운 호랑이가 '야옹' 했습니다.\n",
      "제2외국어를 배운 고양이가 \"어흥\" 했습니다.\n"
     ]
    }
   ],
   "source": [
    "# 파이썬은 문자열 데이터를 표현할 때 큰따옴표나 작은따옴표로 묶어주면 된다. => 짝만 맞추면 된다.\n",
    "# print() 함수는 별도의 설정을 하지 않으면 ()안의 내용을 출력하고 줄을 바꾼다.\n",
    "print('Hello Python')\n",
    "print(\"안녕 파이썬\")\n",
    "print('제2외국어를 배운 호랑이가 \"야옹\" 했습니다.')\n",
    "print(\"제2외국어를 배운 고양이가 '어흥' 했습니다.\")\n",
    "print('제2외국어를 배운 호랑이가 \\'야옹\\' 했습니다.')\n",
    "print(\"제2외국어를 배운 고양이가 \\\"어흥\\\" 했습니다.\")"
   ]
  },
  {
   "cell_type": "code",
   "execution_count": 10,
   "id": "6d1ece76",
   "metadata": {},
   "outputs": [
    {
     "name": "stdout",
     "output_type": "stream",
     "text": [
      "Hello Python\n",
      "안녕 파이썬\n",
      "Hello Python안녕 파이썬\n",
      "Hello\n",
      "Python: 안녕 파이썬\n"
     ]
    }
   ],
   "source": [
    "# print() 함수로 출력 후 줄을 변경하지 않으려면 end 옵션을 사용한다.\n",
    "# end 옵션은 print() 함수로 출력한 후 출력할 내용을 지정한다.\n",
    "# end 옵션을 생략하면 '\\n'이 기본값으로 사용된다. '\\n' => new line => 줄을 바꾼다.\n",
    "print('Hello Python', end='\\n')\n",
    "print(\"안녕 파이썬\")\n",
    "print('Hello Python', end='')\n",
    "print(\"안녕 파이썬\")\n",
    "print('Hello\\nPython', end=': ')\n",
    "print(\"안녕 파이썬\")"
   ]
  },
  {
   "cell_type": "code",
   "execution_count": 14,
   "id": "4a951f33",
   "metadata": {},
   "outputs": [
    {
     "name": "stdout",
     "output_type": "stream",
     "text": [
      "Hello Python 안녕 파이썬\n",
      "Hello Python 안녕 파이썬\n",
      "Hello Python, 안녕 파이썬\n",
      "Hello Python|안녕 파이썬\n",
      "Hello Python~(^^!)안녕 파이썬\n"
     ]
    }
   ],
   "source": [
    "# print() 함수로 2개 이상의 데이터를 출력하려면 ','로 구분해서 출력하면 된다.\n",
    "print('Hello Python', \"안녕 파이썬\")\n",
    "# print() 함수로 출력할 때 ','로 데이터를 구분하면 sep 옵션에서 지정한 구분자가 데이터와 데이터 사이에 출력된다.\n",
    "# sep 옵션을 생략하면 공백 1칸이 기본값으로 사용된다.\n",
    "print('Hello Python', \"안녕 파이썬\", sep=' ')\n",
    "print('Hello Python', \"안녕 파이썬\", sep=', ')\n",
    "print('Hello Python', \"안녕 파이썬\", sep='|')\n",
    "print('Hello Python', \"안녕 파이썬\", sep='~(^^!)')"
   ]
  },
  {
   "cell_type": "code",
   "execution_count": 19,
   "id": "91fb5ece",
   "metadata": {},
   "outputs": [
    {
     "name": "stdout",
     "output_type": "stream",
     "text": [
      "13\n",
      "58\n"
     ]
    }
   ],
   "source": [
    "print(5 + 8) # 숫자와 숫자 사이에 '+' 연산자를 사용하면 덧셈 연산이 실행된다.\n",
    "print('5' + '8') # 문자열과 문자열 사이에 '+' 연산자를 사용하면 문자열 데이터를 연결한다.\n",
    "# 파이썬은 숫자와 숫자를 '+' 연산자를 사용하면 덧셈 연산을 실행하고 문자열과 문자열에 '+' 연산을 사용하면 \n",
    "# 문자열을 연결하지만 숫자와 문자열 또는 문자열과 숫자 사이에 '+' 연산자를 사용하면 에러가 발생된다.\n",
    "# print('5' + 8) # 에러\n",
    "# print(5 + '8') # 에러"
   ]
  },
  {
   "cell_type": "code",
   "execution_count": 21,
   "id": "0c65188b",
   "metadata": {},
   "outputs": [
    {
     "name": "stdout",
     "output_type": "stream",
     "text": [
      "13\n",
      "58\n"
     ]
    }
   ],
   "source": [
    "# int() 함수는 인수로 지정된 데이터를 정수로 변환한다.\n",
    "print(int('5') + 8)\n",
    "# str() 함수는 인수로 지정된 데이터를 문자열로 변환한다.\n",
    "print(str(5) + '8')"
   ]
  },
  {
   "cell_type": "code",
   "execution_count": 23,
   "id": "94900948",
   "metadata": {},
   "outputs": [
    {
     "name": "stdout",
     "output_type": "stream",
     "text": [
      "================================================================================\n",
      "================================================================================\n"
     ]
    }
   ],
   "source": [
    "# '*' 연산자를 사용하면 특정 문자열을 지정한 횟수만큼 반복해서 출력한다.\n",
    "print('================================================================================')\n",
    "print('=' * 80)"
   ]
  },
  {
   "cell_type": "markdown",
   "id": "f23e489c",
   "metadata": {},
   "source": [
    "'%'와 서식 문자를 사용해 출력하기\n",
    "\n",
    "서식 문자  \n",
    "d(정수), f(실수), s(문자열)를 사용해서 출력 서식을 지정할 수 있고 출력 서식을 제외한 나머지 문자들은 그대로 출력된다.\n",
    "\n",
    "출력 서식의 형식  \n",
    "%[-][0][n][.m]서식문자 => [] 안의 내용은 생략할 수 있다.  \n",
    "n: 전체 자리수, 전체 자리수가 지정되면 데이터는 오른쪽으로 정렬되서 출력된다.  \n",
    "-: 전체 자리수가 지정된 경우 데이터를 왼쪽으로 정렬해서 출력한다.  \n",
    "0: 전체 자리수가 지정된 경우 숫자 왼쪽의 남는 자리에 '0'이 채워져 출력된다. => 문자열 데이터에서는 무시된다.  \n",
    ".m: 실수를 출력할 경우 소수점 아래 자리수를 지정한다."
   ]
  },
  {
   "cell_type": "code",
   "execution_count": 24,
   "id": "6c895566",
   "metadata": {},
   "outputs": [
    {
     "name": "stdout",
     "output_type": "stream",
     "text": [
      "100\n",
      "1\n",
      "10000\n"
     ]
    }
   ],
   "source": [
    "print(100)\n",
    "print(1)\n",
    "print(10000)"
   ]
  },
  {
   "cell_type": "markdown",
   "id": "8df39a71",
   "metadata": {},
   "source": [
    "print('출력 서식' % 출력할 데이터) => 출력할 데이터가 1개일 경우"
   ]
  },
  {
   "cell_type": "code",
   "execution_count": 31,
   "id": "a2f6054f",
   "metadata": {},
   "outputs": [
    {
     "name": "stdout",
     "output_type": "stream",
     "text": [
      "  100\n",
      "    1\n",
      "2    \n",
      "00002\n",
      "10000\n"
     ]
    }
   ],
   "source": [
    "print('%5d' % 100)\n",
    "print('%5d' % 1)\n",
    "print('%-5d' % 2)\n",
    "# 파이썬은 1줄에 1문장 코딩을 원칙으로 하지만 부득이하게 1줄에 2문장 이상을 코딩해야 한다면 문장과 문장을 ';'으로 구분한다.\n",
    "print('%05d' % 2);print('%5d' % 10000)"
   ]
  },
  {
   "cell_type": "code",
   "execution_count": 37,
   "id": "0fd812a7",
   "metadata": {},
   "outputs": [
    {
     "name": "stdout",
     "output_type": "stream",
     "text": [
      "ㅣㅓㅏㄹㄴ어ㅏㄹㅇ너ㅏㄹㅇ나ㅣㄹ댜ㅐㅓㄷㅈ거ㅏㅣ파ㅣㅓ;ㄹ어ㅏㅣㄹ이ㅏ;ㄹ야ㅓㄷㅈ거ㅏㅣㅓㅏㅣ;피ㅓㅏㄹ아ㅣㅓ;ㅇ러ㅏㅣ래ㅔㄷ거ㅏㅣㄹ어ㅏㄹ이ㅏ;ㄹ아;ㅣㄹㅇ;ㅣㅏㄹ어ㅏㅣㄹㅇ;ㅣㅏㄹ이ㅏ;ㄹ아ㅣ;ㄹ알이ㅏ;라ㅓㅣ렁나\n",
      "ㅑㄱㄷ쟈ㅓㄹ에ㅐㅑ래ㅔ러ㅏㄹ어ㅏㄹ대ㅑㅔㄷㅈ갸ㅕㅐ러ㅏㅇㄴㄹ먇ㅈ개ㅑㅕㅔ더ㅑㅍ렏쟈ㅐㅔ대ㅑㅔ람ㄹ나ㅓ래ㅔㄷ재ㅑㅔ라ㅐㅔㄹ마ㅐㅔㄷ제ㅐㅓㅏ라ㅔㅐ래ㅔ레ㅐㅑㄷ저레ㅐㅊ페ㅐ에ㅐㅐ\n"
     ]
    }
   ],
   "source": [
    "# 문장이 길어서 1줄의 범위를 넘어갈 경우 () 안에서는 '+' 연산자로 연결해서 출력하면 1문장으로 인식한다.\n",
    "print('ㅣㅓㅏㄹㄴ어ㅏㄹㅇ너ㅏㄹㅇ나ㅣㄹ댜ㅐㅓㄷㅈ거ㅏㅣ파ㅣㅓ;ㄹ어ㅏㅣㄹ이ㅏ;ㄹ야ㅓㄷㅈ거ㅏㅣㅓㅏㅣ;피ㅓㅏㄹ아ㅣㅓ;' + \n",
    "      'ㅇ러ㅏㅣ래ㅔㄷ거ㅏㅣㄹ어ㅏㄹ이ㅏ;ㄹ아;ㅣㄹㅇ;ㅣㅏㄹ어ㅏㅣㄹㅇ;ㅣㅏㄹ이ㅏ;ㄹ아ㅣ;ㄹ알이ㅏ;라ㅓㅣ렁나')\n",
    "# 문장이 길어서 부득이하게 2줄 이상으로 코딩해야 한다면 끝에 '\\'를 입력하면 1문장으로 인식된다.\n",
    "# '\\' 뒤에 공백이 입력되면 에러가 발생된다.\n",
    "string = 'ㅑㄱㄷ쟈ㅓㄹ에ㅐㅑ래ㅔ러ㅏㄹ어ㅏㄹ대ㅑㅔㄷㅈ갸ㅕㅐ러ㅏㅇㄴㄹ먇ㅈ개ㅑㅕㅔ더ㅑㅍ렏쟈ㅐㅔ대ㅑㅔ람ㄹ나ㅓ래ㅔㄷ' \\\n",
    "    '재ㅑㅔ라ㅐㅔㄹ마ㅐㅔㄷ제ㅐㅓㅏ라ㅔㅐ래ㅔ레ㅐㅑㄷ저레ㅐㅊ페ㅐ에ㅐㅐ'\n",
    "print(string)"
   ]
  },
  {
   "cell_type": "code",
   "execution_count": 38,
   "id": "b4bb1cdb",
   "metadata": {},
   "outputs": [
    {
     "name": "stdout",
     "output_type": "stream",
     "text": [
      "abc\n",
      "a\n",
      "abcde\n"
     ]
    }
   ],
   "source": [
    "print('abc')\n",
    "print('a')\n",
    "print('abcde')"
   ]
  },
  {
   "cell_type": "code",
   "execution_count": 44,
   "id": "1afddcc7",
   "metadata": {},
   "outputs": [
    {
     "name": "stdout",
     "output_type": "stream",
     "text": [
      "  abc\n",
      "    a\n",
      "a    \n",
      "    a\n",
      "abcde\n"
     ]
    }
   ],
   "source": [
    "print('%5s' % 'abc')\n",
    "print('%5s' % 'a')\n",
    "print('%-5s' % 'a')\n",
    "print('%05s' % 'a') # C/C++은 0이 출력되고 JAVA는 에러가 발생되고 python은 무시한다.\n",
    "print('%5s' % 'abcde')"
   ]
  },
  {
   "cell_type": "code",
   "execution_count": 47,
   "id": "83dc66d5",
   "metadata": {},
   "outputs": [
    {
     "name": "stdout",
     "output_type": "stream",
     "text": [
      "123.450000\n",
      "123.45\n",
      "123.46\n",
      "123.40\n"
     ]
    }
   ],
   "source": [
    "print('%f' % 123.45)\n",
    "print('%6.2f' % 123.45)\n",
    "print('%6.2f' % 123.456) # 소수점 아래 숫자는 잘리는 자리에서 반올림해 출력한다. => 실제 데이터는 변하지 않는다.\n",
    "print('%6.2f' % 123.4) # 남는 자리는 0을 채워 출력한다."
   ]
  },
  {
   "cell_type": "markdown",
   "id": "27c6e1cf",
   "metadata": {},
   "source": [
    "print('출력 서식' % (출력할 데이터, ...)) => 출력할 데이터가 2개 이상일 경우  \n",
    "서석을 지정해 출력할 데이터가 2건 이상이라면 출력할 데이터를 반드시 ()로 묶어야 한다."
   ]
  },
  {
   "cell_type": "code",
   "execution_count": 61,
   "id": "8338b3f1",
   "metadata": {},
   "outputs": [
    {
     "name": "stdout",
     "output_type": "stream",
     "text": [
      "5 + 3 =  8\n",
      "5 - 3 =  2\n",
      "5 * 3 = 15\n",
      "1.6666666666666667\n",
      "5 / 3 =  1\n",
      "5 / 3 = 1.666667\n",
      "1\n",
      "5 // 3 =  1\n",
      "5 // 3 = 1.000000\n",
      "5 % 3 = 2\n",
      "2의 10승 = 1024\n",
      "루트 2 = 1.414214\n"
     ]
    }
   ],
   "source": [
    "print('%d + %d = %2d' % (5, 3, 5 + 3)) # 덧셈\n",
    "print('%d - %d = %2d' % (5, 3, 5 - 3)) # 뺄셈\n",
    "print('%d * %d = %2d' % (5, 3, 5 * 3)) # 곱셈\n",
    "# 파이썬은 '/' 연산자로 나눗셈을 하면 소수점 아래까지 계산된다.\n",
    "print(5 / 3) # 실수 나눗셈\n",
    "# '/' 연산의 결과는 실수지만 출력 서식이 %d(정수)로 지정되서 정수만 출력된다.\n",
    "print('%d / %d = %2d' % (5, 3, 5 / 3))\n",
    "print('%d / %d = %f' % (5, 3, 5 / 3))\n",
    "# 파이썬은 '//' 연산자로 나눗셈을 하면 몫만 계산된다.\n",
    "print(5 // 3) # 정수 나눗셈\n",
    "print('%d // %d = %2d' % (5, 3, 5 // 3))\n",
    "print('%d // %d = %f' % (5, 3, 5 // 3))\n",
    "# 출력 서식을 지정할 때 '%' 문자 자체를 출력하려면 2개를 연속해서 써야한다.\n",
    "print('%d %% %d = %d' % (5, 3, 5 % 3)) # 나머지\n",
    "print('%d의 %d승 = %2d' % (2, 10, 2 ** 10)) # 거듭제곱\n",
    "print('루트 %d = %f' % (2, 2 ** 0.5)) # 제곱근"
   ]
  },
  {
   "cell_type": "code",
   "execution_count": 63,
   "id": "85491071",
   "metadata": {},
   "outputs": [],
   "source": [
    "# 수학에 관련된 메소드를 사용하려면 math 모듈을 import 시킨다.\n",
    "import math"
   ]
  },
  {
   "cell_type": "code",
   "execution_count": 65,
   "id": "ecb03a6d",
   "metadata": {},
   "outputs": [
    {
     "name": "stdout",
     "output_type": "stream",
     "text": [
      "2의 10승 = 1024\n",
      "루트 2 = 1.414214\n"
     ]
    }
   ],
   "source": [
    "print('%d의 %d승 = %2d' % (2, 10, math.pow(2, 10)))\n",
    "print('루트 %d = %f' % (2, math.sqrt(2)))"
   ]
  },
  {
   "cell_type": "markdown",
   "id": "4f4099ee",
   "metadata": {},
   "source": [
    "산술 연산자 우선순위: () → ** → *, /, //, % → +, -"
   ]
  },
  {
   "cell_type": "markdown",
   "id": "eba34cd7",
   "metadata": {},
   "source": [
    "{}와 format() 메소드를 사용한 출력 서식 지정\n",
    "\n",
    "'%'로 서식을 지정할 때는 %d, %f, %s 위치에 데이터가 대입되어 출력되었지만 {}를 사용하면 {}에 데이터가 대입되서 출력된다."
   ]
  },
  {
   "cell_type": "code",
   "execution_count": 70,
   "id": "88e05bd6",
   "metadata": {},
   "outputs": [
    {
     "name": "stdout",
     "output_type": "stream",
     "text": [
      "5 + 3 = 8\n",
      "5 - 3 = 2\n",
      "5 * 3 = 15\n",
      "5 / 3 = 1.6666666666666667\n",
      "5 // 3 = 1\n",
      "5 % 3 = 2\n",
      "2의 10승 = 1024\n",
      "루트 2 = 1.4142135623730951\n"
     ]
    }
   ],
   "source": [
    "print('{} + {} = {}'.format(5, 3, 5 + 3))\n",
    "print('{} - {} = {}'.format(5, 3, 5 - 3))\n",
    "print('{} * {} = {}'.format(5, 3, 5 * 3))\n",
    "print('{} / {} = {}'.format(5, 3, 5 / 3))\n",
    "print('{} // {} = {}'.format(5, 3, 5 // 3))\n",
    "print('{} % {} = {}'.format(5, 3, 5 % 3))\n",
    "print('{}의 {}승 = {}'.format(2, 10, 2 ** 10))\n",
    "print('루트 {} = {}'.format(2, 2 ** 0.5))"
   ]
  },
  {
   "cell_type": "markdown",
   "id": "6f23498d",
   "metadata": {},
   "source": [
    "format() 메소드와 출력할 데이터의 인덱스를 사용해 출력하기 => 인덱스는 0부터 시작된다."
   ]
  },
  {
   "cell_type": "code",
   "execution_count": 76,
   "id": "a50e38da",
   "metadata": {},
   "outputs": [
    {
     "name": "stdout",
     "output_type": "stream",
     "text": [
      "홍길동 바보\n",
      "홍길동\n"
     ]
    }
   ],
   "source": [
    "print('{} {}'.format('홍길동', '바보'))\n",
    "# 인덱스를 지정하지 않은 상태에서 아래와 같이 {}가 출력할 데이터보다 많으면 에러가 발생된다.\n",
    "# print('{} {} {}'.format('홍길동', '바보')) # 에러\n",
    "# {}가 모자라면 에러는 발생되지 않고 출력되며 남는 데이터는 무시된다.\n",
    "print('{}'.format('홍길동', '바보'))"
   ]
  },
  {
   "cell_type": "code",
   "execution_count": 81,
   "id": "e487463b",
   "metadata": {},
   "outputs": [
    {
     "name": "stdout",
     "output_type": "stream",
     "text": [
      "홍길동 바보\n",
      "바보 홍길동\n",
      "홍길동 바보 홍길동\n"
     ]
    }
   ],
   "source": [
    "print('{0} {1}'.format('홍길동', '바보'))\n",
    "print('{1} {0}'.format('홍길동', '바보'))\n",
    "# 인덱스를 지정하지 않은 상태에서 아래와 같이 {}가 출력할 데이터보다 많으면 에러가 발생되었지만\n",
    "# {}에 출력할 데이터의 인덱스를 지정하면 {}와 데이터의 개수가 다르더라도 인덱스 범위만 벗어나지 않으면 정상 출력된다.\n",
    "print('{0} {1} {0}'.format('홍길동', '바보'))\n",
    "# {}에 지정한 인덱스가 인덱스의 범위를 벗어나면 에러가 발생된다.\n",
    "# print('{0} {1} {2}'.format('홍길동', '바보')) # 에러\n",
    "# {}에 인덱스를 부분적으로 지정하면 에러가 발생된다.\n",
    "# print('{0} {}'.format('홍길동', '바보')) # 에러"
   ]
  },
  {
   "cell_type": "markdown",
   "id": "0ebeaf39",
   "metadata": {},
   "source": [
    "{인덱스:출력서식} => 인덱스는 생략할 수 있지만 ':'는 생략하면 안되고 출력 서식에 '%'는 사용하지 않는다."
   ]
  },
  {
   "cell_type": "code",
   "execution_count": 91,
   "id": "392b1ea1",
   "metadata": {},
   "outputs": [
    {
     "name": "stdout",
     "output_type": "stream",
     "text": [
      "        멜론는(은)   15000원 입니다.\n",
      "멜론는(은) 15000원 입니다.\n",
      "멜론는(은) 15000원 입니다.\n",
      "멜론        는(은)   15000원 입니다.\n",
      "멜론        는(은)   15000원 입니다.\n",
      "멜론        는(은)  15,000원 입니다.\n",
      "멜론        는(은) 1500000.00%원 입니다.\n",
      "멜론        는(은) 1,500,000.00%원 입니다.\n"
     ]
    }
   ],
   "source": [
    "print('%10s는(은) %7d원 입니다.' % ('멜론', 15000))\n",
    "print('{}는(은) {}원 입니다.'.format('멜론', 15000))\n",
    "print('{0}는(은) {1}원 입니다.'.format('멜론', 15000))\n",
    "print('{0:10s}는(은) {1:7d}원 입니다.'.format('멜론', 15000))\n",
    "print('{:10s}는(은) {:7d}원 입니다.'.format('멜론', 15000))\n",
    "print('{:10s}는(은) {:7,d}원 입니다.'.format('멜론', 15000))\n",
    "print('{:10s}는(은) {:.2%}원 입니다.'.format('멜론', 15000))\n",
    "print('{:10s}는(은) {:,.2%}원 입니다.'.format('멜론', 15000))"
   ]
  },
  {
   "cell_type": "code",
   "execution_count": 94,
   "id": "3f033d00",
   "metadata": {},
   "outputs": [
    {
     "name": "stdout",
     "output_type": "stream",
     "text": [
      "멜론        는(은)   15000원 입니다.\n",
      "멜론        는(은)   15000원 입니다.\n",
      "    멜론    는(은)   15000원 입니다.\n",
      "        멜론는(은)   15000원 입니다.\n"
     ]
    }
   ],
   "source": [
    "# '<', '^', '>'를 사용해서 문자열 정렬 방식을 지정할 수 있다. => '<'가 기본값으로 사용된다.\n",
    "print('{:10s}는(은) {:7d}원 입니다.'.format('멜론', 15000))\n",
    "print('{:<10s}는(은) {:7d}원 입니다.'.format('멜론', 15000))\n",
    "print('{:^10s}는(은) {:7d}원 입니다.'.format('멜론', 15000))\n",
    "print('{:>10s}는(은) {:7d}원 입니다.'.format('멜론', 15000))"
   ]
  },
  {
   "cell_type": "code",
   "execution_count": 96,
   "id": "982d7c53",
   "metadata": {},
   "outputs": [
    {
     "name": "stdout",
     "output_type": "stream",
     "text": [
      "멜론________는(은)   15000원 입니다.\n",
      "____멜론____는(은)   15000원 입니다.\n",
      "________멜론는(은)   15000원 입니다.\n"
     ]
    }
   ],
   "source": [
    "# 출력시 남는 자리의 공백을 채울 채움 문자를 '<', '^', '>' 앞에 지정할 수 있다.\n",
    "# print('{:_10s}는(은) {:7d}원 입니다.'.format('멜론', 15000))\n",
    "print('{:_<10s}는(은) {:7d}원 입니다.'.format('멜론', 15000))\n",
    "print('{:_^10s}는(은) {:7d}원 입니다.'.format('멜론', 15000))\n",
    "print('{:_>10s}는(은) {:7d}원 입니다.'.format('멜론', 15000))"
   ]
  },
  {
   "cell_type": "code",
   "execution_count": 97,
   "id": "9c679bb1",
   "metadata": {},
   "outputs": [
    {
     "name": "stdout",
     "output_type": "stream",
     "text": [
      "홍길동님은 20살 입니다.\n"
     ]
    }
   ],
   "source": [
    "# f접두어를 사용한 출력 => 파이썬 3.6에서 등장\n",
    "name = '홍길동'\n",
    "age = 20\n",
    "print(f'{name}님은 {age}살 입니다.')"
   ]
  },
  {
   "cell_type": "code",
   "execution_count": null,
   "id": "541c40dc",
   "metadata": {},
   "outputs": [],
   "source": []
  },
  {
   "cell_type": "code",
   "execution_count": null,
   "id": "e8690408",
   "metadata": {},
   "outputs": [],
   "source": []
  }
 ],
 "metadata": {
  "kernelspec": {
   "display_name": "Python 3",
   "language": "python",
   "name": "python3"
  },
  "language_info": {
   "codemirror_mode": {
    "name": "ipython",
    "version": 3
   },
   "file_extension": ".py",
   "mimetype": "text/x-python",
   "name": "python",
   "nbconvert_exporter": "python",
   "pygments_lexer": "ipython3",
   "version": "3.6.8"
  }
 },
 "nbformat": 4,
 "nbformat_minor": 5
}
