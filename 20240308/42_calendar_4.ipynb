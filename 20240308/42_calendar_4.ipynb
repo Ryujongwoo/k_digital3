{
 "cells": [
  {
   "cell_type": "markdown",
   "id": "776f3080",
   "metadata": {},
   "source": [
    "import 할 때 모듈 이름만 쓰면 현재 작업중인 소스 프로그램이 위치한 경로에 위치한 모듈임을 의미한다.  \n",
    "import 할 모듈이 현재 작업중인 소스 프로그램이 위치한 폴더에 존재하지 않고 소스 프로그램이 위치한 폴더의 하위 폴더에 존재할 경우 모듈이 위치한 폴더 이름을 쓰고 '.'으로 구분해서 모듈 이름을 쓰면 된다."
   ]
  },
  {
   "cell_type": "code",
   "execution_count": 1,
   "id": "cdabde7c",
   "metadata": {},
   "outputs": [],
   "source": [
    "import lib.calModule as cm"
   ]
  },
  {
   "cell_type": "code",
   "execution_count": 2,
   "id": "ba7da057",
   "metadata": {},
   "outputs": [
    {
     "name": "stdout",
     "output_type": "stream",
     "text": [
      "달력을 출력할 년과 월을 입력하세요: 2024 3\n",
      "============================\n",
      "         2024년 3월\n",
      "============================\n",
      " 일  월  화  수  목  금  토 \n",
      "============================\n",
      "                      1   2 \n",
      "  3   4   5   6   7   8   9 \n",
      " 10  11  12  13  14  15  16 \n",
      " 17  18  19  20  21  22  23 \n",
      " 24  25  26  27  28  29  30 \n",
      " 31 \n",
      "============================\n"
     ]
    }
   ],
   "source": [
    "year, month = map(int, input('달력을 출력할 년과 월을 입력하세요: ').split())\n",
    "print('=' * 28)\n",
    "print('         {:4d}년{:2d}월'.format(year, month))\n",
    "print('=' * 28)\n",
    "print(' 일  월  화  수  목  금  토 ')\n",
    "print('=' * 28)\n",
    "for _ in range(cm.weekDay(year, month, 1)):\n",
    "    print('    ', end='')\n",
    "for i in range(1, cm.lastDay(year, month) + 1):\n",
    "    print(' {:2d} '.format(i), end='')\n",
    "    if cm.weekDay(year, month, i) == 6 and i != cm.lastDay(year, month):\n",
    "        print()\n",
    "print('\\n' + '=' * 28)"
   ]
  },
  {
   "cell_type": "code",
   "execution_count": null,
   "id": "d22d3c64",
   "metadata": {},
   "outputs": [],
   "source": []
  },
  {
   "cell_type": "code",
   "execution_count": null,
   "id": "b9056c83",
   "metadata": {},
   "outputs": [],
   "source": []
  }
 ],
 "metadata": {
  "kernelspec": {
   "display_name": "Python 3",
   "language": "python",
   "name": "python3"
  },
  "language_info": {
   "codemirror_mode": {
    "name": "ipython",
    "version": 3
   },
   "file_extension": ".py",
   "mimetype": "text/x-python",
   "name": "python",
   "nbconvert_exporter": "python",
   "pygments_lexer": "ipython3",
   "version": "3.6.8"
  }
 },
 "nbformat": 4,
 "nbformat_minor": 5
}
