{
 "cells": [
  {
   "cell_type": "markdown",
   "id": "776f3080",
   "metadata": {},
   "source": [
    "모듈에서 특정 기능만 import 해서 사용하기\n",
    "\n",
    "모듈의 특정 기능만 import 해서 사용하려면 아래와 같이 import 시키면 된다.  \n",
    "from 모듈이름 import 함수이름 => from 다음에 지정한 모듈에서 import 다음에 지정한 함수만 import 시킨다.  \n",
    "from을 사용해서 import 시키는 경우 import 되는 함수 이름만 사용하면 된다."
   ]
  },
  {
   "cell_type": "code",
   "execution_count": 1,
   "id": "cdabde7c",
   "metadata": {},
   "outputs": [],
   "source": [
    "# import calendarModule as cm # calendarModule 모듈의 모든 함수가 import 된다.\n",
    "# from calendarModule import weekDay # calendarModule 모듈의 weekDay 함수가 import 된다.\n",
    "# from calendarModule import lastDay # calendarModule 모듈의 lastDay 함수가 import 된다.\n",
    "\n",
    "# weekDay, lastDay 함수는 모두 calendarModule의 함수이므로 아래와 같이 줄여서 사용할 수 있다.\n",
    "# from calendarModule import weekDay, lastDay\n",
    "\n",
    "# 모듈의 모든 함수를 모듈 이름을 사용하지 않고 쓰고 싶으면 아래와 같이 import 한다.\n",
    "from calendarModule import *"
   ]
  },
  {
   "cell_type": "code",
   "execution_count": 2,
   "id": "ba7da057",
   "metadata": {},
   "outputs": [
    {
     "name": "stdout",
     "output_type": "stream",
     "text": [
      "달력을 출력할 년과 월을 입력하세요: 2024 3\n",
      "============================\n",
      "         2024년 3월\n",
      "============================\n",
      " 일  월  화  수  목  금  토 \n",
      "============================\n",
      "                      1   2 \n",
      "  3   4   5   6   7   8   9 \n",
      " 10  11  12  13  14  15  16 \n",
      " 17  18  19  20  21  22  23 \n",
      " 24  25  26  27  28  29  30 \n",
      " 31 \n",
      "============================\n"
     ]
    }
   ],
   "source": [
    "year, month = map(int, input('달력을 출력할 년과 월을 입력하세요: ').split())\n",
    "print('=' * 28)\n",
    "print('         {:4d}년{:2d}월'.format(year, month))\n",
    "print('=' * 28)\n",
    "print(' 일  월  화  수  목  금  토 ')\n",
    "print('=' * 28)\n",
    "for _ in range(weekDay(year, month, 1)):\n",
    "    print('    ', end='')\n",
    "for i in range(1, lastDay(year, month) + 1):\n",
    "    print(' {:2d} '.format(i), end='')\n",
    "    if weekDay(year, month, i) == 6 and i != lastDay(year, month):\n",
    "        print()\n",
    "print('\\n' + '=' * 28)"
   ]
  },
  {
   "cell_type": "code",
   "execution_count": null,
   "id": "d22d3c64",
   "metadata": {},
   "outputs": [],
   "source": []
  },
  {
   "cell_type": "code",
   "execution_count": null,
   "id": "b9056c83",
   "metadata": {},
   "outputs": [],
   "source": []
  }
 ],
 "metadata": {
  "kernelspec": {
   "display_name": "Python 3",
   "language": "python",
   "name": "python3"
  },
  "language_info": {
   "codemirror_mode": {
    "name": "ipython",
    "version": 3
   },
   "file_extension": ".py",
   "mimetype": "text/x-python",
   "name": "python",
   "nbconvert_exporter": "python",
   "pygments_lexer": "ipython3",
   "version": "3.6.8"
  }
 },
 "nbformat": 4,
 "nbformat_minor": 5
}
