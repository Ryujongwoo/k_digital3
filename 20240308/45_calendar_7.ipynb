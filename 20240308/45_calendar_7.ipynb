{
 "cells": [
  {
   "cell_type": "markdown",
   "id": "776f3080",
   "metadata": {},
   "source": [
    "키보드로 1을 입력하면 년, 월을 입력받아 입력받는 년, 월에 해당되는 달력을 출력하고 2를 입력하면 컴퓨터 시스템의 년, 월에 해당되는 달력을 출력하는 프로그램"
   ]
  },
  {
   "cell_type": "code",
   "execution_count": 1,
   "id": "cdabde7c",
   "metadata": {},
   "outputs": [],
   "source": [
    "from calendarModule import weekDay as w\n",
    "from calendarModule import lastDay as l\n",
    "from datetime import datetime as dt"
   ]
  },
  {
   "cell_type": "code",
   "execution_count": 5,
   "id": "ba7da057",
   "metadata": {},
   "outputs": [
    {
     "name": "stdout",
     "output_type": "stream",
     "text": [
      "1 => 특정달, 2 => 이번달: 2\n",
      "============================\n",
      "         2024년 3월\n",
      "============================\n",
      " 일  월  화  수  목  금  토 \n",
      "============================\n",
      "                      1   2 \n",
      "  3   4   5   6   7   8   9 \n",
      " 10  11  12  13  14  15  16 \n",
      " 17  18  19  20  21  22  23 \n",
      " 24  25  26  27  28  29  30 \n",
      " 31 \n",
      "============================\n"
     ]
    }
   ],
   "source": [
    "menu = input('1 => 특정달, 2 => 이번달: ')\n",
    "if menu == '1':\n",
    "    year, month = map(int, input('달력을 출력할 년과 월을 입력하세요: ').split())\n",
    "else:\n",
    "    now = dt.now()\n",
    "    year = now.year\n",
    "    month = now.month\n",
    "    \n",
    "print('=' * 28)\n",
    "print('         {:4d}년{:2d}월'.format(year, month))\n",
    "print('=' * 28)\n",
    "print(' 일  월  화  수  목  금  토 ')\n",
    "print('=' * 28)\n",
    "for _ in range(w(year, month, 1)):\n",
    "    print('    ', end='')\n",
    "for i in range(1, l(year, month) + 1):\n",
    "    print(' {:2d} '.format(i), end='')\n",
    "    if w(year, month, i) == 6 and i != l(year, month):\n",
    "        print()\n",
    "print('\\n' + '=' * 28)"
   ]
  },
  {
   "cell_type": "code",
   "execution_count": null,
   "id": "d22d3c64",
   "metadata": {},
   "outputs": [],
   "source": []
  },
  {
   "cell_type": "code",
   "execution_count": null,
   "id": "b9056c83",
   "metadata": {},
   "outputs": [],
   "source": []
  }
 ],
 "metadata": {
  "kernelspec": {
   "display_name": "Python 3",
   "language": "python",
   "name": "python3"
  },
  "language_info": {
   "codemirror_mode": {
    "name": "ipython",
    "version": 3
   },
   "file_extension": ".py",
   "mimetype": "text/x-python",
   "name": "python",
   "nbconvert_exporter": "python",
   "pygments_lexer": "ipython3",
   "version": "3.6.8"
  }
 },
 "nbformat": 4,
 "nbformat_minor": 5
}
