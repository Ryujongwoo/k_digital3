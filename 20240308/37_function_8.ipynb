{
 "cells": [
  {
   "cell_type": "markdown",
   "id": "940245b3",
   "metadata": {},
   "source": [
    "함수 내부의 변수와 함수 외부의 변수는 이름이 같더라도 독립된 기억공간을 가진다."
   ]
  },
  {
   "cell_type": "code",
   "execution_count": 1,
   "id": "fc60c123",
   "metadata": {},
   "outputs": [],
   "source": [
    "def func9(var1):\n",
    "    var1 += 1\n",
    "    print(f'func9() 함수 내부의 변수 var1: {var1}')"
   ]
  },
  {
   "cell_type": "code",
   "execution_count": 2,
   "id": "339f9895",
   "metadata": {},
   "outputs": [
    {
     "name": "stdout",
     "output_type": "stream",
     "text": [
      "func9() 함수 내부의 변수 var1: 2\n",
      "func9() 함수 외부의 변수 var1: 1\n"
     ]
    }
   ],
   "source": [
    "var1 = 1\n",
    "func9(var1)\n",
    "print(f'func9() 함수 외부의 변수 var1: {var1}')"
   ]
  },
  {
   "cell_type": "markdown",
   "id": "54090bca",
   "metadata": {},
   "source": [
    "global 예약어를 사용하면 함수 내부에서 함수 외부의 변수를 사용할 수 있다."
   ]
  },
  {
   "cell_type": "code",
   "execution_count": 5,
   "id": "b5d82023",
   "metadata": {},
   "outputs": [],
   "source": [
    "def func10():\n",
    "    # C/C++ 언어의 call by reference(참조에 의한 호출) 방식처럼 사용된다. => 부작용(side effect) 현상이 \n",
    "    # 발생될 수 있으니 주의해서 사용해야 한다.\n",
    "    # global로 사용할 변수는 함수의 인수로 선언하면 안된다.\n",
    "    # global로 사용할 변수를 함수의 인수로 선언하면 함수 내부에서 독립적인 메모리를 할당받는 변수가 된다.\n",
    "    # global로 선언된 변수는 함수 내부에서 값을 변경시키면 함수 외부의 값도 같이 변경된다.\n",
    "    global var2 # 함수 외부에서 선언한 var2라는 변수를 함수 내부에서 사용하겠다고 선언한다.\n",
    "    var2 += 1\n",
    "    print(f'func10() 함수 내부의 변수 var2: {var2}')"
   ]
  },
  {
   "cell_type": "code",
   "execution_count": 6,
   "id": "9a231d25",
   "metadata": {},
   "outputs": [
    {
     "name": "stdout",
     "output_type": "stream",
     "text": [
      "func10() 함수 내부의 변수 var2: 1000\n",
      "func10() 함수 외부의 변수 var2: 1000\n"
     ]
    }
   ],
   "source": [
    "var2 = 999\n",
    "func10()\n",
    "print(f'func10() 함수 외부의 변수 var2: {var2}')"
   ]
  },
  {
   "cell_type": "code",
   "execution_count": null,
   "id": "fefff1da",
   "metadata": {},
   "outputs": [],
   "source": []
  },
  {
   "cell_type": "code",
   "execution_count": null,
   "id": "cdf40ebf",
   "metadata": {},
   "outputs": [],
   "source": []
  }
 ],
 "metadata": {
  "kernelspec": {
   "display_name": "Python 3",
   "language": "python",
   "name": "python3"
  },
  "language_info": {
   "codemirror_mode": {
    "name": "ipython",
    "version": 3
   },
   "file_extension": ".py",
   "mimetype": "text/x-python",
   "name": "python",
   "nbconvert_exporter": "python",
   "pygments_lexer": "ipython3",
   "version": "3.6.8"
  }
 },
 "nbformat": 4,
 "nbformat_minor": 5
}
