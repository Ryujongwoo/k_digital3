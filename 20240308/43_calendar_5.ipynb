{
 "cells": [
  {
   "cell_type": "markdown",
   "id": "776f3080",
   "metadata": {},
   "source": [
    "같은 모듈을 여러 프로젝트에서 사용해야 한다면 각각의 프로젝트에 같은 모듈을 복사해서 사용할 경우 유지보수 시 문제점이 발생될 수 있다.  \n",
    "import 할 모듈이 현재 사용중인 컴퓨터 어딘가에 있을 경우 sys 모듈을 inport 하고 sys.path의 append() 메소드로 모듈이 위치한 기본 경로를 추가해서 사용한다."
   ]
  },
  {
   "cell_type": "code",
   "execution_count": 2,
   "id": "54630e40",
   "metadata": {},
   "outputs": [],
   "source": [
    "import sys\n",
    "sys.path.append('C:\\myModule') # '\\' 때문에 에러가 발생되면 '\\'를 '\\\\'나 '/'로 수정한다."
   ]
  },
  {
   "cell_type": "code",
   "execution_count": 3,
   "id": "cdabde7c",
   "metadata": {},
   "outputs": [],
   "source": [
    "import calM as cm"
   ]
  },
  {
   "cell_type": "code",
   "execution_count": 4,
   "id": "ba7da057",
   "metadata": {},
   "outputs": [
    {
     "name": "stdout",
     "output_type": "stream",
     "text": [
      "달력을 출력할 년과 월을 입력하세요: 2024 3\n",
      "============================\n",
      "         2024년 3월\n",
      "============================\n",
      " 일  월  화  수  목  금  토 \n",
      "============================\n",
      "                      1   2 \n",
      "  3   4   5   6   7   8   9 \n",
      " 10  11  12  13  14  15  16 \n",
      " 17  18  19  20  21  22  23 \n",
      " 24  25  26  27  28  29  30 \n",
      " 31 \n",
      "============================\n"
     ]
    }
   ],
   "source": [
    "year, month = map(int, input('달력을 출력할 년과 월을 입력하세요: ').split())\n",
    "print('=' * 28)\n",
    "print('         {:4d}년{:2d}월'.format(year, month))\n",
    "print('=' * 28)\n",
    "print(' 일  월  화  수  목  금  토 ')\n",
    "print('=' * 28)\n",
    "for _ in range(cm.weekDay(year, month, 1)):\n",
    "    print('    ', end='')\n",
    "for i in range(1, cm.lastDay(year, month) + 1):\n",
    "    print(' {:2d} '.format(i), end='')\n",
    "    if cm.weekDay(year, month, i) == 6 and i != cm.lastDay(year, month):\n",
    "        print()\n",
    "print('\\n' + '=' * 28)"
   ]
  },
  {
   "cell_type": "code",
   "execution_count": null,
   "id": "d22d3c64",
   "metadata": {},
   "outputs": [],
   "source": []
  },
  {
   "cell_type": "code",
   "execution_count": null,
   "id": "b9056c83",
   "metadata": {},
   "outputs": [],
   "source": []
  }
 ],
 "metadata": {
  "kernelspec": {
   "display_name": "Python 3",
   "language": "python",
   "name": "python3"
  },
  "language_info": {
   "codemirror_mode": {
    "name": "ipython",
    "version": 3
   },
   "file_extension": ".py",
   "mimetype": "text/x-python",
   "name": "python",
   "nbconvert_exporter": "python",
   "pygments_lexer": "ipython3",
   "version": "3.6.8"
  }
 },
 "nbformat": 4,
 "nbformat_minor": 5
}
