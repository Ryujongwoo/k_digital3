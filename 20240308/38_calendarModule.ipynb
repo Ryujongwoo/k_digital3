{
 "cells": [
  {
   "cell_type": "markdown",
   "id": "64a796dc",
   "metadata": {},
   "source": [
    "인수로 년도를 넘겨받아 윤년, 평년을 판단해 윤년이면 True, 평년이면 False를 리턴하는 isLeapYear(year) 함수를 만든다."
   ]
  },
  {
   "cell_type": "code",
   "execution_count": 1,
   "id": "ed0611e5",
   "metadata": {},
   "outputs": [],
   "source": [
    "def isLeapYear(year):\n",
    "    # 년도가 4로 나눠 떨어지고 100으로 나눠 떨어지지 않거나 400으로 나눠 떨어지면 윤년, 그렇치 않으면 평년\n",
    "    return year % 4 == 0 and year % 100 != 0 or year % 400 == 0"
   ]
  },
  {
   "cell_type": "markdown",
   "id": "281b49c0",
   "metadata": {},
   "source": [
    "인수로 년, 월을 넘겨받아 그 달의 마지막 날짜를 리턴하는 lastDay(year, month) 함수를 만든다."
   ]
  },
  {
   "cell_type": "code",
   "execution_count": 2,
   "id": "089979bd",
   "metadata": {},
   "outputs": [],
   "source": [
    "def lastDay(year, month):\n",
    "    # 각 달의 마지막 날짜를 기억하는 리스트를 만든다.\n",
    "    m = [31, 0, 31, 30, 31, 30, 31, 31, 30, 31, 30, 31]\n",
    "    # 인수로 넘겨받은 년도에 해당되는 2월의 마지막 날짜를 확정한다.\n",
    "    m[1] = 29 if isLeapYear(year) else 28\n",
    "    # 마지막 날짜를 리턴시킨다.\n",
    "    return m[month - 1]"
   ]
  },
  {
   "cell_type": "markdown",
   "id": "44965ab2",
   "metadata": {},
   "source": [
    "인수로 년, 월, 일을 넘겨받아 1년 1월 1일 부터 지나온 날짜의 합계를 리턴하는 totalDay(year, month, day) 함수를 만든다."
   ]
  },
  {
   "cell_type": "code",
   "execution_count": 3,
   "id": "1b5602ce",
   "metadata": {},
   "outputs": [],
   "source": [
    "def totalDay(year, month, day):\n",
    "    # 인수로 넘어온 년도가 다 지나가지 않았으므로 1년 1월 1일 부터 전년도 12월 31일 까지 지난 날짜를 계산한다.\n",
    "    total = (year - 1) * 365 + (year - 1) // 4 - (year - 1) // 100 + (year - 1) // 400\n",
    "    # 전년도 12월 31일 까지 지난 날짜에 전달 까지 지난 날짜를 더한다.\n",
    "    for i in range(1, month):\n",
    "        total += lastDay(year, i)\n",
    "    # 전달 까지 지난 날짜에 일을 더해서 리턴시킨다.\n",
    "    return total + day"
   ]
  },
  {
   "cell_type": "markdown",
   "id": "b17aa43b",
   "metadata": {},
   "source": [
    "인수로 년, 월, 일을 넘겨받아 요일을 계산해서 숫자로 리턴하는 weekDay(year, month, day) 함수를 만든다.  \n",
    "일요일(0), 월요일(1), 화요일(2), 수요일(3), 목요일(4), 금요일(5), 토요일(6)"
   ]
  },
  {
   "cell_type": "code",
   "execution_count": 4,
   "id": "ab91f1c4",
   "metadata": {},
   "outputs": [],
   "source": [
    "def weekDay(year, month, day):\n",
    "    return totalDay(year, month, day) % 7"
   ]
  },
  {
   "cell_type": "markdown",
   "id": "24b8731e",
   "metadata": {},
   "source": [
    "테스트"
   ]
  },
  {
   "cell_type": "code",
   "execution_count": 5,
   "id": "564cc155",
   "metadata": {},
   "outputs": [
    {
     "name": "stdout",
     "output_type": "stream",
     "text": [
      "True\n",
      "29\n",
      "738953\n",
      "5\n"
     ]
    }
   ],
   "source": [
    "# 파이썬 파일 1개만 사용할 때는 if __name__ == '__main__':를 사용하나 사용하지 않으나 아무런 차이가 없다.\n",
    "# 현재 파이썬 파일이 다른 파이썬 파일에서 모듈로 import 된다면 if __name__ == '__main__': 블록 내부의\n",
    "# 코드는 실행되지 않는다.\n",
    "if __name__ == '__main__':\n",
    "    print(isLeapYear(2024))\n",
    "    print(lastDay(2024, 2))\n",
    "    print(totalDay(2024, 3, 8))\n",
    "    print(weekDay(2024, 3, 8))"
   ]
  },
  {
   "cell_type": "code",
   "execution_count": null,
   "id": "3ffc5547",
   "metadata": {},
   "outputs": [],
   "source": []
  },
  {
   "cell_type": "code",
   "execution_count": null,
   "id": "95267fac",
   "metadata": {},
   "outputs": [],
   "source": []
  }
 ],
 "metadata": {
  "kernelspec": {
   "display_name": "Python 3",
   "language": "python",
   "name": "python3"
  },
  "language_info": {
   "codemirror_mode": {
    "name": "ipython",
    "version": 3
   },
   "file_extension": ".py",
   "mimetype": "text/x-python",
   "name": "python",
   "nbconvert_exporter": "python",
   "pygments_lexer": "ipython3",
   "version": "3.6.8"
  }
 },
 "nbformat": 4,
 "nbformat_minor": 5
}
