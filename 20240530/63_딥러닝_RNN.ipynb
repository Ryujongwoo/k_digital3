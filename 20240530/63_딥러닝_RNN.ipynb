{
 "cells": [
  {
   "cell_type": "code",
   "execution_count": 1,
   "id": "b25cba28",
   "metadata": {},
   "outputs": [],
   "source": [
    "import warnings\n",
    "warnings.filterwarnings(action='ignore')\n",
    "%config Completer.use_jedi = False\n",
    "import numpy as np\n",
    "import pandas as pd\n",
    "import matplotlib.pyplot as plt\n",
    "import matplotlib as mpl\n",
    "mpl.rcParams['axes.unicode_minus'] = False\n",
    "plt.rcParams['font.family'] = 'NanumGothicCoding'\n",
    "plt.rcParams['font.size'] = 10\n",
    "import seaborn as sns\n",
    "\n",
    "import tensorflow as tf\n",
    "from tensorflow.keras import datasets\n",
    "from tensorflow.keras.models import Sequential\n",
    "from tensorflow.keras.layers import Dense\n",
    "# tensorflow에서 순환 신경망(Recurrent Neural Network, RNN)을 사용하기 위해 추가한다.\n",
    "from tensorflow.keras.layers import Conv1D # 신경망에 추가할 합성곱 레이어를 생성하기 위해 import 한다.\n",
    "from tensorflow.keras.layers import MaxPool1D # 신경망에 추가할 맥스 풀링 레이어를 생성하기 위해 import 한다.\n",
    "from tensorflow.keras.layers import Dropout # 신경망에 추가할 드롭다운 레이어를 생성하기 위해 import 한다.\n",
    "# 임베딩이랑 사람이 쓰는 자연어를 기계가 이해할 수 있는 숫자의 나열인 벡터로 바꾼 결과 혹은 과정을 의미한다.\n",
    "# 임베딩의 가장 간단한 형태는 단어의 빈도를 그대로 벡터로 사용하는 것이다.\n",
    "from tensorflow.keras.layers import Embedding # 신경망에 추가할 임베딩 레이어를 생성하기 위해 import 한다.\n",
    "from tensorflow.keras.layers import LSTM # 신경망에 추가할 LSTM 레이어를 생성하기 위해 import 한다.\n",
    "# RNN은 항상 같은 길이의 시퀀스를 받아야 하기 때문에 제각기 다른 피쳐 데이터의 길이를 일치시켜야 한다.\n",
    "from tensorflow.keras.preprocessing import sequence # 피쳐 데이터 값의 길이를 일치시키기 위해 import 한다."
   ]
  },
  {
   "cell_type": "markdown",
   "id": "5ff13c1c",
   "metadata": {},
   "source": [
    "순환 신경망(Recurrent Neural Network, RNN)\n",
    "\n",
    "순환 신경망은 시퀀스(sequence) 데이터를 사용한다. 시퀀스 데이터는 다른 말로 시계열(time serise) 데이터라고도 말하며, 시점에 따라서 데이터가 달라지는 것을 의미한다. 즉, 특정 시점에서 데이터를 한 번에 수집하는 것이 아닌 시간의 흐름에 따라 데이터를 점차 수집하는 것을 의미한다. 전체 데이터 셋을 구성하는 각 데이터 포인트의 수집 시점이 다르다.\n",
    "\n",
    "지금까지 다룬 신경망은 입력 데이터를 사용한 후 그 결과가 다시 입력층으로 돌아가지 않았다. 즉, 한 번 출력된 결과를 다시 사용하지 않았다. 이를 피드 포워드(Feed Forward) 신경망이라 한다. 반면에 순환 신경망은 출력된 결과가 다음 시점에서 사용된다. 즉, 출력 결과를 다음 시점까지 기억했다가 사용하는 방식이다.\n",
    "\n",
    "<img src=\"./rnn_1.png\" width=\"700\"/>"
   ]
  },
  {
   "cell_type": "markdown",
   "id": "ab57fc6a",
   "metadata": {},
   "source": [
    "LSTM(Long Short Term Memory)\n",
    "\n",
    "순환 신경망은 은닉층을 거친 결과값을 재사용하는 특징이 있다. 그러나 그로 인해서 기울기 소멸 문제(Vanishing Gradient Problem)나 기울기 폭주 문제(Exploding Gradient Problem)가 발생할 수 있다. 기울기 소멸 문제는 학습이 진행되는 과정에서 기울기가 점점 줄어들어 사라지는 현상을 의미하고 기울기 폭주는 학습 과정에서 기울기가 점점 커져서 폭주하는 현상을 말한다.\n",
    "\n",
    "LSTM은 기울기 소멸이나 폭주 문제를 해결하기 위해 만든 방법이다. LSTM에서는 결과값이 다음 시점으로 넘어갈 때 결과값을 넘길지 말지 결정하는 단계가 추가된다.\n",
    "\n",
    "<img src=\"./rnn_2.png\" width=\"900\"/>\n",
    "\n",
    "순환 신경망을 이용해서 영화 리뷰 감성 분석 모델을 생성해본다."
   ]
  },
  {
   "cell_type": "code",
   "execution_count": 2,
   "id": "da4bd27b",
   "metadata": {},
   "outputs": [],
   "source": [
    "# 일관된 결과값이 나오도록 numpy와 tensorflow의 seed를 설정한다.\n",
    "np.random.seed(0)\n",
    "tf.random.set_seed(0)"
   ]
  },
  {
   "cell_type": "markdown",
   "id": "8e4f30a2",
   "metadata": {},
   "source": [
    "순환 신경망에 사용할 데이터 준비\n",
    "\n",
    "IMDB Moview Review Sentiment Analysis  \n",
    "감성 분류를 연습하기 위해 자주 사용하는 영어 데이터로 영화 사이트 IMDB 리뷰 데이터가 있다.  \n",
    "이 데이터는 리뷰에 대한 텍스트와 리뷰가 긍정적인 경우 1을 부정적인 경우 0으로 표시한 레이블 데이터로 스탠포드 대학교에서 2011년에 낸 논문에서 이 데이터를 소개하였으며, 당시 논문에서는 이 데이터를 훈련 데이터와 테스트 데이터를 50:50 비율로 분할하여 88.89%의 정확도를 얻었다고 소개하고 있다."
   ]
  },
  {
   "cell_type": "code",
   "execution_count": 3,
   "id": "b3432320",
   "metadata": {},
   "outputs": [
    {
     "name": "stdout",
     "output_type": "stream",
     "text": [
      "<class 'numpy.ndarray'> (25000,)\n",
      "<class 'numpy.ndarray'> (25000,)\n",
      "<class 'numpy.ndarray'> (25000,)\n",
      "<class 'numpy.ndarray'> (25000,)\n"
     ]
    }
   ],
   "source": [
    "# imdb 영화 리뷰 데이터는 학습 데이터와 테스트 데이터가 튜플로 구분되서 저장되어 있다.\n",
    "# imdb.load_data() 메소드는 (학습 피쳐 데이터, 학습 레이블 데이터)와 (테스트 피쳐 데이터, 테스트 레이블 데이터)를\n",
    "# 튜플 형태로 묶어서 리턴한다.\n",
    "# imdb 영화 리뷰 데이터 셋을 학습 데이터와 테스트 데이터로 저장한다.\n",
    "# num_words 속성을 사용해서 데이터에서 등장 빈도 순뤼로 몇 등까지의 단어를 사용할 것인지 지정할 수 있다.\n",
    "# 예를들어 10000을 넣으면 등장 빈도 순위가 1위에서 10000 위에 해당되는 단어만 사용하게 된다.\n",
    "(x_train, y_train), (x_test, y_test) = datasets.imdb.load_data(num_words=2000)\n",
    "\n",
    "# 오리지널 데이터 확인\n",
    "# 학습 피쳐 데이터, 학습 레이블 데이터, 테스트 피쳐 데이터, 테스트 레이블 데이터 모두 25,000개의 벡터 데이터로\n",
    "# 구성되어 있음을 확인할 수 있다.\n",
    "print(type(x_train), x_train.shape)\n",
    "print(type(y_train), y_train.shape)\n",
    "print(type(x_test), x_test.shape)\n",
    "print(type(y_test), y_test.shape)"
   ]
  },
  {
   "cell_type": "code",
   "execution_count": 4,
   "id": "ad1ff4c4",
   "metadata": {},
   "outputs": [
    {
     "name": "stdout",
     "output_type": "stream",
     "text": [
      "(20000,) (5000,) (20000,) (5000,)\n"
     ]
    }
   ],
   "source": [
    "# 학습 데이터를 학습 데이터 셋과 검증 데이터 셋으로 분리\n",
    "# 25,000개의 학습 데이터 중에서 뒤쪽 5,000개의 데이터를 검증 데이터로 따로 저장한다.\n",
    "x_valid = x_train[20000:] # 학습 피쳐 데이터 25,000개 중에서 검증에 사용할 데이터 5,000개\n",
    "x_train = x_train[:20000] # 학습 피쳐 데이터 25,000개 중에서 학습에 사용할 데이터 20,000개\n",
    "y_valid = y_train[20000:] # 학습 레이블 데이터 25,000개 중에서 검증에 사용할 데이터 5,000개\n",
    "y_train = y_train[:20000] # 학습 레이블 데이터 25,000개 중에서 학습에 사용할 데이터 20,000개\n",
    "print(x_train.shape, x_valid.shape, y_train.shape, y_valid.shape)"
   ]
  },
  {
   "cell_type": "code",
   "execution_count": 5,
   "id": "216021dd",
   "metadata": {},
   "outputs": [
    {
     "name": "stdout",
     "output_type": "stream",
     "text": [
      "[1, 14, 22, 16, 43, 530, 973, 1622, 1385, 65, 458, 2, 66, 2, 4, 173, 36, 256, 5, 25, 100, 43, 838, 112, 50, 670, 2, 9, 35, 480, 284, 5, 150, 4, 172, 112, 167, 2, 336, 385, 39, 4, 172, 2, 1111, 17, 546, 38, 13, 447, 4, 192, 50, 16, 6, 147, 2, 19, 14, 22, 4, 1920, 2, 469, 4, 22, 71, 87, 12, 16, 43, 530, 38, 76, 15, 13, 1247, 4, 22, 17, 515, 17, 12, 16, 626, 18, 2, 5, 62, 386, 12, 8, 316, 8, 106, 5, 4, 2, 2, 16, 480, 66, 2, 33, 4, 130, 12, 16, 38, 619, 5, 25, 124, 51, 36, 135, 48, 25, 1415, 33, 6, 22, 12, 215, 28, 77, 52, 5, 14, 407, 16, 82, 2, 8, 4, 107, 117, 2, 15, 256, 4, 2, 7, 2, 5, 723, 36, 71, 43, 530, 476, 26, 400, 317, 46, 7, 4, 2, 1029, 13, 104, 88, 4, 381, 15, 297, 98, 32, 2, 56, 26, 141, 6, 194, 2, 18, 4, 226, 22, 21, 134, 476, 26, 480, 5, 144, 30, 2, 18, 51, 36, 28, 224, 92, 25, 104, 4, 226, 65, 16, 38, 1334, 88, 12, 16, 283, 5, 16, 2, 113, 103, 32, 15, 16, 2, 19, 178, 32]\n",
      "1\n"
     ]
    }
   ],
   "source": [
    "# 데이터 형태 확인\n",
    "# 학습 피쳐 데이터 값을 확인해보면 숫자로 이루어진 리스트라는 것을 알 수 있다.\n",
    "# 이는 오리지널 데이터에 이미 단어를 숫자 매핑을 해놓아 영어 단어가 해당되는 숫자로 변환된 것임을 알 수 있다.\n",
    "print(x_train[0])\n",
    "print(y_train[0])"
   ]
  },
  {
   "cell_type": "code",
   "execution_count": 6,
   "id": "062f1a0f",
   "metadata": {
    "scrolled": true
   },
   "outputs": [
    {
     "name": "stdout",
     "output_type": "stream",
     "text": [
      "218\n",
      "189\n",
      "238\n"
     ]
    }
   ],
   "source": [
    "# 피쳐 데이터 크기 확인\n",
    "# 학습 피쳐 데이터 두 개의 값을 확인해 본 결과 문장을 구성하는 단어의 개수가 다르다는 것을 알 수 있다.\n",
    "print(len(x_train[0]))\n",
    "print(len(x_train[1]))\n",
    "total = 0\n",
    "for i in range(len(x_train)):\n",
    "    total += len(x_train[i])\n",
    "print(total // len(x_train))"
   ]
  },
  {
   "cell_type": "code",
   "execution_count": 7,
   "id": "b9b5e230",
   "metadata": {},
   "outputs": [
    {
     "name": "stdout",
     "output_type": "stream",
     "text": [
      "(20000, 200) (5000, 200) (25000, 200)\n"
     ]
    }
   ],
   "source": [
    "# 피쳐 데이터 변형\n",
    "# RNN은 항상 같은 길이의 시퀀스를 입력으로 받아야 하므로 문장의 구성하는 단어의 개수를 같은 크기로 맞춰야 한다.\n",
    "# pad_sequences() 메소드로 피쳐 데이터를 넘기고 maxlen 속성으로 단어의 개수를 넘겨서 같은 크기로 맞춘다.\n",
    "# maxlen 속성을 생략하면 가장 긴 길이가 기본값으로 사용되고 maxlen 속성을 지정하면 남는 부분은 0으로 채우고\n",
    "# 넘치는 데이터는 삭제된다.\n",
    "x_train = sequence.pad_sequences(x_train, maxlen=200)\n",
    "x_valid = sequence.pad_sequences(x_valid, maxlen=200)\n",
    "x_test = sequence.pad_sequences(x_test, maxlen=200)\n",
    "print(x_train.shape, x_valid.shape, x_test.shape)"
   ]
  },
  {
   "cell_type": "code",
   "execution_count": 8,
   "id": "8390ca0d",
   "metadata": {},
   "outputs": [
    {
     "name": "stdout",
     "output_type": "stream",
     "text": [
      "{0, 1} {0, 1}\n"
     ]
    }
   ],
   "source": [
    "# 레이블 종류 확인\n",
    "# 레이블의 종류를 확인함으로써 분류 문제인지 아니면 회귀 문제인지 파악할 수 있고, \n",
    "# 분류 문제라면 몇 가지 클래스로 구분되는 지 알 수 있다.\n",
    "print(set(y_train), set(y_test))"
   ]
  },
  {
   "cell_type": "markdown",
   "id": "7c9cf43e",
   "metadata": {},
   "source": [
    "순환 신경망 모델을 만든다."
   ]
  },
  {
   "cell_type": "code",
   "execution_count": 9,
   "id": "94e064dc",
   "metadata": {},
   "outputs": [
    {
     "name": "stdout",
     "output_type": "stream",
     "text": [
      "Model: \"sequential\"\n",
      "_________________________________________________________________\n",
      " Layer (type)                Output Shape              Param #   \n",
      "=================================================================\n",
      " embedding (Embedding)       (None, None, 200)         400000    \n",
      "                                                                 \n",
      " conv1d (Conv1D)             (None, None, 50)          30050     \n",
      "                                                                 \n",
      " max_pooling1d (MaxPooling1D  (None, None, 50)         0         \n",
      " )                                                               \n",
      "                                                                 \n",
      " lstm (LSTM)                 (None, 100)               60400     \n",
      "                                                                 \n",
      " dropout (Dropout)           (None, 100)               0         \n",
      "                                                                 \n",
      " dense (Dense)               (None, 1)                 101       \n",
      "                                                                 \n",
      "=================================================================\n",
      "Total params: 490,551\n",
      "Trainable params: 490,551\n",
      "Non-trainable params: 0\n",
      "_________________________________________________________________\n"
     ]
    }
   ],
   "source": [
    "# Sequential 객체 선언 후 Sequential 모델에 add() 메소드로 레이어를 추가해서 신경망을 만든다.\n",
    "model = Sequential() # 시퀀스를 사용하는 신경망 모델을 만든다.\n",
    "\n",
    "# 신경망 모델에 임베딩 레이어를 추가한다\n",
    "# 리뷰 1건당 2,000개의 단어를 사용하므로 리뷰 1건당 입력 되는 피쳐 개수는 2,000개 이므로 \n",
    "# input_dim 속성에 2000을 지정한다.\n",
    "# 리뷰 1건당 단어 개수는 200개로 맞췃으므로 output_dim 속성에 200을 지정한다.\n",
    "# 임베딩 레이어의 Output Shape은 output_dim 속성값 크기로 결정된다. (None, None, 200)\n",
    "# 임베딩 레이어의 Param은 [output_dim 속성값 * output_dim 속성값]으로 결정된다. 2000 * 200 = 400000\n",
    "model.add(Embedding(input_dim=2000, output_dim=200))\n",
    "\n",
    "# 합성곱 신경망은 2차원 데이터를 사용해서 Conv2D 레이어를 사용하지만 LSTM은 1차원 데이터를 사용해서\n",
    "# Conv1D 레이어를 사용한다.\n",
    "# 신경망 모델에 Conv1D 레이어를 추가한다.\n",
    "# filters 속성으로 레이어의 출력 차원을 지정한다. 레이어를 구성하는 노드의 개수를 지정한다.\n",
    "# kernel_size 속성으로 커널의 크기를 지정한다.\n",
    "# 커널 크기는 Conv2D 레이어는 2차원 데이터를 사용하므로 커널 크기도 (행, 열)과 같이 2차원으로 지정했지만\n",
    "# Conv1D 레이어는 1차원 데이터를 사용하므로 커널 크기도 1차원으로 지정한다.\n",
    "# padding 속성으로 패딩 여부를 지정한다. 기본값은 'valid'로 패딩을 적용하지 않고 'same'은 패딩을 적용한다.\n",
    "# activation 속성으로 활성화 함수를 지정한다.\n",
    "# Conv1D 레이어의 Output Shape은 filters 속성값의 크기로 결정된다. (None, None, 50)\n",
    "# Conv1D 레이어의 Param은 [커널의 크기 * 입력 채널 크기 * 필터 크기 + 필터마다 1개의 바이어스]로 결정된다.\n",
    "# 커널의 크기(3) * 입력 채널 크기(200) * 필터 크기(50) + 필터마다 1개의 바이어스(50) = 3 * 200 * 50 + 50 = 30050\n",
    "model.add(Conv1D(filters=50, kernel_size=3, padding='valid', activation='relu'))\n",
    "\n",
    "# 신경망 모델에 맥스 풀링 레이어를 추가한다.\n",
    "# pool_size 속성으로 맥스 풀링을 실행할 크기를 지정한다. 기본값은 (2, 2)이다.\n",
    "# MaxPool1D 레이어의 Output Shape은 맥스 풀링 레이어에 입력되는 크기로 결정된다. (None, None, 50)\n",
    "# MaxPool1D 레이어의 Param은 없으므로 0이다.\n",
    "model.add(MaxPool1D(pool_size=3))\n",
    "\n",
    "# 신경망 모델에 LSTM 레이어를 추가한다. LSTM 레이어는 4개의 층으로 구성되어 있다.\n",
    "# LSTM 레이어는 units 속성으로 레이어의 출력 차원, activation 속성으로 tanh 활성화 함수를 지정한다.\n",
    "# LSTM 레이어의 Output Shape은 units 속성에 입력하는 크기로 결정된다. (None, 100)\n",
    "# LSTM 레이어의 Param은 [(입력 채널 크기 + units 속성값 + 바이어스(1)) * units 속성값 * LSTM 레이어 층의 개수]로\n",
    "# 결정된다.\n",
    "# (입력 채널 크기(50) + units 속성값(100) + 바이어스(1)) * units 속성값(100) * LSTM 레이어 층의 개수(4) =\n",
    "# (50 + 100 + 1) * 100 * 4 = 60400\n",
    "model.add(LSTM(units=100, activation='tanh'))\n",
    "\n",
    "# 신경망 모델에 드롭아웃 레이어를 추가한다.\n",
    "# rate 속성으로 드롭아웃(사용하지 않을)할 노드의 비율을 지정한다.\n",
    "# Dropout 레이어의 Output Shape 입력 shape과 같다. (None, 100)\n",
    "# Dropout 레이어의 Param은 없으므로 0이다. \n",
    "model.add(Dropout(rate=0.25))\n",
    "\n",
    "# 신경망 모델에 최종 출력 레이어를 추가한다. 최종 출력 레이어는 Dense 레이어로 구성한다.\n",
    "# 이진 분류(0 또는 1) 모델이므로 units 속성값은 1로 지정한다.\n",
    "# 다중 분류일 경우 레이블 데이터를 원-핫 인코딩으로 변환해서 신경망에 입력해해야 하고 units 속성값은\n",
    "# 분류할 클래스의 개수로 지정한다.\n",
    "# activation 속성으로 이진 분류이므로 sigmoid를 지정한다.\n",
    "# Dense 레이어의 Output Shape은 units 속성의 크기로 결정된다. (None, 1)\n",
    "# Dense 레이어의 Param은 [(입력 채널 크기 + 바이어스) * 출력 차원 크기]로 계산되고 바이어스는 layer당 1개 이다.\n",
    "# (입력 채널 크기(100) + 바이어스(1)) * 출력 차원 크기(1) = (100 + 1) * 1 = 101\n",
    "model.add(Dense(units=1, activation='sigmoid'))\n",
    "\n",
    "model.summary() # 신경망 모델의 구조를 확인한다."
   ]
  },
  {
   "cell_type": "markdown",
   "id": "d5ee2091",
   "metadata": {},
   "source": [
    "순환 신경망 모델 컴파일"
   ]
  },
  {
   "cell_type": "code",
   "execution_count": 10,
   "id": "75478e95",
   "metadata": {},
   "outputs": [],
   "source": [
    "# compile() 메소드로 생성한 신경망 모델을 컴파일 한다.\n",
    "# 분류 신경망은 loss 속성에 손실(비용, 오차) 함수를 지정할 때 이진 분류일 경우 'binary_crossentropy'를\n",
    "# 지정하고, 3개 이상의 클래스로 분류할 경우 'categorical_crossentropy'를 지정한다.\n",
    "# optimizer 속성에 최적화 함수(일반적으로 adam)를 지정한다.\n",
    "# metrics 속성에 평가 기준을 지정한다.\n",
    "model.compile(loss='binary_crossentropy', optimizer='adam', metrics=['accuracy'])"
   ]
  },
  {
   "cell_type": "markdown",
   "id": "3bc5e536",
   "metadata": {},
   "source": [
    "순환 신경망 모델 학습"
   ]
  },
  {
   "cell_type": "code",
   "execution_count": 11,
   "id": "cf4da581",
   "metadata": {},
   "outputs": [
    {
     "name": "stdout",
     "output_type": "stream",
     "text": [
      "Epoch 1/10\n",
      "200/200 [==============================] - 34s 162ms/step - loss: 0.4320 - accuracy: 0.7898 - val_loss: 0.3230 - val_accuracy: 0.8652\n",
      "Epoch 2/10\n",
      "200/200 [==============================] - 32s 159ms/step - loss: 0.2775 - accuracy: 0.8871 - val_loss: 0.3029 - val_accuracy: 0.8746\n",
      "Epoch 3/10\n",
      "200/200 [==============================] - 30s 152ms/step - loss: 0.2376 - accuracy: 0.9039 - val_loss: 0.3174 - val_accuracy: 0.8686\n",
      "Epoch 4/10\n",
      "200/200 [==============================] - 30s 149ms/step - loss: 0.2039 - accuracy: 0.9216 - val_loss: 0.3489 - val_accuracy: 0.8624\n",
      "Epoch 5/10\n",
      "200/200 [==============================] - 30s 150ms/step - loss: 0.1525 - accuracy: 0.9456 - val_loss: 0.3522 - val_accuracy: 0.8598\n",
      "Epoch 6/10\n",
      "200/200 [==============================] - 30s 150ms/step - loss: 0.1122 - accuracy: 0.9627 - val_loss: 0.3927 - val_accuracy: 0.8668\n",
      "Epoch 7/10\n",
      "200/200 [==============================] - 30s 150ms/step - loss: 0.0759 - accuracy: 0.9754 - val_loss: 0.4778 - val_accuracy: 0.8534\n",
      "Epoch 8/10\n",
      "200/200 [==============================] - 30s 149ms/step - loss: 0.0574 - accuracy: 0.9823 - val_loss: 0.4279 - val_accuracy: 0.8654\n",
      "Epoch 9/10\n",
      "200/200 [==============================] - 30s 150ms/step - loss: 0.0508 - accuracy: 0.9842 - val_loss: 0.5124 - val_accuracy: 0.8302\n",
      "Epoch 10/10\n",
      "200/200 [==============================] - 30s 151ms/step - loss: 0.0280 - accuracy: 0.9916 - val_loss: 0.5909 - val_accuracy: 0.8648\n"
     ]
    }
   ],
   "source": [
    "# fit() 메소드의 인수로 학습 데이터와 원-핫 인코딩된 학습 데이터에 따른 레이블 및 epochs 속성에 학습 횟수,\n",
    "# batch_size 속성에 미니 배치 크기를 넘겨서 컴파일된 신경망 모델을 학습시킨다.\n",
    "# 검증을 사용할 것이므로 validation_data 속성에 검증 피쳐 데이터와 검증 레이블 데이터를 지정한다.\n",
    "history = model.fit(x_train, y_train, epochs=10, batch_size=100, validation_data=(x_valid, y_valid))"
   ]
  },
  {
   "cell_type": "code",
   "execution_count": 12,
   "id": "814e12ad",
   "metadata": {},
   "outputs": [
    {
     "name": "stdout",
     "output_type": "stream",
     "text": [
      "625/625 [==============================] - 9s 13ms/step - loss: 0.0123 - accuracy: 0.9969\n",
      "[0.01234559528529644, 0.9969000220298767]\n",
      "157/157 [==============================] - 2s 14ms/step - loss: 0.5909 - accuracy: 0.8648\n",
      "[0.5909113883972168, 0.864799976348877]\n",
      "782/782 [==============================] - 11s 13ms/step - loss: 0.5825 - accuracy: 0.8628\n",
      "[0.5824911594390869, 0.8628399968147278]\n"
     ]
    }
   ],
   "source": [
    "# evaluate() 메소드로 테스트 데이터와 원-핫 인코딩된 테스트 데이터에 따른 레이블을 넘겨서\n",
    "# 학습된 신경망을 평가한다.\n",
    "print(model.evaluate(x_train, y_train)) # 학습 데이터와 학습 데이터에 따른 레이블 학습 평가\n",
    "print(model.evaluate(x_valid, y_valid)) # 학습 데이터와 학습 데이터에 따른 레이블 학습 평가\n",
    "print(model.evaluate(x_test, y_test)) # 테스트 데이터와 테스트 데이터에 따른 레이블 학습 평가"
   ]
  },
  {
   "cell_type": "markdown",
   "id": "4033fd72",
   "metadata": {},
   "source": [
    "순환 신경망 모델 예측"
   ]
  },
  {
   "cell_type": "code",
   "execution_count": 13,
   "id": "7a6e68a8",
   "metadata": {},
   "outputs": [
    {
     "name": "stdout",
     "output_type": "stream",
     "text": [
      "782/782 [==============================] - 11s 13ms/step\n",
      "0 0\n",
      "[0.17249925] 0\n"
     ]
    }
   ],
   "source": [
    "# predict() 메소드로 테스트 피쳐 데이터를 넘겨서 예측값을 계산한다.\n",
    "predict = model.predict(x_test)\n",
    "# 넘파이의 argmax() 메소드는 인수로 지정된 값 중에 가장 큰 값의 인덱스를 리턴하기 때문에\n",
    "# 원-핫 인코딩된 값을 원래 숫자로 바꿀 수 있다.\n",
    "print(y_test[0], np.argmax(y_test[0]))\n",
    "print(predict[0], np.argmax(predict[0]))"
   ]
  },
  {
   "cell_type": "markdown",
   "id": "28a3d920",
   "metadata": {},
   "source": [
    "순환 신경망 학습 정확도, 손실 시각화"
   ]
  },
  {
   "cell_type": "code",
   "execution_count": 21,
   "id": "203a710a",
   "metadata": {},
   "outputs": [
    {
     "data": {
      "image/png": "[encoded data removed]",
      "text/plain": [
       "<Figure size 1600x600 with 2 Axes>"
      ]
     },
     "metadata": {},
     "output_type": "display_data"
    }
   ],
   "source": [
    "epoch = np.arange(1, 11) # x축\n",
    "accuracy = history.history['accuracy'] # epoch별 학습 데이터 정확도\n",
    "loss = history.history['loss'] # epoch별 학습 데이터 손실\n",
    "val_accuracy = history.history['val_accuracy'] # epoch별 검정 데이터 정확도\n",
    "val_loss = history.history['val_loss'] # epoch별 검증 데이터 손실\n",
    "\n",
    "plt.figure(figsize=(16, 6))\n",
    "# 학습 정확도, 검증 정확도 시각화\n",
    "plt.subplot(1, 2, 1)\n",
    "plt.plot(epoch, accuracy, 'bo-', label='학습 정확도') # 학습 정확도 차트\n",
    "plt.plot(epoch, val_accuracy, 'ro--', label='검증 정확도') # 검증 정확도 차트\n",
    "plt.title('순환 신경망 정확도 시각화')\n",
    "plt.xlabel('epoch')\n",
    "plt.xlabel('정확도')\n",
    "plt.legend()\n",
    "\n",
    "# 학습 손실, 검증 손실 시각화\n",
    "plt.subplot(1, 2, 2)\n",
    "plt.plot(epoch, loss, 'bo-', label='학습 손실') # 학습 손실 차트\n",
    "plt.plot(epoch, val_loss, 'ro--', label='검증 손실') # 검증 손실 차트\n",
    "plt.title('순환 신경망 손실 시각화')\n",
    "plt.xlabel('epoch')\n",
    "plt.xlabel('손실')\n",
    "plt.legend()\n",
    "\n",
    "plt.suptitle('순환 신경망 학습 정확도, 손실 시각화')\n",
    "plt.show()"
   ]
  },
  {
   "cell_type": "code",
   "execution_count": null,
   "id": "c5c2b145",
   "metadata": {},
   "outputs": [],
   "source": []
  },
  {
   "cell_type": "code",
   "execution_count": null,
   "id": "a333207c",
   "metadata": {},
   "outputs": [],
   "source": []
  },
  {
   "cell_type": "code",
   "execution_count": null,
   "id": "d9922b59",
   "metadata": {},
   "outputs": [],
   "source": []
  },
  {
   "cell_type": "code",
   "execution_count": null,
   "id": "d8acb4e8",
   "metadata": {},
   "outputs": [],
   "source": []
  },
  {
   "cell_type": "code",
   "execution_count": null,
   "id": "a281eccc",
   "metadata": {},
   "outputs": [],
   "source": []
  },
  {
   "cell_type": "code",
   "execution_count": null,
   "id": "4e51464d",
   "metadata": {},
   "outputs": [],
   "source": []
  },
  {
   "cell_type": "code",
   "execution_count": null,
   "id": "86fdac4f",
   "metadata": {},
   "outputs": [],
   "source": []
  },
  {
   "cell_type": "code",
   "execution_count": null,
   "id": "589c2dae",
   "metadata": {},
   "outputs": [],
   "source": []
  },
  {
   "cell_type": "code",
   "execution_count": null,
   "id": "689f4c92",
   "metadata": {},
   "outputs": [],
   "source": []
  }
 ],
 "metadata": {
  "kernelspec": {
   "display_name": "python37",
   "language": "python",
   "name": "python37"
  },
  "language_info": {
   "codemirror_mode": {
    "name": "ipython",
    "version": 3
   },
   "file_extension": ".py",
   "mimetype": "text/x-python",
   "name": "python",
   "nbconvert_exporter": "python",
   "pygments_lexer": "ipython3",
   "version": "3.7.1"
  }
 },
 "nbformat": 4,
 "nbformat_minor": 5
}
