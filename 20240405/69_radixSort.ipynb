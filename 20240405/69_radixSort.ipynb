{
 "cells": [
  {
   "cell_type": "markdown",
   "id": "a0ae9157",
   "metadata": {},
   "source": [
    "기수 정렬(Radix Sort)\n",
    "\n",
    "<img src=\"./radixSort_1.png\" align=\"left\" width=\"1200\"/>"
   ]
  },
  {
   "cell_type": "markdown",
   "id": "88e66c2d",
   "metadata": {},
   "source": [
    "<img src=\"./radixSort_2.png\" align=\"left\" width=\"1200\"/>"
   ]
  },
  {
   "cell_type": "code",
   "execution_count": 1,
   "id": "419ce23f",
   "metadata": {},
   "outputs": [
    {
     "name": "stdout",
     "output_type": "stream",
     "text": [
      "[[], [], [], [], [], [], [], [], [], []]\n"
     ]
    }
   ],
   "source": [
    "# queue로 사용할 2차원 빈 리스트를 선언한다.\n",
    "queueList = [[] for _ in range(10)]\n",
    "print(queueList)"
   ]
  },
  {
   "cell_type": "code",
   "execution_count": 17,
   "id": "9d5533a8",
   "metadata": {
    "scrolled": false
   },
   "outputs": [
    {
     "name": "stdout",
     "output_type": "stream",
     "text": [
      "radix: 1\n",
      "n:  19 => 9\n",
      "n:   2 => 2\n",
      "n:  21 => 1\n",
      "n:  45 => 5\n",
      "n:  30 => 0\n",
      "n:  11 => 1\n",
      "n: 121 => 1\n",
      "n:  27 => 7\n",
      "[[30], [21, 11, 121], [2], [], [], [45], [], [27], [], [19]]\n",
      "1회전 결과: [30, 21, 11, 121, 2, 45, 27, 19]\n",
      "================================================================================\n",
      "radix: 10\n",
      "n:  30 => 3\n",
      "n:  21 => 2\n",
      "n:  11 => 1\n",
      "n: 121 => 2\n",
      "n:   2 => 0\n",
      "n:  45 => 4\n",
      "n:  27 => 2\n",
      "n:  19 => 1\n",
      "[[2], [11, 19], [21, 121, 27], [30], [45], [], [], [], [], []]\n",
      "2회전 결과: [2, 11, 19, 21, 121, 27, 30, 45]\n",
      "================================================================================\n",
      "radix: 100\n",
      "n:   2 => 0\n",
      "n:  11 => 0\n",
      "n:  19 => 0\n",
      "n:  21 => 0\n",
      "n: 121 => 1\n",
      "n:  27 => 0\n",
      "n:  30 => 0\n",
      "n:  45 => 0\n",
      "[[2, 11, 19, 21, 27, 30, 45], [121], [], [], [], [], [], [], [], []]\n",
      "3회전 결과: [2, 11, 19, 21, 27, 30, 45, 121]\n",
      "================================================================================\n",
      "radix: 1000\n",
      "n:   2 => 0\n",
      "n:  11 => 0\n",
      "n:  19 => 0\n",
      "n:  21 => 0\n",
      "n:  27 => 0\n",
      "n:  30 => 0\n",
      "n:  45 => 0\n",
      "n: 121 => 0\n",
      "[[2, 11, 19, 21, 27, 30, 45, 121], [], [], [], [], [], [], [], [], []]\n",
      "4회전 결과: [2, 11, 19, 21, 27, 30, 45, 121]\n",
      "================================================================================\n",
      "정렬 결과: [2, 11, 19, 21, 27, 30, 45, 121]\n"
     ]
    }
   ],
   "source": [
    "data = [19, 2, 21, 45, 30, 11, 121, 27]\n",
    "radix = 1 # 큐에 넣어줄 자리수를 기억하는 변수(1 => 10 => 100 => 1000 => ...)\n",
    "count = 1 # 회전수를 기억하는 변수\n",
    "isSort = False # 정렬이 완료되었나 기억하는 변수, True로 변경되면 정렬이 완료되었음을 의미한다.\n",
    "\n",
    "# 정렬이 완료될 때 까지 반복한다.\n",
    "# isSort 변수에 False가 저장되어있으면 정렬이 완료되지 않은 상태를 의미하고 True가 저장되어있으면\n",
    "# 정렬이 완료된 상태를 의미한다.\n",
    "while not isSort:\n",
    "    isSort = True\n",
    "    # 정렬할 숫자의 기수(진법)의 크기만큼 큐로 사용할 2차원 빈 리스트를 만든다.\n",
    "    queueList = [[] for _ in range(10)]\n",
    "    print('radix: {}'.format(radix))\n",
    "    \n",
    "    # 정렬할 데이터 개수만큼 반복하며 큐에 데이터를 넣어준다.\n",
    "    for n in data:\n",
    "        print('n: {:3d}'.format(n), end=' => ')\n",
    "        # 큐에 넣어줄 인덱스에 해당되는 숫자를 계산한다.\n",
    "        digit = n // radix % 10\n",
    "        print(digit)\n",
    "        # 큐의 digit 번째 인덱스에 데이터를 넣어준다.\n",
    "        queueList[digit].append(n)\n",
    "        # 정렬 작업이 완료되었나 검사한다.\n",
    "        if isSort and digit > 0:\n",
    "            isSort = False\n",
    "    # ===== for\n",
    "    print(queueList)\n",
    "    \n",
    "    # 큐에 저장된 데이터를 0번 큐부터 차례대로 꺼내서 data 리스트를 수정한다.\n",
    "    index = 0\n",
    "    # queueList(2차원)에 저장된 0번 큐를 numbers 리스트에 저장한 다음 반복을 시작해서 9번 큐를\n",
    "    # numbers 리스트에 저장한 후 작업한 다음 작업을 종료한다.\n",
    "    for numbers in queueList:\n",
    "        # print(numbers)\n",
    "        # 각각의 인덱스에 해당되는 리스트에 저장된 데이터 개수만큼 반복하며 data 리스트를 수정한다.\n",
    "        for number in numbers:\n",
    "            data[index] = number\n",
    "            index += 1\n",
    "        # ===== for\n",
    "    # ===== for\n",
    "    \n",
    "    # 큐에 넣어줄 자리수 위치를 수정한다.\n",
    "    radix *= 10\n",
    "    \n",
    "    print('{}회전 결과: {}'.format(count, data))\n",
    "    count += 1\n",
    "    print('=' * 80)\n",
    "# ===== while\n",
    "print('정렬 결과: {}'.format(data))"
   ]
  },
  {
   "cell_type": "code",
   "execution_count": null,
   "id": "37817ee7",
   "metadata": {},
   "outputs": [],
   "source": []
  },
  {
   "cell_type": "code",
   "execution_count": null,
   "id": "65909d5a",
   "metadata": {},
   "outputs": [],
   "source": []
  },
  {
   "cell_type": "code",
   "execution_count": null,
   "id": "bdf835e2",
   "metadata": {},
   "outputs": [],
   "source": []
  },
  {
   "cell_type": "code",
   "execution_count": null,
   "id": "2b94fab4",
   "metadata": {},
   "outputs": [],
   "source": []
  },
  {
   "cell_type": "code",
   "execution_count": null,
   "id": "77c4f09f",
   "metadata": {},
   "outputs": [],
   "source": []
  }
 ],
 "metadata": {
  "kernelspec": {
   "display_name": "Python 3",
   "language": "python",
   "name": "python3"
  },
  "language_info": {
   "codemirror_mode": {
    "name": "ipython",
    "version": 3
   },
   "file_extension": ".py",
   "mimetype": "text/x-python",
   "name": "python",
   "nbconvert_exporter": "python",
   "pygments_lexer": "ipython3",
   "version": "3.6.8"
  }
 },
 "nbformat": 4,
 "nbformat_minor": 5
}
