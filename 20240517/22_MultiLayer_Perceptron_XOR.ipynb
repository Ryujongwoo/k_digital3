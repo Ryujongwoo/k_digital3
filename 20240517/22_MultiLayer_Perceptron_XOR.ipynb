{
 "cells": [
  {
   "cell_type": "code",
   "execution_count": 1,
   "id": "b50e1f14",
   "metadata": {},
   "outputs": [
    {
     "name": "stdout",
     "output_type": "stream",
     "text": [
      "WARNING:tensorflow:From C:\\anaconda3\\envs\\python37\\lib\\site-packages\\tensorflow\\python\\compat\\v2_compat.py:107: disable_resource_variables (from tensorflow.python.ops.variable_scope) is deprecated and will be removed in a future version.\n",
      "Instructions for updating:\n",
      "non-resource variables are not supported in the long term\n"
     ]
    }
   ],
   "source": [
    "import warnings\n",
    "warnings.filterwarnings(action='ignore')\n",
    "%config Completer.use_jedi = False\n",
    "import tensorflow.compat.v1 as tf\n",
    "tf.disable_v2_behavior()"
   ]
  },
  {
   "cell_type": "markdown",
   "id": "3227ac14",
   "metadata": {},
   "source": [
    "<img src=\"./multilayer_perceptron1.png\" align=\"left\" width=\"1600\"/>"
   ]
  },
  {
   "cell_type": "markdown",
   "id": "0350b9c0",
   "metadata": {},
   "source": [
    "<img src=\"./multilayer_perceptron2.png\" align=\"left\" width=\"1600\"/>"
   ]
  },
  {
   "cell_type": "markdown",
   "id": "f3576ef4",
   "metadata": {},
   "source": [
    "<img src=\"./multilayer_perceptron3.png\" align=\"left\" width=\"1600\"/>"
   ]
  },
  {
   "cell_type": "markdown",
   "id": "1767c356",
   "metadata": {},
   "source": [
    "<img src=\"./multilayer_perceptron4.png\" align=\"left\" width=\"1600\"/>"
   ]
  },
  {
   "cell_type": "markdown",
   "id": "4d72e9fc",
   "metadata": {},
   "source": [
    "XOR 연산은 입력 데이터를 X라고 할 경우 [[0, 0], [0, 1], [1, 0], [1, 1]]과 같은 경우의 수가 있다.  \n",
    "총 4개의 데이터가 각각 2개의 특성을 가지고 있으므로 X는 [4, 2]의 형태로 정의할 수 있다.  \n",
    "입력값에 따른 출력값 Y는 [[0], [1], [1], [0]]이므로 Y는 [4, 1]의 형태로 정의할 수 있다."
   ]
  },
  {
   "cell_type": "code",
   "execution_count": 2,
   "id": "07ce3f38",
   "metadata": {},
   "outputs": [],
   "source": [
    "X = tf.placeholder(dtype=tf.float32, shape=[4, 2]) # 학습 데이터\n",
    "Y = tf.placeholder(dtype=tf.float32, shape=[4, 1]) # 레이블"
   ]
  },
  {
   "cell_type": "markdown",
   "id": "4049f45e",
   "metadata": {},
   "source": [
    "1번째 히든 레이어에서 2개의 입력(X)과 1개의 편향값(B1)을 받아서 2개의 시그모이드 출력(Z)을 2번째 히든 레이어로 전달한다."
   ]
  },
  {
   "cell_type": "code",
   "execution_count": 3,
   "id": "a2f2fedd",
   "metadata": {},
   "outputs": [],
   "source": [
    "# 2개의 입력을 받는 2개의 뉴런을 사용하기 위해서 가중치를 [건당 데이터 개수, 뉴런의 개수] 만큼의 난수를 만든다.\n",
    "W1 = tf.Variable(tf.random_normal([2, 2]))\n",
    "# 각 뉴런은 1개의 편향값을 가진다.\n",
    "# zeros() 메소드는 모든 원소의 값이 0인 텐서(2차원 이상의 행렬)를 생성한다.\n",
    "B1 = tf.Variable(tf.zeros([2]))\n",
    "# 시그모이드 함수를 이용해서 1번째 히든 레이어의 출력을 리턴한다.\n",
    "Z = tf.sigmoid(tf.matmul(X, W1) + B1)"
   ]
  },
  {
   "cell_type": "code",
   "execution_count": 4,
   "id": "409297ff",
   "metadata": {},
   "outputs": [
    {
     "name": "stdout",
     "output_type": "stream",
     "text": [
      "[[ 0.9895296  -1.1099348 ]\n",
      " [-0.86128294  0.5428039 ]]\n",
      "[0. 0.]\n",
      "[[0.5        0.5       ]\n",
      " [0.29707137 0.6324644 ]\n",
      " [0.728995   0.24788305]\n",
      " [0.5320178  0.3618991 ]]\n"
     ]
    }
   ],
   "source": [
    "sess = tf.Session()\n",
    "sess.run(tf.global_variables_initializer())\n",
    "print(sess.run(W1))\n",
    "print(sess.run(B1))\n",
    "x_train = [[0, 0], [0, 1], [1, 0], [1, 1]]\n",
    "print(sess.run(Z, feed_dict={X: x_train}))\n",
    "sess.close()"
   ]
  },
  {
   "cell_type": "markdown",
   "id": "0ee0ef90",
   "metadata": {},
   "source": [
    "2번째 히든 레이어에서 1번째 히든 레이어의 출력값(Z)와 편향값(B2)을 받아서 1개의 시그모이드를 출력(Y_hat)한다."
   ]
  },
  {
   "cell_type": "code",
   "execution_count": 5,
   "id": "0a928b2c",
   "metadata": {},
   "outputs": [],
   "source": [
    "# 2개의 Z(z1, z2)를 입력값으로 받는 1개의 뉴런을 만든다.\n",
    "W2 = tf.Variable(tf.random_normal([2, 1]))\n",
    "B2 = tf.Variable(tf.zeros([1]))\n",
    "Y_hat = tf.sigmoid(tf.matmul(Z, W2) + B2)"
   ]
  },
  {
   "cell_type": "code",
   "execution_count": 6,
   "id": "5ef4e0af",
   "metadata": {},
   "outputs": [
    {
     "name": "stdout",
     "output_type": "stream",
     "text": [
      "[[ 0.27934355]\n",
      " [-0.62454134]]\n",
      "[0.]\n",
      "[[0.4569571 ]\n",
      " [0.46375203]\n",
      " [0.36846575]\n",
      " [0.370741  ]]\n"
     ]
    }
   ],
   "source": [
    "sess = tf.Session()\n",
    "sess.run(tf.global_variables_initializer())\n",
    "print(sess.run(W2))\n",
    "print(sess.run(B2))\n",
    "print(sess.run(Y_hat, feed_dict={X: x_train}))\n",
    "sess.close()"
   ]
  },
  {
   "cell_type": "markdown",
   "id": "a8ad8474",
   "metadata": {},
   "source": [
    "손실 함수로 크로스 엔트로피를 사용하고 경사 하강법으로 모델의 매개 변수(가중치, 편향)를 최적화 한다."
   ]
  },
  {
   "cell_type": "code",
   "execution_count": 7,
   "id": "910475fc",
   "metadata": {},
   "outputs": [],
   "source": [
    "# 크로스 엔트로피\n",
    "loss = tf.reduce_mean(\n",
    "    -1 * (Y * tf.log(Y_hat) + (1.0 - Y) * tf.log(1.0 - Y_hat))\n",
    ")\n",
    "# 경사 하강법\n",
    "train_step = tf.train.GradientDescentOptimizer(0.05).minimize(loss)\n",
    "# 모델을 학습하기 위한 학습 데이터와 레이블을 만든다.\n",
    "x_train = [[0, 0], [0, 1], [1, 0], [1, 1]]\n",
    "y_train = [[0], [1], [1], [0]]"
   ]
  },
  {
   "cell_type": "markdown",
   "id": "788deb7f",
   "metadata": {},
   "source": [
    "학습 시킨다."
   ]
  },
  {
   "cell_type": "code",
   "execution_count": 8,
   "id": "d0ee893d",
   "metadata": {
    "scrolled": true
   },
   "outputs": [
    {
     "name": "stdout",
     "output_type": "stream",
     "text": [
      "학습 데이터: [[0, 0], [0, 1], [1, 0], [1, 1]]\n",
      "================================================================================\n",
      "epoch: 0\n",
      "output\n",
      "[[0.43812203]\n",
      " [0.43003622]\n",
      " [0.4391236 ]\n",
      " [0.43131456]]\n",
      "epoch: 5000\n",
      "output\n",
      "[[0.5022958 ]\n",
      " [0.49951538]\n",
      " [0.500105  ]\n",
      " [0.49734202]]\n",
      "epoch: 10000\n",
      "output\n",
      "[[0.50328535]\n",
      " [0.50272727]\n",
      " [0.49701518]\n",
      " [0.4962989 ]]\n",
      "epoch: 15000\n",
      "output\n",
      "[[0.5043876 ]\n",
      " [0.507397  ]\n",
      " [0.4922032 ]\n",
      " [0.49438164]]\n",
      "epoch: 20000\n",
      "output\n",
      "[[0.5019337 ]\n",
      " [0.5420312 ]\n",
      " [0.46060124]\n",
      " [0.48030305]]\n",
      "epoch: 25000\n",
      "output\n",
      "[[0.36855686]\n",
      " [0.85175943]\n",
      " [0.3671465 ]\n",
      " [0.35783115]]\n",
      "epoch: 30000\n",
      "output\n",
      "[[0.08811929]\n",
      " [0.8993576 ]\n",
      " [0.88267654]\n",
      " [0.07513106]]\n",
      "epoch: 35000\n",
      "output\n",
      "[[0.03865754]\n",
      " [0.95186335]\n",
      " [0.94927686]\n",
      " [0.03370442]]\n",
      "epoch: 40000\n",
      "output\n",
      "[[0.02426036]\n",
      " [0.96913016]\n",
      " [0.96812165]\n",
      " [0.02130367]]\n"
     ]
    }
   ],
   "source": [
    "sess = tf.Session()\n",
    "sess.run(tf.global_variables_initializer())\n",
    "\n",
    "print('학습 데이터: {}'.format(x_train))\n",
    "print('=' * 80)\n",
    "\n",
    "for epoch in range(40001):\n",
    "    sess.run(train_step, feed_dict={X: x_train, Y: y_train})\n",
    "    if epoch % 5000 == 0:\n",
    "        print('epoch: {}'.format(epoch))\n",
    "        print('output\\n', sess.run(Y_hat, feed_dict={X: x_train}), sep='')"
   ]
  },
  {
   "cell_type": "code",
   "execution_count": null,
   "id": "dc7de153",
   "metadata": {},
   "outputs": [],
   "source": []
  },
  {
   "cell_type": "code",
   "execution_count": null,
   "id": "02ff79ef",
   "metadata": {},
   "outputs": [],
   "source": []
  }
 ],
 "metadata": {
  "kernelspec": {
   "display_name": "python37",
   "language": "python",
   "name": "python37"
  },
  "language_info": {
   "codemirror_mode": {
    "name": "ipython",
    "version": 3
   },
   "file_extension": ".py",
   "mimetype": "text/x-python",
   "name": "python",
   "nbconvert_exporter": "python",
   "pygments_lexer": "ipython3",
   "version": "3.7.1"
  }
 },
 "nbformat": 4,
 "nbformat_minor": 5
}
