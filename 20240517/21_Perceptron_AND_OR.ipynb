{
 "cells": [
  {
   "cell_type": "code",
   "execution_count": 1,
   "id": "fd9f8399",
   "metadata": {},
   "outputs": [
    {
     "name": "stdout",
     "output_type": "stream",
     "text": [
      "WARNING:tensorflow:From C:\\anaconda3\\envs\\python37\\lib\\site-packages\\tensorflow\\python\\compat\\v2_compat.py:107: disable_resource_variables (from tensorflow.python.ops.variable_scope) is deprecated and will be removed in a future version.\n",
      "Instructions for updating:\n",
      "non-resource variables are not supported in the long term\n"
     ]
    }
   ],
   "source": [
    "import warnings\n",
    "warnings.filterwarnings(action='ignore')\n",
    "%config Completer.use_jedi = False\n",
    "import tensorflow.compat.v1 as tf\n",
    "tf.disable_v2_behavior()"
   ]
  },
  {
   "cell_type": "markdown",
   "id": "87b6af3b",
   "metadata": {},
   "source": [
    "<img src=\"./deepLearning1.png\" align=\"left\" width=\"1600\"/>"
   ]
  },
  {
   "cell_type": "markdown",
   "id": "bb2022bd",
   "metadata": {},
   "source": [
    "<img src=\"./deepLearning2.png\" align=\"left\" width=\"1600\"/>"
   ]
  },
  {
   "cell_type": "markdown",
   "id": "03d629d8",
   "metadata": {},
   "source": [
    "<img src=\"./perceptron1.png\" align=\"left\" width=\"1600\"/>"
   ]
  },
  {
   "cell_type": "markdown",
   "id": "991b80b3",
   "metadata": {},
   "source": [
    "<img src=\"./perceptron2.png\" align=\"left\" width=\"1600\"/>"
   ]
  },
  {
   "cell_type": "markdown",
   "id": "aac62327",
   "metadata": {},
   "source": [
    "<img src=\"./perceptron3.png\" align=\"left\" width=\"1600\"/>"
   ]
  },
  {
   "cell_type": "markdown",
   "id": "c3810e74",
   "metadata": {},
   "source": [
    "퍼셉트론은 엄밀히 말하면 딥러닝은 아니지만 뉴런과 상당히 닮은 분류기 이다.  \n",
    "뉴런의 계산 과정을 이해하고 뉴런 하나만으로 AND, OR 연산과 같은 기초적인 연산을 할 수 있음을 알아본다."
   ]
  },
  {
   "cell_type": "code",
   "execution_count": 2,
   "id": "fd58e959",
   "metadata": {},
   "outputs": [],
   "source": [
    "# 퍼셉트론 코드의 이해도를 높이기 위해 1을 True로 0을 False로 그리고 편향(bias)은 1로 지정한다.\n",
    "T = 1.0\n",
    "F = 0.0\n",
    "bias = 1.0"
   ]
  },
  {
   "cell_type": "markdown",
   "id": "8e6d8db6",
   "metadata": {},
   "source": [
    "AND, OR, XOR 실습 데이터를 함수로 정의해서 함수를 호출하면 데이터를 획득할 수 있게 한다."
   ]
  },
  {
   "cell_type": "code",
   "execution_count": 3,
   "id": "b39c92aa",
   "metadata": {},
   "outputs": [],
   "source": [
    "def get_AND_data():\n",
    "    # 학습 데이터\n",
    "    X = [\n",
    "        [F, F, bias], # F\n",
    "        [F, T, bias], # F\n",
    "        [T, F, bias], # F\n",
    "        [T, T, bias]  # T\n",
    "    ]\n",
    "    # 학습 데이터에 따른 실제값(레이블, 타겟, 클래스)\n",
    "    Y = [\n",
    "        [F],\n",
    "        [F],\n",
    "        [F],\n",
    "        [T]\n",
    "    ]\n",
    "    return X, Y\n",
    "\n",
    "def get_OR_data():\n",
    "    # 학습 데이터\n",
    "    X = [\n",
    "        [F, F, bias], # F\n",
    "        [F, T, bias], # T\n",
    "        [T, F, bias], # T\n",
    "        [T, T, bias]  # T\n",
    "    ]\n",
    "    # 학습 데이터에 따른 실제값(레이블, 타겟, 클래스)\n",
    "    Y = [\n",
    "        [F],\n",
    "        [T],\n",
    "        [T],\n",
    "        [T]\n",
    "    ]\n",
    "    return X, Y\n",
    "\n",
    "def get_XOR_data():\n",
    "    # 학습 데이터\n",
    "    X = [\n",
    "        [F, F, bias], # F\n",
    "        [F, T, bias], # T\n",
    "        [T, F, bias], # T\n",
    "        [T, T, bias]  # F\n",
    "    ]\n",
    "    # 학습 데이터에 따른 실제값(레이블, 타겟, 클래스)\n",
    "    Y = [\n",
    "        [F],\n",
    "        [T],\n",
    "        [T],\n",
    "        [F]\n",
    "    ]\n",
    "    return X, Y"
   ]
  },
  {
   "cell_type": "code",
   "execution_count": 4,
   "id": "ded77219",
   "metadata": {},
   "outputs": [
    {
     "name": "stdout",
     "output_type": "stream",
     "text": [
      "[[0.0, 0.0, 1.0], [0.0, 1.0, 1.0], [1.0, 0.0, 1.0], [1.0, 1.0, 1.0]] [[0.0], [1.0], [1.0], [0.0]]\n"
     ]
    }
   ],
   "source": [
    "# AND 연산에 필요한 데이터를 호출한다.\n",
    "# X, Y = get_AND_data()\n",
    "# OR 연산에 필요한 데이터를 호출한다.\n",
    "# X, Y = get_OR_data()\n",
    "# XOR 연산에 필요한 데이터를 호출한다.\n",
    "X, Y = get_XOR_data()\n",
    "print(X, Y)"
   ]
  },
  {
   "cell_type": "markdown",
   "id": "ea17d874",
   "metadata": {},
   "source": [
    "tensorflow를 사용해서 퍼셉트론을 구현한다."
   ]
  },
  {
   "cell_type": "code",
   "execution_count": 5,
   "id": "485eeee2",
   "metadata": {},
   "outputs": [
    {
     "name": "stdout",
     "output_type": "stream",
     "text": [
      "[[0.41189802]\n",
      " [0.672912  ]\n",
      " [0.5389873 ]]\n"
     ]
    }
   ],
   "source": [
    "# 논리 연산을 위한 입력값으로 X, Y, 편향값을 입력받아(총 3개의 입력) 1개의 값을 출력해야 하므로 가중치는 [3, 1]로 설정한다.\n",
    "# matmul() 메소드로 행렬의 내적을 실행하기 위해서 입력 데이터가 1행 3열이므로 가중치를 3행 1열로 만든다.\n",
    "# W = tf.Variable(tf.random_normal([3, 1])) # 정규 분포를 따르는 난수를 만든다.\n",
    "W = tf.Variable(tf.random_uniform([3, 1])) # 균등 분포를 따르는 난수를 만든다.\n",
    "sess = tf.Session() # 세션을 만든다.\n",
    "sess.run(tf.global_variables_initializer()) # 변수를 초기화 한다.\n",
    "print(sess.run(W))"
   ]
  },
  {
   "cell_type": "markdown",
   "id": "957ed758",
   "metadata": {},
   "source": [
    "퍼셉트론은 두 개의 입력이 있을 때 하나의 뉴런으로 두 개의 입력을 계산한 뒤 최종적으로 0 또는 1을 출력한다.  \n",
    "두 개의 입력은 가중치와 곱해져서 뉴런의 첫 번째 단계인 시그마로 들아가고 시그마 단계에서 모든 가중치와 입력값을 곱한 결과에 편향값을 더하는 과정이 이루어진다.  \n",
    "시그마 값은 뉴런의 두 번째 단계인 활성화 함수의 입력으로 들어가는데 퍼셉스론은 스텝 함수라는 활성화 함수를 사용하고 스텝 함수는 시그마 값이 <= 0 일 경우 0을 시그마 값이 > 0 일 경우 1을 출력한다."
   ]
  },
  {
   "cell_type": "code",
   "execution_count": 6,
   "id": "ef0dd573",
   "metadata": {},
   "outputs": [
    {
     "name": "stdout",
     "output_type": "stream",
     "text": [
      "True\n",
      "1.0\n",
      "False\n",
      "0.0\n"
     ]
    }
   ],
   "source": [
    "sess = tf.Session()\n",
    "# tensorflow의 greater(a, b) 메소드는 a > b일 경우 True, 그렇치 않으면 False를 리턴한다.\n",
    "# print(sess.run(tf.greater(1, 0)))\n",
    "# tensorflow의 greater_equal(a, b) 메소드는 a >= b일 경우 True, 그렇치 않으면 False를 리턴한다.\n",
    "# print(sess.run(tf.greater_equal(1, 0)))\n",
    "# tensorflow의 less(a, b) 메소드는 a < b일 경우 True, 그렇치 않으면 False를 리턴한다.\n",
    "# print(sess.run(tf.less(1, 0)))\n",
    "# tensorflow의 less_equal(a, b) 메소드는 a <= b일 경우 True, 그렇치 않으면 False를 리턴한다.\n",
    "# print(sess.run(tf.less_equal(1, 0)))\n",
    "# tensorflow의 equal(a, b) 메소드는 a와 b가 같을 경우 True, 그렇치 않으면 False를 리턴한다.\n",
    "# print(sess.run(tf.equal(1, 0)))\n",
    "# tensorflow의 not_equal(a, b) 메소드는 a와 b가 다를 경우 True, 그렇치 않으면 False를 리턴한다.\n",
    "# print(sess.run(tf.not_equal(1, 0)))\n",
    "\n",
    "print(sess.run(tf.greater(1, 0)))\n",
    "# tensorflow의 cast(데이터, dtype) 메소드는 데이터를 dtype로 형변환 한다.\n",
    "# True는 숫자로 형변환 하면 1, False는 숫자로 형변환 하면 0으로 변환된다.\n",
    "f = tf.cast(tf.greater(1, 0), dtype=tf.float32)\n",
    "print(sess.run(f))\n",
    "\n",
    "print(sess.run(tf.greater(1, 1)))\n",
    "f = tf.cast(tf.greater(1, 1), dtype=tf.float32)\n",
    "print(sess.run(f))"
   ]
  },
  {
   "cell_type": "code",
   "execution_count": 7,
   "id": "a5acdeb5",
   "metadata": {},
   "outputs": [],
   "source": [
    "# x가 0보다 크면 1, x가 0 이하이면 0을 리턴하는 활성화 함수를 구현한다.\n",
    "def step(z):\n",
    "    return tf.cast(tf.greater(z, 0), dtype=tf.float32)"
   ]
  },
  {
   "cell_type": "code",
   "execution_count": 8,
   "id": "bbc5ff94",
   "metadata": {
    "scrolled": false
   },
   "outputs": [
    {
     "name": "stdout",
     "output_type": "stream",
     "text": [
      "예측값\n",
      "[[0.37910056]\n",
      " [0.5926614 ]\n",
      " [1.0673809 ]\n",
      " [1.2809417 ]]\n",
      "================================================================================\n",
      "최종 예측값\n",
      "[[1.]\n",
      " [1.]\n",
      " [1.]\n",
      " [1.]]\n",
      "================================================================================\n",
      "레이블과 최종 예측값의 편차\n",
      "[[-1.]\n",
      " [ 0.]\n",
      " [ 0.]\n",
      " [-1.]]\n",
      "================================================================================\n",
      "평균 제곱 오차\n",
      "0.5\n"
     ]
    }
   ],
   "source": [
    "# 손실(오차, 비용) 함수로 평균 제곱 오차(MSE) 사용한다.\n",
    "sess = tf.Session()\n",
    "sess.run(tf.global_variables_initializer())\n",
    "\n",
    "# 예측값을 계산하기 위해서 행렬의 내적 메소드로 학습 데이터(X)와 가중치(W)를 곱한다.\n",
    "z = tf.matmul(X, W)\n",
    "print('예측값\\n', sess.run(z), sep='')\n",
    "print('=' * 80)\n",
    "# 예측값을 활성화 함수에 넣어서 최종 예측값을 계산한다.\n",
    "output = step(z)\n",
    "print('최종 예측값\\n', sess.run(output), sep='')\n",
    "print('=' * 80)\n",
    "\n",
    "# 레이블(Y)과 최종 예측값(스텝 함수 실행 결과)의 편차를 계산한다.\n",
    "error = tf.subtract(Y, output)\n",
    "print('레이블과 최종 예측값의 편차\\n', sess.run(error), sep='')\n",
    "print('=' * 80)\n",
    "# 평균 제곱 오차를 계산한다.\n",
    "mse = tf.reduce_mean(tf.square(error))\n",
    "print('평균 제곱 오차\\n', sess.run(mse), sep='')"
   ]
  },
  {
   "cell_type": "markdown",
   "id": "3cc91ad4",
   "metadata": {},
   "source": [
    "보통의 경우 딥 러닝 모델은 경사 하강법을 통해 매개 변수를 최적화하지만 미분값이 큰 의미가 없는 스텝 함수의 영향으로(0은 미분 불가능, 1(상수)은 미분하면 1) 퍼셉트론은 아래와 같은 방법으로 최적화를 진행한다.\n",
    "\n",
    "퍼셉트론의 오차  \n",
    "결과 값이 1이 나와야 하는데 스텝 함수의 출력이 0일 경우: w_new = w_old + delta  \n",
    "결과 값이 0이 나와야 하는데 스텝 함수의 출력이 1일 경우: w_new = w_old - delta\n",
    "\n",
    "위의 2가지 경우를 다음과 같이 사용할 수 있다."
   ]
  },
  {
   "cell_type": "code",
   "execution_count": 9,
   "id": "72b419e0",
   "metadata": {},
   "outputs": [],
   "source": [
    "import numpy as np"
   ]
  },
  {
   "cell_type": "code",
   "execution_count": 10,
   "id": "cacf99c6",
   "metadata": {},
   "outputs": [
    {
     "name": "stdout",
     "output_type": "stream",
     "text": [
      "<class 'list'>\n",
      "<class 'numpy.ndarray'>\n",
      "[[0. 0. 1.]\n",
      " [0. 1. 1.]\n",
      " [1. 0. 1.]\n",
      " [1. 1. 1.]]\n",
      "[[0. 0. 1. 1.]\n",
      " [0. 1. 0. 1.]\n",
      " [1. 1. 1. 1.]]\n"
     ]
    }
   ],
   "source": [
    "print(type(X))\n",
    "print(type(np.array(X)))\n",
    "print(np.array(X))\n",
    "print(np.array(X).T) # 전치"
   ]
  },
  {
   "cell_type": "code",
   "execution_count": 11,
   "id": "14a7e0ff",
   "metadata": {},
   "outputs": [
    {
     "name": "stdout",
     "output_type": "stream",
     "text": [
      "가중치를 수정할 값\n",
      "[[-1.]\n",
      " [-1.]\n",
      " [-2.]]\n",
      "================================================================================\n",
      "수정된 가중치\n",
      " [[-0.07043982]\n",
      " [-0.71192753]\n",
      " [-1.121218  ]]\n",
      "================================================================================\n"
     ]
    }
   ],
   "source": [
    "# 행렬의 transpose는 행과 열을 교환하여 얻는 전치행렬을 의미한다.\n",
    "# matmul(A, B, transpose_a=True)는 행렬을 내적하기 전에 A 행렬을 전치하고 내적한다.\n",
    "# matmul(A, B, transpose_b=True)는 행렬을 내적하기 전에 B 행렬을 전치하고 내적한다.\n",
    "sess = tf.Session()\n",
    "sess.run(tf.global_variables_initializer())\n",
    "delta = tf.matmul(X, error, transpose_a=True) # 행렬의 내적을 계산하기 전에 행렬 X를 전치한다.\n",
    "print('가중치를 수정할 값\\n', sess.run(delta), sep='')\n",
    "print('=' * 80)\n",
    "\n",
    "# 가중치를 가중치를 수정할 값으로 수정해서 다시 계산한다. => 역전파\n",
    "print('수정된 가중치\\n', sess.run(tf.add(W, delta)))\n",
    "print('=' * 80)\n",
    "# assign() 메소드는 세션안에서 tensorflow 변수 값을 수정한다.\n",
    "train = tf.assign(W, tf.add(W, delta))"
   ]
  },
  {
   "cell_type": "markdown",
   "id": "fe38fbfe",
   "metadata": {},
   "source": [
    "학습 후 테스트"
   ]
  },
  {
   "cell_type": "code",
   "execution_count": 12,
   "id": "5d45aa22",
   "metadata": {},
   "outputs": [
    {
     "name": "stdout",
     "output_type": "stream",
     "text": [
      "epoch:  1, mse: 0.5\n",
      "epoch:  2, mse: 0.5\n",
      "epoch:  3, mse: 0.5\n",
      "epoch:  4, mse: 0.5\n",
      "epoch:  5, mse: 0.5\n",
      "epoch:  6, mse: 0.5\n",
      "epoch:  7, mse: 0.5\n",
      "epoch:  8, mse: 0.5\n",
      "epoch:  9, mse: 0.5\n",
      "epoch: 10, mse: 0.5\n",
      "epoch: 11, mse: 0.5\n",
      "epoch: 12, mse: 0.5\n",
      "epoch: 13, mse: 0.5\n",
      "epoch: 14, mse: 0.5\n",
      "epoch: 15, mse: 0.5\n",
      "epoch: 16, mse: 0.5\n",
      "epoch: 17, mse: 0.5\n",
      "epoch: 18, mse: 0.5\n",
      "epoch: 19, mse: 0.5\n",
      "epoch: 20, mse: 0.5\n",
      "학습 결과\n",
      "[[1.]\n",
      " [1.]\n",
      " [1.]\n",
      " [1.]]\n"
     ]
    }
   ],
   "source": [
    "sess = tf.Session()\n",
    "sess.run(tf.global_variables_initializer())\n",
    "\n",
    "err, epoch, max_epoch = 1.0, 0, 20 # 오차, 현재 학습 횟수, 최대 학습 횟수\n",
    "# 오차가 발생하고 학습 횟수가 최대 학습 횟수를 넘어가지 않는 동안 반복한다.\n",
    "while err > 0.0 and epoch < max_epoch:\n",
    "    epoch += 1 # 학습 횟수를 증가시킨다.\n",
    "    err = sess.run(mse) # 평균 제곱 오차를 계산한다.\n",
    "    sess.run(train) # 학습시킨다.\n",
    "    print('epoch: {:2d}, mse: {}'.format(epoch, err))\n",
    "# ===== while\n",
    "\n",
    "print('학습 결과\\n', sess.run(output), sep='')\n",
    "sess.close()"
   ]
  },
  {
   "cell_type": "code",
   "execution_count": 13,
   "id": "ddec60f8",
   "metadata": {},
   "outputs": [
    {
     "name": "stdout",
     "output_type": "stream",
     "text": [
      "epoch:  1, mse: 0.5\n",
      "epoch:  2, mse: 0.5\n",
      "epoch:  3, mse: 0.5\n",
      "epoch:  4, mse: 0.5\n",
      "epoch:  5, mse: 0.5\n",
      "epoch:  6, mse: 0.5\n",
      "epoch:  7, mse: 0.5\n",
      "epoch:  8, mse: 0.5\n",
      "epoch:  9, mse: 0.5\n",
      "epoch: 10, mse: 0.5\n",
      "epoch: 11, mse: 0.5\n",
      "epoch: 12, mse: 0.5\n",
      "epoch: 13, mse: 0.5\n",
      "epoch: 14, mse: 0.5\n",
      "epoch: 15, mse: 0.5\n",
      "epoch: 16, mse: 0.5\n",
      "epoch: 17, mse: 0.5\n",
      "epoch: 18, mse: 0.5\n",
      "epoch: 19, mse: 0.5\n",
      "epoch: 20, mse: 0.5\n",
      "학습 결과\n",
      "[[1.]\n",
      " [1.]\n",
      " [1.]\n",
      " [1.]]\n"
     ]
    }
   ],
   "source": [
    "# 세션을 with 구문을 사용해서 만들면 with 블록이 종료되는 순간 자동으로 close 된다.\n",
    "with tf.Session() as sess: # 세션을 만든다.\n",
    "    sess.run(tf.global_variables_initializer())\n",
    "\n",
    "    err, epoch, max_epoch = 1.0, 0, 20\n",
    "    while err > 0.0 and epoch < max_epoch:\n",
    "        epoch += 1\n",
    "        err = sess.run(mse)\n",
    "        sess.run(train)\n",
    "        print('epoch: {:2d}, mse: {}'.format(epoch, err))\n",
    "    # ===== while\n",
    "\n",
    "    print('학습 결과\\n', sess.run(output), sep='')"
   ]
  },
  {
   "cell_type": "code",
   "execution_count": null,
   "id": "d45ef7c0",
   "metadata": {},
   "outputs": [],
   "source": []
  },
  {
   "cell_type": "code",
   "execution_count": null,
   "id": "e0bbf134",
   "metadata": {},
   "outputs": [],
   "source": []
  }
 ],
 "metadata": {
  "kernelspec": {
   "display_name": "python37",
   "language": "python",
   "name": "python37"
  },
  "language_info": {
   "codemirror_mode": {
    "name": "ipython",
    "version": 3
   },
   "file_extension": ".py",
   "mimetype": "text/x-python",
   "name": "python",
   "nbconvert_exporter": "python",
   "pygments_lexer": "ipython3",
   "version": "3.7.1"
  }
 },
 "nbformat": 4,
 "nbformat_minor": 5
}
