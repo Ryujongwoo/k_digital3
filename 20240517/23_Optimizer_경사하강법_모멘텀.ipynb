{
 "cells": [
  {
   "cell_type": "code",
   "execution_count": 1,
   "id": "78d6c638",
   "metadata": {},
   "outputs": [],
   "source": [
    "import numpy as np\n",
    "import matplotlib.pyplot as plt"
   ]
  },
  {
   "cell_type": "markdown",
   "id": "4e455555",
   "metadata": {},
   "source": [
    "미분(Differential)\n",
    "\n",
    "<img src=\"./differential1.png\" align=\"left\" width=\"300\"/>"
   ]
  },
  {
   "cell_type": "code",
   "execution_count": 2,
   "id": "1f99398e",
   "metadata": {},
   "outputs": [],
   "source": [
    "# diff1(미분할 함수, 미분할 값, Δx)\n",
    "def diff1(f, x, h=1e-6):\n",
    "    return (f(x + h) - f(x)) / h"
   ]
  },
  {
   "cell_type": "markdown",
   "id": "bbf45da6",
   "metadata": {},
   "source": [
    "미분(Differential): 대칭 파생\n",
    "\n",
    "<img src=\"./differential2.png\" align=\"left\" width=\"300\"/>"
   ]
  },
  {
   "cell_type": "code",
   "execution_count": 3,
   "id": "a4ca17e3",
   "metadata": {},
   "outputs": [],
   "source": [
    "# diff2(미분할 함수, 미분할 값, Δx)\n",
    "def diff2(f, x, h=1e-6):\n",
    "    return (f(x + h) - f(x - h)) / (2 * h)"
   ]
  },
  {
   "cell_type": "code",
   "execution_count": 4,
   "id": "9e58b275",
   "metadata": {},
   "outputs": [],
   "source": [
    "def f1(x):\n",
    "    return x ** 2"
   ]
  },
  {
   "cell_type": "code",
   "execution_count": 5,
   "id": "6e221664",
   "metadata": {},
   "outputs": [
    {
     "name": "stdout",
     "output_type": "stream",
     "text": [
      "2.0000009999243673\n",
      "2.000000000002\n"
     ]
    }
   ],
   "source": [
    "print(diff1(f1, 1))\n",
    "print(diff2(f1, 1))"
   ]
  },
  {
   "cell_type": "code",
   "execution_count": 6,
   "id": "4c3ca340",
   "metadata": {},
   "outputs": [],
   "source": [
    "f2 = lambda x: x ** 2"
   ]
  },
  {
   "cell_type": "code",
   "execution_count": 7,
   "id": "f07a6c5a",
   "metadata": {},
   "outputs": [
    {
     "name": "stdout",
     "output_type": "stream",
     "text": [
      "2.0000009999243673\n",
      "2.000000000002\n"
     ]
    }
   ],
   "source": [
    "print(diff1(f2, 1))\n",
    "print(diff2(f2, 1))"
   ]
  },
  {
   "cell_type": "markdown",
   "id": "0865824c",
   "metadata": {},
   "source": [
    "경사 하강(강하)법"
   ]
  },
  {
   "cell_type": "code",
   "execution_count": 8,
   "id": "e0a72928",
   "metadata": {},
   "outputs": [],
   "source": [
    "# 경사 하강법 클래스, 옵티마이저\n",
    "class descent:\n",
    "    def __init__(self, lr, h=1e-6):\n",
    "        self.lr = lr # 학습율\n",
    "        self.h = h # 수치 미분을 위해 지정하는 값으로 작을수록 더 정교한 미분을 실행한다.\n",
    "        \n",
    "    def diff(self, f, x): # 미분 함수\n",
    "        # return (f(x + self.h) - f(x)) / self.h\n",
    "        return (f(x + self.h) - f(x - self.h)) / (2 * self.h)\n",
    "        \n",
    "    def update(self, f, x): # 경사 하강법 업데이트 함수\n",
    "        dx = self.diff(f, x)\n",
    "        return x - self.lr * dx\n",
    "    \n",
    "    def __str__(self):\n",
    "        return '경사 하강법(학습율 = {})'.format(self.lr)"
   ]
  },
  {
   "cell_type": "code",
   "execution_count": 9,
   "id": "085c9116",
   "metadata": {},
   "outputs": [],
   "source": [
    "# 경사 하강법 시각화 클래스\n",
    "class one_variable_ftn:\n",
    "    def __init__(self, ftn, opti):\n",
    "        self.ftn = ftn # 최적화 하려는 함수\n",
    "        self.opti = opti # 옵티마이저 <= 경사 하강법, 모멘텀\n",
    "        \n",
    "    def run(self, x, iteration): # 옵티마이저 실행 함수\n",
    "        self.xs = [x]\n",
    "        for i in range(iteration):\n",
    "            self.xs.append(self.opti.update(self.ftn, self.xs[-1]))\n",
    "        print('{}에서 시작해서 {}번 {}을(를) 적용한 결과는 {:5.3f} 입니다.'.format(x, iteration, self.opti, self.xs[-1]))\n",
    "        \n",
    "    def visualize(self, xi, xe): # 시각화 함수\n",
    "        x = np.linspace(xi, xe, int((xe - xi) * 100))\n",
    "        y = [self.ftn(xx) for xx in x]\n",
    "        plt.plot(x, y, 'k-') # 2차원 곡선 시각화\n",
    "        ys = [self.ftn(xx) for xx in self.xs]\n",
    "        plt.plot(self.xs, ys, 'r*') # 경사 하강법으로 이동하는 위치 시각화\n",
    "        plt.show()\n",
    "        \n",
    "    def history(self):\n",
    "        for i, x in enumerate(self.xs):\n",
    "            print('{:3d}번 {}을(를) 적용한 결과는 {:5.3f} 입니다.'.format(i + 1, self.opti, x))"
   ]
  },
  {
   "cell_type": "code",
   "execution_count": 10,
   "id": "1c99e0b7",
   "metadata": {},
   "outputs": [
    {
     "name": "stdout",
     "output_type": "stream",
     "text": [
      "경사 하강법(학습율 = 0.01)\n"
     ]
    }
   ],
   "source": [
    "# 경사 하강법 실행\n",
    "opti = descent(0.01) # 경사 하강법 클래스 객체 생성\n",
    "print(opti)\n",
    "f = lambda x: x ** 2 # 미분할 함수\n",
    "ex = one_variable_ftn(f, opti) # 경사 하강법을 적용한 결과를 시각화 하는 클래스 객체 생성"
   ]
  },
  {
   "cell_type": "code",
   "execution_count": 11,
   "id": "a250f7cb",
   "metadata": {},
   "outputs": [
    {
     "name": "stdout",
     "output_type": "stream",
     "text": [
      "2에서 시작해서 100번 경사 하강법(학습율 = 0.01)을(를) 적용한 결과는 0.265 입니다.\n"
     ]
    }
   ],
   "source": [
    "ex.run(2, 100) # 2에서 출발해서 경사 하강법 100번 적용한다."
   ]
  },
  {
   "cell_type": "code",
   "execution_count": 12,
   "id": "97da7438",
   "metadata": {},
   "outputs": [
    {
     "data": {
      "image/png": "[encoded data removed]",
      "text/plain": [
       "<Figure size 640x480 with 1 Axes>"
      ]
     },
     "metadata": {},
     "output_type": "display_data"
    }
   ],
   "source": [
    "ex.visualize(-1, 2.5) # 경사 하강법 실행 결과 시각화"
   ]
  },
  {
   "cell_type": "code",
   "execution_count": 13,
   "id": "a1d3262b",
   "metadata": {
    "scrolled": true
   },
   "outputs": [
    {
     "name": "stdout",
     "output_type": "stream",
     "text": [
      "  1번 경사 하강법(학습율 = 0.01)을(를) 적용한 결과는 2.000 입니다.\n",
      "  2번 경사 하강법(학습율 = 0.01)을(를) 적용한 결과는 1.960 입니다.\n",
      "  3번 경사 하강법(학습율 = 0.01)을(를) 적용한 결과는 1.921 입니다.\n",
      "  4번 경사 하강법(학습율 = 0.01)을(를) 적용한 결과는 1.882 입니다.\n",
      "  5번 경사 하강법(학습율 = 0.01)을(를) 적용한 결과는 1.845 입니다.\n",
      "  6번 경사 하강법(학습율 = 0.01)을(를) 적용한 결과는 1.808 입니다.\n",
      "  7번 경사 하강법(학습율 = 0.01)을(를) 적용한 결과는 1.772 입니다.\n",
      "  8번 경사 하강법(학습율 = 0.01)을(를) 적용한 결과는 1.736 입니다.\n",
      "  9번 경사 하강법(학습율 = 0.01)을(를) 적용한 결과는 1.702 입니다.\n",
      " 10번 경사 하강법(학습율 = 0.01)을(를) 적용한 결과는 1.667 입니다.\n",
      " 11번 경사 하강법(학습율 = 0.01)을(를) 적용한 결과는 1.634 입니다.\n",
      " 12번 경사 하강법(학습율 = 0.01)을(를) 적용한 결과는 1.601 입니다.\n",
      " 13번 경사 하강법(학습율 = 0.01)을(를) 적용한 결과는 1.569 입니다.\n",
      " 14번 경사 하강법(학습율 = 0.01)을(를) 적용한 결과는 1.538 입니다.\n",
      " 15번 경사 하강법(학습율 = 0.01)을(를) 적용한 결과는 1.507 입니다.\n",
      " 16번 경사 하강법(학습율 = 0.01)을(를) 적용한 결과는 1.477 입니다.\n",
      " 17번 경사 하강법(학습율 = 0.01)을(를) 적용한 결과는 1.448 입니다.\n",
      " 18번 경사 하강법(학습율 = 0.01)을(를) 적용한 결과는 1.419 입니다.\n",
      " 19번 경사 하강법(학습율 = 0.01)을(를) 적용한 결과는 1.390 입니다.\n",
      " 20번 경사 하강법(학습율 = 0.01)을(를) 적용한 결과는 1.362 입니다.\n",
      " 21번 경사 하강법(학습율 = 0.01)을(를) 적용한 결과는 1.335 입니다.\n",
      " 22번 경사 하강법(학습율 = 0.01)을(를) 적용한 결과는 1.309 입니다.\n",
      " 23번 경사 하강법(학습율 = 0.01)을(를) 적용한 결과는 1.282 입니다.\n",
      " 24번 경사 하강법(학습율 = 0.01)을(를) 적용한 결과는 1.257 입니다.\n",
      " 25번 경사 하강법(학습율 = 0.01)을(를) 적용한 결과는 1.232 입니다.\n",
      " 26번 경사 하강법(학습율 = 0.01)을(를) 적용한 결과는 1.207 입니다.\n",
      " 27번 경사 하강법(학습율 = 0.01)을(를) 적용한 결과는 1.183 입니다.\n",
      " 28번 경사 하강법(학습율 = 0.01)을(를) 적용한 결과는 1.159 입니다.\n",
      " 29번 경사 하강법(학습율 = 0.01)을(를) 적용한 결과는 1.136 입니다.\n",
      " 30번 경사 하강법(학습율 = 0.01)을(를) 적용한 결과는 1.113 입니다.\n",
      " 31번 경사 하강법(학습율 = 0.01)을(를) 적용한 결과는 1.091 입니다.\n",
      " 32번 경사 하강법(학습율 = 0.01)을(를) 적용한 결과는 1.069 입니다.\n",
      " 33번 경사 하강법(학습율 = 0.01)을(를) 적용한 결과는 1.048 입니다.\n",
      " 34번 경사 하강법(학습율 = 0.01)을(를) 적용한 결과는 1.027 입니다.\n",
      " 35번 경사 하강법(학습율 = 0.01)을(를) 적용한 결과는 1.006 입니다.\n",
      " 36번 경사 하강법(학습율 = 0.01)을(를) 적용한 결과는 0.986 입니다.\n",
      " 37번 경사 하강법(학습율 = 0.01)을(를) 적용한 결과는 0.966 입니다.\n",
      " 38번 경사 하강법(학습율 = 0.01)을(를) 적용한 결과는 0.947 입니다.\n",
      " 39번 경사 하강법(학습율 = 0.01)을(를) 적용한 결과는 0.928 입니다.\n",
      " 40번 경사 하강법(학습율 = 0.01)을(를) 적용한 결과는 0.910 입니다.\n",
      " 41번 경사 하강법(학습율 = 0.01)을(를) 적용한 결과는 0.891 입니다.\n",
      " 42번 경사 하강법(학습율 = 0.01)을(를) 적용한 결과는 0.874 입니다.\n",
      " 43번 경사 하강법(학습율 = 0.01)을(를) 적용한 결과는 0.856 입니다.\n",
      " 44번 경사 하강법(학습율 = 0.01)을(를) 적용한 결과는 0.839 입니다.\n",
      " 45번 경사 하강법(학습율 = 0.01)을(를) 적용한 결과는 0.822 입니다.\n",
      " 46번 경사 하강법(학습율 = 0.01)을(를) 적용한 결과는 0.806 입니다.\n",
      " 47번 경사 하강법(학습율 = 0.01)을(를) 적용한 결과는 0.790 입니다.\n",
      " 48번 경사 하강법(학습율 = 0.01)을(를) 적용한 결과는 0.774 입니다.\n",
      " 49번 경사 하강법(학습율 = 0.01)을(를) 적용한 결과는 0.758 입니다.\n",
      " 50번 경사 하강법(학습율 = 0.01)을(를) 적용한 결과는 0.743 입니다.\n",
      " 51번 경사 하강법(학습율 = 0.01)을(를) 적용한 결과는 0.728 입니다.\n",
      " 52번 경사 하강법(학습율 = 0.01)을(를) 적용한 결과는 0.714 입니다.\n",
      " 53번 경사 하강법(학습율 = 0.01)을(를) 적용한 결과는 0.699 입니다.\n",
      " 54번 경사 하강법(학습율 = 0.01)을(를) 적용한 결과는 0.686 입니다.\n",
      " 55번 경사 하강법(학습율 = 0.01)을(를) 적용한 결과는 0.672 입니다.\n",
      " 56번 경사 하강법(학습율 = 0.01)을(를) 적용한 결과는 0.658 입니다.\n",
      " 57번 경사 하강법(학습율 = 0.01)을(를) 적용한 결과는 0.645 입니다.\n",
      " 58번 경사 하강법(학습율 = 0.01)을(를) 적용한 결과는 0.632 입니다.\n",
      " 59번 경사 하강법(학습율 = 0.01)을(를) 적용한 결과는 0.620 입니다.\n",
      " 60번 경사 하강법(학습율 = 0.01)을(를) 적용한 결과는 0.607 입니다.\n",
      " 61번 경사 하강법(학습율 = 0.01)을(를) 적용한 결과는 0.595 입니다.\n",
      " 62번 경사 하강법(학습율 = 0.01)을(를) 적용한 결과는 0.583 입니다.\n",
      " 63번 경사 하강법(학습율 = 0.01)을(를) 적용한 결과는 0.572 입니다.\n",
      " 64번 경사 하강법(학습율 = 0.01)을(를) 적용한 결과는 0.560 입니다.\n",
      " 65번 경사 하강법(학습율 = 0.01)을(를) 적용한 결과는 0.549 입니다.\n",
      " 66번 경사 하강법(학습율 = 0.01)을(를) 적용한 결과는 0.538 입니다.\n",
      " 67번 경사 하강법(학습율 = 0.01)을(를) 적용한 결과는 0.527 입니다.\n",
      " 68번 경사 하강법(학습율 = 0.01)을(를) 적용한 결과는 0.517 입니다.\n",
      " 69번 경사 하강법(학습율 = 0.01)을(를) 적용한 결과는 0.506 입니다.\n",
      " 70번 경사 하강법(학습율 = 0.01)을(를) 적용한 결과는 0.496 입니다.\n",
      " 71번 경사 하강법(학습율 = 0.01)을(를) 적용한 결과는 0.486 입니다.\n",
      " 72번 경사 하강법(학습율 = 0.01)을(를) 적용한 결과는 0.477 입니다.\n",
      " 73번 경사 하강법(학습율 = 0.01)을(를) 적용한 결과는 0.467 입니다.\n",
      " 74번 경사 하강법(학습율 = 0.01)을(를) 적용한 결과는 0.458 입니다.\n",
      " 75번 경사 하강법(학습율 = 0.01)을(를) 적용한 결과는 0.448 입니다.\n",
      " 76번 경사 하강법(학습율 = 0.01)을(를) 적용한 결과는 0.440 입니다.\n",
      " 77번 경사 하강법(학습율 = 0.01)을(를) 적용한 결과는 0.431 입니다.\n",
      " 78번 경사 하강법(학습율 = 0.01)을(를) 적용한 결과는 0.422 입니다.\n",
      " 79번 경사 하강법(학습율 = 0.01)을(를) 적용한 결과는 0.414 입니다.\n",
      " 80번 경사 하강법(학습율 = 0.01)을(를) 적용한 결과는 0.405 입니다.\n",
      " 81번 경사 하강법(학습율 = 0.01)을(를) 적용한 결과는 0.397 입니다.\n",
      " 82번 경사 하강법(학습율 = 0.01)을(를) 적용한 결과는 0.389 입니다.\n",
      " 83번 경사 하강법(학습율 = 0.01)을(를) 적용한 결과는 0.382 입니다.\n",
      " 84번 경사 하강법(학습율 = 0.01)을(를) 적용한 결과는 0.374 입니다.\n",
      " 85번 경사 하강법(학습율 = 0.01)을(를) 적용한 결과는 0.366 입니다.\n",
      " 86번 경사 하강법(학습율 = 0.01)을(를) 적용한 결과는 0.359 입니다.\n",
      " 87번 경사 하강법(학습율 = 0.01)을(를) 적용한 결과는 0.352 입니다.\n",
      " 88번 경사 하강법(학습율 = 0.01)을(를) 적용한 결과는 0.345 입니다.\n",
      " 89번 경사 하강법(학습율 = 0.01)을(를) 적용한 결과는 0.338 입니다.\n",
      " 90번 경사 하강법(학습율 = 0.01)을(를) 적용한 결과는 0.331 입니다.\n",
      " 91번 경사 하강법(학습율 = 0.01)을(를) 적용한 결과는 0.325 입니다.\n",
      " 92번 경사 하강법(학습율 = 0.01)을(를) 적용한 결과는 0.318 입니다.\n",
      " 93번 경사 하강법(학습율 = 0.01)을(를) 적용한 결과는 0.312 입니다.\n",
      " 94번 경사 하강법(학습율 = 0.01)을(를) 적용한 결과는 0.306 입니다.\n",
      " 95번 경사 하강법(학습율 = 0.01)을(를) 적용한 결과는 0.299 입니다.\n",
      " 96번 경사 하강법(학습율 = 0.01)을(를) 적용한 결과는 0.293 입니다.\n",
      " 97번 경사 하강법(학습율 = 0.01)을(를) 적용한 결과는 0.288 입니다.\n",
      " 98번 경사 하강법(학습율 = 0.01)을(를) 적용한 결과는 0.282 입니다.\n",
      " 99번 경사 하강법(학습율 = 0.01)을(를) 적용한 결과는 0.276 입니다.\n",
      "100번 경사 하강법(학습율 = 0.01)을(를) 적용한 결과는 0.271 입니다.\n",
      "101번 경사 하강법(학습율 = 0.01)을(를) 적용한 결과는 0.265 입니다.\n"
     ]
    }
   ],
   "source": [
    "ex.history()"
   ]
  },
  {
   "cell_type": "code",
   "execution_count": 14,
   "id": "aeb8574a",
   "metadata": {
    "scrolled": true
   },
   "outputs": [
    {
     "name": "stdout",
     "output_type": "stream",
     "text": [
      "2에서 시작해서 100번 경사 하강법(학습율 = 0.1)을(를) 적용한 결과는 0.000 입니다.\n"
     ]
    },
    {
     "data": {
      "image/png": "[encoded data removed]",
      "text/plain": [
       "<Figure size 640x480 with 1 Axes>"
      ]
     },
     "metadata": {},
     "output_type": "display_data"
    },
    {
     "name": "stdout",
     "output_type": "stream",
     "text": [
      "  1번 경사 하강법(학습율 = 0.1)을(를) 적용한 결과는 2.000 입니다.\n",
      "  2번 경사 하강법(학습율 = 0.1)을(를) 적용한 결과는 1.600 입니다.\n",
      "  3번 경사 하강법(학습율 = 0.1)을(를) 적용한 결과는 1.280 입니다.\n",
      "  4번 경사 하강법(학습율 = 0.1)을(를) 적용한 결과는 1.024 입니다.\n",
      "  5번 경사 하강법(학습율 = 0.1)을(를) 적용한 결과는 0.819 입니다.\n",
      "  6번 경사 하강법(학습율 = 0.1)을(를) 적용한 결과는 0.655 입니다.\n",
      "  7번 경사 하강법(학습율 = 0.1)을(를) 적용한 결과는 0.524 입니다.\n",
      "  8번 경사 하강법(학습율 = 0.1)을(를) 적용한 결과는 0.419 입니다.\n",
      "  9번 경사 하강법(학습율 = 0.1)을(를) 적용한 결과는 0.336 입니다.\n",
      " 10번 경사 하강법(학습율 = 0.1)을(를) 적용한 결과는 0.268 입니다.\n",
      " 11번 경사 하강법(학습율 = 0.1)을(를) 적용한 결과는 0.215 입니다.\n",
      " 12번 경사 하강법(학습율 = 0.1)을(를) 적용한 결과는 0.172 입니다.\n",
      " 13번 경사 하강법(학습율 = 0.1)을(를) 적용한 결과는 0.137 입니다.\n",
      " 14번 경사 하강법(학습율 = 0.1)을(를) 적용한 결과는 0.110 입니다.\n",
      " 15번 경사 하강법(학습율 = 0.1)을(를) 적용한 결과는 0.088 입니다.\n",
      " 16번 경사 하강법(학습율 = 0.1)을(를) 적용한 결과는 0.070 입니다.\n",
      " 17번 경사 하강법(학습율 = 0.1)을(를) 적용한 결과는 0.056 입니다.\n",
      " 18번 경사 하강법(학습율 = 0.1)을(를) 적용한 결과는 0.045 입니다.\n",
      " 19번 경사 하강법(학습율 = 0.1)을(를) 적용한 결과는 0.036 입니다.\n",
      " 20번 경사 하강법(학습율 = 0.1)을(를) 적용한 결과는 0.029 입니다.\n",
      " 21번 경사 하강법(학습율 = 0.1)을(를) 적용한 결과는 0.023 입니다.\n",
      " 22번 경사 하강법(학습율 = 0.1)을(를) 적용한 결과는 0.018 입니다.\n",
      " 23번 경사 하강법(학습율 = 0.1)을(를) 적용한 결과는 0.015 입니다.\n",
      " 24번 경사 하강법(학습율 = 0.1)을(를) 적용한 결과는 0.012 입니다.\n",
      " 25번 경사 하강법(학습율 = 0.1)을(를) 적용한 결과는 0.009 입니다.\n",
      " 26번 경사 하강법(학습율 = 0.1)을(를) 적용한 결과는 0.008 입니다.\n",
      " 27번 경사 하강법(학습율 = 0.1)을(를) 적용한 결과는 0.006 입니다.\n",
      " 28번 경사 하강법(학습율 = 0.1)을(를) 적용한 결과는 0.005 입니다.\n",
      " 29번 경사 하강법(학습율 = 0.1)을(를) 적용한 결과는 0.004 입니다.\n",
      " 30번 경사 하강법(학습율 = 0.1)을(를) 적용한 결과는 0.003 입니다.\n",
      " 31번 경사 하강법(학습율 = 0.1)을(를) 적용한 결과는 0.002 입니다.\n",
      " 32번 경사 하강법(학습율 = 0.1)을(를) 적용한 결과는 0.002 입니다.\n",
      " 33번 경사 하강법(학습율 = 0.1)을(를) 적용한 결과는 0.002 입니다.\n",
      " 34번 경사 하강법(학습율 = 0.1)을(를) 적용한 결과는 0.001 입니다.\n",
      " 35번 경사 하강법(학습율 = 0.1)을(를) 적용한 결과는 0.001 입니다.\n",
      " 36번 경사 하강법(학습율 = 0.1)을(를) 적용한 결과는 0.001 입니다.\n",
      " 37번 경사 하강법(학습율 = 0.1)을(를) 적용한 결과는 0.001 입니다.\n",
      " 38번 경사 하강법(학습율 = 0.1)을(를) 적용한 결과는 0.001 입니다.\n",
      " 39번 경사 하강법(학습율 = 0.1)을(를) 적용한 결과는 0.000 입니다.\n",
      " 40번 경사 하강법(학습율 = 0.1)을(를) 적용한 결과는 0.000 입니다.\n",
      " 41번 경사 하강법(학습율 = 0.1)을(를) 적용한 결과는 0.000 입니다.\n",
      " 42번 경사 하강법(학습율 = 0.1)을(를) 적용한 결과는 0.000 입니다.\n",
      " 43번 경사 하강법(학습율 = 0.1)을(를) 적용한 결과는 0.000 입니다.\n",
      " 44번 경사 하강법(학습율 = 0.1)을(를) 적용한 결과는 0.000 입니다.\n",
      " 45번 경사 하강법(학습율 = 0.1)을(를) 적용한 결과는 0.000 입니다.\n",
      " 46번 경사 하강법(학습율 = 0.1)을(를) 적용한 결과는 0.000 입니다.\n",
      " 47번 경사 하강법(학습율 = 0.1)을(를) 적용한 결과는 0.000 입니다.\n",
      " 48번 경사 하강법(학습율 = 0.1)을(를) 적용한 결과는 0.000 입니다.\n",
      " 49번 경사 하강법(학습율 = 0.1)을(를) 적용한 결과는 0.000 입니다.\n",
      " 50번 경사 하강법(학습율 = 0.1)을(를) 적용한 결과는 0.000 입니다.\n",
      " 51번 경사 하강법(학습율 = 0.1)을(를) 적용한 결과는 0.000 입니다.\n",
      " 52번 경사 하강법(학습율 = 0.1)을(를) 적용한 결과는 0.000 입니다.\n",
      " 53번 경사 하강법(학습율 = 0.1)을(를) 적용한 결과는 0.000 입니다.\n",
      " 54번 경사 하강법(학습율 = 0.1)을(를) 적용한 결과는 0.000 입니다.\n",
      " 55번 경사 하강법(학습율 = 0.1)을(를) 적용한 결과는 0.000 입니다.\n",
      " 56번 경사 하강법(학습율 = 0.1)을(를) 적용한 결과는 0.000 입니다.\n",
      " 57번 경사 하강법(학습율 = 0.1)을(를) 적용한 결과는 0.000 입니다.\n",
      " 58번 경사 하강법(학습율 = 0.1)을(를) 적용한 결과는 0.000 입니다.\n",
      " 59번 경사 하강법(학습율 = 0.1)을(를) 적용한 결과는 0.000 입니다.\n",
      " 60번 경사 하강법(학습율 = 0.1)을(를) 적용한 결과는 0.000 입니다.\n",
      " 61번 경사 하강법(학습율 = 0.1)을(를) 적용한 결과는 0.000 입니다.\n",
      " 62번 경사 하강법(학습율 = 0.1)을(를) 적용한 결과는 0.000 입니다.\n",
      " 63번 경사 하강법(학습율 = 0.1)을(를) 적용한 결과는 0.000 입니다.\n",
      " 64번 경사 하강법(학습율 = 0.1)을(를) 적용한 결과는 0.000 입니다.\n",
      " 65번 경사 하강법(학습율 = 0.1)을(를) 적용한 결과는 0.000 입니다.\n",
      " 66번 경사 하강법(학습율 = 0.1)을(를) 적용한 결과는 0.000 입니다.\n",
      " 67번 경사 하강법(학습율 = 0.1)을(를) 적용한 결과는 0.000 입니다.\n",
      " 68번 경사 하강법(학습율 = 0.1)을(를) 적용한 결과는 0.000 입니다.\n",
      " 69번 경사 하강법(학습율 = 0.1)을(를) 적용한 결과는 0.000 입니다.\n",
      " 70번 경사 하강법(학습율 = 0.1)을(를) 적용한 결과는 0.000 입니다.\n",
      " 71번 경사 하강법(학습율 = 0.1)을(를) 적용한 결과는 0.000 입니다.\n",
      " 72번 경사 하강법(학습율 = 0.1)을(를) 적용한 결과는 0.000 입니다.\n",
      " 73번 경사 하강법(학습율 = 0.1)을(를) 적용한 결과는 0.000 입니다.\n",
      " 74번 경사 하강법(학습율 = 0.1)을(를) 적용한 결과는 0.000 입니다.\n",
      " 75번 경사 하강법(학습율 = 0.1)을(를) 적용한 결과는 0.000 입니다.\n",
      " 76번 경사 하강법(학습율 = 0.1)을(를) 적용한 결과는 0.000 입니다.\n",
      " 77번 경사 하강법(학습율 = 0.1)을(를) 적용한 결과는 0.000 입니다.\n",
      " 78번 경사 하강법(학습율 = 0.1)을(를) 적용한 결과는 0.000 입니다.\n",
      " 79번 경사 하강법(학습율 = 0.1)을(를) 적용한 결과는 0.000 입니다.\n",
      " 80번 경사 하강법(학습율 = 0.1)을(를) 적용한 결과는 0.000 입니다.\n",
      " 81번 경사 하강법(학습율 = 0.1)을(를) 적용한 결과는 0.000 입니다.\n",
      " 82번 경사 하강법(학습율 = 0.1)을(를) 적용한 결과는 0.000 입니다.\n",
      " 83번 경사 하강법(학습율 = 0.1)을(를) 적용한 결과는 0.000 입니다.\n",
      " 84번 경사 하강법(학습율 = 0.1)을(를) 적용한 결과는 0.000 입니다.\n",
      " 85번 경사 하강법(학습율 = 0.1)을(를) 적용한 결과는 0.000 입니다.\n",
      " 86번 경사 하강법(학습율 = 0.1)을(를) 적용한 결과는 0.000 입니다.\n",
      " 87번 경사 하강법(학습율 = 0.1)을(를) 적용한 결과는 0.000 입니다.\n",
      " 88번 경사 하강법(학습율 = 0.1)을(를) 적용한 결과는 0.000 입니다.\n",
      " 89번 경사 하강법(학습율 = 0.1)을(를) 적용한 결과는 0.000 입니다.\n",
      " 90번 경사 하강법(학습율 = 0.1)을(를) 적용한 결과는 0.000 입니다.\n",
      " 91번 경사 하강법(학습율 = 0.1)을(를) 적용한 결과는 0.000 입니다.\n",
      " 92번 경사 하강법(학습율 = 0.1)을(를) 적용한 결과는 0.000 입니다.\n",
      " 93번 경사 하강법(학습율 = 0.1)을(를) 적용한 결과는 0.000 입니다.\n",
      " 94번 경사 하강법(학습율 = 0.1)을(를) 적용한 결과는 0.000 입니다.\n",
      " 95번 경사 하강법(학습율 = 0.1)을(를) 적용한 결과는 0.000 입니다.\n",
      " 96번 경사 하강법(학습율 = 0.1)을(를) 적용한 결과는 0.000 입니다.\n",
      " 97번 경사 하강법(학습율 = 0.1)을(를) 적용한 결과는 0.000 입니다.\n",
      " 98번 경사 하강법(학습율 = 0.1)을(를) 적용한 결과는 0.000 입니다.\n",
      " 99번 경사 하강법(학습율 = 0.1)을(를) 적용한 결과는 0.000 입니다.\n",
      "100번 경사 하강법(학습율 = 0.1)을(를) 적용한 결과는 0.000 입니다.\n",
      "101번 경사 하강법(학습율 = 0.1)을(를) 적용한 결과는 0.000 입니다.\n"
     ]
    }
   ],
   "source": [
    "opti = descent(0.1) # 학습율을 0.01에서 0.1로 변경한 경사 하강법\n",
    "ex = one_variable_ftn(f, opti)\n",
    "ex.run(2, 100)\n",
    "ex.visualize(-1, 2.5)\n",
    "ex.history()"
   ]
  },
  {
   "cell_type": "code",
   "execution_count": 15,
   "id": "5bfa1435",
   "metadata": {
    "scrolled": true
   },
   "outputs": [
    {
     "name": "stdout",
     "output_type": "stream",
     "text": [
      "2에서 시작해서 100번 경사 하강법(학습율 = 1)을(를) 적용한 결과는 2.000 입니다.\n"
     ]
    },
    {
     "data": {
      "image/png": "[encoded data removed]",
      "text/plain": [
       "<Figure size 640x480 with 1 Axes>"
      ]
     },
     "metadata": {},
     "output_type": "display_data"
    },
    {
     "name": "stdout",
     "output_type": "stream",
     "text": [
      "  1번 경사 하강법(학습율 = 1)을(를) 적용한 결과는 2.000 입니다.\n",
      "  2번 경사 하강법(학습율 = 1)을(를) 적용한 결과는 -2.000 입니다.\n",
      "  3번 경사 하강법(학습율 = 1)을(를) 적용한 결과는 2.000 입니다.\n",
      "  4번 경사 하강법(학습율 = 1)을(를) 적용한 결과는 -2.000 입니다.\n",
      "  5번 경사 하강법(학습율 = 1)을(를) 적용한 결과는 2.000 입니다.\n",
      "  6번 경사 하강법(학습율 = 1)을(를) 적용한 결과는 -2.000 입니다.\n",
      "  7번 경사 하강법(학습율 = 1)을(를) 적용한 결과는 2.000 입니다.\n",
      "  8번 경사 하강법(학습율 = 1)을(를) 적용한 결과는 -2.000 입니다.\n",
      "  9번 경사 하강법(학습율 = 1)을(를) 적용한 결과는 2.000 입니다.\n",
      " 10번 경사 하강법(학습율 = 1)을(를) 적용한 결과는 -2.000 입니다.\n",
      " 11번 경사 하강법(학습율 = 1)을(를) 적용한 결과는 2.000 입니다.\n",
      " 12번 경사 하강법(학습율 = 1)을(를) 적용한 결과는 -2.000 입니다.\n",
      " 13번 경사 하강법(학습율 = 1)을(를) 적용한 결과는 2.000 입니다.\n",
      " 14번 경사 하강법(학습율 = 1)을(를) 적용한 결과는 -2.000 입니다.\n",
      " 15번 경사 하강법(학습율 = 1)을(를) 적용한 결과는 2.000 입니다.\n",
      " 16번 경사 하강법(학습율 = 1)을(를) 적용한 결과는 -2.000 입니다.\n",
      " 17번 경사 하강법(학습율 = 1)을(를) 적용한 결과는 2.000 입니다.\n",
      " 18번 경사 하강법(학습율 = 1)을(를) 적용한 결과는 -2.000 입니다.\n",
      " 19번 경사 하강법(학습율 = 1)을(를) 적용한 결과는 2.000 입니다.\n",
      " 20번 경사 하강법(학습율 = 1)을(를) 적용한 결과는 -2.000 입니다.\n",
      " 21번 경사 하강법(학습율 = 1)을(를) 적용한 결과는 2.000 입니다.\n",
      " 22번 경사 하강법(학습율 = 1)을(를) 적용한 결과는 -2.000 입니다.\n",
      " 23번 경사 하강법(학습율 = 1)을(를) 적용한 결과는 2.000 입니다.\n",
      " 24번 경사 하강법(학습율 = 1)을(를) 적용한 결과는 -2.000 입니다.\n",
      " 25번 경사 하강법(학습율 = 1)을(를) 적용한 결과는 2.000 입니다.\n",
      " 26번 경사 하강법(학습율 = 1)을(를) 적용한 결과는 -2.000 입니다.\n",
      " 27번 경사 하강법(학습율 = 1)을(를) 적용한 결과는 2.000 입니다.\n",
      " 28번 경사 하강법(학습율 = 1)을(를) 적용한 결과는 -2.000 입니다.\n",
      " 29번 경사 하강법(학습율 = 1)을(를) 적용한 결과는 2.000 입니다.\n",
      " 30번 경사 하강법(학습율 = 1)을(를) 적용한 결과는 -2.000 입니다.\n",
      " 31번 경사 하강법(학습율 = 1)을(를) 적용한 결과는 2.000 입니다.\n",
      " 32번 경사 하강법(학습율 = 1)을(를) 적용한 결과는 -2.000 입니다.\n",
      " 33번 경사 하강법(학습율 = 1)을(를) 적용한 결과는 2.000 입니다.\n",
      " 34번 경사 하강법(학습율 = 1)을(를) 적용한 결과는 -2.000 입니다.\n",
      " 35번 경사 하강법(학습율 = 1)을(를) 적용한 결과는 2.000 입니다.\n",
      " 36번 경사 하강법(학습율 = 1)을(를) 적용한 결과는 -2.000 입니다.\n",
      " 37번 경사 하강법(학습율 = 1)을(를) 적용한 결과는 2.000 입니다.\n",
      " 38번 경사 하강법(학습율 = 1)을(를) 적용한 결과는 -2.000 입니다.\n",
      " 39번 경사 하강법(학습율 = 1)을(를) 적용한 결과는 2.000 입니다.\n",
      " 40번 경사 하강법(학습율 = 1)을(를) 적용한 결과는 -2.000 입니다.\n",
      " 41번 경사 하강법(학습율 = 1)을(를) 적용한 결과는 2.000 입니다.\n",
      " 42번 경사 하강법(학습율 = 1)을(를) 적용한 결과는 -2.000 입니다.\n",
      " 43번 경사 하강법(학습율 = 1)을(를) 적용한 결과는 2.000 입니다.\n",
      " 44번 경사 하강법(학습율 = 1)을(를) 적용한 결과는 -2.000 입니다.\n",
      " 45번 경사 하강법(학습율 = 1)을(를) 적용한 결과는 2.000 입니다.\n",
      " 46번 경사 하강법(학습율 = 1)을(를) 적용한 결과는 -2.000 입니다.\n",
      " 47번 경사 하강법(학습율 = 1)을(를) 적용한 결과는 2.000 입니다.\n",
      " 48번 경사 하강법(학습율 = 1)을(를) 적용한 결과는 -2.000 입니다.\n",
      " 49번 경사 하강법(학습율 = 1)을(를) 적용한 결과는 2.000 입니다.\n",
      " 50번 경사 하강법(학습율 = 1)을(를) 적용한 결과는 -2.000 입니다.\n",
      " 51번 경사 하강법(학습율 = 1)을(를) 적용한 결과는 2.000 입니다.\n",
      " 52번 경사 하강법(학습율 = 1)을(를) 적용한 결과는 -2.000 입니다.\n",
      " 53번 경사 하강법(학습율 = 1)을(를) 적용한 결과는 2.000 입니다.\n",
      " 54번 경사 하강법(학습율 = 1)을(를) 적용한 결과는 -2.000 입니다.\n",
      " 55번 경사 하강법(학습율 = 1)을(를) 적용한 결과는 2.000 입니다.\n",
      " 56번 경사 하강법(학습율 = 1)을(를) 적용한 결과는 -2.000 입니다.\n",
      " 57번 경사 하강법(학습율 = 1)을(를) 적용한 결과는 2.000 입니다.\n",
      " 58번 경사 하강법(학습율 = 1)을(를) 적용한 결과는 -2.000 입니다.\n",
      " 59번 경사 하강법(학습율 = 1)을(를) 적용한 결과는 2.000 입니다.\n",
      " 60번 경사 하강법(학습율 = 1)을(를) 적용한 결과는 -2.000 입니다.\n",
      " 61번 경사 하강법(학습율 = 1)을(를) 적용한 결과는 2.000 입니다.\n",
      " 62번 경사 하강법(학습율 = 1)을(를) 적용한 결과는 -2.000 입니다.\n",
      " 63번 경사 하강법(학습율 = 1)을(를) 적용한 결과는 2.000 입니다.\n",
      " 64번 경사 하강법(학습율 = 1)을(를) 적용한 결과는 -2.000 입니다.\n",
      " 65번 경사 하강법(학습율 = 1)을(를) 적용한 결과는 2.000 입니다.\n",
      " 66번 경사 하강법(학습율 = 1)을(를) 적용한 결과는 -2.000 입니다.\n",
      " 67번 경사 하강법(학습율 = 1)을(를) 적용한 결과는 2.000 입니다.\n",
      " 68번 경사 하강법(학습율 = 1)을(를) 적용한 결과는 -2.000 입니다.\n",
      " 69번 경사 하강법(학습율 = 1)을(를) 적용한 결과는 2.000 입니다.\n",
      " 70번 경사 하강법(학습율 = 1)을(를) 적용한 결과는 -2.000 입니다.\n",
      " 71번 경사 하강법(학습율 = 1)을(를) 적용한 결과는 2.000 입니다.\n",
      " 72번 경사 하강법(학습율 = 1)을(를) 적용한 결과는 -2.000 입니다.\n",
      " 73번 경사 하강법(학습율 = 1)을(를) 적용한 결과는 2.000 입니다.\n",
      " 74번 경사 하강법(학습율 = 1)을(를) 적용한 결과는 -2.000 입니다.\n",
      " 75번 경사 하강법(학습율 = 1)을(를) 적용한 결과는 2.000 입니다.\n",
      " 76번 경사 하강법(학습율 = 1)을(를) 적용한 결과는 -2.000 입니다.\n",
      " 77번 경사 하강법(학습율 = 1)을(를) 적용한 결과는 2.000 입니다.\n",
      " 78번 경사 하강법(학습율 = 1)을(를) 적용한 결과는 -2.000 입니다.\n",
      " 79번 경사 하강법(학습율 = 1)을(를) 적용한 결과는 2.000 입니다.\n",
      " 80번 경사 하강법(학습율 = 1)을(를) 적용한 결과는 -2.000 입니다.\n",
      " 81번 경사 하강법(학습율 = 1)을(를) 적용한 결과는 2.000 입니다.\n",
      " 82번 경사 하강법(학습율 = 1)을(를) 적용한 결과는 -2.000 입니다.\n",
      " 83번 경사 하강법(학습율 = 1)을(를) 적용한 결과는 2.000 입니다.\n",
      " 84번 경사 하강법(학습율 = 1)을(를) 적용한 결과는 -2.000 입니다.\n",
      " 85번 경사 하강법(학습율 = 1)을(를) 적용한 결과는 2.000 입니다.\n",
      " 86번 경사 하강법(학습율 = 1)을(를) 적용한 결과는 -2.000 입니다.\n",
      " 87번 경사 하강법(학습율 = 1)을(를) 적용한 결과는 2.000 입니다.\n",
      " 88번 경사 하강법(학습율 = 1)을(를) 적용한 결과는 -2.000 입니다.\n",
      " 89번 경사 하강법(학습율 = 1)을(를) 적용한 결과는 2.000 입니다.\n",
      " 90번 경사 하강법(학습율 = 1)을(를) 적용한 결과는 -2.000 입니다.\n",
      " 91번 경사 하강법(학습율 = 1)을(를) 적용한 결과는 2.000 입니다.\n",
      " 92번 경사 하강법(학습율 = 1)을(를) 적용한 결과는 -2.000 입니다.\n",
      " 93번 경사 하강법(학습율 = 1)을(를) 적용한 결과는 2.000 입니다.\n",
      " 94번 경사 하강법(학습율 = 1)을(를) 적용한 결과는 -2.000 입니다.\n",
      " 95번 경사 하강법(학습율 = 1)을(를) 적용한 결과는 2.000 입니다.\n",
      " 96번 경사 하강법(학습율 = 1)을(를) 적용한 결과는 -2.000 입니다.\n",
      " 97번 경사 하강법(학습율 = 1)을(를) 적용한 결과는 2.000 입니다.\n",
      " 98번 경사 하강법(학습율 = 1)을(를) 적용한 결과는 -2.000 입니다.\n",
      " 99번 경사 하강법(학습율 = 1)을(를) 적용한 결과는 2.000 입니다.\n",
      "100번 경사 하강법(학습율 = 1)을(를) 적용한 결과는 -2.000 입니다.\n",
      "101번 경사 하강법(학습율 = 1)을(를) 적용한 결과는 2.000 입니다.\n"
     ]
    }
   ],
   "source": [
    "opti = descent(1) # 학습율을 0.01에서 1로 변경한 경사 하강법 => 학습율이 너무 크다.\n",
    "ex = one_variable_ftn(f, opti)\n",
    "ex.run(2, 100)\n",
    "ex.visualize(-1, 2.5)\n",
    "ex.history()"
   ]
  },
  {
   "cell_type": "code",
   "execution_count": 16,
   "id": "41ff6b59",
   "metadata": {},
   "outputs": [
    {
     "name": "stdout",
     "output_type": "stream",
     "text": [
      "2에서 시작해서 100번 경사 하강법(학습율 = 0.001)을(를) 적용한 결과는 1.637 입니다.\n"
     ]
    },
    {
     "data": {
      "image/png": "[encoded data removed]",
      "text/plain": [
       "<Figure size 640x480 with 1 Axes>"
      ]
     },
     "metadata": {},
     "output_type": "display_data"
    },
    {
     "name": "stdout",
     "output_type": "stream",
     "text": [
      "  1번 경사 하강법(학습율 = 0.001)을(를) 적용한 결과는 2.000 입니다.\n",
      "  2번 경사 하강법(학습율 = 0.001)을(를) 적용한 결과는 1.996 입니다.\n",
      "  3번 경사 하강법(학습율 = 0.001)을(를) 적용한 결과는 1.992 입니다.\n",
      "  4번 경사 하강법(학습율 = 0.001)을(를) 적용한 결과는 1.988 입니다.\n",
      "  5번 경사 하강법(학습율 = 0.001)을(를) 적용한 결과는 1.984 입니다.\n",
      "  6번 경사 하강법(학습율 = 0.001)을(를) 적용한 결과는 1.980 입니다.\n",
      "  7번 경사 하강법(학습율 = 0.001)을(를) 적용한 결과는 1.976 입니다.\n",
      "  8번 경사 하강법(학습율 = 0.001)을(를) 적용한 결과는 1.972 입니다.\n",
      "  9번 경사 하강법(학습율 = 0.001)을(를) 적용한 결과는 1.968 입니다.\n",
      " 10번 경사 하강법(학습율 = 0.001)을(를) 적용한 결과는 1.964 입니다.\n",
      " 11번 경사 하강법(학습율 = 0.001)을(를) 적용한 결과는 1.960 입니다.\n",
      " 12번 경사 하강법(학습율 = 0.001)을(를) 적용한 결과는 1.956 입니다.\n",
      " 13번 경사 하강법(학습율 = 0.001)을(를) 적용한 결과는 1.953 입니다.\n",
      " 14번 경사 하강법(학습율 = 0.001)을(를) 적용한 결과는 1.949 입니다.\n",
      " 15번 경사 하강법(학습율 = 0.001)을(를) 적용한 결과는 1.945 입니다.\n",
      " 16번 경사 하강법(학습율 = 0.001)을(를) 적용한 결과는 1.941 입니다.\n",
      " 17번 경사 하강법(학습율 = 0.001)을(를) 적용한 결과는 1.937 입니다.\n",
      " 18번 경사 하강법(학습율 = 0.001)을(를) 적용한 결과는 1.933 입니다.\n",
      " 19번 경사 하강법(학습율 = 0.001)을(를) 적용한 결과는 1.929 입니다.\n",
      " 20번 경사 하강법(학습율 = 0.001)을(를) 적용한 결과는 1.925 입니다.\n",
      " 21번 경사 하강법(학습율 = 0.001)을(를) 적용한 결과는 1.922 입니다.\n",
      " 22번 경사 하강법(학습율 = 0.001)을(를) 적용한 결과는 1.918 입니다.\n",
      " 23번 경사 하강법(학습율 = 0.001)을(를) 적용한 결과는 1.914 입니다.\n",
      " 24번 경사 하강법(학습율 = 0.001)을(를) 적용한 결과는 1.910 입니다.\n",
      " 25번 경사 하강법(학습율 = 0.001)을(를) 적용한 결과는 1.906 입니다.\n",
      " 26번 경사 하강법(학습율 = 0.001)을(를) 적용한 결과는 1.902 입니다.\n",
      " 27번 경사 하강법(학습율 = 0.001)을(를) 적용한 결과는 1.899 입니다.\n",
      " 28번 경사 하강법(학습율 = 0.001)을(를) 적용한 결과는 1.895 입니다.\n",
      " 29번 경사 하강법(학습율 = 0.001)을(를) 적용한 결과는 1.891 입니다.\n",
      " 30번 경사 하강법(학습율 = 0.001)을(를) 적용한 결과는 1.887 입니다.\n",
      " 31번 경사 하강법(학습율 = 0.001)을(를) 적용한 결과는 1.883 입니다.\n",
      " 32번 경사 하강법(학습율 = 0.001)을(를) 적용한 결과는 1.880 입니다.\n",
      " 33번 경사 하강법(학습율 = 0.001)을(를) 적용한 결과는 1.876 입니다.\n",
      " 34번 경사 하강법(학습율 = 0.001)을(를) 적용한 결과는 1.872 입니다.\n",
      " 35번 경사 하강법(학습율 = 0.001)을(를) 적용한 결과는 1.868 입니다.\n",
      " 36번 경사 하강법(학습율 = 0.001)을(를) 적용한 결과는 1.865 입니다.\n",
      " 37번 경사 하강법(학습율 = 0.001)을(를) 적용한 결과는 1.861 입니다.\n",
      " 38번 경사 하강법(학습율 = 0.001)을(를) 적용한 결과는 1.857 입니다.\n",
      " 39번 경사 하강법(학습율 = 0.001)을(를) 적용한 결과는 1.853 입니다.\n",
      " 40번 경사 하강법(학습율 = 0.001)을(를) 적용한 결과는 1.850 입니다.\n",
      " 41번 경사 하강법(학습율 = 0.001)을(를) 적용한 결과는 1.846 입니다.\n",
      " 42번 경사 하강법(학습율 = 0.001)을(를) 적용한 결과는 1.842 입니다.\n",
      " 43번 경사 하강법(학습율 = 0.001)을(를) 적용한 결과는 1.839 입니다.\n",
      " 44번 경사 하강법(학습율 = 0.001)을(를) 적용한 결과는 1.835 입니다.\n",
      " 45번 경사 하강법(학습율 = 0.001)을(를) 적용한 결과는 1.831 입니다.\n",
      " 46번 경사 하강법(학습율 = 0.001)을(를) 적용한 결과는 1.828 입니다.\n",
      " 47번 경사 하강법(학습율 = 0.001)을(를) 적용한 결과는 1.824 입니다.\n",
      " 48번 경사 하강법(학습율 = 0.001)을(를) 적용한 결과는 1.820 입니다.\n",
      " 49번 경사 하강법(학습율 = 0.001)을(를) 적용한 결과는 1.817 입니다.\n",
      " 50번 경사 하강법(학습율 = 0.001)을(를) 적용한 결과는 1.813 입니다.\n",
      " 51번 경사 하강법(학습율 = 0.001)을(를) 적용한 결과는 1.809 입니다.\n",
      " 52번 경사 하강법(학습율 = 0.001)을(를) 적용한 결과는 1.806 입니다.\n",
      " 53번 경사 하강법(학습율 = 0.001)을(를) 적용한 결과는 1.802 입니다.\n",
      " 54번 경사 하강법(학습율 = 0.001)을(를) 적용한 결과는 1.799 입니다.\n",
      " 55번 경사 하강법(학습율 = 0.001)을(를) 적용한 결과는 1.795 입니다.\n",
      " 56번 경사 하강법(학습율 = 0.001)을(를) 적용한 결과는 1.791 입니다.\n",
      " 57번 경사 하강법(학습율 = 0.001)을(를) 적용한 결과는 1.788 입니다.\n",
      " 58번 경사 하강법(학습율 = 0.001)을(를) 적용한 결과는 1.784 입니다.\n",
      " 59번 경사 하강법(학습율 = 0.001)을(를) 적용한 결과는 1.781 입니다.\n",
      " 60번 경사 하강법(학습율 = 0.001)을(를) 적용한 결과는 1.777 입니다.\n",
      " 61번 경사 하강법(학습율 = 0.001)을(를) 적용한 결과는 1.774 입니다.\n",
      " 62번 경사 하강법(학습율 = 0.001)을(를) 적용한 결과는 1.770 입니다.\n",
      " 63번 경사 하강법(학습율 = 0.001)을(를) 적용한 결과는 1.767 입니다.\n",
      " 64번 경사 하강법(학습율 = 0.001)을(를) 적용한 결과는 1.763 입니다.\n",
      " 65번 경사 하강법(학습율 = 0.001)을(를) 적용한 결과는 1.759 입니다.\n",
      " 66번 경사 하강법(학습율 = 0.001)을(를) 적용한 결과는 1.756 입니다.\n",
      " 67번 경사 하강법(학습율 = 0.001)을(를) 적용한 결과는 1.752 입니다.\n",
      " 68번 경사 하강법(학습율 = 0.001)을(를) 적용한 결과는 1.749 입니다.\n",
      " 69번 경사 하강법(학습율 = 0.001)을(를) 적용한 결과는 1.745 입니다.\n",
      " 70번 경사 하강법(학습율 = 0.001)을(를) 적용한 결과는 1.742 입니다.\n",
      " 71번 경사 하강법(학습율 = 0.001)을(를) 적용한 결과는 1.738 입니다.\n",
      " 72번 경사 하강법(학습율 = 0.001)을(를) 적용한 결과는 1.735 입니다.\n",
      " 73번 경사 하강법(학습율 = 0.001)을(를) 적용한 결과는 1.732 입니다.\n",
      " 74번 경사 하강법(학습율 = 0.001)을(를) 적용한 결과는 1.728 입니다.\n",
      " 75번 경사 하강법(학습율 = 0.001)을(를) 적용한 결과는 1.725 입니다.\n",
      " 76번 경사 하강법(학습율 = 0.001)을(를) 적용한 결과는 1.721 입니다.\n",
      " 77번 경사 하강법(학습율 = 0.001)을(를) 적용한 결과는 1.718 입니다.\n",
      " 78번 경사 하강법(학습율 = 0.001)을(를) 적용한 결과는 1.714 입니다.\n",
      " 79번 경사 하강법(학습율 = 0.001)을(를) 적용한 결과는 1.711 입니다.\n",
      " 80번 경사 하강법(학습율 = 0.001)을(를) 적용한 결과는 1.707 입니다.\n",
      " 81번 경사 하강법(학습율 = 0.001)을(를) 적용한 결과는 1.704 입니다.\n",
      " 82번 경사 하강법(학습율 = 0.001)을(를) 적용한 결과는 1.701 입니다.\n",
      " 83번 경사 하강법(학습율 = 0.001)을(를) 적용한 결과는 1.697 입니다.\n",
      " 84번 경사 하강법(학습율 = 0.001)을(를) 적용한 결과는 1.694 입니다.\n",
      " 85번 경사 하강법(학습율 = 0.001)을(를) 적용한 결과는 1.690 입니다.\n",
      " 86번 경사 하강법(학습율 = 0.001)을(를) 적용한 결과는 1.687 입니다.\n",
      " 87번 경사 하강법(학습율 = 0.001)을(를) 적용한 결과는 1.684 입니다.\n",
      " 88번 경사 하강법(학습율 = 0.001)을(를) 적용한 결과는 1.680 입니다.\n",
      " 89번 경사 하강법(학습율 = 0.001)을(를) 적용한 결과는 1.677 입니다.\n",
      " 90번 경사 하강법(학습율 = 0.001)을(를) 적용한 결과는 1.674 입니다.\n",
      " 91번 경사 하강법(학습율 = 0.001)을(를) 적용한 결과는 1.670 입니다.\n",
      " 92번 경사 하강법(학습율 = 0.001)을(를) 적용한 결과는 1.667 입니다.\n",
      " 93번 경사 하강법(학습율 = 0.001)을(를) 적용한 결과는 1.664 입니다.\n",
      " 94번 경사 하강법(학습율 = 0.001)을(를) 적용한 결과는 1.660 입니다.\n",
      " 95번 경사 하강법(학습율 = 0.001)을(를) 적용한 결과는 1.657 입니다.\n",
      " 96번 경사 하강법(학습율 = 0.001)을(를) 적용한 결과는 1.654 입니다.\n",
      " 97번 경사 하강법(학습율 = 0.001)을(를) 적용한 결과는 1.650 입니다.\n",
      " 98번 경사 하강법(학습율 = 0.001)을(를) 적용한 결과는 1.647 입니다.\n",
      " 99번 경사 하강법(학습율 = 0.001)을(를) 적용한 결과는 1.644 입니다.\n",
      "100번 경사 하강법(학습율 = 0.001)을(를) 적용한 결과는 1.640 입니다.\n",
      "101번 경사 하강법(학습율 = 0.001)을(를) 적용한 결과는 1.637 입니다.\n"
     ]
    }
   ],
   "source": [
    "opti = descent(0.001) # 학습율을 0.01에서 0.001로 변경한 경사 하강법 => 학습율이 너무 작다\n",
    "ex = one_variable_ftn(f, opti)\n",
    "ex.run(2, 100)\n",
    "ex.visualize(-1, 2.5)\n",
    "ex.history()"
   ]
  },
  {
   "cell_type": "code",
   "execution_count": 17,
   "id": "64ad398e",
   "metadata": {},
   "outputs": [],
   "source": [
    "# 가운데 평탄한(기울기가 0인) 구간이 있는 함수\n",
    "def f3(x):\n",
    "    if x > 1:\n",
    "        return x ** 2\n",
    "    elif x > 0.2:\n",
    "        return 1\n",
    "    else:\n",
    "        return 25 * x ** 2"
   ]
  },
  {
   "cell_type": "code",
   "execution_count": 18,
   "id": "ddb83809",
   "metadata": {
    "scrolled": true
   },
   "outputs": [
    {
     "name": "stdout",
     "output_type": "stream",
     "text": [
      "2에서 시작해서 100번 경사 하강법(학습율 = 0.01)을(를) 적용한 결과는 0.986 입니다.\n"
     ]
    },
    {
     "data": {
      "image/png": "[encoded data removed]",
      "text/plain": [
       "<Figure size 640x480 with 1 Axes>"
      ]
     },
     "metadata": {},
     "output_type": "display_data"
    },
    {
     "name": "stdout",
     "output_type": "stream",
     "text": [
      "  1번 경사 하강법(학습율 = 0.01)을(를) 적용한 결과는 2.000 입니다.\n",
      "  2번 경사 하강법(학습율 = 0.01)을(를) 적용한 결과는 1.960 입니다.\n",
      "  3번 경사 하강법(학습율 = 0.01)을(를) 적용한 결과는 1.921 입니다.\n",
      "  4번 경사 하강법(학습율 = 0.01)을(를) 적용한 결과는 1.882 입니다.\n",
      "  5번 경사 하강법(학습율 = 0.01)을(를) 적용한 결과는 1.845 입니다.\n",
      "  6번 경사 하강법(학습율 = 0.01)을(를) 적용한 결과는 1.808 입니다.\n",
      "  7번 경사 하강법(학습율 = 0.01)을(를) 적용한 결과는 1.772 입니다.\n",
      "  8번 경사 하강법(학습율 = 0.01)을(를) 적용한 결과는 1.736 입니다.\n",
      "  9번 경사 하강법(학습율 = 0.01)을(를) 적용한 결과는 1.702 입니다.\n",
      " 10번 경사 하강법(학습율 = 0.01)을(를) 적용한 결과는 1.667 입니다.\n",
      " 11번 경사 하강법(학습율 = 0.01)을(를) 적용한 결과는 1.634 입니다.\n",
      " 12번 경사 하강법(학습율 = 0.01)을(를) 적용한 결과는 1.601 입니다.\n",
      " 13번 경사 하강법(학습율 = 0.01)을(를) 적용한 결과는 1.569 입니다.\n",
      " 14번 경사 하강법(학습율 = 0.01)을(를) 적용한 결과는 1.538 입니다.\n",
      " 15번 경사 하강법(학습율 = 0.01)을(를) 적용한 결과는 1.507 입니다.\n",
      " 16번 경사 하강법(학습율 = 0.01)을(를) 적용한 결과는 1.477 입니다.\n",
      " 17번 경사 하강법(학습율 = 0.01)을(를) 적용한 결과는 1.448 입니다.\n",
      " 18번 경사 하강법(학습율 = 0.01)을(를) 적용한 결과는 1.419 입니다.\n",
      " 19번 경사 하강법(학습율 = 0.01)을(를) 적용한 결과는 1.390 입니다.\n",
      " 20번 경사 하강법(학습율 = 0.01)을(를) 적용한 결과는 1.362 입니다.\n",
      " 21번 경사 하강법(학습율 = 0.01)을(를) 적용한 결과는 1.335 입니다.\n",
      " 22번 경사 하강법(학습율 = 0.01)을(를) 적용한 결과는 1.309 입니다.\n",
      " 23번 경사 하강법(학습율 = 0.01)을(를) 적용한 결과는 1.282 입니다.\n",
      " 24번 경사 하강법(학습율 = 0.01)을(를) 적용한 결과는 1.257 입니다.\n",
      " 25번 경사 하강법(학습율 = 0.01)을(를) 적용한 결과는 1.232 입니다.\n",
      " 26번 경사 하강법(학습율 = 0.01)을(를) 적용한 결과는 1.207 입니다.\n",
      " 27번 경사 하강법(학습율 = 0.01)을(를) 적용한 결과는 1.183 입니다.\n",
      " 28번 경사 하강법(학습율 = 0.01)을(를) 적용한 결과는 1.159 입니다.\n",
      " 29번 경사 하강법(학습율 = 0.01)을(를) 적용한 결과는 1.136 입니다.\n",
      " 30번 경사 하강법(학습율 = 0.01)을(를) 적용한 결과는 1.113 입니다.\n",
      " 31번 경사 하강법(학습율 = 0.01)을(를) 적용한 결과는 1.091 입니다.\n",
      " 32번 경사 하강법(학습율 = 0.01)을(를) 적용한 결과는 1.069 입니다.\n",
      " 33번 경사 하강법(학습율 = 0.01)을(를) 적용한 결과는 1.048 입니다.\n",
      " 34번 경사 하강법(학습율 = 0.01)을(를) 적용한 결과는 1.027 입니다.\n",
      " 35번 경사 하강법(학습율 = 0.01)을(를) 적용한 결과는 1.006 입니다.\n",
      " 36번 경사 하강법(학습율 = 0.01)을(를) 적용한 결과는 0.986 입니다.\n",
      " 37번 경사 하강법(학습율 = 0.01)을(를) 적용한 결과는 0.986 입니다.\n",
      " 38번 경사 하강법(학습율 = 0.01)을(를) 적용한 결과는 0.986 입니다.\n",
      " 39번 경사 하강법(학습율 = 0.01)을(를) 적용한 결과는 0.986 입니다.\n",
      " 40번 경사 하강법(학습율 = 0.01)을(를) 적용한 결과는 0.986 입니다.\n",
      " 41번 경사 하강법(학습율 = 0.01)을(를) 적용한 결과는 0.986 입니다.\n",
      " 42번 경사 하강법(학습율 = 0.01)을(를) 적용한 결과는 0.986 입니다.\n",
      " 43번 경사 하강법(학습율 = 0.01)을(를) 적용한 결과는 0.986 입니다.\n",
      " 44번 경사 하강법(학습율 = 0.01)을(를) 적용한 결과는 0.986 입니다.\n",
      " 45번 경사 하강법(학습율 = 0.01)을(를) 적용한 결과는 0.986 입니다.\n",
      " 46번 경사 하강법(학습율 = 0.01)을(를) 적용한 결과는 0.986 입니다.\n",
      " 47번 경사 하강법(학습율 = 0.01)을(를) 적용한 결과는 0.986 입니다.\n",
      " 48번 경사 하강법(학습율 = 0.01)을(를) 적용한 결과는 0.986 입니다.\n",
      " 49번 경사 하강법(학습율 = 0.01)을(를) 적용한 결과는 0.986 입니다.\n",
      " 50번 경사 하강법(학습율 = 0.01)을(를) 적용한 결과는 0.986 입니다.\n",
      " 51번 경사 하강법(학습율 = 0.01)을(를) 적용한 결과는 0.986 입니다.\n",
      " 52번 경사 하강법(학습율 = 0.01)을(를) 적용한 결과는 0.986 입니다.\n",
      " 53번 경사 하강법(학습율 = 0.01)을(를) 적용한 결과는 0.986 입니다.\n",
      " 54번 경사 하강법(학습율 = 0.01)을(를) 적용한 결과는 0.986 입니다.\n",
      " 55번 경사 하강법(학습율 = 0.01)을(를) 적용한 결과는 0.986 입니다.\n",
      " 56번 경사 하강법(학습율 = 0.01)을(를) 적용한 결과는 0.986 입니다.\n",
      " 57번 경사 하강법(학습율 = 0.01)을(를) 적용한 결과는 0.986 입니다.\n",
      " 58번 경사 하강법(학습율 = 0.01)을(를) 적용한 결과는 0.986 입니다.\n",
      " 59번 경사 하강법(학습율 = 0.01)을(를) 적용한 결과는 0.986 입니다.\n",
      " 60번 경사 하강법(학습율 = 0.01)을(를) 적용한 결과는 0.986 입니다.\n",
      " 61번 경사 하강법(학습율 = 0.01)을(를) 적용한 결과는 0.986 입니다.\n",
      " 62번 경사 하강법(학습율 = 0.01)을(를) 적용한 결과는 0.986 입니다.\n",
      " 63번 경사 하강법(학습율 = 0.01)을(를) 적용한 결과는 0.986 입니다.\n",
      " 64번 경사 하강법(학습율 = 0.01)을(를) 적용한 결과는 0.986 입니다.\n",
      " 65번 경사 하강법(학습율 = 0.01)을(를) 적용한 결과는 0.986 입니다.\n",
      " 66번 경사 하강법(학습율 = 0.01)을(를) 적용한 결과는 0.986 입니다.\n",
      " 67번 경사 하강법(학습율 = 0.01)을(를) 적용한 결과는 0.986 입니다.\n",
      " 68번 경사 하강법(학습율 = 0.01)을(를) 적용한 결과는 0.986 입니다.\n",
      " 69번 경사 하강법(학습율 = 0.01)을(를) 적용한 결과는 0.986 입니다.\n",
      " 70번 경사 하강법(학습율 = 0.01)을(를) 적용한 결과는 0.986 입니다.\n",
      " 71번 경사 하강법(학습율 = 0.01)을(를) 적용한 결과는 0.986 입니다.\n",
      " 72번 경사 하강법(학습율 = 0.01)을(를) 적용한 결과는 0.986 입니다.\n",
      " 73번 경사 하강법(학습율 = 0.01)을(를) 적용한 결과는 0.986 입니다.\n",
      " 74번 경사 하강법(학습율 = 0.01)을(를) 적용한 결과는 0.986 입니다.\n",
      " 75번 경사 하강법(학습율 = 0.01)을(를) 적용한 결과는 0.986 입니다.\n",
      " 76번 경사 하강법(학습율 = 0.01)을(를) 적용한 결과는 0.986 입니다.\n",
      " 77번 경사 하강법(학습율 = 0.01)을(를) 적용한 결과는 0.986 입니다.\n",
      " 78번 경사 하강법(학습율 = 0.01)을(를) 적용한 결과는 0.986 입니다.\n",
      " 79번 경사 하강법(학습율 = 0.01)을(를) 적용한 결과는 0.986 입니다.\n",
      " 80번 경사 하강법(학습율 = 0.01)을(를) 적용한 결과는 0.986 입니다.\n",
      " 81번 경사 하강법(학습율 = 0.01)을(를) 적용한 결과는 0.986 입니다.\n",
      " 82번 경사 하강법(학습율 = 0.01)을(를) 적용한 결과는 0.986 입니다.\n",
      " 83번 경사 하강법(학습율 = 0.01)을(를) 적용한 결과는 0.986 입니다.\n",
      " 84번 경사 하강법(학습율 = 0.01)을(를) 적용한 결과는 0.986 입니다.\n",
      " 85번 경사 하강법(학습율 = 0.01)을(를) 적용한 결과는 0.986 입니다.\n",
      " 86번 경사 하강법(학습율 = 0.01)을(를) 적용한 결과는 0.986 입니다.\n",
      " 87번 경사 하강법(학습율 = 0.01)을(를) 적용한 결과는 0.986 입니다.\n",
      " 88번 경사 하강법(학습율 = 0.01)을(를) 적용한 결과는 0.986 입니다.\n",
      " 89번 경사 하강법(학습율 = 0.01)을(를) 적용한 결과는 0.986 입니다.\n",
      " 90번 경사 하강법(학습율 = 0.01)을(를) 적용한 결과는 0.986 입니다.\n",
      " 91번 경사 하강법(학습율 = 0.01)을(를) 적용한 결과는 0.986 입니다.\n",
      " 92번 경사 하강법(학습율 = 0.01)을(를) 적용한 결과는 0.986 입니다.\n",
      " 93번 경사 하강법(학습율 = 0.01)을(를) 적용한 결과는 0.986 입니다.\n",
      " 94번 경사 하강법(학습율 = 0.01)을(를) 적용한 결과는 0.986 입니다.\n",
      " 95번 경사 하강법(학습율 = 0.01)을(를) 적용한 결과는 0.986 입니다.\n",
      " 96번 경사 하강법(학습율 = 0.01)을(를) 적용한 결과는 0.986 입니다.\n",
      " 97번 경사 하강법(학습율 = 0.01)을(를) 적용한 결과는 0.986 입니다.\n",
      " 98번 경사 하강법(학습율 = 0.01)을(를) 적용한 결과는 0.986 입니다.\n",
      " 99번 경사 하강법(학습율 = 0.01)을(를) 적용한 결과는 0.986 입니다.\n",
      "100번 경사 하강법(학습율 = 0.01)을(를) 적용한 결과는 0.986 입니다.\n",
      "101번 경사 하강법(학습율 = 0.01)을(를) 적용한 결과는 0.986 입니다.\n"
     ]
    }
   ],
   "source": [
    "opti = descent(0.01)\n",
    "ex = one_variable_ftn(f3, opti)\n",
    "ex.run(2, 100)\n",
    "ex.visualize(-0.2, 2.5)\n",
    "ex.history()"
   ]
  },
  {
   "cell_type": "markdown",
   "id": "1479bc05",
   "metadata": {},
   "source": [
    "모멘텀(Momentum)"
   ]
  },
  {
   "cell_type": "code",
   "execution_count": 23,
   "id": "2baa5069",
   "metadata": {},
   "outputs": [],
   "source": [
    "# 모멘텀 클래스, 옵티마이저\n",
    "class momentum:\n",
    "    def __init__(self, mu, lr, h=1e-6):\n",
    "        self.previous = 0 # 이전에 얼마나 움직였는가 기록한다.\n",
    "        self.mu = mu # 관성, 보통 0.8이나 0.9정도를 사용한다.\n",
    "        self.lr = lr\n",
    "        self.h = h\n",
    "        \n",
    "    def diff(self, f, x):\n",
    "        # return (f(x + self.h) - f(x)) / self.h\n",
    "        return (f(x + self.h) - f(x - self.h)) / (2 * self.h)\n",
    "        \n",
    "    def update(self, f, x):\n",
    "        # dx = self.diff(f, x) # 경사 하강법\n",
    "        dx = self.previous * self.mu - self.lr * self.diff(f, x)\n",
    "        self.previous = dx # 이전에 움직인 거리를 저장한다.\n",
    "        # return x - self.lr * dx # 경사 하강법\n",
    "        return x + dx\n",
    "    \n",
    "    def __str__(self):\n",
    "        return '모멘텀 경사 하강법(학습율 = {})'.format(self.lr)"
   ]
  },
  {
   "cell_type": "code",
   "execution_count": 29,
   "id": "b5def090",
   "metadata": {
    "scrolled": false
   },
   "outputs": [
    {
     "name": "stdout",
     "output_type": "stream",
     "text": [
      "2에서 시작해서 15번 모멘텀 경사 하강법(학습율 = 0.01)을(를) 적용한 결과는 0.127 입니다.\n"
     ]
    },
    {
     "data": {
      "image/png": "[encoded data removed]",
      "text/plain": [
       "<Figure size 640x480 with 1 Axes>"
      ]
     },
     "metadata": {},
     "output_type": "display_data"
    },
    {
     "name": "stdout",
     "output_type": "stream",
     "text": [
      "  1번 모멘텀 경사 하강법(학습율 = 0.01)을(를) 적용한 결과는 2.000 입니다.\n",
      "  2번 모멘텀 경사 하강법(학습율 = 0.01)을(를) 적용한 결과는 1.960 입니다.\n",
      "  3번 모멘텀 경사 하강법(학습율 = 0.01)을(를) 적용한 결과는 1.885 입니다.\n",
      "  4번 모멘텀 경사 하강법(학습율 = 0.01)을(를) 적용한 결과는 1.779 입니다.\n",
      "  5번 모멘텀 경사 하강법(학습율 = 0.01)을(를) 적용한 결과는 1.649 입니다.\n",
      "  6번 모멘텀 경사 하강법(학습율 = 0.01)을(를) 적용한 결과는 1.499 입니다.\n",
      "  7번 모멘텀 경사 하강법(학습율 = 0.01)을(를) 적용한 결과는 1.333 입니다.\n",
      "  8번 모멘텀 경사 하강법(학습율 = 0.01)을(를) 적용한 결과는 1.158 입니다.\n",
      "  9번 모멘텀 경사 하강법(학습율 = 0.01)을(를) 적용한 결과는 0.977 입니다.\n",
      " 10번 모멘텀 경사 하강법(학습율 = 0.01)을(를) 적용한 결과는 0.814 입니다.\n",
      " 11번 모멘텀 경사 하강법(학습율 = 0.01)을(를) 적용한 결과는 0.667 입니다.\n",
      " 12번 모멘텀 경사 하강법(학습율 = 0.01)을(를) 적용한 결과는 0.535 입니다.\n",
      " 13번 모멘텀 경사 하강법(학습율 = 0.01)을(를) 적용한 결과는 0.416 입니다.\n",
      " 14번 모멘텀 경사 하강법(학습율 = 0.01)을(를) 적용한 결과는 0.310 입니다.\n",
      " 15번 모멘텀 경사 하강법(학습율 = 0.01)을(를) 적용한 결과는 0.213 입니다.\n",
      " 16번 모멘텀 경사 하강법(학습율 = 0.01)을(를) 적용한 결과는 0.127 입니다.\n"
     ]
    }
   ],
   "source": [
    "opti = momentum(0.9, 0.01) # 관성 0.9, 학습율 0.01 모멘텀 옵티마이저 객체 생성\n",
    "ex = one_variable_ftn(f3, opti)\n",
    "ex.run(2, 15)\n",
    "ex.visualize(-0.2, 2.5)\n",
    "ex.history()"
   ]
  },
  {
   "cell_type": "code",
   "execution_count": null,
   "id": "c3b5658f",
   "metadata": {},
   "outputs": [],
   "source": []
  },
  {
   "cell_type": "code",
   "execution_count": null,
   "id": "923e17ee",
   "metadata": {},
   "outputs": [],
   "source": []
  },
  {
   "cell_type": "code",
   "execution_count": null,
   "id": "5262ccdc",
   "metadata": {},
   "outputs": [],
   "source": []
  },
  {
   "cell_type": "code",
   "execution_count": null,
   "id": "ead91a66",
   "metadata": {},
   "outputs": [],
   "source": []
  },
  {
   "cell_type": "code",
   "execution_count": null,
   "id": "5bc86771",
   "metadata": {},
   "outputs": [],
   "source": []
  },
  {
   "cell_type": "code",
   "execution_count": null,
   "id": "bed8fc0d",
   "metadata": {},
   "outputs": [],
   "source": []
  }
 ],
 "metadata": {
  "kernelspec": {
   "display_name": "python37",
   "language": "python",
   "name": "python37"
  },
  "language_info": {
   "codemirror_mode": {
    "name": "ipython",
    "version": 3
   },
   "file_extension": ".py",
   "mimetype": "text/x-python",
   "name": "python",
   "nbconvert_exporter": "python",
   "pygments_lexer": "ipython3",
   "version": "3.7.1"
  }
 },
 "nbformat": 4,
 "nbformat_minor": 5
}
