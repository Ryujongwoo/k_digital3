{
 "cells": [
  {
   "cell_type": "markdown",
   "id": "408d820a",
   "metadata": {},
   "source": [
    "선택 정렬 알고리즘의 반복 알고리즘을 이용해서 석차를 계산한다.\n",
    "\n",
    "<img src='./ranking.png' align='left' width='1100' title='선택정렬 알고리즘을 이용한 석차계산'/>"
   ]
  },
  {
   "cell_type": "code",
   "execution_count": 1,
   "id": "0fd77414",
   "metadata": {},
   "outputs": [
    {
     "name": "stdout",
     "output_type": "stream",
     "text": [
      "[i = 0, j = 1] [i = 0, j = 2] [i = 0, j = 3] [i = 0, j = 4]\n",
      "[i = 1, j = 2] [i = 1, j = 3] [i = 1, j = 4]\n",
      "[i = 2, j = 3] [i = 2, j = 4]\n",
      "[i = 3, j = 4]\n",
      " 70점은 5등 입니다. *******\n",
      "100점은 1등 입니다. **********\n",
      " 80점은 4등 입니다. ********\n",
      "100점은 1등 입니다. **********\n",
      " 90점은 3등 입니다. *********\n"
     ]
    }
   ],
   "source": [
    "score = [70, 100, 80, 100, 90]\n",
    "rank = [1 for _ in range(len(score))]\n",
    "\n",
    "for i in range(len(score) - 1): # 회전수, 선택 대상\n",
    "    for j in range(i + 1, len(score)): # 비교 대상\n",
    "        print(f'[i = {i}, j = {j}]', end=' ' if j < len(score) - 1 else '\\n')\n",
    "        # i번째 점수가 크면 j번째 석차를 증가시키고 j번째 점수가 크면 i번째 석차를 증가시킨다.\n",
    "        # 부등호를 반대로 변경하면 오름차순 석차가 계산된다.\n",
    "        if score[i] > score[j]:\n",
    "            rank[j] += 1\n",
    "        elif score[i] < score[j]:\n",
    "            rank[i] += 1\n",
    "        # ===== if\n",
    "    # ===== for j\n",
    "# ===== for i\n",
    "\n",
    "for s, r in zip(score, rank):\n",
    "    print('{:3d}점은 {}등 입니다.'.format(s, r), end=' ')\n",
    "    # 10점당 '*'을 1개씩 출력한다.\n",
    "    '''\n",
    "    for i in range(s // 10):\n",
    "        print('*', end='')\n",
    "    # ===== for i\n",
    "    print()\n",
    "    '''\n",
    "    print('*' * (s // 10))\n",
    "# ===== for s, j"
   ]
  },
  {
   "cell_type": "code",
   "execution_count": null,
   "id": "0312457e",
   "metadata": {},
   "outputs": [],
   "source": []
  },
  {
   "cell_type": "code",
   "execution_count": null,
   "id": "ce71c2d3",
   "metadata": {},
   "outputs": [],
   "source": []
  }
 ],
 "metadata": {
  "kernelspec": {
   "display_name": "Python 3",
   "language": "python",
   "name": "python3"
  },
  "language_info": {
   "codemirror_mode": {
    "name": "ipython",
    "version": 3
   },
   "file_extension": ".py",
   "mimetype": "text/x-python",
   "name": "python",
   "nbconvert_exporter": "python",
   "pygments_lexer": "ipython3",
   "version": "3.6.8"
  }
 },
 "nbformat": 4,
 "nbformat_minor": 5
}
