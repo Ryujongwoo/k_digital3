{
 "cells": [
  {
   "cell_type": "markdown",
   "id": "96f1b86a",
   "metadata": {},
   "source": [
    "<img src='./bubbleSort5.png' align='left' width='900' title='버블정렬'/>"
   ]
  },
  {
   "cell_type": "markdown",
   "id": "ac415a2c",
   "metadata": {},
   "source": [
    "<img src='./bubbleSort6.png' align='left' width='600' title='버블정렬'/>"
   ]
  },
  {
   "cell_type": "code",
   "execution_count": 10,
   "id": "ad7f4480",
   "metadata": {},
   "outputs": [
    {
     "name": "stdout",
     "output_type": "stream",
     "text": [
      "1회전 결과: [1, 3, 4, 8, 9]\n",
      "원래는 4번 회전을 해야하지만 2회전 후 중간 종료됨\n",
      "정렬 결과: [1, 3, 4, 8, 9]\n"
     ]
    }
   ],
   "source": [
    "# data = [8, 3, 4, 9, 1]\n",
    "data = [9, 1, 3, 4, 8]\n",
    "for i in range(len(data) - 1):\n",
    "    # ⓐ => 회전(정렬) 작업이 시작되기 전에 flag 변수를 0으로 초기화 한다.\n",
    "    flag = 0\n",
    "    for j in range(len(data) - 1 - i):\n",
    "        if data[j] > data[j + 1]:\n",
    "            data[j], data[j + 1] = data[j + 1], data[j]\n",
    "            # ⓑ => 데이터 교환 작업이 실행되면 flag 변수를 1로 수정한다.\n",
    "            flag = 1\n",
    "        # ===== if\n",
    "    # ===== for j => 회전 종료\n",
    "    # ⓒ => 한 회전이 종료되었을 때 데이터 교환 작업이 1번도 실행되지 않았다면 현재 데이터는 모두 정렬된\n",
    "    # 상태를 의미하므로 정렬을 중지시킨다. => i반복을 탈출한다.\n",
    "    if flag == 0:\n",
    "        print(f'원래는 {len(data) - 1}번 회전을 해야하지만 {i + 1}회전 후 중간 종료됨')\n",
    "        break\n",
    "    print(f'{i + 1}회전 결과: {data}')\n",
    "# for i => 정렬 종료\n",
    "print(f'정렬 결과: {data}')"
   ]
  },
  {
   "cell_type": "code",
   "execution_count": 9,
   "id": "d5ffc6b8",
   "metadata": {},
   "outputs": [
    {
     "name": "stdout",
     "output_type": "stream",
     "text": [
      "1회전 결과: [1, 3, 4, 8, 9]\n",
      "원래는 4번 회전을 해야하지만 2회전 후 중간 종료됨\n",
      "정렬 결과: [1, 3, 4, 8, 9]\n"
     ]
    }
   ],
   "source": [
    "# data = [8, 3, 4, 9, 1]\n",
    "data = [9, 1, 3, 4, 8]\n",
    "for i in range(len(data) - 1):\n",
    "    # ⓐ => 회전(정렬) 작업이 시작되기 전에 flag 변수를 True으로 초기화 한다.\n",
    "    flag = True\n",
    "    for j in range(len(data) - 1 - i):\n",
    "        if data[j] > data[j + 1]:\n",
    "            data[j], data[j + 1] = data[j + 1], data[j]\n",
    "            # ⓑ => 데이터 교환 작업이 실행되면 flag 변수를 False로 수정한다.\n",
    "            flag = False\n",
    "        # ===== if\n",
    "    # ===== for j => 회전 종료\n",
    "    # ⓒ => 한 회전이 종료되었을 때 데이터 교환 작업이 1번도 실행되지 않았다면 현재 데이터는 모두 정렬된\n",
    "    # 상태를 의미하므로 정렬을 중지시킨다. => i반복을 탈출한다.\n",
    "    if flag:\n",
    "        print(f'원래는 {len(data) - 1}번 회전을 해야하지만 {i + 1}회전 후 중간 종료됨')\n",
    "        break\n",
    "    print(f'{i + 1}회전 결과: {data}')\n",
    "# for i => 정렬 종료\n",
    "print(f'정렬 결과: {data}')"
   ]
  },
  {
   "cell_type": "code",
   "execution_count": null,
   "id": "7a4ea320",
   "metadata": {},
   "outputs": [],
   "source": []
  },
  {
   "cell_type": "code",
   "execution_count": null,
   "id": "baae9fb2",
   "metadata": {},
   "outputs": [],
   "source": []
  }
 ],
 "metadata": {
  "kernelspec": {
   "display_name": "Python 3",
   "language": "python",
   "name": "python3"
  },
  "language_info": {
   "codemirror_mode": {
    "name": "ipython",
    "version": 3
   },
   "file_extension": ".py",
   "mimetype": "text/x-python",
   "name": "python",
   "nbconvert_exporter": "python",
   "pygments_lexer": "ipython3",
   "version": "3.6.8"
  }
 },
 "nbformat": 4,
 "nbformat_minor": 5
}
