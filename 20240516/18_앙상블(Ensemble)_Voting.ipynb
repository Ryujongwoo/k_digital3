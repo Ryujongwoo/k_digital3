{
 "cells": [
  {
   "cell_type": "code",
   "execution_count": 1,
   "id": "ab40af95",
   "metadata": {},
   "outputs": [],
   "source": [
    "import warnings\n",
    "warnings.filterwarnings(action='ignore')\n",
    "%config Completer.use_jedi = False\n",
    "import numpy as np\n",
    "import pandas as pd\n",
    "import matplotlib.pyplot as plt\n",
    "import matplotlib as mpl\n",
    "mpl.rcParams['axes.unicode_minus'] = False\n",
    "plt.rcParams['font.family'] = 'NanumGothicCoding'\n",
    "plt.rcParams['font.size'] = 10\n",
    "import seaborn as sns\n",
    "from sklearn.model_selection import train_test_split\n",
    "from sklearn.metrics import accuracy_score, confusion_matrix, classification_report"
   ]
  },
  {
   "cell_type": "code",
   "execution_count": 2,
   "id": "6cbd8b2c",
   "metadata": {},
   "outputs": [],
   "source": [
    "# 사이킷런이 제공하는 MNIST 손글씨 데이터를 불러오기 위해 import 한다.\n",
    "from sklearn.datasets import load_digits\n",
    "# kNN 분류기를 사용하기 위해서 import 한다.\n",
    "from sklearn.neighbors import KNeighborsClassifier\n",
    "# SVM 알고리즘을 사용하기 위해 import 한다. SVC => Support Vector Classification\n",
    "from sklearn.svm import SVC\n",
    "# 사이킷런의 의사결정 트리를 사용하기 위해 import 한다.\n",
    "from sklearn.tree import DecisionTreeClassifier"
   ]
  },
  {
   "cell_type": "markdown",
   "id": "73110223",
   "metadata": {},
   "source": [
    "손글씨 데이터를 불러온다."
   ]
  },
  {
   "cell_type": "code",
   "execution_count": 3,
   "id": "9b4c851a",
   "metadata": {},
   "outputs": [
    {
     "name": "stdout",
     "output_type": "stream",
     "text": [
      "(1797, 64) (1797,)\n"
     ]
    }
   ],
   "source": [
    "mnist = load_digits() # 사이킷런이 제공하는 손글씨 데이터를 불러온다.\n",
    "feature, label = mnist.data, mnist.target\n",
    "print(feature.shape, label.shape)"
   ]
  },
  {
   "cell_type": "markdown",
   "id": "67d7d69a",
   "metadata": {},
   "source": [
    "학습 데이터와 테스트 데이터를 나눈다."
   ]
  },
  {
   "cell_type": "code",
   "execution_count": 4,
   "id": "1b1585c4",
   "metadata": {},
   "outputs": [
    {
     "name": "stdout",
     "output_type": "stream",
     "text": [
      "학습 데이터 개수: 1437, 테스트 데이터 개수: 360\n"
     ]
    }
   ],
   "source": [
    "x_train, x_test, y_train, y_test = train_test_split(feature, label, train_size=0.8)\n",
    "print('학습 데이터 개수: {}, 테스트 데이터 개수: {}'.format(x_train.shape[0], x_test.shape[0]))"
   ]
  },
  {
   "cell_type": "markdown",
   "id": "d2b53297",
   "metadata": {},
   "source": [
    "단일 모델의 정확도 측정  \n",
    "앙상블 정확도를 측정하기에 앞서서 단일 모델들의 정확도를 kNN, SVM, 의사결정 트리 분류기를 만들어서 정확도를 계산한다."
   ]
  },
  {
   "cell_type": "code",
   "execution_count": 5,
   "id": "6300c1e4",
   "metadata": {},
   "outputs": [
    {
     "name": "stdout",
     "output_type": "stream",
     "text": [
      "kNN 정확도: 85.56%\n"
     ]
    }
   ],
   "source": [
    "# kNN\n",
    "knn = KNeighborsClassifier(n_neighbors=299).fit(x_train, y_train) # 모델 생성 및 학습\n",
    "knn_predict = knn.predict(x_test) # 예측\n",
    "knn_accuracy = accuracy_score(y_test, knn_predict) # 정확도\n",
    "print('kNN 정확도: {:6.2%}'.format(knn_accuracy))"
   ]
  },
  {
   "cell_type": "code",
   "execution_count": 6,
   "id": "e292e2c5",
   "metadata": {},
   "outputs": [
    {
     "name": "stdout",
     "output_type": "stream",
     "text": [
      "svm 정확도: 87.50%\n"
     ]
    }
   ],
   "source": [
    "# svm\n",
    "svm = SVC(C=0.1, gamma=0.003, probability=True).fit(x_train, y_train) # 모델 생성 및 학습\n",
    "svm_predict = svm.predict(x_test) # 예측\n",
    "svm_accuracy = accuracy_score(y_test, svm_predict) # 정확도\n",
    "print('svm 정확도: {:6.2%}'.format(svm_accuracy))"
   ]
  },
  {
   "cell_type": "code",
   "execution_count": 7,
   "id": "d7b271a3",
   "metadata": {},
   "outputs": [
    {
     "name": "stdout",
     "output_type": "stream",
     "text": [
      "의사결정 트리 정확도: 86.94%\n"
     ]
    }
   ],
   "source": [
    "# 의사결정 트리\n",
    "dt = DecisionTreeClassifier(max_depth=8, random_state=35).fit(x_train, y_train) # 모델 생성 및 학습\n",
    "dt_predict = dt.predict(x_test) # 예측\n",
    "dt_accuracy = accuracy_score(y_test, dt_predict) # 정확도\n",
    "print('의사결정 트리 정확도: {:6.2%}'.format(dt_accuracy))"
   ]
  },
  {
   "cell_type": "markdown",
   "id": "a77c0841",
   "metadata": {},
   "source": [
    "하드 보팅  \n",
    "일반적인 투표와 같이 각 분류기의 예측값들을 모아 가장 많은 투표를 받은 예측값으로 최종 결론을 내린다."
   ]
  },
  {
   "cell_type": "code",
   "execution_count": 8,
   "id": "3e875af2",
   "metadata": {},
   "outputs": [],
   "source": [
    "# 하드/소프트 보팅을 계산하기 위해 import 한다.\n",
    "from sklearn.ensemble import VotingClassifier"
   ]
  },
  {
   "cell_type": "code",
   "execution_count": 9,
   "id": "e9196069",
   "metadata": {},
   "outputs": [
    {
     "name": "stdout",
     "output_type": "stream",
     "text": [
      "하드 보팅 정확도: 92.22%\n"
     ]
    }
   ],
   "source": [
    "hv_clf = VotingClassifier(estimators=[('knn', knn), ('svm', svm), ('decision_tree', dt)], \n",
    "                          weights=[1, 1, 1], voting='hard').fit(x_train, y_train) # 모델 생성 및 학습\n",
    "hv_predict = hv_clf.predict(x_test) # 예측\n",
    "hv_accuracy = accuracy_score(y_test, hv_predict) # 정확도\n",
    "print('하드 보팅 정확도: {:6.2%}'.format(hv_accuracy))"
   ]
  },
  {
   "cell_type": "markdown",
   "id": "16778749",
   "metadata": {},
   "source": [
    "소프트 보팅  \n",
    "각 분류별 확률을 더해준 값을 점수로 사용해 최대 점수를 가진 분류값으로 결론을 내린다.\n",
    "\n",
    "확률 합계"
   ]
  },
  {
   "cell_type": "code",
   "execution_count": 10,
   "id": "6d97addc",
   "metadata": {},
   "outputs": [
    {
     "name": "stdout",
     "output_type": "stream",
     "text": [
      "[0.03344482 0.         0.01003344 0.08695652 0.04682274 0.43478261\n",
      " 0.00334448 0.07692308 0.16722408 0.14046823]\n",
      "확률 합계: 100.00%\n"
     ]
    }
   ],
   "source": [
    "# predict_proba() 메소드로 분류 모델이 각 레이블의 확률을 계산한다.\n",
    "knn_proba = knn.predict_proba(x_test)\n",
    "# print(knn_proba)\n",
    "print(knn_proba[0])\n",
    "print('확률 합계: {:6.2%}'.format(knn_proba[0].sum()))"
   ]
  },
  {
   "cell_type": "code",
   "execution_count": 11,
   "id": "947f8c00",
   "metadata": {},
   "outputs": [
    {
     "name": "stdout",
     "output_type": "stream",
     "text": [
      "[1.47656555e-03 1.52186775e-03 2.37788862e-03 9.62560016e-04\n",
      " 1.50996180e-03 9.79347711e-01 8.36861801e-04 1.15590348e-03\n",
      " 6.76447205e-03 4.04620778e-03]\n",
      "확률 합계: 100.00%\n"
     ]
    }
   ],
   "source": [
    "svm_proba = svm.predict_proba(x_test)\n",
    "# print(svm_proba)\n",
    "print(svm_proba[0])\n",
    "print('확률 합계: {:6.2%}'.format(svm_proba[0].sum()))"
   ]
  },
  {
   "cell_type": "code",
   "execution_count": 12,
   "id": "fb0da99a",
   "metadata": {},
   "outputs": [
    {
     "name": "stdout",
     "output_type": "stream",
     "text": [
      "[0. 0. 0. 0. 0. 1. 0. 0. 0. 0.]\n",
      "확률 합계: 100.00%\n"
     ]
    }
   ],
   "source": [
    "dt_proba = dt.predict_proba(x_test)\n",
    "# print(dt_proba)\n",
    "print(dt_proba[0])\n",
    "print('확률 합계: {:6.2%}'.format(dt_proba[0].sum()))"
   ]
  },
  {
   "cell_type": "code",
   "execution_count": 13,
   "id": "bcac6857",
   "metadata": {},
   "outputs": [
    {
     "name": "stdout",
     "output_type": "stream",
     "text": [
      "소프트 보팅 정확도: 90.56%\n"
     ]
    }
   ],
   "source": [
    "sv_clf = VotingClassifier(estimators=[('knn', knn), ('svm', svm), ('decision_tree', dt)], \n",
    "                          weights=[1, 1, 1], voting='soft').fit(x_train, y_train) # 모델 생성 및 학습\n",
    "sv_predict = sv_clf.predict(x_test) # 예측\n",
    "sv_accuracy = accuracy_score(y_test, sv_predict) # 정확도\n",
    "print('소프트 보팅 정확도: {:6.2%}'.format(sv_accuracy))"
   ]
  },
  {
   "cell_type": "markdown",
   "id": "d96b12cf",
   "metadata": {},
   "source": [
    "단일 모델과 앙상블 모델의 정확도 비교 시각화"
   ]
  },
  {
   "cell_type": "code",
   "execution_count": 18,
   "id": "36218ab6",
   "metadata": {},
   "outputs": [
    {
     "data": {
      "image/png": "[encoded data removed]",
      "text/plain": [
       "<Figure size 800x600 with 1 Axes>"
      ]
     },
     "metadata": {},
     "output_type": "display_data"
    }
   ],
   "source": [
    "plt.figure(figsize=(8, 6))\n",
    "plt.bar(np.arange(5), height=[\n",
    "    accuracy_score(y_test, knn_predict),\n",
    "    accuracy_score(y_test, svm_predict),\n",
    "    accuracy_score(y_test, dt_predict),\n",
    "    accuracy_score(y_test, hv_predict),\n",
    "    accuracy_score(y_test, sv_predict)\n",
    "])\n",
    "plt.xticks(x, ['knn', 'svm', 'decision tree', 'hard voting', 'soft voting'])\n",
    "plt.title('단일 모델과 앙상블 모델의 정확도 비교 시각화')\n",
    "plt.xlabel('모델')\n",
    "plt.ylabel('정확도')\n",
    "plt.show()"
   ]
  },
  {
   "cell_type": "code",
   "execution_count": null,
   "id": "9aab016e",
   "metadata": {},
   "outputs": [],
   "source": []
  },
  {
   "cell_type": "code",
   "execution_count": null,
   "id": "0d5d1d1e",
   "metadata": {},
   "outputs": [],
   "source": []
  }
 ],
 "metadata": {
  "kernelspec": {
   "display_name": "python37",
   "language": "python",
   "name": "python37"
  },
  "language_info": {
   "codemirror_mode": {
    "name": "ipython",
    "version": 3
   },
   "file_extension": ".py",
   "mimetype": "text/x-python",
   "name": "python",
   "nbconvert_exporter": "python",
   "pygments_lexer": "ipython3",
   "version": "3.7.1"
  }
 },
 "nbformat": 4,
 "nbformat_minor": 5
}
