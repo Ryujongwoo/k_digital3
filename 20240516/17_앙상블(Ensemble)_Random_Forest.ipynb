{
 "cells": [
  {
   "cell_type": "code",
   "execution_count": 1,
   "id": "08be0a81",
   "metadata": {},
   "outputs": [],
   "source": [
    "import warnings\n",
    "warnings.filterwarnings(action='ignore')\n",
    "%config Completer.use_jedi = False\n",
    "import numpy as np\n",
    "import pandas as pd\n",
    "import matplotlib.pyplot as plt\n",
    "import matplotlib as mpl\n",
    "mpl.rcParams['axes.unicode_minus'] = False\n",
    "plt.rcParams['font.family'] = 'NanumGothicCoding'\n",
    "plt.rcParams['font.size'] = 10\n",
    "import seaborn as sns\n",
    "from sklearn.model_selection import train_test_split\n",
    "from sklearn.metrics import accuracy_score, confusion_matrix, classification_report"
   ]
  },
  {
   "cell_type": "markdown",
   "id": "fda7737b",
   "metadata": {},
   "source": [
    "앙상블(Ensemble)\n",
    "\n",
    "앙상블 기법이란 여러 개의 분류 모델을 조합해서 더 나은 성능을 얻어내는 방법이다.  \n",
    "최근접 이웃, 서포트 벡터 머신, 의사결정 트리, 나이브 베이즈 분류 모델을 실습했는데 지금까지 실습한 여러 분류 모델을 조합해서 단일 모델보다 더 좋은 성능을 낸다.\n",
    "\n",
    "배깅(Bagging)\n",
    "\n",
    "배깅의 어원은 부트스트랩(Bootstrap)과 어그리게이팅(AGGregatING, 집계)에서 왔고 상당히 연주가 힘든 바이올린 연주곡을 두 세 명의 초급 바이올린 연주자가 나누어 연주함으로써 한 명의 중급 바이올린 연주자가 연주하는 것 보다 더 낳은 연주를 할 수 있는 것과 유사하다.  \n",
    "중급 바이올린 연주자는 나름 잘 학습됬지만 학습 데이터에 과대 적합된 의사결정 트리라 볼 수 있다. 의사결정 트리의 최대 단점은 쉽게 과대 적합된다는것인데 배깅은 과대 적합이 되기 쉬운 모델에 상당히 적합한 앙상블 기법이다.  \n",
    "배깅은 한 가지 분류 모델을 여러 개 만들어서 서로 다른 학습 데이터로 학습시킨 후(부트스트랩), 동일한 테스트에 대한 서로 다른 예측값들을 투표를 통해(어그리게이팅) 가장 높은 예측값으로 최종 결론을 내리는 기법이다.\n",
    "\n",
    "<img src=\"./bootstrap.png\" align=\"left\" wigth=\"1300\"/>"
   ]
  },
  {
   "cell_type": "markdown",
   "id": "1bdff52e",
   "metadata": {},
   "source": [
    "<img src=\"./aggregating1.png\" align=\"left\" wigth=\"1300\"/>"
   ]
  },
  {
   "cell_type": "markdown",
   "id": "8285da5f",
   "metadata": {},
   "source": [
    "<img src=\"./aggregating2.png\" align=\"left\" wigth=\"1300\"/>"
   ]
  },
  {
   "cell_type": "markdown",
   "id": "860d6f72",
   "metadata": {},
   "source": [
    "<img src=\"./aggregating3.png\" align=\"left\" wigth=\"1300\"/>"
   ]
  },
  {
   "cell_type": "markdown",
   "id": "3d080605",
   "metadata": {},
   "source": [
    "<img src=\"./boosting1.png\" align=\"left\" wigth=\"1300\"/>"
   ]
  },
  {
   "cell_type": "markdown",
   "id": "ad1a334b",
   "metadata": {},
   "source": [
    "<img src=\"./boosting2.png\" align=\"left\" wigth=\"1300\"/>"
   ]
  },
  {
   "cell_type": "markdown",
   "id": "47b8d884",
   "metadata": {},
   "source": [
    "랜덤 포레스트(Random Forest)\n",
    "\n",
    "여러 의사결정 트리를 배깅을 적용해서 예측을 실행하는 모델이다.  \n",
    "배깅은 모든 분류 모델에 적용 가능하지만 특히 과대 적합되기 쉬운 의사결정 트리에 사용하면 확실히 과대 적합을 줄여 성능이 높아지는 혜택을 보기 때문에 배깅은 많은 의사결정 트리 모델의 개선을 이뤘고 여러 개의 나무들이 모여있다는 개념에서 랜덤 포레스트라는 이름이 생겨났다.\n",
    "\n",
    "의사결정 트리에서 최적의 특징으로 트리를 분기하는 반면 랜덤 포레스트는 각 노드에 주어진 데이터를 샘플링해서 일부 데이터를 제외한채 최적의 특징을 찾으며 트리를 분기한다. 이러한 과정에서 랜덤 포레스트는 또 한 번 편향을 증가시켜 과대 적합의 위험을 감소시킨다.\n",
    "\n",
    "부스팅(Boosting)\n",
    "\n",
    "여러 개의 분류기를 만들어 투표를 통해 예측값을 결정한다는 측면에서는 배깅과 동일한다.  \n",
    "배깅은 서로 다른 알고리즘에 기반한 여러 분류기를 병렬적으로 학습하는 반면에 부스팅은 동일한 알고리즘의 분류기를 순차적으로 학습해서 여러 개의 분류기를 만든 후 테스트할 때 가중 투표를 통해 예측값을 결정한다.\n",
    "\n",
    "MNIST 손글씨 데이터 셋으로 랜덤 포레스트 모델과 의사결정 트리 모델을 동일하게 학습시켜 두 모델의 성능 차이를 시각화해 비교한다.\n",
    "\n",
    "MNIST 손글씨 데이터 불러오기"
   ]
  },
  {
   "cell_type": "code",
   "execution_count": 2,
   "id": "8c42df76",
   "metadata": {},
   "outputs": [],
   "source": [
    "# 사이킷런이 제공하는 MNIST 손글씨 데이터를 불러오기 위해 import 한다.\n",
    "from sklearn.datasets import load_digits"
   ]
  },
  {
   "cell_type": "code",
   "execution_count": 3,
   "id": "8f4367dc",
   "metadata": {},
   "outputs": [
    {
     "name": "stdout",
     "output_type": "stream",
     "text": [
      "(1797, 64) (1797,)\n"
     ]
    }
   ],
   "source": [
    "mnist = load_digits() # 사이킷런이 제공하는 손글씨 데이터를 불러온다.\n",
    "# print(mnist)\n",
    "feature = mnist.data\n",
    "label = mnist.target\n",
    "print(feature.shape, label.shape)"
   ]
  },
  {
   "cell_type": "code",
   "execution_count": 4,
   "id": "4b3931f7",
   "metadata": {},
   "outputs": [
    {
     "name": "stdout",
     "output_type": "stream",
     "text": [
      "<class 'numpy.ndarray'>\n",
      "[[ 0.  0.  5. 13.  9.  1.  0.  0.]\n",
      " [ 0.  0. 13. 15. 10. 15.  5.  0.]\n",
      " [ 0.  3. 15.  2.  0. 11.  8.  0.]\n",
      " [ 0.  4. 12.  0.  0.  8.  8.  0.]\n",
      " [ 0.  5.  8.  0.  0.  9.  8.  0.]\n",
      " [ 0.  4. 11.  0.  1. 12.  7.  0.]\n",
      " [ 0.  2. 14.  5. 10. 12.  0.  0.]\n",
      " [ 0.  0.  6. 13. 10.  0.  0.  0.]] 0\n"
     ]
    }
   ],
   "source": [
    "print(type(feature[0]))\n",
    "print(feature[0].reshape(8, 8), label[0])"
   ]
  },
  {
   "cell_type": "markdown",
   "id": "6270c91f",
   "metadata": {},
   "source": [
    "교차 검증\n",
    "\n",
    "cross_val_score(model, x, y, scoring, cv)  \n",
    "model: 분석 모델  \n",
    "x: 독립 변수, 학습 데이터(피쳐)  \n",
    "y: 종속 변수, 학습 데이터의 학습 결과(실제값, 레이블, 클래스, 타겟)  \n",
    "scoring: 성능 검증에 사용할 평가 지표, 정확도를 의미하는 'accuracy'를 지정한다.  \n",
    "cv: 교차 검증 조각의 개수"
   ]
  },
  {
   "cell_type": "code",
   "execution_count": 5,
   "id": "090b5940",
   "metadata": {},
   "outputs": [],
   "source": [
    "# 교차 검증을 실행하기 위해서 import 한다.\n",
    "from sklearn.model_selection import cross_val_score\n",
    "# 사이킷런의 의사결정 트리를 사용하기 위해 import 한다.\n",
    "from sklearn.tree import DecisionTreeClassifier\n",
    "# 사이킷런의 랜덤 포레스트를 사용하기 위해 import 한다.\n",
    "from sklearn.ensemble import RandomForestClassifier"
   ]
  },
  {
   "cell_type": "code",
   "execution_count": 6,
   "id": "98520699",
   "metadata": {},
   "outputs": [],
   "source": [
    "# MNIST 손글씨 데이터에 대한 의사결정 트리와 랜덤 포레스트의 검증 정확도를 계산하는 함수\n",
    "# cross_validation(분류기, 학습 데이터, 학습 데이터에 따른 레이블)\n",
    "def cross_validation(classifier, feature, label):\n",
    "    cv_scores = []\n",
    "    for i in range(10):\n",
    "        scores = cross_val_score(classifier, feature, label, scoring='accuracy', cv=10)\n",
    "        # print(scores, scores.mean())\n",
    "        cv_scores.append(scores.mean())\n",
    "    return cv_scores"
   ]
  },
  {
   "cell_type": "code",
   "execution_count": 7,
   "id": "f57cf1be",
   "metadata": {},
   "outputs": [
    {
     "name": "stdout",
     "output_type": "stream",
     "text": [
      "0.82189 0.82193 0.82525 0.81909 0.83081 0.82971 0.82914 0.83248 0.83303 0.83247 "
     ]
    }
   ],
   "source": [
    "# 의사결정 트리의 MNIST 손글씨 검증 정확도를 계산한다.\n",
    "dt_cv_score = cross_validation(DecisionTreeClassifier(), feature, label)\n",
    "for score in dt_cv_score:\n",
    "    print('{:7.5f}'.format(score), end=' ')"
   ]
  },
  {
   "cell_type": "code",
   "execution_count": 8,
   "id": "9250ae8a",
   "metadata": {},
   "outputs": [
    {
     "name": "stdout",
     "output_type": "stream",
     "text": [
      "0.94602 0.95102 0.94879 0.94601 0.95104 0.95270 0.94880 0.94380 0.95270 0.94991 "
     ]
    }
   ],
   "source": [
    "# 랜덤 포레스트의 MNIST 손글씨 검증 정확도를 계산한다.\n",
    "rf_cv_score = cross_validation(RandomForestClassifier(), feature, label)\n",
    "for score in rf_cv_score:\n",
    "    print('{:7.5f}'.format(score), end=' ')"
   ]
  },
  {
   "cell_type": "markdown",
   "id": "3ed4dcd6",
   "metadata": {},
   "source": [
    "의사결정 트리 vs 랜덤 포레스트 시각화"
   ]
  },
  {
   "cell_type": "code",
   "execution_count": 9,
   "id": "e4558ec4",
   "metadata": {},
   "outputs": [
    {
     "data": {
      "text/html": [
       "<div>\n",
       "<style scoped>\n",
       "    .dataframe tbody tr th:only-of-type {\n",
       "        vertical-align: middle;\n",
       "    }\n",
       "\n",
       "    .dataframe tbody tr th {\n",
       "        vertical-align: top;\n",
       "    }\n",
       "\n",
       "    .dataframe thead th {\n",
       "        text-align: right;\n",
       "    }\n",
       "</style>\n",
       "<table border=\"1\" class=\"dataframe\">\n",
       "  <thead>\n",
       "    <tr style=\"text-align: right;\">\n",
       "      <th></th>\n",
       "      <th>decision_tree</th>\n",
       "      <th>random_forest</th>\n",
       "    </tr>\n",
       "  </thead>\n",
       "  <tbody>\n",
       "    <tr>\n",
       "      <th>0</th>\n",
       "      <td>0.821893</td>\n",
       "      <td>0.946021</td>\n",
       "    </tr>\n",
       "    <tr>\n",
       "      <th>1</th>\n",
       "      <td>0.821927</td>\n",
       "      <td>0.951024</td>\n",
       "    </tr>\n",
       "    <tr>\n",
       "      <th>2</th>\n",
       "      <td>0.825255</td>\n",
       "      <td>0.948793</td>\n",
       "    </tr>\n",
       "    <tr>\n",
       "      <th>3</th>\n",
       "      <td>0.819094</td>\n",
       "      <td>0.946015</td>\n",
       "    </tr>\n",
       "    <tr>\n",
       "      <th>4</th>\n",
       "      <td>0.830813</td>\n",
       "      <td>0.951037</td>\n",
       "    </tr>\n",
       "    <tr>\n",
       "      <th>5</th>\n",
       "      <td>0.829705</td>\n",
       "      <td>0.952697</td>\n",
       "    </tr>\n",
       "    <tr>\n",
       "      <th>6</th>\n",
       "      <td>0.829137</td>\n",
       "      <td>0.948802</td>\n",
       "    </tr>\n",
       "    <tr>\n",
       "      <th>7</th>\n",
       "      <td>0.832480</td>\n",
       "      <td>0.943796</td>\n",
       "    </tr>\n",
       "    <tr>\n",
       "      <th>8</th>\n",
       "      <td>0.833029</td>\n",
       "      <td>0.952700</td>\n",
       "    </tr>\n",
       "    <tr>\n",
       "      <th>9</th>\n",
       "      <td>0.832471</td>\n",
       "      <td>0.949907</td>\n",
       "    </tr>\n",
       "  </tbody>\n",
       "</table>\n",
       "</div>"
      ],
      "text/plain": [
       "   decision_tree  random_forest\n",
       "0       0.821893       0.946021\n",
       "1       0.821927       0.951024\n",
       "2       0.825255       0.948793\n",
       "3       0.819094       0.946015\n",
       "4       0.830813       0.951037\n",
       "5       0.829705       0.952697\n",
       "6       0.829137       0.948802\n",
       "7       0.832480       0.943796\n",
       "8       0.833029       0.952700\n",
       "9       0.832471       0.949907"
      ]
     },
     "execution_count": 9,
     "metadata": {},
     "output_type": "execute_result"
    }
   ],
   "source": [
    "df = pd.DataFrame({'decision_tree': dt_cv_score, 'random_forest': rf_cv_score})\n",
    "df"
   ]
  },
  {
   "cell_type": "code",
   "execution_count": 10,
   "id": "c69bdfa5",
   "metadata": {},
   "outputs": [
    {
     "data": {
      "text/plain": [
       "<Figure size 800x600 with 0 Axes>"
      ]
     },
     "metadata": {},
     "output_type": "display_data"
    },
    {
     "data": {
      "image/png": "[encoded data removed]",
      "text/plain": [
       "<Figure size 640x480 with 1 Axes>"
      ]
     },
     "metadata": {},
     "output_type": "display_data"
    }
   ],
   "source": [
    "plt.figure(figsize=(8, 6))\n",
    "df.plot()\n",
    "plt.show()"
   ]
  },
  {
   "cell_type": "markdown",
   "id": "c77dcc87",
   "metadata": {},
   "source": [
    "최종 검증 정확도의 평균"
   ]
  },
  {
   "cell_type": "code",
   "execution_count": 11,
   "id": "aa0afba8",
   "metadata": {},
   "outputs": [
    {
     "name": "stdout",
     "output_type": "stream",
     "text": [
      "의사결정 트리: 82.758%\n",
      "랜덤 포레스트: 94.908%\n"
     ]
    }
   ],
   "source": [
    "print('의사결정 트리: {:.3%}'.format(np.mean(dt_cv_score)))\n",
    "print('랜덤 포레스트: {:.3%}'.format(np.mean(rf_cv_score)))"
   ]
  },
  {
   "cell_type": "code",
   "execution_count": null,
   "id": "ff175f78",
   "metadata": {},
   "outputs": [],
   "source": []
  },
  {
   "cell_type": "code",
   "execution_count": null,
   "id": "4f812a64",
   "metadata": {},
   "outputs": [],
   "source": []
  }
 ],
 "metadata": {
  "kernelspec": {
   "display_name": "python37",
   "language": "python",
   "name": "python37"
  },
  "language_info": {
   "codemirror_mode": {
    "name": "ipython",
    "version": 3
   },
   "file_extension": ".py",
   "mimetype": "text/x-python",
   "name": "python",
   "nbconvert_exporter": "python",
   "pygments_lexer": "ipython3",
   "version": "3.7.1"
  }
 },
 "nbformat": 4,
 "nbformat_minor": 5
}
