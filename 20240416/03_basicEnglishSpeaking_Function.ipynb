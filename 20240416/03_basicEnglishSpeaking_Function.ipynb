{
 "cells": [
  {
   "cell_type": "code",
   "execution_count": 1,
   "id": "3195f805",
   "metadata": {},
   "outputs": [],
   "source": [
    "import warnings\n",
    "warnings.filterwarnings(action='ignore')\n",
    "%config Completer.use_jedi = False"
   ]
  },
  {
   "cell_type": "code",
   "execution_count": 2,
   "id": "e3e87d29",
   "metadata": {},
   "outputs": [],
   "source": [
    "import requests\n",
    "from bs4 import BeautifulSoup"
   ]
  },
  {
   "cell_type": "code",
   "execution_count": 3,
   "id": "19524848",
   "metadata": {},
   "outputs": [],
   "source": [
    "# 대화 주제 1 ~ 75를 크롤링해서 대화 주제와 대화 주제별 href 속성값을 리턴하는 함수\n",
    "def getSubject():\n",
    "    targetSite = 'https://basicenglishspeaking.com/daily-english-conversation-topics/'\n",
    "    request = requests.get(targetSite)\n",
    "    html = request.text\n",
    "    soup = BeautifulSoup(html, 'html.parser')\n",
    "    \n",
    "    subjects = [] # 대화 주제\n",
    "    contentLinks = [] # 대화 주제에 따른 세부 대화 내용의 url을 저장할 빈 리스트를 선언한다.\n",
    "    \n",
    "    divs = soup.findAll('div', {'class': 'tcb-flex-col'})\n",
    "    for div in divs:\n",
    "        a = div.findAll('a')\n",
    "        for text in a:\n",
    "            subjects.append(text.text) # 대화 주제 추가\n",
    "            # 세부 대화 내용의 url을 contentLinks에 추가한다.\n",
    "            contentLinks.append(text.get('href'))\n",
    "        # ===== for\n",
    "    # ===== for\n",
    "    \n",
    "    # 대화 주제와 대화 주제에 따른 세부 대화 내용의 url이 저장된 리스트를 리턴시킨다.\n",
    "    # 리턴되는 데이터가 2개가 아니라 subjects와 contentLinks를 1개의 튜플로 묶어서 리턴시킨다.\n",
    "    return subjects, contentLinks"
   ]
  },
  {
   "cell_type": "code",
   "execution_count": 4,
   "id": "de72e433",
   "metadata": {},
   "outputs": [
    {
     "name": "stdout",
     "output_type": "stream",
     "text": [
      " 1. Family: https://basicenglishspeaking.com/family/\n",
      " 2. Restaurant: https://basicenglishspeaking.com/restaurant/\n",
      " 3. Books: https://basicenglishspeaking.com/books/\n",
      " 4. Travel: https://basicenglishspeaking.com/travel/\n",
      " 5. Website: https://basicenglishspeaking.com/website/\n",
      " 6. Accident: https://basicenglishspeaking.com/accident/\n",
      " 7. Childhood memory: https://basicenglishspeaking.com/childhood-memory/\n",
      " 8. Favorite rooms: https://basicenglishspeaking.com/favorite-rooms/\n",
      " 9. Presents: https://basicenglishspeaking.com/presents/\n",
      "10. Historical place: https://basicenglishspeaking.com/historical-place/\n",
      "11. Newspaper/ Magazine: https://basicenglishspeaking.com/newspaper-magazine/\n",
      "12. A memorable event: https://basicenglishspeaking.com/an-event/\n",
      "13. A favorite subject: https://basicenglishspeaking.com/a-subject/\n",
      "14. A museum: https://basicenglishspeaking.com/a-museum/\n",
      "15. A favorite movie: https://basicenglishspeaking.com/a-movie/\n",
      "16. A foreign country: https://basicenglishspeaking.com/a-foreign-country/\n",
      "17. Parties: https://basicenglishspeaking.com/parties/\n",
      "18. A teacher: https://basicenglishspeaking.com/a-teacher/\n",
      "19. A friend: https://basicenglishspeaking.com/a-friend/\n",
      "20. A hotel: https://basicenglishspeaking.com/a-hotel/\n",
      "21. A letter: https://basicenglishspeaking.com/a-letter/\n",
      "22. Hobbies: https://basicenglishspeaking.com/hobbies/\n",
      "23. Music: https://basicenglishspeaking.com/music/\n",
      "24. Shopping: https://basicenglishspeaking.com/shopping/\n",
      "25. Holiday: https://basicenglishspeaking.com/holiday/\n",
      "26. Animals: https://basicenglishspeaking.com/animals/\n",
      "27. A practical skill: https://basicenglishspeaking.com/a-practical-skill/\n",
      "28. Sport: https://basicenglishspeaking.com/sports/\n",
      "29. A School: https://basicenglishspeaking.com/a-school/\n",
      "30. Festival: https://basicenglishspeaking.com/festival/\n",
      "31. Food: https://basicenglishspeaking.com/food/\n",
      "32. Household appliance: https://basicenglishspeaking.com/household-appliance/\n",
      "33. A music band: https://basicenglishspeaking.com/a-music-band/\n",
      "34. Weather: https://basicenglishspeaking.com/weather/\n",
      "35. Neighbor: https://basicenglishspeaking.com/neighbor/\n",
      "36. Natural scenery: https://basicenglishspeaking.com/natural-scenery/\n",
      "37. Outdoor activities: https://basicenglishspeaking.com/outdoor-activities/\n",
      "38. Law: https://basicenglishspeaking.com/law/\n",
      "39. Pollution: https://basicenglishspeaking.com/pollution/\n",
      "40. Traffic jam: https://basicenglishspeaking.com/traffic-jam/\n",
      "41. TV program: https://basicenglishspeaking.com/tv-program/\n",
      "42. Architect/ Building: https://basicenglishspeaking.com/architecture-building/\n",
      "43. Electronic Media: https://basicenglishspeaking.com/electronic-media/\n",
      "44. Job/ Career: https://basicenglishspeaking.com/job-career/\n",
      "45. Competition/ contest: https://basicenglishspeaking.com/competition-contest/\n",
      "46. A garden: https://basicenglishspeaking.com/a-garden/\n",
      "47. Hometown: https://basicenglishspeaking.com/hometown/\n",
      "48. Clothing: https://basicenglishspeaking.com/clothing/\n",
      "49. Advertisement: https://basicenglishspeaking.com/an-advertisement/\n",
      "50. A project: https://basicenglishspeaking.com/a-project/\n",
      "51. A wedding: https://basicenglishspeaking.com/a-wedding/\n",
      "52. A Coffee shop: https://basicenglishspeaking.com/a-coffee-shop/\n",
      "53. Culture: https://basicenglishspeaking.com/culture/\n",
      "54. Transport: https://basicenglishspeaking.com/transport/\n",
      "55. Politician: https://basicenglishspeaking.com/politician/\n",
      "56. Communication: https://basicenglishspeaking.com/communication/\n",
      "57. Business: https://basicenglishspeaking.com/business/\n",
      "58. Computer: https://basicenglishspeaking.com/computer/\n",
      "59. Exercise: https://basicenglishspeaking.com/exercise/\n",
      "60. Goal/ ambition: https://basicenglishspeaking.com/goal-ambition/\n",
      "61. Art: https://basicenglishspeaking.com/art/\n",
      "62. Fashion: https://basicenglishspeaking.com/fashion/\n",
      "63. Jewelry: https://basicenglishspeaking.com/jewelry/\n",
      "64. Cosmetic: https://basicenglishspeaking.com/cosmetic/\n",
      "65. Indoor Game: https://basicenglishspeaking.com/indoor-game/\n",
      "66. Phone conversation: https://basicenglishspeaking.com/phone-conversation/\n",
      "67. Learning A Second language: https://basicenglishspeaking.com/learning-second-language/\n",
      "68. A Creative Person: https://basicenglishspeaking.com/a-creative-person/\n",
      "69. A celebrity: https://basicenglishspeaking.com/a-celebrity/\n",
      "70. A Health Problem: https://basicenglishspeaking.com/a-health-problem/\n",
      "71. Technological advancements: https://basicenglishspeaking.com/technological-advancements/\n",
      "72. A Landmark: https://basicenglishspeaking.com/a-landmark/\n",
      "73. Handcraft Items: https://basicenglishspeaking.com/handcraft-items/\n",
      "74. Plastic Surgery: https://basicenglishspeaking.com/plastic-surgery/\n",
      "75. Success: https://basicenglishspeaking.com/success/\n"
     ]
    }
   ],
   "source": [
    "subjects, contentLinks = getSubject()\n",
    "for i in range(len(subjects)):\n",
    "    print('{:2d}. {}: {}'.format(i + 1, subjects[i], contentLinks[i]))"
   ]
  },
  {
   "cell_type": "code",
   "execution_count": null,
   "id": "933f35b1",
   "metadata": {},
   "outputs": [],
   "source": []
  },
  {
   "cell_type": "code",
   "execution_count": null,
   "id": "1705dc72",
   "metadata": {},
   "outputs": [],
   "source": []
  }
 ],
 "metadata": {
  "kernelspec": {
   "display_name": "Python 3",
   "language": "python",
   "name": "python3"
  },
  "language_info": {
   "codemirror_mode": {
    "name": "ipython",
    "version": 3
   },
   "file_extension": ".py",
   "mimetype": "text/x-python",
   "name": "python",
   "nbconvert_exporter": "python",
   "pygments_lexer": "ipython3",
   "version": "3.6.8"
  }
 },
 "nbformat": 4,
 "nbformat_minor": 5
}
