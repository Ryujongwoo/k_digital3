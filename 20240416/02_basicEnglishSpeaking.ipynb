{
 "cells": [
  {
   "cell_type": "code",
   "execution_count": 1,
   "id": "85854087",
   "metadata": {},
   "outputs": [],
   "source": [
    "import warnings\n",
    "warnings.filterwarnings(action='ignore')\n",
    "%config Completer.use_jedi = False"
   ]
  },
  {
   "cell_type": "code",
   "execution_count": 2,
   "id": "93c16409",
   "metadata": {},
   "outputs": [],
   "source": [
    "import requests\n",
    "from bs4 import BeautifulSoup"
   ]
  },
  {
   "cell_type": "code",
   "execution_count": 3,
   "id": "ee49df62",
   "metadata": {},
   "outputs": [],
   "source": [
    "targetSite = 'https://basicenglishspeaking.com/daily-english-conversation-topics/'"
   ]
  },
  {
   "cell_type": "code",
   "execution_count": 7,
   "id": "f62fa43b",
   "metadata": {},
   "outputs": [],
   "source": [
    "request = requests.get(targetSite)\n",
    "# print(request)\n",
    "html = request.text\n",
    "# print(html)\n",
    "soup = BeautifulSoup(html, 'html.parser')\n",
    "# print(soup)"
   ]
  },
  {
   "cell_type": "code",
   "execution_count": 18,
   "id": "4c9beff7",
   "metadata": {
    "scrolled": true
   },
   "outputs": [
    {
     "name": "stdout",
     "output_type": "stream",
     "text": [
      " 1. Family\n",
      " 2. Restaurant\n",
      " 3. Books\n",
      " 4. Travel\n",
      " 5. Website\n",
      " 6. Accident\n",
      " 7. Childhood memory\n",
      " 8. Favorite rooms\n",
      " 9. Presents\n",
      "10. Historical place\n",
      "11. Newspaper/ Magazine\n",
      "12. A memorable event\n",
      "13. A favorite subject\n",
      "14. A museum\n",
      "15. A favorite movie\n",
      "16. A foreign country\n",
      "17. Parties\n",
      "18. A teacher\n",
      "19. A friend\n",
      "20. A hotel\n",
      "21. A letter\n",
      "22. Hobbies\n",
      "23. Music\n",
      "24. Shopping\n",
      "25. Holiday\n",
      "26. Animals\n",
      "27. A practical skill\n",
      "28. Sport\n",
      "29. A School\n",
      "30. Festival\n",
      "31. Food\n",
      "32. Household appliance\n",
      "33. A music band\n",
      "34. Weather\n",
      "35. Neighbor\n",
      "36. Natural scenery\n",
      "37. Outdoor activities\n",
      "38. Law\n",
      "39. Pollution\n",
      "40. Traffic jam\n",
      "41. TV program\n",
      "42. Architect/ Building\n",
      "43. Electronic Media\n",
      "44. Job/ Career\n",
      "45. Competition/ contest\n",
      "46. A garden\n",
      "47. Hometown\n",
      "48. Clothing\n",
      "49. Advertisement\n",
      "50. A project\n",
      "51. A wedding\n",
      "52. A Coffee shop\n",
      "53. Culture\n",
      "54. Transport\n",
      "55. Politician\n",
      "56. Communication\n",
      "57. Business\n",
      "58. Computer\n",
      "59. Exercise\n",
      "60. Goal/ ambition\n",
      "61. Art\n",
      "62. Fashion\n",
      "63. Jewelry\n",
      "64. Cosmetic\n",
      "65. Indoor Game\n",
      "66. Phone conversation\n",
      "67. Learning A Second language\n",
      "68. A Creative Person\n",
      "69. A celebrity\n",
      "70. A Health Problem\n",
      "71. Technological advancements\n",
      "72. A Landmark\n",
      "73. Handcraft Items\n",
      "74. Plastic Surgery\n",
      "75. Success\n"
     ]
    }
   ],
   "source": [
    "subjects = [] # 대화 주제를 저장할 빈 리스트를 선언한다.\n",
    "divs = soup.findAll('div', {'class': 'tcb-flex-col'})\n",
    "# print(len(divs)) # 3\n",
    "i = 0\n",
    "for div in divs:\n",
    "    # print(div)\n",
    "    a = div.findAll('a')\n",
    "    # print(len(a))\n",
    "    for text in a:\n",
    "        i += 1\n",
    "        print('{:2d}. {}'.format(i, text.text))\n",
    "        subjects.append(text.text)"
   ]
  },
  {
   "cell_type": "code",
   "execution_count": 17,
   "id": "abcb4648",
   "metadata": {},
   "outputs": [
    {
     "name": "stdout",
     "output_type": "stream",
     "text": [
      "['Family', 'Restaurant', 'Books', 'Travel', 'Website', 'Accident', 'Childhood memory', 'Favorite rooms', 'Presents', 'Historical place', 'Newspaper/ Magazine', 'A memorable event', 'A favorite subject', 'A museum', 'A favorite movie', 'A foreign country', 'Parties', 'A teacher', 'A friend', 'A hotel', 'A letter', 'Hobbies', 'Music', 'Shopping', 'Holiday', 'Animals', 'A practical skill', 'Sport', 'A School', 'Festival', 'Food', 'Household appliance', 'A music band', 'Weather', 'Neighbor', 'Natural scenery', 'Outdoor activities', 'Law', 'Pollution', 'Traffic jam', 'TV program', 'Architect/ Building', 'Electronic Media', 'Job/ Career', 'Competition/ contest', 'A garden', 'Hometown', 'Clothing', 'Advertisement', 'A project', 'A wedding', 'A Coffee shop', 'Culture', 'Transport', 'Politician', 'Communication', 'Business', 'Computer', 'Exercise', 'Goal/ ambition', 'Art', 'Fashion', 'Jewelry', 'Cosmetic', 'Indoor Game', 'Phone conversation', 'Learning A Second language', 'A\\xa0Creative Person', 'A celebrity', 'A Health Problem', 'Technological advancements', 'A Landmark', 'Handcraft Items', 'Plastic Surgery', 'Success']\n"
     ]
    }
   ],
   "source": [
    "print(subjects)"
   ]
  },
  {
   "cell_type": "code",
   "execution_count": 20,
   "id": "e91ee44f",
   "metadata": {},
   "outputs": [
    {
     "name": "stdout",
     "output_type": "stream",
     "text": [
      " 1. Family\n",
      " 2. Restaurant\n",
      " 3. Books\n",
      " 4. Travel\n",
      " 5. Website\n",
      " 6. Accident\n",
      " 7. Childhood memory\n",
      " 8. Favorite rooms\n",
      " 9. Presents\n",
      "10. Historical place\n",
      "11. Newspaper/ Magazine\n",
      "12. A memorable event\n",
      "13. A favorite subject\n",
      "14. A museum\n",
      "15. A favorite movie\n",
      "16. A foreign country\n",
      "17. Parties\n",
      "18. A teacher\n",
      "19. A friend\n",
      "20. A hotel\n",
      "21. A letter\n",
      "22. Hobbies\n",
      "23. Music\n",
      "24. Shopping\n",
      "25. Holiday\n",
      "26. Animals\n",
      "27. A practical skill\n",
      "28. Sport\n",
      "29. A School\n",
      "30. Festival\n",
      "31. Food\n",
      "32. Household appliance\n",
      "33. A music band\n",
      "34. Weather\n",
      "35. Neighbor\n",
      "36. Natural scenery\n",
      "37. Outdoor activities\n",
      "38. Law\n",
      "39. Pollution\n",
      "40. Traffic jam\n",
      "41. TV program\n",
      "42. Architect/ Building\n",
      "43. Electronic Media\n",
      "44. Job/ Career\n",
      "45. Competition/ contest\n",
      "46. A garden\n",
      "47. Hometown\n",
      "48. Clothing\n",
      "49. Advertisement\n",
      "50. A project\n",
      "51. A wedding\n",
      "52. A Coffee shop\n",
      "53. Culture\n",
      "54. Transport\n",
      "55. Politician\n",
      "56. Communication\n",
      "57. Business\n",
      "58. Computer\n",
      "59. Exercise\n",
      "60. Goal/ ambition\n",
      "61. Art\n",
      "62. Fashion\n",
      "63. Jewelry\n",
      "64. Cosmetic\n",
      "65. Indoor Game\n",
      "66. Phone conversation\n",
      "67. Learning A Second language\n",
      "68. A Creative Person\n",
      "69. A celebrity\n",
      "70. A Health Problem\n",
      "71. Technological advancements\n",
      "72. A Landmark\n",
      "73. Handcraft Items\n",
      "74. Plastic Surgery\n",
      "75. Success\n"
     ]
    }
   ],
   "source": [
    "for i in range(len(subjects)):\n",
    "    print('{:2d}. {}'.format(i + 1, subjects[i]))"
   ]
  },
  {
   "cell_type": "code",
   "execution_count": null,
   "id": "8b264022",
   "metadata": {},
   "outputs": [],
   "source": []
  },
  {
   "cell_type": "code",
   "execution_count": null,
   "id": "9a060962",
   "metadata": {},
   "outputs": [],
   "source": []
  }
 ],
 "metadata": {
  "kernelspec": {
   "display_name": "Python 3",
   "language": "python",
   "name": "python3"
  },
  "language_info": {
   "codemirror_mode": {
    "name": "ipython",
    "version": 3
   },
   "file_extension": ".py",
   "mimetype": "text/x-python",
   "name": "python",
   "nbconvert_exporter": "python",
   "pygments_lexer": "ipython3",
   "version": "3.6.8"
  }
 },
 "nbformat": 4,
 "nbformat_minor": 5
}
