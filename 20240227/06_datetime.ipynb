{
 "cells": [
  {
   "cell_type": "markdown",
   "id": "f1d4d625",
   "metadata": {},
   "source": [
    "datetime 모듈\n",
    "\n",
    "컴퓨터 시스템의 날짜와 시간을 얻어온다."
   ]
  },
  {
   "cell_type": "code",
   "execution_count": 3,
   "id": "276e9384",
   "metadata": {},
   "outputs": [
    {
     "name": "stdout",
     "output_type": "stream",
     "text": [
      "2024-02-27 12:24:46.468871\n"
     ]
    }
   ],
   "source": [
    "import datetime # datetime 모듈 전체를 import 한다.\n",
    "now = datetime.datetime.now()\n",
    "print(now)"
   ]
  },
  {
   "cell_type": "code",
   "execution_count": 4,
   "id": "e40ba16d",
   "metadata": {},
   "outputs": [
    {
     "name": "stdout",
     "output_type": "stream",
     "text": [
      "2024-02-27 12:24:46.726170\n"
     ]
    }
   ],
   "source": [
    "from datetime import datetime # datetime 모듈에서 datetime 클래스만 import 한다.\n",
    "now2 = datetime.now()\n",
    "print(now2)"
   ]
  },
  {
   "cell_type": "code",
   "execution_count": 5,
   "id": "345fc5f8",
   "metadata": {},
   "outputs": [
    {
     "name": "stdout",
     "output_type": "stream",
     "text": [
      "2024-02-27 12:24:47.052696\n"
     ]
    }
   ],
   "source": [
    "from datetime import datetime as dt # import한 datetime 클래스에 dt라는 별명을 지정한다.\n",
    "# import 하는 모듈에 별명을 지정하면 원래 모듈 이름은 사용할 수 없고 as 뒤의 별명을 사용해야 한다.\n",
    "# now3 = datetime.now() # 에러\n",
    "now3 = dt.now()\n",
    "print(now3)"
   ]
  },
  {
   "cell_type": "markdown",
   "id": "01d357df",
   "metadata": {},
   "source": [
    "날짜, 시간 데이터에서 년, 월, 일, 시, 분, 초, 밀리초, 마이크로초, 요일 추출하기"
   ]
  },
  {
   "cell_type": "code",
   "execution_count": 15,
   "id": "6894651c",
   "metadata": {},
   "outputs": [
    {
     "name": "stdout",
     "output_type": "stream",
     "text": [
      "2024-02-27 12:41:09.462580\n",
      "년: 2024\n",
      "월: 2\n",
      "일: 27\n",
      "시: 12\n",
      "분: 41\n",
      "초: 9\n",
      "마이크로초: 462580\n",
      "밀리초: 462\n",
      "요일: 1\n",
      "요일: 화\n"
     ]
    }
   ],
   "source": [
    "from datetime import datetime as dt\n",
    "today = dt.now()\n",
    "print(today)\n",
    "\n",
    "print('년: {}'.format(today.year))\n",
    "print('월: {}'.format(today.month))\n",
    "print('일: {}'.format(today.day))\n",
    "print('시: {}'.format(today.hour))\n",
    "print('분: {}'.format(today.minute))\n",
    "print('초: {}'.format(today.second))\n",
    "print('마이크로초: {}'.format(today.microsecond))\n",
    "print('밀리초: {}'.format(today.microsecond // 1000))\n",
    "# weekday() 메소드로 요일을 숫자로 얻어올 수 있다. 0(월), 1(화), 2(수), 3(목), 4(금), 5(토), 6(일)\n",
    "print('요일: {}'.format(today.weekday()))\n",
    "week = ['월', '화', '수', '목', '금', '토', '일']\n",
    "print('요일: {}'.format(week[today.weekday()]))"
   ]
  },
  {
   "cell_type": "markdown",
   "id": "b316273d",
   "metadata": {},
   "source": [
    "날짜, 시간 수정하기"
   ]
  },
  {
   "cell_type": "code",
   "execution_count": 26,
   "id": "4a5b80e5",
   "metadata": {},
   "outputs": [
    {
     "name": "stdout",
     "output_type": "stream",
     "text": [
      "2024-02-27 12:46:20.652055\n",
      "2025-02-27 12:46:20.652055\n",
      "2024-12-27 12:46:20.652055\n",
      "2024-02-25 12:46:20.652055\n",
      "2024-02-27 17:46:20.652055\n",
      "2024-02-27 12:35:20.652055\n",
      "2024-02-27 12:46:47.652055\n",
      "2024-02-27 12:46:20.111111\n"
     ]
    }
   ],
   "source": [
    "from datetime import datetime as dt\n",
    "today = dt.now()\n",
    "print(today)\n",
    "\n",
    "# replace() 메소드로 날짜, 시간을 수정할 수 있다.\n",
    "print(today.replace(year=2025))\n",
    "print(today.replace(month=12))\n",
    "print(today.replace(day=25))\n",
    "print(today.replace(hour=17))\n",
    "print(today.replace(minute=35))\n",
    "print(today.replace(second=47))\n",
    "print(today.replace(microsecond=111111))"
   ]
  },
  {
   "cell_type": "markdown",
   "id": "b8c8c23e",
   "metadata": {},
   "source": [
    "날짜, 시간 데이터 만들기"
   ]
  },
  {
   "cell_type": "code",
   "execution_count": 46,
   "id": "5fde14a1",
   "metadata": {},
   "outputs": [
    {
     "name": "stdout",
     "output_type": "stream",
     "text": [
      "2024-11-7 <class 'str'>\n",
      "2024-11-07 00:00:00 <class 'datetime.datetime'>\n",
      "13:20:01 <class 'str'>\n",
      "2024-02-27 13:20:01 <class 'datetime.datetime'>\n",
      "2024-11-7 13:20:01 <class 'str'>\n",
      "2024-11-07 13:20:01 <class 'datetime.datetime'>\n"
     ]
    }
   ],
   "source": [
    "from dateutil.parser import parse\n",
    "\n",
    "string = '2024-11-7' # 2024/11/7, 2024.11.7\n",
    "print(string, type(string))\n",
    "date = parse(string)\n",
    "print(date, type(date))\n",
    "\n",
    "string = '13:20:01'\n",
    "print(string, type(string))\n",
    "time = parse(string)\n",
    "print(time, type(time))\n",
    "\n",
    "string = '2024-11-7 13:20:01'\n",
    "print(string, type(string))\n",
    "now = parse(string)\n",
    "print(now, type(now))"
   ]
  },
  {
   "cell_type": "markdown",
   "id": "151ae188",
   "metadata": {},
   "source": [
    "두 날짜 데이터 사이의 차이 계산하기"
   ]
  },
  {
   "cell_type": "code",
   "execution_count": 62,
   "id": "d0de876d",
   "metadata": {},
   "outputs": [
    {
     "name": "stdout",
     "output_type": "stream",
     "text": [
      "2024-02-27 13:03:00.670631 2024-07-11 13:20:01\n",
      "135 days, 0:17:00.329369\n",
      "135\n",
      "1020\n",
      "329369\n",
      "11665020.329369\n"
     ]
    }
   ],
   "source": [
    "from datetime import datetime as dt\n",
    "from dateutil.parser import parse\n",
    "start = dt.now()\n",
    "end = parse('2024-7-11 13:20:1')\n",
    "print(start, end)\n",
    "\n",
    "gap = end - start\n",
    "print(gap)\n",
    "print(gap.days) # 두 날짜 데이터 사이의 일 단위 차이를 얻어온다. => 날짜 단위\n",
    "print(gap.seconds) # 두 날짜 데이터 사이의 초 단위 차이만 얻어온다. => 시간 단위\n",
    "print(gap.microseconds) # 두 날짜 데이터 사이의 마이크로초 단위 차이만 얻어온다.\n",
    "print(gap.total_seconds()) # 두 날짜 데이터 사이의 초 단위 차이만 얻어온다. => 전체 데이터"
   ]
  },
  {
   "cell_type": "markdown",
   "id": "df35324e",
   "metadata": {},
   "source": [
    "날짜, 시간 서식 지정하기  \n",
    "날짜데이터.strftime('출력 서식')\n",
    "\n",
    "날짜 서식  \n",
    "%Y: 년도 4자리, %y: 년도 2자리  \n",
    "%m: 월(숫자), %B: 월(영어 => 전체), %b: 월(영어 => 앞 3글자)  \n",
    "%d: 일  \n",
    "%A: 요일(영어 => 전체), %a: 요일(영어 => 앞 3글자)"
   ]
  },
  {
   "cell_type": "code",
   "execution_count": 73,
   "id": "cb3a1f80",
   "metadata": {},
   "outputs": [
    {
     "name": "stdout",
     "output_type": "stream",
     "text": [
      "2024-02-27 13:12:37.441719\n",
      "2024-02-27\n",
      "<class 'str'>\n",
      "2024/02/27\n",
      "2024.02.27\n",
      "2024-February-27 Tuesday\n",
      "2024-Feb-27 Tue\n",
      "Tue Feb-27 2024\n",
      "2024년 02월 27일\n"
     ]
    }
   ],
   "source": [
    "from datetime import datetime as dt\n",
    "today = dt.now()\n",
    "print(today)\n",
    "\n",
    "print(today.strftime('%Y-%m-%d'))\n",
    "print(type(today.strftime('%Y-%m-%d')))\n",
    "print(today.strftime('%Y/%m/%d'))\n",
    "print(today.strftime('%Y.%m.%d'))\n",
    "print(today.strftime('%Y-%B-%d %A'))\n",
    "print(today.strftime('%Y-%b-%d %a'))\n",
    "print(today.strftime('%a %b-%d %Y'))\n",
    "\n",
    "# 날짜, 시간 서식에 한글을 넣었을 때 유니코드 인코딩 문제로 UnicodeEncodeError가 발생된다.\n",
    "# print(today.strftime('%Y년 %m월 %d일')) # 에러\n",
    "# 날짜, 시간 서식 지정시 UnicodeEncodeError가 발생되면 아래와 같이 코딩한다.\n",
    "print(today.strftime('%Y년 %m월 %d일'.encode('unicode-escape').decode()).encode().decode('unicode-escape'))"
   ]
  },
  {
   "cell_type": "markdown",
   "id": "3cc25d72",
   "metadata": {},
   "source": [
    "시간 서식  \n",
    "%H: 시간(24시각), %I: 시간(12시각), %M: 분, %S: 초, %f: 마이크로초, %p: AM/PM"
   ]
  },
  {
   "cell_type": "code",
   "execution_count": 80,
   "id": "eb203c25",
   "metadata": {},
   "outputs": [
    {
     "name": "stdout",
     "output_type": "stream",
     "text": [
      "2024-02-27 13:18:01.976885\n",
      "13:18:01\n",
      "PM 01:18:01.976885\n",
      "13시 18분 01초\n"
     ]
    }
   ],
   "source": [
    "from datetime import datetime as dt\n",
    "today = dt.now()\n",
    "print(today)\n",
    "\n",
    "print(today.strftime('%H:%M:%S'))\n",
    "print(today.strftime('%p %I:%M:%S.%f'))\n",
    "# print(today.strftime('%H시 %M분 %S초')) # 에러\n",
    "print(today.strftime('%H시 %M분 %S초'.encode('unicode-escape').decode()).encode().decode('unicode-escape'))"
   ]
  },
  {
   "cell_type": "code",
   "execution_count": null,
   "id": "f299c4d3",
   "metadata": {},
   "outputs": [],
   "source": []
  },
  {
   "cell_type": "code",
   "execution_count": null,
   "id": "fab052cd",
   "metadata": {},
   "outputs": [],
   "source": []
  },
  {
   "cell_type": "code",
   "execution_count": null,
   "id": "f92cf429",
   "metadata": {},
   "outputs": [],
   "source": []
  }
 ],
 "metadata": {
  "kernelspec": {
   "display_name": "Python 3",
   "language": "python",
   "name": "python3"
  },
  "language_info": {
   "codemirror_mode": {
    "name": "ipython",
    "version": 3
   },
   "file_extension": ".py",
   "mimetype": "text/x-python",
   "name": "python",
   "nbconvert_exporter": "python",
   "pygments_lexer": "ipython3",
   "version": "3.6.8"
  }
 },
 "nbformat": 4,
 "nbformat_minor": 5
}
