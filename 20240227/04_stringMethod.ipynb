{
 "cells": [
  {
   "cell_type": "code",
   "execution_count": 6,
   "id": "914cabaa",
   "metadata": {},
   "outputs": [
    {
     "name": "stdout",
     "output_type": "stream",
     "text": [
      "33\n",
      "We are the champions, My friends!\n",
      "!\n",
      "!\n",
      "!\n"
     ]
    }
   ],
   "source": [
    "# len() 함수는 인수로 지정된 문자열을 구성하는 문자의 개수를 얻어온다.\n",
    "string = 'We are the champions, My friends!'\n",
    "print(len(string))\n",
    "print(string)\n",
    "print(string[32])\n",
    "print(string[len(string) - 1])\n",
    "print(string[-1])"
   ]
  },
  {
   "cell_type": "code",
   "execution_count": 9,
   "id": "3d563c9a",
   "metadata": {},
   "outputs": [
    {
     "name": "stdout",
     "output_type": "stream",
     "text": [
      "4\n",
      "1\n",
      "0\n"
     ]
    }
   ],
   "source": [
    "# count() 메소드는 특정 문자열에서 인수로 지정한 문자열의 출현 횟수를 얻어온다. => 특정 문자열이 포함되었나 알아낼 수 있다.\n",
    "# count() 메소드를 실행한 결과가 0이면 불포함, 1이면 포함, 2이상이면 중복해서 포함\n",
    "string = 'We are the champions, My friends!'\n",
    "print(string.count('e'))\n",
    "print(string.count('We'))\n",
    "print(string.count('we'))"
   ]
  },
  {
   "cell_type": "code",
   "execution_count": 12,
   "id": "202a3e02",
   "metadata": {},
   "outputs": [
    {
     "name": "stdout",
     "output_type": "stream",
     "text": [
      "1\n",
      "0\n"
     ]
    },
    {
     "ename": "ValueError",
     "evalue": "substring not found",
     "output_type": "error",
     "traceback": [
      "\u001b[1;31m---------------------------------------------------------------------------\u001b[0m",
      "\u001b[1;31mValueError\u001b[0m                                Traceback (most recent call last)",
      "\u001b[1;32m<ipython-input-12-5fd9c6da7b14>\u001b[0m in \u001b[0;36m<module>\u001b[1;34m\u001b[0m\n\u001b[0;32m      4\u001b[0m \u001b[0mprint\u001b[0m\u001b[1;33m(\u001b[0m\u001b[0mstring\u001b[0m\u001b[1;33m.\u001b[0m\u001b[0mindex\u001b[0m\u001b[1;33m(\u001b[0m\u001b[1;34m'e'\u001b[0m\u001b[1;33m)\u001b[0m\u001b[1;33m)\u001b[0m\u001b[1;33m\u001b[0m\u001b[1;33m\u001b[0m\u001b[0m\n\u001b[0;32m      5\u001b[0m \u001b[0mprint\u001b[0m\u001b[1;33m(\u001b[0m\u001b[0mstring\u001b[0m\u001b[1;33m.\u001b[0m\u001b[0mindex\u001b[0m\u001b[1;33m(\u001b[0m\u001b[1;34m'We'\u001b[0m\u001b[1;33m)\u001b[0m\u001b[1;33m)\u001b[0m\u001b[1;33m\u001b[0m\u001b[1;33m\u001b[0m\u001b[0m\n\u001b[1;32m----> 6\u001b[1;33m \u001b[0mprint\u001b[0m\u001b[1;33m(\u001b[0m\u001b[0mstring\u001b[0m\u001b[1;33m.\u001b[0m\u001b[0mindex\u001b[0m\u001b[1;33m(\u001b[0m\u001b[1;34m'we'\u001b[0m\u001b[1;33m)\u001b[0m\u001b[1;33m)\u001b[0m\u001b[1;33m\u001b[0m\u001b[1;33m\u001b[0m\u001b[0m\n\u001b[0m",
      "\u001b[1;31mValueError\u001b[0m: substring not found"
     ]
    }
   ],
   "source": [
    "# index() 메소드는 특정 문자열에서 인수로 지정한 문자열이 최초로 출현하는 인덱스를 얻어온다. => 특정 문자열이 포함되었나 알아낼 수 있다.\n",
    "# index() 메소드를 실행한 결과가 0이상이면 포함, 에러가 발생되면 불포함\n",
    "string = 'We are the champions, My friends!'\n",
    "print(string.index('e'))\n",
    "print(string.index('We'))\n",
    "# print(string.index('we')) # 인수로 지정한 문자열이 없으면 에러가 발생된다."
   ]
  },
  {
   "cell_type": "code",
   "execution_count": 15,
   "id": "14adc38a",
   "metadata": {},
   "outputs": [
    {
     "name": "stdout",
     "output_type": "stream",
     "text": [
      "1\n",
      "0\n",
      "-1\n"
     ]
    }
   ],
   "source": [
    "# find() 메소드는 특정 문자열에서 인수로 지정한 문자열이 최초로 출현하는 인덱스를 얻어온다. => 특정 문자열이 포함되었나 알아낼 수 있다.\n",
    "# find() 메소드를 실행한 결과가 0이상이면 포함, -1은 불포함\n",
    "string = 'We are the champions, My friends!'\n",
    "print(string.find('e'))\n",
    "print(string.find('We'))\n",
    "print(string.find('we')) # 인수로 지정한 문자열이 없으면 -1을 리턴한다."
   ]
  },
  {
   "cell_type": "code",
   "execution_count": 19,
   "id": "9871a971",
   "metadata": {},
   "outputs": [
    {
     "name": "stdout",
     "output_type": "stream",
     "text": [
      "T/j/o/e/u/n/I/T\n",
      "T j o e u n I T\n",
      "T\n",
      "j\n",
      "o\n",
      "e\n",
      "u\n",
      "n\n",
      "I\n",
      "T\n",
      "T!(^^)~j!(^^)~o!(^^)~e!(^^)~u!(^^)~n!(^^)~I!(^^)~T\n"
     ]
    }
   ],
   "source": [
    "# join() 메소드는 인수로 지정된 문자열 사이사이에 특정 문자열을 삽입한다.\n",
    "string = 'TjoeunIT'\n",
    "print('/'.join(string))\n",
    "print(' '.join(string))\n",
    "print('\\n'.join(string))\n",
    "print('!(^^)~'.join(string))"
   ]
  },
  {
   "cell_type": "code",
   "execution_count": 22,
   "id": "46ce2376",
   "metadata": {},
   "outputs": [
    {
     "name": "stdout",
     "output_type": "stream",
     "text": [
      "TJOEUNIT GOOD\n",
      "tjoeunit good\n",
      "Tjoeunit Good\n"
     ]
    }
   ],
   "source": [
    "# upper() 메소드는 문자열을 무조건 대문자로 변환한다.\n",
    "# lower() 메소드는 문자열을 무조건 소문자로 변환한다.\n",
    "# title() 메소드는 문자열을 구성하는 각 단어의 첫 문자만 대문자로 변경한다.\n",
    "string = 'TjoeunIT good'\n",
    "print(string.upper())\n",
    "print(string.lower())\n",
    "print(string.title())"
   ]
  },
  {
   "cell_type": "code",
   "execution_count": 26,
   "id": "b047d147",
   "metadata": {},
   "outputs": [
    {
     "name": "stdout",
     "output_type": "stream",
     "text": [
      "    TjoeunIT    \n",
      "TjoeunIT    \n",
      "    TjoeunIT\n",
      "TjoeunIT\n"
     ]
    }
   ],
   "source": [
    "# lstrip() 메소드는 문자열 앞의 불필요한 공백을 제거한다.\n",
    "# rstrip() 메소드는 문자열 뒤의 불필요한 공백을 제거한다.\n",
    "# strip() 메소드는 문자열 양쪽의 불필요한 공백을 제거한다.\n",
    "string = '    TjoeunIT    '\n",
    "print(string)\n",
    "print(string.lstrip())\n",
    "print(string.rstrip())\n",
    "print(string.strip())"
   ]
  },
  {
   "cell_type": "code",
   "execution_count": 28,
   "id": "cda706ad",
   "metadata": {},
   "outputs": [
    {
     "name": "stdout",
     "output_type": "stream",
     "text": [
      "We are the champions, My friends!\n",
      "W2 ar2 th2 champions, My fri2nds!\n"
     ]
    }
   ],
   "source": [
    "# replace() 메소드는 특정 문자열을 지정한 문자열로 일괄 치환한다.\n",
    "string = 'We are the champions, My friends!'\n",
    "print(string)\n",
    "print(string.replace('e', '2'))"
   ]
  },
  {
   "cell_type": "markdown",
   "id": "756f8a44",
   "metadata": {},
   "source": [
    "문자열 메소드 응용"
   ]
  },
  {
   "cell_type": "code",
   "execution_count": 36,
   "id": "3a544c96",
   "metadata": {},
   "outputs": [
    {
     "name": "stdout",
     "output_type": "stream",
     "text": [
      "www.tjoeunit.com\n",
      "www.tjoeunit.com\n",
      "www.tjoeunit.com\n",
      "tjoeunit\n",
      "tjoeunit\n"
     ]
    }
   ],
   "source": [
    "# strip() 메소드가 꼭 공백만 제거하는 것이 아니다.\n",
    "# strip() 메소드의 인수로 아무것도 지정하지 않으면 공백이 기본값으로 사용되서 공백이 제거되지만 인수를 지정하면\n",
    "# 인수로 지정한 문자가 문자열 양쪽에 나타나지 않을 때 까지 제거한다.\n",
    "# 인수로 지정하는 문자열 순서와 제거하는 순서는 아무런 상관이 없다.\n",
    "print('www.tjoeunit.com')\n",
    "print('    www.tjoeunit.com    '.strip()) # 공백 제거\n",
    "print('    www.tjoeunit.com    '.strip(' ')) # 인수로 지정한 문자 제거\n",
    "print('www.tjoeunit.com'.strip('w.com'))\n",
    "print('www.tjoeunit.com'.strip('cw.mo'))"
   ]
  },
  {
   "cell_type": "code",
   "execution_count": 39,
   "id": "e7e08557",
   "metadata": {},
   "outputs": [
    {
     "name": "stdout",
     "output_type": "stream",
     "text": [
      "www.tjoeunit.com\n",
      "www.joeuni.com\n"
     ]
    }
   ],
   "source": [
    "# 문자열 중간의 특정 문자열을 제거하려면 replace() 메소드를 사용하면 된다.\n",
    "print('www.tjoeunit.com')\n",
    "print('www.tjoeunit.com'.replace('t', ''))"
   ]
  },
  {
   "cell_type": "code",
   "execution_count": 45,
   "id": "c1a83d33",
   "metadata": {},
   "outputs": [
    {
     "name": "stdout",
     "output_type": "stream",
     "text": [
      "주민등록번호: 830422-1185600\n",
      "830422-1185600\n",
      "830422-1\n",
      "830422-1\n",
      "830422-1******\n",
      "830422-1******\n"
     ]
    }
   ],
   "source": [
    "# 주민등록번호를 입력받아 성별 뒤의 모든 문자가 '*'로 출력되게 한다.\n",
    "# 830422-1185600 => 830422-1******\n",
    "jumin = input('주민등록번호: ')\n",
    "print(jumin)\n",
    "print(jumin[0:8])\n",
    "print(jumin[:8])\n",
    "print(jumin[:8] + '******')\n",
    "print(jumin[:8] + '*' * 6)"
   ]
  },
  {
   "cell_type": "code",
   "execution_count": 54,
   "id": "5e4db6a6",
   "metadata": {},
   "outputs": [
    {
     "name": "stdout",
     "output_type": "stream",
     "text": [
      "코드: 123456-123-1245\n",
      "123456-123-1245 15 6 10\n",
      "123456-\n",
      "-1245\n",
      "123456-***-1245\n"
     ]
    }
   ],
   "source": [
    "# index() 메소드와 find() 메소드는 앞에서부터 찾지만 rindex() 메소드와 rfind() 메소드는 뒤에서 부터 찾는다.\n",
    "# 123456-123-1245 => 123456-***-1245, 이때, '-' 사이의 문자 개수는 유동적이다.\n",
    "code = input('코드: ')\n",
    "print(code, len(code), code.find('-'), code.rfind('-'))\n",
    "start = code[:code.find('-') + 1]\n",
    "print(start)\n",
    "end = code[code.rfind('-'):]\n",
    "print(end)\n",
    "code = start + '*' * (len(code) - len(start) - len(end)) + end\n",
    "print(code)"
   ]
  },
  {
   "cell_type": "code",
   "execution_count": 61,
   "id": "ec162ea6",
   "metadata": {},
   "outputs": [
    {
     "name": "stdout",
     "output_type": "stream",
     "text": [
      "코드: 123456-123-1245\n",
      "['123456', '123', '1245']\n",
      "123456-***-1245\n",
      "['123456', '***', '1245']\n",
      "123456-***-1245\n"
     ]
    }
   ],
   "source": [
    "code = input('코드: ')\n",
    "code = code.split('-')\n",
    "print(code)\n",
    "print(code[0] + '-' + '*' * len(code[1]) + '-' + code[2])\n",
    "\n",
    "code[1] = '*' * len(code[1])\n",
    "print(code)\n",
    "print('-'.join(code))"
   ]
  },
  {
   "cell_type": "markdown",
   "id": "3818d565",
   "metadata": {},
   "source": [
    "공백 처리 방법"
   ]
  },
  {
   "cell_type": "code",
   "execution_count": 63,
   "id": "6bfcdd1b",
   "metadata": {},
   "outputs": [
    {
     "name": "stdout",
     "output_type": "stream",
     "text": [
      "                       hello                          world                       \n",
      "hello                          world\n"
     ]
    }
   ],
   "source": [
    "string = '                       hello                          world                       '\n",
    "print(string)\n",
    "print(string.strip())"
   ]
  },
  {
   "cell_type": "code",
   "execution_count": 64,
   "id": "7fbefea1",
   "metadata": {},
   "outputs": [
    {
     "name": "stdout",
     "output_type": "stream",
     "text": [
      "helloworld\n"
     ]
    }
   ],
   "source": [
    "# replace() 메소드를 사용해서 모든 공백을 제거한다.\n",
    "print(string.replace(' ', ''))"
   ]
  },
  {
   "cell_type": "code",
   "execution_count": 66,
   "id": "11a13ef0",
   "metadata": {},
   "outputs": [
    {
     "name": "stdout",
     "output_type": "stream",
     "text": [
      "['hello', 'world']\n",
      "hello world\n"
     ]
    }
   ],
   "source": [
    "# join() 메소드와 split() 메소드를 사용해서 문자열 양쪽의 공백을 제거하고 문자열 사이에 2칸 이상 띄어쓰기를 한 곳은\n",
    "# 1칸만 띄어쓰기가 되도록 한다.\n",
    "print(string.split())\n",
    "print(' '.join(string.split()))"
   ]
  },
  {
   "cell_type": "code",
   "execution_count": null,
   "id": "ed55b144",
   "metadata": {},
   "outputs": [],
   "source": []
  },
  {
   "cell_type": "code",
   "execution_count": null,
   "id": "b1816b7a",
   "metadata": {},
   "outputs": [],
   "source": []
  },
  {
   "cell_type": "code",
   "execution_count": null,
   "id": "9d9ce931",
   "metadata": {},
   "outputs": [],
   "source": []
  },
  {
   "cell_type": "code",
   "execution_count": null,
   "id": "56c39f5d",
   "metadata": {},
   "outputs": [],
   "source": []
  },
  {
   "cell_type": "code",
   "execution_count": null,
   "id": "268e6da6",
   "metadata": {},
   "outputs": [],
   "source": []
  },
  {
   "cell_type": "code",
   "execution_count": null,
   "id": "e9347085",
   "metadata": {},
   "outputs": [],
   "source": []
  },
  {
   "cell_type": "code",
   "execution_count": null,
   "id": "2f595e05",
   "metadata": {},
   "outputs": [],
   "source": []
  }
 ],
 "metadata": {
  "kernelspec": {
   "display_name": "Python 3",
   "language": "python",
   "name": "python3"
  },
  "language_info": {
   "codemirror_mode": {
    "name": "ipython",
    "version": 3
   },
   "file_extension": ".py",
   "mimetype": "text/x-python",
   "name": "python",
   "nbconvert_exporter": "python",
   "pygments_lexer": "ipython3",
   "version": "3.6.8"
  }
 },
 "nbformat": 4,
 "nbformat_minor": 5
}
