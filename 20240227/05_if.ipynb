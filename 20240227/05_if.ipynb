{
 "cells": [
  {
   "cell_type": "markdown",
   "id": "01fecfbe",
   "metadata": {},
   "source": [
    "if 명령 형식\n",
    "\n",
    "if 조건식:  \n",
    "&nbsp;&nbsp;&nbsp;&nbsp;조건식이 참일 경우 실행할 문장  \n",
    "&nbsp;&nbsp;&nbsp;&nbsp;...  \n",
    "else:  \n",
    "&nbsp;&nbsp;&nbsp;&nbsp;조건식이 거짓일 경우 실행할 문장  \n",
    "&nbsp;&nbsp;&nbsp;&nbsp;...\n",
    "***\n",
    "조건식을 만족하지 않을 때 아무런 일도 할 필요가 없다면 else 이하를 생략할 수 있다."
   ]
  },
  {
   "cell_type": "markdown",
   "id": "996c66b0",
   "metadata": {},
   "source": [
    "관계 연산자\n",
    "\n",
    "&nbsp;<&nbsp;&nbsp;: 작다, 미만  \n",
    "&nbsp;<= : 작거나 같다, 이하  \n",
    "&nbsp;>&nbsp;&nbsp;: 크다, 초과  \n",
    "&nbsp;>= : 크거나 같다, 이하  \n",
    "&nbsp;== : 같다  \n",
    "&nbsp;!= : 같지 않다"
   ]
  },
  {
   "cell_type": "markdown",
   "id": "65140973",
   "metadata": {},
   "source": [
    "논리 연산자\n",
    "\n",
    "and : 논리곱, 두 조건이 모두 참일 경우에만 참, ~이고, ~이면서, ~중에서  \n",
    "or&nbsp;&nbsp;: 논리합, 두 조건 중에서 한 개 이상 참일 경우에 참, ~또는, ~이거나  \n",
    "not : 논리 부정\n",
    "\n",
    "<img src=\"./andOrNot.png\" align=\"left\" width=\"800\" title=\"논리 연산자\"/>"
   ]
  },
  {
   "cell_type": "markdown",
   "id": "e1999270",
   "metadata": {},
   "source": [
    "연산자 우선 순위\n",
    "\n",
    "단항 연산자 => 이항 연산자 => 삼항 연산자 => 대입 연산자('='와 같이 사용한다)  \n",
    "이항 연산자: ** => *, /, //, % => +, = => 관계 연산자 => 논리 연산자(not => and => or)"
   ]
  },
  {
   "cell_type": "code",
   "execution_count": 4,
   "id": "6efe0dc3",
   "metadata": {},
   "outputs": [
    {
     "name": "stdout",
     "output_type": "stream",
     "text": [
      "나이를 입력하세요: 17\n",
      "<class 'int'>\n",
      "투표권이 없습니다.\n"
     ]
    }
   ],
   "source": [
    "# 나이를 입력받아 투표권이 있나 없나 판단한다.\n",
    "age = int(input('나이를 입력하세요: '))\n",
    "print(type(age))\n",
    "\n",
    "if age >= 18:\n",
    "    print('투표권이 있습니다.')\n",
    "else:\n",
    "    print('투표권이 없습니다.')"
   ]
  },
  {
   "cell_type": "code",
   "execution_count": 17,
   "id": "ce6896a4",
   "metadata": {},
   "outputs": [
    {
     "name": "stdout",
     "output_type": "stream",
     "text": [
      "주민등록번호 13자리를 \"-\"없이 입력하세요: 0304223185600\n",
      "3\n",
      "<class 'str'>\n",
      "여자\n",
      "남자\n",
      "남자\n",
      "********************************************************************************\n",
      "남자\n",
      "남자\n",
      "********************************************************************************\n",
      "남자\n"
     ]
    }
   ],
   "source": [
    "# 주민등록번호를 입력받아 성별을 판단한다.\n",
    "jumin = input('주민등록번호 13자리를 \"-\"없이 입력하세요: ')\n",
    "print(jumin[6])\n",
    "print(type(jumin[6]))\n",
    "\n",
    "# 문자열로 비교\n",
    "if jumin[6] == '1': # 2000년 이후에 태어난 남자의 성별이 모두 여자로 출력된다.\n",
    "    print('남자')\n",
    "else:\n",
    "    print('여자')\n",
    "    \n",
    "if jumin[6] == '1' or jumin[6] == '3' or jumin[6] == '5':\n",
    "    print('남자')\n",
    "else:\n",
    "    print('여자')\n",
    "    \n",
    "if jumin[6] in ['1', '3', '5']: # in 연산자 <=> not in 연산자\n",
    "    print('남자')\n",
    "else:\n",
    "    print('여자')\n",
    "print('*' * 80)\n",
    "\n",
    "# 숫자로 비교\n",
    "if int(jumin[6]) == 1 or int(jumin[6]) == 3 or int(jumin[6]) == 5:\n",
    "    print('남자')\n",
    "else:\n",
    "    print('여자')\n",
    "    \n",
    "if int(jumin[6]) in [1, 3, 5]:\n",
    "    print('남자')\n",
    "else:\n",
    "    print('여자')\n",
    "print('*' * 80)\n",
    "\n",
    "# 성별이 홀수면 남자, 짝수면 여자\n",
    "if int(jumin[6]) % 2 == 1:\n",
    "    print('남자')\n",
    "else:\n",
    "    print('여자')"
   ]
  },
  {
   "cell_type": "code",
   "execution_count": 24,
   "id": "4f7948cf",
   "metadata": {},
   "outputs": [
    {
     "name": "stdout",
     "output_type": "stream",
     "text": [
      "주민등록번호 13자리를 \"-\"없이 입력하세요: 0304224185600\n",
      "03\n",
      "<class 'str'>\n",
      "3\n",
      "<class 'int'>\n",
      "당신의 출생 년도는 2003년 이고 나이는 21세 입니다.\n",
      "당신의 출생 년도는 2003년 이고 나이는 21세 입니다.\n",
      "당신의 출생 년도는 2003년 이고 나이는 21세 입니다.\n",
      "당신의 출생 년도는 2003년 이고 나이는 21세 입니다.\n"
     ]
    }
   ],
   "source": [
    "# 주민등록번호를 입력받아 나이를 출력한다.\n",
    "jumin = input('주민등록번호 13자리를 \"-\"없이 입력하세요: ')\n",
    "print(jumin[:2])\n",
    "print(type(jumin[:2]))\n",
    "year = int(jumin[:2])\n",
    "print(year)\n",
    "print(type(year))\n",
    "\n",
    "# 성별이 2이하면 1900년대에 그렇치 않으면 2000년대에 태어났다.\n",
    "if jumin[6] <= '2':\n",
    "    # year = year + 1900\n",
    "    # 대입 연산자\n",
    "    # '='와 같이 사용하는 연산자를 말하며 우선 순위가 가장 늦다. => +=, -=, *=, /=, //=, %=, ...\n",
    "    year += 1900\n",
    "else:\n",
    "    year += 2000\n",
    "    \n",
    "print('당신의 출생 년도는 {}년 이고 나이는 {}세 입니다.'.format(year, 2024 - year))\n",
    "\n",
    "from datetime import datetime as dt\n",
    "today = dt.now()\n",
    "print('당신의 출생 년도는 %d년 이고 나이는 %d세 입니다.' % (year, today.year - year))\n",
    "print('당신의 출생 년도는 {}년 이고 나이는 {}세 입니다.'.format(year, today.year - year))\n",
    "print(f'당신의 출생 년도는 {year}년 이고 나이는 {today.year - year}세 입니다.')"
   ]
  },
  {
   "cell_type": "code",
   "execution_count": null,
   "id": "14fde238",
   "metadata": {},
   "outputs": [],
   "source": []
  },
  {
   "cell_type": "code",
   "execution_count": null,
   "id": "8d59e48a",
   "metadata": {},
   "outputs": [],
   "source": []
  },
  {
   "cell_type": "code",
   "execution_count": null,
   "id": "74cd1329",
   "metadata": {},
   "outputs": [],
   "source": []
  },
  {
   "cell_type": "code",
   "execution_count": null,
   "id": "2bed7bda",
   "metadata": {},
   "outputs": [],
   "source": []
  },
  {
   "cell_type": "code",
   "execution_count": null,
   "id": "da339c36",
   "metadata": {},
   "outputs": [],
   "source": []
  },
  {
   "cell_type": "code",
   "execution_count": null,
   "id": "78c6d789",
   "metadata": {},
   "outputs": [],
   "source": []
  }
 ],
 "metadata": {
  "kernelspec": {
   "display_name": "Python 3",
   "language": "python",
   "name": "python3"
  },
  "language_info": {
   "codemirror_mode": {
    "name": "ipython",
    "version": 3
   },
   "file_extension": ".py",
   "mimetype": "text/x-python",
   "name": "python",
   "nbconvert_exporter": "python",
   "pygments_lexer": "ipython3",
   "version": "3.6.8"
  }
 },
 "nbformat": 4,
 "nbformat_minor": 5
}
