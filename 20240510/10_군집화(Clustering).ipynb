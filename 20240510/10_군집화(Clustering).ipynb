{
 "cells": [
  {
   "cell_type": "code",
   "execution_count": 1,
   "id": "a743ffa5",
   "metadata": {},
   "outputs": [],
   "source": [
    "import warnings\n",
    "warnings.filterwarnings(action='ignore')\n",
    "%config Completer.use_jedi = False\n",
    "import numpy as np\n",
    "import pandas as pd\n",
    "import matplotlib.pyplot as plt\n",
    "import matplotlib as mpl\n",
    "mpl.rcParams['axes.unicode_minus'] = False\n",
    "plt.rcParams['font.family'] = 'NanumGothicCoding'\n",
    "plt.rcParams['font.size'] = 12\n",
    "import seaborn as sns"
   ]
  },
  {
   "cell_type": "markdown",
   "id": "10415aa3",
   "metadata": {},
   "source": [
    "군집화란 여러개의 데이터가 있을 때 비슷한 데이터끼리 묶어주는 것을 의미한다.  \n",
    "비슷한 데이터끼리 묶어놓으면 관리하기 쉽다는 장점이 있다. 예를 들면 학원을 운영할 때 초급반, 중급반, 고급반으로 적절히 나눠 분류해서 관리한다면 활용 방안이 많아질 것이다.\n",
    "\n",
    "머신러닝의 학습 방법은 크게 지도 학습, 비지도 학습, 강화 학습으로 나눌 수 있다.  \n",
    "지도 학습(supervised learning)이란 라벨링이 된 데이터를 학습시키는 것을 의미하고 비지도 학습(unsupervised learning)이란 라벨링이 되지 않은 데이터를 학습시키는 것을 의미하고 강화 학습(reinforcement learning)은 행동(action)에 대한 보상(reward)으로 학습하는 것을 의미한다.  \n",
    "라벨링이란 학습(트레이닝) 데이터에 정답(실제값, 관측값, 답, 레이블, 클래스, 타겟)이 표시된 것을 의미한다. 데이터가 정답을 가지고 있으면 지도 학습 정답을 가지고 있지 않으면 비지도 학습이라 한다.\n",
    "\n",
    "비지도 학습 알고리즘은 정답이 없으므로 정확한 방향성이 일치하지 않더라도 알아서 학습이 가능한 알고리즘으로 데이터를 군집화하는 알고리즘이 비지도 학습에 속한다. => KMeans 알고리즘이 대표적인 비지도 학습 알고리즘이다.\n",
    "\n",
    "머신러닝 알고리즘을 사용하기 위한 라이브러리를 설치하고 import 한다.  \n",
    "conda install scikit-learn"
   ]
  },
  {
   "cell_type": "code",
   "execution_count": 2,
   "id": "87878848",
   "metadata": {},
   "outputs": [],
   "source": [
    "# 군집화(clustering)에 필요한 라이브러리를 import 시킨다.\n",
    "from sklearn.cluster import KMeans"
   ]
  },
  {
   "cell_type": "code",
   "execution_count": 3,
   "id": "67dd2307",
   "metadata": {},
   "outputs": [
    {
     "data": {
      "text/html": [
       "<div>\n",
       "<style scoped>\n",
       "    .dataframe tbody tr th:only-of-type {\n",
       "        vertical-align: middle;\n",
       "    }\n",
       "\n",
       "    .dataframe tbody tr th {\n",
       "        vertical-align: top;\n",
       "    }\n",
       "\n",
       "    .dataframe thead th {\n",
       "        text-align: right;\n",
       "    }\n",
       "</style>\n",
       "<table border=\"1\" class=\"dataframe\">\n",
       "  <thead>\n",
       "    <tr style=\"text-align: right;\">\n",
       "      <th></th>\n",
       "      <th>x</th>\n",
       "      <th>y</th>\n",
       "    </tr>\n",
       "  </thead>\n",
       "  <tbody>\n",
       "    <tr>\n",
       "      <th>0</th>\n",
       "      <td>2</td>\n",
       "      <td>3</td>\n",
       "    </tr>\n",
       "    <tr>\n",
       "      <th>1</th>\n",
       "      <td>2</td>\n",
       "      <td>11</td>\n",
       "    </tr>\n",
       "    <tr>\n",
       "      <th>2</th>\n",
       "      <td>2</td>\n",
       "      <td>18</td>\n",
       "    </tr>\n",
       "    <tr>\n",
       "      <th>3</th>\n",
       "      <td>4</td>\n",
       "      <td>5</td>\n",
       "    </tr>\n",
       "    <tr>\n",
       "      <th>4</th>\n",
       "      <td>4</td>\n",
       "      <td>7</td>\n",
       "    </tr>\n",
       "  </tbody>\n",
       "</table>\n",
       "</div>"
      ],
      "text/plain": [
       "   x   y\n",
       "0  2   3\n",
       "1  2  11\n",
       "2  2  18\n",
       "3  4   5\n",
       "4  4   7"
      ]
     },
     "execution_count": 3,
     "metadata": {},
     "output_type": "execute_result"
    }
   ],
   "source": [
    "df = pd.read_csv('./data/cluster.csv')\n",
    "df.head()"
   ]
  },
  {
   "cell_type": "code",
   "execution_count": 4,
   "id": "bdfbc6c1",
   "metadata": {},
   "outputs": [
    {
     "name": "stdout",
     "output_type": "stream",
     "text": [
      "<class 'pandas.core.indexes.range.RangeIndex'>\n",
      "RangeIndex(start=0, stop=30, step=1)\n",
      "[0, 1, 2, 3, 4, 5, 6, 7, 8, 9, 10, 11, 12, 13, 14, 15, 16, 17, 18, 19, 20, 21, 22, 23, 24, 25, 26, 27, 28, 29]\n"
     ]
    }
   ],
   "source": [
    "# index 속성으로 데이터프레임의 행 인덱스만 얻어올 수 있다.\n",
    "print(type(df.index))\n",
    "print(df.index)\n",
    "print(list(df.index))"
   ]
  },
  {
   "cell_type": "code",
   "execution_count": 5,
   "id": "1a518f0c",
   "metadata": {},
   "outputs": [
    {
     "name": "stdout",
     "output_type": "stream",
     "text": [
      "<class 'pandas.core.indexes.base.Index'>\n",
      "Index(['x', 'y'], dtype='object')\n"
     ]
    }
   ],
   "source": [
    "# columns 속성으로 데이터프레임의 열 인덱스(열 이름)만 얻어올 수 있다.\n",
    "print(type(df.columns))\n",
    "print(df.columns)"
   ]
  },
  {
   "cell_type": "code",
   "execution_count": 6,
   "id": "281d6054",
   "metadata": {},
   "outputs": [
    {
     "name": "stdout",
     "output_type": "stream",
     "text": [
      "<class 'numpy.ndarray'>\n",
      "[[ 2  3]\n",
      " [ 2 11]\n",
      " [ 2 18]\n",
      " [ 4  5]\n",
      " [ 4  7]\n",
      " [ 5  3]\n",
      " [ 5 15]\n",
      " [ 6  6]\n",
      " [ 6  8]\n",
      " [ 6  9]\n",
      " [ 7  2]\n",
      " [ 7  4]\n",
      " [ 7  5]\n",
      " [ 7 17]\n",
      " [ 7 18]\n",
      " [ 8  5]\n",
      " [ 8  4]\n",
      " [ 9 10]\n",
      " [ 9 11]\n",
      " [ 9 15]\n",
      " [ 9 19]\n",
      " [10  5]\n",
      " [10  8]\n",
      " [10 18]\n",
      " [12  6]\n",
      " [13  5]\n",
      " [14 11]\n",
      " [15  6]\n",
      " [15 18]\n",
      " [18 12]]\n"
     ]
    }
   ],
   "source": [
    "# values 속성으로 데이터프레임의 데이터만 넘파이 배열 형태로 얻어올 수 있다.\n",
    "print(type(df.values))\n",
    "print(df.values)\n",
    "point = df.values # 학습할 데이터"
   ]
  },
  {
   "cell_type": "markdown",
   "id": "bdb3243d",
   "metadata": {},
   "source": [
    "군집화를 실행할 데이터 시각화"
   ]
  },
  {
   "cell_type": "code",
   "execution_count": 7,
   "id": "00e44f99",
   "metadata": {},
   "outputs": [
    {
     "data": {
      "image/png": "[encoded data removed]",
      "text/plain": [
       "<Figure size 800x600 with 1 Axes>"
      ]
     },
     "metadata": {},
     "output_type": "display_data"
    }
   ],
   "source": [
    "plt.figure(figsize=(8, 6))\n",
    "sns.scatterplot(data=df, x='x', y='y', s=50)\n",
    "plt.title('KMenas 시각화')\n",
    "plt.xlabel('x축')\n",
    "plt.ylabel('y축')\n",
    "plt.show()"
   ]
  },
  {
   "cell_type": "markdown",
   "id": "ef9cd70f",
   "metadata": {},
   "source": [
    "군집화를 수행하기 위해서는 군집화를 수행할 데이터의 주제를 결정하고 얼마나 많은 군집(cluster)를 만들지 결정한다.  \n",
    "이 때, 데이터가 정확할 수록 유리하게 군집화를 할 수 있고 군집화를 수행하는 방법은 KMeans 등 다양한 방법이 있다.\n",
    "\n",
    "무작위로 cluster의 중심을 선택하고 중심에 가까운 데이터를 cluster에 포함시키는 작업을 반복한 후 무작위로 선택된 cluster의 중심을 cluster에 포함된 데이터의 중앙으로 이동하는 과정을 반복 수행해서 더 이상 cluster 중심의 위치가 변하지 않을 때 까지 반복하는 것이 일반적인 방법이고 이러한 과정을 거치면 완벽하게 군집화된 cluster를 얻을 수 있다.\n",
    "\n",
    "군집화를 위한 무작위로 cluster의 중심을 결정하는 방법은 가장 먼저 임의의 노드(데이터)를 선택해서 cluster의 중심으로 설정(파랑색) 한다.  \n",
    "그 이후에는 무작위로 cluster의 중심으로 선택된 노드(파랑색)에서 가장 거리가 먼 노드(노랑색)를 선택해서 두 번째 cluster의 중심으로 설정한다.  \n",
    "그 다음부터는 이미 선택(파랑색, 노랑색)된 cluster의 중심들로부터 가장 멀리 떨어져있는 노드(녹색)을 선택해서 cluster의 중심으로 선택하는 작업을 반복한다.\n",
    "\n",
    "<img src=\"./Clustering1.png\" align=\"left\" width=\"1200\"/>"
   ]
  },
  {
   "cell_type": "markdown",
   "id": "67498e0d",
   "metadata": {},
   "source": [
    "위와 같이 cluster의 중심을 선택하는 작업을 했더니 1, 2, 3 세 개의 cluster가 존재한다고 가정하고 하나의 데이터를 선택해서 세 개의 cluster 중심 중에서 가장 가까운 cluster에 속하도록 만드는 작업을 반복해서 실행한다.\n",
    "\n",
    "<img src=\"./Clustering2.png\" align=\"left\" width=\"1200\"/>"
   ]
  },
  {
   "cell_type": "markdown",
   "id": "c96a3341",
   "metadata": {},
   "source": [
    "이러한 과정을 반복해 실행하면 아래 왼쪽 그림과 같을 것이다.\n",
    "\n",
    "<img src=\"./Clustering3.png\" align=\"left\" width=\"1200\"/>"
   ]
  },
  {
   "cell_type": "markdown",
   "id": "7d29c3fb",
   "metadata": {},
   "source": [
    "위의 왼쪽 그림과 같이 대략적으로 군집화가 완료되면 완벽한 군집화를 위해 cluster의 중심 위치를 위의 오른쪽 그림과 같이 군집화된 데이터의 중심으로 이동시킨다.  \n",
    "cluster의 중심을 이동시키고 다시 모든 데이터에 대해서 어떤 cluster의 중심에 가까운지를 하나씩 체크해서 만약 특정 데이터가 다른 cluster의 중심에 더 가깝다면 그 cluster에 속하도록 설정하는 작업을 반복한다.\n",
    "\n",
    "cluster 중심의 위치가 더 이상 바뀌지 않는다면 군집화가 끝난것이다.\n",
    "\n",
    "KMeans 알고리즘을 이용해서 cluster 4개를 생성한다."
   ]
  },
  {
   "cell_type": "code",
   "execution_count": 8,
   "id": "692d421b",
   "metadata": {},
   "outputs": [
    {
     "name": "stdout",
     "output_type": "stream",
     "text": [
      "KMeans(n_clusters=4)\n",
      "[[ 5.53846154  5.53846154]\n",
      " [ 7.         17.14285714]\n",
      " [15.66666667 13.66666667]\n",
      " [11.14285714  7.28571429]]\n",
      "[0 0 1 0 0 0 1 0 0 0 0 0 0 1 1 0 0 3 3 1 1 3 3 1 3 3 2 3 2 2]\n"
     ]
    }
   ],
   "source": [
    "# sklearn 라이브러리의 KMeans 알고리즘을 이용해서 모델을 만들고 학습시킨다.\n",
    "# n_clusters는 군집화할 cluster의 개수를 지정하는 하이퍼 파라미터이다.\n",
    "# fit() 메소드의 인수로 학습할 데이터를 넣어서 모델을 학습시킨다.\n",
    "kmeans = KMeans(n_clusters=4).fit(point)\n",
    "print(kmeans)\n",
    "# cluster_centers_ 속성으로 군집화된 cluster의 중심 위치를 얻어온다.\n",
    "print(kmeans.cluster_centers_)\n",
    "# labels_ 속성으로 각각의 데이터가 군집화된 cluster를 얻어온다.\n",
    "print(kmeans.labels_)"
   ]
  },
  {
   "cell_type": "markdown",
   "id": "976e5d58",
   "metadata": {},
   "source": [
    "데이터프레이미에 cluster라는 파생 변수를 추가하고 군집화된 결과를 넣어준다."
   ]
  },
  {
   "cell_type": "code",
   "execution_count": 9,
   "id": "40d9b0bf",
   "metadata": {},
   "outputs": [
    {
     "data": {
      "text/html": [
       "<div>\n",
       "<style scoped>\n",
       "    .dataframe tbody tr th:only-of-type {\n",
       "        vertical-align: middle;\n",
       "    }\n",
       "\n",
       "    .dataframe tbody tr th {\n",
       "        vertical-align: top;\n",
       "    }\n",
       "\n",
       "    .dataframe thead th {\n",
       "        text-align: right;\n",
       "    }\n",
       "</style>\n",
       "<table border=\"1\" class=\"dataframe\">\n",
       "  <thead>\n",
       "    <tr style=\"text-align: right;\">\n",
       "      <th></th>\n",
       "      <th>x</th>\n",
       "      <th>y</th>\n",
       "      <th>cluster</th>\n",
       "    </tr>\n",
       "  </thead>\n",
       "  <tbody>\n",
       "    <tr>\n",
       "      <th>0</th>\n",
       "      <td>2</td>\n",
       "      <td>3</td>\n",
       "      <td>0</td>\n",
       "    </tr>\n",
       "    <tr>\n",
       "      <th>1</th>\n",
       "      <td>2</td>\n",
       "      <td>11</td>\n",
       "      <td>0</td>\n",
       "    </tr>\n",
       "    <tr>\n",
       "      <th>2</th>\n",
       "      <td>2</td>\n",
       "      <td>18</td>\n",
       "      <td>1</td>\n",
       "    </tr>\n",
       "    <tr>\n",
       "      <th>3</th>\n",
       "      <td>4</td>\n",
       "      <td>5</td>\n",
       "      <td>0</td>\n",
       "    </tr>\n",
       "    <tr>\n",
       "      <th>4</th>\n",
       "      <td>4</td>\n",
       "      <td>7</td>\n",
       "      <td>0</td>\n",
       "    </tr>\n",
       "    <tr>\n",
       "      <th>5</th>\n",
       "      <td>5</td>\n",
       "      <td>3</td>\n",
       "      <td>0</td>\n",
       "    </tr>\n",
       "    <tr>\n",
       "      <th>6</th>\n",
       "      <td>5</td>\n",
       "      <td>15</td>\n",
       "      <td>1</td>\n",
       "    </tr>\n",
       "    <tr>\n",
       "      <th>7</th>\n",
       "      <td>6</td>\n",
       "      <td>6</td>\n",
       "      <td>0</td>\n",
       "    </tr>\n",
       "    <tr>\n",
       "      <th>8</th>\n",
       "      <td>6</td>\n",
       "      <td>8</td>\n",
       "      <td>0</td>\n",
       "    </tr>\n",
       "    <tr>\n",
       "      <th>9</th>\n",
       "      <td>6</td>\n",
       "      <td>9</td>\n",
       "      <td>0</td>\n",
       "    </tr>\n",
       "    <tr>\n",
       "      <th>10</th>\n",
       "      <td>7</td>\n",
       "      <td>2</td>\n",
       "      <td>0</td>\n",
       "    </tr>\n",
       "    <tr>\n",
       "      <th>11</th>\n",
       "      <td>7</td>\n",
       "      <td>4</td>\n",
       "      <td>0</td>\n",
       "    </tr>\n",
       "    <tr>\n",
       "      <th>12</th>\n",
       "      <td>7</td>\n",
       "      <td>5</td>\n",
       "      <td>0</td>\n",
       "    </tr>\n",
       "    <tr>\n",
       "      <th>13</th>\n",
       "      <td>7</td>\n",
       "      <td>17</td>\n",
       "      <td>1</td>\n",
       "    </tr>\n",
       "    <tr>\n",
       "      <th>14</th>\n",
       "      <td>7</td>\n",
       "      <td>18</td>\n",
       "      <td>1</td>\n",
       "    </tr>\n",
       "    <tr>\n",
       "      <th>15</th>\n",
       "      <td>8</td>\n",
       "      <td>5</td>\n",
       "      <td>0</td>\n",
       "    </tr>\n",
       "    <tr>\n",
       "      <th>16</th>\n",
       "      <td>8</td>\n",
       "      <td>4</td>\n",
       "      <td>0</td>\n",
       "    </tr>\n",
       "    <tr>\n",
       "      <th>17</th>\n",
       "      <td>9</td>\n",
       "      <td>10</td>\n",
       "      <td>3</td>\n",
       "    </tr>\n",
       "    <tr>\n",
       "      <th>18</th>\n",
       "      <td>9</td>\n",
       "      <td>11</td>\n",
       "      <td>3</td>\n",
       "    </tr>\n",
       "    <tr>\n",
       "      <th>19</th>\n",
       "      <td>9</td>\n",
       "      <td>15</td>\n",
       "      <td>1</td>\n",
       "    </tr>\n",
       "    <tr>\n",
       "      <th>20</th>\n",
       "      <td>9</td>\n",
       "      <td>19</td>\n",
       "      <td>1</td>\n",
       "    </tr>\n",
       "    <tr>\n",
       "      <th>21</th>\n",
       "      <td>10</td>\n",
       "      <td>5</td>\n",
       "      <td>3</td>\n",
       "    </tr>\n",
       "    <tr>\n",
       "      <th>22</th>\n",
       "      <td>10</td>\n",
       "      <td>8</td>\n",
       "      <td>3</td>\n",
       "    </tr>\n",
       "    <tr>\n",
       "      <th>23</th>\n",
       "      <td>10</td>\n",
       "      <td>18</td>\n",
       "      <td>1</td>\n",
       "    </tr>\n",
       "    <tr>\n",
       "      <th>24</th>\n",
       "      <td>12</td>\n",
       "      <td>6</td>\n",
       "      <td>3</td>\n",
       "    </tr>\n",
       "    <tr>\n",
       "      <th>25</th>\n",
       "      <td>13</td>\n",
       "      <td>5</td>\n",
       "      <td>3</td>\n",
       "    </tr>\n",
       "    <tr>\n",
       "      <th>26</th>\n",
       "      <td>14</td>\n",
       "      <td>11</td>\n",
       "      <td>2</td>\n",
       "    </tr>\n",
       "    <tr>\n",
       "      <th>27</th>\n",
       "      <td>15</td>\n",
       "      <td>6</td>\n",
       "      <td>3</td>\n",
       "    </tr>\n",
       "    <tr>\n",
       "      <th>28</th>\n",
       "      <td>15</td>\n",
       "      <td>18</td>\n",
       "      <td>2</td>\n",
       "    </tr>\n",
       "    <tr>\n",
       "      <th>29</th>\n",
       "      <td>18</td>\n",
       "      <td>12</td>\n",
       "      <td>2</td>\n",
       "    </tr>\n",
       "  </tbody>\n",
       "</table>\n",
       "</div>"
      ],
      "text/plain": [
       "     x   y  cluster\n",
       "0    2   3        0\n",
       "1    2  11        0\n",
       "2    2  18        1\n",
       "3    4   5        0\n",
       "4    4   7        0\n",
       "5    5   3        0\n",
       "6    5  15        1\n",
       "7    6   6        0\n",
       "8    6   8        0\n",
       "9    6   9        0\n",
       "10   7   2        0\n",
       "11   7   4        0\n",
       "12   7   5        0\n",
       "13   7  17        1\n",
       "14   7  18        1\n",
       "15   8   5        0\n",
       "16   8   4        0\n",
       "17   9  10        3\n",
       "18   9  11        3\n",
       "19   9  15        1\n",
       "20   9  19        1\n",
       "21  10   5        3\n",
       "22  10   8        3\n",
       "23  10  18        1\n",
       "24  12   6        3\n",
       "25  13   5        3\n",
       "26  14  11        2\n",
       "27  15   6        3\n",
       "28  15  18        2\n",
       "29  18  12        2"
      ]
     },
     "execution_count": 9,
     "metadata": {},
     "output_type": "execute_result"
    }
   ],
   "source": [
    "df['cluster'] = kmeans.labels_\n",
    "df.to_csv('./data/save.csv', index=False)\n",
    "df"
   ]
  },
  {
   "cell_type": "markdown",
   "id": "d515e24f",
   "metadata": {},
   "source": [
    "클러스터링된 결과 시각화"
   ]
  },
  {
   "cell_type": "code",
   "execution_count": 10,
   "id": "a8f57db7",
   "metadata": {},
   "outputs": [
    {
     "data": {
      "image/png": "[encoded data removed]",
      "text/plain": [
       "<Figure size 800x600 with 1 Axes>"
      ]
     },
     "metadata": {},
     "output_type": "display_data"
    }
   ],
   "source": [
    "plt.figure(figsize=(8, 6))\n",
    "# palette 속성으로 시각화되는 데이터의 색상을 변경할 수 있다.\n",
    "# style 속성을 지정하면 시각화되는 데이터의 모양을 서로 다르게 변경할 수 있다.\n",
    "sns.scatterplot(data=df, x='x', y='y', s=50, hue='cluster', palette='Dark2', style='cluster')\n",
    "plt.title('KMenas 시각화')\n",
    "plt.xlabel('x축')\n",
    "plt.ylabel('y축')\n",
    "plt.show()"
   ]
  },
  {
   "cell_type": "markdown",
   "id": "697faede",
   "metadata": {},
   "source": [
    "<img src=\"./palette.png\" align=\"left\" width=\"1200\"/>"
   ]
  },
  {
   "cell_type": "code",
   "execution_count": null,
   "id": "e6169d14",
   "metadata": {},
   "outputs": [],
   "source": []
  },
  {
   "cell_type": "code",
   "execution_count": null,
   "id": "fc3d3370",
   "metadata": {},
   "outputs": [],
   "source": []
  }
 ],
 "metadata": {
  "kernelspec": {
   "display_name": "python37",
   "language": "python",
   "name": "python37"
  },
  "language_info": {
   "codemirror_mode": {
    "name": "ipython",
    "version": 3
   },
   "file_extension": ".py",
   "mimetype": "text/x-python",
   "name": "python",
   "nbconvert_exporter": "python",
   "pygments_lexer": "ipython3",
   "version": "3.7.1"
  }
 },
 "nbformat": 4,
 "nbformat_minor": 5
}
