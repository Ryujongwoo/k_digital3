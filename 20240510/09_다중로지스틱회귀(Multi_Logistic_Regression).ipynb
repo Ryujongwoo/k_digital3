{
 "cells": [
  {
   "cell_type": "code",
   "execution_count": 1,
   "id": "184004bf",
   "metadata": {},
   "outputs": [
    {
     "name": "stdout",
     "output_type": "stream",
     "text": [
      "WARNING:tensorflow:From C:\\anaconda3\\envs\\python37\\lib\\site-packages\\tensorflow\\python\\compat\\v2_compat.py:107: disable_resource_variables (from tensorflow.python.ops.variable_scope) is deprecated and will be removed in a future version.\n",
      "Instructions for updating:\n",
      "non-resource variables are not supported in the long term\n"
     ]
    }
   ],
   "source": [
    "import warnings\n",
    "warnings.filterwarnings(action='ignore')\n",
    "%config Completer.use_jedi = False\n",
    "import tensorflow.compat.v1 as tf\n",
    "tf.disable_v2_behavior()\n",
    "import numpy as np"
   ]
  },
  {
   "cell_type": "code",
   "execution_count": 2,
   "id": "5e67ceeb",
   "metadata": {},
   "outputs": [
    {
     "name": "stdout",
     "output_type": "stream",
     "text": [
      "[[2, 3], [4, 3], [6, 4], [8, 6], [10, 7], [12, 8], [14, 9]]\n",
      "<class 'list'>\n",
      "[[ 2  3]\n",
      " [ 4  3]\n",
      " [ 6  4]\n",
      " [ 8  6]\n",
      " [10  7]\n",
      " [12  8]\n",
      " [14  9]]\n",
      "<class 'numpy.ndarray'>\n"
     ]
    }
   ],
   "source": [
    "x = [[2, 3], [4, 3], [6, 4], [8, 6], [10, 7], [12, 8], [14, 9]] # [공부 시간, 과외 시간], 7행 2열\n",
    "print(x)\n",
    "print(type(x))\n",
    "\n",
    "xData = np.array(x)\n",
    "print(xData)\n",
    "print(type(xData))"
   ]
  },
  {
   "cell_type": "code",
   "execution_count": 3,
   "id": "a12d2d1d",
   "metadata": {},
   "outputs": [
    {
     "name": "stdout",
     "output_type": "stream",
     "text": [
      "[0, 0, 0, 1, 1, 1, 1]\n",
      "<class 'list'>\n",
      "[0 0 0 1 1 1 1]\n",
      "<class 'numpy.ndarray'>\n",
      "[[0]\n",
      " [0]\n",
      " [0]\n",
      " [1]\n",
      " [1]\n",
      " [1]\n",
      " [1]]\n",
      "<class 'numpy.ndarray'>\n"
     ]
    }
   ],
   "source": [
    "y = [0, 0, 0, 1, 1, 1, 1] # [합격 여부], 실제값, 1행 7열\n",
    "print(y)\n",
    "print(type(y))\n",
    "\n",
    "yData = np.array(y)\n",
    "print(yData)\n",
    "print(type(yData))\n",
    "\n",
    "# reshape(): 넘파이에서 데이터는 그대로 유지한채 배열의 형태(차원)를 변경한다.\n",
    "# 1행 7열 넘파이 배열 => 7행 1열 넘파이 배열\n",
    "yData = np.array(y).reshape(7, 1)\n",
    "print(yData)\n",
    "print(type(yData))"
   ]
  },
  {
   "cell_type": "markdown",
   "id": "0ef06d85",
   "metadata": {},
   "source": [
    "xData와 yData를 저장할 placeholder를 만든다."
   ]
  },
  {
   "cell_type": "code",
   "execution_count": 4,
   "id": "a89710ff",
   "metadata": {},
   "outputs": [],
   "source": [
    "# placeholder에 넘파이 배열을 대입하는 경우 shape 속성을 이용해서 대입될 넘파이 배열의 차원을 지정해야 한다.\n",
    "# [None, 2] => placeholder에 대입될 넘파이 배열의 행의 개수는 몇개라도 상관없고 열의 개수는 무조건 2개라는 의미이다.\n",
    "X = tf.placeholder(dtype=tf.float32, shape=[None, 2]) # xData가 대입될 placeholder\n",
    "Y = tf.placeholder(dtype=tf.float32, shape=[None, 1]) # yData가 대입될 placeholder"
   ]
  },
  {
   "cell_type": "markdown",
   "id": "ed56233d",
   "metadata": {},
   "source": [
    "가중치(a)와 y절편(b)을 임의의 값으로 정한다."
   ]
  },
  {
   "cell_type": "code",
   "execution_count": 5,
   "id": "4949bbd8",
   "metadata": {},
   "outputs": [
    {
     "name": "stdout",
     "output_type": "stream",
     "text": [
      "a\n",
      "[[0.738878  ]\n",
      " [0.01253402]]\n",
      "b\n",
      "[0.90526175]\n",
      "a1: 0.738878, a2: 0.012534, b: 0.905262\n",
      "a1: 0.738878, a2: 0.012534, b: 0.905262\n"
     ]
    }
   ],
   "source": [
    "a = tf.Variable(tf.random_uniform([2, 1], dtype=tf.float32)) # 행렬의 내적을 이용하기 위해서 난수를 2행 1열로 발생시긴다.\n",
    "b = tf.Variable(tf.random_uniform([1], dtype=tf.float32))\n",
    "sess = tf.Session()\n",
    "sess.run(tf.global_variables_initializer())\n",
    "print('a\\n', sess.run(a), sep='')\n",
    "print('b\\n', sess.run(b), sep='')\n",
    "print('a1: %f, a2: %f, b: %f' % (sess.run(a)[0], sess.run(a)[1], sess.run(b)))\n",
    "print('a1: {:f}, a2: {:f}, b: {:f}'.format(sess.run(a)[0][0], sess.run(a)[1][0], sess.run(b)[0]))"
   ]
  },
  {
   "cell_type": "markdown",
   "id": "d227cd18",
   "metadata": {},
   "source": [
    "시그모이드 방정식, 오차 함수, 경사 하강법"
   ]
  },
  {
   "cell_type": "code",
   "execution_count": 6,
   "id": "57633379",
   "metadata": {},
   "outputs": [],
   "source": [
    "# Y = 1 / (1 + np.e ** -(a1 * x1 + a2 * x2 + b))\n",
    "# sigmoid() 메소드로 tensorflow에서 시그모이드 방정식을 계산한다.\n",
    "# matmul() 메소드로 tensorflow에서 행렬의 내적을 계산한다.\n",
    "y = tf.sigmoid(tf.matmul(X, a) + b) # 시그모이드 방정식, 예측값\n",
    "\n",
    "# -tf.reduce_mean(실제값 * tf.log(예측값) + (1 - 실제값) * tf.log(1 - 예측값))\n",
    "loss = -tf.reduce_mean(Y * tf.log(y) + (1 - Y) * tf.log(1 - y)) # 오차 함수\n",
    "\n",
    "gradient_descent = tf.train.GradientDescentOptimizer(0.1).minimize(loss) # 경사 하강법"
   ]
  },
  {
   "cell_type": "markdown",
   "id": "3a9a99f7",
   "metadata": {},
   "source": [
    "sigmoid() 메소드를 실행한 결과로 예측값(0 또는 1)을 계산한다."
   ]
  },
  {
   "cell_type": "code",
   "execution_count": 7,
   "id": "ec81ed7f",
   "metadata": {},
   "outputs": [
    {
     "name": "stdout",
     "output_type": "stream",
     "text": [
      "[1 2]\n",
      "[1 0]\n",
      "[1 0]\n"
     ]
    }
   ],
   "source": [
    "# sigmoid() 메소드의 실행 결과가 0.5 이상이면 1을 0.5 미만이면 0을 리턴시킨다.\n",
    "sess = tf.Session()\n",
    "# cast(data, dtype) 메소드는 tensorflow에서 데이터 형변환을 한다.\n",
    "predict = tf.cast(tf.constant([1.9, 2.3]), dtype=tf.int32)\n",
    "print(sess.run(predict))\n",
    "# cast() 메소드는 캐스팅할 데이터가 boolean 타입일 경우 True는 1로 False는 0으로 형변환 한다.\n",
    "predict = tf.cast(tf.constant([True, False]), dtype=tf.int32)\n",
    "print(sess.run(predict))\n",
    "predict = tf.cast([0.5 >= 0.5, 0.5 < 0.5], dtype=tf.int32)\n",
    "print(sess.run(predict))"
   ]
  },
  {
   "cell_type": "code",
   "execution_count": 8,
   "id": "19340a5e",
   "metadata": {},
   "outputs": [],
   "source": [
    "# 시그모이드 함수의 실행 결과(예측값, y)로 최종 예측값을 계산한다.\n",
    "predict = tf.cast(y >= 0.5, dtype=tf.float32) # 최종 예측값"
   ]
  },
  {
   "cell_type": "markdown",
   "id": "c6883570",
   "metadata": {},
   "source": [
    "최종 예측값(predict)과 실제값(Y)이 일치하는 정도(정확도, accuracy)를 계산한다."
   ]
  },
  {
   "cell_type": "code",
   "execution_count": 9,
   "id": "5f4ed257",
   "metadata": {},
   "outputs": [
    {
     "name": "stdout",
     "output_type": "stream",
     "text": [
      "True False\n"
     ]
    }
   ],
   "source": [
    "sess = tf.Session()\n",
    "# equal() 메소드는 tensorflow에서 인수로 지정한 두 값이 같으면 True, 다르면 False를 리턴한다.\n",
    "print(sess.run(tf.equal(1, 1)), sess.run(tf.equal(1, 0)))\n",
    "# 정확도는 equal() 메소드로 예측값과 실제값이 같은가 비교 후 리턴되는 True 또는 False를 cast() \n",
    "# 메소드로 1 또는 0으로 캐스팅하고 평균을 계산한다.\n",
    "accuracy = tf.reduce_mean(tf.cast(tf.equal(predict, Y), dtype=tf.float32))"
   ]
  },
  {
   "cell_type": "markdown",
   "id": "29c2a7de",
   "metadata": {},
   "source": [
    "학습 시킨다."
   ]
  },
  {
   "cell_type": "code",
   "execution_count": 10,
   "id": "f4b9818c",
   "metadata": {
    "scrolled": false
   },
   "outputs": [
    {
     "name": "stdout",
     "output_type": "stream",
     "text": [
      "epoch:    0, loss:  2.0280, a1:  0.4475, a2:  0.4333, b:   0.2917, accuracy:   0.5714\n",
      "epoch:  300, loss:  0.2611, a1:  0.7942, a2: -0.5073, b:  -2.5235, accuracy:   0.8571\n",
      "epoch:  600, loss:  0.1882, a1:  0.7972, a2: -0.2443, b:  -3.9671, accuracy:   1.0000\n",
      "epoch:  900, loss:  0.1476, a1:  0.7124, a2:  0.0734, b:  -5.0161, accuracy:   1.0000\n",
      "epoch: 1200, loss:  0.1212, a1:  0.6133, a2:  0.3718, b:  -5.8481, accuracy:   1.0000\n",
      "epoch: 1500, loss:  0.1025, a1:  0.5179, a2:  0.6387, b:  -6.5394, accuracy:   1.0000\n",
      "epoch: 1800, loss:  0.0887, a1:  0.4312, a2:  0.8749, b:  -7.1313, accuracy:   1.0000\n",
      "epoch: 2100, loss:  0.0781, a1:  0.3538, a2:  1.0840, b:  -7.6490, accuracy:   1.0000\n",
      "epoch: 2400, loss:  0.0697, a1:  0.2852, a2:  1.2698, b:  -8.1092, accuracy:   1.0000\n",
      "epoch: 2700, loss:  0.0629, a1:  0.2242, a2:  1.4361, b:  -8.5236, accuracy:   1.0000\n",
      "epoch: 3000, loss:  0.0573, a1:  0.1699, a2:  1.5860, b:  -8.9003, accuracy:   1.0000\n",
      "실제값\n",
      "[[0]\n",
      " [0]\n",
      " [0]\n",
      " [1]\n",
      " [1]\n",
      " [1]\n",
      " [1]]\n",
      "최종 예상값\n",
      "[[0.]\n",
      " [0.]\n",
      " [0.]\n",
      " [1.]\n",
      " [1.]\n",
      " [1.]\n",
      " [1.]]\n",
      "정확도: 100.00%\n"
     ]
    }
   ],
   "source": [
    "sess = tf.Session()\n",
    "sess.run(tf.global_variables_initializer())\n",
    "\n",
    "for epoch in range(3001):\n",
    "    # run() 메소드로 여러개를 한 번에 실행하려면 run() 메소드로 실행할 목록을 리스트로 묶어서 전달한다.\n",
    "    # run([실행할 내용, ...], feed_dict={플레이스 홀더 이름: 플레이스 홀더에 저장할 데이터, ...})\n",
    "    _, loss_, a_, b_, predict_, accuracy_ = sess.run([gradient_descent, loss, a, b, predict, accuracy], feed_dict={X: xData, Y: yData})\n",
    "    if epoch % 300 == 0:\n",
    "        print('epoch: {:4d}, loss: {:7.4f}, a1: {:7.4f}, a2: {:7.4f}, b: {:8.4f}, accuracy: {:8.4f}'.format(\n",
    "            epoch, loss_, a_[0][0], a_[1][0], b_[0], accuracy_\n",
    "        ))\n",
    "# ===== 학습 완료\n",
    "\n",
    "print('실제값\\n', yData, sep='')\n",
    "print('최종 예상값\\n', predict_, sep='')\n",
    "print('정확도: {:6.2%}'.format(accuracy_), sep='')"
   ]
  },
  {
   "cell_type": "code",
   "execution_count": 11,
   "id": "b4413bf8",
   "metadata": {},
   "outputs": [
    {
     "name": "stdout",
     "output_type": "stream",
     "text": [
      "합격\n"
     ]
    }
   ],
   "source": [
    "# d = np.array([[5, 8]])\n",
    "d = np.array([5, 8]).reshape(1, 2)\n",
    "print('합격' if sess.run(predict, feed_dict={X: d})[0][0] == 1.0 else '불합격')"
   ]
  },
  {
   "cell_type": "code",
   "execution_count": null,
   "id": "5c62ebb8",
   "metadata": {},
   "outputs": [],
   "source": []
  },
  {
   "cell_type": "code",
   "execution_count": null,
   "id": "152b1019",
   "metadata": {},
   "outputs": [],
   "source": []
  }
 ],
 "metadata": {
  "kernelspec": {
   "display_name": "python37",
   "language": "python",
   "name": "python37"
  },
  "language_info": {
   "codemirror_mode": {
    "name": "ipython",
    "version": 3
   },
   "file_extension": ".py",
   "mimetype": "text/x-python",
   "name": "python",
   "nbconvert_exporter": "python",
   "pygments_lexer": "ipython3",
   "version": "3.7.1"
  }
 },
 "nbformat": 4,
 "nbformat_minor": 5
}
