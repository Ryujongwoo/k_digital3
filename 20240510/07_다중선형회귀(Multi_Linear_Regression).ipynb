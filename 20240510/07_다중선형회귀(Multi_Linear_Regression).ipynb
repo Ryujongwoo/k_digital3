{
 "cells": [
  {
   "cell_type": "code",
   "execution_count": 1,
   "id": "112b6d50",
   "metadata": {},
   "outputs": [
    {
     "name": "stdout",
     "output_type": "stream",
     "text": [
      "WARNING:tensorflow:From C:\\anaconda3\\envs\\python37\\lib\\site-packages\\tensorflow\\python\\compat\\v2_compat.py:107: disable_resource_variables (from tensorflow.python.ops.variable_scope) is deprecated and will be removed in a future version.\n",
      "Instructions for updating:\n",
      "non-resource variables are not supported in the long term\n"
     ]
    }
   ],
   "source": [
    "import warnings\n",
    "warnings.filterwarnings(action='ignore')\n",
    "%config Completer.use_jedi = False\n",
    "import tensorflow.compat.v1 as tf\n",
    "tf.disable_v2_behavior()"
   ]
  },
  {
   "cell_type": "code",
   "execution_count": 2,
   "id": "92e56111",
   "metadata": {},
   "outputs": [],
   "source": [
    "data = [[2, 0, 81], [4, 4, 93], [6, 2, 91], [8, 3, 97]] # [공부 시간, 과외 시간, 시험 점수]\n",
    "x1 = [i[0] for i in data] # 공부 시간\n",
    "x2 = [i[1] for i in data] # 과외 시간\n",
    "y = [i[2] for i in data] # 시험 점수, 실제값"
   ]
  },
  {
   "cell_type": "code",
   "execution_count": 3,
   "id": "ac66bad4",
   "metadata": {},
   "outputs": [
    {
     "name": "stdout",
     "output_type": "stream",
     "text": [
      "a1 = [2.489587], a2 = [7.4815664], b = [67.77225]\n"
     ]
    }
   ],
   "source": [
    "a1 = tf.Variable(tf.random_uniform([1], 0, 10)) # 공부 시간 기울기\n",
    "a2 = tf.Variable(tf.random_uniform([1], 0, 10)) # 과외 시간 기울기\n",
    "b = tf.Variable(tf.random_uniform([1], 0, 100)) # y절편\n",
    "sess = tf.Session()\n",
    "sess.run(tf.global_variables_initializer())\n",
    "print('a1 = {}, a2 = {}, b = {}'.format(sess.run(a1), sess.run(a2), sess.run(b)))"
   ]
  },
  {
   "cell_type": "code",
   "execution_count": 4,
   "id": "febfd2bf",
   "metadata": {},
   "outputs": [],
   "source": [
    "Y = a1 * x1 + a2 * x2 + b\n",
    "rmse = tf.sqrt(tf.reduce_mean(tf.square(Y - y)))\n",
    "gradient_descent = tf.train.GradientDescentOptimizer(0.1).minimize(rmse)"
   ]
  },
  {
   "cell_type": "code",
   "execution_count": 5,
   "id": "4ecd20a4",
   "metadata": {},
   "outputs": [
    {
     "name": "stdout",
     "output_type": "stream",
     "text": [
      "epoch:    0, cost: 27.9481, a1:  8.4494, a2:  6.4735, b: 53.6709\n",
      "epoch:  200, cost:  6.8961, a1:  3.9686, a2:  3.1940, b: 60.7571\n",
      "epoch:  400, cost:  3.7321, a1:  2.8453, a2:  2.7505, b: 68.6195\n",
      "epoch:  600, cost:  1.8347, a1:  2.0485, a2:  2.5008, b: 75.7606\n",
      "epoch:  800, cost:  1.8370, a1:  1.8238, a2:  2.4267, b: 77.5256\n",
      "epoch: 1000, cost:  1.8370, a1:  1.7796, a2:  2.4115, b: 77.8361\n",
      "epoch: 1200, cost:  1.8370, a1:  1.7716, a2:  2.4088, b: 77.8909\n",
      "epoch: 1400, cost:  1.8370, a1:  1.7702, a2:  2.4083, b: 77.9005\n",
      "epoch: 1600, cost:  1.8370, a1:  1.7700, a2:  2.4082, b: 77.9022\n",
      "epoch: 1800, cost:  1.8369, a1:  1.7699, a2:  2.4082, b: 77.9022\n",
      "epoch: 2000, cost:  1.8369, a1:  1.7699, a2:  2.4082, b: 77.9022\n",
      "epoch: 2200, cost:  1.8369, a1:  1.7699, a2:  2.4082, b: 77.9022\n",
      "epoch: 2400, cost:  1.8369, a1:  1.7699, a2:  2.4082, b: 77.9022\n",
      "epoch: 2600, cost:  1.8369, a1:  1.7699, a2:  2.4082, b: 77.9022\n",
      "epoch: 2800, cost:  1.8369, a1:  1.7699, a2:  2.4082, b: 77.9022\n",
      "epoch: 3000, cost:  1.8369, a1:  1.7699, a2:  2.4082, b: 77.9022\n"
     ]
    }
   ],
   "source": [
    "sess = tf.Session()\n",
    "sess.run(tf.global_variables_initializer())\n",
    "\n",
    "for epoch in range(3001):\n",
    "    sess.run(gradient_descent)\n",
    "    if epoch % 200 == 0:\n",
    "        # print('epoch: %4d, rmse: %7.4f, a1: %7.4f, a2: %7.4f, b: %7.4f' % (epoch, sess.run(rmse), sess.run(a1), sess.run(a2), sess.run(b)))\n",
    "        print('epoch: {:4d}, rmse: {:7.4f}, a1: {:7.4f}, a2: {:7.4f}, b: {:7.4f}'.format(\n",
    "            epoch, sess.run(rmse), sess.run(a1)[0], sess.run(a2)[0], sess.run(b)[0]\n",
    "        ))"
   ]
  },
  {
   "cell_type": "code",
   "execution_count": null,
   "id": "d31a318a",
   "metadata": {},
   "outputs": [],
   "source": []
  },
  {
   "cell_type": "code",
   "execution_count": null,
   "id": "422e71b7",
   "metadata": {},
   "outputs": [],
   "source": []
  }
 ],
 "metadata": {
  "kernelspec": {
   "display_name": "python37",
   "language": "python",
   "name": "python37"
  },
  "language_info": {
   "codemirror_mode": {
    "name": "ipython",
    "version": 3
   },
   "file_extension": ".py",
   "mimetype": "text/x-python",
   "name": "python",
   "nbconvert_exporter": "python",
   "pygments_lexer": "ipython3",
   "version": "3.7.1"
  }
 },
 "nbformat": 4,
 "nbformat_minor": 5
}
