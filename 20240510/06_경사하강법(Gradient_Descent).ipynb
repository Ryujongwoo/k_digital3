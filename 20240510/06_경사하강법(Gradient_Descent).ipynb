{
 "cells": [
  {
   "cell_type": "code",
   "execution_count": 1,
   "id": "96bb4c0b",
   "metadata": {},
   "outputs": [
    {
     "name": "stdout",
     "output_type": "stream",
     "text": [
      "WARNING:tensorflow:From C:\\anaconda3\\envs\\python37\\lib\\site-packages\\tensorflow\\python\\compat\\v2_compat.py:107: disable_resource_variables (from tensorflow.python.ops.variable_scope) is deprecated and will be removed in a future version.\n",
      "Instructions for updating:\n",
      "non-resource variables are not supported in the long term\n"
     ]
    }
   ],
   "source": [
    "import warnings\n",
    "warnings.filterwarnings(action='ignore')\n",
    "%config Completer.use_jedi = False\n",
    "import tensorflow.compat.v1 as tf\n",
    "tf.disable_v2_behavior()"
   ]
  },
  {
   "cell_type": "markdown",
   "id": "9963fbbf",
   "metadata": {},
   "source": [
    "경사 하강법(Gradient Descent)\n",
    "\n",
    "기울기를 너무 크게 잡아도 너무 작게 잡아도 오차가 커지기 때문에 평균 제곱근 오차를 계산하면 'U'형태의 2차 곡선이 만들어진다.  \n",
    "이렇게 만들어진 2차 곡선의 임의의 한 점을 선택해서 미분을 실행하면 임의의 점에 대한 기울기가 계산되고 기울기를 0에 가깝게 이동하면서 최적의 기울기를 계산한다."
   ]
  },
  {
   "cell_type": "code",
   "execution_count": 2,
   "id": "21704172",
   "metadata": {},
   "outputs": [],
   "source": [
    "data = [[2, 81], [4, 93], [6, 91], [8, 97]] # [공부 시간, 공부 시간에 따른 시험 점수]\n",
    "xData = [i[0] for i in data] # 공부 시간\n",
    "yData = [i[1] for i in data] # 공부 시간에 따른 시험 점수, 실제값"
   ]
  },
  {
   "cell_type": "code",
   "execution_count": 8,
   "id": "50e265c9",
   "metadata": {},
   "outputs": [
    {
     "name": "stdout",
     "output_type": "stream",
     "text": [
      "a = [1.8476939], b = [0.1011014]\n"
     ]
    }
   ],
   "source": [
    "# 기울기 a와 y절편 b를 과적합을 방지하기 위해서 난수를 발생시켜 정한다.\n",
    "# random_uniform([난수의 개수], 최소값, 최대값, dtype=난수의 데이터 타입, seed=숫자)\n",
    "# 최소값과 최대값을 생략하면 0 ~ 1 사이의 난수가 발생된다.\n",
    "# dtype 생략시 기본값은 tf.float32이고 seed 값을 지정하면 항상 일정한 난수가 생성된다.\n",
    "a = tf.Variable(tf.random_uniform([1], 0, 10)) # 기울기, 0 ~ 10 사이의 난수\n",
    "b = tf.Variable(tf.random_uniform([1], 0, 100)) # y절편, 0 ~ 100 사이의 난수\n",
    "sess = tf.Session()\n",
    "sess.run(tf.global_variables_initializer())\n",
    "print('a = {}, b = {}'.format(sess.run(a), sess.run(b)))"
   ]
  },
  {
   "cell_type": "code",
   "execution_count": 4,
   "id": "4451130d",
   "metadata": {},
   "outputs": [],
   "source": [
    "# 예측 성적(Y)을 얻기위한 가설(수식)을 만든다.\n",
    "Y = a * xData + b"
   ]
  },
  {
   "cell_type": "code",
   "execution_count": 5,
   "id": "366166bf",
   "metadata": {},
   "outputs": [],
   "source": [
    "# RMSE에서 사용할 수식(오차 함수)을 만든다.\n",
    "# np.sqrt(((predict_result - yData) ** 2).mean()) => 넘파이 사용\n",
    "# tf.square(Y - yData): 예측 점수(Y)와 실제 점수(yData)의 편차의 제곱을 계산한다.\n",
    "# tf.reduce_mean(tf.square(Y - yData)): 예측 점수와 실제 점수의 편차의 제곱의 평균을 계산한다.\n",
    "# tf.sqrt(tf.reduce_mean(tf.square(Y - yData))): 예측 점수와 실제 점수의 편차의 제곱의 평균에 대한 제곱근을 계산한다.\n",
    "rmse = tf.sqrt(tf.reduce_mean(tf.square(Y - yData)))"
   ]
  },
  {
   "cell_type": "code",
   "execution_count": 6,
   "id": "f057a028",
   "metadata": {},
   "outputs": [],
   "source": [
    "# 경사 하강법 알고리즘을 이용해서 RMSE를 최소로 하는 값을 찾는다.\n",
    "learning_rate = 0.1\n",
    "gradient_descent = tf.train.GradientDescentOptimizer(learning_rate).minimize(rmse)"
   ]
  },
  {
   "cell_type": "code",
   "execution_count": 7,
   "id": "1d0bb6da",
   "metadata": {},
   "outputs": [
    {
     "name": "stdout",
     "output_type": "stream",
     "text": [
      "epoch:    0, cost: 42.0784, a:  6.8889, b: 96.7617\n",
      "epoch:  200, cost:  4.9540, a:  0.6459, b: 88.8712\n",
      "epoch:  400, cost:  3.3956, a:  1.5624, b: 83.4018\n",
      "epoch:  600, cost:  2.9492, a:  2.0411, b: 80.5451\n",
      "epoch:  800, cost:  2.8883, a:  2.2154, b: 79.5051\n",
      "epoch: 1000, cost:  2.8817, a:  2.2726, b: 79.1636\n",
      "epoch: 1200, cost:  2.8811, a:  2.2911, b: 79.0529\n",
      "epoch: 1400, cost:  2.8810, a:  2.2971, b: 79.0171\n",
      "epoch: 1600, cost:  2.8810, a:  2.2991, b: 79.0056\n",
      "epoch: 1800, cost:  2.8810, a:  2.2997, b: 79.0018\n",
      "epoch: 2000, cost:  2.8810, a:  2.2999, b: 79.0006\n",
      "epoch: 2200, cost:  2.8810, a:  2.2999, b: 79.0006\n",
      "epoch: 2400, cost:  2.8810, a:  2.2999, b: 79.0006\n",
      "epoch: 2600, cost:  2.8810, a:  2.2999, b: 79.0006\n",
      "epoch: 2800, cost:  2.8810, a:  2.2999, b: 79.0006\n",
      "epoch: 3000, cost:  2.8810, a:  2.2999, b: 79.0006\n"
     ]
    }
   ],
   "source": [
    "# 학습 시킨다.\n",
    "sess = tf.Session()\n",
    "sess.run(tf.global_variables_initializer())\n",
    "\n",
    "for epoch in range(3001):\n",
    "    sess.run(gradient_descent)\n",
    "    if epoch % 200 == 0:\n",
    "        # print('epoch: %4d, rmse: %7.4f, a: %7.4f, b: %7.4f' % (epoch, sess.run(rmse), sess.run(a), sess.run(b)))\n",
    "        print('epoch: {:4d}, cost: {:7.4f}, a: {:7.4f}, b: {:7.4f}'.format(epoch, sess.run(rmse), sess.run(a)[0], sess.run(b)[0]))"
   ]
  },
  {
   "cell_type": "markdown",
   "id": "47a5c53b",
   "metadata": {},
   "source": [
    "<img src=\"./gradient_descent.png\" align=\"left\" width=\"1100\"/>"
   ]
  },
  {
   "cell_type": "code",
   "execution_count": null,
   "id": "080fcfd0",
   "metadata": {},
   "outputs": [],
   "source": []
  },
  {
   "cell_type": "code",
   "execution_count": null,
   "id": "d537c82f",
   "metadata": {},
   "outputs": [],
   "source": []
  }
 ],
 "metadata": {
  "kernelspec": {
   "display_name": "python37",
   "language": "python",
   "name": "python37"
  },
  "language_info": {
   "codemirror_mode": {
    "name": "ipython",
    "version": 3
   },
   "file_extension": ".py",
   "mimetype": "text/x-python",
   "name": "python",
   "nbconvert_exporter": "python",
   "pygments_lexer": "ipython3",
   "version": "3.7.1"
  }
 },
 "nbformat": 4,
 "nbformat_minor": 5
}
