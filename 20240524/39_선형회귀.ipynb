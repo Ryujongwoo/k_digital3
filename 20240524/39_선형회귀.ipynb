{
 "cells": [
  {
   "cell_type": "code",
   "execution_count": 15,
   "id": "135cdd08",
   "metadata": {},
   "outputs": [],
   "source": [
    "import warnings\n",
    "warnings.filterwarnings(action='ignore')\n",
    "%config Completer.use_jedi = False\n",
    "import numpy as np\n",
    "import pandas as pd\n",
    "import matplotlib.pyplot as plt\n",
    "import matplotlib as mpl\n",
    "mpl.rcParams['axes.unicode_minus'] = False\n",
    "plt.rcParams['font.family'] = 'NanumGothicCoding'\n",
    "plt.rcParams['font.size'] = 10\n",
    "import seaborn as sns\n",
    "\n",
    "from sklearn import datasets\n",
    "from sklearn.model_selection import train_test_split\n",
    "from sklearn.preprocessing import StandardScaler\n",
    "from sklearn.metrics import accuracy_score\n",
    "from sklearn.metrics import precision_score\n",
    "from sklearn.metrics import recall_score\n",
    "from sklearn.metrics import f1_score\n",
    "from sklearn.metrics import confusion_matrix\n",
    "from sklearn.metrics import classification_report\n",
    "from sklearn.metrics import mean_absolute_error\n",
    "from sklearn.metrics import mean_squared_error\n",
    "from sklearn.metrics import r2_score"
   ]
  },
  {
   "cell_type": "markdown",
   "id": "37f92b44",
   "metadata": {},
   "source": [
    "선형 회귀 분석은 가장 기본적인 머신러닝 방법이며, 여러 분야에서 사용된다.\n",
    "\n",
    "선형 회귀 분석은 피쳐 데이터와 레이블 간의 선형 관계를 파악하는 알고리즘으로 피쳐 데이터 x와 레이블 y 사이에 선형 관계가 존재할 때 이를 수식화 하면 다음과 같다.\n",
    "\n",
    "$$y = wx + b$$\n",
    "\n",
    "데이터 x가 주어질 때, 데이터 x에 가중치(Weight) w를 곱하고 바이어스 b를 더하면 레이블을 얻을 수 있다. 선형 회귀에서 해야할 일은 피쳐 데이터 x와 레이블 y를 이용해서 가중치 w와 바이어스 b를 구하는 것이다.\n",
    "\n",
    "위의 수식은 피쳐 데이터의 개수가 1개일 경우이고, 이를 일반화시켜 p개의 피쳐 데이터를 가지는 데이터라고 가정하면 데이터 셋을 구성하는 각 데이터 포인트는 p개의 학습 데이터로 구성되므로 $x = (x_1, x_2, x_3, ..., x_p)$라고 표현할 수 있다. x<sub>i</sub>는 i번째 데이터 행을 열벡터로 표현한 것이다. 그리고 선형 회귀 모델은 아래와 같다.\n",
    "\n",
    "$$y = \\hat y = w_1x_1 + w_2x_2 + w_3x_3 + ... + w_px_p + b$$\n",
    "\n",
    "이때, $w = (w_1, w_2, w_3, ..., w_p)^T$를 가중치라고 부른다. 각 가중치 요소 하나하나가 우리가 구하려는 파라미터이며, 파라미터 값은 예측에 영향을 미친다. 즉, 파라미터 값에 따라서 예측이 달라진다.\n",
    "\n",
    "가중치는 학습 데이터로 부터 최소 제곱법(Least Suqares Etimator)을 사용해 구할 수 있다. 최소 제곱법은 오차의 제곱합이 최소가 되는 추정량을 구하는 방법이다.\n",
    "\n",
    "보스턴 집값 데이터를 사용해 보스턴 집값을 예측하는 모델을 생성하고 학습시킨다.  \n",
    "일반 선형 회귀 뿐만 아니라 라쏘(L1 제약식 사용), 릿지(L2 제약식 사용), 엘라스틱 넷을 사용한 결과도 비교해 본다."
   ]
  },
  {
   "cell_type": "code",
   "execution_count": 2,
   "id": "b65472c3",
   "metadata": {},
   "outputs": [
    {
     "name": "stdout",
     "output_type": "stream",
     "text": [
      "(506, 13) (506,)\n",
      "(379, 13) (127, 13) (379,) (127,)\n"
     ]
    }
   ],
   "source": [
    "# 데이터 불러오기\n",
    "raw_data = datasets.load_boston() # 사이킷런이 제공하는 보스턴 집값 데이터를 불러온다.\n",
    "\n",
    "# 피쳐, 레이블 데이터 저장\n",
    "xData = raw_data.data # 피쳐 데이터를 저장한다.\n",
    "yData = raw_data.target # 피쳐 데이터에 따른 레이블을 저장한다.\n",
    "print(xData.shape, yData.shape)\n",
    "\n",
    "# 학습 데이터와 테스트 데이터로 분할\n",
    "x_train, x_test, y_train, y_test = train_test_split(xData, yData, random_state=1)\n",
    "print(x_train.shape, x_test.shape, y_train.shape, y_test.shape)\n",
    "\n",
    "# 데이터 표준화\n",
    "std_scale = StandardScaler() # 표준화 스케일러 객체를 만든다.\n",
    "x_train = std_scale.fit_transform(x_train) # 학습 데이터를 스케일러로 표준화 하고 적용한다.\n",
    "x_test = std_scale.transform(x_test) # 테스트 데이터를 학습 데이터로 표준화 스케일러에 적용한다."
   ]
  },
  {
   "cell_type": "markdown",
   "id": "79341b69",
   "metadata": {},
   "source": [
    "일반 선형 회귀 분석"
   ]
  },
  {
   "cell_type": "code",
   "execution_count": 3,
   "id": "72f8fd45",
   "metadata": {},
   "outputs": [
    {
     "data": {
      "text/plain": [
       "LinearRegression()"
      ]
     },
     "execution_count": 3,
     "metadata": {},
     "output_type": "execute_result"
    }
   ],
   "source": [
    "# 모델 생성 후 데이터 학습\n",
    "from sklearn.linear_model import LinearRegression # 선형 회귀 알고리즘을 사용하기 위해 import 한다.\n",
    "# 선형 회귀 모델을 만든다.\n",
    "clf_lr = LinearRegression()\n",
    "# 표준화된 학습 데이터와 학습 데이터에 따른 레이블 데이터로 일반 선형 회귀 모델을 학습시킨다.\n",
    "clf_lr.fit(x_train, y_train)"
   ]
  },
  {
   "cell_type": "code",
   "execution_count": 4,
   "id": "4a1cd0c7",
   "metadata": {},
   "outputs": [
    {
     "name": "stdout",
     "output_type": "stream",
     "text": [
      "[-1.07145146  1.34036243  0.26298069  0.66554537 -2.49842551  1.97524314\n",
      "  0.19516605 -3.14274974  2.66736136 -1.80685572 -2.13034748  0.56172933\n",
      " -4.03223518]\n",
      "22.344591029023768\n"
     ]
    }
   ],
   "source": [
    "# 일반 선형 회귀 분석 계수(가중치)와 상수항(바이어스) 확인\n",
    "print(clf_lr.coef_) # 가중치\n",
    "print(clf_lr.intercept_) # 바이어스"
   ]
  },
  {
   "cell_type": "markdown",
   "id": "fd0ea95e",
   "metadata": {},
   "source": [
    "라쏘(Lasso) 선형 회귀 분석(L1 제약식 사용)"
   ]
  },
  {
   "cell_type": "code",
   "execution_count": 5,
   "id": "a82ac239",
   "metadata": {},
   "outputs": [
    {
     "data": {
      "text/plain": [
       "Lasso(alpha=0.01)"
      ]
     },
     "execution_count": 5,
     "metadata": {},
     "output_type": "execute_result"
    }
   ],
   "source": [
    "# 모델 생성 후 데이터 학습\n",
    "from sklearn.linear_model import Lasso # 라쏘 선형 회귀 알고리즘을 사용하기 위해 import 한다.\n",
    "# 라쏘 선형 회귀 모델의 alpha 속성으로 제약 정도를 지정해서 모델을 만든다.\n",
    "# alpha 속성의 기본값은 1이고 반드시 양수로 지정해야 하며 값이 클 수록 강한 제약식을 의미한다.\n",
    "clf_lasso = Lasso(alpha=0.01)\n",
    "# 표준화된 학습 데이터와 학습 데이터에 따른 레이블 데이터로 라쏘 선형 회귀 모델을 학습시킨다.\n",
    "clf_lasso.fit(x_train, y_train)"
   ]
  },
  {
   "cell_type": "code",
   "execution_count": 6,
   "id": "e075924d",
   "metadata": {},
   "outputs": [
    {
     "name": "stdout",
     "output_type": "stream",
     "text": [
      "[-1.04326518  1.27752711  0.1674367   0.66758228 -2.41559964  1.99244179\n",
      "  0.14733958 -3.09473711  2.46431135 -1.60552274 -2.11046422  0.55200229\n",
      " -4.00809905]\n",
      "22.344591029023768\n"
     ]
    }
   ],
   "source": [
    "# 라쏘 선형 회귀 분석 계수(가중치)와 상수항(바이어스) 확인\n",
    "print(clf_lasso.coef_) # 가중치\n",
    "print(clf_lasso.intercept_) # 바이어스"
   ]
  },
  {
   "cell_type": "markdown",
   "id": "e37d226d",
   "metadata": {},
   "source": [
    "릿지(Ridge) 선형 회귀 분석(L2 제약식 사용)"
   ]
  },
  {
   "cell_type": "code",
   "execution_count": 7,
   "id": "68da38da",
   "metadata": {},
   "outputs": [
    {
     "data": {
      "text/plain": [
       "Ridge(alpha=1)"
      ]
     },
     "execution_count": 7,
     "metadata": {},
     "output_type": "execute_result"
    }
   ],
   "source": [
    "# 모델 생성 후 데이터 학습\n",
    "from sklearn.linear_model import Ridge # 릿지 선형 회귀 알고리즘을 사용하기 위해 import 한다.\n",
    "# 릿지 선형 회귀 모델의 alpha 속성으로 제약 정도를 지정해서 모델을 만든다.\n",
    "# alpha 속성의 기본값은 1이고 반드시 양수로 지정해야 하며 값이 클 수록 강한 제약식을 의미한다.\n",
    "clf_ridge = Ridge(alpha=1)\n",
    "# 표준화된 학습 데이터와 학습 데이터에 따른 레이블 데이터로 릿지 선형 회귀 모델을 학습시킨다.\n",
    "clf_ridge.fit(x_train, y_train)"
   ]
  },
  {
   "cell_type": "code",
   "execution_count": 8,
   "id": "97b2c7c1",
   "metadata": {},
   "outputs": [
    {
     "name": "stdout",
     "output_type": "stream",
     "text": [
      "[-1.05933451  1.31050717  0.23022789  0.66955241 -2.45607567  1.99086611\n",
      "  0.18119169 -3.09919804  2.56480813 -1.71116799 -2.12002592  0.56264409\n",
      " -4.00942448]\n",
      "22.344591029023768\n"
     ]
    }
   ],
   "source": [
    "# 릿지 선형 회귀 분석 계수(가중치)와 상수항(바이어스) 확인\n",
    "print(clf_ridge.coef_) # 가중치\n",
    "print(clf_ridge.intercept_) # 바이어스"
   ]
  },
  {
   "cell_type": "markdown",
   "id": "b2241d03",
   "metadata": {},
   "source": [
    "엘라스틱 넷(Elastic Net) 선형 회귀 분석(L1, L2 제약식 모두 사용)"
   ]
  },
  {
   "cell_type": "code",
   "execution_count": 9,
   "id": "efcf878b",
   "metadata": {},
   "outputs": [
    {
     "data": {
      "text/plain": [
       "ElasticNet(alpha=0.01, l1_ratio=0.01)"
      ]
     },
     "execution_count": 9,
     "metadata": {},
     "output_type": "execute_result"
    }
   ],
   "source": [
    "# 모델 생성 후 데이터 학습\n",
    "from sklearn.linear_model import ElasticNet # 엘라스틱 넷 선형 회귀 알고리즘을 사용하기 위해 import 한다.\n",
    "# 엘라스틱 넷 선형 회귀 모델의 alpha 속성으로 제약 정도를 지정해서 모델을 만든다.\n",
    "# alpha 속성에는 L1 제약식의 크기와 L2 제약식의 크기의 합을 지정한다.\n",
    "# l1_ratio 속성으로 alpha에 지정한 값에서 L1 제약이 차지하는 비율을 지정한다.\n",
    "# l1_ratio 속성값은 비율이므로 0부터 1 사이의 값을 지정해야 하며, 0을 지정하면 L1 제약이 사용되지 않고\n",
    "# L2 제약만 사용하는 릿지 선형 회귀 분석을 의미하고, 1을 지정하면 L2 제약이 사용되지 않고 L1 제약만\n",
    "# 사용하는 라쏘 선형 회귀 분석이 됨을 의미한다.\n",
    "clf_elastic = ElasticNet(alpha=0.01, l1_ratio=0.01)\n",
    "# 표준화된 학습 데이터와 학습 데이터에 따른 레이블 데이터로 엘라스틱 넷 선형 회귀 모델을 학습시킨다.\n",
    "clf_elastic.fit(x_train, y_train)"
   ]
  },
  {
   "cell_type": "code",
   "execution_count": 10,
   "id": "ae6a8be8",
   "metadata": {},
   "outputs": [
    {
     "name": "stdout",
     "output_type": "stream",
     "text": [
      "[-1.02916603  1.23681955  0.15236504  0.67859622 -2.34646781  2.02965524\n",
      "  0.14575132 -2.98592423  2.32013379 -1.48829485 -2.09271972  0.56506801\n",
      " -3.9495281 ]\n",
      "22.344591029023768\n"
     ]
    }
   ],
   "source": [
    "# 엘라스틱 넷 선형 회귀 분석 계수(가중치)와 상수항(바이어스) 확인\n",
    "print(clf_elastic.coef_) # 가중치\n",
    "print(clf_elastic.intercept_) # 바이어스"
   ]
  },
  {
   "cell_type": "markdown",
   "id": "be6b530e",
   "metadata": {},
   "source": [
    "학습된 모델로 테스트 데이터를 예측한다."
   ]
  },
  {
   "cell_type": "code",
   "execution_count": 11,
   "id": "4754b478",
   "metadata": {
    "scrolled": false
   },
   "outputs": [
    {
     "name": "stdout",
     "output_type": "stream",
     "text": [
      "일반: 32.37817, 라쏘: 32.19249, 릿지: 32.26711, 엘라: 31.99335\n",
      "일반: 27.95684, 라쏘: 27.98937, 릿지: 27.97205, 엘라: 28.00404\n",
      "일반: 18.07214, 라쏘: 18.04237, 릿지: 18.08339, 엘라: 18.11898\n",
      "일반: 21.63167, 라쏘: 21.75823, 릿지: 21.68419, 엘라: 21.81160\n",
      "일반: 18.93030, 라쏘: 18.88655, 릿지: 18.89663, 엘라: 18.81388\n"
     ]
    }
   ],
   "source": [
    "# predict() 메소드의 인수로 표준화된 테스트 데이터를 넘겨서 예측한다.\n",
    "predict_lr = clf_lr.predict(x_test)\n",
    "predict_lasso = clf_lasso.predict(x_test)\n",
    "predict_ridge = clf_ridge.predict(x_test)\n",
    "predict_elastic = clf_elastic.predict(x_test)\n",
    "for i in range(len(predict_lr))[:5]:\n",
    "    print('일반: {:8.5f}, 라쏘: {:8.5f}, 릿지: {:8.5f}, 엘라: {:8.5f}'.format(\n",
    "        predict_lr[i], predict_lasso[i], predict_ridge[i], predict_elastic[i]\n",
    "    ))"
   ]
  },
  {
   "cell_type": "markdown",
   "id": "52f229a1",
   "metadata": {},
   "source": [
    "학습된 모델을 평가한다."
   ]
  },
  {
   "cell_type": "code",
   "execution_count": 12,
   "id": "50901c1f",
   "metadata": {},
   "outputs": [
    {
     "name": "stdout",
     "output_type": "stream",
     "text": [
      "일반: 3.574868126127544\n",
      "라쏘: 3.571868321373356\n",
      "릿지: 3.5725770166994746\n",
      "엘라: 3.5698270945059454\n"
     ]
    }
   ],
   "source": [
    "# 평균 절대값 오차(MAE)\n",
    "# mean_absolute_error() 메소드의 인수로 테스트 데이터의 레이블과 예측값을 넘겨 평균 절대값 오차를 계산한다.\n",
    "print('일반:', mean_absolute_error(y_test, predict_lr))\n",
    "print('라쏘:', mean_absolute_error(y_test, predict_lasso))\n",
    "print('릿지:', mean_absolute_error(y_test, predict_ridge))\n",
    "print('엘라:', mean_absolute_error(y_test, predict_elastic))"
   ]
  },
  {
   "cell_type": "code",
   "execution_count": 13,
   "id": "9d268694",
   "metadata": {},
   "outputs": [
    {
     "name": "stdout",
     "output_type": "stream",
     "text": [
      "일반: 21.897765396049525\n",
      "라쏘: 21.915483810504835\n",
      "릿지: 21.894849212618745\n",
      "엘라: 21.912961890936874\n"
     ]
    }
   ],
   "source": [
    "# 평균 제곱 오차(MAE)\n",
    "# mean_squared_error() 메소드의 인수로 테스트 데이터의 레이블과 예측값을 넘겨 평균 제곱 오차를 계산한다.\n",
    "print('일반:', mean_squared_error(y_test, predict_lr))\n",
    "print('라쏘:', mean_squared_error(y_test, predict_lasso))\n",
    "print('릿지:', mean_squared_error(y_test, predict_ridge))\n",
    "print('엘라:', mean_squared_error(y_test, predict_elastic))"
   ]
  },
  {
   "cell_type": "code",
   "execution_count": 14,
   "id": "88c9a6ef",
   "metadata": {},
   "outputs": [
    {
     "name": "stdout",
     "output_type": "stream",
     "text": [
      "일반: 0.7789410172622855\n",
      "라쏘: 0.7787621490259894\n",
      "릿지: 0.7789704562726605\n",
      "엘라: 0.7787876079239252\n"
     ]
    }
   ],
   "source": [
    "# R2 score\n",
    "# r2_score() 메소드의 인수로 테스트 데이터의 레이블과 예측값을 넘겨 R2 score를 계산한다.\n",
    "print('일반:', r2_score(y_test, predict_lr))\n",
    "print('라쏘:', r2_score(y_test, predict_lasso))\n",
    "print('릿지:', r2_score(y_test, predict_ridge))\n",
    "print('엘라:', r2_score(y_test, predict_elastic))"
   ]
  },
  {
   "cell_type": "code",
   "execution_count": null,
   "id": "d680b529",
   "metadata": {},
   "outputs": [],
   "source": []
  },
  {
   "cell_type": "code",
   "execution_count": null,
   "id": "438a8d04",
   "metadata": {},
   "outputs": [],
   "source": []
  }
 ],
 "metadata": {
  "kernelspec": {
   "display_name": "python37",
   "language": "python",
   "name": "python37"
  },
  "language_info": {
   "codemirror_mode": {
    "name": "ipython",
    "version": 3
   },
   "file_extension": ".py",
   "mimetype": "text/x-python",
   "name": "python",
   "nbconvert_exporter": "python",
   "pygments_lexer": "ipython3",
   "version": "3.7.1"
  }
 },
 "nbformat": 4,
 "nbformat_minor": 5
}
