{
 "cells": [
  {
   "cell_type": "code",
   "execution_count": 1,
   "id": "fa953547",
   "metadata": {},
   "outputs": [],
   "source": [
    "import warnings\n",
    "warnings.filterwarnings(action='ignore')\n",
    "%config Completer.use_jedi = False\n",
    "import requests"
   ]
  },
  {
   "cell_type": "markdown",
   "id": "4066c615",
   "metadata": {},
   "source": [
    "네이버 오픈 API를 사용하려면 먼저 네이버 개발자 센터에서 애플리케이션을 등록하고 클라이언트 ID와 클라이언트 시크릿을 발급받아야 한다.  \n",
    "네이버에 로그인한 사용자 계정으로 애플리케이션이 등록되므로 애플리케이션을 등록한 네이버 아이디는 관리자 권한을 가지게 되므로 보안에 각별히 주의해야 한다."
   ]
  },
  {
   "cell_type": "code",
   "execution_count": 2,
   "id": "06d74e34",
   "metadata": {},
   "outputs": [],
   "source": [
    "headers = {\n",
    "    'User-agent': 'Mozilla/5.0 (Windows NT 6.3; Win64; x64; Trident/7.0; MSAppHost/2.0; rv:11.0) like Gecko',\n",
    "    'X-Naver-Client-Id': 'QLcTL2hNn1r4gJCAxqvj',\n",
    "    'X-Naver-Client-Secret': 'Mh2_AKZKbY'\n",
    "}"
   ]
  },
  {
   "cell_type": "markdown",
   "id": "c90b4b28",
   "metadata": {},
   "source": [
    "네이버 샘플 코드"
   ]
  },
  {
   "cell_type": "code",
   "execution_count": 3,
   "id": "ceb2247c",
   "metadata": {
    "scrolled": true
   },
   "outputs": [
    {
     "name": "stdout",
     "output_type": "stream",
     "text": [
      "<?xml version=\"1.0\" encoding=\"UTF-8\"?><rss version=\"2.0\"><channel><title>Naver Open API - blog ::&apos;홍길동&apos;</title><link>https://search.naver.com</link><description>Naver Search Result</description><lastBuildDate>Fri, 31 May 2024 16:09:45 +0900</lastBuildDate><total>285482</total><start>1</start><display>10</display><item><title>(2024) 3월 일상 시켜줘 명예&lt;b&gt;홍길동&lt;/b&gt;</title><link>https://blog.naver.com/qquiop/223412855635</link><description>명예&lt;b&gt;홍길동&lt;/b&gt;.. 시작합니다 레쓰고 3월 일상 시작부터 냅따 마취크림 바른 사진 올리기 2차 갑상선 레이저흉터 했다..홀홀 원래 교수님이 2번만 하면 된다 했는데 다음 외래도 잡아주심(녜???ㅎㅅㅎ??) 디저트계의... </description><bloggername>야금야금 냠냠</bloggername><bloggerlink>blog.naver.com/qquiop</bloggerlink><postdate>20240411</postdate></item><item><title>중랑구 대방어 웨이팅 맛집 - &lt;b&gt;홍길동&lt;/b&gt; 회 수산 (방문 포장)</title><link>https://blog.naver.com/kim2ee_/223348658405</link><description>맛집 &lt;b&gt;홍길동&lt;/b&gt; 회 수산 (방문 포장) 리뷰입니다! 올겨울 대방어 철이 다 가기 전에 중랑구에서 핫하다는 대방어 맛집에 다녀왔어요 ㅎㅎ 같이 알아보시죠! &lt;b&gt;홍길동&lt;/b&gt; 회 수산 영업시간 월, 수, 목, 금, 토, 일 17:00 ~ 02... </description><bloggername>먹깨비 부부의 일상 *´ސު｀*</bloggername><bloggerlink>blog.naver.com/kim2ee_</bloggerlink><postdate>20240209</postdate></item><item><title>장성 펜션 &apos;&lt;b&gt;홍길동&lt;/b&gt;건강펜션&apos; 전라도 애견 동반 장성 독채 펜션</title><link>https://blog.naver.com/anndam/223393877856</link><description>장성 펜션 &lt;b&gt;홍길동&lt;/b&gt;건강펜션 전남 장성 독채 펜션, 전라도 애견 동반 가능 펜션으로 조용하고 편안한 곳인데요. &lt;b&gt;홍길동&lt;/b&gt;테마파크, 황룡강생태공원 인근으로 아름다운 자연속 힐링하며 묵기 좋은 전남 독채... </description><bloggername>♥마리안의 여행이야기-마음이 머무는 이곳♥</bloggername><bloggerlink>blog.naver.com/anndam</bloggerlink><postdate>20240325</postdate></item><item><title>장성 펜션 애견동반 가능 단체 &lt;b&gt;홍길동&lt;/b&gt;건강펜션</title><link>https://blog.naver.com/lllpeacelll1/223434902136</link><description>&lt;b&gt;홍길동&lt;/b&gt;테마파크, 황룡강생태공원과도 가까워서 함께 관광하기에도 좋습니다 :) &lt;b&gt;홍길동&lt;/b&gt;건강펜션 전남 장성군 황룡면 금호초지길 24-31 까치방 기준 2인(4인까지 가능) 체크인 14:00 체크아웃 11:00 단체방(10... </description><bloggername>블랙토끼의 새콤달콤 여행기록</bloggername><bloggerlink>blog.naver.com/lllpeacelll1</bloggerlink><postdate>20240503</postdate></item><item><title>유 퀴즈 온 더 블럭 241화 &lt;b&gt;홍길동&lt;/b&gt;에서 쓰저씨까지 Y아저씨... </title><link>https://blog.naver.com/dayeon1007/223426242463</link><description>&amp;quot; 큰 자기 유재석&amp;amp;아기자기 조세호와 자기님들의 인생으로 떠나는 사람 여행 28년 전 &lt;b&gt;홍길동&lt;/b&gt; 쓰레기... 국립극단에서 연극을 하던 중 처음으로 오디션을 본 드라마 &amp;lt;&lt;b&gt;홍길동&lt;/b&gt;&amp;gt;. 드라마 데뷔와 동시에 주연 &apos;&lt;b&gt;홍길동&lt;/b&gt;... </description><bloggername>하나님 그리고 조나단</bloggername><bloggerlink>blog.naver.com/dayeon1007</bloggerlink><postdate>20240424</postdate></item><item><title>상봉/망우 맛집 : &lt;b&gt;홍길동&lt;/b&gt; 회수산 (갓성비 회는 짱이지만... </title><link>https://blog.naver.com/mey471/223444999360</link><description>오늘 리뷰할 맛집은 &amp;quot;&lt;b&gt;홍길동&lt;/b&gt;회수산&amp;quot;임!! [기본 정보] ●영업시간 : 17시 - 02시 (정기휴무 : 매주 화요일) ●예약은 따로 불가함. 이미 상봉 근처에 사는 사람들이라면 익히 알고 있는 갓성비 회 맛집 &amp;quot;&lt;b&gt;홍길동&lt;/b&gt;... </description><bloggername>에베베베메롱</bloggername><bloggerlink>blog.naver.com/mey471</bloggerlink><postdate>20240513</postdate></item><item><title>&lt;b&gt;홍길동&lt;/b&gt;은 정말 의적일까?</title><link>https://blog.naver.com/k2gvtopia/223384027639</link><description>&lt;b&gt;홍길동&lt;/b&gt;은 의적일까? 아닐까? 결론적으로 말해서 &lt;b&gt;홍길동&lt;/b&gt;은 의적이 아니라 도적에 지나지 않다. 어린 시절 누구나 한 번쯤은 읽었을 &lt;b&gt;홍길동&lt;/b&gt;전은 조선 광해군 때에 지어진 최초의 한글 소설이기에 그 가치가 매우... </description><bloggername>K2GVTopia</bloggername><bloggerlink>blog.naver.com/k2gvtopia</bloggerlink><postdate>20240315</postdate></item><item><title>주문진 어민 수산시장 이시가리 자연산 활어전문 &lt;b&gt;홍길동&lt;/b&gt; 너무... </title><link>https://blog.naver.com/cutejun01/223425471511</link><description>2인이서 먹어야해서 사이즈와 금액대도 괜찮은 &lt;b&gt;홍길동&lt;/b&gt;에서 해산물 포장하기로 했어요. 역시나... 각종 자연산 활어 전문 전국 택배도 가능하고 &lt;b&gt;홍길동&lt;/b&gt; 사장님 친절하셨어요. 회 뜨는 곳에서 포장하고 야채도... </description><bloggername>나오느른의 life</bloggername><bloggerlink>blog.naver.com/cutejun01</bloggerlink><postdate>20240424</postdate></item><item><title>부산 간판 정관 &lt;b&gt;홍길동&lt;/b&gt; 매장 대형 현수막 설치</title><link>https://blog.naver.com/baren_sign/223420340908</link><description>정관 &lt;b&gt;홍길동&lt;/b&gt; 리세일 매장에서 부산 간판 업체 바른 광고로 대형 현수막 설치를 의뢰해 주셨습니다.... 새롭게 제작된 &lt;b&gt;홍길동&lt;/b&gt; 리세일 매장의 상호가 적힌 현수막을 피스를 사용하여, 시계 방향으로 고정을 해... </description><bloggername>바른광고_Bareun Sign</bloggername><bloggerlink>blog.naver.com/baren_sign</bloggerlink><postdate>20240419</postdate></item><item><title>리어왕읽기5_에드먼드와 &lt;b&gt;홍길동&lt;/b&gt;</title><link>https://blog.naver.com/enitheater/223461359870</link><description>에드먼드와 &lt;b&gt;홍길동&lt;/b&gt;이라는 ‘서자’라는 형상을 내세워 적서차별의 문제를 다루고 있다. 서양과 동양이라는 거리상의 차이에도 불구하고 같은 문제를 공유하고 있었던 것이다. &amp;lt;리어왕&amp;gt;과 &amp;lt;&lt;b&gt;홍길동&lt;/b&gt;전&amp;gt;에... </description><bloggername>경험과상상 소식지블로그</bloggername><bloggerlink>blog.naver.com/enitheater</bloggerlink><postdate>20240528</postdate></item></channel></rss>\n"
     ]
    }
   ],
   "source": [
    "import os\n",
    "import sys\n",
    "import urllib.request\n",
    "client_id = \"QLcTL2hNn1r4gJCAxqvj\" # 개발자센터에서 발급받은 Client ID 값\n",
    "client_secret = \"Mh2_AKZKbY\" # 개발자센터에서 발급받은 Client Secret 값\n",
    "encText = urllib.parse.quote(\"홍길동\")\n",
    "url = \"https://openapi.naver.com/v1/search/blog.xml?query=\" + encText\n",
    "request = urllib.request.Request(url)\n",
    "request.add_header(\"X-Naver-Client-Id\",client_id)\n",
    "request.add_header(\"X-Naver-Client-Secret\",client_secret)\n",
    "response = urllib.request.urlopen(request)\n",
    "rescode = response.getcode()\n",
    "if(rescode==200):\n",
    "    response_body = response.read()\n",
    "    print(response_body.decode('utf-8'))\n",
    "else:\n",
    "    print(\"Error Code:\" + rescode)"
   ]
  },
  {
   "cell_type": "markdown",
   "id": "ae0b9af1",
   "metadata": {},
   "source": [
    "블로그 검색"
   ]
  },
  {
   "cell_type": "code",
   "execution_count": 4,
   "id": "3daafa39",
   "metadata": {
    "scrolled": true
   },
   "outputs": [
    {
     "name": "stdout",
     "output_type": "stream",
     "text": [
      "검색어 입력: 다낭\n",
      "{'title': '<b>다낭</b> 가성비 마사지 꼼꼼했던 아지트 후기', 'link': 'https://blog.naver.com/ksw5468/223454635393', 'description': '예상치 못했던 휴가를 얻어서 어디를 갈까 고민하던 중 <b>다낭</b>이 떠오르더라구요. 마침 또 <b>다낭</b> 여행 안간지 제법 오래 됐길래 오랜만에 <b>다낭</b> 가서 휴양하고 왔어요. 첫째날엔 <b>다낭</b> 가성비 마사지로 유명하다는... ', 'bloggername': 'What a splendid days', 'bloggerlink': 'blog.naver.com/ksw5468', 'postdate': '20240522'}\n",
      "========================================================================================================================\n",
      "{'title': '<b>다낭</b> 가성비 마사지 인정했던 아지트스파', 'link': 'https://blog.naver.com/hyungsuk1010/223448787920', 'description': '#<b>다낭</b>가성비마사지 #아지트스파 #아지트멀티플렉스 오랜만에 친구들이랑 <b>다낭</b> 여행을 다녀왔어요. 거의 1년만에 다시 찾은 <b>다낭</b>이라 너무 좋았는데요. 여행 첫날 방문했던 아지트스파 &amp; 아지트네일 너무나... ', 'bloggername': '여행에 미치다', 'bloggerlink': 'blog.naver.com/hyungsuk1010', 'postdate': '20240516'}\n",
      "========================================================================================================================\n",
      "{'title': '<b>다낭</b> 가성비 마사지 강추하는 아지트 AZIT', 'link': 'https://blog.naver.com/whgusdn1588/223462646969', 'description': '헤누입니다 :) 이른 여름 휴가를 맞아 친구들과 <b>다낭</b>여행을 계획했는데요. 오랜만에 맛있는 음식들도 먹고 마사지도 하루에 한번씩 받으면서 제대로 힐링할 수 있었는데요. 그래서 오늘은 <b>다낭</b> 여행에서... ', 'bloggername': '헤누가 간다!', 'bloggerlink': 'blog.naver.com/whgusdn1588', 'postdate': '20240530'}\n",
      "========================================================================================================================\n",
      "{'title': '<b>다낭</b> 미케비치 마사지 내돈내산 만족스러웠던 빌라드', 'link': 'https://blog.naver.com/mshsun/223462527132', 'description': '얼마 전에 베트남 <b>다낭</b>으로 휴가 다녀왔어요. 거의 체감온도 40도에 육박하는 더위라서 낮에 다니는 건... <b>다낭</b> 미케비치 마사지 추천 샵에서 마사지랑 네일 받았는데 너무 만족스러워서 여러분들께... ', 'bloggername': '시골베짱이', 'bloggerlink': 'blog.naver.com/mshsun', 'postdate': '20240529'}\n",
      "========================================================================================================================\n",
      "{'title': '<b>다낭</b> 마사지 만족했던 마마스파 후기', 'link': 'https://blog.naver.com/newspacekor/223459046386', 'description': '저도 이번에 친구와 여행 중 마사지를 열심히 받았는데 그 중에서도 가장 만족스러웠던 <b>다낭</b> 마사지... 다른 <b>다낭</b> 마사지 샵과는 살짝 다르게 겉에서 보기에도 고급스럽고 깔끔한 분위기가 느껴져서... ', 'bloggername': '물속 사랑', 'bloggerlink': 'blog.naver.com/newspacekor', 'postdate': '20240526'}\n",
      "========================================================================================================================\n",
      "{'title': '괜찮았던 <b>다낭</b> 가성비 호텔 마마 후기', 'link': 'https://blog.naver.com/dynamic_ca/223463247985', 'description': '지난 휴가에 해외로 가족들과 여행을 다녀오면서 <b>다낭</b> 가성비 호텔을 얼른 소개해야겠다고... <b>다낭</b> 가성비 호텔 특징 미케비치 안뜨엉 야시장에서 도보로 5분이면 도착할 수 있고 주변에 맛있는 먹거리도 많은... ', 'bloggername': '디나믹여행', 'bloggerlink': 'blog.naver.com/dynamic_ca', 'postdate': '20240530'}\n",
      "========================================================================================================================\n",
      "{'title': '<b>다낭</b> 로컬 마사지 잘하는 포레스트', 'link': 'https://blog.naver.com/skyblue2031/223455076902', 'description': '가족들과 함께 <b>다낭</b> 여행을 계획하고 제가 가장 신경을 쓰면서 알아본 것은 바로 <b>다낭</b> 로컬 마사지예요. 아무래도 요즘 회사일이 많이 바빴고 이래저래 스트레스도 많이 받아서 몸이 많이 피로해졌었거든요.... ', 'bloggername': 'aqua', 'bloggerlink': 'blog.naver.com/skyblue2031', 'postdate': '20240522'}\n",
      "========================================================================================================================\n",
      "{'title': '<b>다낭</b> 바운스비치 리조트 트윈룸 수영장 조식 후기', 'link': 'https://blog.naver.com/kemono23/223463215121', 'description': '긴 고민 끝에 <b>다낭</b> 여행을 가기로 결정했고 휴양느낌의 리조트를 선택하게 되었어요. <b>다낭</b> 바운스비치 리조트 <b>다낭</b> 바운스비치 리조트에 도착했는데 깔끔한 로비와 프런트 데스크 그리고 주변의 빽빽한... ', 'bloggername': '도깨비패밀리', 'bloggerlink': 'blog.naver.com/kemono23', 'postdate': '20240531'}\n",
      "========================================================================================================================\n",
      "{'title': '<b>다낭</b> 미케비치 마사지 추천 스파잘하는 2곳', 'link': 'https://blog.naver.com/jerryman84/223463305131', 'description': '얼마 전 친구와 함께 <b>다낭</b>으로 여행을 다녀왔는데 아무래도 가장 기억에 많이 남았던 건 마사지인 것 같아요! 그래서 오늘은 <b>다낭</b> 미케비치 마사지 추천 2곳을 해드리고자 하는데요, 여행에 도움이 되시기... ', 'bloggername': '제리의 세상사는 이야기', 'bloggerlink': 'blog.naver.com/jerryman84', 'postdate': '20240530'}\n",
      "========================================================================================================================\n",
      "{'title': '여자 혼자 베트남 <b>다낭</b> 여행 (1)', 'link': 'https://blog.naver.com/dbqpll/223445845665', 'description': '베트남 <b>다낭</b>으로 여행을 다녀왔었다. 사실 좀 더 전에 호치민을 먼저 갔었는데, 호치민을 다녀 오니 <b>다낭</b>이 너무 가고 싶어져서 다녀 오게 되었다는. <b>다낭</b>이랑 호치민을 비교하자면, 호치민은 사람들로... ', 'bloggername': '김수현모양처 블로그', 'bloggerlink': 'blog.naver.com/dbqpll', 'postdate': '20240514'}\n",
      "========================================================================================================================\n"
     ]
    }
   ],
   "source": [
    "searchText = input('검색어 입력: ')\n",
    "# 요청 URL\n",
    "# https://openapi.naver.com/v1/search/blog.xml  => xml 형태로 검색 결과를 리턴 받는다.\n",
    "# https://openapi.naver.com/v1/search/blog.json => json 형태로 검색 결과를 리턴 받는다.\n",
    "# 파라미터: URL 뒤에 '?'를 붙이고 입력한다.\n",
    "# query(필수): 검색어, UTF-8로 인코딩되어야 한다.\n",
    "# display(선택): 한 번에 표시할 검색 결과의 개수, 기본값은 10이고 최대 100까지 지정할 수 있다.\n",
    "# start(선택): 검색 시작 위치, 기본값은 1이고 최대 1000까지 지정할 수 있다.\n",
    "# sort(선택): 검색 결과 정렬 방법, 기본값은 'sim'이고 정확도순 내림차순 정렬, 'date'는 작성일 내림차순 정렬\n",
    "targetSite = 'https://openapi.naver.com/v1/search/blog.json?query=' + searchText\n",
    "# print(targetSite)\n",
    "\n",
    "response = requests.get(targetSite, headers=headers) # 네이버 검색 API에게 요청한다.\n",
    "# print(response) # <Response [200]>\n",
    "# print(type(response)) # <class 'requests.models.Response'>\n",
    "# print(response.text)\n",
    "# print(type(response.text)) # <class 'str'>\n",
    "searchResult = response.json() # 응답받은 json 형태의 문자열을 딕셔너리로 변환한다.\n",
    "# print(type(searchResult)) # <class 'dict'>\n",
    "# print(searchResult.keys()) # ['lastBuildDate', 'total', 'start', 'display', 'items']\n",
    "items = searchResult['items']\n",
    "# print(items)\n",
    "for item in items:\n",
    "    print('{}'.format(item), end='\\n' + '=' * 120 + '\\n')"
   ]
  },
  {
   "cell_type": "markdown",
   "id": "f38f8aa3",
   "metadata": {},
   "source": [
    "뉴스 검색"
   ]
  },
  {
   "cell_type": "code",
   "execution_count": 5,
   "id": "dd94204d",
   "metadata": {
    "scrolled": true
   },
   "outputs": [
    {
     "name": "stdout",
     "output_type": "stream",
     "text": [
      "검색어 입력: 푸꾸옥\n",
      "{'title': \"비엣젯항공, 2024년 '최고의 초저가 항공사' 선정\", 'originallink': 'https://www.gokorea.kr/news/articleView.html?idxno=754190', 'link': 'https://www.gokorea.kr/news/articleView.html?idxno=754190', 'description': '비엣젯항공은 현재 인천과 부산에서 출발해 베트남 주요 도시와 관광지인 하노이, 호치민, 다낭, 나트랑, <b>푸꾸옥</b>에 도착하는 직항 노선을 운항하며, 인천-하이퐁 직항 노선도 운항 중이다.', 'pubDate': 'Fri, 31 May 2024 15:12:00 +0900'}\n",
      "========================================================================================================================\n",
      "{'title': \"<b>푸꾸옥</b>의 테마파크를 함께 즐겨보세요, 익스플로러 패키지 '크라운 플라자 푸...\", 'originallink': 'http://www.outdoornews.co.kr/news/articleView.html?idxno=34979', 'link': 'http://www.outdoornews.co.kr/news/articleView.html?idxno=34979', 'description': '다양한 테마파크가 몰려 있는 <b>푸꾸옥</b> 북서쪽 해안가에 위치한 크라운 플라자 <b>푸꾸옥</b> 스타베이(Crowne Plaza Phu Quoc Starbay, an IHG Hotel)가 본격적인 여름휴가를 앞두고 천혜의 자연을 만끽하는 동시에 테마파크로의 흥미로운... ', 'pubDate': 'Fri, 31 May 2024 11:10:00 +0900'}\n",
      "========================================================================================================================\n",
      "{'title': '[PartⅠ해외 ①]리스트 따라 숨겨진 여행지로', 'originallink': 'https://www.mk.co.kr/article/11029767', 'link': 'https://n.news.naver.com/mnews/article/009/0005311964?sid=004', 'description': '스카이스캐너 측은 “상위 10곳의 여행지 중 베트남의 경우 올여름 검색량이 전년 대비 2배로 가파른 상승세를 보였다”며 “팬데믹 이후 직항 노선이 재개되며 나트랑, <b>푸꾸옥</b> 등 관광, 맛집, 휴양 세 마리 토끼를 잡을... ', 'pubDate': 'Fri, 31 May 2024 10:40:00 +0900'}\n",
      "========================================================================================================================\n",
      "{'title': \"투어비스, 동남아 항공권 얼리버드 특가 실시.. '하반기 동남아 여행 준비'\", 'originallink': 'https://www.discoverynews.kr/news/articleView.html?idxno=1044694', 'link': 'https://www.discoverynews.kr/news/articleView.html?idxno=1044694', 'description': '6월 30일까지 진행되는 이번 얼리버드 프로모션은 푸켓, 보홀, <b>푸꾸옥</b>, 발리 등의 휴양지부터 다낭, 방콕, 싱가포르 도심 관광지까지 해당 도시 직항을 운행하는 대한항공/아시아나항공/티웨이항공/진에어/제주항공... ', 'pubDate': 'Thu, 30 May 2024 17:12:00 +0900'}\n",
      "========================================================================================================================\n",
      "{'title': \"<b>푸꾸옥</b>, '세계서 가장 저렴한 열대여행지 10선'에 꼽혀\", 'originallink': 'http://www.insidevina.com/news/articleView.html?idxno=27647', 'link': 'http://www.insidevina.com/news/articleView.html?idxno=27647', 'description': '베트남의 진주섬 <b>푸꾸옥</b> 해변의 모습. 베트남 대표 휴양지인 <b>푸꾸옥</b>이 세계에서 가장 저렴한 열대여행지에 이름을 올렸다. <b>푸꾸옥</b>은 사오비치와 껨비치 등 아름다운 해변, 수백여종의 희귀 동식물이 서식중인... ', 'pubDate': 'Thu, 30 May 2024 15:48:00 +0900'}\n",
      "========================================================================================================================\n",
      "{'title': '비엣젯항공, 2024 에어라인레이팅스 2관왕 수상…서비스 우수 인정', 'originallink': 'https://www.lcnews.co.kr/news/articleView.html?idxno=76419', 'link': 'https://www.lcnews.co.kr/news/articleView.html?idxno=76419', 'description': '비엣젯항공은 현재 인천과 부산에서 출발해 베트남 주요 도시와 관광지인 하노이, 호치민, 다낭, 나트랑, <b>푸꾸옥</b>에 도착하는 직항 노선을 운항하며, 인천-하이퐁 직항 노선도 운항 중이다.', 'pubDate': 'Thu, 30 May 2024 14:46:00 +0900'}\n",
      "========================================================================================================================\n",
      "{'title': \"베트남 비엣젯항공, '2024 에어라인레이팅스' 2관왕 수상… 안전‧서비스 모두...\", 'originallink': 'https://www.pennmike.com/news/articleView.html?idxno=81763', 'link': 'https://www.pennmike.com/news/articleView.html?idxno=81763', 'description': '비엣젯항공은 현재 인천과 부산에서 출발해 베트남 주요 도시와 관광지인 하노이, 호치민, 다낭, 나트랑, <b>푸꾸옥</b>에 도착하는 직항 노선을 운항하며, 인천-하이퐁 직항 노선도 운항 중이다. 한편, 비엣젯항공은 현재... ', 'pubDate': 'Thu, 30 May 2024 13:58:00 +0900'}\n",
      "========================================================================================================================\n",
      "{'title': \"비엣젯항공, '2024 에어라인레이팅스' 2관왕\", 'originallink': 'https://www.getnews.co.kr/news/articleView.html?idxno=676567', 'link': 'https://www.getnews.co.kr/news/articleView.html?idxno=676567', 'description': '현재 해당 항공사는 인천과 부산에서 출발해 베트남 주요 도시와 관광지인 하노이, 호치민, 다낭, 나트랑, <b>푸꾸옥</b>에 도착하는 직항 노선을 운항하며, 인천-하이퐁 직항 노선도 운항 중이다.', 'pubDate': 'Thu, 30 May 2024 11:26:00 +0900'}\n",
      "========================================================================================================================\n",
      "{'title': '남성vs여성? 해외리조트 부문 1위, 누가 더 관심 높나', 'originallink': 'http://www.tournews21.com/news/articleView.html?idxno=71731', 'link': 'http://www.tournews21.com/news/articleView.html?idxno=71731', 'description': '표에는 나오지 않은 11위는 한사사무이리조트&amp;스파, 12위 더세일링베이비치리조트무이네, 13위 아난타라더팜두바이리조트, 14위 JW메리어트싱가포르사우스비치, 15위 JW메리어트<b>푸꾸옥</b>에메랄드베이리조트&amp;스파, 16위... ', 'pubDate': 'Thu, 30 May 2024 10:00:00 +0900'}\n",
      "========================================================================================================================\n",
      "{'title': '“방송보니 해외여행 가고싶네” 여행상품 라이브커머스 거래액 282% 쑥↑', 'originallink': 'http://www.edaily.co.kr/news/newspath.asp?newsid=01289046638894168', 'link': 'https://n.news.naver.com/mnews/article/018/0005751549?sid=101', 'description': '다낭, <b>푸꾸옥</b>, 나트랑 등 베트남 휴양지 방송은 전체 323건의 방송 중 62건이 송출되며 19%를 차지했다. 그 뒤로 호주(15%), 괌·사이판·하와이 등 미주(14%), 세부·보라카이·보홀 등 필리핀(12%), 일본(11%)이 차지했다.... ', 'pubDate': 'Thu, 30 May 2024 06:05:00 +0900'}\n",
      "========================================================================================================================\n"
     ]
    }
   ],
   "source": [
    "searchText = input('검색어 입력: ')\n",
    "targetSite = 'https://openapi.naver.com/v1/search/news.json?query=' + searchText\n",
    "response = requests.get(targetSite, headers=headers)\n",
    "searchResult = response.json()\n",
    "items = searchResult['items']\n",
    "for item in items:\n",
    "    print('{}'.format(item), end='\\n' + '=' * 120 + '\\n')"
   ]
  },
  {
   "cell_type": "markdown",
   "id": "a1510080",
   "metadata": {},
   "source": [
    "도서 검색"
   ]
  },
  {
   "cell_type": "code",
   "execution_count": 6,
   "id": "2872244b",
   "metadata": {
    "scrolled": true
   },
   "outputs": [
    {
     "name": "stdout",
     "output_type": "stream",
     "text": [
      "검색어 입력: 전자계산기조직응용기사실기\n",
      "{'title': '2023 수제비 전자계산기 조직응용기사 실기 (2014~22년 출제경향 완벽반영/ 최신 기출문제 2회분 수록/)', 'link': 'https://search.shopping.naver.com/book/catalog/39027077618', 'image': 'https://shopping-phinf.pstatic.net/main_3902707/39027077618.20231120010334.jpg', 'author': '윤영빈^서용욱^김학배^박인상', 'discount': '0', 'publisher': '건기원', 'pubdate': '20230410', 'isbn': '9791157677405', 'description': 'ㆍ비전공자를 위한 최고의 비법서!\\nㆍ최단기 합격을 위해 꼭 필요한 내용만을 담백하게!\\nㆍ합격을 위한 다양한 솔루션 제공\\nㆍ최강 커뮤니티를 통한 실시간 피드백!'}\n",
      "========================================================================================================================\n",
      "{'title': '공생공사(共生共死) 전자계산기 조직응용기사 실기', 'link': 'https://search.shopping.naver.com/book/catalog/39341740619', 'image': 'https://shopping-phinf.pstatic.net/main_3934174/39341740619.20240313071031.jpg', 'author': '석민', 'discount': '0', 'publisher': '부크크(Bookk)', 'pubdate': '20230330', 'isbn': '9791141022099', 'description': '전자계산기 조직응용기사 자격증을 취득을 위해 공부를 시작하신 모든 수험생 분들이 겪는 어려움 중 하나는 시중에 제대로 된 문제집을 찾기 어렵다는 것입니다. 저 역시도 과거에 전자계산기 조직응용기사 자격증 취득을 위해 시험 자료를 직접 찾아 봐야 하는 수고로움이 있었고, 이에 저만의 노하우가 쌓이게 되어 이 책을 집필하기로 결심하였습니다.\\n\\n이 책에서는 각 과목별 자주 출제되었던 기출 문제를 모두 분석 및 수록하였으며, 필요한 이론들만을 정리하여 단시간 학습으로 합격이 가능하도록 구성하였습니다. 또한, 예상문제들을 통하여 아직 출제 되지 않은 문제들에 대해서도 충분히 대비가 가능하도록 하였습니다.\\n\\n기사 시험은 60점만 넘기면 됩니다. 그리고 자주 출제되었던 문제는 반복해서 출제됩니다. 즉, 짧은 시간에 효율적으로 합격할 정도로 공부하는 것이 중요합니다. 이 책이 여러분을 단시간에 전자계산기 조직응용기사를 합격하도록 돕는 길라잡이가 되길 기대합니다.'}\n",
      "========================================================================================================================\n",
      "{'title': 'FISHBONE 전자계산기조직응용기사 실기 필답형 이론서', 'link': 'https://search.shopping.naver.com/book/catalog/32498132780', 'image': 'https://shopping-phinf.pstatic.net/main_3249813/32498132780.20220521064058.jpg', 'author': 'fishbone', 'discount': '16900', 'publisher': '부크크(bookk)', 'pubdate': '20220302', 'isbn': '9791137275898', 'description': '이 책은 FISHBONE에서 배포한 전자계산기조직응용기사 실기 필답형 이론 동영상 강의의 참고 교재입니다. 배포된 교육 동영상은 교재의 필요성을 염두에 두고 제작하지 않았으나 많은 시청자들이 교재에 대한 문의와 요청이 많았고, POD(Publish On Demand) 방식은 출판 과정이 간편하여 본 책을 집필하게 되었습니다.\\n책의 구성과 전개는 가능한 동영상 강의와 일치하도록 만들었고, 각 차시 시작부에 QR코드를 삽입하여 해당 강의 회차를 스마트기기로 간편하게 시청할 수 있도록 하였습니다. 강의 내용 외에 삽입한 ‘기출문제 심층분석’ 파트는 자연체로 상세하게 서술하여 강의를 시청하지 않고 이 책만으로 학습하시는 분들에게 도움이 되도록 하였습니다.'}\n",
      "========================================================================================================================\n",
      "{'title': '2023 수제비 전자계산기 조직응용기사 필기 (2014~22년 출제경향 완벽반영｜최신 기출문제 2회분 수록)', 'link': 'https://search.shopping.naver.com/book/catalog/36201720618', 'image': 'https://shopping-phinf.pstatic.net/main_3620172/36201720618.20230627102110.jpg', 'author': 'NCS 정보처리기술사 연구회', 'discount': '27000', 'publisher': '건기원', 'pubdate': '20230120', 'isbn': '9791157677061', 'description': '〈이 책의 특징〉 \\nㆍ비전공자를 위한 최고의 비법서!\\nㆍ최단기 합격을 위해 꼭 필요한 내용만을 담백하게!\\nㆍ합격을 위한 다양한 솔루션 제공\\nㆍ최강 커뮤니티를 통한 실시간 피드백!'}\n",
      "========================================================================================================================\n",
      "{'title': '2023 전자계산기조직응용기사 필기 과년도 7주완성 (한국산업인력공단 필기시험 집중 대비서, 개정판)', 'link': 'https://search.shopping.naver.com/book/catalog/35305724998', 'image': 'https://shopping-phinf.pstatic.net/main_3530572/35305724998.20230418163559.jpg', 'author': '전자계산기문제연구회', 'discount': '29700', 'publisher': '엔플북스', 'pubdate': '20230105', 'isbn': '9788968133831', 'description': '전자계산기조직응용기사 필기를 대비할 수 있는 수험서다. 최근에 출제되었던 기출문제를 분석하여 비중이 높은 문제에 대해서는 상세한 해설 및 핵심 정리를 수록하였으며, 최종적으로 수험생들의 실력이 향상될 수 있도록 출제가 가장 많이 되는 부분을 체크하여 내용의 중요도를 파악하기 쉽도록 구성하였다. 7주만에 끝낼 수 있는 효과적인 학습방법을 담은 수험서다.'}\n",
      "========================================================================================================================\n",
      "{'title': 'FISHBONE 전자계산기조직응용기사 필기 이론서', 'link': 'https://search.shopping.naver.com/book/catalog/32444787896', 'image': 'https://shopping-phinf.pstatic.net/main_3244478/32444787896.20220518211856.jpg', 'author': 'fishbone', 'discount': '22100', 'publisher': '부크크(bookk)', 'pubdate': '20211221', 'isbn': '9791137267039', 'description': '이 책은 FISHBONE에서 배포한 전자계산기조직응용기사 필기 동영상 강의의 참고 교재다. 배포된 교육 동영상은 교재의 필요성을 염두에 두고 제작하지 않았으나 많은 시청자들이 교재에 대한 문의와 요청이 많았고, POD(Publish On Demand) 방식은 출판 과정이 간편하여 본 책을 집필하게 되었다. 책의 구성과 전개는 가능한 동영상 강의와 일치하도록 만들었고, 각 차시 시작부에 QR코드를 삽입하여 해당 강의 회차를 스마트기기로 간편하게 시청할 수 있도록 하였다. 강의 내용 외에 삽입한 ‘기출문제 심층분석’ 파트는 자연체로 상세하게 서술하여 강의를 시청하지 않고 이 책만으로 학습하시는 분들에게 도움이 되도록 하였다.'}\n",
      "========================================================================================================================\n",
      "{'title': '공생공사(共生共死) 전자계산기 조직응용기사 필기', 'link': 'https://search.shopping.naver.com/book/catalog/37266104620', 'image': 'https://shopping-phinf.pstatic.net/main_3726610/37266104620.20240312071115.jpg', 'author': '석민', 'discount': '0', 'publisher': '부크크(Bookk)', 'pubdate': '20221223', 'isbn': '9791141008420', 'description': '- 역대 기출문제를 분석하여 자주 출제되는 200문제 엄선\\n- 각 기출에 대한 최다 빈출 핵심 이론 및 시험 TIP 정리\\n- 심화 이론으로 부가적인 내용에 대한 학습\\n- 최근 4개년 기출문제에 대한 상세한 해설로 시험 대비\\n\\n전자계산기 조직응용기사 자격증을 취득을 위해 공부를 시작하신 모든 수험생 분들이 겪는 어려움 중 하나는 시중에 제대로 된 문제집을 찾기 어렵다는 것입니다. 저 역시도 과거에 전자계산기 조직응용기사 자격증 취득을 위해 시험 자료를 직접 찾아 봐야 하는 수고로움이 있었고, 이에 저만의 노하우가 쌓이게 되어 이 책을 집필하기로 결심하였습니다.\\n\\n이 책에서는 각 과목별 최근 자주 출제되었던 기출 40문제&#40;총 5과목 200문제&#41;를 엄선하여, 관련된 핵심이론들을 최단시간에 학습할 수 있도록 하였습니다. 또한 각 문제 및 이론마다 출제되었던 시험 회차를 함께 표기하여 학습 중요도를 판단 가능하고자 하였습니다.\\n\\n기사 시험은 60점만 넘기면 됩니다. 그리고 자주 출제되었던 문제는 반복해서 출제됩니다. 즉, 짧은 시간에 효율적으로 합격할 정도로 공부하는 것이 중요합니다. 이 책이 여러분을 단시간에 전자계산기 조직응용기사를 합격하도록 돕는 길라잡이가 되길 기대합니다.'}\n",
      "========================================================================================================================\n",
      "{'title': '전자계산기조직응용기사 필기 과년도 7주완성 (개정판)', 'link': 'https://search.shopping.naver.com/book/catalog/32455947939', 'image': 'https://shopping-phinf.pstatic.net/main_3245594/32455947939.20221019131933.jpg', 'author': '전자계산기문제연구회', 'discount': '29700', 'publisher': '엔플북스', 'pubdate': '20220220', 'isbn': '9788968133725', 'description': '이 도서는 최근에 출제되었던 기출문제를 분석하여 비중이 높은 문제에 대해서는 상세한 해설 및 핵심 정리를 수록하였으며, 최종적으로 수험생들의 실력이 향상될 수 있도록 출제가 가장 많이 되는 부분을 체크하여 내용의 중요도를 파악하기 쉽도록 구성하였으며, 7주만에 끝낼 수 있는 효과적인 학습방법을 담은 수험서입니다.\\n\\n이 책의 특징은\\n1. 반복적인 해설로 수험자가 출제의 흐름과 실력을 평가할 수 있도록 하였습니다.\\n2. 계산적인 문제는 간단한 수식의 방법과 원리로 해결할 수 있도록 하였습니다.\\n3. 과년도 문제를 통한 응용, 유사한 출제 문제를 좀 더 쉽게 접근할 수 있도록 하였습니다.\\n4. 7주간의 기간으로 다년간 출제된 문제 중 시험에 자주 출제되는 부분만을 가장 쉽게 한권의 책으로 대비하도록 하였습니다.\\n\\n본 수험서로 공부하는 모든 분께 전자계산기조직응용기사 1차 필기 합격의 결과와 더 나아가 국가기술자격 취득의 영예 및 21세기 정보기술 분야의 기술자로 활동할 수 있게 되기를 기원합니다.'}\n",
      "========================================================================================================================\n"
     ]
    }
   ],
   "source": [
    "searchText = input('검색어 입력: ')\n",
    "targetSite = 'https://openapi.naver.com/v1/search/book.json?query=' + searchText\n",
    "response = requests.get(targetSite, headers=headers)\n",
    "searchResult = response.json()\n",
    "items = searchResult['items']\n",
    "for item in items:\n",
    "    print('{}'.format(item), end='\\n' + '=' * 120 + '\\n')"
   ]
  },
  {
   "cell_type": "markdown",
   "id": "ee1e211d",
   "metadata": {},
   "source": [
    "지식백과 검색"
   ]
  },
  {
   "cell_type": "code",
   "execution_count": 8,
   "id": "83f8da60",
   "metadata": {
    "scrolled": true
   },
   "outputs": [
    {
     "name": "stdout",
     "output_type": "stream",
     "text": [
      "검색어 입력: 푸꾸옥\n",
      "{'title': '<b>푸꾸옥</b> 여행 기초 정보', 'link': 'https://terms.naver.com/entry.naver?docId=6033121&cid=67006&categoryId=67278', 'description': ' &#60;허핑턴 포스트&#62;가 ‘유명해지기 전에 꼭 가봐야 할 여행지’로 선정한 베트남의 몰디브. [통화] 화폐 단위는 동(đồng, VND)이다. VND1,000에 50원 전후이며, 0 하나를 빼고 나누기 2를 하면 한국... ', 'thumbnail': 'http://openapi-dbscthumb.phinf.naver.net/5885_000_4/20200821233107241_80XTN3I5H.jpg/fb107_3_i1.jpg?type=m160_160'}\n",
      "========================================================================================================================\n",
      "{'title': '<b>푸꾸옥</b>', 'link': 'https://terms.naver.com/entry.naver?docId=1158981&cid=40942&categoryId=33293', 'description': ' 베트남 남부 시암만에 있는 섬.  베트남 본토 남부 서쪽 끝의 하띠엔(Hà Tiên)에서 약 40㎞ 떨어진 바다에 위치한 섬으로, 행정구역 상으로 끼엔장성에 해당된다. 베트남에서 가장 큰 섬이자 가장... ', 'thumbnail': ''}\n",
      "========================================================================================================================\n",
      "{'title': '베트남 <b>푸꾸옥</b> 여행', 'link': 'https://terms.naver.com/list.naver?categoryId=67278', 'description': '', 'thumbnail': ''}\n",
      "========================================================================================================================\n",
      "{'title': '<b>푸꾸옥</b> 역사', 'link': 'https://terms.naver.com/entry.naver?docId=6710494&cid=40942&categoryId=33372', 'description': '<b>푸꾸옥</b>에 대한 최초의 기록은 캄보디아 왕실의 문서에서 찾을 수 있다. 1615년 당시의 이 문서는 <b>푸꾸옥</b>을 &quot;코트랄(Koh Tral)&quot;이라고 언급하고 있다. 17세기 후반부터 캄보디아, 베트남, 태국 등이 <b>푸꾸옥</b>을... ', 'thumbnail': ''}\n",
      "========================================================================================================================\n",
      "{'title': '<b>푸꾸옥</b> 야시장', 'link': 'https://terms.naver.com/entry.naver?docId=6033068&cid=67006&categoryId=67278', 'description': '<b>푸꾸옥</b> 시장, 혹은 진 꺼우 사원 인근에 있어 진 꺼우 시장이라고 불린다. 현지인들을 위한 시장이라기보다는 관광객들을 위한 시장이라고 볼 수 있지만 다양한 볼거리와 먹을거리가 있어 쏠쏠한 재미를 준다.... ', 'thumbnail': 'http://openapi-dbscthumb.phinf.naver.net/5885_000_4/20200821234306379_U7TFW1WQB.jpg/fb107_34_i1.jpg?type=m160_160'}\n",
      "========================================================================================================================\n",
      "{'title': '<b>푸꾸옥</b> 국제공항', 'link': 'https://terms.naver.com/entry.naver?docId=2834216&cid=40942&categoryId=32188', 'description': ' 베트남 끼엔장주 <b>푸꾸옥</b>섬(Phu Quoc)에 있는 국제공항이다.  베트남 남부 끼엔장주(Kiên Giang) <b>푸꾸옥</b>섬 즈옹동(Dương Đông)에 있으며 동쪽으로는 남중국해와 면하고 있다. 다른 명칭은 즈옹동... ', 'thumbnail': 'http://openapi-dbscthumb.phinf.naver.net/2765_000_387/20211028065938333_XJ5XYNQS9.jpg/12254922.jpg?type=m160_160'}\n",
      "========================================================================================================================\n",
      "{'title': '<b>푸꾸옥</b> 축제 정보', 'link': 'https://terms.naver.com/entry.naver?docId=6033119&cid=67006&categoryId=67278', 'description': ' “여름은 스페인의 이비자, 겨울은 베트남의 <b>푸꾸옥</b>”이라는 말이 있을 정도로, 에피조드 페스티벌은 젊은 클러버와 EDM 뮤직 애호가들에게 유명한 축제다. 연말에 젊음의 열기를 마음껏 발산하고... ', 'thumbnail': ''}\n",
      "========================================================================================================================\n",
      "{'title': '빈원더스 <b>푸꾸옥</b>', 'link': 'https://terms.naver.com/entry.naver?docId=6033071&cid=67006&categoryId=67278', 'description': '냐짱의 복합 놀이동산인 빈원더스로 사업을 성장시킨 빈 그룹이 <b>푸꾸옥</b>에도 빈원더스를 개장했다.냐짱의 빈원더스는 초반에 비해 그 규모를 점점 더 확장하고 있지만, 이곳의 빈원더스는 아직 초기의 빈원더스... ', 'thumbnail': 'http://openapi-dbscthumb.phinf.naver.net/5885_000_4/20200821234210664_LBB1DWCCB.jpg/fb107_33_i1.jpg?type=m160_160'}\n",
      "========================================================================================================================\n",
      "{'title': '<b>푸꾸옥</b> 옛 수용소', 'link': 'https://terms.naver.com/entry.naver?docId=6033069&cid=67006&categoryId=67278', 'description': '코코넛 수용소(Coconut Tree Prison)라고도 불리는 <b>푸꾸옥</b> 감옥은 원래 프랑스 식민지 시절 건설된 것으로, 이후 베트남 전쟁 당시 베트남 공산군을 수용할 목적으로 현재의 규모로 확대 재건되었다.베트남... ', 'thumbnail': 'http://openapi-dbscthumb.phinf.naver.net/5885_000_4/20200821234359458_C8EFW9LL0.jpg/fb107_35_i1.jpg?type=m160_160'}\n",
      "========================================================================================================================\n",
      "{'title': '<b>푸꾸옥</b> 경제와 산업', 'link': 'https://terms.naver.com/entry.naver?docId=6710495&cid=40942&categoryId=31906', 'description': '<b>푸꾸옥</b> 섬의 경제는 어업, 농업, 그리고 빠르게 성장하는 관광 분야에 집중되어 있다. 세계적으로 유명한 고품질 후추의 생산지이며, 베트남의 생선 액젓 느억맘(nước mắm)이 가장 많이 생산되는... ', 'thumbnail': ''}\n",
      "========================================================================================================================\n"
     ]
    }
   ],
   "source": [
    "searchText = input('검색어 입력: ')\n",
    "targetSite = 'https://openapi.naver.com/v1/search/encyc.json?query=' + searchText\n",
    "response = requests.get(targetSite, headers=headers)\n",
    "searchResult = response.json()\n",
    "items = searchResult['items']\n",
    "for item in items:\n",
    "    print('{}'.format(item), end='\\n' + '=' * 120 + '\\n')"
   ]
  },
  {
   "cell_type": "markdown",
   "id": "f283b51e",
   "metadata": {},
   "source": [
    "카페글 검색"
   ]
  },
  {
   "cell_type": "code",
   "execution_count": 9,
   "id": "7a13ab13",
   "metadata": {
    "scrolled": true
   },
   "outputs": [
    {
     "name": "stdout",
     "output_type": "stream",
     "text": [
      "검색어 입력: 푸꾸옥\n",
      "{'title': '우리가 함께 <b>푸꾸옥</b>에 간다면...', 'link': 'http://cafe.naver.com/minecraftpe/3291258', 'description': '너무 궁금하시다고 하여서 ㅋ 푸고팸 모두 다같시 <b>푸꾸옥</b>에 가면 어떤일들이 생길까요? 워낙 모두들 <b>푸꾸옥</b> 고수님들이라서 여행하는데 문제는 없겠지요~ 개성들이 강해서 에피소드가 무궁무진 하겠죠? 지금부터 제가... ', 'cafename': '푸꾸옥 고스트 - 베트남푸꾸옥 자유여...', 'cafeurl': 'https://cafe.naver.com/minecraftpe'}\n",
      "========================================================================================================================\n",
      "{'title': '<b>푸꾸옥</b> 프리미어 레지던스 힐링 완료!', 'link': 'http://cafe.naver.com/ysm5828/9255234', 'description': '호캉스 하기 좋은 <b>푸꾸옥</b> 프리미어 레지던스 후기입니다~! 아름다운 <b>푸꾸옥</b> 해변이 있는 켐비치에 위치한 곳인데요ㅎㅎ 남부에 있어서 관광지 혼똔섬 케이블카나 썬월드 선셋타운 등 일정 소화하기 좋은 위치에 있어요... ', 'cafename': '푸꾸옥 도깨비- 베트남 푸꾸옥 자유여...', 'cafeurl': 'https://cafe.naver.com/ysm5828'}\n",
      "========================================================================================================================\n",
      "{'title': '<b>푸꾸옥</b> 프리미어빌리지 가든빌라 엄청 좋던데요', 'link': 'http://cafe.naver.com/minecraftpe/3291063', 'description': 'Previous image Next image 만약 <b>푸꾸옥</b> 여행을 생각중이다 그리고 <b>푸꾸옥</b>에 아직 숙소를 못찾았다 라고 하신다면 저는 <b>푸꾸옥</b> 프리미어빌리지 여기를 추천해드리고 싶네요! 솔직히 저도 친구네 커플이랑 같이 여행을... ', 'cafename': '푸꾸옥 고스트 - 베트남푸꾸옥 자유여...', 'cafeurl': 'https://cafe.naver.com/minecraftpe'}\n",
      "========================================================================================================================\n",
      "{'title': '<b>푸꾸옥</b> 마사지 받고 야시장까지^^', 'link': 'http://cafe.naver.com/zzop/2402845', 'description': '<b>푸꾸옥</b> 여행을 가면 제가 꼭 가는 마사지샵이 있는데 여기가 즈엉동 야시장 근처라서 함께 다녀오기 넘 좋더라구요~ 요즘 <b>푸꾸옥</b> 우기되기 전에 다녀오시는 분들이 많은거 같던데 추천하는 곳이라 후기 남겨볼게요,ㅎㅎ... ', 'cafename': '나트랑도깨비-베트남나트랑자유여행,무...', 'cafeurl': 'https://cafe.naver.com/zzop'}\n",
      "========================================================================================================================\n",
      "{'title': '<b>푸꾸옥</b> 후기', 'link': 'http://cafe.naver.com/mindy7857/3335460', 'description': '베트남은 이번이 2번째 여행입니다 작년에 <b>푸꾸옥</b>을 갔었는데 올해는 나트랑-달랏가요<b>푸꾸옥</b>도 8초에 갔었는데 더웠지만 그때 한국도 동남아 못지않게 더윘던터라 전 다닐만했어요 일기예보에 비였지만 실제로... ', 'cafename': '베나자-베트남나트랑자유여행,달랏,무...', 'cafeurl': 'https://cafe.naver.com/mindy7857'}\n",
      "========================================================================================================================\n",
      "{'title': '<b>푸꾸옥</b> 여행후기', 'link': 'http://cafe.naver.com/happyibook/4715532', 'description': '다낭과 <b>푸꾸옥</b> 이랍니다^^ 나이가 나이인지라 빡세게 움직여야 하는 패키지 여행은 절대 못가구요ㅠ 관광지보다는 휴양지를, 도장깨기 하듯 이곳 저곳 다니는것 보단 여유롭게 움직이는걸 좋아해요~ <b>푸꾸옥</b>은 아름다운... ', 'cafename': '다낭 도깨비 - 베트남 다낭자유여행 ,...', 'cafeurl': 'https://cafe.naver.com/happyibook'}\n",
      "========================================================================================================================\n",
      "{'title': '<b>푸꾸옥</b> 자유여행 1일차 후기!', 'link': 'http://cafe.naver.com/ysm5828/9254888', 'description': '<b>푸꾸옥</b> 자유여행 1일차 후기 남겨봐요!! 1일차엔 공항에서 점심먹고 숙소 체크인 하고 짐풀고 잠시 쉬다가 관광 다녔어요! <b>푸꾸옥</b>에 왔는데 선셋은 매일매일 봐야지하고 선셋사나토에 갔는데...... 선셋사나토 선셋사나토... ', 'cafename': '푸꾸옥 도깨비- 베트남 푸꾸옥 자유여...', 'cafeurl': 'https://cafe.naver.com/ysm5828'}\n",
      "========================================================================================================================\n",
      "{'title': '✔ <b>푸꾸옥</b> 노보텔 슈페리어 후기', 'link': 'http://cafe.naver.com/ysm5828/9255497', 'description': '마지막날 2박은 공항에서 가까운 숙소에서 보내려고 알아보다가 <b>푸꾸옥</b> 노보텔로 결정했어요! 소나시 야시장이랑도 가까워서 식사나 쇼핑 등 어디 멀리 가지 않아도 해결이 되더라고요! 게다가 <b>푸꾸옥</b> 노보텔 앞에 bidv... ', 'cafename': '푸꾸옥 도깨비- 베트남 푸꾸옥 자유여...', 'cafeurl': 'https://cafe.naver.com/ysm5828'}\n",
      "========================================================================================================================\n",
      "{'title': '<b>푸꾸옥</b> 야시장 두곳 다녀왔어요 ^^', 'link': 'http://cafe.naver.com/ysm5828/9255523', 'description': '<b>푸꾸옥</b> 여행 가서 제일 기대했던건 <b>푸꾸옥</b> 야시장♥ 킹콩마트도 당연히 가야지 했지만~~ 뭔가 저는 야시장이 기대됐어요 ^^ 라탄백이나 진주 이런것도 갖고싶구~~ 중부에 있는 즈엉동 야시장부터 가봤어요~~ 사실 여기... ', 'cafename': '푸꾸옥 도깨비- 베트남 푸꾸옥 자유여...', 'cafeurl': 'https://cafe.naver.com/ysm5828'}\n",
      "========================================================================================================================\n",
      "{'title': '<b>푸꾸옥</b> 세일링클럽 자유여행 2일차 후기!!', 'link': 'http://cafe.naver.com/ysm5828/9255510', 'description': '<b>푸꾸옥</b> 세일링클럽에 불쇼 보러 왔다가 음식도 맛있고 공연도 넘 매력적이길래~ <b>푸꾸옥</b> 여행 2일차 후기 남겨볼 겸 적어봐요! <b>푸꾸옥</b> 세일링클럽 워낙 사람들이 많이 가는 핫플이라 <b>푸꾸옥</b> 세일링클럽 가볼까? 고민했는데... ', 'cafename': '푸꾸옥 도깨비- 베트남 푸꾸옥 자유여...', 'cafeurl': 'https://cafe.naver.com/ysm5828'}\n",
      "========================================================================================================================\n"
     ]
    }
   ],
   "source": [
    "searchText = input('검색어 입력: ')\n",
    "targetSite = 'https://openapi.naver.com/v1/search/cafearticle.json?query=' + searchText\n",
    "response = requests.get(targetSite, headers=headers)\n",
    "searchResult = response.json()\n",
    "items = searchResult['items']\n",
    "for item in items:\n",
    "    print('{}'.format(item), end='\\n' + '=' * 120 + '\\n')"
   ]
  },
  {
   "cell_type": "markdown",
   "id": "7e87ecd6",
   "metadata": {},
   "source": [
    "지식iN 검색"
   ]
  },
  {
   "cell_type": "code",
   "execution_count": 10,
   "id": "ccfdc3f3",
   "metadata": {
    "scrolled": true
   },
   "outputs": [
    {
     "name": "stdout",
     "output_type": "stream",
     "text": [
      "검색어 입력: 푸꾸옥\n",
      "{'title': '<b>푸꾸옥</b> 리조트 가성비 좋은 곳 찾습니다', 'link': 'https://kin.naver.com/qna/detail.naver?d1id=9&dirId=9011402&docId=450901438&qb=7ZG46r647Jil&enc=utf8&section=kin.qna&rank=1&search_sort=0&spq=0', 'description': '... 베트남 <b>푸꾸옥</b> 쪽으로 놀러가는데 <b>푸꾸옥</b> 리조트 중에 가성비 좋은 곳 어디가 괜찮나요? 갈만한 <b>푸꾸옥</b> 리조트 좀... 질문하신 [<b>푸꾸옥</b> 리조트] 관련 답변 드리도록 하겠습니다. ▶다음은 평일기준으로 베트남 <b>푸꾸옥</b> 주변 리조트... '}\n",
      "========================================================================================================================\n",
      "{'title': '베트남 <b>푸꾸옥</b>과 호치민 여행 예정인데요', 'link': 'https://kin.naver.com/qna/detail.naver?d1id=9&dirId=9020107&docId=467905131&qb=7ZG46r647Jil&enc=utf8&section=kin.qna&rank=2&search_sort=0&spq=0', 'description': '안녕하세요- 한국 인천에서 출발하여 베트남 <b>푸꾸옥</b>에서 3박 후, <b>푸꾸옥</b>에서 국내선 타고 호치민 들어갔다 2박 하고... (*<b>푸꾸옥</b>에서 호치민 들어갔다가, 자유 여행하고 천천히 인천행 돌아오고 싶어서요.. ^_^;) 답변 부탁드립니다.... '}\n",
      "========================================================================================================================\n",
      "{'title': '<b>푸꾸옥</b> 환전', 'link': 'https://kin.naver.com/qna/detail.naver?d1id=4&dirId=40107&docId=463017275&qb=7ZG46r647Jil&enc=utf8&section=kin.qna&rank=3&search_sort=0&spq=0', 'description': '<b>푸꾸옥</b> 갈때 쓸 돈을 환전하려고합니다 토스 외화통장을 만들고보니 환전 수수료가 0이던데 토스로 달러를 환전해서... <b>푸꾸옥</b> atm기에서 인출하는게이득일까요 안녕하세요? 달러로 환전되어 토스에 입금한 달러를 출금해서 <b>푸꾸옥</b>에서... '}\n",
      "========================================================================================================================\n",
      "{'title': '<b>푸꾸옥</b> 여권 만료기간 6개월', 'link': 'https://kin.naver.com/qna/detail.naver?d1id=8&dirId=81205&docId=466420282&qb=7ZG46r647Jil&enc=utf8&section=kin.qna&rank=4&search_sort=0&spq=0', 'description': '24.04.05 출발인데요 여권 만료일이 24.10.28 이에요 6개월하고 한 20일정도 여유있는거라고 보면 될까요 <b>푸꾸옥</b> 다녀오는데 괜찮겠죠? 출발일 기준으로 6개월이 맞는거죠?? 안녕하세요. 서울생활 행복도우미 120다산콜센터... '}\n",
      "========================================================================================================================\n",
      "{'title': '중국인 <b>푸꾸옥</b> 비자 관련', 'link': 'https://kin.naver.com/qna/detail.naver?d1id=6&dirId=6010101&docId=463186933&qb=7ZG46r647Jil&enc=utf8&section=kin.qna&rank=5&search_sort=0&spq=0', 'description': '중국인 남자친구랑 <b>푸꾸옥</b>으로 여행을 가려고 하는데 중국인은 <b>푸꾸옥</b> 입국시 비자가 필요한가요? (<b>푸꾸옥</b> 직항) <b>푸꾸옥</b>에서만 관광 시 중국인도 무비자 가능하다고 하는데 무비자 가능하다는분도 있고 도착비자?를 받아야한다는분도... '}\n",
      "========================================================================================================================\n",
      "{'title': '<b>푸꾸옥</b> 리조트 및 호텔 숙소 추천', 'link': 'https://kin.naver.com/qna/detail.naver?d1id=9&dirId=9020107&docId=464263021&qb=7ZG46r647Jil&enc=utf8&section=kin.qna&rank=6&search_sort=0&spq=0', 'description': '가족끼리 지내기 좋은 <b>푸꾸옥</b> 리조트나 호텔 숙소... <b>푸꾸옥</b>에 힐링하기 괜찮은 리조트나 호텔 숙소쫌 부탁드립니다 가족이 지내기 좋은 <b>푸꾸옥</b> 리조트, 호텔 숙소 추천해드리겠습니다. 평점과 후기가 좋은 <b>푸꾸옥</b> 리조트 및... '}\n",
      "========================================================================================================================\n",
      "{'title': '베트남 <b>푸꾸옥</b>. 세관신고문의드려요', 'link': 'https://kin.naver.com/qna/detail.naver?d1id=9&dirId=9020107&docId=469068842&qb=7ZG46r647Jil&enc=utf8&section=kin.qna&rank=7&search_sort=0&spq=0', 'description': '제가 인청공항에서 화장품 20만원내로 구매해서 <b>푸꾸옥</b> 가려고하는데요 백팩에 넣어서 가도되나요? <b>푸꾸옥</b>... <b>푸꾸옥</b> 도착 시 세관 신고 필요한가요? 개인 소비 용품으로... 세관 신고 방법 (필요한 경우) 세관 신고서 작성: <b>푸꾸옥</b>... '}\n",
      "========================================================================================================================\n",
      "{'title': '아이랑 여행 시 보라카이vs<b>푸꾸옥</b>', 'link': 'https://kin.naver.com/qna/detail.naver?d1id=9&dirId=9020104&docId=448489632&qb=7ZG46r647Jil&enc=utf8&section=kin.qna&rank=8&search_sort=0&spq=0', 'description': '... 좋을지 <b>푸꾸옥</b>이 좋을지 .. 고민이네요! 안녕하세요. 어린이랑 함께 여행하신다면 <b>푸꾸옥</b>이 훨씬 나을 것 같습니다.... <b>푸꾸옥</b>은 인천공항에서 직항도 있고 섬 자체 크기가 서울보다 조금 작은 꽤나 큰 섬이라 다양한 놀거리가 많아요.... '}\n",
      "========================================================================================================================\n",
      "{'title': '<b>푸꾸옥</b>골프 여행으로 괜찮나요??', 'link': 'https://kin.naver.com/qna/detail.naver?d1id=5&dirId=51003&docId=468519407&qb=7ZG46r647Jil&enc=utf8&section=kin.qna&rank=9&search_sort=0&spq=0', 'description': '이번에 모임분들과 <b>푸꾸옥</b>골프 여행 준비중입니다. 4명이서 골프는 2회, 관광으로 4박 일정입니다. 제가 한번... <b>푸꾸옥</b>골프 여행으로 괜찮나요?? 이번에 모임분들과 <b>푸꾸옥</b>골프 여행 준비중입니다. 4명이서 골프는 2회, 관광으로 4박... '}\n",
      "========================================================================================================================\n",
      "{'title': '베트남 <b>푸꾸옥</b> 항공권 문의', 'link': 'https://kin.naver.com/qna/detail.naver?d1id=5&dirId=51003&docId=463707466&qb=7ZG46r647Jil&enc=utf8&section=kin.qna&rank=10&search_sort=0&spq=0', 'description': '... 인천 -&gt; <b>푸꾸옥</b> 가는 항공권을 실수로 11일(일) 그리고 14일(수) 이중으로 결제를 했습니다. <b>푸꾸옥</b> -&gt; 인천은 정상적으로 결제를 했는데 14일 <b>푸꾸옥</b> 가는... 14일 <b>푸꾸옥</b> 가는 항공권을 취소 안하면 입국이나 출국에... '}\n",
      "========================================================================================================================\n"
     ]
    }
   ],
   "source": [
    "searchText = input('검색어 입력: ')\n",
    "targetSite = 'https://openapi.naver.com/v1/search/kin.json?query=' + searchText\n",
    "response = requests.get(targetSite, headers=headers)\n",
    "searchResult = response.json()\n",
    "items = searchResult['items']\n",
    "for item in items:\n",
    "    print('{}'.format(item), end='\\n' + '=' * 120 + '\\n')"
   ]
  },
  {
   "cell_type": "markdown",
   "id": "f1c3f11b",
   "metadata": {},
   "source": [
    "지역별 상호 검색"
   ]
  },
  {
   "cell_type": "code",
   "execution_count": 16,
   "id": "32acec56",
   "metadata": {
    "scrolled": true
   },
   "outputs": [
    {
     "name": "stdout",
     "output_type": "stream",
     "text": [
      "검색어 입력: 서울\n",
      "{'title': '<b>서울</b>특별시청', 'link': 'http://www.seoul.go.kr/', 'category': '공공,사회기관>특별,광역시청', 'description': '', 'telephone': '', 'address': '서울특별시 중구 태평로1가 31 서울특별시청', 'roadAddress': '서울특별시 중구 세종대로 110 서울특별시청', 'mapx': '1269783882', 'mapy': '375666103'}\n",
      "========================================================================================================================\n",
      "{'title': '<b>서울</b>특별시청서소문2청사', 'link': '', 'category': '특별,광역시청>별관', 'description': '', 'telephone': '', 'address': '서울특별시 중구 서소문동 143', 'roadAddress': '서울특별시 중구 서소문동 서소문로 124', 'mapx': '1269751473', 'mapy': '375631993'}\n",
      "========================================================================================================================\n",
      "{'title': '<b>서울</b>식물원', 'link': 'http://botanicpark.seoul.go.kr/', 'category': '여행,명소>식물원,수목원', 'description': '', 'telephone': '', 'address': '서울특별시 강서구 마곡동 812 서울식물원', 'roadAddress': '서울특별시 강서구 마곡동로 161 서울식물원', 'mapx': '1268327467', 'mapy': '375682071'}\n",
      "========================================================================================================================\n",
      "{'title': '덕수궁', 'link': 'https://royal.khs.go.kr/dsg', 'category': '여행,명소>궁궐', 'description': '', 'telephone': '', 'address': '서울특별시 중구 정동 5-1 덕수궁', 'roadAddress': '서울특별시 중구 세종대로 99 덕수궁', 'mapx': '1269749148', 'mapy': '375660945'}\n",
      "========================================================================================================================\n",
      "{'title': '동대문디자인플라자', 'link': 'http://www.ddp.or.kr/', 'category': '문화,예술>복합문화공간', 'description': '', 'telephone': '', 'address': '서울특별시 중구 을지로7가 2-1', 'roadAddress': '서울특별시 중구 을지로 281', 'mapx': '1270099323', 'mapy': '375675465'}\n",
      "========================================================================================================================\n"
     ]
    }
   ],
   "source": [
    "searchText = input('검색어 입력: ')\n",
    "targetSite = 'https://openapi.naver.com/v1/search/local.json?query=' + searchText\n",
    "response = requests.get(targetSite, headers=headers)\n",
    "searchResult = response.json()\n",
    "items = searchResult['items']\n",
    "for item in items:\n",
    "    print('{}'.format(item), end='\\n' + '=' * 120 + '\\n')"
   ]
  },
  {
   "cell_type": "markdown",
   "id": "f9972417",
   "metadata": {},
   "source": [
    "웹 문서 검색"
   ]
  },
  {
   "cell_type": "code",
   "execution_count": 17,
   "id": "3db23806",
   "metadata": {
    "scrolled": true
   },
   "outputs": [
    {
     "name": "stdout",
     "output_type": "stream",
     "text": [
      "검색어 입력: 더조은\n",
      "{'title': '<b>더조은</b> 주식회사 - 마스크 전문 제조 기업', 'link': 'http://thegoodas.com/', 'description': '황사방역용, 산업용, 수술용, 디자인패션황사 마스크 전문 제조기업 <b>더조은</b> 주식회사 입니다. 항상 정직하고 믿을 수 있는 제품을 제조하여 고객 여러분들게 맑고 깨끗한 공기로 건강을 지켜드리는 회사가 되겠습니다.'}\n",
      "========================================================================================================================\n",
      "{'title': '<b>더조은</b>컴퓨터아카데미', 'link': 'https://www.tjoeun.co.kr/', 'description': '국비지원 컴퓨터학원, 국민내일배움카드, 국민취업지원제도, 국비지원무료교육, 코딩학원, 빅데이터학원, 웹디자인학원, 전산세무회계학원'}\n",
      "========================================================================================================================\n",
      "{'title': '(주)<b>더조은</b> - 인크루트', 'link': 'https://www.incruit.com/company/1685572326', 'description': '<b>더조은</b>의 최신 기업정보, 채용, 연봉 등 취업에 필요한 정보를 인크루트에서 확인하세요.'}\n",
      "========================================================================================================================\n",
      "{'title': '주식회사 <b>더조은</b>이엔지', 'link': 'http://www.xn--9m1bw46ag5a7fq0cy7c.com/', 'description': '세륜기, <b>더조은</b>세륜기, 건식세륜기, <b>더조은</b>이엔지, <b>더조은</b>eng, 축중기, 침전제, 인양함'}\n",
      "========================================================================================================================\n",
      "{'title': '<b>더조은</b>정형외과의원', 'link': 'http://thedoctor.ad-media.kr/', 'description': '<b>더조은</b>정형외과의원 ; 척추클리닉 ; 어깨통증클리닉 ; 관절통증클리닉'}\n",
      "========================================================================================================================\n",
      "{'title': '<b>더조은</b>요양병원', 'link': 'http://www.thejoeunhospital.co.kr/', 'description': '서울시 노원구, 노인성질환, 재활치료센터, 인공신장센터, 집중치료실, 양한방진료'}\n",
      "========================================================================================================================\n",
      "{'title': '<b>더조은</b>에너지', 'link': 'http://www.tje-energy.co.kr/', 'description': '2022년 참여기업 선정 &quot;<b>더조은</b>에너지&quot; ; 안녕하세요. (주)<b>더조은</b>에너지입니다.29일, 한국에너지공단에서 2022년 참여기업 선정 결과가 발표되었는데요.(주)<b>더조은</b>에너지도 참여기업에 선정이 되었습니다!정부에서 지원받아 태양광을 설치하는 주택/건물 지원사업에 대해 알려드리겠습니다. 태양광 에너지를 설치하기 위해선 결정해야 할 사항이 참 많습니다.어디에, 방향은 어떻게, 어떤 모듈과 인버터를 사용해야하는 ...'}\n",
      "========================================================================================================================\n",
      "{'title': '<b>조은</b>매트, <b>더조은</b>매트 | 층간소음 안전매트 시공만족도 1위', 'link': 'http://www.xn--9z2b97vb0a4zz.com/', 'description': '<b>더조은</b>매트, 층간소음 안전매트 시공만족도1위 프리미엄 TPU매트 안전한소재 인증제품 가정, 유치원, 문화센터, 공공기관 등 시공'}\n",
      "========================================================================================================================\n",
      "{'title': '<b>더조은</b>갈비', 'link': 'http://xn--w39aj2lbyj24ioob.com/', 'description': '무한리필 매장 <b>더조은</b>갈비가 무한리필인데도 높은 재방문율을 보유한이유, 바로 맛있기 때문입니다. 원팩 시스템을 통한 간편한 운영으로 전문인력 없이 초보자들도 창업이 가능합니다.'}\n",
      "========================================================================================================================\n",
      "{'title': '<b>더조은</b>', 'link': 'https://www.bizno.net/?query=%EB%8D%94%EC%A1%B0%EC%9D%80', 'description': '<b>더조은</b>에 대한 사업자 정보 조회 결과입니다. <b>더조은</b>병원 일반 병원 경기도 성남시 수정구 위례서일로 18 <b>더조은</b>병원 보건 및 사회복지사업 경기도 성남시 수정구 위례서일로 18 (창곡동, 더존메디컬타워)...'}\n",
      "========================================================================================================================\n"
     ]
    }
   ],
   "source": [
    "searchText = input('검색어 입력: ')\n",
    "targetSite = 'https://openapi.naver.com/v1/search/webkr.json?query=' + searchText\n",
    "response = requests.get(targetSite, headers=headers)\n",
    "searchResult = response.json()\n",
    "items = searchResult['items']\n",
    "for item in items:\n",
    "    print('{}'.format(item), end='\\n' + '=' * 120 + '\\n')"
   ]
  },
  {
   "cell_type": "markdown",
   "id": "b4dfc261",
   "metadata": {},
   "source": [
    "이미지 검색"
   ]
  },
  {
   "cell_type": "code",
   "execution_count": 18,
   "id": "e017b98d",
   "metadata": {
    "scrolled": true
   },
   "outputs": [
    {
     "name": "stdout",
     "output_type": "stream",
     "text": [
      "검색어 입력: 보신각\n",
      "{'title': ' [유적지 보GO 역사도 알GO] 보신각 (서울시종로구종로) ', 'link': 'http://imgnews.naver.net/image/5360/2016/12/27/0000008973_002_20161227144042655.jpg', 'thumbnail': 'https://search.pstatic.net/common/?type=b150&src=http://imgnews.naver.net/image/5360/2016/12/27/0000008973_002_20161227144042655.jpg', 'sizeheight': '329', 'sizewidth': '550'}\n",
      "========================================================================================================================\n",
      "{'title': '[국제포토] 문화체험의 기회 & 보신각 타종행사', 'link': 'http://imgnews.naver.net/image/5291/2022/04/21/0001546529_001_20220421135001885.jpg', 'thumbnail': 'https://search.pstatic.net/common/?type=b150&src=http://imgnews.naver.net/image/5291/2022/04/21/0001546529_001_20220421135001885.jpg', 'sizeheight': '640', 'sizewidth': '960'}\n",
      "========================================================================================================================\n",
      "{'title': '보신각 제야의 타종 행사', 'link': 'http://imgnews.naver.net/image/421/2023/01/01/0006551114_001_20230101011604037.jpg', 'thumbnail': 'https://search.pstatic.net/common/?type=b150&src=http://imgnews.naver.net/image/421/2023/01/01/0006551114_001_20230101011604037.jpg', 'sizeheight': '845', 'sizewidth': '1400'}\n",
      "========================================================================================================================\n",
      "{'title': '[빛으로 쓴 편지] 민초들의 시계 보신각 종', 'link': 'http://imgnews.naver.net/image/469/2014/11/11/9d61b8f014c9404a8039185052e43b9e_99_20141111211308.jpg', 'thumbnail': 'https://search.pstatic.net/common/?type=b150&src=http://imgnews.naver.net/image/469/2014/11/11/9d61b8f014c9404a8039185052e43b9e_99_20141111211308.jpg', 'sizeheight': '350', 'sizewidth': '540'}\n",
      "========================================================================================================================\n",
      "{'title': '매일 정오 보신각에서 직접 타종해보세요', 'link': 'http://imgnews.naver.net/image/001/2016/02/12/C0A8CA3D000001448A9FF30C000043F2_P2_99_20160212060504.jpeg', 'thumbnail': 'https://search.pstatic.net/common/?type=b150&src=http://imgnews.naver.net/image/001/2016/02/12/C0A8CA3D000001448A9FF30C000043F2_P2_99_20160212060504.jpeg', 'sizeheight': '500', 'sizewidth': '331'}\n",
      "========================================================================================================================\n",
      "{'title': '[다시본 우리 문화재] 보물 제2호 옛 보신각 동종', 'link': 'http://imgnews.naver.net/image/011/2017/10/05/0003124979_002_20171005072712443.jpg', 'thumbnail': 'https://search.pstatic.net/common/?type=b150&src=http://imgnews.naver.net/image/011/2017/10/05/0003124979_002_20171005072712443.jpg', 'sizeheight': '360', 'sizewidth': '540'}\n",
      "========================================================================================================================\n",
      "{'title': '3년 만에 울린 ‘제야의 종’, 보신각 일대 6만 명 몰렸다', 'link': 'http://imgnews.naver.net/image/020/2023/01/01/0003471281_002_20230101151001086.jpg', 'thumbnail': 'https://search.pstatic.net/common/?type=b150&src=http://imgnews.naver.net/image/020/2023/01/01/0003471281_002_20230101151001086.jpg', 'sizeheight': '434', 'sizewidth': '640'}\n",
      "========================================================================================================================\n",
      "{'title': '국립중앙박물관의 보신각종입니다. : 클리앙', 'link': 'https://edgio.clien.net/F01/11091393/7a3637e9eb500f.jpg?scale=width%5B740%5D,options%5Blimit%5D', 'thumbnail': 'https://search.pstatic.net/sunny/?type=b150&src=https://edgio.clien.net/F01/11091393/7a3637e9eb500f.jpg?scale=width%5B740%5D,options%5Blimit%5D', 'sizeheight': '1868', 'sizewidth': '4000'}\n",
      "========================================================================================================================\n",
      "{'title': '갑오년 새해 알리는 보신각 타종', 'link': 'http://imgnews.naver.net/image/079/2014/01/01/20140101011026318638_59_20140101011302.jpg', 'thumbnail': 'https://search.pstatic.net/common/?type=b150&src=http://imgnews.naver.net/image/079/2014/01/01/20140101011026318638_59_20140101011302.jpg', 'sizeheight': '550', 'sizewidth': '380'}\n",
      "========================================================================================================================\n",
      "{'title': '보신각에서 열린 3.1절 기념 타종행사', 'link': 'http://imgnews.naver.net/image/5002/2024/03/01/0002544081_001_20240301132602704.jpg', 'thumbnail': 'https://search.pstatic.net/common/?type=b150&src=http://imgnews.naver.net/image/5002/2024/03/01/0002544081_001_20240301132602704.jpg', 'sizeheight': '448', 'sizewidth': '700'}\n",
      "========================================================================================================================\n"
     ]
    }
   ],
   "source": [
    "searchText = input('검색어 입력: ')\n",
    "targetSite = 'https://openapi.naver.com/v1/search/image.json?query=' + searchText\n",
    "response = requests.get(targetSite, headers=headers)\n",
    "searchResult = response.json()\n",
    "items = searchResult['items']\n",
    "for item in items:\n",
    "    print('{}'.format(item), end='\\n' + '=' * 120 + '\\n')"
   ]
  },
  {
   "cell_type": "markdown",
   "id": "9caa7670",
   "metadata": {},
   "source": [
    "쇼핑 검색"
   ]
  },
  {
   "cell_type": "code",
   "execution_count": 19,
   "id": "f594dbf0",
   "metadata": {
    "scrolled": true
   },
   "outputs": [
    {
     "name": "stdout",
     "output_type": "stream",
     "text": [
      "검색어 입력: 가방\n",
      "{'title': '롱샴 르 플리아쥬 네오 Neo 미니 탑 핸들<b>백</b> XS L1500598001', 'link': 'https://search.shopping.naver.com/gate.nhn?id=87252532430', 'image': 'https://shopping-phinf.pstatic.net/main_8725253/87252532430.2.jpg', 'lprice': '195000', 'hprice': '', 'mallName': '플렉스재팬', 'productId': '87252532430', 'productType': '2', 'brand': '롱샴', 'maker': '롱샴', 'category1': '패션잡화', 'category2': '여성가방', 'category3': '토트백', 'category4': ''}\n",
      "========================================================================================================================\n",
      "{'title': '[<b>백</b>화점당일출고] 롱샴 르 플리아쥬 오리지널 핸들 파우치 미니 미니<b>백</b> 미국유럽발송', 'link': 'https://search.shopping.naver.com/gate.nhn?id=86417441592', 'image': 'https://shopping-phinf.pstatic.net/main_8641744/86417441592.4.jpg', 'lprice': '129900', 'hprice': '', 'mallName': '나우인뉴욕', 'productId': '86417441592', 'productType': '2', 'brand': '롱샴', 'maker': '롱샴', 'category1': '패션잡화', 'category2': '여성가방', 'category3': '토트백', 'category4': ''}\n",
      "========================================================================================================================\n",
      "{'title': '[<b>백</b>화점당일출고] 롱샴 르 플리아쥬 오리지널 핸들 파우치 미니 미니<b>백</b>', 'link': 'https://search.shopping.naver.com/gate.nhn?id=86130850614', 'image': 'https://shopping-phinf.pstatic.net/main_8613085/86130850614.3.jpg', 'lprice': '129800', 'hprice': '', 'mallName': '트위티 155', 'productId': '86130850614', 'productType': '2', 'brand': '롱샴', 'maker': '롱샴', 'category1': '패션잡화', 'category2': '여성가방', 'category3': '토트백', 'category4': ''}\n",
      "========================================================================================================================\n",
      "{'title': '유럽여행<b>가방</b> 핸드폰 탬버린<b>백</b> 조개<b>가방</b> 해외여행용 크로스 나일론 미니<b>백</b> 타코', 'link': 'https://search.shopping.naver.com/gate.nhn?id=86202310377', 'image': 'https://shopping-phinf.pstatic.net/main_8620231/86202310377.4.jpg', 'lprice': '19300', 'hprice': '', 'mallName': '론네바이론', 'productId': '86202310377', 'productType': '2', 'brand': '', 'maker': '', 'category1': '패션잡화', 'category2': '여성가방', 'category3': '크로스백', 'category4': ''}\n",
      "========================================================================================================================\n",
      "{'title': '민티즈 럭스체인 숄더<b>백</b> 여성 가죽 <b>가방</b> 호보<b>백</b> 락플랩 실버 숄더<b>백</b>', 'link': 'https://search.shopping.naver.com/gate.nhn?id=87495052312', 'image': 'https://shopping-phinf.pstatic.net/main_8749505/87495052312.3.jpg', 'lprice': '29800', 'hprice': '', 'mallName': '민티즈', 'productId': '87495052312', 'productType': '2', 'brand': '', 'maker': '', 'category1': '패션잡화', 'category2': '여성가방', 'category3': '숄더백', 'category4': ''}\n",
      "========================================================================================================================\n",
      "{'title': '캉골 크로스<b>백</b> 24년 브로치 곰돌이 키링 X088', 'link': 'https://search.shopping.naver.com/gate.nhn?id=87444264615', 'image': 'https://shopping-phinf.pstatic.net/main_8744426/87444264615.jpg', 'lprice': '28000', 'hprice': '', 'mallName': '엔제이박스', 'productId': '87444264615', 'productType': '2', 'brand': '', 'maker': '', 'category1': '패션잡화', 'category2': '여성가방', 'category3': '크로스백', 'category4': ''}\n",
      "========================================================================================================================\n",
      "{'title': '드래곤디퓨전 트리플점프 미니플랫고라 폼폼 드래곤<b>백</b>', 'link': 'https://search.shopping.naver.com/gate.nhn?id=81965790372', 'image': 'https://shopping-phinf.pstatic.net/main_8196579/81965790372.5.jpg', 'lprice': '239000', 'hprice': '', 'mallName': '비마이플레져', 'productId': '81965790372', 'productType': '2', 'brand': '드래곤디퓨전', 'maker': '드래곤디퓨전', 'category1': '패션잡화', 'category2': '여성가방', 'category3': '토트백', 'category4': ''}\n",
      "========================================================================================================================\n",
      "{'title': '[국내오늘출고]코스 COS 퀼티드 미니<b>백</b> 구름<b>백</b> 오버사이즈 초미니마이크로 식빵 보부상', 'link': 'https://search.shopping.naver.com/gate.nhn?id=84619128657', 'image': 'https://shopping-phinf.pstatic.net/main_8461912/84619128657.2.jpg', 'lprice': '40800', 'hprice': '', 'mallName': '챠밍논', 'productId': '84619128657', 'productType': '2', 'brand': 'COS', 'maker': '코스', 'category1': '패션잡화', 'category2': '여성가방', 'category3': '숄더백', 'category4': ''}\n",
      "========================================================================================================================\n",
      "{'title': '[국내<b>백</b>화점] 롱샴 르플리아쥬 미니파우치 라지 스몰 미듐 기저귀<b>가방</b> 숄더 미니<b>백</b> 오리지널', 'link': 'https://search.shopping.naver.com/gate.nhn?id=86985051689', 'image': 'https://shopping-phinf.pstatic.net/main_8698505/86985051689.7.jpg', 'lprice': '188000', 'hprice': '', 'mallName': '덴뷰', 'productId': '86985051689', 'productType': '2', 'brand': '롱샴', 'maker': '롱샴', 'category1': '패션잡화', 'category2': '여성가방', 'category3': '토트백', 'category4': ''}\n",
      "========================================================================================================================\n",
      "{'title': '오주코 스마트 대형 여행용 <b>백</b>팩 대용량 17인치 20인치 직장인 여행 출장 빅사이즈 배낭', 'link': 'https://search.shopping.naver.com/gate.nhn?id=82371516080', 'image': 'https://shopping-phinf.pstatic.net/main_8237151/82371516080.5.jpg', 'lprice': '23690', 'hprice': '', 'mallName': '아이백스', 'productId': '82371516080', 'productType': '2', 'brand': '오주코', 'maker': '', 'category1': '패션잡화', 'category2': '남성가방', 'category3': '백팩', 'category4': ''}\n",
      "========================================================================================================================\n"
     ]
    }
   ],
   "source": [
    "searchText = input('검색어 입력: ')\n",
    "targetSite = 'https://openapi.naver.com/v1/search/shop.json?query=' + searchText\n",
    "response = requests.get(targetSite, headers=headers)\n",
    "searchResult = response.json()\n",
    "items = searchResult['items']\n",
    "for item in items:\n",
    "    print('{}'.format(item), end='\\n' + '=' * 120 + '\\n')"
   ]
  },
  {
   "cell_type": "markdown",
   "id": "73ea0204",
   "metadata": {},
   "source": [
    "전문 정보 검색"
   ]
  },
  {
   "cell_type": "code",
   "execution_count": 20,
   "id": "45d4b5eb",
   "metadata": {
    "scrolled": true
   },
   "outputs": [
    {
     "name": "stdout",
     "output_type": "stream",
     "text": [
      "검색어 입력: LSTM\n",
      "{'title': '<b>LSTM</b>: A Search Space Odyssey.', 'link': 'http://academic.naver.com/article.naver?doc_id=443825307', 'description': ' Several variants of the long short-term memory (<b>LSTM</b>) architecture for recurrent neural networks have been proposed since its inceptio'}\n",
      "========================================================================================================================\n",
      "{'title': 'Fundamentals of Recurrent Neural Network (RNN) and Long Short-Term Memory (<b>LSTM</b>) network', 'link': 'http://academic.naver.com/article.naver?doc_id=605255212', 'description': ' Abstract Because of their effectiveness in broad practical applications, <b>LSTM</b> networks have received a wealth of coverage in scientifi'}\n",
      "========================================================================================================================\n",
      "{'title': '<b>LSTM</b> network: a deep learning approach for short-term traffic forecast', 'link': 'http://academic.naver.com/article.naver?doc_id=517935965', 'description': ' Short‐term traffic forecast is one of the essential issues in intelligent transportation system. Accurate forecast result enables co'}\n",
      "========================================================================================================================\n",
      "{'title': 'Deep Convolutional and <b>LSTM</b> Recurrent Neural Networks for Multimodal Wearable Activity Recogniti', 'link': 'http://academic.naver.com/article.naver?doc_id=182032162', 'description': ' Human activity recognition (HAR) tasks have traditionally been solved using engineered features obtained by heuristic processes. Curre'}\n",
      "========================================================================================================================\n",
      "{'title': 'Developing a Long Short-Term Memory (<b>LSTM</b>) based model for predicting water table depth in agric', 'link': 'http://academic.naver.com/article.naver?doc_id=561063510', 'description': ' •A new model based on <b>LSTM</b> is developed for predicting water table depth.•Only a very simple data pre-processing method is require'}\n",
      "========================================================================================================================\n",
      "{'title': 'Speech emotion recognition using deep 1D &amp; 2D CNN <b>LSTM</b> networks', 'link': 'http://academic.naver.com/article.naver?doc_id=500183983', 'description': ' AbstractWe aimed at learning deep emotion features to recognize speech emotion. Two convolutional neural network and long short-term m'}\n",
      "========================================================================================================================\n",
      "{'title': 'Framewise phoneme classification with bidirectional <b>LSTM</b> and other neural network architectures', 'link': 'http://academic.naver.com/article.naver?doc_id=143598815', 'description': ' In this paper, we present bidirectional Long Short Term Memory (<b>LSTM</b>) networks, and a modified, full gradient version of the <b>LSTM</b> lear'}\n",
      "========================================================================================================================\n",
      "{'title': 'A Review of Recurrent Neural Networks: <b>LSTM</b> Cells and Network Architectures', 'link': 'http://academic.naver.com/article.naver?doc_id=560760830', 'description': ' Recurrent neural networks (RNNs) have been widely adopted in research areas concerned with sequential data, such as text, audio, and v'}\n",
      "========================================================================================================================\n",
      "{'title': 'Forecasting the volatility of stock price index: A hybrid model integrating <b>LSTM</b> with multiple G', 'link': 'http://academic.naver.com/article.naver?doc_id=516574558', 'description': ' Highlights•A new hybrid method to integrate deep neural networks with multiple financial time series models is proposed.•Combines '}\n",
      "========================================================================================================================\n",
      "{'title': 'Named Entity Recognition with Bidirectional <b>LSTM</b>-CNNs', 'link': 'http://academic.naver.com/article.naver?doc_id=445328060', 'description': ' Named entity recognition is a challenging task that has traditionally required large amounts of knowledge in the form of feature engin'}\n",
      "========================================================================================================================\n"
     ]
    }
   ],
   "source": [
    "searchText = input('검색어 입력: ')\n",
    "targetSite = 'https://openapi.naver.com/v1/search/doc.json?query=' + searchText\n",
    "response = requests.get(targetSite, headers=headers)\n",
    "searchResult = response.json()\n",
    "items = searchResult['items']\n",
    "for item in items:\n",
    "    print('{}'.format(item), end='\\n' + '=' * 120 + '\\n')"
   ]
  },
  {
   "cell_type": "markdown",
   "id": "825c8457",
   "metadata": {},
   "source": [
    "성인 검색어 판별  \n",
    "성인 검색어 판별 결과: '0' - 일반 검색어, '1' => 성인 검색어"
   ]
  },
  {
   "cell_type": "code",
   "execution_count": 27,
   "id": "fe3554f5",
   "metadata": {},
   "outputs": [
    {
     "name": "stdout",
     "output_type": "stream",
     "text": [
      "검색어 입력: 야동\n",
      "야동(은)는 성인 검색어 입니다.\n"
     ]
    }
   ],
   "source": [
    "searchText = input('검색어 입력: ')\n",
    "targetSite = 'https://openapi.naver.com/v1/search/adult.json?query=' + searchText\n",
    "response = requests.get(targetSite, headers=headers)\n",
    "searchResult = response.json()\n",
    "# print(searchResult['adult'])\n",
    "print('{}(은)는 {} 검색어 입니다.'.format(searchText, '일반' if searchResult['adult'] == '0' else '성인'))"
   ]
  },
  {
   "cell_type": "markdown",
   "id": "ee28907e",
   "metadata": {},
   "source": [
    "오타 변환  \n",
    "오타가 발견되면 오타를 변환한 결과를 출력하고 오타가 없으면 빈 문자열을 출력한다."
   ]
  },
  {
   "cell_type": "code",
   "execution_count": 31,
   "id": "f39d20da",
   "metadata": {},
   "outputs": [
    {
     "name": "stdout",
     "output_type": "stream",
     "text": [
      "문장 입력: 아름디운 이땅에 금수깅산에 단군 할아비지\n",
      "['아름디운', '이땅에', '금수깅산에', '단군', '할아비지']\n",
      "아름다운 이땅에 금수강산에 단군 할아버지 \n",
      "아름다운 이땅에 금수강산에 단군 할아버지\n"
     ]
    }
   ],
   "source": [
    "searchText = input('문장 입력: ').split()\n",
    "result = []\n",
    "print(searchText)\n",
    "for text in searchText:\n",
    "    targetSite = 'https://openapi.naver.com/v1/search/errata.json?query=' + text\n",
    "    response = requests.get(targetSite, headers=headers)\n",
    "    searchResult = response.json()\n",
    "    errata = searchResult['errata']\n",
    "    if errata == '':\n",
    "        print(text, end=' ')\n",
    "        result.append(text)\n",
    "    else:\n",
    "        print(errata, end=' ')\n",
    "        result.append(errata)\n",
    "print()\n",
    "print(' '.join(result))"
   ]
  },
  {
   "cell_type": "code",
   "execution_count": null,
   "id": "d5ecc83b",
   "metadata": {},
   "outputs": [],
   "source": []
  },
  {
   "cell_type": "code",
   "execution_count": null,
   "id": "74578a99",
   "metadata": {},
   "outputs": [],
   "source": []
  }
 ],
 "metadata": {
  "kernelspec": {
   "display_name": "python37",
   "language": "python",
   "name": "python37"
  },
  "language_info": {
   "codemirror_mode": {
    "name": "ipython",
    "version": 3
   },
   "file_extension": ".py",
   "mimetype": "text/x-python",
   "name": "python",
   "nbconvert_exporter": "python",
   "pygments_lexer": "ipython3",
   "version": "3.7.1"
  }
 },
 "nbformat": 4,
 "nbformat_minor": 5
}
