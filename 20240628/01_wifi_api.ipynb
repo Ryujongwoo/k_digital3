{
 "cells": [
  {
   "cell_type": "code",
   "execution_count": 1,
   "id": "f3cd5be2",
   "metadata": {},
   "outputs": [],
   "source": [
    "import warnings\n",
    "warnings.filterwarnings(action='ignore')\n",
    "%config Completer.use_jedi = False"
   ]
  },
  {
   "cell_type": "code",
   "execution_count": 2,
   "id": "f50b4b64",
   "metadata": {},
   "outputs": [],
   "source": [
    "import requests\n",
    "import json\n",
    "# conda install xmltodict\n",
    "import xmltodict # xml 데이터를 딕셔너리 형태로 변환화기 위해 import 한다."
   ]
  },
  {
   "cell_type": "markdown",
   "id": "a67a1458",
   "metadata": {},
   "source": [
    "오픈 API를 호출해서 서울시 공공와이파이 정보를 요청한다.\n",
    "\n",
    "요청 인자  \n",
    "KEY&nbsp;&nbsp;&nbsp;&nbsp;&nbsp;&nbsp;&nbsp;&nbsp;&nbsp;&nbsp;&nbsp;&nbsp;=> String(필수), 인증키, OpenAPI 에서 발급된 인증키  \n",
    "TYPE&nbsp;&nbsp;&nbsp;&nbsp;&nbsp;&nbsp;&nbsp;&nbsp;&nbsp;&nbsp;&nbsp;=> String(필수), 요청파일타입, xml : xml, xml파일 : xmlf, 엑셀파일 : xls, json파일 : json  \n",
    "SERVICE&nbsp;&nbsp;&nbsp;&nbsp;&nbsp;&nbsp;&nbsp;&nbsp;=> String(필수), 서비스명, TbPublicWifiInfo  \n",
    "START_INDEX&nbsp;&nbsp;&nbsp;&nbsp;=> INTEGER(필수), 요청시작위치, 정수 입력 (페이징 시작번호 입니다 : 데이터 행 시작번호)  \n",
    "END_INDEX&nbsp;&nbsp;&nbsp;&nbsp;&nbsp;&nbsp;=> INTEGER(필수), 요청종료위치, 정수 입력 (페이징 끝번호 입니다 : 데이터 행 끝번호)  \n",
    "X_SWIFI_WRDOFC => STRING(선택), 자치구, 자치구명  \n",
    "X_SWIFI_ADRES1 => STRING(선택), 도로명주소, 도로명 주소\n",
    "\n",
    "요청 형식  \n",
    "http://openapi.seoul.go.kr:8088/(KEY)/(TYPE)/TbPublicWifiInfo/(START_INDEX)/(END_INDEX)/(X_SWIFI_WRDOFC)/(X_SWIFI_ADRES1)\n",
    "\n",
    "오픈 API를 요청해서 XML 형태로 응답받기"
   ]
  },
  {
   "cell_type": "code",
   "execution_count": 9,
   "id": "9c0715d8",
   "metadata": {
    "scrolled": true
   },
   "outputs": [
    {
     "name": "stdout",
     "output_type": "stream",
     "text": [
      "<?xml version=\"1.0\" encoding=\"UTF-8\"?>\n",
      "<TbPublicWifiInfo>\n",
      "<list_total_count>24587</list_total_count>\n",
      "<RESULT>\n",
      "<CODE>INFO-000</CODE>\n",
      "<MESSAGE>정상 처리되었습니다</MESSAGE>\n",
      "</RESULT>\n",
      "<row>\n",
      "<X_SWIFI_MGR_NO>ARI00001</X_SWIFI_MGR_NO>\n",
      "<X_SWIFI_WRDOFC>서대문구</X_SWIFI_WRDOFC>\n",
      "<X_SWIFI_MAIN_NM>상수도사업본부</X_SWIFI_MAIN_NM>\n",
      "<X_SWIFI_ADRES1>서소문로 51</X_SWIFI_ADRES1>\n",
      "<X_SWIFI_ADRES2>본관 1F</X_SWIFI_ADRES2>\n",
      "<X_SWIFI_INSTL_FLOOR/>\n",
      "<X_SWIFI_INSTL_TY>7-1-3. 공공 - 시산하기관</X_SWIFI_INSTL_TY>\n",
      "<X_SWIFI_INSTL_MBY>서울시(AP)</X_SWIFI_INSTL_MBY>\n",
      "<X_SWIFI_SVC_SE>공공WiFi</X_SWIFI_SVC_SE>\n",
      "<X_SWIFI_CMCWR>자가망_수도사업소망</X_SWIFI_CMCWR>\n",
      "<X_SWIFI_CNSTC_YEAR>2019</X_SWIFI_CNSTC_YEAR>\n",
      "<X_SWIFI_INOUT_DOOR>실내</X_SWIFI_INOUT_DOOR>\n",
      "<X_SWIFI_REMARS3/>\n",
      "<LAT>37.561924</LAT>\n",
      "<LNT>126.96675</LNT>\n",
      "<WORK_DTTM>2024-06-27 11:12:57.0</WORK_DTTM>\n",
      "</row>\n",
      "</TbPublicWifiInfo>\n",
      "\n"
     ]
    }
   ],
   "source": [
    "targetSite = 'http://openapi.seoul.go.kr:8088/746e4968796d6b7639366763624a53/xml/TbPublicWifiInfo/1/1/'\n",
    "response = requests.get(targetSite)\n",
    "# print(response) # <Response [200]>\n",
    "# print(type(response.text)) # <class 'str'>\n",
    "print(response.text)"
   ]
  },
  {
   "cell_type": "markdown",
   "id": "1420dac9",
   "metadata": {},
   "source": [
    "응답받은 XML 형태의 문자열 데이터를 순서있는 딕셔너리로 변환한다."
   ]
  },
  {
   "cell_type": "code",
   "execution_count": 12,
   "id": "ac0974a5",
   "metadata": {},
   "outputs": [
    {
     "name": "stdout",
     "output_type": "stream",
     "text": [
      "OrderedDict([('TbPublicWifiInfo', OrderedDict([('list_total_count', '24587'), ('RESULT', OrderedDict([('CODE', 'INFO-000'), ('MESSAGE', '정상 처리되었습니다')])), ('row', OrderedDict([('X_SWIFI_MGR_NO', 'ARI00001'), ('X_SWIFI_WRDOFC', '서대문구'), ('X_SWIFI_MAIN_NM', '상수도사업본부'), ('X_SWIFI_ADRES1', '서소문로 51'), ('X_SWIFI_ADRES2', '본관 1F'), ('X_SWIFI_INSTL_FLOOR', None), ('X_SWIFI_INSTL_TY', '7-1-3. 공공 - 시산하기관'), ('X_SWIFI_INSTL_MBY', '서울시(AP)'), ('X_SWIFI_SVC_SE', '공공WiFi'), ('X_SWIFI_CMCWR', '자가망_수도사업소망'), ('X_SWIFI_CNSTC_YEAR', '2019'), ('X_SWIFI_INOUT_DOOR', '실내'), ('X_SWIFI_REMARS3', None), ('LAT', '37.561924'), ('LNT', '126.96675'), ('WORK_DTTM', '2024-06-27 11:12:57.0')]))]))])\n"
     ]
    }
   ],
   "source": [
    "wifi_dict = xmltodict.parse(response.text)\n",
    "# print(type(wifi_dict)) # <class 'collections.OrderedDict'>\n",
    "print(wifi_dict)"
   ]
  },
  {
   "cell_type": "markdown",
   "id": "f2612baf",
   "metadata": {},
   "source": [
    "XML 형태를 변환한 딕셔너리 데이터를 json 데이터로 변환한다."
   ]
  },
  {
   "cell_type": "code",
   "execution_count": 19,
   "id": "9dbbe758",
   "metadata": {
    "scrolled": true
   },
   "outputs": [
    {
     "name": "stdout",
     "output_type": "stream",
     "text": [
      "{\n",
      "  \"TbPublicWifiInfo\": {\n",
      "    \"list_total_count\": \"24587\",\n",
      "    \"RESULT\": {\n",
      "      \"CODE\": \"INFO-000\",\n",
      "      \"MESSAGE\": \"정상 처리되었습니다\"\n",
      "    },\n",
      "    \"row\": {\n",
      "      \"X_SWIFI_MGR_NO\": \"ARI00001\",\n",
      "      \"X_SWIFI_WRDOFC\": \"서대문구\",\n",
      "      \"X_SWIFI_MAIN_NM\": \"상수도사업본부\",\n",
      "      \"X_SWIFI_ADRES1\": \"서소문로 51\",\n",
      "      \"X_SWIFI_ADRES2\": \"본관 1F\",\n",
      "      \"X_SWIFI_INSTL_FLOOR\": null,\n",
      "      \"X_SWIFI_INSTL_TY\": \"7-1-3. 공공 - 시산하기관\",\n",
      "      \"X_SWIFI_INSTL_MBY\": \"서울시(AP)\",\n",
      "      \"X_SWIFI_SVC_SE\": \"공공WiFi\",\n",
      "      \"X_SWIFI_CMCWR\": \"자가망_수도사업소망\",\n",
      "      \"X_SWIFI_CNSTC_YEAR\": \"2019\",\n",
      "      \"X_SWIFI_INOUT_DOOR\": \"실내\",\n",
      "      \"X_SWIFI_REMARS3\": null,\n",
      "      \"LAT\": \"37.561924\",\n",
      "      \"LNT\": \"126.96675\",\n",
      "      \"WORK_DTTM\": \"2024-06-27 11:12:57.0\"\n",
      "    }\n",
      "  }\n",
      "}\n"
     ]
    }
   ],
   "source": [
    "# dumps() 메소드로 딕셔너리 타입의 데이터를 json 타입의 데이터로 변환한다.\n",
    "# ensure_ascii=False 옵션을 지정해서 한글 깨짐을 방지한다.\n",
    "# indent 옵션을 지정하면 지정한 인수 만큼 들여쓰기를 해서 보기좋게 만들어준다.\n",
    "wifi_json = json.dumps(wifi_dict, ensure_ascii=False, indent=2)\n",
    "# print(type(wifi_json)) # <class 'str'>\n",
    "print(wifi_json)"
   ]
  },
  {
   "cell_type": "markdown",
   "id": "ed09fcd4",
   "metadata": {},
   "source": [
    "오픈 API를 요청해서 json 형태로 응답받기"
   ]
  },
  {
   "cell_type": "code",
   "execution_count": 20,
   "id": "6c8e8ef6",
   "metadata": {},
   "outputs": [
    {
     "name": "stdout",
     "output_type": "stream",
     "text": [
      "{\"TbPublicWifiInfo\":{\"list_total_count\":24587,\"RESULT\":{\"CODE\":\"INFO-000\",\"MESSAGE\":\"정상 처리되었습니다\"},\"row\":[{\"X_SWIFI_MGR_NO\":\"ARI00001\",\"X_SWIFI_WRDOFC\":\"서대문구\",\"X_SWIFI_MAIN_NM\":\"상수도사업본부\",\"X_SWIFI_ADRES1\":\"서소문로 51\",\"X_SWIFI_ADRES2\":\"본관 1F\",\"X_SWIFI_INSTL_FLOOR\":\"\",\"X_SWIFI_INSTL_TY\":\"7-1-3. 공공 - 시산하기관\",\"X_SWIFI_INSTL_MBY\":\"서울시(AP)\",\"X_SWIFI_SVC_SE\":\"공공WiFi\",\"X_SWIFI_CMCWR\":\"자가망_수도사업소망\",\"X_SWIFI_CNSTC_YEAR\":\"2019\",\"X_SWIFI_INOUT_DOOR\":\"실내\",\"X_SWIFI_REMARS3\":\"\",\"LAT\":\"37.561924\",\"LNT\":\"126.96675\",\"WORK_DTTM\":\"2024-06-27 11:12:57.0\"}]}}\n"
     ]
    }
   ],
   "source": [
    "targetSite = 'http://openapi.seoul.go.kr:8088/746e4968796d6b7639366763624a53/json/TbPublicWifiInfo/1/1/'\n",
    "response = requests.get(targetSite)\n",
    "print(response.text)"
   ]
  },
  {
   "cell_type": "code",
   "execution_count": 22,
   "id": "ed88ae38",
   "metadata": {},
   "outputs": [
    {
     "name": "stdout",
     "output_type": "stream",
     "text": [
      "<class 'dict'>\n",
      "{'TbPublicWifiInfo': {'list_total_count': 24587, 'RESULT': {'CODE': 'INFO-000', 'MESSAGE': '정상 처리되었습니다'}, 'row': [{'X_SWIFI_MGR_NO': 'ARI00001', 'X_SWIFI_WRDOFC': '서대문구', 'X_SWIFI_MAIN_NM': '상수도사업본부', 'X_SWIFI_ADRES1': '서소문로 51', 'X_SWIFI_ADRES2': '본관 1F', 'X_SWIFI_INSTL_FLOOR': '', 'X_SWIFI_INSTL_TY': '7-1-3. 공공 - 시산하기관', 'X_SWIFI_INSTL_MBY': '서울시(AP)', 'X_SWIFI_SVC_SE': '공공WiFi', 'X_SWIFI_CMCWR': '자가망_수도사업소망', 'X_SWIFI_CNSTC_YEAR': '2019', 'X_SWIFI_INOUT_DOOR': '실내', 'X_SWIFI_REMARS3': '', 'LAT': '37.561924', 'LNT': '126.96675', 'WORK_DTTM': '2024-06-27 11:12:57.0'}]}}\n"
     ]
    }
   ],
   "source": [
    "wifi_dict = json.loads(response.text)\n",
    "print(type(wifi_dict))\n",
    "print(wifi_dict)"
   ]
  },
  {
   "cell_type": "code",
   "execution_count": 23,
   "id": "8d59f998",
   "metadata": {},
   "outputs": [
    {
     "name": "stdout",
     "output_type": "stream",
     "text": [
      "<class 'dict'>\n",
      "{'TbPublicWifiInfo': {'list_total_count': 24587, 'RESULT': {'CODE': 'INFO-000', 'MESSAGE': '정상 처리되었습니다'}, 'row': [{'X_SWIFI_MGR_NO': 'ARI00001', 'X_SWIFI_WRDOFC': '서대문구', 'X_SWIFI_MAIN_NM': '상수도사업본부', 'X_SWIFI_ADRES1': '서소문로 51', 'X_SWIFI_ADRES2': '본관 1F', 'X_SWIFI_INSTL_FLOOR': '', 'X_SWIFI_INSTL_TY': '7-1-3. 공공 - 시산하기관', 'X_SWIFI_INSTL_MBY': '서울시(AP)', 'X_SWIFI_SVC_SE': '공공WiFi', 'X_SWIFI_CMCWR': '자가망_수도사업소망', 'X_SWIFI_CNSTC_YEAR': '2019', 'X_SWIFI_INOUT_DOOR': '실내', 'X_SWIFI_REMARS3': '', 'LAT': '37.561924', 'LNT': '126.96675', 'WORK_DTTM': '2024-06-27 11:12:57.0'}]}}\n"
     ]
    }
   ],
   "source": [
    "wifi_dict = response.json()\n",
    "print(type(wifi_dict))\n",
    "print(wifi_dict)"
   ]
  },
  {
   "cell_type": "code",
   "execution_count": null,
   "id": "8255c831",
   "metadata": {},
   "outputs": [],
   "source": []
  },
  {
   "cell_type": "code",
   "execution_count": null,
   "id": "c197bb8b",
   "metadata": {},
   "outputs": [],
   "source": []
  }
 ],
 "metadata": {
  "kernelspec": {
   "display_name": "python37",
   "language": "python",
   "name": "python37"
  },
  "language_info": {
   "codemirror_mode": {
    "name": "ipython",
    "version": 3
   },
   "file_extension": ".py",
   "mimetype": "text/x-python",
   "name": "python",
   "nbconvert_exporter": "python",
   "pygments_lexer": "ipython3",
   "version": "3.7.1"
  }
 },
 "nbformat": 4,
 "nbformat_minor": 5
}
