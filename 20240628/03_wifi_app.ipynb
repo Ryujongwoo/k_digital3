{
 "cells": [
  {
   "cell_type": "code",
   "execution_count": 1,
   "id": "d70299d0",
   "metadata": {},
   "outputs": [],
   "source": [
    "import warnings\n",
    "warnings.filterwarnings(action='ignore')\n",
    "%config Completer.use_jedi = False"
   ]
  },
  {
   "cell_type": "code",
   "execution_count": 2,
   "id": "6ea48f75",
   "metadata": {},
   "outputs": [],
   "source": [
    "from datetime import datetime as dt\n",
    "import requests\n",
    "# xml 라이브러리를 이용해서 xml 문서 파싱을 하기 위해 import 한다.\n",
    "from xml.etree.ElementTree import fromstring, ElementTree\n",
    "from elasticsearch import Elasticsearch\n",
    "es = Elasticsearch('http://localhost:9200')"
   ]
  },
  {
   "cell_type": "markdown",
   "id": "4ace7a8d",
   "metadata": {},
   "source": [
    "서울시 공공와이파이 서비스 개수를 얻어온다."
   ]
  },
  {
   "cell_type": "code",
   "execution_count": 3,
   "id": "576343c7",
   "metadata": {},
   "outputs": [
    {
     "name": "stdout",
     "output_type": "stream",
     "text": [
      "2024-06-28 15:40:06.369188 현재 서울시가 제공하는 공공와이파이는 모두 24,587개 입니다.\n"
     ]
    }
   ],
   "source": [
    "targetSite = 'http://openapi.seoul.go.kr:8088/746e4968796d6b7639366763624a53/xml/TbPublicWifiInfo/1/1/'\n",
    "response = requests.get(targetSite)\n",
    "# print(response.text)\n",
    "tree = ElementTree(fromstring(response.text)) # 오픈 API가 응답한 XML을 파싱한다.\n",
    "# print(tree) # <xml.etree.ElementTree.ElementTree object at 0x000001B16D2A9828>\n",
    "root = tree.getroot() # 파싱된 XML의 root(최상단) 태그(TbPublicWifiInfo)를 얻어온다.\n",
    "# print(tree.getroot()) # <Element 'TbPublicWifiInfo' at 0x000001B16DCCEC28>\n",
    "# find('태그이름') 메소드로 파싱된 XML의 특정 태그를 얻어온다.\n",
    "count = int(root.find('list_total_count').text)\n",
    "print('{} 현재 서울시가 제공하는 공공와이파이는 모두 {:,d}개 입니다.'.format(dt.now(), count))"
   ]
  },
  {
   "cell_type": "markdown",
   "id": "55d73979",
   "metadata": {},
   "source": [
    "서울시 공공와이파이 정보를 엘라스틱서치 인덱스에 저장한다."
   ]
  },
  {
   "cell_type": "code",
   "execution_count": 4,
   "id": "81aaade1",
   "metadata": {
    "scrolled": true
   },
   "outputs": [
    {
     "name": "stdout",
     "output_type": "stream",
     "text": [
      "종료:     1,  1000\n",
      "종료:  1001,  2000\n",
      "종료:  2001,  3000\n",
      "종료:  3001,  4000\n",
      "종료:  4001,  5000\n",
      "종료:  5001,  6000\n",
      "종료:  6001,  7000\n",
      "종료:  7001,  8000\n",
      "종료:  8001,  9000\n",
      "종료:  9001, 10000\n",
      "종료: 10001, 11000\n",
      "종료: 11001, 12000\n",
      "종료: 12001, 13000\n",
      "종료: 13001, 14000\n",
      "종료: 14001, 15000\n",
      "종료: 15001, 16000\n",
      "종료: 16001, 17000\n",
      "종료: 17001, 18000\n",
      "종료: 18001, 19000\n",
      "종료: 19001, 20000\n",
      "종료: 20001, 21000\n",
      "종료: 21001, 22000\n",
      "종료: 22001, 23000\n",
      "종료: 23001, 24000\n",
      "종료: 24001, 25000\n"
     ]
    }
   ],
   "source": [
    "# 서울 열린데이터 광장에서 오픈 API를 이용해서 한 번에 얻어올 수 있는 최대 데이터의 개수는 1000개 이므로\n",
    "# 얻어오려는 데이터의 개수가 1000개를 넘는 경우 1000개씩 나눠서 오픈 API를 호출해야 한다.\n",
    "idx = 0\n",
    "for i in range(count // 1000 + 1)[:]:\n",
    "    # 오픈 API에 요청 주소를 만든다.\n",
    "    start = i * 1000 + 1\n",
    "    end = start + 999\n",
    "    # targetSite = 'http://openapi.seoul.go.kr:8088/746e4968796d6b7639366763624a53/xml/TbPublicWifiInfo/1/1/'\n",
    "    targetSite = 'http://openapi.seoul.go.kr:8088/746e4968796d6b7639366763624a53/xml/TbPublicWifiInfo/{}/{}/'.format(start, end)\n",
    "    # print(targetSite)\n",
    "    \n",
    "    # 오픈 API가 응답한 XML 데이터를 파싱한다.\n",
    "    response = requests.get(targetSite)\n",
    "    tree = ElementTree(fromstring(response.text))\n",
    "    root = tree.getroot()\n",
    "    \n",
    "    # 파싱된 XML은 <TbPublicWifiInfo> ~ </TbPublicWifiInfo> 사이에 여러개의 <row> ~ </row>로 구성되어 있다.\n",
    "    # <row> ~ </row> 사이의 모든 데이터를 반복을 수행하며 얻어와서 엘라스틱서치에 저장할 데이터를 딕셔너리로 만든다.\n",
    "    for row in root.iter('row'): # root.findall('row')\n",
    "        gu = row.find('X_SWIFI_WRDOFC').text # 구이름\n",
    "        place = row.find('X_SWIFI_MAIN_NM').text # 설치장소\n",
    "        lat = row.find('LAT').text # 위도, y좌표\n",
    "        lon = row.find('LNT').text # 경도, x좌표\n",
    "        # print(gu, place, lat, lon)\n",
    "        \n",
    "        doc = {\n",
    "            'gu': gu,\n",
    "            'place': place,\n",
    "            # geo_point(위치 정보) 타입은 위도(y좌표), 경도(x좌표)의 순서로 구성해야 한다.\n",
    "            'location': {\n",
    "                'lat': lat, # 위도\n",
    "                'lon': lon  # 경도\n",
    "            }\n",
    "        }\n",
    "        # print(doc)\n",
    "        \n",
    "        # 엘라스틱서치에 저장한다.\n",
    "        idx += 1\n",
    "        try:\n",
    "            es.index(index='seoul_wifi', id=idx, body=doc)\n",
    "        except:\n",
    "            doc = {\n",
    "                'gu': gu,\n",
    "                'place': place,\n",
    "                'location': {\n",
    "                    'lat': lon,\n",
    "                    'lon': lat\n",
    "                }\n",
    "            }\n",
    "            es.index(index='seoul_wifi', id=idx, body=doc)\n",
    "    # ===== for row\n",
    "    print('종료: {:5d}, {:5d}'.format(start, end))"
   ]
  },
  {
   "cell_type": "code",
   "execution_count": null,
   "id": "20cdc2c9",
   "metadata": {},
   "outputs": [],
   "source": []
  },
  {
   "cell_type": "code",
   "execution_count": null,
   "id": "b1123dbc",
   "metadata": {},
   "outputs": [],
   "source": []
  }
 ],
 "metadata": {
  "kernelspec": {
   "display_name": "python37",
   "language": "python",
   "name": "python37"
  },
  "language_info": {
   "codemirror_mode": {
    "name": "ipython",
    "version": 3
   },
   "file_extension": ".py",
   "mimetype": "text/x-python",
   "name": "python",
   "nbconvert_exporter": "python",
   "pygments_lexer": "ipython3",
   "version": "3.7.1"
  }
 },
 "nbformat": 4,
 "nbformat_minor": 5
}
