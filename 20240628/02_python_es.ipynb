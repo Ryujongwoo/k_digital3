{
 "cells": [
  {
   "cell_type": "code",
   "execution_count": 1,
   "id": "6d7d8b9e",
   "metadata": {},
   "outputs": [],
   "source": [
    "import warnings\n",
    "warnings.filterwarnings(action='ignore')\n",
    "%config Completer.use_jedi = False"
   ]
  },
  {
   "cell_type": "code",
   "execution_count": 2,
   "id": "0449d56d",
   "metadata": {},
   "outputs": [],
   "source": [
    "# conda install elasticsearch\n",
    "from elasticsearch import Elasticsearch # 파이썬에서 elasticsearch와 연동하기 위해서 import 한다."
   ]
  },
  {
   "cell_type": "markdown",
   "id": "369795ad",
   "metadata": {},
   "source": [
    "파이썬에서 엘라스틱서치와 연동하기"
   ]
  },
  {
   "cell_type": "code",
   "execution_count": 5,
   "id": "7ba6b772",
   "metadata": {},
   "outputs": [],
   "source": [
    "# Elasticsearch 객체의 인수로 엘라스틱서치 설치 경로를 넘겨 연동한다.\n",
    "es = Elasticsearch('http://localhost:9200')"
   ]
  },
  {
   "cell_type": "markdown",
   "id": "c5c36dad",
   "metadata": {},
   "source": [
    "파이썬에서 엘라스틱서치 인덱스에 데이터를 저장한다.\n",
    "\n",
    "PUT python_index/_doc/1  \n",
    "{  \n",
    "&nbsp;&nbsp;\"name\": \"kim\",  \n",
    "&nbsp;&nbsp;\"age\": 25  \n",
    "}"
   ]
  },
  {
   "cell_type": "code",
   "execution_count": 10,
   "id": "dbc25599",
   "metadata": {},
   "outputs": [
    {
     "name": "stdout",
     "output_type": "stream",
     "text": [
      "<class 'dict'>\n",
      "{'name': 'kim', 'age': 25}\n",
      "{'_index': 'python_index', '_type': '_doc', '_id': '1', '_version': 4, 'result': 'updated', '_shards': {'total': 2, 'successful': 1, 'failed': 0}, '_seq_no': 3, '_primary_term': 1}\n"
     ]
    }
   ],
   "source": [
    "# elasticsearch에 저장할 데이터를 딕셔너리 형태로 만든다.\n",
    "doc = {\n",
    "    'name': 'kim', \n",
    "    'age': 25\n",
    "}\n",
    "print(type(doc))\n",
    "print(doc)\n",
    "\n",
    "# index() 메소드로 엘라스틱서치에 데이터를 저장한다.\n",
    "# index(index='데이터를 저장할 인덱스 이름', id=아이디, body=저장할데이터)\n",
    "response = es.index(index='python_index', id=1, body=doc)\n",
    "print(response)"
   ]
  },
  {
   "cell_type": "markdown",
   "id": "fd1853ab",
   "metadata": {},
   "source": [
    "파이썬에서 엘라스틱서치 인덱스에 쿼리를 실행한다.\n",
    "\n",
    "GET python_index/_search  \n",
    "{  \n",
    "&nbsp;&nbsp;\"_source\": [\"name\"],  \n",
    "&nbsp;&nbsp;\"size\": 1,  \n",
    "&nbsp;&nbsp;\"query\": {  \n",
    "&nbsp;&nbsp;&nbsp;&nbsp;\"match\": {  \n",
    "&nbsp;&nbsp;&nbsp;&nbsp;&nbsp;&nbsp;\"name\": \"kim\"  \n",
    "&nbsp;&nbsp;&nbsp;&nbsp;}  \n",
    "&nbsp;&nbsp;}  \n",
    "}"
   ]
  },
  {
   "cell_type": "code",
   "execution_count": 14,
   "id": "cd1103ce",
   "metadata": {},
   "outputs": [
    {
     "name": "stdout",
     "output_type": "stream",
     "text": [
      "<class 'dict'>\n",
      "{'_source': ['name'], 'size': 1, 'query': {'match': {'name': 'kim'}}}\n",
      "{'took': 1, 'timed_out': False, '_shards': {'total': 1, 'successful': 1, 'skipped': 0, 'failed': 0}, 'hits': {'total': {'value': 1, 'relation': 'eq'}, 'max_score': 0.2876821, 'hits': [{'_index': 'python_index', '_type': '_doc', '_id': '1', '_score': 0.2876821, '_source': {'name': 'kim'}}]}}\n"
     ]
    }
   ],
   "source": [
    "# elasticsearch에서 실행할 쿼리를 딕셔너리 형태로 만든다.\n",
    "query = {\n",
    "  \"_source\": [\"name\"],\n",
    "  \"size\": 1,\n",
    "  \"query\": {\n",
    "    \"match\": {\n",
    "      \"name\": \"kim\"\n",
    "    }\n",
    "  }\n",
    "}\n",
    "print(type(query))\n",
    "print(query)\n",
    "\n",
    "# search() 메소드로 엘라스틱서치에서 쿼리를 실행한다.\n",
    "# search(index='쿼리를 실행할 인덱스 이름', body=실행할쿼리)\n",
    "response = es.search(index='python_index', body=query)\n",
    "print(response)"
   ]
  },
  {
   "cell_type": "code",
   "execution_count": 15,
   "id": "6ea04333",
   "metadata": {},
   "outputs": [
    {
     "name": "stdout",
     "output_type": "stream",
     "text": [
      "<class 'dict'>\n",
      "{'_source': ['name'], 'size': 1, 'query': {'term': {'name.keyword': 'kim'}}}\n",
      "{'took': 0, 'timed_out': False, '_shards': {'total': 1, 'successful': 1, 'skipped': 0, 'failed': 0}, 'hits': {'total': {'value': 1, 'relation': 'eq'}, 'max_score': 0.2876821, 'hits': [{'_index': 'python_index', '_type': '_doc', '_id': '1', '_score': 0.2876821, '_source': {'name': 'kim'}}]}}\n"
     ]
    }
   ],
   "source": [
    "query = {\n",
    "  \"_source\": [\"name\"],\n",
    "  \"size\": 1,\n",
    "  \"query\": {\n",
    "    \"term\": {\n",
    "      \"name.keyword\": \"kim\"\n",
    "    }\n",
    "  }\n",
    "}\n",
    "response = es.search(index='python_index', body=query)\n",
    "print(response)"
   ]
  },
  {
   "cell_type": "code",
   "execution_count": 16,
   "id": "125e87b6",
   "metadata": {},
   "outputs": [
    {
     "name": "stdout",
     "output_type": "stream",
     "text": [
      "{'took': 1, 'timed_out': False, '_shards': {'total': 1, 'successful': 1, 'skipped': 0, 'failed': 0}, 'hits': {'total': {'value': 271, 'relation': 'eq'}, 'max_score': 3.8733473, 'hits': [{'_index': 'kibana_sample_data_flights', '_type': '_doc', '_id': 'vIrJSJAB8_pWq3sBLMc4', '_score': 3.8733473, '_source': {'OriginCityName': 'Seoul', 'DestCityName': 'Chitose / Tomakomai'}}, {'_index': 'kibana_sample_data_flights', '_type': '_doc', '_id': 'zYrJSJAB8_pWq3sBLMc4', '_score': 3.8733473, '_source': {'OriginCityName': 'Seoul', 'DestCityName': 'Chitose / Tomakomai'}}, {'_index': 'kibana_sample_data_flights', '_type': '_doc', '_id': '-IrJSJAB8_pWq3sBLMc4', '_score': 3.8733473, '_source': {'OriginCityName': 'Seoul', 'DestCityName': 'Rome'}}, {'_index': 'kibana_sample_data_flights', '_type': '_doc', '_id': '_YrJSJAB8_pWq3sBLMc4', '_score': 3.8733473, '_source': {'OriginCityName': 'Seoul', 'DestCityName': 'Chitose / Tomakomai'}}, {'_index': 'kibana_sample_data_flights', '_type': '_doc', '_id': 'CIrJSJAB8_pWq3sBLMg4', '_score': 3.8733473, '_source': {'OriginCityName': 'Seoul', 'DestCityName': 'Toronto'}}, {'_index': 'kibana_sample_data_flights', '_type': '_doc', '_id': 'jorJSJAB8_pWq3sBLMg4', '_score': 3.8733473, '_source': {'OriginCityName': 'Seoul', 'DestCityName': 'Tokyo'}}, {'_index': 'kibana_sample_data_flights', '_type': '_doc', '_id': 'kIrJSJAB8_pWq3sBLMg4', '_score': 3.8733473, '_source': {'OriginCityName': 'Seoul', 'DestCityName': 'Moscow'}}, {'_index': 'kibana_sample_data_flights', '_type': '_doc', '_id': 'zYrJSJAB8_pWq3sBLMg4', '_score': 3.8733473, '_source': {'OriginCityName': 'Seoul', 'DestCityName': 'Jeju City'}}, {'_index': 'kibana_sample_data_flights', '_type': '_doc', '_id': 'ForJSJAB8_pWq3sBLMk4', '_score': 3.8733473, '_source': {'OriginCityName': 'Seoul', 'DestCityName': 'Toronto'}}, {'_index': 'kibana_sample_data_flights', '_type': '_doc', '_id': 'QIrJSJAB8_pWq3sBLMmL', '_score': 3.8733473, '_source': {'OriginCityName': 'Seoul', 'DestCityName': 'Vienna'}}]}}\n"
     ]
    }
   ],
   "source": [
    "query = {\n",
    "  \"_source\": [\"OriginCityName\", \"DestCityName\"],\n",
    "  \"size\": 10,\n",
    "  \"query\": {\n",
    "    \"term\": {\n",
    "      \"OriginCityName\": {\n",
    "        \"value\": \"Seoul\"\n",
    "      }\n",
    "    }\n",
    "  }\n",
    "}\n",
    "response = es.search(index='kibana_sample_data_flights', body=query)\n",
    "print(response)"
   ]
  },
  {
   "cell_type": "code",
   "execution_count": null,
   "id": "a8bdfcd9",
   "metadata": {},
   "outputs": [],
   "source": []
  },
  {
   "cell_type": "code",
   "execution_count": null,
   "id": "a34b95e5",
   "metadata": {},
   "outputs": [],
   "source": []
  }
 ],
 "metadata": {
  "kernelspec": {
   "display_name": "python37",
   "language": "python",
   "name": "python37"
  },
  "language_info": {
   "codemirror_mode": {
    "name": "ipython",
    "version": 3
   },
   "file_extension": ".py",
   "mimetype": "text/x-python",
   "name": "python",
   "nbconvert_exporter": "python",
   "pygments_lexer": "ipython3",
   "version": "3.7.1"
  }
 },
 "nbformat": 4,
 "nbformat_minor": 5
}
